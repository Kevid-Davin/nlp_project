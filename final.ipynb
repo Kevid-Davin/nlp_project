{
 "cells": [
  {
   "cell_type": "markdown",
   "metadata": {},
   "source": [
    "# Github NLP Project"
   ]
  },
  {
   "cell_type": "markdown",
   "metadata": {},
   "source": [
    "#### For this project, we scrape data from GitHub repository README files. Our goal is  to build a model that can predict what programming language a repository is, given the text of the README file.\n",
    "\n",
    "#### Our repositories come from a Github search for \"advent of code\". Advent of code is an annual coding challenge completed by many people in a variety of languages. "
   ]
  },
  {
   "cell_type": "markdown",
   "metadata": {},
   "source": [
    "- [Acquire](#Acquire)\n",
    "- [Prepare](#Prepare)\n",
    "- [Explore](#Explore)\n",
    "- [Model](#Model)\n",
    "   - [Model 1: Logistic Regression](#Model-1:-Logistic-Regression)\n",
    "   - [Model 2: Decision Tree](#Model-2:-Decision-Tree)\n",
    "   - [Model 3: Random Forest](#Model-3:-Random-Forest)\n",
    "   - [Model 4: K-Nearest Neighbors](#Model-4:-K-Nearest-Neighbors)\n",
    "   - [Testing our Best Model](#Testing-our-Best-Model)"
   ]
  },
  {
   "cell_type": "code",
   "execution_count": 1,
   "metadata": {},
   "outputs": [],
   "source": [
    "###############################################################################\n",
    "### pthon imports                                                           ###\n",
    "###############################################################################\n",
    "\n",
    "from os import path\n",
    "from requests import get\n",
    "from bs4 import BeautifulSoup\n",
    "import os\n",
    "import pandas as pd\n",
    "import numpy as np\n",
    "import re\n",
    "import unicodedata\n",
    "import nltk\n",
    "from nltk.tokenize.toktok import ToktokTokenizer\n",
    "from nltk.corpus import stopwords\n",
    "import matplotlib.pyplot as plt\n",
    "import seaborn as sns\n",
    "from sklearn.model_selection import train_test_split\n",
    "from sklearn.linear_model import LogisticRegression\n",
    "from sklearn.tree import DecisionTreeClassifier\n",
    "from sklearn.ensemble import RandomForestClassifier\n",
    "from sklearn.neighbors import KNeighborsClassifier\n",
    "from sklearn.metrics import classification_report, accuracy_score\n",
    "from sklearn.feature_extraction.text import TfidfVectorizer\n",
    "import warnings\n",
    "warnings.filterwarnings(\"ignore\")"
   ]
  },
  {
   "cell_type": "markdown",
   "metadata": {},
   "source": [
    "# Acquire"
   ]
  },
  {
   "cell_type": "code",
   "execution_count": 2,
   "metadata": {},
   "outputs": [],
   "source": [
    "###############################################################################\n",
    "### local imports                                                           ###\n",
    "###############################################################################\n",
    "\n",
    "from acquire import make_soup_gitsearch\n",
    "from acquire import get_repo_urls_from_gitsearch\n",
    "from acquire import get_repos_from_url_list\n",
    "from acquire import get_subrepos_from_readmes\n",
    "from acquire import merge_repo_list\n",
    "from acquire import scrape_github_data\n",
    "from acquire import process_scraped_repos\n",
    "from acquire import output_processed_repos"
   ]
  },
  {
   "cell_type": "markdown",
   "metadata": {},
   "source": [
    "Acquire code can be found [here](https://github.com/Kevid-Davin/nlp_project/blob/master/acquire.py)"
   ]
  },
  {
   "cell_type": "markdown",
   "metadata": {},
   "source": [
    "### Obtain search results from GitHub"
   ]
  },
  {
   "cell_type": "code",
   "execution_count": 3,
   "metadata": {},
   "outputs": [
    {
     "data": {
      "text/html": [
       "<div>\n",
       "<style scoped>\n",
       "    .dataframe tbody tr th:only-of-type {\n",
       "        vertical-align: middle;\n",
       "    }\n",
       "\n",
       "    .dataframe tbody tr th {\n",
       "        vertical-align: top;\n",
       "    }\n",
       "\n",
       "    .dataframe thead th {\n",
       "        text-align: right;\n",
       "    }\n",
       "</style>\n",
       "<table border=\"1\" class=\"dataframe\">\n",
       "  <thead>\n",
       "    <tr style=\"text-align: right;\">\n",
       "      <th></th>\n",
       "      <th>soup</th>\n",
       "      <th>page</th>\n",
       "      <th>url</th>\n",
       "      <th>file_name</th>\n",
       "    </tr>\n",
       "  </thead>\n",
       "  <tbody>\n",
       "    <tr>\n",
       "      <th>0</th>\n",
       "      <td>&lt;html&gt;&lt;body&gt;&lt;a class=\"v-align-middle\" data-hyd...</td>\n",
       "      <td>1</td>\n",
       "      <td>https://github.com/search?o=desc&amp;p=1&amp;q=advent+...</td>\n",
       "      <td>soupfiles/gitsearch01.txt</td>\n",
       "    </tr>\n",
       "    <tr>\n",
       "      <th>1</th>\n",
       "      <td>&lt;html&gt;&lt;body&gt;&lt;a class=\"v-align-middle\" data-hyd...</td>\n",
       "      <td>2</td>\n",
       "      <td>https://github.com/search?o=desc&amp;p=2&amp;q=advent+...</td>\n",
       "      <td>soupfiles/gitsearch02.txt</td>\n",
       "    </tr>\n",
       "    <tr>\n",
       "      <th>2</th>\n",
       "      <td>&lt;html&gt;&lt;body&gt;&lt;a class=\"v-align-middle\" data-hyd...</td>\n",
       "      <td>3</td>\n",
       "      <td>https://github.com/search?o=desc&amp;p=3&amp;q=advent+...</td>\n",
       "      <td>soupfiles/gitsearch03.txt</td>\n",
       "    </tr>\n",
       "    <tr>\n",
       "      <th>3</th>\n",
       "      <td>&lt;html&gt;&lt;body&gt;&lt;a class=\"v-align-middle\" data-hyd...</td>\n",
       "      <td>4</td>\n",
       "      <td>https://github.com/search?o=desc&amp;p=4&amp;q=advent+...</td>\n",
       "      <td>soupfiles/gitsearch04.txt</td>\n",
       "    </tr>\n",
       "    <tr>\n",
       "      <th>4</th>\n",
       "      <td>&lt;html&gt;&lt;body&gt;&lt;a class=\"v-align-middle\" data-hyd...</td>\n",
       "      <td>5</td>\n",
       "      <td>https://github.com/search?o=desc&amp;p=5&amp;q=advent+...</td>\n",
       "      <td>soupfiles/gitsearch05.txt</td>\n",
       "    </tr>\n",
       "    <tr>\n",
       "      <th>5</th>\n",
       "      <td>&lt;html&gt;&lt;body&gt;&lt;a class=\"v-align-middle\" data-hyd...</td>\n",
       "      <td>6</td>\n",
       "      <td>https://github.com/search?o=desc&amp;p=6&amp;q=advent+...</td>\n",
       "      <td>soupfiles/gitsearch06.txt</td>\n",
       "    </tr>\n",
       "    <tr>\n",
       "      <th>6</th>\n",
       "      <td>&lt;html&gt;&lt;body&gt;&lt;a class=\"v-align-middle\" data-hyd...</td>\n",
       "      <td>7</td>\n",
       "      <td>https://github.com/search?o=desc&amp;p=7&amp;q=advent+...</td>\n",
       "      <td>soupfiles/gitsearch07.txt</td>\n",
       "    </tr>\n",
       "    <tr>\n",
       "      <th>7</th>\n",
       "      <td>&lt;html&gt;&lt;body&gt;&lt;a class=\"v-align-middle\" data-hyd...</td>\n",
       "      <td>8</td>\n",
       "      <td>https://github.com/search?o=desc&amp;p=8&amp;q=advent+...</td>\n",
       "      <td>soupfiles/gitsearch08.txt</td>\n",
       "    </tr>\n",
       "    <tr>\n",
       "      <th>8</th>\n",
       "      <td>&lt;html&gt;&lt;body&gt;&lt;a class=\"v-align-middle\" data-hyd...</td>\n",
       "      <td>9</td>\n",
       "      <td>https://github.com/search?o=desc&amp;p=9&amp;q=advent+...</td>\n",
       "      <td>soupfiles/gitsearch09.txt</td>\n",
       "    </tr>\n",
       "    <tr>\n",
       "      <th>9</th>\n",
       "      <td>&lt;html&gt;&lt;body&gt;&lt;a class=\"v-align-middle\" data-hyd...</td>\n",
       "      <td>10</td>\n",
       "      <td>https://github.com/search?o=desc&amp;p=10&amp;q=advent...</td>\n",
       "      <td>soupfiles/gitsearch10.txt</td>\n",
       "    </tr>\n",
       "    <tr>\n",
       "      <th>10</th>\n",
       "      <td>&lt;html&gt;&lt;body&gt;&lt;a class=\"v-align-middle\" data-hyd...</td>\n",
       "      <td>11</td>\n",
       "      <td>https://github.com/search?o=desc&amp;p=11&amp;q=advent...</td>\n",
       "      <td>soupfiles/gitsearch11.txt</td>\n",
       "    </tr>\n",
       "    <tr>\n",
       "      <th>11</th>\n",
       "      <td>&lt;html&gt;&lt;body&gt;&lt;a class=\"v-align-middle\" data-hyd...</td>\n",
       "      <td>12</td>\n",
       "      <td>https://github.com/search?o=desc&amp;p=12&amp;q=advent...</td>\n",
       "      <td>soupfiles/gitsearch12.txt</td>\n",
       "    </tr>\n",
       "    <tr>\n",
       "      <th>12</th>\n",
       "      <td>&lt;html&gt;&lt;body&gt;&lt;a class=\"v-align-middle\" data-hyd...</td>\n",
       "      <td>13</td>\n",
       "      <td>https://github.com/search?o=desc&amp;p=13&amp;q=advent...</td>\n",
       "      <td>soupfiles/gitsearch13.txt</td>\n",
       "    </tr>\n",
       "    <tr>\n",
       "      <th>13</th>\n",
       "      <td>&lt;html&gt;&lt;body&gt;&lt;a class=\"v-align-middle\" data-hyd...</td>\n",
       "      <td>14</td>\n",
       "      <td>https://github.com/search?o=desc&amp;p=14&amp;q=advent...</td>\n",
       "      <td>soupfiles/gitsearch14.txt</td>\n",
       "    </tr>\n",
       "    <tr>\n",
       "      <th>14</th>\n",
       "      <td>&lt;html&gt;&lt;body&gt;&lt;a class=\"v-align-middle\" data-hyd...</td>\n",
       "      <td>15</td>\n",
       "      <td>https://github.com/search?o=desc&amp;p=15&amp;q=advent...</td>\n",
       "      <td>soupfiles/gitsearch15.txt</td>\n",
       "    </tr>\n",
       "    <tr>\n",
       "      <th>15</th>\n",
       "      <td>&lt;html&gt;&lt;body&gt;&lt;a class=\"v-align-middle\" data-hyd...</td>\n",
       "      <td>16</td>\n",
       "      <td>https://github.com/search?o=desc&amp;p=16&amp;q=advent...</td>\n",
       "      <td>soupfiles/gitsearch16.txt</td>\n",
       "    </tr>\n",
       "    <tr>\n",
       "      <th>16</th>\n",
       "      <td>&lt;html&gt;&lt;body&gt;&lt;a class=\"v-align-middle\" data-hyd...</td>\n",
       "      <td>17</td>\n",
       "      <td>https://github.com/search?o=desc&amp;p=17&amp;q=advent...</td>\n",
       "      <td>soupfiles/gitsearch17.txt</td>\n",
       "    </tr>\n",
       "    <tr>\n",
       "      <th>17</th>\n",
       "      <td>&lt;html&gt;&lt;body&gt;&lt;a class=\"v-align-middle\" data-hyd...</td>\n",
       "      <td>18</td>\n",
       "      <td>https://github.com/search?o=desc&amp;p=18&amp;q=advent...</td>\n",
       "      <td>soupfiles/gitsearch18.txt</td>\n",
       "    </tr>\n",
       "    <tr>\n",
       "      <th>18</th>\n",
       "      <td>&lt;html&gt;&lt;body&gt;&lt;a class=\"v-align-middle\" data-hyd...</td>\n",
       "      <td>19</td>\n",
       "      <td>https://github.com/search?o=desc&amp;p=19&amp;q=advent...</td>\n",
       "      <td>soupfiles/gitsearch19.txt</td>\n",
       "    </tr>\n",
       "    <tr>\n",
       "      <th>19</th>\n",
       "      <td>&lt;html&gt;&lt;body&gt;&lt;a class=\"v-align-middle\" data-hyd...</td>\n",
       "      <td>20</td>\n",
       "      <td>https://github.com/search?o=desc&amp;p=20&amp;q=advent...</td>\n",
       "      <td>soupfiles/gitsearch20.txt</td>\n",
       "    </tr>\n",
       "  </tbody>\n",
       "</table>\n",
       "</div>"
      ],
      "text/plain": [
       "                                                 soup page  \\\n",
       "0   <html><body><a class=\"v-align-middle\" data-hyd...    1   \n",
       "1   <html><body><a class=\"v-align-middle\" data-hyd...    2   \n",
       "2   <html><body><a class=\"v-align-middle\" data-hyd...    3   \n",
       "3   <html><body><a class=\"v-align-middle\" data-hyd...    4   \n",
       "4   <html><body><a class=\"v-align-middle\" data-hyd...    5   \n",
       "5   <html><body><a class=\"v-align-middle\" data-hyd...    6   \n",
       "6   <html><body><a class=\"v-align-middle\" data-hyd...    7   \n",
       "7   <html><body><a class=\"v-align-middle\" data-hyd...    8   \n",
       "8   <html><body><a class=\"v-align-middle\" data-hyd...    9   \n",
       "9   <html><body><a class=\"v-align-middle\" data-hyd...   10   \n",
       "10  <html><body><a class=\"v-align-middle\" data-hyd...   11   \n",
       "11  <html><body><a class=\"v-align-middle\" data-hyd...   12   \n",
       "12  <html><body><a class=\"v-align-middle\" data-hyd...   13   \n",
       "13  <html><body><a class=\"v-align-middle\" data-hyd...   14   \n",
       "14  <html><body><a class=\"v-align-middle\" data-hyd...   15   \n",
       "15  <html><body><a class=\"v-align-middle\" data-hyd...   16   \n",
       "16  <html><body><a class=\"v-align-middle\" data-hyd...   17   \n",
       "17  <html><body><a class=\"v-align-middle\" data-hyd...   18   \n",
       "18  <html><body><a class=\"v-align-middle\" data-hyd...   19   \n",
       "19  <html><body><a class=\"v-align-middle\" data-hyd...   20   \n",
       "\n",
       "                                                  url  \\\n",
       "0   https://github.com/search?o=desc&p=1&q=advent+...   \n",
       "1   https://github.com/search?o=desc&p=2&q=advent+...   \n",
       "2   https://github.com/search?o=desc&p=3&q=advent+...   \n",
       "3   https://github.com/search?o=desc&p=4&q=advent+...   \n",
       "4   https://github.com/search?o=desc&p=5&q=advent+...   \n",
       "5   https://github.com/search?o=desc&p=6&q=advent+...   \n",
       "6   https://github.com/search?o=desc&p=7&q=advent+...   \n",
       "7   https://github.com/search?o=desc&p=8&q=advent+...   \n",
       "8   https://github.com/search?o=desc&p=9&q=advent+...   \n",
       "9   https://github.com/search?o=desc&p=10&q=advent...   \n",
       "10  https://github.com/search?o=desc&p=11&q=advent...   \n",
       "11  https://github.com/search?o=desc&p=12&q=advent...   \n",
       "12  https://github.com/search?o=desc&p=13&q=advent...   \n",
       "13  https://github.com/search?o=desc&p=14&q=advent...   \n",
       "14  https://github.com/search?o=desc&p=15&q=advent...   \n",
       "15  https://github.com/search?o=desc&p=16&q=advent...   \n",
       "16  https://github.com/search?o=desc&p=17&q=advent...   \n",
       "17  https://github.com/search?o=desc&p=18&q=advent...   \n",
       "18  https://github.com/search?o=desc&p=19&q=advent...   \n",
       "19  https://github.com/search?o=desc&p=20&q=advent...   \n",
       "\n",
       "                    file_name  \n",
       "0   soupfiles/gitsearch01.txt  \n",
       "1   soupfiles/gitsearch02.txt  \n",
       "2   soupfiles/gitsearch03.txt  \n",
       "3   soupfiles/gitsearch04.txt  \n",
       "4   soupfiles/gitsearch05.txt  \n",
       "5   soupfiles/gitsearch06.txt  \n",
       "6   soupfiles/gitsearch07.txt  \n",
       "7   soupfiles/gitsearch08.txt  \n",
       "8   soupfiles/gitsearch09.txt  \n",
       "9   soupfiles/gitsearch10.txt  \n",
       "10  soupfiles/gitsearch11.txt  \n",
       "11  soupfiles/gitsearch12.txt  \n",
       "12  soupfiles/gitsearch13.txt  \n",
       "13  soupfiles/gitsearch14.txt  \n",
       "14  soupfiles/gitsearch15.txt  \n",
       "15  soupfiles/gitsearch16.txt  \n",
       "16  soupfiles/gitsearch17.txt  \n",
       "17  soupfiles/gitsearch18.txt  \n",
       "18  soupfiles/gitsearch19.txt  \n",
       "19  soupfiles/gitsearch20.txt  "
      ]
     },
     "execution_count": 3,
     "metadata": {},
     "output_type": "execute_result"
    }
   ],
   "source": [
    "soup_df = make_soup_gitsearch()\n",
    "soup_df"
   ]
  },
  {
   "cell_type": "markdown",
   "metadata": {},
   "source": [
    "### Extract urls from search results"
   ]
  },
  {
   "cell_type": "code",
   "execution_count": 4,
   "metadata": {},
   "outputs": [
    {
     "name": "stdout",
     "output_type": "stream",
     "text": [
      "197\n"
     ]
    },
    {
     "data": {
      "text/plain": [
       "['https://github.com/passsy/kotlin-advent-of-code',\n",
       " 'https://github.com/betaveros/advent-of-code-golf-2019',\n",
       " 'https://github.com/betaveros/advent-of-code-golf-2018',\n",
       " 'https://github.com/carols10cents/aoc-rs-2019',\n",
       " 'https://github.com/Unix-0x01/AdventOfCode']"
      ]
     },
     "metadata": {},
     "output_type": "display_data"
    }
   ],
   "source": [
    "url_list = get_repo_urls_from_gitsearch(df=soup_df)\n",
    "print(len(url_list))\n",
    "display(url_list[:5])"
   ]
  },
  {
   "cell_type": "markdown",
   "metadata": {},
   "source": [
    "### Extract repositories from urls"
   ]
  },
  {
   "cell_type": "code",
   "execution_count": 5,
   "metadata": {},
   "outputs": [
    {
     "name": "stdout",
     "output_type": "stream",
     "text": [
      "197\n"
     ]
    },
    {
     "data": {
      "text/plain": [
       "['1Computer1/advent',\n",
       " 'AlexAegis/advent-of-code',\n",
       " 'AlexeSimon/adventofcode',\n",
       " 'BartMassey/advent-of-code-2015',\n",
       " 'BartMassey/advent-of-code-2016']"
      ]
     },
     "metadata": {},
     "output_type": "display_data"
    }
   ],
   "source": [
    "repo_list = get_repos_from_url_list(url_list)\n",
    "print(len(repo_list))\n",
    "display(repo_list[:5])"
   ]
  },
  {
   "cell_type": "markdown",
   "metadata": {},
   "source": [
    "### Establish list of repos to omit"
   ]
  },
  {
   "cell_type": "markdown",
   "metadata": {},
   "source": [
    "- *Repo* [***Bogdanp/awesome-advent-of-code***](https:github.com/Bogdanp/awesome-advent-of-code) *was removed because it hosts a listing of repos that participate in the Advent of Code competitions, and thus does not have code of its own.*\n",
    "- *Repo* [***scy/advent-of-code***](https:github.com/scy/advent-of-code) *was removed because the readme was the only file discovered written in German. The word frequency calculations on this repo were all outliers.*\n",
    "- *The others were removed due to inoperable links discovered during scraping.*"
   ]
  },
  {
   "cell_type": "code",
   "execution_count": 6,
   "metadata": {},
   "outputs": [],
   "source": [
    "remove_repos = [\n",
    "    'Bogdanp/awesome-advent-of-code',\n",
    "    'scy/advent-of-code',\n",
    "    'agrison/advent-of-code-2019/',\n",
    "    'ephemient/aoc2019/tree/hs',\n",
    "    'notviri/aoc2019',\n",
    "    'visini/aoc2019',\n",
    "]"
   ]
  },
  {
   "cell_type": "markdown",
   "metadata": {},
   "source": [
    "### Get repos from Bogdanp/awesome-advent-of-code"
   ]
  },
  {
   "cell_type": "code",
   "execution_count": 7,
   "metadata": {},
   "outputs": [
    {
     "name": "stdout",
     "output_type": "stream",
     "text": [
      "Bogdanp/awesome-advent-of-code\n",
      "https://raw.githubusercontent.com/Bogdanp/awesome-advent-of-code/master/README.md\n",
      "183\n"
     ]
    },
    {
     "data": {
      "text/plain": [
       "['0legg/adventofcode',\n",
       " '0x8b/advent-of-code-2019',\n",
       " 'Akumatic/Advent-of-Code',\n",
       " 'AlexAegis/advent-of-code',\n",
       " 'AlexAegis/advent-of-code']"
      ]
     },
     "metadata": {},
     "output_type": "display_data"
    }
   ],
   "source": [
    "xtra_repo_list = ['Bogdanp/awesome-advent-of-code']\n",
    "xtra_repos = get_subrepos_from_readmes(repos=xtra_repo_list)\n",
    "print(len(xtra_repos))\n",
    "display(xtra_repos[:5])"
   ]
  },
  {
   "cell_type": "markdown",
   "metadata": {},
   "source": [
    "### Merge repo lists"
   ]
  },
  {
   "cell_type": "code",
   "execution_count": 8,
   "metadata": {},
   "outputs": [
    {
     "name": "stdout",
     "output_type": "stream",
     "text": [
      "356\n"
     ]
    },
    {
     "data": {
      "text/plain": [
       "['0legg/adventofcode',\n",
       " '0x8b/advent-of-code-2019',\n",
       " '1Computer1/advent',\n",
       " 'a-red-christmas/aoc2019-ae',\n",
       " 'adam-gruer/aoc2019']"
      ]
     },
     "metadata": {},
     "output_type": "display_data"
    }
   ],
   "source": [
    "repo_list = merge_repo_list(repos=repo_list, xtra_repos=xtra_repos, remove_repos=remove_repos)\n",
    "\n",
    "print(len(repo_list))\n",
    "display(repo_list[:5])"
   ]
  },
  {
   "cell_type": "markdown",
   "metadata": {},
   "source": [
    "### Scrape repos, output to json file"
   ]
  },
  {
   "cell_type": "code",
   "execution_count": 9,
   "metadata": {},
   "outputs": [
    {
     "name": "stdout",
     "output_type": "stream",
     "text": [
      "0legg/adventofcode\n",
      "None\n",
      "0x8b/advent-of-code-2019\n",
      "https://raw.githubusercontent.com/0x8b/advent-of-code-2019/master/README.md\n",
      "1Computer1/advent\n",
      "https://raw.githubusercontent.com/1Computer1/advent/master/README.md\n",
      "a-red-christmas/aoc2019-ae\n",
      "None\n",
      "adam-gruer/aoc2019\n",
      "None\n",
      "adriennetacke/advent-of-code-2018\n",
      "https://raw.githubusercontent.com/adriennetacke/advent-of-code-2018/master/README.md\n",
      "adriennetacke/advent-of-code-2019\n",
      "https://raw.githubusercontent.com/adriennetacke/advent-of-code-2019/master/README.md\n",
      "adventofcode/2015solutions\n",
      "https://raw.githubusercontent.com/adventofcode/2015solutions/master/README.md\n",
      "afonsojramos/advent-of-code-2018\n",
      "https://raw.githubusercontent.com/afonsojramos/advent-of-code-2018/master/README.md\n",
      "agrison/advent-of-code-2019\n",
      "https://raw.githubusercontent.com/agrison/advent-of-code-2019/master/README.md\n",
      "akulumbeg/adventofcode\n",
      "https://raw.githubusercontent.com/akulumbeg/adventofcode/master/README.md\n",
      "Akumatic/Advent-of-Code\n",
      "https://raw.githubusercontent.com/Akumatic/Advent-of-Code/master/README.md\n",
      "albertobastos/advent-of-code-2018-nodejs\n",
      "https://raw.githubusercontent.com/albertobastos/advent-of-code-2018-nodejs/master/README.md\n",
      "AlexAegis/advent-of-code\n",
      "https://raw.githubusercontent.com/AlexAegis/advent-of-code/master/readme.md\n",
      "alexchro93/AdventOfCode\n",
      "https://raw.githubusercontent.com/alexchro93/AdventOfCode/master/README.md\n",
      "AlexeSimon/adventofcode\n",
      "https://raw.githubusercontent.com/AlexeSimon/adventofcode/master/README.md\n",
      "alexparlett/advent-of-code-2019\n",
      "https://raw.githubusercontent.com/alexparlett/advent-of-code-2019/master/README.md\n",
      "alyti/aoc-2019\n",
      "https://raw.githubusercontent.com/alyti/aoc-2019/master/readme.md\n",
      "AmauryCarrade/AdventOfCode2019\n",
      "https://raw.githubusercontent.com/AmauryCarrade/AdventOfCode2019/master/README.md\n",
      "amochtar/aoc-ranking\n",
      "https://raw.githubusercontent.com/amochtar/aoc-ranking/master/README.md\n",
      "AnkurSheel/AdventOfCode2019\n",
      "None\n",
      "aran112000/Advent-of-Code-2019-PHP\n",
      "https://raw.githubusercontent.com/aran112000/Advent-of-Code-2019-PHP/master/README.md\n",
      "armstnp/advent-of-code-2019\n",
      "None\n",
      "arnauddrain/advent-of-code-2019\n",
      "None\n",
      "aspittel/advent-of-code\n",
      "None\n",
      "atme/advent-of-code\n",
      "https://raw.githubusercontent.com/atme/advent-of-code/master/README.md\n",
      "aturley/advent-of-code-2018\n",
      "https://raw.githubusercontent.com/aturley/advent-of-code-2018/master/README.md\n",
      "Awjin/advent-of-code\n",
      "https://raw.githubusercontent.com/Awjin/advent-of-code/master/README.md\n",
      "badouralix/advent-of-code-2018\n",
      "https://raw.githubusercontent.com/badouralix/advent-of-code-2018/master/README.md\n",
      "BartMassey/advent-of-code-2015\n",
      "https://raw.githubusercontent.com/BartMassey/advent-of-code-2015/master/README.md\n",
      "BartMassey/advent-of-code-2016\n",
      "https://raw.githubusercontent.com/BartMassey/advent-of-code-2016/master/README.md\n",
      "BartoszMilewski/AdventOfCode18\n",
      "https://raw.githubusercontent.com/BartoszMilewski/AdventOfCode18/master/README.md\n",
      "BartoszMilewski/AoC2019\n",
      "https://raw.githubusercontent.com/BartoszMilewski/AoC2019/master/README.md\n",
      "BartoszMilewski/AofC2017\n",
      "https://raw.githubusercontent.com/BartoszMilewski/AofC2017/master/README.md\n",
      "believer/advent-of-code\n",
      "https://raw.githubusercontent.com/believer/advent-of-code/master/README.md\n",
      "benediktwerner/AdventOfCode\n",
      "https://raw.githubusercontent.com/benediktwerner/AdventOfCode/master/README.md\n",
      "benediktwerner/intcode\n",
      "https://raw.githubusercontent.com/benediktwerner/intcode/master/README.md\n",
      "BenoitZugmeyer/RustyAdventOfCode\n",
      "https://raw.githubusercontent.com/BenoitZugmeyer/RustyAdventOfCode/master/README.md\n",
      "betaveros/advent-of-code-golf-2018\n",
      "https://raw.githubusercontent.com/betaveros/advent-of-code-golf-2018/master/README.markdown\n",
      "betaveros/advent-of-code-golf-2019\n",
      "https://raw.githubusercontent.com/betaveros/advent-of-code-golf-2019/master/README.markdown\n",
      "bewuethr/advent-of-code\n",
      "https://raw.githubusercontent.com/bewuethr/advent-of-code/master/README.md\n",
      "bhauman/advent-of-clojure\n",
      "https://raw.githubusercontent.com/bhauman/advent-of-clojure/master/README.md\n",
      "bhauman/advent-of-clojure-2016\n",
      "https://raw.githubusercontent.com/bhauman/advent-of-clojure-2016/master/README.md\n",
      "bildzeitung/2016adventofcode\n",
      "https://raw.githubusercontent.com/bildzeitung/2016adventofcode/master/README.md\n",
      "birkenfeld/advent18\n",
      "https://raw.githubusercontent.com/birkenfeld/advent18/master/README.md\n",
      "BogDAAAMN/advent-of-code\n",
      "https://raw.githubusercontent.com/BogDAAAMN/advent-of-code/master/README.md\n",
      "borkdude/advent-of-cljc\n",
      "https://raw.githubusercontent.com/borkdude/advent-of-cljc/master/README.md\n",
      "borkdude/aoc2017\n",
      "https://raw.githubusercontent.com/borkdude/aoc2017/master/README.md\n",
      "bureson/advent-of-code-2019\n",
      "https://raw.githubusercontent.com/bureson/advent-of-code-2019/master/README.md\n",
      "BurntSushi/advent-of-code\n",
      "https://raw.githubusercontent.com/BurntSushi/advent-of-code/master/README.md\n",
      "bzuilhof/AdventOfCode\n",
      "https://raw.githubusercontent.com/bzuilhof/AdventOfCode/master/README.md\n",
      "caderek/aoc-starter-js\n",
      "https://raw.githubusercontent.com/caderek/aoc-starter-js/master/README.md\n",
      "caderek/aoc-starter-ts\n",
      "https://raw.githubusercontent.com/caderek/aoc-starter-ts/master/README.md\n",
      "caderek/aoc2019\n",
      "https://raw.githubusercontent.com/caderek/aoc2019/master/README.md\n",
      "CameronAavik/AdventOfCode\n",
      "https://raw.githubusercontent.com/CameronAavik/AdventOfCode/master/README.MD\n",
      "campoy/advent-of-code-2018\n",
      "https://raw.githubusercontent.com/campoy/advent-of-code-2018/master/README.md\n",
      "carols10cents/aoc-rs-2019\n",
      "https://raw.githubusercontent.com/carols10cents/aoc-rs-2019/master/README.md\n",
      "Cattiva/adventofcode\n",
      "None\n",
      "cbzink/advent-of-code-2019\n",
      "https://raw.githubusercontent.com/cbzink/advent-of-code-2019/master/README.md\n",
      "chigley/advent2019\n",
      "https://raw.githubusercontent.com/chigley/advent2019/master/README.md\n",
      "chinesedfan/adventofcode\n",
      "https://raw.githubusercontent.com/chinesedfan/adventofcode/master/README.md\n",
      "ChrisPenner/advent-of-code-haskell\n",
      "https://raw.githubusercontent.com/ChrisPenner/advent-of-code-haskell/master/README.md\n",
      "ChrisPenner/Advent-Of-Code-Polyglot\n",
      "https://raw.githubusercontent.com/ChrisPenner/Advent-Of-Code-Polyglot/master/README.md\n",
      "ChrisPritchard/AdventOfCode\n",
      "https://raw.githubusercontent.com/ChrisPritchard/AdventOfCode/master/README.md\n",
      "christofhaerens/advent_of_code\n",
      "https://raw.githubusercontent.com/christofhaerens/advent_of_code/master/README.md\n",
      "CloudCoders/AdventOfCode2017\n",
      "https://raw.githubusercontent.com/CloudCoders/AdventOfCode2017/master/README.md\n",
      "cls1991/advent-of-code\n",
      "https://raw.githubusercontent.com/cls1991/advent-of-code/master/README.md\n",
      "coder5506/advent-of-code-2019\n",
      "None\n",
      "countzero/advent_of_code\n",
      "https://raw.githubusercontent.com/countzero/advent_of_code/master/README.md\n",
      "Crucerio/adventofcode\n",
      "https://raw.githubusercontent.com/Crucerio/adventofcode/master/README.md\n",
      "daafith/advent-of-code-2019\n",
      "https://raw.githubusercontent.com/daafith/advent-of-code-2019/master/README.md\n",
      "dainnilsson/adventofcode-2017\n",
      "https://raw.githubusercontent.com/dainnilsson/adventofcode-2017/master/README.md\n",
      "danieltrost/adventofcode-2019-solutions-js\n",
      "https://raw.githubusercontent.com/danieltrost/adventofcode-2019-solutions-js/master/README.md\n",
      "danthedaniel/Advent-of-Code-2017\n",
      "https://raw.githubusercontent.com/danthedaniel/Advent-of-Code-2017/master/README.md\n",
      "DarthGandalf/advent-of-code\n",
      "https://raw.githubusercontent.com/DarthGandalf/advent-of-code/master/README.md\n",
      "dashed/advent-of-code\n",
      "https://raw.githubusercontent.com/dashed/advent-of-code/master/README.md\n",
      "dave-burke/advent-of-code-java-starter\n",
      "https://raw.githubusercontent.com/dave-burke/advent-of-code-java-starter/master/README.md\n",
      "davedelong/AOC\n",
      "https://raw.githubusercontent.com/davedelong/AOC/master/README.md\n",
      "davidaayers/advent-of-code-2019\n",
      "https://raw.githubusercontent.com/davidaayers/advent-of-code-2019/master/readme.md\n",
      "davidmargolin/Advent-Of-Code-2019\n",
      "https://raw.githubusercontent.com/davidmargolin/Advent-Of-Code-2019/master/README.md\n",
      "davidmasp/adventofcode-dmp\n",
      "https://raw.githubusercontent.com/davidmasp/adventofcode-dmp/master/README.md\n",
      "def-/nim-advent-of-code-2015\n",
      "None\n",
      "dejakobniklas/AdventOfCode\n",
      "https://raw.githubusercontent.com/dejakobniklas/AdventOfCode/master/README.md\n",
      "Dementophobia/advent-of-code-2019\n",
      "https://raw.githubusercontent.com/Dementophobia/advent-of-code-2019/master/README.md\n",
      "derekslager/advent-of-code-2015\n",
      "https://raw.githubusercontent.com/derekslager/advent-of-code-2015/master/README.md\n"
     ]
    },
    {
     "name": "stdout",
     "output_type": "stream",
     "text": [
      "derNiklaas/Advent-of-Code-2019\n",
      "https://raw.githubusercontent.com/derNiklaas/Advent-of-Code/master/README.md\n",
      "devries/advent_of_code_2019\n",
      "https://raw.githubusercontent.com/devries/advent_of_code_2019/master/README.md\n",
      "dgarroDC/advent-of-code-2019-ldpl\n",
      "https://raw.githubusercontent.com/dgarroDC/advent-of-code-2019-ldpl/master/README.md\n",
      "Diggsey/aoc2018\n",
      "None\n",
      "dlew/aoc-2016\n",
      "https://raw.githubusercontent.com/dlew/aoc-2016/master/README.md\n",
      "dlew/aoc-2017\n",
      "https://raw.githubusercontent.com/dlew/aoc-2017/master/README.md\n",
      "dmies/adventOfCode\n",
      "https://raw.githubusercontent.com/dmies/adventOfCode/master/README.md\n",
      "dmjio/AdventOfCode2018\n",
      "https://raw.githubusercontent.com/dmjio/AdventOfCode2018/master/README.md\n",
      "dmjio/aoc2017\n",
      "https://raw.githubusercontent.com/dmjio/aoc2017/master/README.md\n",
      "dstockto/AdventOfCode2015\n",
      "https://raw.githubusercontent.com/dstockto/AdventOfCode2015/master/README.md\n",
      "dunyakirkali/aoc\n",
      "https://raw.githubusercontent.com/dunyakirkali/aoc/master/README.md\n",
      "dzikoysk/advent-of-code\n",
      "https://raw.githubusercontent.com/dzikoysk/advent-of-code/master/README.md\n",
      "eduherminio/AoC2019\n",
      "https://raw.githubusercontent.com/eduherminio/AoC2019/master/README.md\n",
      "eduherminio/AoCHelper\n",
      "https://raw.githubusercontent.com/eduherminio/AoCHelper/master/README.md\n",
      "EdwinTh/AoC_2019\n",
      "https://raw.githubusercontent.com/EdwinTh/AoC_2019/master/README.md\n",
      "ejhobbs/Advent-Of-Code\n",
      "https://raw.githubusercontent.com/ejhobbs/Advent-Of-Code/master/README.md\n",
      "elvinyhlee/advent-of-code-2019-python\n",
      "https://raw.githubusercontent.com/elvinyhlee/advent-of-code-2019-python/master/README.md\n",
      "emiflake/Advent-of-Code-2019\n",
      "https://raw.githubusercontent.com/emiflake/Advent-of-Code-2019/master/README.md\n",
      "emmericp/aoc19-intcode-jit\n",
      "https://raw.githubusercontent.com/emmericp/aoc19-intcode-jit/master/README.md\n",
      "encse/adventofcode\n",
      "https://raw.githubusercontent.com/encse/adventofcode/master/README.md\n",
      "entibo/advent-of-code-golf-2019\n",
      "https://raw.githubusercontent.com/entibo/advent-of-code-golf-2019/master/README.md\n",
      "ephemient/aoc2017\n",
      "https://raw.githubusercontent.com/ephemient/aoc2017/master/README.md\n",
      "ephemient/aoc2018\n",
      "https://raw.githubusercontent.com/ephemient/aoc2018/master/README.md\n",
      "ephemient/aoc2019\n",
      "https://raw.githubusercontent.com/ephemient/aoc2019/master/README.md\n",
      "erdos/advent-of-code-2019\n",
      "https://raw.githubusercontent.com/erdos/advent-of-code-2019/master/README.md\n",
      "es1o/adventofcode\n",
      "https://raw.githubusercontent.com/es1o/adventofcode/master/README.md\n",
      "evilmint/AdventOfCode\n",
      "https://raw.githubusercontent.com/evilmint/AdventOfCode/master/README.md\n",
      "fctorial/adventofcode2019-clojure\n",
      "https://raw.githubusercontent.com/fctorial/adventofcode2019-clojure/master/README.md\n",
      "fdlk/advent-2019\n",
      "https://raw.githubusercontent.com/fdlk/advent-2019/master/README.md\n",
      "felipecortez/advent-of-code\n",
      "https://raw.githubusercontent.com/FelipeCortez/advent-of-code/master/README.md\n",
      "ferrolho/advent-of-code\n",
      "https://raw.githubusercontent.com/ferrolho/advent-of-code/master/README.md\n",
      "fguchelaar/AdventOfCode2019\n",
      "https://raw.githubusercontent.com/fguchelaar/AdventOfCode2019/master/README.md\n",
      "fhinkel/AdventOfCode2018\n",
      "https://raw.githubusercontent.com/fhinkel/AdventOfCode2018/master/README.md\n",
      "Firebain/adventofcode\n",
      "https://raw.githubusercontent.com/Firebain/adventofcode/master/README.md\n",
      "FlorianCassayre/AdventOfCode-2017\n",
      "https://raw.githubusercontent.com/FlorianCassayre/AdventOfCode-2017/master/README.md\n",
      "FlorianCassayre/AdventOfCode-2018\n",
      "https://raw.githubusercontent.com/FlorianCassayre/AdventOfCode-2018/master/README.md\n",
      "FlorianCassayre/AdventOfCode-2019\n",
      "https://raw.githubusercontent.com/FlorianCassayre/AdventOfCode-2019/master/README.md\n",
      "florianfreier/AdventOfCode2019\n",
      "https://raw.githubusercontent.com/florianfreier/AdventOfCode2019/master/README.adoc\n",
      "fogleman/AdventOfCode2018\n",
      "https://raw.githubusercontent.com/fogleman/AdventOfCode2018/master/README.md\n",
      "fogleman/AdventOfCode2019\n",
      "None\n",
      "fornwall/advent-of-code-2019-rs\n",
      "https://raw.githubusercontent.com/fornwall/advent-of-code-2019-rs/master/README.md\n",
      "freskog/adventofcode2019\n",
      "None\n",
      "gamma032steam/Advent-of-code\n",
      "https://raw.githubusercontent.com/gamma032steam/Advent-of-code/master/README.md\n",
      "gavinhenderson/advent-of-code\n",
      "https://raw.githubusercontent.com/gavinhenderson/advent-of-code/master/README.md\n",
      "gbusch/AdventOfCode\n",
      "https://raw.githubusercontent.com/gbusch/AdventOfCode/master/README.md\n",
      "gchan/advent-of-code-ruby\n",
      "https://raw.githubusercontent.com/gchan/advent-of-code-ruby/master/README.md\n",
      "georgek42/AOC2019\n",
      "https://raw.githubusercontent.com/georgek42/AOC2019/master/README.md\n",
      "gernb/AdventOfCode2019\n",
      "None\n",
      "ghaiklor/advent-of-code-2015\n",
      "https://raw.githubusercontent.com/ghaiklor/advent-of-code-2015/master/README.md\n",
      "GigaNova/advent-of-code-2019\n",
      "https://raw.githubusercontent.com/GigaNova/Advent-of-Code-2019/master/README.md\n",
      "giganova/advent-of-code-2019-java\n",
      "https://raw.githubusercontent.com/GigaNova/Advent-Of-Code-2019-Java/master/README.md\n",
      "glguy/advent2017\n",
      "https://raw.githubusercontent.com/glguy/advent2017/master/README.md\n",
      "glguy/advent2018\n",
      "https://raw.githubusercontent.com/glguy/advent2018/master/README.md\n",
      "glguy/advent2019\n",
      "https://raw.githubusercontent.com/glguy/advent2019/master/README.md\n",
      "gliderGeek/adventofcode19\n",
      "https://raw.githubusercontent.com/GliderGeek/adventofcode19/master/README.md\n",
      "gobanos/cargo-aoc\n",
      "https://raw.githubusercontent.com/gobanos/cargo-aoc/master/README.md\n",
      "GreenLightning/advent-of-code-downloader\n",
      "https://raw.githubusercontent.com/GreenLightning/advent-of-code-downloader/master/readme.markdown\n",
      "GreenLightning/aoc19\n",
      "https://raw.githubusercontent.com/GreenLightning/aoc19/master/readme.md\n",
      "gsoleilhac/aoc19.jl\n",
      "https://raw.githubusercontent.com/gsoleilhac/aoc19.jl/master/README.md\n",
      "Harleqin/advent-of-code-2017\n",
      "None\n",
      "hashedone/advent-of-code-2019-hask\n",
      "https://raw.githubusercontent.com/hashedone/advent-of-code-2019-hask/master/README.md\n",
      "hashedone/advent-of-code-2019-rust\n",
      "https://raw.githubusercontent.com/hashedone/advent-of-code-2019-rust/master/README.md\n",
      "hellopatrick/advent\n",
      "https://raw.githubusercontent.com/hellopatrick/advent/master/README.md\n",
      "hierynomus/code-challenges\n",
      "https://raw.githubusercontent.com/hierynomus/code-challenges/master/README.adoc\n",
      "howden/advent19\n",
      "https://raw.githubusercontent.com/howden/advent19/master/README.md\n",
      "hsz/AdventOfCode2015\n",
      "https://raw.githubusercontent.com/hsz/AdventOfCode2015/master/README.md\n",
      "hughjdavey/aoc-2019\n",
      "https://raw.githubusercontent.com/hughjdavey/aoc-2019/master/README.md\n",
      "hughjdavey/aoc-kotlin-starter\n",
      "https://raw.githubusercontent.com/hughjdavey/aoc-kotlin-starter/master/README.md\n",
      "IdrisTheDragon/AdventOfCode2018\n",
      "https://raw.githubusercontent.com/IdrisTheDragon/AdventOfCode2018/master/README.md\n",
      "IFinners/advent-of-code\n",
      "https://raw.githubusercontent.com/IFinners/advent-of-code/master/README.md\n",
      "imsalahdev/adventofcode-2019\n",
      "https://raw.githubusercontent.com/imsalahdev/adventofcode-2019/master/README.md\n",
      "izexi/adventofcode2019\n",
      "https://raw.githubusercontent.com/izexi/adventofcode2019/master/README.md\n",
      "jackcutting/aoc2019\n",
      "https://raw.githubusercontent.com/jackcutting/aoc2019/master/README.md\n",
      "jaksi/advent-of-other-peoples-code\n",
      "https://raw.githubusercontent.com/jaksi/advent-of-other-peoples-code/master/README.md\n",
      "jamestomasino/advent-of-code-2019\n",
      "https://raw.githubusercontent.com/jamestomasino/advent-of-code-2019/master/README.md\n",
      "Janiczek/advent-of-code\n",
      "https://raw.githubusercontent.com/Janiczek/advent-of-code/master/README.md\n",
      "JasonCannon/advent-of-code-2019\n",
      "https://raw.githubusercontent.com/JasonCannon/advent-of-code-2019/master/README.md\n",
      "jayfoad/aoc2018apl\n",
      "https://raw.githubusercontent.com/jayfoad/aoc2018apl/master/README.md\n",
      "jcazevedo/advent-of-code-2018\n",
      "https://raw.githubusercontent.com/jcazevedo/advent-of-code-2018/master/README.md\n",
      "jchristman/adventofcode\n",
      "https://raw.githubusercontent.com/jchristman/adventofcode/master/README.md\n",
      "jdlambert/advent-of-code-2019\n",
      "https://raw.githubusercontent.com/jdlambert/advent-of-code-2019/master/README.md\n",
      "Jedi-Fullstack-Avengers/AdventOfCode\n",
      "https://raw.githubusercontent.com/Jedi-Fullstack-Avengers/AdventOfCode/master/README.md\n",
      "JEG2/advent_of_code_2016\n",
      "None\n",
      "JEG2/advent_of_code_2018\n",
      "None\n",
      "jennybc/2017_advent-of-code\n",
      "None\n",
      "jennybc/2018_advent-of-code\n",
      "None\n",
      "jeroenheijmans/advent-of-code-charts\n",
      "https://raw.githubusercontent.com/jeroenheijmans/advent-of-code-charts/master/README.md\n"
     ]
    },
    {
     "name": "stdout",
     "output_type": "stream",
     "text": [
      "JesperDramsch/advent-of-code\n",
      "https://raw.githubusercontent.com/JesperDramsch/advent-of-code/master/README.md\n",
      "jgoerner/aoc-2019\n",
      "https://raw.githubusercontent.com/jgoerner/aoc-2019/master/Readme.md\n",
      "jitwit/aoc\n",
      "https://raw.githubusercontent.com/jitwit/aoc/master/README\n",
      "jkoenig134/AdventOfCode-2019\n",
      "https://raw.githubusercontent.com/jkoenig134/AdventOfCode-2019/master/README.md\n",
      "joelgrus/advent2017\n",
      "https://raw.githubusercontent.com/joelgrus/advent2017/master/README.md\n",
      "joelgrus/advent2018\n",
      "https://raw.githubusercontent.com/joelgrus/advent2018/master/README.md\n",
      "joelgrus/advent2019\n",
      "https://raw.githubusercontent.com/joelgrus/advent2019/master/README.md\n",
      "jorispz/aoc-2019\n",
      "https://raw.githubusercontent.com/jorispz/aoc-2019/master/README.md\n",
      "jrfondren/adventofcode\n",
      "https://raw.githubusercontent.com/jrfondren/adventofcode/master/README.md\n",
      "juffalow/advent-of-code\n",
      "https://raw.githubusercontent.com/juffalow/advent-of-code/master/README.md\n",
      "julemand101/AdventOfCode2019\n",
      "None\n",
      "juliendelplanque/AdventOfCode2017WithPharo\n",
      "https://raw.githubusercontent.com/juliendelplanque/AdventOfCode2017WithPharo/master/README.md\n",
      "jwarwick/aoc_2019\n",
      "https://raw.githubusercontent.com/jwarwick/aoc_2019/master/README.md\n",
      "jwoLondon/adventOfCode\n",
      "https://raw.githubusercontent.com/jwoLondon/adventOfCode/master/README.md\n",
      "kamilbeker/aoc2019.jl\n",
      "https://raw.githubusercontent.com/kamilbeker/aoc2019.jl/master/README.md\n",
      "katemihalikova/advent-of-code\n",
      "https://raw.githubusercontent.com/katemihalikova/advent-of-code/latest/README.md\n",
      "Kazhuu/advent-of-code-2019\n",
      "https://raw.githubusercontent.com/Kazhuu/advent-of-code-2019/master/README.md\n",
      "kcaran/adventofcode2019\n",
      "None\n",
      "Keirua/adventofcode-rb\n",
      "https://raw.githubusercontent.com/Keirua/adventofcode-rb/master/README.md\n",
      "keirua/aoc-cli\n",
      "https://raw.githubusercontent.com/Keirua/aoc-cli/master/README.md\n",
      "kindermoumoute/adventofcode\n",
      "https://raw.githubusercontent.com/kindermoumoute/adventofcode/master/README.md\n",
      "kissgyorgy/adventofcode2019\n",
      "https://raw.githubusercontent.com/kissgyorgy/adventofcode2019/master/README.md\n",
      "kjeliasen/AdventOfCode\n",
      "https://raw.githubusercontent.com/kjeliasen/AdventOfCode/master/ReadMe.md\n",
      "kodsnack/advent_of_code_2015\n",
      "https://raw.githubusercontent.com/kodsnack/advent_of_code_2015/master/README.md\n",
      "kodsnack/advent_of_code_2016\n",
      "https://raw.githubusercontent.com/kodsnack/advent_of_code_2016/master/readme.md\n",
      "kodsnack/advent_of_code_2017\n",
      "https://raw.githubusercontent.com/kodsnack/advent_of_code_2017/master/README.md\n",
      "kodsnack/advent_of_code_2018\n",
      "https://raw.githubusercontent.com/kodsnack/advent_of_code_2018/master/README.md\n",
      "kodsnack/advent_of_code_2019\n",
      "https://raw.githubusercontent.com/kodsnack/advent_of_code_2019/master/README.md\n",
      "kolcon/adventofcode_2019\n",
      "None\n",
      "krisajenkins/AdventOfCode\n",
      "https://raw.githubusercontent.com/krisajenkins/AdventOfCode/master/README.md\n",
      "KrzaQ/AdventOfCode2015\n",
      "https://raw.githubusercontent.com/KrzaQ/AdventOfCode2015/master/README.md\n",
      "KrzaQ/AdventOfCode2017\n",
      "https://raw.githubusercontent.com/KrzaQ/AdventOfCode2017/master/README.md\n",
      "KrzaQ/AdventOfCode2018\n",
      "https://raw.githubusercontent.com/KrzaQ/AdventOfCode2018/master/README.md\n",
      "KrzaQ/AdventOfCode2019\n",
      "https://raw.githubusercontent.com/KrzaQ/AdventOfCode2019/master/README.md\n",
      "ksmithut/advent-of-code\n",
      "https://raw.githubusercontent.com/ksmithut/advent-of-code/master/README.md\n",
      "kubukoz/advent-of-code\n",
      "None\n",
      "Kurocon/AdventOfCode2019\n",
      "https://raw.githubusercontent.com/Kurocon/AdventOfCode2019/master/README.md\n",
      "Larkenx/AdventOfCode2018\n",
      "https://raw.githubusercontent.com/Larkenx/AdventOfCode2018/master/README.md\n",
      "Lartu/adventOfCode2019\n",
      "https://raw.githubusercontent.com/Lartu/adventOfCode2019/master/README.md\n",
      "leebyron/advent-of-code-2016\n",
      "https://raw.githubusercontent.com/leebyron/advent-of-code-2016/master/README.md\n",
      "Levivig/AdventOfCode2019\n",
      "https://raw.githubusercontent.com/Levivig/AdventOfCode2019/master/README.md\n",
      "lisa/adventofcode\n",
      "https://raw.githubusercontent.com/lisa/adventofcode/master/README.md\n",
      "liuyubobobo/Play-Advent-of-Code\n",
      "https://raw.githubusercontent.com/liuyubobobo/Play-Advent-of-Code/master/readme.md\n",
      "Lokeh/advent-2017\n",
      "https://raw.githubusercontent.com/Lokeh/advent-2017/master/README.md\n",
      "Lokeh/advent-2019\n",
      "https://raw.githubusercontent.com/Lokeh/advent-2019/master/README.org\n",
      "lskatz/advent-of-code\n",
      "https://raw.githubusercontent.com/lskatz/advent-of-code/master/README.md\n",
      "lukechampine/advent\n",
      "None\n",
      "lupari/aoc2019\n",
      "https://raw.githubusercontent.com/lupari/aoc2019/master/README.md\n",
      "lynerist/Advent-of-code-2019-golang\n",
      "https://raw.githubusercontent.com/lynerist/Advent-of-code-2019-golang/master/README.md\n",
      "lynn/aoc-2018\n",
      "None\n",
      "lynn/aoc-2019\n",
      "https://raw.githubusercontent.com/lynn/aoc-2019/master/README.md\n",
      "Lysxia/advent-of-coq-2018\n",
      "https://raw.githubusercontent.com/Lysxia/advent-of-coq-2018/master/README.md\n",
      "M0nica/advent-of-code\n",
      "https://raw.githubusercontent.com/M0nica/advent-of-code/master/README.md\n",
      "m3m0ry/2019-advent\n",
      "None\n",
      "maislinger/advent_of_code\n",
      "None\n",
      "malmers/AdventOfCode-2017\n",
      "https://raw.githubusercontent.com/malmers/AdventOfCode-2017/master/README.md\n",
      "manniL/aoc-2019-elixir\n",
      "https://raw.githubusercontent.com/manniL/aoc-2019-elixir/master/README.md\n",
      "mariotacke/advent-of-code-2018\n",
      "https://raw.githubusercontent.com/mariotacke/advent-of-code-2018/master/README.md\n",
      "mariotacke/advent-of-code-2019\n",
      "https://raw.githubusercontent.com/mariotacke/advent-of-code-2019/master/README.md\n",
      "markheath/advent-of-code-js\n",
      "https://raw.githubusercontent.com/markheath/advent-of-code-js/master/README.md\n",
      "martinkonopka/AdventOfCode2019\n",
      "https://raw.githubusercontent.com/martinkonopka/AdventOfCode2019/master/README.md\n",
      "mastercake10/AdventOfCode2019\n",
      "https://raw.githubusercontent.com/mastercake10/AdventOfCode2019/master/README.md\n",
      "matelaszlo/advent-of-code-scala\n",
      "https://raw.githubusercontent.com/matelaszlo/advent-of-code-scala/master/README.md\n",
      "MaxArt2501/advent-of-code-2019\n",
      "https://raw.githubusercontent.com/MaxArt2501/advent-of-code-2019/master/readme.md\n",
      "mbutterick/aoc-racket\n",
      "https://raw.githubusercontent.com/mbutterick/aoc-racket/master/README.md\n",
      "mdelerue/AdventOfCode\n",
      "https://raw.githubusercontent.com/mdelerue/AdventOfCode/master/README.md\n",
      "mebeim/aoc\n",
      "https://raw.githubusercontent.com/mebeim/aoc/master/README.md\n",
      "metzbernhard/aoc2019\n",
      "None\n",
      "mevdschee/AdventOfCode2019\n",
      "https://raw.githubusercontent.com/mevdschee/AdventOfCode2019/master/README.md\n",
      "mevdschee/aoc-stats\n",
      "https://raw.githubusercontent.com/mevdschee/aoc-stats/master/README.md\n",
      "mew/aoc-2019\n",
      "https://raw.githubusercontent.com/mew/aoc-2019/master/README.md\n",
      "meyerphi/advent-of-code\n",
      "https://raw.githubusercontent.com/meyerphi/advent-of-code/master/README.md\n",
      "mfikes/advent-of-code\n",
      "https://raw.githubusercontent.com/mfikes/advent-of-code/master/README.md\n",
      "mhanberg/advent-of-code-clojure-starter\n",
      "https://raw.githubusercontent.com/mhanberg/advent-of-code-clojure-starter/master/README.md\n",
      "mhanberg/advent-of-code-elixir-starter\n",
      "https://raw.githubusercontent.com/mhanberg/advent-of-code-elixir-starter/master/README.md\n",
      "Miccowhy/adventofcode2019\n",
      "https://raw.githubusercontent.com/Miccowhy/adventofcode2019/master/README.md\n",
      "MicUurloon/AdventurePathfinding\n",
      "https://raw.githubusercontent.com/MicUurloon/AdventurePathfinding/master/README.md\n",
      "mikasjp/adventofcode2017\n",
      "https://raw.githubusercontent.com/mikasjp/adventofcode2017/master/README.md\n",
      "MitjaBezensek/advent-of-code\n",
      "https://raw.githubusercontent.com/MitjaBezensek/advent-of-code/master/README.md\n",
      "mitsuhiko/aoc19\n",
      "https://raw.githubusercontent.com/mitsuhiko/aoc19/master/README.md\n",
      "mjpieters/adventofcode\n",
      "https://raw.githubusercontent.com/mjpieters/adventofcode/master/README.md\n",
      "moesol/pony-advent-2016\n",
      "https://raw.githubusercontent.com/moesol/pony-advent-2016/master/README.md\n",
      "molyswu/hand_detection\n",
      "https://raw.githubusercontent.com/molyswu/hand_detection/temp/README.md\n",
      "Morawski21/Advent-of-Code-2019-in-R\n",
      "https://raw.githubusercontent.com/Morawski21/Advent-of-Code-2019-in-R/master/README.md\n",
      "mpjdem/adventofcode2019\n",
      "https://raw.githubusercontent.com/mpjdem/adventofcode2019/master/README.md\n",
      "mrgoodrich/AdventOfCode2018\n",
      "https://raw.githubusercontent.com/mrgoodrich/AdventOfCode2018/master/README.md\n",
      "mstksg/advent-of-code-2017\n",
      "https://raw.githubusercontent.com/mstksg/advent-of-code-2017/master/README.md\n",
      "mstksg/advent-of-code-2018\n",
      "https://raw.githubusercontent.com/mstksg/advent-of-code-2018/master/README.md\n"
     ]
    },
    {
     "name": "stdout",
     "output_type": "stream",
     "text": [
      "mstksg/advent-of-code-2019\n",
      "https://raw.githubusercontent.com/mstksg/advent-of-code-2019/master/README.md\n",
      "mstksg/advent-of-code-api\n",
      "https://raw.githubusercontent.com/mstksg/advent-of-code-api/master/README.md\n",
      "mvaldesdeleon/aoc18\n",
      "https://raw.githubusercontent.com/mvaldesdeleon/aoc18/master/README.md\n",
      "narimiran/AdventOfCode2017\n",
      "https://raw.githubusercontent.com/narimiran/AdventOfCode2017/master/README.md\n",
      "narimiran/AdventOfCode2018\n",
      "https://raw.githubusercontent.com/narimiran/AdventOfCode2018/master/README.md\n",
      "narnolddd/adventOfCode\n",
      "https://raw.githubusercontent.com/narnolddd/adventOfCode/master/README.md\n",
      "natemago/adventofcode2016\n",
      "None\n",
      "nenadom/AdventOfCode\n",
      "https://raw.githubusercontent.com/nenadom/AdventOfCode/master/README.md\n",
      "nickbclifford/advent-of-code-2018\n",
      "https://raw.githubusercontent.com/nickbclifford/advent-of-code-2018/master/README.md\n",
      "nicuveo/advent-of-code\n",
      "https://raw.githubusercontent.com/nicuveo/advent-of-code/master/README.md\n",
      "niedrist/AdventOfCode\n",
      "https://raw.githubusercontent.com/niedrist/AdventOfCode/master/README.md\n",
      "NiXXeD/adventofcode\n",
      "https://raw.githubusercontent.com/NiXXeD/adventofcode/master/README.md\n",
      "njoubert/RaspberryPiChristmasCodingAdventure\n",
      "https://raw.githubusercontent.com/njoubert/RaspberryPiChristmasCodingAdventure/master/README.md\n",
      "nnja/advent_of_code_2018\n",
      "https://raw.githubusercontent.com/nnja/advent_of_code_2018/master/README.md\n",
      "nrdmn/adventofcode2019\n",
      "None\n",
      "orez-/Advent-of-Code-2017\n",
      "https://raw.githubusercontent.com/orez-/Advent-of-Code-2017/master/README.md\n",
      "passsy/kotlin-advent-of-code\n",
      "https://raw.githubusercontent.com/passsy/kotlin-advent-of-code/master/README.md\n",
      "PatMyron/advent-of-code\n",
      "None\n",
      "PenguinOwl/advent2019\n",
      "None\n",
      "phaazon/advent-of-code-2k18\n",
      "None\n",
      "plannapus/AdventOfCode2019\n",
      "https://raw.githubusercontent.com/plannapus/AdventOfCode2019/master/README.md\n",
      "ploeh/advent-of-code-2017\n",
      "https://raw.githubusercontent.com/ploeh/advent-of-code-2017/master/README.md\n",
      "polhec42/AOC\n",
      "https://raw.githubusercontent.com/polhec42/AOC/master/README.md\n",
      "poteto/advent-of-code-2018\n",
      "https://raw.githubusercontent.com/poteto/advent-of-code-2018/master/README.md\n",
      "Pungsnigel/advent_of_code_2019\n",
      "None\n",
      "purcell/adventofcode2016\n",
      "https://raw.githubusercontent.com/purcell/adventofcode2016/master/README.md\n",
      "r0f1/adventofcode2019\n",
      "None\n",
      "racinmat/advent_of_code_2019\n",
      "None\n",
      "RaedsLab/advent-of-code\n",
      "https://raw.githubusercontent.com/RaedsLab/advent-of-code/master/README.md\n",
      "rhbvkleef/aoc2019\n",
      "https://raw.githubusercontent.com/rhbvkleef/aoc2019/master/README.md\n",
      "riinuots/advent2019\n",
      "https://raw.githubusercontent.com/riinuots/advent2019/master/README.md\n",
      "rolandtritsch/scala-aoc-2017\n",
      "https://raw.githubusercontent.com/rolandtritsch/scala-aoc-2017/master/README.md\n",
      "roman01la/advent-of-code-2018\n",
      "https://raw.githubusercontent.com/roman01la/advent-of-code-2018/master/README.md\n",
      "rosa/advent-of-code\n",
      "https://raw.githubusercontent.com/rosa/advent-of-code/master/README.md\n",
      "rrdelaney/advent-of-code-2017\n",
      "https://raw.githubusercontent.com/rrdelaney/advent-of-code-2017/master/README.md\n",
      "S0Ulle33/Advent-of-Code-2018\n",
      "https://raw.githubusercontent.com/S0Ulle33/Advent-of-Code-2018/master/README.md\n",
      "salival1/advent-2019\n",
      "https://raw.githubusercontent.com/salival1/advent-2019/master/README.md\n",
      "samdphillips/aoc-2019\n",
      "None\n",
      "sanraith/aoc2019\n",
      "https://raw.githubusercontent.com/sanraith/aoc2019/master/README.md\n",
      "sciyoshi/advent-of-rust-2017\n",
      "https://raw.githubusercontent.com/sciyoshi/advent-of-rust-2017/master/README.md\n",
      "sevaorlov/adventofcode2019\n",
      "https://raw.githubusercontent.com/sevaorlov/adventofcode2019/master/README.md\n",
      "shekhargulati/adventofcode-2016\n",
      "https://raw.githubusercontent.com/shekhargulati/adventofcode-2016/master/README.md\n",
      "SickheadGames/AdventureKit\n",
      "https://raw.githubusercontent.com/SickheadGames/AdventureKit/master/README.md\n",
      "sim642/adventofcode\n",
      "https://raw.githubusercontent.com/sim642/adventofcode/master/README.md\n",
      "SimonBaars/adventOfCode-2019\n",
      "https://raw.githubusercontent.com/SimonBaars/adventOfCode-2019/master/README.md\n",
      "sindrekjr/AdventOfCode\n",
      "https://raw.githubusercontent.com/sindrekjr/AdventOfCode/master/README.md\n",
      "sindrekjr/AdventOfCodeBase\n",
      "https://raw.githubusercontent.com/sindrekjr/AdventOfCodeBase/master/README.md\n",
      "SizableShrimp/AdventOfCode2019\n",
      "https://raw.githubusercontent.com/SizableShrimp/AdventOfCode2019/master/README.md\n",
      "Sketch-sh/advent-of-code-2018\n",
      "https://raw.githubusercontent.com/Sketch-sh/advent-of-code-2018/master/README.md\n",
      "sophiebits/adventofcode\n",
      "https://raw.githubusercontent.com/sophiebits/adventofcode/master/README.md\n",
      "staylorwr/elixir_aoc\n",
      "https://raw.githubusercontent.com/staylorwr/elixir_aoc/master/README.md\n",
      "ste001/advent-of-code-2019\n",
      "https://raw.githubusercontent.com/ste001/advent-of-code-2019/master/README.md\n",
      "stephjs/advent-of-code-2019\n",
      "https://raw.githubusercontent.com/stephjs/advent-of-code-2019/master/README.md\n",
      "stranac/Advent-of-Code\n",
      "https://raw.githubusercontent.com/stranac/Advent-of-Code/master/README.md\n",
      "strelec/Advent-of-Scala-2015\n",
      "https://raw.githubusercontent.com/strelec/Advent-of-Scala-2015/master/README.md\n",
      "taylorwood/advent-of-code\n",
      "https://raw.githubusercontent.com/taylorwood/advent-of-code/master/README.md\n",
      "tckmn/polyaoc-2019\n",
      "https://raw.githubusercontent.com/tckmn/polyaoc-2019/master/README.md\n",
      "tfausak/advent-of-code\n",
      "https://raw.githubusercontent.com/tfausak/advent-of-code/master/README.markdown\n",
      "tginsberg/advent-2017-kotlin\n",
      "https://raw.githubusercontent.com/tginsberg/advent-2017-kotlin/master/README.md\n",
      "tginsberg/advent-2018-kotlin\n",
      "https://raw.githubusercontent.com/tginsberg/advent-2018-kotlin/master/README.md\n",
      "tginsberg/advent-2019-kotlin\n",
      "https://raw.githubusercontent.com/tginsberg/advent-2019-kotlin/master/README.md\n",
      "thatlegoguy/AoC2016\n",
      "https://raw.githubusercontent.com/thatlegoguy/AoC2016/master/README.md\n",
      "themattchan/advent-of-code\n",
      "https://raw.githubusercontent.com/themattchan/advent-of-code/master/README.md\n",
      "TheRealMolen/adventofcode2019\n",
      "https://raw.githubusercontent.com/TheRealMolen/adventofcode2019/master/README.md\n",
      "thiagoslino/Advent-of-Code-2019\n",
      "https://raw.githubusercontent.com/thiagoslino/Advent-of-Code-2019/master/README.md\n",
      "thlacroix/goadvent\n",
      "https://raw.githubusercontent.com/thlacroix/goadvent/master/README.md\n",
      "timvisee/advent-of-code-2019\n",
      "https://raw.githubusercontent.com/timvisee/advent-of-code-2019/master/README.md\n",
      "topikettunen/advent-of-code-2019\n",
      "None\n",
      "TristoKrempita/advent-of-code\n",
      "https://raw.githubusercontent.com/TristoKrempita/advent-of-code/master/README.md\n",
      "ttencate/aoc2016\n",
      "https://raw.githubusercontent.com/ttencate/aoc2016/master/README.md\n",
      "ttencate/aoc2017\n",
      "https://raw.githubusercontent.com/ttencate/aoc2017/master/README.md\n",
      "Ullaakut/aoc19\n",
      "https://raw.githubusercontent.com/Ullaakut/aoc19/master/README.md\n",
      "und3f/advent-of-code-2019\n",
      "https://raw.githubusercontent.com/und3f/advent-of-code-2019/master/README.md\n",
      "Unix-0x01/AdventOfCode\n",
      "https://raw.githubusercontent.com/Unix-0x01/AdventOfCode/master/README.md\n",
      "unleashed-coding/advent-of-code\n",
      "https://raw.githubusercontent.com/unleashed-coding/advent-of-code/master/README.md\n",
      "vguerrerobosch/advent-of-code-2019\n",
      "None\n",
      "viceroypenguin/adventofcode\n",
      "None\n",
      "vincent-vega/adventofcode\n",
      "https://raw.githubusercontent.com/vincent-vega/adventofcode/master/README.md\n",
      "voivoid/advent-of-code\n",
      "https://raw.githubusercontent.com/voivoid/advent-of-code/master/README.md\n",
      "Voltara/advent2017-fast\n",
      "https://raw.githubusercontent.com/Voltara/advent2017-fast/master/README.md\n",
      "Voltara/advent2018-fast\n",
      "https://raw.githubusercontent.com/Voltara/advent2018-fast/master/README.md\n",
      "vuryss/aoc-2019\n",
      "https://raw.githubusercontent.com/vuryss/aoc-2019/master/README.md\n",
      "Vzaa/advent_of_code_2019\n",
      "https://raw.githubusercontent.com/Vzaa/advent_of_code_2019/master/README.md\n",
      "webbiscuit/adventofcode\n",
      "https://raw.githubusercontent.com/webbiscuit/adventofcode/master/README.md\n",
      "williamfhe/advent-of-code-2019\n",
      "https://raw.githubusercontent.com/williamfhe/advent-of-code-2019/master/README.md\n",
      "willkill07/AdventOfCode2015\n",
      "https://raw.githubusercontent.com/willkill07/AdventOfCode2015/master/README.md\n",
      "willkill07/AdventOfCode2016\n",
      "https://raw.githubusercontent.com/willkill07/AdventOfCode2016/master/README.md\n",
      "willkill07/AdventOfCode2017\n",
      "https://raw.githubusercontent.com/willkill07/AdventOfCode2017/master/README.md\n",
      "wimglenn/advent-of-code-data\n",
      "https://raw.githubusercontent.com/wimglenn/advent-of-code-data/master/README.rst\n"
     ]
    },
    {
     "name": "stdout",
     "output_type": "stream",
     "text": [
      "wimglenn/advent-of-code-wim\n",
      "https://raw.githubusercontent.com/wimglenn/advent-of-code-wim/master/README.md\n",
      "xocolatl/advent-of-code\n",
      "https://raw.githubusercontent.com/xocolatl/advent-of-code/master/README.md\n",
      "xSke/aoc15\n",
      "None\n",
      "yamnikov-oleg/adventofcode2017\n",
      "https://raw.githubusercontent.com/yamnikov-oleg/adventofcode2017/master/README.md\n",
      "zenieldanaku/AdventOfCode\n",
      "https://raw.githubusercontent.com/zenieldanaku/AdventOfCode/master/README.md\n",
      "zero-to-mastery/coding_challenge-12\n",
      "https://raw.githubusercontent.com/zero-to-mastery/coding_challenge-12/master/README.md\n",
      "zero-to-mastery/coding_challenge-24\n",
      "https://raw.githubusercontent.com/zero-to-mastery/coding_challenge-24/master/README.md\n"
     ]
    },
    {
     "data": {
      "text/plain": [
       "True"
      ]
     },
     "execution_count": 9,
     "metadata": {},
     "output_type": "execute_result"
    }
   ],
   "source": [
    "scrapefile = \"datafiles/scrape.json\"\n",
    "scrape_github_data(repos=repo_list, filepath=scrapefile)"
   ]
  },
  {
   "cell_type": "markdown",
   "metadata": {},
   "source": [
    "### Convert json file to dataframe and process"
   ]
  },
  {
   "cell_type": "markdown",
   "metadata": {},
   "source": [
    "*Processing includes separating username and repo directory names from the full repo name, converting any instance of the author's name or repo name to \"username\" or \"reponame\", respectively, and converting all readme text to lowercase."
   ]
  },
  {
   "cell_type": "code",
   "execution_count": 10,
   "metadata": {},
   "outputs": [
    {
     "data": {
      "text/html": [
       "<div>\n",
       "<style scoped>\n",
       "    .dataframe tbody tr th:only-of-type {\n",
       "        vertical-align: middle;\n",
       "    }\n",
       "\n",
       "    .dataframe tbody tr th {\n",
       "        vertical-align: top;\n",
       "    }\n",
       "\n",
       "    .dataframe thead th {\n",
       "        text-align: right;\n",
       "    }\n",
       "</style>\n",
       "<table border=\"1\" class=\"dataframe\">\n",
       "  <thead>\n",
       "    <tr style=\"text-align: right;\">\n",
       "      <th></th>\n",
       "      <th>language</th>\n",
       "      <th>language_all</th>\n",
       "      <th>readme_contents</th>\n",
       "      <th>repo_full</th>\n",
       "      <th>author</th>\n",
       "      <th>repo</th>\n",
       "      <th>readme</th>\n",
       "    </tr>\n",
       "  </thead>\n",
       "  <tbody>\n",
       "    <tr>\n",
       "      <th>0</th>\n",
       "      <td>Python</td>\n",
       "      <td>{'Python': 43467}</td>\n",
       "      <td># 0x8b's [Advent of Code 2019](https://advento...</td>\n",
       "      <td>0x8b/advent-of-code-2019</td>\n",
       "      <td>0x8b</td>\n",
       "      <td>advent-of-code-2019</td>\n",
       "      <td># username's [advent of code 2019](https://adv...</td>\n",
       "    </tr>\n",
       "    <tr>\n",
       "      <th>1</th>\n",
       "      <td>Haskell</td>\n",
       "      <td>{'Haskell': 36753, 'Python': 503}</td>\n",
       "      <td># Advent of Code Solutions\\n\\nI'm probably not...</td>\n",
       "      <td>1Computer1/advent</td>\n",
       "      <td>1Computer1</td>\n",
       "      <td>advent</td>\n",
       "      <td># reponame of code solutions\\n\\ni'm probably n...</td>\n",
       "    </tr>\n",
       "    <tr>\n",
       "      <th>2</th>\n",
       "      <td>JavaScript</td>\n",
       "      <td>{'JavaScript': 23065}</td>\n",
       "      <td># advent-of-code-2018\\n[![Build Status](https:...</td>\n",
       "      <td>adriennetacke/advent-of-code-2018</td>\n",
       "      <td>adriennetacke</td>\n",
       "      <td>advent-of-code-2018</td>\n",
       "      <td># reponame\\n[![build status](https://travis-ci...</td>\n",
       "    </tr>\n",
       "    <tr>\n",
       "      <th>3</th>\n",
       "      <td>JavaScript</td>\n",
       "      <td>{'JavaScript': 41567}</td>\n",
       "      <td># advent-of-code-2019\\nAdvent of Code 2019 🎄 J...</td>\n",
       "      <td>adriennetacke/advent-of-code-2019</td>\n",
       "      <td>adriennetacke</td>\n",
       "      <td>advent-of-code-2019</td>\n",
       "      <td># reponame\\nadvent of code 2019 🎄 javascript s...</td>\n",
       "    </tr>\n",
       "    <tr>\n",
       "      <th>4</th>\n",
       "      <td>C</td>\n",
       "      <td>{'C': 104592, 'Java': 70741, 'Rust': 70646, 'H...</td>\n",
       "      <td>### Advent Of Code solutions\\n\\nGot a solution...</td>\n",
       "      <td>adventofcode/2015solutions</td>\n",
       "      <td>adventofcode</td>\n",
       "      <td>2015solutions</td>\n",
       "      <td>### advent of code solutions\\n\\ngot a solution...</td>\n",
       "    </tr>\n",
       "  </tbody>\n",
       "</table>\n",
       "</div>"
      ],
      "text/plain": [
       "     language                                       language_all  \\\n",
       "0      Python                                  {'Python': 43467}   \n",
       "1     Haskell                  {'Haskell': 36753, 'Python': 503}   \n",
       "2  JavaScript                              {'JavaScript': 23065}   \n",
       "3  JavaScript                              {'JavaScript': 41567}   \n",
       "4           C  {'C': 104592, 'Java': 70741, 'Rust': 70646, 'H...   \n",
       "\n",
       "                                     readme_contents  \\\n",
       "0  # 0x8b's [Advent of Code 2019](https://advento...   \n",
       "1  # Advent of Code Solutions\\n\\nI'm probably not...   \n",
       "2  # advent-of-code-2018\\n[![Build Status](https:...   \n",
       "3  # advent-of-code-2019\\nAdvent of Code 2019 🎄 J...   \n",
       "4  ### Advent Of Code solutions\\n\\nGot a solution...   \n",
       "\n",
       "                           repo_full         author                 repo  \\\n",
       "0           0x8b/advent-of-code-2019           0x8b  advent-of-code-2019   \n",
       "1                  1Computer1/advent     1Computer1               advent   \n",
       "2  adriennetacke/advent-of-code-2018  adriennetacke  advent-of-code-2018   \n",
       "3  adriennetacke/advent-of-code-2019  adriennetacke  advent-of-code-2019   \n",
       "4         adventofcode/2015solutions   adventofcode        2015solutions   \n",
       "\n",
       "                                              readme  \n",
       "0  # username's [advent of code 2019](https://adv...  \n",
       "1  # reponame of code solutions\\n\\ni'm probably n...  \n",
       "2  # reponame\\n[![build status](https://travis-ci...  \n",
       "3  # reponame\\nadvent of code 2019 🎄 javascript s...  \n",
       "4  ### advent of code solutions\\n\\ngot a solution...  "
      ]
     },
     "metadata": {},
     "output_type": "display_data"
    },
    {
     "name": "stdout",
     "output_type": "stream",
     "text": [
      "<class 'pandas.core.frame.DataFrame'>\n",
      "RangeIndex: 304 entries, 0 to 303\n",
      "Data columns (total 7 columns):\n",
      "language           304 non-null object\n",
      "language_all       304 non-null object\n",
      "readme_contents    304 non-null object\n",
      "repo_full          304 non-null object\n",
      "author             304 non-null object\n",
      "repo               304 non-null object\n",
      "readme             304 non-null object\n",
      "dtypes: object(7)\n",
      "memory usage: 16.7+ KB\n"
     ]
    }
   ],
   "source": [
    "git_df = process_scraped_repos(filepath=scrapefile, remove_repos=remove_repos)\n",
    "display(git_df.head())\n",
    "git_df.info()"
   ]
  },
  {
   "cell_type": "code",
   "execution_count": 11,
   "metadata": {},
   "outputs": [
    {
     "name": "stdout",
     "output_type": "stream",
     "text": [
      "There are 45 represented in this file\n"
     ]
    },
    {
     "data": {
      "text/plain": [
       "Python              45\n",
       "JavaScript          36\n",
       "Haskell             29\n",
       "Rust                21\n",
       "Go                  18\n",
       "Clojure             16\n",
       "Java                15\n",
       "Kotlin              12\n",
       "C#                  10\n",
       "Elixir              10\n",
       "Ruby                10\n",
       "Scala                8\n",
       "C++                  8\n",
       "R                    7\n",
       "Jupyter Notebook     5\n",
       "TypeScript           5\n",
       "OCaml                5\n",
       "PHP                  4\n",
       "Swift                3\n",
       "C                    3\n",
       "Perl                 2\n",
       "Julia                2\n",
       "HTML                 2\n",
       "F#                   2\n",
       "Elm                  2\n",
       "PowerShell           2\n",
       "Crystal              2\n",
       "Scheme               2\n",
       "Pony                 2\n",
       "PureScript           1\n",
       "Shell                1\n",
       "Mathematica          1\n",
       "Dart                 1\n",
       "Smalltalk            1\n",
       "TSQL                 1\n",
       "Haxe                 1\n",
       "Nim                  1\n",
       "Racket               1\n",
       "Erlang               1\n",
       "APL                  1\n",
       "Ada                  1\n",
       "Coq                  1\n",
       "Reason               1\n",
       "Eiffel               1\n",
       "D                    1\n",
       "Name: language, dtype: int64"
      ]
     },
     "metadata": {},
     "output_type": "display_data"
    }
   ],
   "source": [
    "languages = git_df.language.value_counts()\n",
    "print(f'There are {len(languages)} represented in this file')\n",
    "display(languages)"
   ]
  },
  {
   "cell_type": "code",
   "execution_count": null,
   "metadata": {},
   "outputs": [],
   "source": []
  },
  {
   "cell_type": "markdown",
   "metadata": {},
   "source": [
    "[Top](#Github-NLP-Project)"
   ]
  },
  {
   "cell_type": "code",
   "execution_count": null,
   "metadata": {},
   "outputs": [],
   "source": []
  },
  {
   "cell_type": "code",
   "execution_count": null,
   "metadata": {},
   "outputs": [],
   "source": []
  },
  {
   "cell_type": "markdown",
   "metadata": {},
   "source": [
    "### Output processed dataframe to json file"
   ]
  },
  {
   "cell_type": "code",
   "execution_count": 12,
   "metadata": {},
   "outputs": [
    {
     "data": {
      "text/html": [
       "<div>\n",
       "<style scoped>\n",
       "    .dataframe tbody tr th:only-of-type {\n",
       "        vertical-align: middle;\n",
       "    }\n",
       "\n",
       "    .dataframe tbody tr th {\n",
       "        vertical-align: top;\n",
       "    }\n",
       "\n",
       "    .dataframe thead th {\n",
       "        text-align: right;\n",
       "    }\n",
       "</style>\n",
       "<table border=\"1\" class=\"dataframe\">\n",
       "  <thead>\n",
       "    <tr style=\"text-align: right;\">\n",
       "      <th></th>\n",
       "      <th>language</th>\n",
       "      <th>language_all</th>\n",
       "      <th>repo_full</th>\n",
       "      <th>author</th>\n",
       "      <th>repo</th>\n",
       "      <th>readme</th>\n",
       "    </tr>\n",
       "  </thead>\n",
       "  <tbody>\n",
       "    <tr>\n",
       "      <th>0</th>\n",
       "      <td>Python</td>\n",
       "      <td>{'Python': 43467}</td>\n",
       "      <td>0x8b/advent-of-code-2019</td>\n",
       "      <td>0x8b</td>\n",
       "      <td>advent-of-code-2019</td>\n",
       "      <td># username's [advent of code 2019](https://adv...</td>\n",
       "    </tr>\n",
       "    <tr>\n",
       "      <th>1</th>\n",
       "      <td>Haskell</td>\n",
       "      <td>{'Haskell': 36753, 'Python': 503}</td>\n",
       "      <td>1Computer1/advent</td>\n",
       "      <td>1Computer1</td>\n",
       "      <td>advent</td>\n",
       "      <td># reponame of code solutions\\n\\ni'm probably n...</td>\n",
       "    </tr>\n",
       "    <tr>\n",
       "      <th>10</th>\n",
       "      <td>TypeScript</td>\n",
       "      <td>{'TypeScript': 178903, 'Rust': 68139, 'Smarty'...</td>\n",
       "      <td>AlexAegis/advent-of-code</td>\n",
       "      <td>AlexAegis</td>\n",
       "      <td>advent-of-code</td>\n",
       "      <td># [advent of code](https://adventofcode.com/)\\...</td>\n",
       "    </tr>\n",
       "    <tr>\n",
       "      <th>100</th>\n",
       "      <td>Python</td>\n",
       "      <td>{'Python': 64874, 'Julia': 29174}</td>\n",
       "      <td>ferrolho/advent-of-code</td>\n",
       "      <td>ferrolho</td>\n",
       "      <td>advent-of-code</td>\n",
       "      <td># advent of code\\n\\n:santa: :christmas_tree: :...</td>\n",
       "    </tr>\n",
       "    <tr>\n",
       "      <th>101</th>\n",
       "      <td>Swift</td>\n",
       "      <td>{'Swift': 69603}</td>\n",
       "      <td>fguchelaar/AdventOfCode2019</td>\n",
       "      <td>fguchelaar</td>\n",
       "      <td>AdventOfCode2019</td>\n",
       "      <td># advent of code 2019\\n\\nmy solutions for the ...</td>\n",
       "    </tr>\n",
       "  </tbody>\n",
       "</table>\n",
       "</div>"
      ],
      "text/plain": [
       "       language                                       language_all  \\\n",
       "0        Python                                  {'Python': 43467}   \n",
       "1       Haskell                  {'Haskell': 36753, 'Python': 503}   \n",
       "10   TypeScript  {'TypeScript': 178903, 'Rust': 68139, 'Smarty'...   \n",
       "100      Python                  {'Python': 64874, 'Julia': 29174}   \n",
       "101       Swift                                   {'Swift': 69603}   \n",
       "\n",
       "                       repo_full      author                 repo  \\\n",
       "0       0x8b/advent-of-code-2019        0x8b  advent-of-code-2019   \n",
       "1              1Computer1/advent  1Computer1               advent   \n",
       "10      AlexAegis/advent-of-code   AlexAegis       advent-of-code   \n",
       "100      ferrolho/advent-of-code    ferrolho       advent-of-code   \n",
       "101  fguchelaar/AdventOfCode2019  fguchelaar     AdventOfCode2019   \n",
       "\n",
       "                                                readme  \n",
       "0    # username's [advent of code 2019](https://adv...  \n",
       "1    # reponame of code solutions\\n\\ni'm probably n...  \n",
       "10   # [advent of code](https://adventofcode.com/)\\...  \n",
       "100  # advent of code\\n\\n:santa: :christmas_tree: :...  \n",
       "101  # advent of code 2019\\n\\nmy solutions for the ...  "
      ]
     },
     "metadata": {},
     "output_type": "display_data"
    },
    {
     "name": "stdout",
     "output_type": "stream",
     "text": [
      "<class 'pandas.core.frame.DataFrame'>\n",
      "Int64Index: 304 entries, 0 to 99\n",
      "Data columns (total 6 columns):\n",
      "language        304 non-null object\n",
      "language_all    304 non-null object\n",
      "repo_full       304 non-null object\n",
      "author          304 non-null object\n",
      "repo            304 non-null object\n",
      "readme          304 non-null object\n",
      "dtypes: object(6)\n",
      "memory usage: 16.6+ KB\n",
      "None\n"
     ]
    }
   ],
   "source": [
    "output_file = 'datafiles/outdata.json'\n",
    "json_chk = output_processed_repos(git_df=git_df, output_file=output_file)\n",
    "display(json_chk.head())\n",
    "print(json_chk.info())"
   ]
  },
  {
   "cell_type": "markdown",
   "metadata": {},
   "source": [
    "# Prepare"
   ]
  },
  {
   "cell_type": "markdown",
   "metadata": {},
   "source": [
    "[Top](#Github-NLP-Project)"
   ]
  },
  {
   "cell_type": "markdown",
   "metadata": {},
   "source": [
    "## Functions"
   ]
  },
  {
   "cell_type": "code",
   "execution_count": 13,
   "metadata": {},
   "outputs": [],
   "source": [
    "def normalize(string):\n",
    "    # lower case the string\n",
    "    string = string.lower()\n",
    "\n",
    "    # replace new lines with an empty space\n",
    "    string = re.sub(r'\\n',' ',string)\n",
    "    \n",
    "    # normalize unicode characters\n",
    "    string = unicodedata.normalize('NFKD', string).encode('ascii', 'ignore').decode('utf-8', 'ignore')\n",
    "    \n",
    "    # replace . with space\n",
    "    string = re.sub(r'\\.',' ',string)\n",
    "    \n",
    "    # replace / with space\n",
    "    string = re.sub(r'/',' ',string)\n",
    "    \n",
    "    # replace c++ th c plus plus\n",
    "    string = re.sub(r'c\\+\\+','cplusplus',string)\n",
    "\n",
    "    # replace c+ with c plus\n",
    "    string = re.sub(r'c\\+','cplus ',string)\n",
    "\n",
    "    # replace c# with c sharp\n",
    "    string = re.sub(r'c#','csharp ',string)\n",
    "\n",
    "    # replace f# with f sharp\n",
    "    string = re.sub(r'f#','fsharp ',string)\n",
    "    \n",
    "    # replaces certain special characters with a space\n",
    "    string = re.sub(r'[\\[\\](){}]',' ', string)\n",
    "    \n",
    "    # replace multiple adjacent spaces with only one space\n",
    "    string = re.sub(r'\\s+',' ',string)\n",
    "\n",
    "    # remove remaining special characters and numbers with regex\n",
    "    string = re.sub(r'[^a-z\\s]','', string)\n",
    "    \n",
    "    return string"
   ]
  },
  {
   "cell_type": "code",
   "execution_count": 14,
   "metadata": {},
   "outputs": [],
   "source": [
    "def stem(string):\n",
    "    ps = nltk.porter.PorterStemmer()\n",
    "    stems = [ps.stem(word) for word in string.split()]\n",
    "    string_of_stems = ' '.join(stems)\n",
    "    return string_of_stems"
   ]
  },
  {
   "cell_type": "code",
   "execution_count": 15,
   "metadata": {},
   "outputs": [],
   "source": [
    "def lemmatize(string):\n",
    "    wnl = nltk.stem.WordNetLemmatizer()\n",
    "    lemmas = [wnl.lemmatize(word) for word in string.split()]\n",
    "    string_of_lemmas = ' '.join(lemmas)\n",
    "    return string_of_lemmas"
   ]
  },
  {
   "cell_type": "code",
   "execution_count": 16,
   "metadata": {},
   "outputs": [],
   "source": [
    "def tokenize(string):\n",
    "    tokenizer = nltk.tokenize.ToktokTokenizer()\n",
    "    return tokenizer.tokenize(string, return_str=True)"
   ]
  },
  {
   "cell_type": "code",
   "execution_count": 17,
   "metadata": {},
   "outputs": [],
   "source": [
    "def remove_stopwords(tokenized_string, extra_words=['advent', 'of','code', 'aoc', 'day', 'solution', 'httpsgithub','githubhttpsimg','hpphttpsgithub','httpsadventofcode', 'adventofcode','commstksgadventofcodeblobmasterreflections', 'httpadventofcode','com', 'github', 'http', 'https','adventofcodehttps','master','blob','username', 'reponame','svg','src'], exclude_words=[]):\n",
    "    words = tokenized_string.split()\n",
    "    stopword_list = stopwords.words('english')\n",
    "\n",
    "    # remove the excluded words from the stopword list\n",
    "    stopword_list = set(stopword_list) - set(exclude_words)\n",
    "\n",
    "    # add in the user specified extra words\n",
    "    stopword_list = stopword_list.union(set(extra_words))\n",
    "\n",
    "    filtered_words = [w for w in words if w not in stopword_list]\n",
    "    final_string = \" \".join(filtered_words)\n",
    "    return final_string"
   ]
  },
  {
   "cell_type": "markdown",
   "metadata": {},
   "source": [
    "### Read in json file containing repos and content"
   ]
  },
  {
   "cell_type": "code",
   "execution_count": 18,
   "metadata": {},
   "outputs": [],
   "source": [
    "# read in content as json and save as dataframe\n",
    "df = pd.read_json(output_file)"
   ]
  },
  {
   "cell_type": "code",
   "execution_count": 19,
   "metadata": {},
   "outputs": [
    {
     "data": {
      "text/plain": [
       "(304, 6)"
      ]
     },
     "execution_count": 19,
     "metadata": {},
     "output_type": "execute_result"
    }
   ],
   "source": [
    "# preview data\n",
    "df.shape"
   ]
  },
  {
   "cell_type": "code",
   "execution_count": 20,
   "metadata": {},
   "outputs": [
    {
     "data": {
      "text/html": [
       "<div>\n",
       "<style scoped>\n",
       "    .dataframe tbody tr th:only-of-type {\n",
       "        vertical-align: middle;\n",
       "    }\n",
       "\n",
       "    .dataframe tbody tr th {\n",
       "        vertical-align: top;\n",
       "    }\n",
       "\n",
       "    .dataframe thead th {\n",
       "        text-align: right;\n",
       "    }\n",
       "</style>\n",
       "<table border=\"1\" class=\"dataframe\">\n",
       "  <thead>\n",
       "    <tr style=\"text-align: right;\">\n",
       "      <th></th>\n",
       "      <th>language</th>\n",
       "      <th>language_all</th>\n",
       "      <th>repo_full</th>\n",
       "      <th>author</th>\n",
       "      <th>repo</th>\n",
       "      <th>readme</th>\n",
       "    </tr>\n",
       "  </thead>\n",
       "  <tbody>\n",
       "    <tr>\n",
       "      <th>0</th>\n",
       "      <td>Python</td>\n",
       "      <td>{'Python': 43467}</td>\n",
       "      <td>0x8b/advent-of-code-2019</td>\n",
       "      <td>0x8b</td>\n",
       "      <td>advent-of-code-2019</td>\n",
       "      <td># username's [advent of code 2019](https://adv...</td>\n",
       "    </tr>\n",
       "    <tr>\n",
       "      <th>1</th>\n",
       "      <td>Haskell</td>\n",
       "      <td>{'Haskell': 36753, 'Python': 503}</td>\n",
       "      <td>1Computer1/advent</td>\n",
       "      <td>1Computer1</td>\n",
       "      <td>advent</td>\n",
       "      <td># reponame of code solutions\\n\\ni'm probably n...</td>\n",
       "    </tr>\n",
       "    <tr>\n",
       "      <th>10</th>\n",
       "      <td>TypeScript</td>\n",
       "      <td>{'TypeScript': 178903, 'Rust': 68139, 'Smarty'...</td>\n",
       "      <td>AlexAegis/advent-of-code</td>\n",
       "      <td>AlexAegis</td>\n",
       "      <td>advent-of-code</td>\n",
       "      <td># [advent of code](https://adventofcode.com/)\\...</td>\n",
       "    </tr>\n",
       "    <tr>\n",
       "      <th>100</th>\n",
       "      <td>Python</td>\n",
       "      <td>{'Python': 64874, 'Julia': 29174}</td>\n",
       "      <td>ferrolho/advent-of-code</td>\n",
       "      <td>ferrolho</td>\n",
       "      <td>advent-of-code</td>\n",
       "      <td># advent of code\\n\\n:santa: :christmas_tree: :...</td>\n",
       "    </tr>\n",
       "    <tr>\n",
       "      <th>101</th>\n",
       "      <td>Swift</td>\n",
       "      <td>{'Swift': 69603}</td>\n",
       "      <td>fguchelaar/AdventOfCode2019</td>\n",
       "      <td>fguchelaar</td>\n",
       "      <td>AdventOfCode2019</td>\n",
       "      <td># advent of code 2019\\n\\nmy solutions for the ...</td>\n",
       "    </tr>\n",
       "  </tbody>\n",
       "</table>\n",
       "</div>"
      ],
      "text/plain": [
       "       language                                       language_all  \\\n",
       "0        Python                                  {'Python': 43467}   \n",
       "1       Haskell                  {'Haskell': 36753, 'Python': 503}   \n",
       "10   TypeScript  {'TypeScript': 178903, 'Rust': 68139, 'Smarty'...   \n",
       "100      Python                  {'Python': 64874, 'Julia': 29174}   \n",
       "101       Swift                                   {'Swift': 69603}   \n",
       "\n",
       "                       repo_full      author                 repo  \\\n",
       "0       0x8b/advent-of-code-2019        0x8b  advent-of-code-2019   \n",
       "1              1Computer1/advent  1Computer1               advent   \n",
       "10      AlexAegis/advent-of-code   AlexAegis       advent-of-code   \n",
       "100      ferrolho/advent-of-code    ferrolho       advent-of-code   \n",
       "101  fguchelaar/AdventOfCode2019  fguchelaar     AdventOfCode2019   \n",
       "\n",
       "                                                readme  \n",
       "0    # username's [advent of code 2019](https://adv...  \n",
       "1    # reponame of code solutions\\n\\ni'm probably n...  \n",
       "10   # [advent of code](https://adventofcode.com/)\\...  \n",
       "100  # advent of code\\n\\n:santa: :christmas_tree: :...  \n",
       "101  # advent of code 2019\\n\\nmy solutions for the ...  "
      ]
     },
     "execution_count": 20,
     "metadata": {},
     "output_type": "execute_result"
    }
   ],
   "source": [
    "df.head()"
   ]
  },
  {
   "cell_type": "markdown",
   "metadata": {},
   "source": [
    "### Create new columns which show readme content normalized, stemmed, and lemmatized"
   ]
  },
  {
   "cell_type": "code",
   "execution_count": 21,
   "metadata": {},
   "outputs": [],
   "source": [
    "df = df.assign(normalized = df.readme.apply(normalize))\n",
    "df = df.assign(stemmed = df.normalized.apply(stem))\n",
    "df = df.assign(lemmatized = df.normalized.apply(lemmatize))"
   ]
  },
  {
   "cell_type": "code",
   "execution_count": 22,
   "metadata": {},
   "outputs": [
    {
     "data": {
      "text/html": [
       "<div>\n",
       "<style scoped>\n",
       "    .dataframe tbody tr th:only-of-type {\n",
       "        vertical-align: middle;\n",
       "    }\n",
       "\n",
       "    .dataframe tbody tr th {\n",
       "        vertical-align: top;\n",
       "    }\n",
       "\n",
       "    .dataframe thead th {\n",
       "        text-align: right;\n",
       "    }\n",
       "</style>\n",
       "<table border=\"1\" class=\"dataframe\">\n",
       "  <thead>\n",
       "    <tr style=\"text-align: right;\">\n",
       "      <th></th>\n",
       "      <th>stemmed</th>\n",
       "      <th>lemmatized</th>\n",
       "    </tr>\n",
       "  </thead>\n",
       "  <tbody>\n",
       "    <tr>\n",
       "      <th>0</th>\n",
       "      <td>usernam advent of code http adventofcod com so...</td>\n",
       "      <td>usernames advent of code http adventofcode com...</td>\n",
       "    </tr>\n",
       "    <tr>\n",
       "      <th>1</th>\n",
       "      <td>reponam of code solut im probabl not gonna do ...</td>\n",
       "      <td>reponame of code solution im probably not gonn...</td>\n",
       "    </tr>\n",
       "    <tr>\n",
       "      <th>10</th>\n",
       "      <td>advent of code http adventofcod com build stat...</td>\n",
       "      <td>advent of code http adventofcode com build sta...</td>\n",
       "    </tr>\n",
       "    <tr>\n",
       "      <th>100</th>\n",
       "      <td>advent of code santa christmastre gift my solu...</td>\n",
       "      <td>advent of code santa christmastree gift my sol...</td>\n",
       "    </tr>\n",
       "    <tr>\n",
       "      <th>101</th>\n",
       "      <td>advent of code my solut for the fifth instal o...</td>\n",
       "      <td>advent of code my solution for the fifth insta...</td>\n",
       "    </tr>\n",
       "  </tbody>\n",
       "</table>\n",
       "</div>"
      ],
      "text/plain": [
       "                                               stemmed  \\\n",
       "0    usernam advent of code http adventofcod com so...   \n",
       "1    reponam of code solut im probabl not gonna do ...   \n",
       "10   advent of code http adventofcod com build stat...   \n",
       "100  advent of code santa christmastre gift my solu...   \n",
       "101  advent of code my solut for the fifth instal o...   \n",
       "\n",
       "                                            lemmatized  \n",
       "0    usernames advent of code http adventofcode com...  \n",
       "1    reponame of code solution im probably not gonn...  \n",
       "10   advent of code http adventofcode com build sta...  \n",
       "100  advent of code santa christmastree gift my sol...  \n",
       "101  advent of code my solution for the fifth insta...  "
      ]
     },
     "execution_count": 22,
     "metadata": {},
     "output_type": "execute_result"
    }
   ],
   "source": [
    "# preview results to decide which technique to use when reducing form of words (lemmatize vs stem)\n",
    "df[['stemmed','lemmatized']].head()"
   ]
  },
  {
   "cell_type": "code",
   "execution_count": 23,
   "metadata": {},
   "outputs": [
    {
     "data": {
      "text/plain": [
       "advent-of-code                   35\n",
       "advent-of-code-2019              23\n",
       "adventofcode                     17\n",
       "AdventOfCode                     17\n",
       "advent-of-code-2018              11\n",
       "AdventOfCode2019                 11\n",
       "AdventOfCode2018                  8\n",
       "aoc-2019                          7\n",
       "adventofcode2019                  6\n",
       "aoc2019                           5\n",
       "AdventOfCode2015                  4\n",
       "aoc2017                           4\n",
       "AdventOfCode2017                  4\n",
       "advent2019                        4\n",
       "Advent-of-Code-2019               3\n",
       "advent-2019                       3\n",
       "aoc19                             3\n",
       "aoc                               3\n",
       "advent-of-code-2017               3\n",
       "advent-of-code-2015               3\n",
       "adventOfCode                      3\n",
       "advent_of_code_2019               3\n",
       "advent                            2\n",
       "advent2018                        2\n",
       "Advent-of-Code                    2\n",
       "advent_of_code_2018               2\n",
       "AoC2019                           2\n",
       "adventofcode2017                  2\n",
       "advent-of-code-2016               2\n",
       "advent2017                        2\n",
       "                                 ..\n",
       "advent2018-fast                   1\n",
       "advent-of-code-2019-hask          1\n",
       "aoc-kotlin-starter                1\n",
       "AofC2017                          1\n",
       "advent-of-code-java-starter       1\n",
       "advent_of_code_2015               1\n",
       "aoc-ranking                       1\n",
       "Advent-Of-Code                    1\n",
       "aoc-stats                         1\n",
       "adventofcode19                    1\n",
       "advent_of_code_2017               1\n",
       "advent-of-code-scala              1\n",
       "Advent-of-Code-2019-in-R          1\n",
       "advent-2017-kotlin                1\n",
       "Advent-Of-Code-Polyglot           1\n",
       "aoc-starter-ts                    1\n",
       "AdventOfCodeBase                  1\n",
       "advent-2018-kotlin                1\n",
       "advent-of-code-elixir-starter     1\n",
       "advent18                          1\n",
       "adventofcode2016                  1\n",
       "advent-of-code-2018-nodejs        1\n",
       "advent-of-code-2019-python        1\n",
       "code-challenges                   1\n",
       "adventofcode-2017                 1\n",
       "advent-of-code-haskell            1\n",
       "aoc-racket                        1\n",
       "advent-of-rust-2017               1\n",
       "kotlin-advent-of-code             1\n",
       "advent-of-code-downloader         1\n",
       "Name: repo, Length: 133, dtype: int64"
      ]
     },
     "execution_count": 23,
     "metadata": {},
     "output_type": "execute_result"
    }
   ],
   "source": [
    "# People are not very creative with their repo names. \n",
    "df.repo.value_counts()"
   ]
  },
  {
   "cell_type": "markdown",
   "metadata": {},
   "source": [
    "#### Lemmatization > Stemming\n",
    "\n",
    "We choose to lemmatize instead of stemming for a couple of reasons. One, lemmatizing preserves the root word in the form of a real word. Our readme data is full of shortened and combined \"words\" that are not real words. A lot of this is noise. We do not want to stem the data because the words will look too similar to this noise. Secondly, stemming's advantage over lemmatization is its low computing requirements and quick results. Our data set is fairly small and such minor improvements are not important to us. In this case, it is better to lemmatize."
   ]
  },
  {
   "cell_type": "code",
   "execution_count": 24,
   "metadata": {},
   "outputs": [],
   "source": [
    "# Choose lemmatize and proceed forward with tokenization and stop words\n",
    "# create new column called prepped which takes the lemmatized column and passes it through the tokenize function and remove_stopwords function\n",
    "df = df.assign(prepped = df.lemmatized.apply(tokenize).apply(remove_stopwords))"
   ]
  },
  {
   "cell_type": "code",
   "execution_count": 25,
   "metadata": {},
   "outputs": [
    {
     "data": {
      "text/plain": [
       "0      usernames run repl repl badge repl daynamesolu...\n",
       "1      im probably gonna problem im gonna pretend lik...\n",
       "10     build status travisci svgbranchmaster travisci...\n",
       "100    santa christmastree gift problem might write s...\n",
       "101    fifth installment creating package ive prepare...\n",
       "Name: prepped, dtype: object"
      ]
     },
     "execution_count": 25,
     "metadata": {},
     "output_type": "execute_result"
    }
   ],
   "source": [
    "df.prepped.head()"
   ]
  },
  {
   "cell_type": "code",
   "execution_count": 26,
   "metadata": {},
   "outputs": [
    {
     "data": {
      "text/plain": [
       "                                                                                                                                                                                                                                                                                                                                                                                                                                                                                                                                                                                                                                                                              26\n",
       "app main lh                                                                                                                                                                                                                                                                                                                                                                                                                                                                                                                                                                                                                                                                    2\n",
       "puzzle                                                                                                                                                                                                                                                                                                                                                                                                                                                                                                                                                                                                                                                                         2\n",
       "python                                                                                                                                                                                                                                                                                                                                                                                                                                                                                                                                                                                                                                                                         2\n",
       "contribute inspired others bidra med dina losningar pa problemen vilket sprak du vill valj ett du kan eller ett du vill lara dig vi har ocksa en ledarbrada leaderboard pa koden till ledarbradan ar eed vi har ocksa en slackkanal dit alla ar valkomna att snacka eller egentligen allt mellan himmel och jord med lite koppling till kod maila infousername se eller twittra din epost till sa slapper vi er dina losningar far garna checkas en mapp med namn pa formen anvandarnamnsprak sa blir det lite lattare alla att fa overblick losningarna kan komma att diskuteras avsnitt av sa lagg med en readme md med en notis om du inte vill riskera att bli omnamnd     2\n",
       "Name: prepped, dtype: int64"
      ]
     },
     "execution_count": 26,
     "metadata": {},
     "output_type": "execute_result"
    }
   ],
   "source": [
    "# 26 blank readme's as a result of removing stop words. We need to drop them.\n",
    "df.prepped.value_counts().head()"
   ]
  },
  {
   "cell_type": "code",
   "execution_count": 27,
   "metadata": {},
   "outputs": [
    {
     "data": {
      "text/plain": [
       "app main lh                                                                                                                                                                                                                                                                                                                                                                                                                                                                                                                                                                                                                                                                                                                                                                                                                                                                                                                                                                                                                                                                                                                                                                                                                                                                                                                                                                                                                                                                                                                                                                                                                                                                                                                                                                                                                                                                                                                                                                                                                                                                                                                                                                                                                                                                                                                                                                                                                                                                                                                                                                                                                                                                                                                                                                                                                                                                                                                                                                                                                                                                                                                                                                                                                                                                                                                                                                                                                                                                                                                                                                                                                                                                                                                                                                                                                                                                                                                                                                                                                                               2\n",
       "puzzle                                                                                                                                                                                                                                                                                                                                                                                                                                                                                                                                                                                                                                                                                                                                                                                                                                                                                                                                                                                                                                                                                                                                                                                                                                                                                                                                                                                                                                                                                                                                                                                                                                                                                                                                                                                                                                                                                                                                                                                                                                                                                                                                                                                                                                                                                                                                                                                                                                                                                                                                                                                                                                                                                                                                                                                                                                                                                                                                                                                                                                                                                                                                                                                                                                                                                                                                                                                                                                                                                                                                                                                                                                                                                                                                                                                                                                                                                                                                                                                                                                                    2\n",
       "contribute inspired others bidra med dina losningar pa problemen vilket sprak du vill valj ett du kan eller ett du vill lara dig vi har ocksa en ledarbrada leaderboard pa koden till ledarbradan ar eed vi har ocksa en slackkanal dit alla ar valkomna att snacka eller egentligen allt mellan himmel och jord med lite koppling till kod maila infousername se eller twittra din epost till sa slapper vi er dina losningar far garna checkas en mapp med namn pa formen anvandarnamnsprak sa blir det lite lattare alla att fa overblick losningarna kan komma att diskuteras avsnitt av sa lagg med en readme md med en notis om du inte vill riskera att bli omnamnd                                                                                                                                                                                                                                                                                                                                                                                                                                                                                                                                                                                                                                                                                                                                                                                                                                                                                                                                                                                                                                                                                                                                                                                                                                                                                                                                                                                                                                                                                                                                                                                                                                                                                                                                                                                                                                                                                                                                                                                                                                                                                                                                                                                                                                                                                                                                                                                                                                                                                                                                                                                                                                                                                                                                                                                                                                                                                                                                                                                                                                                                                                                                                                                                                                                                                                                                                                                2\n",
       "python                                                                                                                                                                                                                                                                                                                                                                                                                                                                                                                                                                                                                                                                                                                                                                                                                                                                                                                                                                                                                                                                                                                                                                                                                                                                                                                                                                                                                                                                                                                                                                                                                                                                                                                                                                                                                                                                                                                                                                                                                                                                                                                                                                                                                                                                                                                                                                                                                                                                                                                                                                                                                                                                                                                                                                                                                                                                                                                                                                                                                                                                                                                                                                                                                                                                                                                                                                                                                                                                                                                                                                                                                                                                                                                                                                                                                                                                                                                                                                                                                                                    2\n",
       "kq im using various language provide name ruby tyranny rocket equation heavycheckmark main rb program alarm heavycheckmark main rb crossed wire heavycheckmark main rb secure container heavycheckmark main rb sunny chance asteroid heavycheckmark main rb universal orbit map heavycheckmark main rb amplification circuit heavycheckmark main rb space image format heavycheckmark main rb sensor boost heavycheckmark main rb monitoring station heavycheckmark main rb space police heavycheckmark main rb nbody problem heavycheckmark main rb kq dev cc readme generated                                                                                                                                                                                                                                                                                                                                                                                                                                                                                                                                                                                                                                                                                                                                                                                                                                                                                                                                                                                                                                                                                                                                                                                                                                                                                                                                                                                                                                                                                                                                                                                                                                                                                                                                                                                                                                                                                                                                                                                                                                                                                                                                                                                                                                                                                                                                                                                                                                                                                                                                                                                                                                                                                                                                                                                                                                                                                                                                                                                                                                                                                                                                                                                                                                                                                                                                                                                                                                                                           1\n",
       "exercise elixir                                                                                                                                                                                                                                                                                                                                                                                                                                                                                                                                                                                                                                                                                                                                                                                                                                                                                                                                                                                                                                                                                                                                                                                                                                                                                                                                                                                                                                                                                                                                                                                                                                                                                                                                                                                                                                                                                                                                                                                                                                                                                                                                                                                                                                                                                                                                                                                                                                                                                                                                                                                                                                                                                                                                                                                                                                                                                                                                                                                                                                                                                                                                                                                                                                                                                                                                                                                                                                                                                                                                                                                                                                                                                                                                                                                                                                                                                                                                                                                                                                           1\n",
       "python part optimized brevity cost readability funsies requirement python instruction puzzle life file named dayx py associated input inputx txt expects input given stdin example cat input txt py run using inputx txt file run run sh                                                                                                                                                                                                                                                                                                                                                                                                                                                                                                                                                                                                                                                                                                                                                                                                                                                                                                                                                                                                                                                                                                                                                                                                                                                                                                                                                                                                                                                                                                                                                                                                                                                                                                                                                                                                                                                                                                                                                                                                                                                                                                                                                                                                                                                                                                                                                                                                                                                                                                                                                                                                                                                                                                                                                                                                                                                                                                                                                                                                                                                                                                                                                                                                                                                                                                                                                                                                                                                                                                                                                                                                                                                                                                                                                                                                                  1\n",
       "private leaderboard ranking extension visualize ranking time www private leaderboard see io interactive example private leaderboard ranking example ranking png private leaderboard ranking example installation firefox addons mozilla org enus firefox addon chrome chrome google webstore detail adventofcoderanking jbnlafikncgjjhdkmfhokcplgahebmjl building locally build extension locally run npm install npm run build generate exploded version extension dist folder use webext run mozilla webext dist folder run locally firefox webext build create package                                                                                                                                                                                                                                                                                                                                                                                                                                                                                                                                                                                                                                                                                                                                                                                                                                                                                                                                                                                                                                                                                                                                                                                                                                                                                                                                                                                                                                                                                                                                                                                                                                                                                                                                                                                                                                                                                                                                                                                                                                                                                                                                                                                                                                                                                                                                                                                                                                                                                                                                                                                                                                                                                                                                                                                                                                                                                                                                                                                                                                                                                                                                                                                                                                                                                                                                                                                                                                                                                 1\n",
       "readme repo answer starting written mostly r sometimes snippet provided ill try push one correct txt tree readme md input txt input txt mbp codeworkspace readme md directory file                                                                                                                                                                                                                                                                                                                                                                                                                                                                                                                                                                                                                                                                                                                                                                                                                                                                                                                                                                                                                                                                                                                                                                                                                                                                                                                                                                                                                                                                                                                                                                                                                                                                                                                                                                                                                                                                                                                                                                                                                                                                                                                                                                                                                                                                                                                                                                                                                                                                                                                                                                                                                                                                                                                                                                                                                                                                                                                                                                                                                                                                                                                                                                                                                                                                                                                                                                                                                                                                                                                                                                                                                                                                                                                                                                                                                                                                        1\n",
       "scala written scala want get people interested language focus readability brevity first performance come second also take special care process standard input streaming fashion like work please star repository thanks                                                                                                                                                                                                                                                                                                                                                                                                                                                                                                                                                                                                                                                                                                                                                                                                                                                                                                                                                                                                                                                                                                                                                                                                                                                                                                                                                                                                                                                                                                                                                                                                                                                                                                                                                                                                                                                                                                                                                                                                                                                                                                                                                                                                                                                                                                                                                                                                                                                                                                                                                                                                                                                                                                                                                                                                                                                                                                                                                                                                                                                                                                                                                                                                                                                                                                                                                                                                                                                                                                                                                                                                                                                                                                                                                                                                                                   1\n",
       "id like learn bit clojure rust time exercising problemsolving ability                                                                                                                                                                                                                                                                                                                                                                                                                                                                                                                                                                                                                                                                                                                                                                                                                                                                                                                                                                                                                                                                                                                                                                                                                                                                                                                                                                                                                                                                                                                                                                                                                                                                                                                                                                                                                                                                                                                                                                                                                                                                                                                                                                                                                                                                                                                                                                                                                                                                                                                                                                                                                                                                                                                                                                                                                                                                                                                                                                                                                                                                                                                                                                                                                                                                                                                                                                                                                                                                                                                                                                                                                                                                                                                                                                                                                                                                                                                                                                                     1\n",
       "chart unofficial licenseandaffiliationdisclaimer small hackedup set chart private leaderboard get extension browserstorechrome png browserstorechrome png chrome google webstore detail ipbomkmbokofodhhjpipflmdplipblbe browserstorefirefox png browserstorefirefox png addons mozilla org enus firefox addon disclaimer wellarchitectured wellwritten neat nice fluffy industrystrength piece instead something fun wanted make stepping normal way coding warranty developing install dependency sh npm ci npm install serve test website dummy data sh npm run start run serve watch parallel open localhost building run build p build sh recreate build folder readytogo browser extension test extension loading browser full reference see chrome firefoxs full documentation basic firefox go aboutdebugging load temporary addon pick build manifest json file chrome go chrome extension load unpacked extension pick build folder test browsing private leaderboard see chart popping bottom license affiliation disclaimer project mit licensed explicit exception dummydata j file contains json format thought owner creator suppose using small snippet like fall fair use given one website suggests using json api integration albeit without spamming api note eric wastls project official way directly indirectly endorsed affiliated creator owner read learn project oh course please consider donating support example le look like example png example png                                                                                                                                                                                                                                                                                                                                                                                                                                                                                                                                                                                                                                                                                                                                                                                                                                                                                                                                                                                                                                                                                                                                                                                                                                                                                                                                                                                                                                                                                                                                                                                                                                                                                                                                                                                                                                                                                                                                                                                                                                                                                                                                                                                                                                                                                                                                                                                                                                                                                                                                                                       1\n",
       "yearly puzzle used squeak smalltalk squeak org programming language requirement squeak squeak org git infraestructure executing installer installgitinfrastructure workspace                                                                                                                                                                                                                                                                                                                                                                                                                                                                                                                                                                                                                                                                                                                                                                                                                                                                                                                                                                                                                                                                                                                                                                                                                                                                                                                                                                                                                                                                                                                                                                                                                                                                                                                                                                                                                                                                                                                                                                                                                                                                                                                                                                                                                                                                                                                                                                                                                                                                                                                                                                                                                                                                                                                                                                                                                                                                                                                                                                                                                                                                                                                                                                                                                                                                                                                                                                                                                                                                                                                                                                                                                                                                                                                                                                                                                                                                              1\n",
       "repo edition                                                                                                                                                                                                                                                                                                                                                                                                                                                                                                                                                                                                                                                                                                                                                                                                                                                                                                                                                                                                                                                                                                                                                                                                                                                                                                                                                                                                                                                                                                                                                                                                                                                                                                                                                                                                                                                                                                                                                                                                                                                                                                                                                                                                                                                                                                                                                                                                                                                                                                                                                                                                                                                                                                                                                                                                                                                                                                                                                                                                                                                                                                                                                                                                                                                                                                                                                                                                                                                                                                                                                                                                                                                                                                                                                                                                                                                                                                                                                                                                                                              1\n",
       "julia build status travisci svgbranchmaster travisci codecov codecov io gh branch graph badge codecov io gh status img shield io static vlabelworkmessageterminatedcoloryellow solved inprogress disclaimer dont want brainlessly try understand others written im switching work two project imporant would available sooner later however yet kiss sincerely kamil                                                                                                                                                                                                                                                                                                                                                                                                                                                                                                                                                                                                                                                                                                                                                                                                                                                                                                                                                                                                                                                                                                                                                                                                                                                                                                                                                                                                                                                                                                                                                                                                                                                                                                                                                                                                                                                                                                                                                                                                                                                                                                                                                                                                                                                                                                                                                                                                                                                                                                                                                                                                                                                                                                                                                                                                                                                                                                                                                                                                                                                                                                                                                                                                                                                                                                                                                                                                                                                                                                                                                                                                                                                                                      1\n",
       "personal exercise scala circleci circleci gh svgstylesvg circleci gh running need sbt scalasbt org installed                                                                                                                                                                                                                                                                                                                                                                                                                                                                                                                                                                                                                                                                                                                                                                                                                                                                                                                                                                                                                                                                                                                                                                                                                                                                                                                                                                                                                                                                                                                                                                                                                                                                                                                                                                                                                                                                                                                                                                                                                                                                                                                                                                                                                                                                                                                                                                                                                                                                                                                                                                                                                                                                                                                                                                                                                                                                                                                                                                                                                                                                                                                                                                                                                                                                                                                                                                                                                                                                                                                                                                                                                                                                                                                                                                                                                                                                                                                                              1\n",
       "livecoding way video youtube www youtube playlistlistpledtcgpiclpoqznsiknznhaorhh                                                                                                                                                                                                                                                                                                                                                                                                                                                                                                                                                                                                                                                                                                                                                                                                                                                                                                                                                                                                                                                                                                                                                                                                                                                                                                                                                                                                                                                                                                                                                                                                                                                                                                                                                                                                                                                                                                                                                                                                                                                                                                                                                                                                                                                                                                                                                                                                                                                                                                                                                                                                                                                                                                                                                                                                                                                                                                                                                                                                                                                                                                                                                                                                                                                                                                                                                                                                                                                                                                                                                                                                                                                                                                                                                                                                                                                                                                                                                                         1\n",
       "solving puzzle click contributing md see contribute                                                                                                                                                                                                                                                                                                                                                                                                                                                                                                                                                                                                                                                                                                                                                                                                                                                                                                                                                                                                                                                                                                                                                                                                                                                                                                                                                                                                                                                                                                                                                                                                                                                                                                                                                                                                                                                                                                                                                                                                                                                                                                                                                                                                                                                                                                                                                                                                                                                                                                                                                                                                                                                                                                                                                                                                                                                                                                                                                                                                                                                                                                                                                                                                                                                                                                                                                                                                                                                                                                                                                                                                                                                                                                                                                                                                                                                                                                                                                                                                       1\n",
       "puzzle using clojure general implementation note im striving perfect particularly impressive supposed fun im trying make small possible though embrace concision suitable problem hand give consideration performance except absolutely necessary ive done development within repl example run unmodified                                                                                                                                                                                                                                                                                                                                                                                                                                                                                                                                                                                                                                                                                                                                                                                                                                                                                                                                                                                                                                                                                                                                                                                                                                                                                                                                                                                                                                                                                                                                                                                                                                                                                                                                                                                                                                                                                                                                                                                                                                                                                                                                                                                                                                                                                                                                                                                                                                                                                                                                                                                                                                                                                                                                                                                                                                                                                                                                                                                                                                                                                                                                                                                                                                                                                                                                                                                                                                                                                                                                                                                                                                                                                                                                                 1\n",
       "helper build status travisci org svgbranchmaster travisci org codecov codecov io gh branch graph badge codecov io gh hex pm img shield io hexpm v adventofcodehelper svgstyleplastic hex pm package adventofcodehelper elixir package allows quickly grab input puzzle worry manually pasting youve got puzzle input first time result stored disk every subsequent request bypass need download server usage two function need use module elixir adventofcodehelper getinput yearday specify year puzzle adventofcodehelper getinput automatically get puzzle recent year function simply return tuple ok value succeed value puzzle input form bitstring fail message wa something wrong two configuration directive also needed make package work correctly simply add following config config ex elixir config adventofcodehelper session session string cachedir cache sensible default feel free put wherever write access session string need taken cooky session extract value using inspector browser choice installation package installed adding adventofcodehelper list dependency mix ex elixir def deps adventofcodehelper end                                                                                                                                                                                                                                                                                                                                                                                                                                                                                                                                                                                                                                                                                                                                                                                                                                                                                                                                                                                                                                                                                                                                                                                                                                                                                                                                                                                                                                                                                                                                                                                                                                                                                                                                                                                                                                                                                                                                                                                                                                                                                                                                                                                                                                                                                                                                                                                                                                                                                                                                                                                                                                                                                                                                                                                                                                                                                                              1\n",
       "implemented pony language new coding challenge come                                                                                                                                                                                                                                                                                                                                                                                                                                                                                                                                                                                                                                                                                                                                                                                                                                                                                                                                                                                                                                                                                                                                                                                                                                                                                                                                                                                                                                                                                                                                                                                                                                                                                                                                                                                                                                                                                                                                                                                                                                                                                                                                                                                                                                                                                                                                                                                                                                                                                                                                                                                                                                                                                                                                                                                                                                                                                                                                                                                                                                                                                                                                                                                                                                                                                                                                                                                                                                                                                                                                                                                                                                                                                                                                                                                                                                                                                                                                                                                                       1\n",
       "repos nim python nim python ocaml nim repo ocaml year nim nimlang org later maybe language aim provide clean readable idiomatic comment suggestion advice please let know nbsp task comment chronal calibration nim nim nim dogfooding using itertools itertools cycle input using intset fast lookup inventory management system nim nim nim original used zip allocates new sequence matter slice nim nim nim need regex scanf macro great kind input using smaller integer instead int give noticeable speed boost using template keep main part short readable without unnecessary repetition repose record nim nim nim guard begin shift alchemical reduction nim nim nim x speed improvement using already shortened polymer first part second part chronal coordinate nim nim nim slowest task far sum part nim nim nim using heapqueue nobrainer memory maneuver nim nim nim using recursion nobrainer marble mania nim nim nim compile gcregions get performance star align nim nim nim first usage nim template year using unpack technicallyagd unpack sequence unpacking chronal charge nim nim nim using summedarea table en wikipedia org wiki summedareatable n naive n using thread give x speed boost subterranean sustainability nim nim nim nothing write home mine cart madness nim nim nim using complex plane en wikipedia org wiki complexplane obvious choice task like complex nim limited float decided use plain old tuples integer chocolate chart nim nim nim using int keep memory usage beverage bandit aint nobody got time chronal classification nim nim nim nim bitsets dont pop reservoir research nim nim nim recursion keep thing nice simple template help readability settler north pole nim nim nim simplified boundary condition creating border around area go flow nim nim nim figured inner loop automatically regular map nim nim nim initial first created maze dfsed current immediately calculates distance x performance gain chronal conversion nim nim nim interesting part task figuring instruction really wa done paper input annotated txt part chronal conversion nim nim nim first time four year use algorithm www redblobgames pathfinding astar introduction htmlastar task                                                                                                                                                                                                                                                                                                                                                                                                                                                                                                                                                                                                                                                                                                                                                                                                                                                                                                                                                                                                                                                                                                                                                                                                                                                                                                                                                                                                                                                                                                                                                                                                                                                                                                                                                                                                                  1\n",
       "elixir skeleton simple starter app using fork repo run elixir mix gen year year running mix gen start generate new module based title problem lib year problemtitle ex roughly parse html description problem moduledoc markdown use session token download unique problem input priv generate test file ready solve example pull saved problem input tag slow running complex skipped later installation fork repo grab browser session key set environment variable chrome developer tool application cooky session using skeleton run mix gen generate content first read new module doc solve first part problem tdd smile run mix gen append second part problem moduledocs get star                                                                                                                                                                                                                                                                                                                                                                                                                                                                                                                                                                                                                                                                                                                                                                                                                                                                                                                                                                                                                                                                                                                                                                                                                                                                                                                                                                                                                                                                                                                                                                                                                                                                                                                                                                                                                                                                                                                                                                                                                                                                                                                                                                                                                                                                                                                                                                                                                                                                                                                                                                                                                                                                                                                                                                                                                                                                                                                                                                                                                                                                                                                                                                                                                                                                                                                                                                 1\n",
       "puzzle check running run go folder run go go run                                                                                                                                                                                                                                                                                                                                                                                                                                                                                                                                                                                                                                                                                                                                                                                                                                                                                                                                                                                                                                                                                                                                                                                                                                                                                                                                                                                                                                                                                                                                                                                                                                                                                                                                                                                                                                                                                                                                                                                                                                                                                                                                                                                                                                                                                                                                                                                                                                                                                                                                                                                                                                                                                                                                                                                                                                                                                                                                                                                                                                                                                                                                                                                                                                                                                                                                                                                                                                                                                                                                                                                                                                                                                                                                                                                                                                                                                                                                                                                                          1\n",
       "node j calendar small programming puzzle variety skill set skill level solved programming language like people stats playing live streamed recording available playlist youtube www youtube playlistlistplpptpkswhjcuvwggwuvtv solve puzzle                                                                                                                                                                                                                                                                                                                                                                                                                                                                                                                                                                                                                                                                                                                                                                                                                                                                                                                                                                                                                                                                                                                                                                                                                                                                                                                                                                                                                                                                                                                                                                                                                                                                                                                                                                                                                                                                                                                                                                                                                                                                                                                                                                                                                                                                                                                                                                                                                                                                                                                                                                                                                                                                                                                                                                                                                                                                                                                                                                                                                                                                                                                                                                                                                                                                                                                                                                                                                                                                                                                                                                                                                                                                                                                                                                                                               1\n",
       "dyalog apl tested linux dyalog script pn dyalog require dyalog apl version later see also aocapl                                                                                                                                                                                                                                                                                                                                                                                                                                                                                                                                                                                                                                                                                                                                                                                                                                                                                                                                                                                                                                                                                                                                                                                                                                                                                                                                                                                                                                                                                                                                                                                                                                                                                                                                                                                                                                                                                                                                                                                                                                                                                                                                                                                                                                                                                                                                                                                                                                                                                                                                                                                                                                                                                                                                                                                                                                                                                                                                                                                                                                                                                                                                                                                                                                                                                                                                                                                                                                                                                                                                                                                                                                                                                                                                                                                                                                                                                                                                                          1\n",
       "optimized c creator issued challenge www reddit r comment mmg allyearsalldayssolvethemwithinthetime solve puzzle within decided take step whole month within limit managed get timing example run ghz ik cpu total greater sum individual rounding total input parsing ugly optimization rather result continuing selfimposed challenge december avoid using perl module case c implementation library function later away restriction wa obscuring intent much never bother going back rewrite input parsing especially naive already blindingly fast decide get little silly see simd en wikipedia org wiki simd bitonic sort network en wikipedia org wiki bitonicsorter thought wa interesting wa particularly fast                                                                                                                                                                                                                                                                                                                                                                                                                                                                                                                                                                                                                                                                                                                                                                                                                                                                                                                                                                                                                                                                                                                                                                                                                                                                                                                                                                                                                                                                                                                                                                                                                                                                                                                                                                                                                                                                                                                                                                                                                                                                                                                                                                                                                                                                                                                                                                                                                                                                                                                                                                                                                                                                                                                                                                                                                                                                                                                                                                                                                                                                                                                                                                                                                                                                                                                                   1\n",
       "go run main go part run part go run main go part testtrue run part test input make test run test                                                                                                                                                                                                                                                                                                                                                                                                                                                                                                                                                                                                                                                                                                                                                                                                                                                                                                                                                                                                                                                                                                                                                                                                                                                                                                                                                                                                                                                                                                                                                                                                                                                                                                                                                                                                                                                                                                                                                                                                                                                                                                                                                                                                                                                                                                                                                                                                                                                                                                                                                                                                                                                                                                                                                                                                                                                                                                                                                                                                                                                                                                                                                                                                                                                                                                                                                                                                                                                                                                                                                                                                                                                                                                                                                                                                                                                                                                                                                          1\n",
       "repository challenge implemented different language use terminal run solve language pathtoinputfile following language available far clojure go haskell scala java kotlin nodejs input etc input file one receive challenge website value given assumed located input txt second parameter contribute click fork repository fork account terminal run git clone yourname git choose language make directory name already directory language name differently example java java already exists place run bat run sh file newly created directory write script take ought solved input file command parameter input executes whatever action required run example script java might look like batch java first argument e g set filename java compile javac filename run input file java add readme directory depicting requirement run script write script way compatible naming convention keep structured use different file open pull request whenever want make sure fork date help en collaboratingwithissuesandpullrequests syncingafork                                                                                                                                                                                                                                                                                                                                                                                                                                                                                                                                                                                                                                                                                                                                                                                                                                                                                                                                                                                                                                                                                                                                                                                                                                                                                                                                                                                                                                                                                                                                                                                                                                                                                                                                                                                                                                                                                                                                                                                                                                                                                                                                                                                                                                                                                                                                                                                                                                                                                                                                                                                                                                                                                                                                                                                                                                                                                                                                                                                                             1\n",
       "problem require version node run npm run                                                                                                                                                                                                                                                                                                                                                                                                                                                                                                                                                                                                                                                                                                                                                                                                                                                                                                                                                                                                                                                                                                                                                                                                                                                                                                                                                                                                                                                                                                                                                                                                                                                                                                                                                                                                                                                                                                                                                                                                                                                                                                                                                                                                                                                                                                                                                                                                                                                                                                                                                                                                                                                                                                                                                                                                                                                                                                                                                                                                                                                                                                                                                                                                                                                                                                                                                                                                                                                                                                                                                                                                                                                                                                                                                                                                                                                                                                                                                                                                                  1\n",
       "                                                                                                                                                                                                                                                                                                                                                                                                                                                                                                                                                                                                                                                                                                                                                                                                                                                                                                                                                                                                                                                                                                                                                                                                                                                                                                                                                                                                                                                                                                                                                                                                                                                                                                                                                                                                                                                                                                                                                                                                                                                                                                                                                                                                                                                                                                                                                                                                                                                                                                                                                                                                                                                                                                                                                                                                                                                                                                                                                                                                                                                                                                                                                                                                                                                                                                                                                                                                                                                                                                                                                                                                                                                                                                                                                                                                                                                                                                                                                                                                                                                         ..\n",
       "scheme edition wanted use year challenge play around chez scheme cisco chezscheme far really fun challenge input directory keep thing simple                                                                                                                                                                                                                                                                                                                                                                                                                                                                                                                                                                                                                                                                                                                                                                                                                                                                                                                                                                                                                                                                                                                                                                                                                                                                                                                                                                                                                                                                                                                                                                                                                                                                                                                                                                                                                                                                                                                                                                                                                                                                                                                                                                                                                                                                                                                                                                                                                                                                                                                                                                                                                                                                                                                                                                                                                                                                                                                                                                                                                                                                                                                                                                                                                                                                                                                                                                                                                                                                                                                                                                                                                                                                                                                                                                                                                                                                                                              1\n",
       "repo contains want know set challenge competition check link python language decided go year youll need installed system want run usage every sol py file run python python sol py see part part                                                                                                                                                                                                                                                                                                                                                                                                                                                                                                                                                                                                                                                                                                                                                                                                                                                                                                                                                                                                                                                                                                                                                                                                                                                                                                                                                                                                                                                                                                                                                                                                                                                                                                                                                                                                                                                                                                                                                                                                                                                                                                                                                                                                                                                                                                                                                                                                                                                                                                                                                                                                                                                                                                                                                                                                                                                                                                                                                                                                                                                                                                                                                                                                                                                                                                                                                                                                                                                                                                                                                                                                                                                                                                                                                                                                                                                          1\n",
       "collection clojure                                                                                                                                                                                                                                                                                                                                                                                                                                                                                                                                                                                                                                                                                                                                                                                                                                                                                                                                                                                                                                                                                                                                                                                                                                                                                                                                                                                                                                                                                                                                                                                                                                                                                                                                                                                                                                                                                                                                                                                                                                                                                                                                                                                                                                                                                                                                                                                                                                                                                                                                                                                                                                                                                                                                                                                                                                                                                                                                                                                                                                                                                                                                                                                                                                                                                                                                                                                                                                                                                                                                                                                                                                                                                                                                                                                                                                                                                                                                                                                                                                        1\n",
       "javascript blog blog adrienne io twitter twitter instagram www instagram build status workflow build badge action mit license img shield io badge licensemitblue opensource org license mit online event created eric wastl twitter ericwastl year starting dec st calendar small programming puzzle unlocked midnight est utc developer skill set encouraged solve programming language choose story santa ha become stranded edge solar system delivering present planet accurately calculate position space safely align warp drive return earth time save christmas need bring measurement fifty star collect star solving puzzle two puzzle made available calendar second puzzle unlocked complete first puzzle grant one star good luck elf quickly load spacecraft prepare launch progress part one part two tyranny rocket equation tree daytyrannyofrocketequation program alarm tree dayprogramalarm crossed wire tree daycrossedwires secure container tree daysecurecontainer crossed wire tree daysunnywithachanceofasteroids universal orbit map tree dayuniversalorbitmap amplification circuit tree dayamplificationcircuit space image format tree dayspaceimageformat running test contains set test run type npm test                                                                                                                                                                                                                                                                                                                                                                                                                                                                                                                                                                                                                                                                                                                                                                                                                                                                                                                                                                                                                                                                                                                                                                                                                                                                                                                                                                                                                                                                                                                                                                                                                                                                                                                                                                                                                                                                                                                                                                                                                                                                                                                                                                                                                                                                                                                                                                                                                                                                                                                                                                                                                                                                                                                                                                                                                 1\n",
       "let main java sbaars java main java sbaars java main java sbaars java main java sbaars java main java sbaars java main java sbaars java main java sbaars java main java sbaars java main java sbaars java main java sbaars java main java sbaars java main java sbaars java                                                                                                                                                                                                                                                                                                                                                                                                                                                                                                                                                                                                                                                                                                                                                                                                                                                                                                                                                                                                                                                                                                                                                                                                                                                                                                                                                                                                                                                                                                                                                                                                                                                                                                                                                                                                                                                                                                                                                                                                                                                                                                                                                                                                                                                                                                                                                                                                                                                                                                                                                                                                                                                                                                                                                                                                                                                                                                                                                                                                                                                                                                                                                                                                                                                                                                                                                                                                                                                                                                                                                                                                                                                                                                                                                                               1\n",
       "kotlin license img shield io license mashape apistatus repo personal attempt solving set problem kotlin programming language trying solve posted clear idiomatic mean case sacrifice performance clear title link chronal calibration blog post todd ginsberg post main kotlin ginsberg kt inventory management system blog post todd ginsberg post main kotlin ginsberg kt matter slice blog post todd ginsberg post main kotlin ginsberg kt repose record blog post todd ginsberg post main kotlin ginsberg kt alchemical reduction blog post todd ginsberg post main kotlin ginsberg kt chronal coordinate blog post todd ginsberg post main kotlin ginsberg kt sum part blog post todd ginsberg post main kotlin ginsberg kt memory maneuver blog post todd ginsberg post main kotlin ginsberg kt marble mania blog post todd ginsberg post main kotlin ginsberg kt star align blog post todd ginsberg post main kotlin ginsberg kt chronal charge blog post todd ginsberg post main kotlin ginsberg kt subterranean sustainability blog post todd ginsberg post main kotlin ginsberg kt mine cart madness blog post todd ginsberg post main kotlin ginsberg kt chocolate chart blog post todd ginsberg post main kotlin ginsberg kt beverage bandit blog post todd ginsberg post main kotlin ginsberg kt chronal classification blog post todd ginsberg post main kotlin ginsberg kt reservoir research blog post todd ginsberg post main kotlin ginsberg kt settler north pole blog post todd ginsberg post main kotlin ginsberg kt go flow blog post todd ginsberg post main kotlin ginsberg kt regular map blog post todd ginsberg post main kotlin ginsberg kt chronal conversion blog post todd ginsberg post main kotlin ginsberg kt mode maze blog post todd ginsberg post main kotlin ginsberg kt experimental emergency teleportation blog post todd ginsberg post main kotlin ginsberg kt immune system simulator xx blog post todd ginsberg post main kotlin ginsberg kt fourdimensional adventure blog post todd ginsberg post main kotlin ginsberg kt copyright copy todd ginsberg                                                                                                                                                                                                                                                                                                                                                                                                                                                                                                                                                                                                                                                                                                                                                                                                                                                                                                                                                                                                                                                                                                                                                                                                                                                                                                                                                                                                                                                                                                                                                                                                                                                                                                                                                                                                                                                                                                                                                      1\n",
       "kq im using various language provide name cplusplus ruby shakespeare inverse captcha heavycheckmark main rb corruption checksum heavycheckmark main rb spiral memory heavycheckmark main rb highentropy passphrases heavycheckmark main cpp heavycheckmark main rb maze twisty trampoline alike heavycheckmark main rb memory reallocation heavycheckmark main rb recursive circus heavycheckmark main rb heard like register heavycheckmark main rb stream processing heavycheckmark main rb knot hash heavycheckmark main rb hex ed heavycheckmark main rb digital plumber heavycheckmark main rb packet scanner heavycheckmark main rb disk defragmentation heavycheckmark main rb dueling generator heavycheckmark main cpp heavycheckmark main rb permutation promenade heavycheckmark main rb spinlock heavycheckmark main rb duet heavycheckmark main rb series tube heavycheckmark main rb particle swarm heavycheckmark main rb fractal art heavycheckmark main rb sporifica virus heavycheckmark main rb coprocessor conflagration heavycheckmark main rb electromagnetic moat heavycheckmark main rb halting problem heavycheckmark main rb kq dev cc                                                                                                                                                                                                                                                                                                                                                                                                                                                                                                                                                                                                                                                                                                                                                                                                                                                                                                                                                                                                                                                                                                                                                                                                                                                                                                                                                                                                                                                                                                                                                                                                                                                                                                                                                                                                                                                                                                                                                                                                                                                                                                                                                                                                                                                                                                                                                                                                                                                                                                                                                                                                                                                                                                                                                                                                                                                                                          1\n",
       "edition problem main scala scala main scala scala main scala scala main scala scala main scala scala main scala scala main scala scala main scala scala main scala scala main scala scala main scala scala main scala scala main scala scala main scala scala main scala scala main scala scala main scala scala partial main scala scala main scala scala main scala scala main scala scala main scala scala partial main scala scala main scala scala partial main scala scala testing youll need scala sbt first enter sbt terminal sbt compile source make sure youre root directory repository compile run instance runmain output printed console stored corresponding file output license repository licensed mit license please refer license file                                                                                                                                                                                                                                                                                                                                                                                                                                                                                                                                                                                                                                                                                                                                                                                                                                                                                                                                                                                                                                                                                                                                                                                                                                                                                                                                                                                                                                                                                                                                                                                                                                                                                                                                                                                                                                                                                                                                                                                                                                                                                                                                                                                                                                                                                                                                                                                                                                                                                                                                                                                                                                                                                                                                                                                                                                                                                                                                                                                                                                                                                                                                                                                                                                                                                                1\n",
       "calendar small programming puzzle variety skill set skill level solved programming language like people use speed contest interview prep company training university coursework practice problem challenge run clone repository git clone run test gradlew test investigate test result build report test test index html implemented challenge main kotlin kt tyranny rocket equation main kotlin kt program alarm main kotlin kt crossed wire main kotlin kt secure container                                                                                                                                                                                                                                                                                                                                                                                                                                                                                                                                                                                                                                                                                                                                                                                                                                                                                                                                                                                                                                                                                                                                                                                                                                                                                                                                                                                                                                                                                                                                                                                                                                                                                                                                                                                                                                                                                                                                                                                                                                                                                                                                                                                                                                                                                                                                                                                                                                                                                                                                                                                                                                                                                                                                                                                                                                                                                                                                                                                                                                                                                                                                                                                                                                                                                                                                                                                                                                                                                                                                                                           1\n",
       "rustlanguage codingchallenge calendar youll need stable rust cargo run ive tried make small somewhat optimized speed far take second uptodate machine input included text file form parsed external used custom helper library used called advtools provides utility easily parsing input file dont want rewrite year access often used external crate like itertools rayon task require nontrivial datastructures algorithm try find use thirdparty crate show ease using rust crate infrastructure e g petgraph building benchmarking contained single cargo project different binary target printed stdout simple makefile also provided order run run make benchmark provided criterion r use cargo bench bench filter run                                                                                                                                                                                                                                                                                                                                                                                                                                                                                                                                                                                                                                                                                                                                                                                                                                                                                                                                                                                                                                                                                                                                                                                                                                                                                                                                                                                                                                                                                                                                                                                                                                                                                                                                                                                                                                                                                                                                                                                                                                                                                                                                                                                                                                                                                                                                                                                                                                                                                                                                                                                                                                                                                                                                                                                                                                                                                                                                                                                                                                                                                                                                                                                                                                                                                                                            1\n",
       "mate laszlo challenge using functional programming style scala external dependency challenge run puzzle pas year parameter e g sbt run tyranny rocket equation main scala lmat year scala chronal calibration main scala lmat year scala inverse captcha main scala lmat year scala time taxicab quite lisp main scala lmat year scala program alarm main scala lmat year scala inventory management system main scala lmat year scala corruption checksum main scala lmat year scala bathroom security wa told would math main scala lmat year scala crossed wire main scala lmat year scala matter slice main scala lmat year scala spiral memory main scala lmat year scala square three side perfectly spherical house vacuum main scala lmat year scala secure container main scala lmat year scala repose record main scala lmat year scala highentropy passphrases main scala lmat year scala security obscurity ideal stocking stuffer main scala lmat year scala alchemical reduction main scala lmat year scala maze twisty trampoline alike main scala lmat year scala nice game chess doesnt internelves main scala lmat year scala chronal coordinate main scala lmat year scala memory reallocation main scala lmat year scala signal noise probably fire hazard main scala lmat year scala sum part main scala lmat year scala recursive circus main scala lmat year scala internet protocol version assembly required main scala lmat year scala memory maneuver main scala lmat year scala heard like register main scala lmat year scala twofactor authentication matchstick main scala lmat year scala marble mania main scala lmat year scala stream processing main scala lmat year scala explosive cyberspace single night main scala lmat year scala star align main scala lmat year scala knot hash main scala lmat year scala balance bot elf look elf say main scala lmat year scala chronal charge main scala lmat year scala hex ed main scala lmat year scala radioisotope thermoelectric generator corporate policy main scala lmat year scala subterranean sustainability main scala lmat year scala digital plumber main scala lmat year scala leonardo monorail jsabacusframework io main scala lmat year scala mine cart madness main scala lmat year scala packet scanner main scala lmat year scala maze twisty little cubicle knight dinner table main scala lmat year scala chocolate chart main scala lmat year scala disk defragmentation main scala lmat year scala onetime pad reindeer olympics main scala lmat year scala beverage bandit main scala lmat year scala dueling generator main scala lmat year scala timing everything science hungry people main scala lmat year scala chronal classification main scala lmat year scala permutation promenade main scala lmat year scala dragon checksum aunt sue main scala lmat year scala reservoir research spinlock main scala lmat year scala two step forward thing much main scala lmat year scala settler north pole duet main scala lmat year scala like rogue like gif yard main scala lmat year scala go flow series tube main scala lmat year scala elephant named joseph medicine rudolph main scala lmat year scala regular map particle swarm main scala lmat year scala firewall rule infinite elf infinite house main scala lmat year scala chronal conversion fractal art main scala lmat year scala scrambled letter hash rpg simulator xx main scala lmat year scala mode maze sporifica virus main scala lmat year scala grid computing wizard simulator xx main scala lmat year scala experimental emergency teleportation coprocessor conflagration main scala lmat year scala safe cracking opening turing lock main scala lmat year scala immune system simulator xx main scala lmat year scala electromagnetic moat main scala lmat year scala air duct spelunking hang balance main scala lmat year scala fourdimensional adventure halting problem main scala lmat year scala clock signal let snow main scala lmat year scala    1\n",
       "j javascript ci status workflow nodeci badge action completion progress img shield io static vlabelprogressmessage coloryellow run test run test provided example additionally run ci every commit npm npm test                                                                                                                                                                                                                                                                                                                                                                                                                                                                                                                                                                                                                                                                                                                                                                                                                                                                                                                                                                                                                                                                                                                                                                                                                                                                                                                                                                                                                                                                                                                                                                                                                                                                                                                                                                                                                                                                                                                                                                                                                                                                                                                                                                                                                                                                                                                                                                                                                                                                                                                                                                                                                                                                                                                                                                                                                                                                                                                                                                                                                                                                                                                                                                                                                                                                                                                                                                                                                                                                                                                                                                                                                                                                                                                                                                                                                                           1\n",
       "haskell prequsites stack haskell christmas running cd correct directory stack runghc h input txt echo n stack runghc h running test test example stack runghc test h                                                                                                                                                                                                                                                                                                                                                                                                                                                                                                                                                                                                                                                                                                                                                                                                                                                                                                                                                                                                                                                                                                                                                                                                                                                                                                                                                                                                                                                                                                                                                                                                                                                                                                                                                                                                                                                                                                                                                                                                                                                                                                                                                                                                                                                                                                                                                                                                                                                                                                                                                                                                                                                                                                                                                                                                                                                                                                                                                                                                                                                                                                                                                                                                                                                                                                                                                                                                                                                                                                                                                                                                                                                                                                                                                                                                                                                                                      1\n",
       "puzzle jump tree latest tree latest tree latest tree latest tree latest                                                                                                                                                                                                                                                                                                                                                                                                                                                                                                                                                                                                                                                                                                                                                                                                                                                                                                                                                                                                                                                                                                                                                                                                                                                                                                                                                                                                                                                                                                                                                                                                                                                                                                                                                                                                                                                                                                                                                                                                                                                                                                                                                                                                                                                                                                                                                                                                                                                                                                                                                                                                                                                                                                                                                                                                                                                                                                                                                                                                                                                                                                                                                                                                                                                                                                                                                                                                                                                                                                                                                                                                                                                                                                                                                                                                                                                                                                                                                                                   1\n",
       "overview task probably solved mostly python ill try play language completion completion language python julia python julia python julia python python emphasized language wa first summary language used python julia                                                                                                                                                                                                                                                                                                                                                                                                                                                                                                                                                                                                                                                                                                                                                                                                                                                                                                                                                                                                                                                                                                                                                                                                                                                                                                                                                                                                                                                                                                                                                                                                                                                                                                                                                                                                                                                                                                                                                                                                                                                                                                                                                                                                                                                                                                                                                                                                                                                                                                                                                                                                                                                                                                                                                                                                                                                                                                                                                                                                                                                                                                                                                                                                                                                                                                                                                                                                                                                                                                                                                                                                                                                                                                                                                                                                                                     1\n",
       "originally intention publish file least one person ha expressed interest twitter michielrutting status file represent balance finding fast still keeping acceptable interesting tend polish bit ive found commit aggressive refactoring take place may rough around edge                                                                                                                                                                                                                                                                                                                                                                                                                                                                                                                                                                                                                                                                                                                                                                                                                                                                                                                                                                                                                                                                                                                                                                                                                                                                                                                                                                                                                                                                                                                                                                                                                                                                                                                                                                                                                                                                                                                                                                                                                                                                                                                                                                                                                                                                                                                                                                                                                                                                                                                                                                                                                                                                                                                                                                                                                                                                                                                                                                                                                                                                                                                                                                                                                                                                                                                                                                                                                                                                                                                                                                                                                                                                                                                                                                                  1\n",
       "learning elixir solving puzzle                                                                                                                                                                                                                                                                                                                                                                                                                                                                                                                                                                                                                                                                                                                                                                                                                                                                                                                                                                                                                                                                                                                                                                                                                                                                                                                                                                                                                                                                                                                                                                                                                                                                                                                                                                                                                                                                                                                                                                                                                                                                                                                                                                                                                                                                                                                                                                                                                                                                                                                                                                                                                                                                                                                                                                                                                                                                                                                                                                                                                                                                                                                                                                                                                                                                                                                                                                                                                                                                                                                                                                                                                                                                                                                                                                                                                                                                                                                                                                                                                            1\n",
       "tdd php repo contains contain example solve challenge using php following tdd methodology using phpspec welcome use way see fit intention learning see example developed live please see youtube channel www youtube user due time required record video since didnt know project likely repo video least behind log try please go thank eric wastl ericwastl twitter ericwastl creating challenge design decision purpose repo example help people learn tdd php mean design may fastest efficient clever description problem sound like simulation sort ill likely building simulation even though may take memory time optimized procedural instance first puzzle could solved text editor find functionality couple regular expression initial repository content start repo contains composer json composer lock runner php composer file used install phpspec set autoloader dont need write bunch requireonce bit runner php script load puzzle specific execute output command line class namespaced puzzle puzzle class set class input invoke result output runner script execute phpspec im planning using framework component plain php end following along question comment please feel free open issue ill try respond quickly video playlist www youtube playlistlistplhvwnszrejzgqojrusgtjcpk www youtube playlistlistplhvwnszrejzgqojrusgtjcpk puzzle www youtube watchvjzunnjdvi www youtube watchvjzunnjdvi puzzle www youtube watchvgeehckk www youtube watchvgeehckk puzzle www youtube watchvjrbvrqrjy www youtube watchvjrbvrqrjy puzzle www youtube watchvhwilyvk www youtube watchvhwilyvk puzzle www youtube watchvhocmepxc www youtube watchvhocmepxc puzzle www youtube watchvcnsgclgacpu www youtube watchvcnsgclgacpu puzzle www youtube watchvoysnktrdi www youtube watchvoysnktrdi puzzle www youtube watchvrtnwgxmjwa www youtube watchvrtnwgxmjwafeatureyoutu puzzle www youtube watchvhxgqkntntc www youtube watchvhxgqkntntc puzzle www youtube watchvizznonw www youtube watchvizznonw puzzle www youtube watchvqlknhfega www youtube watchvqlknhfega puzzle www youtube watchvqlhelorww www youtube watchvqlhelorww puzzle www youtube watchvgqybtafea www youtube watchvgqybtafea puzzle www youtube watchvvvqjlsnfg www youtube watchvvvqjlsnfg                                                                                                                                                                                                                                                                                                                                                                                                                                                                                                                                                                                                                                                                                                                                                                                                                                                                                                                                                                                                                                                                                                                                                                                                                                                                                                                                                                                                                                                                                                                                                                                                                                                                                                                                                                   1\n",
       "php year im focused getting answer quickly possible trying balance speed producing maintainable endeavour solve puzzle year using php try get used new language feature introduced php last month spotted better awesome please open pr id love see reason take part year way tackle challenge dont normally face may learn php raw githubusercontent png                                                                                                                                                                                                                                                                                                                                                                                                                                                                                                                                                                                                                                                                                                                                                                                                                                                                                                                                                                                                                                                                                                                                                                                                                                                                                                                                                                                                                                                                                                                                                                                                                                                                                                                                                                                                                                                                                                                                                                                                                                                                                                                                                                                                                                                                                                                                                                                                                                                                                                                                                                                                                                                                                                                                                                                                                                                                                                                                                                                                                                                                                                                                                                                                                                                                                                                                                                                                                                                                                                                                                                                                                                                                                                 1\n",
       "repository contains various challenge                                                                                                                                                                                                                                                                                                                                                                                                                                                                                                                                                                                                                                                                                                                                                                                                                                                                                                                                                                                                                                                                                                                                                                                                                                                                                                                                                                                                                                                                                                                                                                                                                                                                                                                                                                                                                                                                                                                                                                                                                                                                                                                                                                                                                                                                                                                                                                                                                                                                                                                                                                                                                                                                                                                                                                                                                                                                                                                                                                                                                                                                                                                                                                                                                                                                                                                                                                                                                                                                                                                                                                                                                                                                                                                                                                                                                                                                                                                                                                                                                     1\n",
       "rust challenge written rust program expects puzzle input standard input passed first argument example cargo run release input inverse captcha corruption checksum spiral memory highentropy passphrases maze twisty trampoline alike memory reallocation recursive circus heard like register stream processing knot hash hex ed digital plumber packet scanner disk defragmentation dueling generator permutation promenade spinlock duet series tube particle swarm fractal art sporifica virus coprocessor conflagration electromagnetic moat halting problem                                                                                                                                                                                                                                                                                                                                                                                                                                                                                                                                                                                                                                                                                                                                                                                                                                                                                                                                                                                                                                                                                                                                                                                                                                                                                                                                                                                                                                                                                                                                                                                                                                                                                                                                                                                                                                                                                                                                                                                                                                                                                                                                                                                                                                                                                                                                                                                                                                                                                                                                                                                                                                                                                                                                                                                                                                                                                                                                                                                                                                                                                                                                                                                                                                                                                                                                                                                                                                                                                          1\n",
       "collection monthlong coding challenge philosophical ramblings ill commiting unedited got star fastest well refined catch breath like developer ive struggled imposter syndrome past still occasionally coding challenge like especially terrifying bound countless people producing better optimized quicker challenge nobody want look bad think important recognize ok perfect especially first pas unoptimized pile spaghetti get job done success ha solved business problem case coding challenge matter ability recognize area weakness problematic continue iterate always learning optimizing end two request developer infinitely skilled learn teach effectively always teaching dont show teammate classmate internet stranger teach recognized wa wrong came next time encounter smell reason issue effectively saying go give man fish feed teach man fish feed lifetime applies repo well see something could refined open issue let talk new developer solve business problem end thats really matter continue learn surround people want build stop worrying looking bad help millon developer le experienced learn million experience                                                                                                                                                                                                                                                                                                                                                                                                                                                                                                                                                                                                                                                                                                                                                                                                                                                                                                                                                                                                                                                                                                                                                                                                                                                                                                                                                                                                                                                                                                                                                                                                                                                                                                                                                                                                                                                                                                                                                                                                                                                                                                                                                                                                                                                                                                                                                                                                                                                                                                                                                                                                                                                                                                                                                                                                                                                                                                    1\n",
       "intcode jit intcode running slow use x jit compiler performance included example fibonacci intcode calculates fibonacci number mod signed bit ints run like bash cargo nightly run release fibonacci intcode requires rust nightly build install rustup install nightly superfast calculating th fibonacci number take millisecond laptop thats billion intcode instruction per second intcode interpreter deebefcdbeea intcode r written rust run second input jit time faster limitation dont run production starship computer indirect jump nyi selfmodifying supported instruction must aligned e cannot jump middle instruction interpret parameter opcodes trailing data look like instruction handled e g dont end data compiler try compile add complain missing operand                                                                                                                                                                                                                                                                                                                                                                                                                                                                                                                                                                                                                                                                                                                                                                                                                                                                                                                                                                                                                                                                                                                                                                                                                                                                                                                                                                                                                                                                                                                                                                                                                                                                                                                                                                                                                                                                                                                                                                                                                                                                                                                                                                                                                                                                                                                                                                                                                                                                                                                                                                                                                                                                                                                                                                                                                                                                                                                                                                                                                                                                                                                                                                                                                                                                          1\n",
       "coq repository contains formally verified example applying verification small programming challenge kind youre aiming prize probably way go contribution welcome probably take much longer actual span complete project help implementing specifying verifying welcome question open issue send email usernamegmail suggested task v v bare verification effort implement manhattan geometry project status december two challenge verified significant caveat apply read approach summary md summary md dependency coqsimpleio coqsimpleio project serf test coqsimpleio see missing make practical write executable program coq coqextlib coqextlib coqextlib coq coq inria fr ocaml ocaml org older version likely work optional dependency coqitree deepspec interactiontrees library free monad algebraic effect wip experimental proof using itree instead iorel found file sol dayextra v install coqitree opam make known adventofcoq sh git clone deepspec interactiontrees opam pin add coqitree interactiontrees inside create symbolic link coqconfig append coqconfig extra f option overwrites existing coqconfig append ln sf coqconfig extra coqconfig append generate coqproject compile lib itree make lib install development version coqsimpleio opam sh get source git clone coqsimpleio register local version coqsimpleio opam opam pin add k git coqsimpleio coqsimpleio coqsimpleio updated cd coqsimpleio git pull coqsimpleio opam reinstall coqsimpleio build compile run v example sh make exe exe txt                                                                                                                                                                                                                                                                                                                                                                                                                                                                                                                                                                                                                                                                                                                                                                                                                                                                                                                                                                                                                                                                                                                                                                                                                                                                                                                                                                                                                                                                                                                                                                                                                                                                                                                                                                                                                                                                                                                                                                                                                                                                                                                                                                                                                                                                                                                                                                                                                                                                                                                       1\n",
       "attempt kotlin kotlinlang org trying hard possible stay functional lazy project layout structure based aockotlinstarter aockotlinstarter project see run project see bogdanps awesome bogdanp awesomeadventofcode great collection starter repository multiple language running navigate toplevel directory command line run gradlew run run run gradlew run args integer run specific testing navigate toplevel directory command line run gradlew test run gradlew test test testclass testclass string name test class including package e g daytest                                                                                                                                                                                                                                                                                                                                                                                                                                                                                                                                                                                                                                                                                                                                                                                                                                                                                                                                                                                                                                                                                                                                                                                                                                                                                                                                                                                                                                                                                                                                                                                                                                                                                                                                                                                                                                                                                                                                                                                                                                                                                                                                                                                                                                                                                                                                                                                                                                                                                                                                                                                                                                                                                                                                                                                                                                                                                                                                                                                                                                                                                                                                                                                                                                                                                                                                                                                                                                                                                                   1\n",
       "yearly puzzle used javascript programming language every easily executed node j install install git node j download install latest version git gitscm downloads node j nodejs org en download clone clone repository nice place machine via git clone gitgithub comusername git usage execute puzzle navigate directory execute following command line node                                                                                                                                                                                                                                                                                                                                                                                                                                                                                                                                                                                                                                                                                                                                                                                                                                                                                                                                                                                                                                                                                                                                                                                                                                                                                                                                                                                                                                                                                                                                                                                                                                                                                                                                                                                                                                                                                                                                                                                                                                                                                                                                                                                                                                                                                                                                                                                                                                                                                                                                                                                                                                                                                                                                                                                                                                                                                                                                                                                                                                                                                                                                                                                                                                                                                                                                                                                                                                                                                                                                                                                                                                                                                               1\n",
       "img shield io license last commit img shield io lastcommit javascript                                                                                                                                                                                                                                                                                                                                                                                                                                                                                                                                                                                                                                                                                                                                                                                                                                                                                                                                                                                                                                                                                                                                                                                                                                                                                                                                                                                                                                                                                                                                                                                                                                                                                                                                                                                                                                                                                                                                                                                                                                                                                                                                                                                                                                                                                                                                                                                                                                                                                                                                                                                                                                                                                                                                                                                                                                                                                                                                                                                                                                                                                                                                                                                                                                                                                                                                                                                                                                                                                                                                                                                                                                                                                                                                                                                                                                                                                                                                                                                     1\n",
       "build status travisci svgbranchmaster travisci codecov codecov io gh branch graph badge codecov io gh running julia julia dev julia using julia part julia part julia benchmarkall part part n                                                                                                                                                                                                                                                                                                                                                                                                                                                                                                                                                                                                                                                                                                                                                                                                                                                                                                                                                                                                                                                                                                                                                                                                                                                                                                                                                                                                                                                                                                                                                                                                                                                                                                                                                                                                                                                                                                                                                                                                                                                                                                                                                                                                                                                                                                                                                                                                                                                                                                                                                                                                                                                                                                                                                                                                                                                                                                                                                                                                                                                                                                                                                                                                                                                                                                                                                                                                                                                                                                                                                                                                                                                                                                                                                                                                                                                            1\n",
       "repository problem pony ponylang io created helper aoctools based experience last year year problem probably use library building life directory named etc need pony compiler ponylang ponyc stable ponylang ponystable pony dependency manager installed order build build go directory run following command stable fetch stable env ponyc create executable name directory running executables take two argument name input file part want run example wanted run part file ex txt would run following command ex txt                                                                                                                                                                                                                                                                                                                                                                                                                                                                                                                                                                                                                                                                                                                                                                                                                                                                                                                                                                                                                                                                                                                                                                                                                                                                                                                                                                                                                                                                                                                                                                                                                                                                                                                                                                                                                                                                                                                                                                                                                                                                                                                                                                                                                                                                                                                                                                                                                                                                                                                                                                                                                                                                                                                                                                                                                                                                                                                                                                                                                                                                                                                                                                                                                                                                                                                                                                                                                                                                                                                                  1\n",
       "implementation written cplusplus adhering cplusplus guideline prerequisite clang libcplusplus cmake macos linux two system ive tested compiling compile sh script provided run good go running invoke execute run specific invoke f dayxx run specific part invoke p see detailed help consult help metric line number line given wc line preprocessor line line alphanumeric char byte number total character char number nonwhitespace character time time millisecond execute part independently separate run source link implementation header cplusplus includes used leaderboard highlight determined detailed information line byte char time source header hpp include hpp hpp include hpp vector hpp include hpp hpp include hpp algorithm iterator sstream vector hpp include hpp hpp include hpp array cmath unorderedmap hpp include hpp hpp include hpp algorithm iterator numeric set sstream hpp include hpp hpp include hpp algorithm iterator vector hpp include hpp hpp include hpp algorithm map vector hpp include hpp hpp include hpp regex sstream vector unorderedmap hpp include hpp hpp include hpp algorithm unorderedmap hpp include hpp hpp include hpp hpp include hpp hpp include hpp algorithm array initializerlist iomanip locale numeric vector utility hpp include hpp hpp include hpp cctype cmath utility hpp include hpp hpp include hpp algorithm iterator regex util hpp include util hpp hpp include hpp hpp include hpp iterator algorithm typetraits utility vector util hpp include util hpp hpp include hpp hpp include hpp util hpp include util hpp algorithm array sstream string hpp include hpp hpp include hpp random regex hpp include hpp hpp include hpp algorithm functional map numeric cstdio vector hpp include hpp hpp include hpp iterator vector hpp include hpp hpp include hpp duetasm hpp include duetasm hpp iterator thread vector hpp include hpp hpp include hpp tuple utility vector hpp include hpp hpp include hpp algorithm iterator valarray vector utility hpp include hpp hpp include hpp algorithm initializerlist numeric unorderedmap utility vector hpp include hpp hpp include hpp vector unorderedmap utility hpp include hpp hpp include hpp vector duetasm hpp include duetasm hpp hpp include hpp hpp include hpp iterator vector hpp include hpp hpp include hpp cstdio unorderedmap total hppnbspsup sup vectornbspsup sup algorithmnbspsup sup iteratornbspsup sup utilitynbspsup sup unorderedmapnbspsup sup sstreamnbspsup sup numericnbspsup sup regexnbspsup sup arraynbspsup sup util hppnbspsup sup cstdionbspsup sup mapnbspsup sup duetasm hppnbspsup sup cmathnbspsup sup initializerlistnbspsup sup setnbspsup sup typetraitsnbspsup sup valarraynbspsup sup iomanipnbspsup sup randomnbspsup sup cctypenbspsup sup localenbspsup sup threadnbspsup sup tuplenbspsup sup functionalnbspsup sup stringnbspsup sup                                                                                                                                                                                                                                                                                                                                                                                                                                                                                                                                                                                                                                                                                                                                                                                                                                                                                                                                                                                                                                                                                                                                         1\n",
       "Name: prepped, Length: 274, dtype: int64"
      ]
     },
     "execution_count": 27,
     "metadata": {},
     "output_type": "execute_result"
    }
   ],
   "source": [
    "mask = df.prepped != ''\n",
    "df = df[mask]\n",
    "df.prepped.value_counts()"
   ]
  },
  {
   "cell_type": "markdown",
   "metadata": {},
   "source": [
    "# Explore"
   ]
  },
  {
   "cell_type": "markdown",
   "metadata": {},
   "source": [
    "[Top](#Github-NLP-Project)"
   ]
  },
  {
   "cell_type": "code",
   "execution_count": 28,
   "metadata": {},
   "outputs": [],
   "source": [
    "# isolate language and prepped columns by dropping other columns\n",
    "df = df.drop(columns={'author','language_all','readme','repo','normalized', 'stemmed', 'lemmatized','repo_full'})"
   ]
  },
  {
   "cell_type": "code",
   "execution_count": 29,
   "metadata": {},
   "outputs": [
    {
     "data": {
      "text/html": [
       "<div>\n",
       "<style scoped>\n",
       "    .dataframe tbody tr th:only-of-type {\n",
       "        vertical-align: middle;\n",
       "    }\n",
       "\n",
       "    .dataframe tbody tr th {\n",
       "        vertical-align: top;\n",
       "    }\n",
       "\n",
       "    .dataframe thead th {\n",
       "        text-align: right;\n",
       "    }\n",
       "</style>\n",
       "<table border=\"1\" class=\"dataframe\">\n",
       "  <thead>\n",
       "    <tr style=\"text-align: right;\">\n",
       "      <th></th>\n",
       "      <th>language</th>\n",
       "      <th>prepped</th>\n",
       "    </tr>\n",
       "  </thead>\n",
       "  <tbody>\n",
       "    <tr>\n",
       "      <th>0</th>\n",
       "      <td>Python</td>\n",
       "      <td>usernames run repl repl badge repl daynamesolu...</td>\n",
       "    </tr>\n",
       "    <tr>\n",
       "      <th>1</th>\n",
       "      <td>Haskell</td>\n",
       "      <td>im probably gonna problem im gonna pretend lik...</td>\n",
       "    </tr>\n",
       "    <tr>\n",
       "      <th>10</th>\n",
       "      <td>TypeScript</td>\n",
       "      <td>build status travisci svgbranchmaster travisci...</td>\n",
       "    </tr>\n",
       "    <tr>\n",
       "      <th>100</th>\n",
       "      <td>Python</td>\n",
       "      <td>santa christmastree gift problem might write s...</td>\n",
       "    </tr>\n",
       "    <tr>\n",
       "      <th>101</th>\n",
       "      <td>Swift</td>\n",
       "      <td>fifth installment creating package ive prepare...</td>\n",
       "    </tr>\n",
       "  </tbody>\n",
       "</table>\n",
       "</div>"
      ],
      "text/plain": [
       "       language                                            prepped\n",
       "0        Python  usernames run repl repl badge repl daynamesolu...\n",
       "1       Haskell  im probably gonna problem im gonna pretend lik...\n",
       "10   TypeScript  build status travisci svgbranchmaster travisci...\n",
       "100      Python  santa christmastree gift problem might write s...\n",
       "101       Swift  fifth installment creating package ive prepare..."
      ]
     },
     "execution_count": 29,
     "metadata": {},
     "output_type": "execute_result"
    }
   ],
   "source": [
    "df.head()"
   ]
  },
  {
   "cell_type": "markdown",
   "metadata": {},
   "source": [
    "### How many repos of each language exist?"
   ]
  },
  {
   "cell_type": "code",
   "execution_count": 30,
   "metadata": {},
   "outputs": [
    {
     "data": {
      "text/plain": [
       "Python              39\n",
       "JavaScript          35\n",
       "Haskell             25\n",
       "Rust                19\n",
       "Clojure             15\n",
       "Go                  14\n",
       "Java                13\n",
       "Kotlin              12\n",
       "C#                  10\n",
       "Ruby                10\n",
       "Elixir               9\n",
       "Scala                8\n",
       "C++                  8\n",
       "R                    7\n",
       "OCaml                5\n",
       "Jupyter Notebook     4\n",
       "TypeScript           4\n",
       "PHP                  3\n",
       "C                    3\n",
       "Elm                  2\n",
       "F#                   2\n",
       "Swift                2\n",
       "Perl                 2\n",
       "Pony                 2\n",
       "Scheme               2\n",
       "Julia                2\n",
       "Crystal              2\n",
       "HTML                 2\n",
       "Nim                  1\n",
       "Ada                  1\n",
       "Shell                1\n",
       "Mathematica          1\n",
       "PowerShell           1\n",
       "PureScript           1\n",
       "Erlang               1\n",
       "Eiffel               1\n",
       "D                    1\n",
       "Reason               1\n",
       "TSQL                 1\n",
       "APL                  1\n",
       "Haxe                 1\n",
       "Dart                 1\n",
       "Coq                  1\n",
       "Racket               1\n",
       "Smalltalk            1\n",
       "Name: language, dtype: int64"
      ]
     },
     "execution_count": 30,
     "metadata": {},
     "output_type": "execute_result"
    }
   ],
   "source": [
    "df.language.value_counts(normalize=False)"
   ]
  },
  {
   "cell_type": "markdown",
   "metadata": {},
   "source": [
    "### What percentage is this?"
   ]
  },
  {
   "cell_type": "code",
   "execution_count": 31,
   "metadata": {},
   "outputs": [
    {
     "data": {
      "text/plain": [
       "Python              0.140288\n",
       "JavaScript          0.125899\n",
       "Haskell             0.089928\n",
       "Rust                0.068345\n",
       "Clojure             0.053957\n",
       "Go                  0.050360\n",
       "Java                0.046763\n",
       "Kotlin              0.043165\n",
       "C#                  0.035971\n",
       "Ruby                0.035971\n",
       "Elixir              0.032374\n",
       "Scala               0.028777\n",
       "C++                 0.028777\n",
       "R                   0.025180\n",
       "OCaml               0.017986\n",
       "Jupyter Notebook    0.014388\n",
       "TypeScript          0.014388\n",
       "PHP                 0.010791\n",
       "C                   0.010791\n",
       "Elm                 0.007194\n",
       "F#                  0.007194\n",
       "Swift               0.007194\n",
       "Perl                0.007194\n",
       "Pony                0.007194\n",
       "Scheme              0.007194\n",
       "Julia               0.007194\n",
       "Crystal             0.007194\n",
       "HTML                0.007194\n",
       "Nim                 0.003597\n",
       "Ada                 0.003597\n",
       "Shell               0.003597\n",
       "Mathematica         0.003597\n",
       "PowerShell          0.003597\n",
       "PureScript          0.003597\n",
       "Erlang              0.003597\n",
       "Eiffel              0.003597\n",
       "D                   0.003597\n",
       "Reason              0.003597\n",
       "TSQL                0.003597\n",
       "APL                 0.003597\n",
       "Haxe                0.003597\n",
       "Dart                0.003597\n",
       "Coq                 0.003597\n",
       "Racket              0.003597\n",
       "Smalltalk           0.003597\n",
       "Name: language, dtype: float64"
      ]
     },
     "execution_count": 31,
     "metadata": {},
     "output_type": "execute_result"
    }
   ],
   "source": [
    "df.language.value_counts(normalize=True)"
   ]
  },
  {
   "cell_type": "markdown",
   "metadata": {},
   "source": [
    "### What are the most common words in READMEs?"
   ]
  },
  {
   "cell_type": "code",
   "execution_count": 32,
   "metadata": {},
   "outputs": [],
   "source": [
    "# get all text as a string\n",
    "all_text = \" \".join(df.prepped)\n",
    "# convert to a list of words\n",
    "all_words = all_text.split()"
   ]
  },
  {
   "cell_type": "code",
   "execution_count": 33,
   "metadata": {},
   "outputs": [
    {
     "data": {
      "text/plain": [
       "main              385\n",
       "run               378\n",
       "scala             327\n",
       "input             317\n",
       "part              292\n",
       "hpp               288\n",
       "problem           278\n",
       "py                248\n",
       "puzzle            232\n",
       "year              231\n",
       "test              210\n",
       "io                194\n",
       "r                 188\n",
       "cpp               180\n",
       "challenge         172\n",
       "nim               170\n",
       "reflection        164\n",
       "post              161\n",
       "heavycheckmark    159\n",
       "file              157\n",
       "include           157\n",
       "tree              149\n",
       "python            141\n",
       "md                135\n",
       "ginsberg          130\n",
       "using             125\n",
       "rb                123\n",
       "www               123\n",
       "f                 121\n",
       "x                 118\n",
       "dtype: int64"
      ]
     },
     "execution_count": 33,
     "metadata": {},
     "output_type": "execute_result"
    }
   ],
   "source": [
    "raw_count = pd.Series(all_words).value_counts()\n",
    "# top 30 words\n",
    "raw_count.head(30)"
   ]
  },
  {
   "cell_type": "code",
   "execution_count": 34,
   "metadata": {},
   "outputs": [
    {
     "data": {
      "text/plain": [
       "Text(0.5, 1.0, '25 Most Common Words')"
      ]
     },
     "execution_count": 34,
     "metadata": {},
     "output_type": "execute_result"
    },
    {
     "data": {
      "image/png": "[encoded data removed]",
      "text/plain": [
       "<Figure size 432x288 with 1 Axes>"
      ]
     },
     "metadata": {
      "needs_background": "light"
     },
     "output_type": "display_data"
    }
   ],
   "source": [
    "raw_count.sort_values(ascending=False)[0:25].plot.barh(width=.9)\n",
    "plt.title('25 Most Common Words')"
   ]
  },
  {
   "cell_type": "markdown",
   "metadata": {},
   "source": [
    "### How does this look for popular languages?"
   ]
  },
  {
   "cell_type": "markdown",
   "metadata": {},
   "source": [
    "#### Python"
   ]
  },
  {
   "cell_type": "code",
   "execution_count": 35,
   "metadata": {},
   "outputs": [],
   "source": [
    "python_text = \" \".join(df[df.language == \"Python\"].prepped)\n",
    "python_words = python_text.split()"
   ]
  },
  {
   "cell_type": "code",
   "execution_count": 36,
   "metadata": {},
   "outputs": [
    {
     "data": {
      "text/plain": [
       "py                163\n",
       "python             56\n",
       "part               47\n",
       "run                39\n",
       "hand               35\n",
       "model              33\n",
       "puzzle             33\n",
       "image              30\n",
       "tensorflow         29\n",
       "input              29\n",
       "training           28\n",
       "p                  28\n",
       "heavycheckmark     26\n",
       "repo               23\n",
       "searching          23\n",
       "dtype: int64"
      ]
     },
     "execution_count": 36,
     "metadata": {},
     "output_type": "execute_result"
    }
   ],
   "source": [
    "python_count = pd.Series(python_words).value_counts()\n",
    "python_count.head(15)"
   ]
  },
  {
   "cell_type": "code",
   "execution_count": 37,
   "metadata": {},
   "outputs": [
    {
     "data": {
      "text/plain": [
       "Text(0.5, 1.0, 'Python 10 Most Common Words')"
      ]
     },
     "execution_count": 37,
     "metadata": {},
     "output_type": "execute_result"
    },
    {
     "data": {
      "image/png": "[encoded data removed]",
      "text/plain": [
       "<Figure size 432x288 with 1 Axes>"
      ]
     },
     "metadata": {
      "needs_background": "light"
     },
     "output_type": "display_data"
    }
   ],
   "source": [
    "python_count.sort_values(ascending=False)[0:10].plot.barh(width=.9)\n",
    "plt.title('Python 10 Most Common Words')"
   ]
  },
  {
   "cell_type": "markdown",
   "metadata": {},
   "source": [
    "#### Haskell"
   ]
  },
  {
   "cell_type": "code",
   "execution_count": 38,
   "metadata": {},
   "outputs": [],
   "source": [
    "haskell_text = \" \".join(df[df.language == \"Haskell\"].prepped)\n",
    "haskell_words = haskell_text.split()"
   ]
  },
  {
   "cell_type": "code",
   "execution_count": 39,
   "metadata": {},
   "outputs": [
    {
     "data": {
      "text/plain": [
       "reflection         164\n",
       "db                  96\n",
       "dr                  91\n",
       "challenge           89\n",
       "h                   66\n",
       "dh                  64\n",
       "dg                  64\n",
       "benchmark           52\n",
       "dc                  50\n",
       "mdday               49\n",
       "mddaybenchmarks     48\n",
       "haskell             47\n",
       "b                   44\n",
       "test                43\n",
       "run                 38\n",
       "dtype: int64"
      ]
     },
     "execution_count": 39,
     "metadata": {},
     "output_type": "execute_result"
    }
   ],
   "source": [
    "haskell_count = pd.Series(haskell_words).value_counts()\n",
    "haskell_count.head(15)"
   ]
  },
  {
   "cell_type": "code",
   "execution_count": 40,
   "metadata": {},
   "outputs": [
    {
     "data": {
      "text/plain": [
       "Text(0.5, 1.0, 'Haskell 10 Most Common Words')"
      ]
     },
     "execution_count": 40,
     "metadata": {},
     "output_type": "execute_result"
    },
    {
     "data": {
      "image/png": "[encoded data removed]",
      "text/plain": [
       "<Figure size 432x288 with 1 Axes>"
      ]
     },
     "metadata": {
      "needs_background": "light"
     },
     "output_type": "display_data"
    }
   ],
   "source": [
    "haskell_count.sort_values(ascending=False)[0:10].plot.barh(width=.9)\n",
    "plt.title('Haskell 10 Most Common Words')"
   ]
  },
  {
   "cell_type": "markdown",
   "metadata": {},
   "source": [
    "#### JavaScript"
   ]
  },
  {
   "cell_type": "code",
   "execution_count": 41,
   "metadata": {},
   "outputs": [],
   "source": [
    "javascript_text = \" \".join(df[df.language == \"JavaScript\"].prepped)\n",
    "javascript_words = javascript_text.split()"
   ]
  },
  {
   "cell_type": "code",
   "execution_count": 42,
   "metadata": {},
   "outputs": [
    {
     "data": {
      "text/plain": [
       "run                64\n",
       "j                  59\n",
       "star               49\n",
       "puzzle             48\n",
       "npm                41\n",
       "part               40\n",
       "index              38\n",
       "test               36\n",
       "year               34\n",
       "input              33\n",
       "simulation         27\n",
       "net                26\n",
       "post               26\n",
       "adventofcodeday    25\n",
       "node               25\n",
       "dtype: int64"
      ]
     },
     "execution_count": 42,
     "metadata": {},
     "output_type": "execute_result"
    }
   ],
   "source": [
    "javascript_count = pd.Series(javascript_words).value_counts()\n",
    "javascript_count.head(15)"
   ]
  },
  {
   "cell_type": "code",
   "execution_count": 43,
   "metadata": {},
   "outputs": [
    {
     "data": {
      "text/plain": [
       "Text(0.5, 1.0, 'JavaScript 10 most common words')"
      ]
     },
     "execution_count": 43,
     "metadata": {},
     "output_type": "execute_result"
    },
    {
     "data": {
      "image/png": "[encoded data removed]",
      "text/plain": [
       "<Figure size 432x288 with 1 Axes>"
      ]
     },
     "metadata": {
      "needs_background": "light"
     },
     "output_type": "display_data"
    }
   ],
   "source": [
    "javascript_count.sort_values(ascending=False)[0:10].plot.barh(width=.9)\n",
    "plt.title('JavaScript 10 most common words')"
   ]
  },
  {
   "cell_type": "markdown",
   "metadata": {},
   "source": [
    "#### Rust"
   ]
  },
  {
   "cell_type": "code",
   "execution_count": 44,
   "metadata": {},
   "outputs": [],
   "source": [
    "rust_text = \" \".join(df[df.language == \"Rust\"].prepped)\n",
    "rust_words = rust_text.split()"
   ]
  },
  {
   "cell_type": "code",
   "execution_count": 45,
   "metadata": {},
   "outputs": [
    {
     "data": {
      "text/plain": [
       "r               105\n",
       "target           56\n",
       "reddit           50\n",
       "cargo            47\n",
       "input            44\n",
       "rust             39\n",
       "run              38\n",
       "twitter          30\n",
       "b                29\n",
       "www              29\n",
       "comment          28\n",
       "daysolutions     25\n",
       "main             24\n",
       "part             21\n",
       "x                20\n",
       "dtype: int64"
      ]
     },
     "execution_count": 45,
     "metadata": {},
     "output_type": "execute_result"
    }
   ],
   "source": [
    "rust_count = pd.Series(rust_words).value_counts()\n",
    "rust_count.head(15)"
   ]
  },
  {
   "cell_type": "code",
   "execution_count": 46,
   "metadata": {},
   "outputs": [
    {
     "data": {
      "text/plain": [
       "Text(0.5, 1.0, 'Rust 10 Most Common Words')"
      ]
     },
     "execution_count": 46,
     "metadata": {},
     "output_type": "execute_result"
    },
    {
     "data": {
      "image/png": "[encoded data removed]",
      "text/plain": [
       "<Figure size 432x288 with 1 Axes>"
      ]
     },
     "metadata": {
      "needs_background": "light"
     },
     "output_type": "display_data"
    }
   ],
   "source": [
    "rust_count.sort_values(ascending=False)[0:10].plot.barh(width=.9)\n",
    "plt.title('Rust 10 Most Common Words')"
   ]
  },
  {
   "cell_type": "markdown",
   "metadata": {},
   "source": [
    "#### Clojure"
   ]
  },
  {
   "cell_type": "code",
   "execution_count": 47,
   "metadata": {},
   "outputs": [],
   "source": [
    "clojure_text = \" \".join(df[df.language == \"Clojure\"].prepped)\n",
    "clojure_words = clojure_text.split()"
   ]
  },
  {
   "cell_type": "code",
   "execution_count": 48,
   "metadata": {},
   "outputs": [
    {
     "data": {
      "text/plain": [
       "clj         66\n",
       "clojure     41\n",
       "test        20\n",
       "run         18\n",
       "input       13\n",
       "script      13\n",
       "part        11\n",
       "one          9\n",
       "tree         8\n",
       "py           8\n",
       "license      7\n",
       "circleci     7\n",
       "year         7\n",
       "problem      7\n",
       "python       7\n",
       "dtype: int64"
      ]
     },
     "execution_count": 48,
     "metadata": {},
     "output_type": "execute_result"
    }
   ],
   "source": [
    "clojure_count = pd.Series(clojure_words).value_counts()\n",
    "clojure_count.head(15)"
   ]
  },
  {
   "cell_type": "code",
   "execution_count": 49,
   "metadata": {},
   "outputs": [
    {
     "data": {
      "text/plain": [
       "Text(0.5, 1.0, 'Clojure 10 most common words')"
      ]
     },
     "execution_count": 49,
     "metadata": {},
     "output_type": "execute_result"
    },
    {
     "data": {
      "image/png": "[encoded data removed]",
      "text/plain": [
       "<Figure size 432x288 with 1 Axes>"
      ]
     },
     "metadata": {
      "needs_background": "light"
     },
     "output_type": "display_data"
    }
   ],
   "source": [
    "clojure_count.sort_values(ascending=False)[0:10].plot.barh(width=.9)\n",
    "plt.title('Clojure 10 most common words')"
   ]
  },
  {
   "cell_type": "markdown",
   "metadata": {},
   "source": [
    "#### Java"
   ]
  },
  {
   "cell_type": "code",
   "execution_count": 50,
   "metadata": {},
   "outputs": [],
   "source": [
    "java_text = \" \".join(df[df.language == \"Java\"].prepped)\n",
    "java_words = java_text.split()"
   ]
  },
  {
   "cell_type": "code",
   "execution_count": 51,
   "metadata": {},
   "outputs": [
    {
     "data": {
      "text/plain": [
       "java         48\n",
       "problem      33\n",
       "tree         26\n",
       "statement    25\n",
       "run          23\n",
       "input        21\n",
       "main         17\n",
       "language     14\n",
       "sbaars       12\n",
       "io           11\n",
       "img          11\n",
       "shield       11\n",
       "part         10\n",
       "badge         9\n",
       "completed     8\n",
       "dtype: int64"
      ]
     },
     "execution_count": 51,
     "metadata": {},
     "output_type": "execute_result"
    }
   ],
   "source": [
    "java_count = pd.Series(java_words).value_counts()\n",
    "java_count.head(15)"
   ]
  },
  {
   "cell_type": "code",
   "execution_count": 52,
   "metadata": {},
   "outputs": [
    {
     "data": {
      "text/plain": [
       "Text(0.5, 1.0, 'Java 10 most common words')"
      ]
     },
     "execution_count": 52,
     "metadata": {},
     "output_type": "execute_result"
    },
    {
     "data": {
      "image/png": "[encoded data removed]",
      "text/plain": [
       "<Figure size 432x288 with 1 Axes>"
      ]
     },
     "metadata": {
      "needs_background": "light"
     },
     "output_type": "display_data"
    }
   ],
   "source": [
    "java_count.sort_values(ascending=False)[0:10].plot.barh(width=.9)\n",
    "plt.title('Java 10 most common words')"
   ]
  },
  {
   "cell_type": "markdown",
   "metadata": {},
   "source": [
    "### Does the length of the README vary by programming language?"
   ]
  },
  {
   "cell_type": "code",
   "execution_count": null,
   "metadata": {},
   "outputs": [],
   "source": []
  },
  {
   "cell_type": "markdown",
   "metadata": {},
   "source": [
    "### Do different programming languages use a different number of unique words?"
   ]
  },
  {
   "cell_type": "code",
   "execution_count": null,
   "metadata": {},
   "outputs": [],
   "source": []
  },
  {
   "cell_type": "markdown",
   "metadata": {},
   "source": [
    "# Model"
   ]
  },
  {
   "cell_type": "markdown",
   "metadata": {},
   "source": [
    "[Top](#Github-NLP-Project)"
   ]
  },
  {
   "cell_type": "markdown",
   "metadata": {},
   "source": [
    "Here we will look at the raw count, term frequency (tf), and inverse document frequency (idf). Then we will use that information to create models. We will train several different models and pick the best one. We will test the best model and evaluate the results. "
   ]
  },
  {
   "cell_type": "code",
   "execution_count": 53,
   "metadata": {},
   "outputs": [
    {
     "data": {
      "text/html": [
       "<div>\n",
       "<style scoped>\n",
       "    .dataframe tbody tr th:only-of-type {\n",
       "        vertical-align: middle;\n",
       "    }\n",
       "\n",
       "    .dataframe tbody tr th {\n",
       "        vertical-align: top;\n",
       "    }\n",
       "\n",
       "    .dataframe thead th {\n",
       "        text-align: right;\n",
       "    }\n",
       "</style>\n",
       "<table border=\"1\" class=\"dataframe\">\n",
       "  <thead>\n",
       "    <tr style=\"text-align: right;\">\n",
       "      <th></th>\n",
       "      <th>raw_count</th>\n",
       "      <th>term_frequency</th>\n",
       "    </tr>\n",
       "  </thead>\n",
       "  <tbody>\n",
       "    <tr>\n",
       "      <th>main</th>\n",
       "      <td>385</td>\n",
       "      <td>0.012584</td>\n",
       "    </tr>\n",
       "    <tr>\n",
       "      <th>run</th>\n",
       "      <td>378</td>\n",
       "      <td>0.012355</td>\n",
       "    </tr>\n",
       "    <tr>\n",
       "      <th>scala</th>\n",
       "      <td>327</td>\n",
       "      <td>0.010688</td>\n",
       "    </tr>\n",
       "    <tr>\n",
       "      <th>input</th>\n",
       "      <td>317</td>\n",
       "      <td>0.010361</td>\n",
       "    </tr>\n",
       "    <tr>\n",
       "      <th>part</th>\n",
       "      <td>292</td>\n",
       "      <td>0.009544</td>\n",
       "    </tr>\n",
       "  </tbody>\n",
       "</table>\n",
       "</div>"
      ],
      "text/plain": [
       "       raw_count  term_frequency\n",
       "main         385        0.012584\n",
       "run          378        0.012355\n",
       "scala        327        0.010688\n",
       "input        317        0.010361\n",
       "part         292        0.009544"
      ]
     },
     "execution_count": 53,
     "metadata": {},
     "output_type": "execute_result"
    }
   ],
   "source": [
    "# Create a data frame with raw count and tf\n",
    "tf_df = pd.DataFrame({'raw_count': raw_count})\n",
    "tf_df = tf_df.assign(term_frequency = lambda df: df.raw_count / df.raw_count.sum())\n",
    "tf_df.raw_count.max()\n",
    "tf_df.head()"
   ]
  },
  {
   "cell_type": "code",
   "execution_count": 54,
   "metadata": {},
   "outputs": [],
   "source": [
    "# Create a function that takes in a word and returns the idf of that word\n",
    "def idf(word):\n",
    "    n_occurrences = sum([1 for doc in df.prepped if word in doc])\n",
    "    n_docs = len(df.prepped)\n",
    "    idf = np.log(n_docs/n_occurrences)\n",
    "    return idf"
   ]
  },
  {
   "cell_type": "code",
   "execution_count": 55,
   "metadata": {},
   "outputs": [
    {
     "data": {
      "text/plain": [
       "4483"
      ]
     },
     "execution_count": 55,
     "metadata": {},
     "output_type": "execute_result"
    }
   ],
   "source": [
    "# Create a list of unique words\n",
    "unique_words = pd.Series(' '.join(df.prepped).split()).unique()\n",
    "len(unique_words)"
   ]
  },
  {
   "cell_type": "code",
   "execution_count": 56,
   "metadata": {},
   "outputs": [
    {
     "data": {
      "text/html": [
       "<div>\n",
       "<style scoped>\n",
       "    .dataframe tbody tr th:only-of-type {\n",
       "        vertical-align: middle;\n",
       "    }\n",
       "\n",
       "    .dataframe tbody tr th {\n",
       "        vertical-align: top;\n",
       "    }\n",
       "\n",
       "    .dataframe thead th {\n",
       "        text-align: right;\n",
       "    }\n",
       "</style>\n",
       "<table border=\"1\" class=\"dataframe\">\n",
       "  <thead>\n",
       "    <tr style=\"text-align: right;\">\n",
       "      <th></th>\n",
       "      <th>idf</th>\n",
       "    </tr>\n",
       "    <tr>\n",
       "      <th>word</th>\n",
       "      <th></th>\n",
       "    </tr>\n",
       "  </thead>\n",
       "  <tbody>\n",
       "    <tr>\n",
       "      <th>wip</th>\n",
       "      <td>5.627621</td>\n",
       "    </tr>\n",
       "    <tr>\n",
       "      <th>detectorutils</th>\n",
       "      <td>5.627621</td>\n",
       "    </tr>\n",
       "    <tr>\n",
       "      <th>commonly</th>\n",
       "      <td>5.627621</td>\n",
       "    </tr>\n",
       "    <tr>\n",
       "      <th>precision</th>\n",
       "      <td>5.627621</td>\n",
       "    </tr>\n",
       "    <tr>\n",
       "      <th>summarize</th>\n",
       "      <td>5.627621</td>\n",
       "    </tr>\n",
       "    <tr>\n",
       "      <th>precisionrecall</th>\n",
       "      <td>5.627621</td>\n",
       "    </tr>\n",
       "    <tr>\n",
       "      <th>curve</th>\n",
       "      <td>5.627621</td>\n",
       "    </tr>\n",
       "    <tr>\n",
       "      <th>accuracy</th>\n",
       "      <td>5.627621</td>\n",
       "    </tr>\n",
       "    <tr>\n",
       "      <th>frozeninferencegraph</th>\n",
       "      <td>5.627621</td>\n",
       "    </tr>\n",
       "    <tr>\n",
       "      <th>referenced</th>\n",
       "      <td>5.627621</td>\n",
       "    </tr>\n",
       "    <tr>\n",
       "      <th>handinferencegraph</th>\n",
       "      <td>5.627621</td>\n",
       "    </tr>\n",
       "    <tr>\n",
       "      <th>cloning</th>\n",
       "      <td>5.627621</td>\n",
       "    </tr>\n",
       "    <tr>\n",
       "      <th>loadinferencegraph</th>\n",
       "      <td>5.627621</td>\n",
       "    </tr>\n",
       "    <tr>\n",
       "      <th>meditationg</th>\n",
       "      <td>5.627621</td>\n",
       "    </tr>\n",
       "    <tr>\n",
       "      <th>detectiongraph</th>\n",
       "      <td>5.627621</td>\n",
       "    </tr>\n",
       "    <tr>\n",
       "      <th>asdefault</th>\n",
       "      <td>5.627621</td>\n",
       "    </tr>\n",
       "    <tr>\n",
       "      <th>odgraphdef</th>\n",
       "      <td>5.627621</td>\n",
       "    </tr>\n",
       "    <tr>\n",
       "      <th>graphdef</th>\n",
       "      <td>5.627621</td>\n",
       "    </tr>\n",
       "    <tr>\n",
       "      <th>gfile</th>\n",
       "      <td>5.627621</td>\n",
       "    </tr>\n",
       "    <tr>\n",
       "      <th>pathtockpt</th>\n",
       "      <td>5.627621</td>\n",
       "    </tr>\n",
       "    <tr>\n",
       "      <th>serializedgraph</th>\n",
       "      <td>5.627621</td>\n",
       "    </tr>\n",
       "    <tr>\n",
       "      <th>parsefromstring</th>\n",
       "      <td>5.627621</td>\n",
       "    </tr>\n",
       "    <tr>\n",
       "      <th>importgraphdef</th>\n",
       "      <td>5.627621</td>\n",
       "    </tr>\n",
       "    <tr>\n",
       "      <th>graphdetectiongraph</th>\n",
       "      <td>5.627621</td>\n",
       "    </tr>\n",
       "    <tr>\n",
       "      <th>performs</th>\n",
       "      <td>5.627621</td>\n",
       "    </tr>\n",
       "  </tbody>\n",
       "</table>\n",
       "</div>"
      ],
      "text/plain": [
       "                           idf\n",
       "word                          \n",
       "wip                   5.627621\n",
       "detectorutils         5.627621\n",
       "commonly              5.627621\n",
       "precision             5.627621\n",
       "summarize             5.627621\n",
       "precisionrecall       5.627621\n",
       "curve                 5.627621\n",
       "accuracy              5.627621\n",
       "frozeninferencegraph  5.627621\n",
       "referenced            5.627621\n",
       "handinferencegraph    5.627621\n",
       "cloning               5.627621\n",
       "loadinferencegraph    5.627621\n",
       "meditationg           5.627621\n",
       "detectiongraph        5.627621\n",
       "asdefault             5.627621\n",
       "odgraphdef            5.627621\n",
       "graphdef              5.627621\n",
       "gfile                 5.627621\n",
       "pathtockpt            5.627621\n",
       "serializedgraph       5.627621\n",
       "parsefromstring       5.627621\n",
       "importgraphdef        5.627621\n",
       "graphdetectiongraph   5.627621\n",
       "performs              5.627621"
      ]
     },
     "execution_count": 56,
     "metadata": {},
     "output_type": "execute_result"
    }
   ],
   "source": [
    "idf_df = pd.DataFrame(dict(word = unique_words))\n",
    "idf_df = idf_df.assign(idf = lambda df: df.word.apply(idf))\n",
    "idf_df = idf_df.set_index('word').sort_values(by='idf', ascending = False)\n",
    "idf_df.head(25)"
   ]
  },
  {
   "cell_type": "code",
   "execution_count": 57,
   "metadata": {},
   "outputs": [
    {
     "data": {
      "text/plain": [
       "Python              39\n",
       "JavaScript          35\n",
       "Haskell             25\n",
       "Rust                19\n",
       "Clojure             15\n",
       "Go                  14\n",
       "Java                13\n",
       "Kotlin              12\n",
       "C#                  10\n",
       "Ruby                10\n",
       "Elixir               9\n",
       "Scala                8\n",
       "C++                  8\n",
       "R                    7\n",
       "OCaml                5\n",
       "Jupyter Notebook     4\n",
       "TypeScript           4\n",
       "PHP                  3\n",
       "C                    3\n",
       "Elm                  2\n",
       "F#                   2\n",
       "Swift                2\n",
       "Perl                 2\n",
       "Pony                 2\n",
       "Scheme               2\n",
       "Julia                2\n",
       "Crystal              2\n",
       "HTML                 2\n",
       "Nim                  1\n",
       "Ada                  1\n",
       "Shell                1\n",
       "Mathematica          1\n",
       "PowerShell           1\n",
       "PureScript           1\n",
       "Erlang               1\n",
       "Eiffel               1\n",
       "D                    1\n",
       "Reason               1\n",
       "TSQL                 1\n",
       "APL                  1\n",
       "Haxe                 1\n",
       "Dart                 1\n",
       "Coq                  1\n",
       "Racket               1\n",
       "Smalltalk            1\n",
       "Name: language, dtype: int64"
      ]
     },
     "execution_count": 57,
     "metadata": {},
     "output_type": "execute_result"
    }
   ],
   "source": [
    "df.language.value_counts()"
   ]
  },
  {
   "cell_type": "markdown",
   "metadata": {},
   "source": [
    "#### It will not be realistic or benefitial to train and predict languages with a very small sample size. To accomodate for this, we create the label 'Other'. Other includes all languages that have less than 9 samples. This leaves us with the top 11 languages and the label Other for a total of 12 programming languages. "
   ]
  },
  {
   "cell_type": "code",
   "execution_count": 58,
   "metadata": {},
   "outputs": [],
   "source": [
    "df['language'] = df['language'].replace({'C++':'Other', 'Scala':'Other', 'OCaml':'Other','C':'Other', 'Elm':'Other', 'Pony':'Other', 'HTML':'Other', 'Perl':'Other','APL':'Other', 'Haxe':'Other', 'Racket':'Other', 'PureScript':'Other', 'Coq':'Other','F#':'Other', 'PHP':'Other', 'TSQL':'Other', 'Crystal':'Other', 'Nim':'Other', 'Shell':'Other', 'Eiffel':'Other', 'Mathematica':'Other', 'Swift':'Other', 'Reason':'Other', 'TypeScript':'Other', 'Jupyter Notebook':'Python', 'Scheme':'Other', 'Powershell':'Other', 'Julia':'Other', 'PowerShell':'Other', 'Ada':'Other', 'Erlang':'Other', 'Smalltalk':'Other', 'D':'Other', 'Dart':'Other', 'R':'Other'})"
   ]
  },
  {
   "cell_type": "code",
   "execution_count": 59,
   "metadata": {},
   "outputs": [
    {
     "data": {
      "text/plain": [
       "Other         73\n",
       "Python        43\n",
       "JavaScript    35\n",
       "Haskell       25\n",
       "Rust          19\n",
       "Clojure       15\n",
       "Go            14\n",
       "Java          13\n",
       "Kotlin        12\n",
       "Ruby          10\n",
       "C#            10\n",
       "Elixir         9\n",
       "Name: language, dtype: int64"
      ]
     },
     "execution_count": 59,
     "metadata": {},
     "output_type": "execute_result"
    }
   ],
   "source": [
    "df.language.value_counts()"
   ]
  },
  {
   "cell_type": "code",
   "execution_count": 60,
   "metadata": {},
   "outputs": [
    {
     "data": {
      "text/plain": [
       "278"
      ]
     },
     "execution_count": 60,
     "metadata": {},
     "output_type": "execute_result"
    }
   ],
   "source": [
    "sum(df.language.value_counts())"
   ]
  },
  {
   "cell_type": "markdown",
   "metadata": {},
   "source": [
    "## Split"
   ]
  },
  {
   "cell_type": "code",
   "execution_count": 61,
   "metadata": {},
   "outputs": [],
   "source": [
    "tfidf = TfidfVectorizer()\n",
    "X = tfidf.fit_transform(df.prepped)\n",
    "y = df.language\n",
    "\n",
    "# 80% train, 20% test\n",
    "X_train, X_test, y_train, y_test = train_test_split(X, y, stratify=y, test_size=.2)\n",
    "\n",
    "train = pd.DataFrame(dict(actual=y_train))\n",
    "test = pd.DataFrame(dict(actual=y_test))"
   ]
  },
  {
   "cell_type": "markdown",
   "metadata": {},
   "source": [
    "## Baseline: Predict Most Popular Language"
   ]
  },
  {
   "cell_type": "markdown",
   "metadata": {},
   "source": [
    "#### Baseline Accuracy: 26%"
   ]
  },
  {
   "cell_type": "markdown",
   "metadata": {},
   "source": [
    "Our data consists of 276 readme entries. Our most popular programming language is 'Other' with 73. If we were to guess Other for every language, we would be correct 26% of the time. Our final model must beat this baseline accuracy of 26%."
   ]
  },
  {
   "cell_type": "markdown",
   "metadata": {},
   "source": [
    "## Model 1: Logistic Regression"
   ]
  },
  {
   "cell_type": "code",
   "execution_count": 62,
   "metadata": {},
   "outputs": [],
   "source": [
    "lm = LogisticRegression().fit(X_train, y_train)\n",
    "\n",
    "train['predicted'] = lm.predict(X_train)\n",
    "test['predicted'] = lm.predict(X_test)"
   ]
  },
  {
   "cell_type": "markdown",
   "metadata": {},
   "source": [
    "### Train Evaluation"
   ]
  },
  {
   "cell_type": "code",
   "execution_count": 63,
   "metadata": {},
   "outputs": [
    {
     "name": "stdout",
     "output_type": "stream",
     "text": [
      "Accuracy: 67.57%\n",
      "---\n",
      "Confusion Matrix\n",
      "actual      C#  Clojure  Elixir  Go  Haskell  Java  JavaScript  Kotlin  Other  \\\n",
      "predicted                                                                       \n",
      "Clojure      0        6       0   0        0     0           0       0      0   \n",
      "Go           0        0       0   4        0     0           0       0      0   \n",
      "Haskell      0        0       0   0       12     0           0       0      0   \n",
      "Java         0        0       0   0        0     5           0       0      0   \n",
      "JavaScript   0        1       0   1        0     0          21       0      0   \n",
      "Kotlin       0        0       0   0        0     0           0       3      0   \n",
      "Other        8        5       7   5        7     5           7       6     57   \n",
      "Python       0        0       0   1        1     1           0       1      1   \n",
      "Ruby         0        0       0   0        0     0           0       0      0   \n",
      "Rust         0        0       0   0        0     0           0       0      0   \n",
      "\n",
      "actual      Python  Ruby  Rust  \n",
      "predicted                       \n",
      "Clojure          0     0     0  \n",
      "Go               0     0     0  \n",
      "Haskell          0     0     0  \n",
      "Java             0     0     0  \n",
      "JavaScript       0     0     0  \n",
      "Kotlin           0     0     0  \n",
      "Other            4     4     7  \n",
      "Python          30     0     0  \n",
      "Ruby             0     4     0  \n",
      "Rust             0     0     8  \n",
      "---\n",
      "              precision    recall  f1-score   support\n",
      "\n",
      "          C#       0.00      0.00      0.00         8\n",
      "     Clojure       1.00      0.50      0.67        12\n",
      "      Elixir       0.00      0.00      0.00         7\n",
      "          Go       1.00      0.36      0.53        11\n",
      "     Haskell       1.00      0.60      0.75        20\n",
      "        Java       1.00      0.45      0.62        11\n",
      "  JavaScript       0.91      0.75      0.82        28\n",
      "      Kotlin       1.00      0.30      0.46        10\n",
      "       Other       0.47      0.98      0.63        58\n",
      "      Python       0.86      0.88      0.87        34\n",
      "        Ruby       1.00      0.50      0.67         8\n",
      "        Rust       1.00      0.53      0.70        15\n",
      "\n",
      "    accuracy                           0.68       222\n",
      "   macro avg       0.77      0.49      0.56       222\n",
      "weighted avg       0.76      0.68      0.66       222\n",
      "\n"
     ]
    }
   ],
   "source": [
    "print('Accuracy: {:.2%}'.format(accuracy_score(train.actual, train.predicted)))\n",
    "print('---')\n",
    "print('Confusion Matrix')\n",
    "print(pd.crosstab(train.predicted, train.actual))\n",
    "print('---')\n",
    "print(classification_report(train.actual, train.predicted))"
   ]
  },
  {
   "cell_type": "markdown",
   "metadata": {},
   "source": [
    "## Model 2: Decision Tree"
   ]
  },
  {
   "cell_type": "code",
   "execution_count": 64,
   "metadata": {},
   "outputs": [
    {
     "data": {
      "text/plain": [
       "DecisionTreeClassifier(class_weight=None, criterion='entropy', max_depth=9,\n",
       "                       max_features=None, max_leaf_nodes=None,\n",
       "                       min_impurity_decrease=0.0, min_impurity_split=None,\n",
       "                       min_samples_leaf=1, min_samples_split=2,\n",
       "                       min_weight_fraction_leaf=0.0, presort=False,\n",
       "                       random_state=123, splitter='best')"
      ]
     },
     "execution_count": 64,
     "metadata": {},
     "output_type": "execute_result"
    }
   ],
   "source": [
    "# Create\n",
    "tree = DecisionTreeClassifier(criterion='entropy', max_depth=9, random_state=123)\n",
    "# Fit\n",
    "tree.fit(X_train, y_train)"
   ]
  },
  {
   "cell_type": "code",
   "execution_count": 65,
   "metadata": {},
   "outputs": [],
   "source": [
    "train = pd.DataFrame(dict(actual=y_train))\n",
    "test = pd.DataFrame(dict(actual=y_test))\n",
    "# Predict\n",
    "train['predicted'] = tree.predict(X_train)\n",
    "test['predicted'] = tree.predict(X_test)"
   ]
  },
  {
   "cell_type": "markdown",
   "metadata": {},
   "source": [
    "### Train Evaluation"
   ]
  },
  {
   "cell_type": "code",
   "execution_count": 66,
   "metadata": {},
   "outputs": [
    {
     "name": "stdout",
     "output_type": "stream",
     "text": [
      "Accuracy: 67.12%\n",
      "---\n",
      "Confusion Matrix\n",
      "actual      C#  Clojure  Elixir  Go  Haskell  Java  JavaScript  Kotlin  Other  \\\n",
      "predicted                                                                       \n",
      "Clojure      0       11       0   0        0     0           0       0      0   \n",
      "Elixir       0        0       7   0        0     0           0       0      0   \n",
      "Haskell      0        0       0   0       11     0           0       0      0   \n",
      "Java         0        0       0   0        0    10           0       0      0   \n",
      "JavaScript   2        0       0   3        0     0           7       1      0   \n",
      "Kotlin       0        0       0   0        0     0           0       7      0   \n",
      "Other        6        1       0   8        9     1          21       2     58   \n",
      "Python       0        0       0   0        0     0           0       0      0   \n",
      "Ruby         0        0       0   0        0     0           0       0      0   \n",
      "Rust         0        0       0   0        0     0           0       0      0   \n",
      "\n",
      "actual      Python  Ruby  Rust  \n",
      "predicted                       \n",
      "Clojure          0     0     0  \n",
      "Elixir           0     0     0  \n",
      "Haskell          0     0     0  \n",
      "Java             0     0     0  \n",
      "JavaScript       0     1     0  \n",
      "Kotlin           0     0     0  \n",
      "Other           16     0     2  \n",
      "Python          18     0     0  \n",
      "Ruby             0     7     0  \n",
      "Rust             0     0    13  \n",
      "---\n",
      "              precision    recall  f1-score   support\n",
      "\n",
      "          C#       0.00      0.00      0.00         8\n",
      "     Clojure       1.00      0.92      0.96        12\n",
      "      Elixir       1.00      1.00      1.00         7\n",
      "          Go       0.00      0.00      0.00        11\n",
      "     Haskell       1.00      0.55      0.71        20\n",
      "        Java       1.00      0.91      0.95        11\n",
      "  JavaScript       0.50      0.25      0.33        28\n",
      "      Kotlin       1.00      0.70      0.82        10\n",
      "       Other       0.47      1.00      0.64        58\n",
      "      Python       1.00      0.53      0.69        34\n",
      "        Ruby       1.00      0.88      0.93         8\n",
      "        Rust       1.00      0.87      0.93        15\n",
      "\n",
      "    accuracy                           0.67       222\n",
      "   macro avg       0.75      0.63      0.66       222\n",
      "weighted avg       0.71      0.67      0.64       222\n",
      "\n"
     ]
    }
   ],
   "source": [
    "print('Accuracy: {:.2%}'.format(accuracy_score(train.actual, train.predicted)))\n",
    "print('---')\n",
    "print('Confusion Matrix')\n",
    "print(pd.crosstab(train.predicted, train.actual))\n",
    "print('---')\n",
    "print(classification_report(train.actual, train.predicted))"
   ]
  },
  {
   "cell_type": "markdown",
   "metadata": {},
   "source": [
    "## Model 3: Random Forest"
   ]
  },
  {
   "cell_type": "code",
   "execution_count": 67,
   "metadata": {},
   "outputs": [
    {
     "data": {
      "text/plain": [
       "RandomForestClassifier(bootstrap=True, class_weight=None, criterion='gini',\n",
       "                       max_depth=9, max_features='auto', max_leaf_nodes=None,\n",
       "                       min_impurity_decrease=0.0, min_impurity_split=None,\n",
       "                       min_samples_leaf=3, min_samples_split=2,\n",
       "                       min_weight_fraction_leaf=0.0, n_estimators=10,\n",
       "                       n_jobs=None, oob_score=False, random_state=123,\n",
       "                       verbose=0, warm_start=False)"
      ]
     },
     "execution_count": 67,
     "metadata": {},
     "output_type": "execute_result"
    }
   ],
   "source": [
    "# Create\n",
    "rf = RandomForestClassifier(min_samples_leaf=3, max_depth=9, random_state=123)\n",
    "# Fit\n",
    "rf.fit(X_train, y_train)"
   ]
  },
  {
   "cell_type": "code",
   "execution_count": 68,
   "metadata": {},
   "outputs": [],
   "source": [
    "train = pd.DataFrame(dict(actual=y_train))\n",
    "test = pd.DataFrame(dict(actual=y_test))\n",
    "# Predict\n",
    "train['predicted'] = rf.predict(X_train)\n",
    "test['predicted'] = rf.predict(X_test)"
   ]
  },
  {
   "cell_type": "markdown",
   "metadata": {},
   "source": [
    "### Train Evaluation"
   ]
  },
  {
   "cell_type": "code",
   "execution_count": 69,
   "metadata": {},
   "outputs": [
    {
     "name": "stdout",
     "output_type": "stream",
     "text": [
      "Accuracy: 55.86%\n",
      "---\n",
      "Confusion Matrix\n",
      "actual      C#  Clojure  Elixir  Go  Haskell  Java  JavaScript  Kotlin  Other  \\\n",
      "predicted                                                                       \n",
      "Clojure      0        1       0   0        0     0           0       0      0   \n",
      "Go           0        0       0   4        0     0           0       0      0   \n",
      "Haskell      0        0       0   0        4     1           0       0      0   \n",
      "Java         0        0       0   0        0     2           0       0      0   \n",
      "JavaScript   0        0       0   1        0     0          21       0      1   \n",
      "Kotlin       0        0       0   0        0     0           0       3      0   \n",
      "Other        7       10       7   5       14     7           7       7     55   \n",
      "Python       1        1       0   1        1     1           0       0      1   \n",
      "Ruby         0        0       0   0        0     0           0       0      0   \n",
      "Rust         0        0       0   0        1     0           0       0      1   \n",
      "\n",
      "actual      Python  Ruby  Rust  \n",
      "predicted                       \n",
      "Clojure          0     0     0  \n",
      "Go               0     0     0  \n",
      "Haskell          0     0     0  \n",
      "Java             0     0     0  \n",
      "JavaScript       0     0     0  \n",
      "Kotlin           0     0     0  \n",
      "Other           14     5     4  \n",
      "Python          20     0     0  \n",
      "Ruby             0     3     0  \n",
      "Rust             0     0    11  \n",
      "---\n",
      "              precision    recall  f1-score   support\n",
      "\n",
      "          C#       0.00      0.00      0.00         8\n",
      "     Clojure       1.00      0.08      0.15        12\n",
      "      Elixir       0.00      0.00      0.00         7\n",
      "          Go       1.00      0.36      0.53        11\n",
      "     Haskell       0.80      0.20      0.32        20\n",
      "        Java       1.00      0.18      0.31        11\n",
      "  JavaScript       0.91      0.75      0.82        28\n",
      "      Kotlin       1.00      0.30      0.46        10\n",
      "       Other       0.39      0.95      0.55        58\n",
      "      Python       0.77      0.59      0.67        34\n",
      "        Ruby       1.00      0.38      0.55         8\n",
      "        Rust       0.85      0.73      0.79        15\n",
      "\n",
      "    accuracy                           0.56       222\n",
      "   macro avg       0.73      0.38      0.43       222\n",
      "weighted avg       0.70      0.56      0.52       222\n",
      "\n"
     ]
    }
   ],
   "source": [
    "print('Accuracy: {:.2%}'.format(accuracy_score(train.actual, train.predicted)))\n",
    "print('---')\n",
    "print('Confusion Matrix')\n",
    "print(pd.crosstab(train.predicted, train.actual))\n",
    "print('---')\n",
    "print(classification_report(train.actual, train.predicted))"
   ]
  },
  {
   "cell_type": "markdown",
   "metadata": {},
   "source": [
    "## Model 4: K-Nearest Neighbors"
   ]
  },
  {
   "cell_type": "code",
   "execution_count": 70,
   "metadata": {},
   "outputs": [
    {
     "data": {
      "text/plain": [
       "KNeighborsClassifier(algorithm='auto', leaf_size=30, metric='minkowski',\n",
       "                     metric_params=None, n_jobs=None, n_neighbors=8, p=2,\n",
       "                     weights='uniform')"
      ]
     },
     "execution_count": 70,
     "metadata": {},
     "output_type": "execute_result"
    }
   ],
   "source": [
    "# Create\n",
    "knn=KNeighborsClassifier(n_neighbors=8,weights='uniform')\n",
    "# Fit\n",
    "knn.fit(X_train, y_train)"
   ]
  },
  {
   "cell_type": "code",
   "execution_count": 71,
   "metadata": {},
   "outputs": [],
   "source": [
    "train = pd.DataFrame(dict(actual=y_train))\n",
    "test = pd.DataFrame(dict(actual=y_test))\n",
    "# Predict\n",
    "train['predicted'] = knn.predict(X_train)\n",
    "test['predicted'] = knn.predict(X_test)"
   ]
  },
  {
   "cell_type": "markdown",
   "metadata": {},
   "source": [
    "### Train Evaluation"
   ]
  },
  {
   "cell_type": "code",
   "execution_count": 72,
   "metadata": {},
   "outputs": [
    {
     "name": "stdout",
     "output_type": "stream",
     "text": [
      "Accuracy: 66.67%\n",
      "---\n",
      "Confusion Matrix\n",
      "actual      C#  Clojure  Elixir  Go  Haskell  Java  JavaScript  Kotlin  Other  \\\n",
      "predicted                                                                       \n",
      "C#           2        0       0   0        1     0           1       0      5   \n",
      "Clojure      0       12       0   0        0     0           2       0      1   \n",
      "Elixir       0        0       6   0        0     0           0       0      0   \n",
      "Go           0        0       0   7        0     1           1       2      2   \n",
      "Haskell      1        0       0   1       14     0           0       0      1   \n",
      "Java         0        0       0   0        0     6           0       0      1   \n",
      "JavaScript   1        0       0   1        1     2          23       2     11   \n",
      "Kotlin       0        0       0   0        0     0           0       4      1   \n",
      "Other        2        0       1   1        2     1           1       2     32   \n",
      "Python       2        0       0   1        1     1           0       0      3   \n",
      "Ruby         0        0       0   0        0     0           0       0      1   \n",
      "Rust         0        0       0   0        1     0           0       0      0   \n",
      "\n",
      "actual      Python  Ruby  Rust  \n",
      "predicted                       \n",
      "C#               0     0     0  \n",
      "Clojure          0     0     1  \n",
      "Elixir           0     0     0  \n",
      "Go               1     2     1  \n",
      "Haskell          0     0     0  \n",
      "Java             0     0     0  \n",
      "JavaScript       2     0     0  \n",
      "Kotlin           0     0     0  \n",
      "Other            5     0     1  \n",
      "Python          26     1     1  \n",
      "Ruby             0     5     0  \n",
      "Rust             0     0    11  \n",
      "---\n",
      "              precision    recall  f1-score   support\n",
      "\n",
      "          C#       0.22      0.25      0.24         8\n",
      "     Clojure       0.75      1.00      0.86        12\n",
      "      Elixir       1.00      0.86      0.92         7\n",
      "          Go       0.41      0.64      0.50        11\n",
      "     Haskell       0.82      0.70      0.76        20\n",
      "        Java       0.86      0.55      0.67        11\n",
      "  JavaScript       0.53      0.82      0.65        28\n",
      "      Kotlin       0.80      0.40      0.53        10\n",
      "       Other       0.67      0.55      0.60        58\n",
      "      Python       0.72      0.76      0.74        34\n",
      "        Ruby       0.83      0.62      0.71         8\n",
      "        Rust       0.92      0.73      0.81        15\n",
      "\n",
      "    accuracy                           0.67       222\n",
      "   macro avg       0.71      0.66      0.67       222\n",
      "weighted avg       0.70      0.67      0.67       222\n",
      "\n"
     ]
    }
   ],
   "source": [
    "print('Accuracy: {:.2%}'.format(accuracy_score(train.actual, train.predicted)))\n",
    "print('---')\n",
    "print('Confusion Matrix')\n",
    "print(pd.crosstab(train.predicted, train.actual))\n",
    "print('---')\n",
    "print(classification_report(train.actual, train.predicted))"
   ]
  },
  {
   "cell_type": "markdown",
   "metadata": {},
   "source": [
    "## Testing our Best Model"
   ]
  },
  {
   "cell_type": "markdown",
   "metadata": {},
   "source": [
    "[Top](#Github-NLP-Project)"
   ]
  },
  {
   "cell_type": "markdown",
   "metadata": {},
   "source": [
    "Our best perfoming model is the decision tree. Let's run our model on the test data to see how it does. \n"
   ]
  },
  {
   "cell_type": "code",
   "execution_count": 73,
   "metadata": {},
   "outputs": [
    {
     "data": {
      "text/plain": [
       "DecisionTreeClassifier(class_weight=None, criterion='entropy', max_depth=9,\n",
       "                       max_features=None, max_leaf_nodes=None,\n",
       "                       min_impurity_decrease=0.0, min_impurity_split=None,\n",
       "                       min_samples_leaf=1, min_samples_split=2,\n",
       "                       min_weight_fraction_leaf=0.0, presort=False,\n",
       "                       random_state=123, splitter='best')"
      ]
     },
     "execution_count": 73,
     "metadata": {},
     "output_type": "execute_result"
    }
   ],
   "source": [
    "# Create\n",
    "tree = DecisionTreeClassifier(criterion='entropy', max_depth=9, random_state=123)\n",
    "# Fit\n",
    "tree.fit(X_train, y_train)"
   ]
  },
  {
   "cell_type": "code",
   "execution_count": 74,
   "metadata": {},
   "outputs": [],
   "source": [
    "train = pd.DataFrame(dict(actual=y_train))\n",
    "test = pd.DataFrame(dict(actual=y_test))\n",
    "# Predict\n",
    "train['predicted'] = tree.predict(X_train)\n",
    "test['predicted'] = tree.predict(X_test)"
   ]
  },
  {
   "cell_type": "code",
   "execution_count": 75,
   "metadata": {},
   "outputs": [
    {
     "name": "stdout",
     "output_type": "stream",
     "text": [
      "Accuracy: 53.57%\n",
      "---\n",
      "Confusion Matrix\n",
      "actual      C#  Clojure  Elixir  Go  Haskell  Java  JavaScript  Kotlin  Other  \\\n",
      "predicted                                                                       \n",
      "Clojure      0        1       0   0        0     0           0       0      0   \n",
      "Elixir       0        0       2   0        0     0           0       0      0   \n",
      "Haskell      0        0       0   0        3     0           0       0      0   \n",
      "Java         1        0       0   0        0     1           0       0      0   \n",
      "JavaScript   0        0       0   0        0     0           2       0      0   \n",
      "Kotlin       0        0       0   0        0     0           0       1      1   \n",
      "Other        1        2       0   3        2     0           4       1     14   \n",
      "Python       0        0       0   0        0     0           1       0      0   \n",
      "Ruby         0        0       0   0        0     1           0       0      0   \n",
      "Rust         0        0       0   0        0     0           0       0      0   \n",
      "\n",
      "actual      Python  Ruby  Rust  \n",
      "predicted                       \n",
      "Clojure          0     0     0  \n",
      "Elixir           0     0     0  \n",
      "Haskell          0     0     0  \n",
      "Java             0     0     0  \n",
      "JavaScript       1     0     0  \n",
      "Kotlin           0     0     0  \n",
      "Other            6     0     2  \n",
      "Python           2     0     0  \n",
      "Ruby             0     2     0  \n",
      "Rust             0     0     2  \n",
      "---\n",
      "              precision    recall  f1-score   support\n",
      "\n",
      "          C#       0.00      0.00      0.00         2\n",
      "     Clojure       1.00      0.33      0.50         3\n",
      "      Elixir       1.00      1.00      1.00         2\n",
      "          Go       0.00      0.00      0.00         3\n",
      "     Haskell       1.00      0.60      0.75         5\n",
      "        Java       0.50      0.50      0.50         2\n",
      "  JavaScript       0.67      0.29      0.40         7\n",
      "      Kotlin       0.50      0.50      0.50         2\n",
      "       Other       0.40      0.93      0.56        15\n",
      "      Python       0.67      0.22      0.33         9\n",
      "        Ruby       0.67      1.00      0.80         2\n",
      "        Rust       1.00      0.50      0.67         4\n",
      "\n",
      "    accuracy                           0.54        56\n",
      "   macro avg       0.62      0.49      0.50        56\n",
      "weighted avg       0.61      0.54      0.49        56\n",
      "\n"
     ]
    }
   ],
   "source": [
    "print('Accuracy: {:.2%}'.format(accuracy_score(test.actual, test.predicted)))\n",
    "print('---')\n",
    "print('Confusion Matrix')\n",
    "print(pd.crosstab(test.predicted, test.actual))\n",
    "print('---')\n",
    "print(classification_report(test.actual, test.predicted))"
   ]
  },
  {
   "cell_type": "markdown",
   "metadata": {},
   "source": [
    "#### Conclusion: Our best model is the decision tree. When given unseen test data, our model returns an accuracy of about 52%. This is significant, given our model is making its predictions from 12 options. It also vastly outperforms our baseline model, which had an accuracy of 26%."
   ]
  },
  {
   "cell_type": "markdown",
   "metadata": {},
   "source": [
    "### Build a function that will take in the text of a README file, and tries to predict the programming language."
   ]
  },
  {
   "cell_type": "code",
   "execution_count": null,
   "metadata": {},
   "outputs": [],
   "source": []
  }
 ],
 "metadata": {
  "kernelspec": {
   "display_name": "Python 3",
   "language": "python",
   "name": "python3"
  },
  "language_info": {
   "codemirror_mode": {
    "name": "ipython",
    "version": 3
   },
   "file_extension": ".py",
   "mimetype": "text/x-python",
   "name": "python",
   "nbconvert_exporter": "python",
   "pygments_lexer": "ipython3",
   "version": "3.7.3"
  }
 },
 "nbformat": 4,
 "nbformat_minor": 2
}
