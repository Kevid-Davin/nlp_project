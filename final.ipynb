{
 "cells": [
  {
   "cell_type": "markdown",
   "metadata": {},
   "source": [
    "# Github NLP Project"
   ]
  },
  {
   "cell_type": "markdown",
   "metadata": {},
   "source": [
    "#### For this project, we scrape data from GitHub repository README files. Our goal is  to build a model that can predict what programming language a repository is, given the text of the README file.\n",
    "\n",
    "#### Our repositories come from a Github search for \"advent of code\". Advent of code is an annual coding challenge completed by many people in a variety of languages. "
   ]
  },
  {
   "cell_type": "markdown",
   "metadata": {},
   "source": [
    "- [Acquire](#Acquire)\n",
    "- [Prepare](#Prepare)\n",
    "- [Explore](#Explore)\n",
    "- [Model](#Model)\n",
    "   - [Model 1: Logistic Regression](#Model-1:-Logistic-Regression)\n",
    "   - [Model 2: Decision Tree](#Model-2:-Decision-Tree)\n",
    "   - [Model 3: Random Forest](#Model-3:-Random-Forest)\n",
    "   - [Model 4: K-Nearest Neighbors](#Model-4:-K-Nearest-Neighbors)\n",
    "   - [Testing our Best Model](#Testing-our-Best-Model)"
   ]
  },
  {
   "cell_type": "code",
   "execution_count": 1,
   "metadata": {},
   "outputs": [],
   "source": [
    "###############################################################################\n",
    "### pthon imports                                                           ###\n",
    "###############################################################################\n",
    "\n",
    "from os import path\n",
    "from requests import get\n",
    "from bs4 import BeautifulSoup\n",
    "import os\n",
    "import pandas as pd\n",
    "import numpy as np\n",
    "import re\n",
    "import unicodedata\n",
    "import nltk\n",
    "from nltk.tokenize.toktok import ToktokTokenizer\n",
    "from nltk.corpus import stopwords\n",
    "import matplotlib.pyplot as plt\n",
    "import seaborn as sns\n",
    "from sklearn.model_selection import train_test_split\n",
    "from sklearn.linear_model import LogisticRegression\n",
    "from sklearn.tree import DecisionTreeClassifier\n",
    "from sklearn.ensemble import RandomForestClassifier\n",
    "from sklearn.neighbors import KNeighborsClassifier\n",
    "from sklearn.metrics import classification_report, accuracy_score\n",
    "from sklearn.feature_extraction.text import TfidfVectorizer\n",
    "import warnings\n",
    "warnings.filterwarnings(\"ignore\")"
   ]
  },
  {
   "cell_type": "markdown",
   "metadata": {},
   "source": [
    "# Acquire"
   ]
  },
  {
   "cell_type": "code",
   "execution_count": 2,
   "metadata": {},
   "outputs": [],
   "source": [
    "###############################################################################\n",
    "### local imports                                                           ###\n",
    "###############################################################################\n",
    "\n",
    "from acquire import make_soup_gitsearch\n",
    "from acquire import get_repo_urls_from_gitsearch\n",
    "from acquire import get_repos_from_url_list\n",
    "from acquire import get_subrepos_from_readmes\n",
    "from acquire import merge_repo_list\n",
    "from acquire import scrape_github_data\n",
    "from acquire import process_scraped_repos\n",
    "from acquire import output_processed_repos"
   ]
  },
  {
   "cell_type": "markdown",
   "metadata": {},
   "source": [
    "Acquire code can be found [here](https://github.com/Kevid-Davin/nlp_project/blob/master/acquire.py)"
   ]
  },
  {
   "cell_type": "markdown",
   "metadata": {},
   "source": [
    "### Obtain search results from GitHub"
   ]
  },
  {
   "cell_type": "code",
   "execution_count": 3,
   "metadata": {},
   "outputs": [
    {
     "data": {
      "text/html": [
       "<div>\n",
       "<style scoped>\n",
       "    .dataframe tbody tr th:only-of-type {\n",
       "        vertical-align: middle;\n",
       "    }\n",
       "\n",
       "    .dataframe tbody tr th {\n",
       "        vertical-align: top;\n",
       "    }\n",
       "\n",
       "    .dataframe thead th {\n",
       "        text-align: right;\n",
       "    }\n",
       "</style>\n",
       "<table border=\"1\" class=\"dataframe\">\n",
       "  <thead>\n",
       "    <tr style=\"text-align: right;\">\n",
       "      <th></th>\n",
       "      <th>soup</th>\n",
       "      <th>page</th>\n",
       "      <th>url</th>\n",
       "      <th>file_name</th>\n",
       "    </tr>\n",
       "  </thead>\n",
       "  <tbody>\n",
       "    <tr>\n",
       "      <th>0</th>\n",
       "      <td>&lt;html&gt;&lt;body&gt;&lt;a class=\"v-align-middle\" data-hyd...</td>\n",
       "      <td>1</td>\n",
       "      <td>https://github.com/search?o=desc&amp;p=1&amp;q=advent+...</td>\n",
       "      <td>soupfiles/gitsearch01.txt</td>\n",
       "    </tr>\n",
       "    <tr>\n",
       "      <th>1</th>\n",
       "      <td>&lt;html&gt;&lt;body&gt;&lt;a class=\"v-align-middle\" data-hyd...</td>\n",
       "      <td>2</td>\n",
       "      <td>https://github.com/search?o=desc&amp;p=2&amp;q=advent+...</td>\n",
       "      <td>soupfiles/gitsearch02.txt</td>\n",
       "    </tr>\n",
       "    <tr>\n",
       "      <th>2</th>\n",
       "      <td>&lt;html&gt;&lt;body&gt;&lt;a class=\"v-align-middle\" data-hyd...</td>\n",
       "      <td>3</td>\n",
       "      <td>https://github.com/search?o=desc&amp;p=3&amp;q=advent+...</td>\n",
       "      <td>soupfiles/gitsearch03.txt</td>\n",
       "    </tr>\n",
       "    <tr>\n",
       "      <th>3</th>\n",
       "      <td>&lt;html&gt;&lt;body&gt;&lt;a class=\"v-align-middle\" data-hyd...</td>\n",
       "      <td>4</td>\n",
       "      <td>https://github.com/search?o=desc&amp;p=4&amp;q=advent+...</td>\n",
       "      <td>soupfiles/gitsearch04.txt</td>\n",
       "    </tr>\n",
       "    <tr>\n",
       "      <th>4</th>\n",
       "      <td>&lt;html&gt;&lt;body&gt;&lt;a class=\"v-align-middle\" data-hyd...</td>\n",
       "      <td>5</td>\n",
       "      <td>https://github.com/search?o=desc&amp;p=5&amp;q=advent+...</td>\n",
       "      <td>soupfiles/gitsearch05.txt</td>\n",
       "    </tr>\n",
       "    <tr>\n",
       "      <th>5</th>\n",
       "      <td>&lt;html&gt;&lt;body&gt;&lt;a class=\"v-align-middle\" data-hyd...</td>\n",
       "      <td>6</td>\n",
       "      <td>https://github.com/search?o=desc&amp;p=6&amp;q=advent+...</td>\n",
       "      <td>soupfiles/gitsearch06.txt</td>\n",
       "    </tr>\n",
       "    <tr>\n",
       "      <th>6</th>\n",
       "      <td>&lt;html&gt;&lt;body&gt;&lt;a class=\"v-align-middle\" data-hyd...</td>\n",
       "      <td>7</td>\n",
       "      <td>https://github.com/search?o=desc&amp;p=7&amp;q=advent+...</td>\n",
       "      <td>soupfiles/gitsearch07.txt</td>\n",
       "    </tr>\n",
       "    <tr>\n",
       "      <th>7</th>\n",
       "      <td>&lt;html&gt;&lt;body&gt;&lt;a class=\"v-align-middle\" data-hyd...</td>\n",
       "      <td>8</td>\n",
       "      <td>https://github.com/search?o=desc&amp;p=8&amp;q=advent+...</td>\n",
       "      <td>soupfiles/gitsearch08.txt</td>\n",
       "    </tr>\n",
       "    <tr>\n",
       "      <th>8</th>\n",
       "      <td>&lt;html&gt;&lt;body&gt;&lt;a class=\"v-align-middle\" data-hyd...</td>\n",
       "      <td>9</td>\n",
       "      <td>https://github.com/search?o=desc&amp;p=9&amp;q=advent+...</td>\n",
       "      <td>soupfiles/gitsearch09.txt</td>\n",
       "    </tr>\n",
       "    <tr>\n",
       "      <th>9</th>\n",
       "      <td>&lt;html&gt;&lt;body&gt;&lt;a class=\"v-align-middle\" data-hyd...</td>\n",
       "      <td>10</td>\n",
       "      <td>https://github.com/search?o=desc&amp;p=10&amp;q=advent...</td>\n",
       "      <td>soupfiles/gitsearch10.txt</td>\n",
       "    </tr>\n",
       "    <tr>\n",
       "      <th>10</th>\n",
       "      <td>&lt;html&gt;&lt;body&gt;&lt;a class=\"v-align-middle\" data-hyd...</td>\n",
       "      <td>11</td>\n",
       "      <td>https://github.com/search?o=desc&amp;p=11&amp;q=advent...</td>\n",
       "      <td>soupfiles/gitsearch11.txt</td>\n",
       "    </tr>\n",
       "    <tr>\n",
       "      <th>11</th>\n",
       "      <td>&lt;html&gt;&lt;body&gt;&lt;a class=\"v-align-middle\" data-hyd...</td>\n",
       "      <td>12</td>\n",
       "      <td>https://github.com/search?o=desc&amp;p=12&amp;q=advent...</td>\n",
       "      <td>soupfiles/gitsearch12.txt</td>\n",
       "    </tr>\n",
       "    <tr>\n",
       "      <th>12</th>\n",
       "      <td>&lt;html&gt;&lt;body&gt;&lt;a class=\"v-align-middle\" data-hyd...</td>\n",
       "      <td>13</td>\n",
       "      <td>https://github.com/search?o=desc&amp;p=13&amp;q=advent...</td>\n",
       "      <td>soupfiles/gitsearch13.txt</td>\n",
       "    </tr>\n",
       "    <tr>\n",
       "      <th>13</th>\n",
       "      <td>&lt;html&gt;&lt;body&gt;&lt;a class=\"v-align-middle\" data-hyd...</td>\n",
       "      <td>14</td>\n",
       "      <td>https://github.com/search?o=desc&amp;p=14&amp;q=advent...</td>\n",
       "      <td>soupfiles/gitsearch14.txt</td>\n",
       "    </tr>\n",
       "    <tr>\n",
       "      <th>14</th>\n",
       "      <td>&lt;html&gt;&lt;body&gt;&lt;a class=\"v-align-middle\" data-hyd...</td>\n",
       "      <td>15</td>\n",
       "      <td>https://github.com/search?o=desc&amp;p=15&amp;q=advent...</td>\n",
       "      <td>soupfiles/gitsearch15.txt</td>\n",
       "    </tr>\n",
       "    <tr>\n",
       "      <th>15</th>\n",
       "      <td>&lt;html&gt;&lt;body&gt;&lt;a class=\"v-align-middle\" data-hyd...</td>\n",
       "      <td>16</td>\n",
       "      <td>https://github.com/search?o=desc&amp;p=16&amp;q=advent...</td>\n",
       "      <td>soupfiles/gitsearch16.txt</td>\n",
       "    </tr>\n",
       "    <tr>\n",
       "      <th>16</th>\n",
       "      <td>&lt;html&gt;&lt;body&gt;&lt;a class=\"v-align-middle\" data-hyd...</td>\n",
       "      <td>17</td>\n",
       "      <td>https://github.com/search?o=desc&amp;p=17&amp;q=advent...</td>\n",
       "      <td>soupfiles/gitsearch17.txt</td>\n",
       "    </tr>\n",
       "    <tr>\n",
       "      <th>17</th>\n",
       "      <td>&lt;html&gt;&lt;body&gt;&lt;a class=\"v-align-middle\" data-hyd...</td>\n",
       "      <td>18</td>\n",
       "      <td>https://github.com/search?o=desc&amp;p=18&amp;q=advent...</td>\n",
       "      <td>soupfiles/gitsearch18.txt</td>\n",
       "    </tr>\n",
       "    <tr>\n",
       "      <th>18</th>\n",
       "      <td>&lt;html&gt;&lt;body&gt;&lt;a class=\"v-align-middle\" data-hyd...</td>\n",
       "      <td>19</td>\n",
       "      <td>https://github.com/search?o=desc&amp;p=19&amp;q=advent...</td>\n",
       "      <td>soupfiles/gitsearch19.txt</td>\n",
       "    </tr>\n",
       "    <tr>\n",
       "      <th>19</th>\n",
       "      <td>&lt;html&gt;&lt;body&gt;&lt;a class=\"v-align-middle\" data-hyd...</td>\n",
       "      <td>20</td>\n",
       "      <td>https://github.com/search?o=desc&amp;p=20&amp;q=advent...</td>\n",
       "      <td>soupfiles/gitsearch20.txt</td>\n",
       "    </tr>\n",
       "  </tbody>\n",
       "</table>\n",
       "</div>"
      ],
      "text/plain": [
       "                                                 soup page  \\\n",
       "0   <html><body><a class=\"v-align-middle\" data-hyd...    1   \n",
       "1   <html><body><a class=\"v-align-middle\" data-hyd...    2   \n",
       "2   <html><body><a class=\"v-align-middle\" data-hyd...    3   \n",
       "3   <html><body><a class=\"v-align-middle\" data-hyd...    4   \n",
       "4   <html><body><a class=\"v-align-middle\" data-hyd...    5   \n",
       "5   <html><body><a class=\"v-align-middle\" data-hyd...    6   \n",
       "6   <html><body><a class=\"v-align-middle\" data-hyd...    7   \n",
       "7   <html><body><a class=\"v-align-middle\" data-hyd...    8   \n",
       "8   <html><body><a class=\"v-align-middle\" data-hyd...    9   \n",
       "9   <html><body><a class=\"v-align-middle\" data-hyd...   10   \n",
       "10  <html><body><a class=\"v-align-middle\" data-hyd...   11   \n",
       "11  <html><body><a class=\"v-align-middle\" data-hyd...   12   \n",
       "12  <html><body><a class=\"v-align-middle\" data-hyd...   13   \n",
       "13  <html><body><a class=\"v-align-middle\" data-hyd...   14   \n",
       "14  <html><body><a class=\"v-align-middle\" data-hyd...   15   \n",
       "15  <html><body><a class=\"v-align-middle\" data-hyd...   16   \n",
       "16  <html><body><a class=\"v-align-middle\" data-hyd...   17   \n",
       "17  <html><body><a class=\"v-align-middle\" data-hyd...   18   \n",
       "18  <html><body><a class=\"v-align-middle\" data-hyd...   19   \n",
       "19  <html><body><a class=\"v-align-middle\" data-hyd...   20   \n",
       "\n",
       "                                                  url  \\\n",
       "0   https://github.com/search?o=desc&p=1&q=advent+...   \n",
       "1   https://github.com/search?o=desc&p=2&q=advent+...   \n",
       "2   https://github.com/search?o=desc&p=3&q=advent+...   \n",
       "3   https://github.com/search?o=desc&p=4&q=advent+...   \n",
       "4   https://github.com/search?o=desc&p=5&q=advent+...   \n",
       "5   https://github.com/search?o=desc&p=6&q=advent+...   \n",
       "6   https://github.com/search?o=desc&p=7&q=advent+...   \n",
       "7   https://github.com/search?o=desc&p=8&q=advent+...   \n",
       "8   https://github.com/search?o=desc&p=9&q=advent+...   \n",
       "9   https://github.com/search?o=desc&p=10&q=advent...   \n",
       "10  https://github.com/search?o=desc&p=11&q=advent...   \n",
       "11  https://github.com/search?o=desc&p=12&q=advent...   \n",
       "12  https://github.com/search?o=desc&p=13&q=advent...   \n",
       "13  https://github.com/search?o=desc&p=14&q=advent...   \n",
       "14  https://github.com/search?o=desc&p=15&q=advent...   \n",
       "15  https://github.com/search?o=desc&p=16&q=advent...   \n",
       "16  https://github.com/search?o=desc&p=17&q=advent...   \n",
       "17  https://github.com/search?o=desc&p=18&q=advent...   \n",
       "18  https://github.com/search?o=desc&p=19&q=advent...   \n",
       "19  https://github.com/search?o=desc&p=20&q=advent...   \n",
       "\n",
       "                    file_name  \n",
       "0   soupfiles/gitsearch01.txt  \n",
       "1   soupfiles/gitsearch02.txt  \n",
       "2   soupfiles/gitsearch03.txt  \n",
       "3   soupfiles/gitsearch04.txt  \n",
       "4   soupfiles/gitsearch05.txt  \n",
       "5   soupfiles/gitsearch06.txt  \n",
       "6   soupfiles/gitsearch07.txt  \n",
       "7   soupfiles/gitsearch08.txt  \n",
       "8   soupfiles/gitsearch09.txt  \n",
       "9   soupfiles/gitsearch10.txt  \n",
       "10  soupfiles/gitsearch11.txt  \n",
       "11  soupfiles/gitsearch12.txt  \n",
       "12  soupfiles/gitsearch13.txt  \n",
       "13  soupfiles/gitsearch14.txt  \n",
       "14  soupfiles/gitsearch15.txt  \n",
       "15  soupfiles/gitsearch16.txt  \n",
       "16  soupfiles/gitsearch17.txt  \n",
       "17  soupfiles/gitsearch18.txt  \n",
       "18  soupfiles/gitsearch19.txt  \n",
       "19  soupfiles/gitsearch20.txt  "
      ]
     },
     "execution_count": 3,
     "metadata": {},
     "output_type": "execute_result"
    }
   ],
   "source": [
    "soup_df = make_soup_gitsearch()\n",
    "soup_df"
   ]
  },
  {
   "cell_type": "markdown",
   "metadata": {},
   "source": [
    "### Extract urls from search results"
   ]
  },
  {
   "cell_type": "code",
   "execution_count": 4,
   "metadata": {},
   "outputs": [
    {
     "name": "stdout",
     "output_type": "stream",
     "text": [
      "197\n"
     ]
    },
    {
     "data": {
      "text/plain": [
       "['https://github.com/ChrisPenner/Advent-Of-Code-Polyglot',\n",
       " 'https://github.com/benediktwerner/intcode',\n",
       " 'https://github.com/badouralix/advent-of-code-2018',\n",
       " 'https://github.com/molyswu/hand_detection',\n",
       " 'https://github.com/benediktwerner/AdventOfCode']"
      ]
     },
     "metadata": {},
     "output_type": "display_data"
    }
   ],
   "source": [
    "url_list = get_repo_urls_from_gitsearch(df=soup_df)\n",
    "print(len(url_list))\n",
    "display(url_list[:5])"
   ]
  },
  {
   "cell_type": "markdown",
   "metadata": {},
   "source": [
    "### Extract repositories from urls"
   ]
  },
  {
   "cell_type": "code",
   "execution_count": 5,
   "metadata": {},
   "outputs": [
    {
     "name": "stdout",
     "output_type": "stream",
     "text": [
      "197\n"
     ]
    },
    {
     "data": {
      "text/plain": [
       "['1Computer1/advent',\n",
       " 'AlexAegis/advent-of-code',\n",
       " 'AlexeSimon/adventofcode',\n",
       " 'BartMassey/advent-of-code-2015',\n",
       " 'BartMassey/advent-of-code-2016']"
      ]
     },
     "metadata": {},
     "output_type": "display_data"
    }
   ],
   "source": [
    "repo_list = get_repos_from_url_list(url_list)\n",
    "print(len(repo_list))\n",
    "display(repo_list[:5])"
   ]
  },
  {
   "cell_type": "markdown",
   "metadata": {},
   "source": [
    "### Establish list of repos to omit"
   ]
  },
  {
   "cell_type": "markdown",
   "metadata": {},
   "source": [
    "- *Repo* [***Bogdanp/awesome-advent-of-code***](https:github.com/Bogdanp/awesome-advent-of-code) *was removed because it hosts a listing of repos that participate in the Advent of Code competitions, and thus does not have code of its own.*\n",
    "- *Repo* [***scy/advent-of-code***](https:github.com/scy/advent-of-code) *was removed because the readme was the only file discovered written in German. The word frequency calculations on this repo were all outliers.*\n",
    "- *The others were removed due to inoperable links discovered during scraping.*"
   ]
  },
  {
   "cell_type": "code",
   "execution_count": 6,
   "metadata": {},
   "outputs": [],
   "source": [
    "remove_repos = [\n",
    "    'Bogdanp/awesome-advent-of-code',\n",
    "    'scy/advent-of-code',\n",
    "    'agrison/advent-of-code-2019/',\n",
    "    'ephemient/aoc2019/tree/hs',\n",
    "    'notviri/aoc2019',\n",
    "    'visini/aoc2019',\n",
    "]"
   ]
  },
  {
   "cell_type": "markdown",
   "metadata": {},
   "source": [
    "### Get repos from Bogdanp/awesome-advent-of-code"
   ]
  },
  {
   "cell_type": "code",
   "execution_count": 7,
   "metadata": {},
   "outputs": [
    {
     "name": "stdout",
     "output_type": "stream",
     "text": [
      "Bogdanp/awesome-advent-of-code\n",
      "https://raw.githubusercontent.com/Bogdanp/awesome-advent-of-code/master/README.md\n",
      "183\n"
     ]
    },
    {
     "data": {
      "text/plain": [
       "['0legg/adventofcode',\n",
       " '0x8b/advent-of-code-2019',\n",
       " 'Akumatic/Advent-of-Code',\n",
       " 'AlexAegis/advent-of-code',\n",
       " 'AlexAegis/advent-of-code']"
      ]
     },
     "metadata": {},
     "output_type": "display_data"
    }
   ],
   "source": [
    "xtra_repo_list = ['Bogdanp/awesome-advent-of-code']\n",
    "xtra_repos = get_subrepos_from_readmes(repos=xtra_repo_list)\n",
    "print(len(xtra_repos))\n",
    "display(xtra_repos[:5])"
   ]
  },
  {
   "cell_type": "markdown",
   "metadata": {},
   "source": [
    "### Merge repo lists"
   ]
  },
  {
   "cell_type": "code",
   "execution_count": 8,
   "metadata": {},
   "outputs": [
    {
     "name": "stdout",
     "output_type": "stream",
     "text": [
      "356\n"
     ]
    },
    {
     "data": {
      "text/plain": [
       "['0legg/adventofcode',\n",
       " '0x8b/advent-of-code-2019',\n",
       " '1Computer1/advent',\n",
       " 'a-red-christmas/aoc2019-ae',\n",
       " 'adam-gruer/aoc2019']"
      ]
     },
     "metadata": {},
     "output_type": "display_data"
    }
   ],
   "source": [
    "repo_list = merge_repo_list(repos=repo_list, xtra_repos=xtra_repos, remove_repos=remove_repos)\n",
    "\n",
    "print(len(repo_list))\n",
    "display(repo_list[:5])"
   ]
  },
  {
   "cell_type": "markdown",
   "metadata": {},
   "source": [
    "### Scrape repos, output to json file"
   ]
  },
  {
   "cell_type": "code",
   "execution_count": 9,
   "metadata": {},
   "outputs": [],
   "source": [
    "scrapefile = \"datafiles/scrape.json\"\n",
    "#scrape_github_data(repos=repo_list, filepath=scrapefile)"
   ]
  },
  {
   "cell_type": "markdown",
   "metadata": {},
   "source": [
    "### Convert json file to dataframe and process"
   ]
  },
  {
   "cell_type": "markdown",
   "metadata": {},
   "source": [
    "***Processing steps:***\n",
    "- Drop repos with no readme file.\n",
    "- Rename `repo` to `repo_full`\n",
    "- Separate repo author and directory into separate fields (`author` and `repo`)\n",
    "- Convert `readme_contents` to lowercase as `readme`\n",
    "- Replace all instances of self-reference in `readme`:\n",
    "   - `author` name replaced with 'username'\n",
    "   - `repo` name replaced with 'reponame'"
   ]
  },
  {
   "cell_type": "code",
   "execution_count": 10,
   "metadata": {},
   "outputs": [
    {
     "data": {
      "text/html": [
       "<div>\n",
       "<style scoped>\n",
       "    .dataframe tbody tr th:only-of-type {\n",
       "        vertical-align: middle;\n",
       "    }\n",
       "\n",
       "    .dataframe tbody tr th {\n",
       "        vertical-align: top;\n",
       "    }\n",
       "\n",
       "    .dataframe thead th {\n",
       "        text-align: right;\n",
       "    }\n",
       "</style>\n",
       "<table border=\"1\" class=\"dataframe\">\n",
       "  <thead>\n",
       "    <tr style=\"text-align: right;\">\n",
       "      <th></th>\n",
       "      <th>language</th>\n",
       "      <th>language_all</th>\n",
       "      <th>readme_contents</th>\n",
       "      <th>repo_full</th>\n",
       "      <th>author</th>\n",
       "      <th>repo</th>\n",
       "      <th>readme</th>\n",
       "    </tr>\n",
       "  </thead>\n",
       "  <tbody>\n",
       "    <tr>\n",
       "      <th>0</th>\n",
       "      <td>Python</td>\n",
       "      <td>{'Python': 43467}</td>\n",
       "      <td># 0x8b's [Advent of Code 2019](https://advento...</td>\n",
       "      <td>0x8b/advent-of-code-2019</td>\n",
       "      <td>0x8b</td>\n",
       "      <td>advent-of-code-2019</td>\n",
       "      <td># username's [advent of code 2019](https://adv...</td>\n",
       "    </tr>\n",
       "    <tr>\n",
       "      <th>1</th>\n",
       "      <td>Haskell</td>\n",
       "      <td>{'Haskell': 36753, 'Python': 503}</td>\n",
       "      <td># Advent of Code Solutions\\n\\nI'm probably not...</td>\n",
       "      <td>1Computer1/advent</td>\n",
       "      <td>1Computer1</td>\n",
       "      <td>advent</td>\n",
       "      <td># reponame of code solutions\\n\\ni'm probably n...</td>\n",
       "    </tr>\n",
       "    <tr>\n",
       "      <th>2</th>\n",
       "      <td>JavaScript</td>\n",
       "      <td>{'JavaScript': 23065}</td>\n",
       "      <td># advent-of-code-2018\\n[![Build Status](https:...</td>\n",
       "      <td>adriennetacke/advent-of-code-2018</td>\n",
       "      <td>adriennetacke</td>\n",
       "      <td>advent-of-code-2018</td>\n",
       "      <td># reponame\\n[![build status](https://travis-ci...</td>\n",
       "    </tr>\n",
       "    <tr>\n",
       "      <th>3</th>\n",
       "      <td>JavaScript</td>\n",
       "      <td>{'JavaScript': 41567}</td>\n",
       "      <td># advent-of-code-2019\\nAdvent of Code 2019 🎄 J...</td>\n",
       "      <td>adriennetacke/advent-of-code-2019</td>\n",
       "      <td>adriennetacke</td>\n",
       "      <td>advent-of-code-2019</td>\n",
       "      <td># reponame\\nadvent of code 2019 🎄 javascript s...</td>\n",
       "    </tr>\n",
       "    <tr>\n",
       "      <th>4</th>\n",
       "      <td>C</td>\n",
       "      <td>{'C': 104592, 'Java': 70741, 'Rust': 70646, 'H...</td>\n",
       "      <td>### Advent Of Code solutions\\n\\nGot a solution...</td>\n",
       "      <td>adventofcode/2015solutions</td>\n",
       "      <td>adventofcode</td>\n",
       "      <td>2015solutions</td>\n",
       "      <td>### advent of code solutions\\n\\ngot a solution...</td>\n",
       "    </tr>\n",
       "  </tbody>\n",
       "</table>\n",
       "</div>"
      ],
      "text/plain": [
       "     language                                       language_all  \\\n",
       "0      Python                                  {'Python': 43467}   \n",
       "1     Haskell                  {'Haskell': 36753, 'Python': 503}   \n",
       "2  JavaScript                              {'JavaScript': 23065}   \n",
       "3  JavaScript                              {'JavaScript': 41567}   \n",
       "4           C  {'C': 104592, 'Java': 70741, 'Rust': 70646, 'H...   \n",
       "\n",
       "                                     readme_contents  \\\n",
       "0  # 0x8b's [Advent of Code 2019](https://advento...   \n",
       "1  # Advent of Code Solutions\\n\\nI'm probably not...   \n",
       "2  # advent-of-code-2018\\n[![Build Status](https:...   \n",
       "3  # advent-of-code-2019\\nAdvent of Code 2019 🎄 J...   \n",
       "4  ### Advent Of Code solutions\\n\\nGot a solution...   \n",
       "\n",
       "                           repo_full         author                 repo  \\\n",
       "0           0x8b/advent-of-code-2019           0x8b  advent-of-code-2019   \n",
       "1                  1Computer1/advent     1Computer1               advent   \n",
       "2  adriennetacke/advent-of-code-2018  adriennetacke  advent-of-code-2018   \n",
       "3  adriennetacke/advent-of-code-2019  adriennetacke  advent-of-code-2019   \n",
       "4         adventofcode/2015solutions   adventofcode        2015solutions   \n",
       "\n",
       "                                              readme  \n",
       "0  # username's [advent of code 2019](https://adv...  \n",
       "1  # reponame of code solutions\\n\\ni'm probably n...  \n",
       "2  # reponame\\n[![build status](https://travis-ci...  \n",
       "3  # reponame\\nadvent of code 2019 🎄 javascript s...  \n",
       "4  ### advent of code solutions\\n\\ngot a solution...  "
      ]
     },
     "metadata": {},
     "output_type": "display_data"
    },
    {
     "name": "stdout",
     "output_type": "stream",
     "text": [
      "<class 'pandas.core.frame.DataFrame'>\n",
      "RangeIndex: 304 entries, 0 to 303\n",
      "Data columns (total 7 columns):\n",
      "language           304 non-null object\n",
      "language_all       304 non-null object\n",
      "readme_contents    304 non-null object\n",
      "repo_full          304 non-null object\n",
      "author             304 non-null object\n",
      "repo               304 non-null object\n",
      "readme             304 non-null object\n",
      "dtypes: object(7)\n",
      "memory usage: 16.7+ KB\n"
     ]
    }
   ],
   "source": [
    "git_df = process_scraped_repos(filepath=scrapefile, remove_repos=remove_repos)\n",
    "display(git_df.head())\n",
    "git_df.info()"
   ]
  },
  {
   "cell_type": "code",
   "execution_count": 11,
   "metadata": {},
   "outputs": [
    {
     "name": "stdout",
     "output_type": "stream",
     "text": [
      "There are 45 represented in this file\n"
     ]
    },
    {
     "data": {
      "text/plain": [
       "Python              45\n",
       "JavaScript          36\n",
       "Haskell             29\n",
       "Rust                21\n",
       "Go                  18\n",
       "Clojure             16\n",
       "Java                15\n",
       "Kotlin              12\n",
       "Ruby                10\n",
       "C#                  10\n",
       "Elixir              10\n",
       "C++                  8\n",
       "Scala                8\n",
       "R                    7\n",
       "OCaml                5\n",
       "TypeScript           5\n",
       "Jupyter Notebook     5\n",
       "PHP                  4\n",
       "Swift                3\n",
       "C                    3\n",
       "F#                   2\n",
       "Scheme               2\n",
       "Julia                2\n",
       "Crystal              2\n",
       "Elm                  2\n",
       "HTML                 2\n",
       "PowerShell           2\n",
       "Pony                 2\n",
       "Perl                 2\n",
       "Coq                  1\n",
       "Reason               1\n",
       "Shell                1\n",
       "Ada                  1\n",
       "Dart                 1\n",
       "D                    1\n",
       "Haxe                 1\n",
       "Erlang               1\n",
       "Eiffel               1\n",
       "Mathematica          1\n",
       "TSQL                 1\n",
       "PureScript           1\n",
       "Nim                  1\n",
       "Smalltalk            1\n",
       "Racket               1\n",
       "APL                  1\n",
       "Name: language, dtype: int64"
      ]
     },
     "metadata": {},
     "output_type": "display_data"
    }
   ],
   "source": [
    "languages = git_df.language.value_counts()\n",
    "print(f'There are {len(languages)} represented in this file')\n",
    "display(languages)"
   ]
  },
  {
   "cell_type": "code",
   "execution_count": null,
   "metadata": {},
   "outputs": [],
   "source": []
  },
  {
   "cell_type": "markdown",
   "metadata": {},
   "source": [
    "[Top](#Github-NLP-Project)"
   ]
  },
  {
   "cell_type": "code",
   "execution_count": null,
   "metadata": {},
   "outputs": [],
   "source": []
  },
  {
   "cell_type": "code",
   "execution_count": null,
   "metadata": {},
   "outputs": [],
   "source": []
  },
  {
   "cell_type": "markdown",
   "metadata": {},
   "source": [
    "### Output processed dataframe to json file"
   ]
  },
  {
   "cell_type": "code",
   "execution_count": 12,
   "metadata": {},
   "outputs": [
    {
     "data": {
      "text/html": [
       "<div>\n",
       "<style scoped>\n",
       "    .dataframe tbody tr th:only-of-type {\n",
       "        vertical-align: middle;\n",
       "    }\n",
       "\n",
       "    .dataframe tbody tr th {\n",
       "        vertical-align: top;\n",
       "    }\n",
       "\n",
       "    .dataframe thead th {\n",
       "        text-align: right;\n",
       "    }\n",
       "</style>\n",
       "<table border=\"1\" class=\"dataframe\">\n",
       "  <thead>\n",
       "    <tr style=\"text-align: right;\">\n",
       "      <th></th>\n",
       "      <th>language</th>\n",
       "      <th>language_all</th>\n",
       "      <th>repo_full</th>\n",
       "      <th>author</th>\n",
       "      <th>repo</th>\n",
       "      <th>readme</th>\n",
       "    </tr>\n",
       "  </thead>\n",
       "  <tbody>\n",
       "    <tr>\n",
       "      <th>0</th>\n",
       "      <td>Python</td>\n",
       "      <td>{'Python': 43467}</td>\n",
       "      <td>0x8b/advent-of-code-2019</td>\n",
       "      <td>0x8b</td>\n",
       "      <td>advent-of-code-2019</td>\n",
       "      <td># username's [advent of code 2019](https://adv...</td>\n",
       "    </tr>\n",
       "    <tr>\n",
       "      <th>1</th>\n",
       "      <td>Haskell</td>\n",
       "      <td>{'Haskell': 36753, 'Python': 503}</td>\n",
       "      <td>1Computer1/advent</td>\n",
       "      <td>1Computer1</td>\n",
       "      <td>advent</td>\n",
       "      <td># reponame of code solutions\\n\\ni'm probably n...</td>\n",
       "    </tr>\n",
       "    <tr>\n",
       "      <th>10</th>\n",
       "      <td>TypeScript</td>\n",
       "      <td>{'TypeScript': 178903, 'Rust': 68139, 'Smarty'...</td>\n",
       "      <td>AlexAegis/advent-of-code</td>\n",
       "      <td>AlexAegis</td>\n",
       "      <td>advent-of-code</td>\n",
       "      <td># [advent of code](https://adventofcode.com/)\\...</td>\n",
       "    </tr>\n",
       "    <tr>\n",
       "      <th>100</th>\n",
       "      <td>Python</td>\n",
       "      <td>{'Python': 64874, 'Julia': 29174}</td>\n",
       "      <td>ferrolho/advent-of-code</td>\n",
       "      <td>ferrolho</td>\n",
       "      <td>advent-of-code</td>\n",
       "      <td># advent of code\\n\\n:santa: :christmas_tree: :...</td>\n",
       "    </tr>\n",
       "    <tr>\n",
       "      <th>101</th>\n",
       "      <td>Swift</td>\n",
       "      <td>{'Swift': 69603}</td>\n",
       "      <td>fguchelaar/AdventOfCode2019</td>\n",
       "      <td>fguchelaar</td>\n",
       "      <td>AdventOfCode2019</td>\n",
       "      <td># advent of code 2019\\n\\nmy solutions for the ...</td>\n",
       "    </tr>\n",
       "  </tbody>\n",
       "</table>\n",
       "</div>"
      ],
      "text/plain": [
       "       language                                       language_all  \\\n",
       "0        Python                                  {'Python': 43467}   \n",
       "1       Haskell                  {'Haskell': 36753, 'Python': 503}   \n",
       "10   TypeScript  {'TypeScript': 178903, 'Rust': 68139, 'Smarty'...   \n",
       "100      Python                  {'Python': 64874, 'Julia': 29174}   \n",
       "101       Swift                                   {'Swift': 69603}   \n",
       "\n",
       "                       repo_full      author                 repo  \\\n",
       "0       0x8b/advent-of-code-2019        0x8b  advent-of-code-2019   \n",
       "1              1Computer1/advent  1Computer1               advent   \n",
       "10      AlexAegis/advent-of-code   AlexAegis       advent-of-code   \n",
       "100      ferrolho/advent-of-code    ferrolho       advent-of-code   \n",
       "101  fguchelaar/AdventOfCode2019  fguchelaar     AdventOfCode2019   \n",
       "\n",
       "                                                readme  \n",
       "0    # username's [advent of code 2019](https://adv...  \n",
       "1    # reponame of code solutions\\n\\ni'm probably n...  \n",
       "10   # [advent of code](https://adventofcode.com/)\\...  \n",
       "100  # advent of code\\n\\n:santa: :christmas_tree: :...  \n",
       "101  # advent of code 2019\\n\\nmy solutions for the ...  "
      ]
     },
     "metadata": {},
     "output_type": "display_data"
    },
    {
     "name": "stdout",
     "output_type": "stream",
     "text": [
      "<class 'pandas.core.frame.DataFrame'>\n",
      "Int64Index: 304 entries, 0 to 99\n",
      "Data columns (total 6 columns):\n",
      "language        304 non-null object\n",
      "language_all    304 non-null object\n",
      "repo_full       304 non-null object\n",
      "author          304 non-null object\n",
      "repo            304 non-null object\n",
      "readme          304 non-null object\n",
      "dtypes: object(6)\n",
      "memory usage: 16.6+ KB\n",
      "None\n"
     ]
    }
   ],
   "source": [
    "output_file = 'datafiles/outdata.json'\n",
    "json_chk = output_processed_repos(git_df=git_df, output_file=output_file)\n",
    "display(json_chk.head())\n",
    "print(json_chk.info())"
   ]
  },
  {
   "cell_type": "markdown",
   "metadata": {},
   "source": [
    "# Prepare"
   ]
  },
  {
   "cell_type": "markdown",
   "metadata": {},
   "source": [
    "[Top](#Github-NLP-Project)"
   ]
  },
  {
   "cell_type": "code",
   "execution_count": 13,
   "metadata": {},
   "outputs": [],
   "source": [
    "###############################################################################\n",
    "### local imports                                                           ###\n",
    "###############################################################################\n",
    "\n",
    "from prepare import normalize\n",
    "from prepare import stem\n",
    "from prepare import lemmatize\n",
    "from prepare import tokenize\n",
    "from prepare import remove_stopwords\n"
   ]
  },
  {
   "cell_type": "markdown",
   "metadata": {},
   "source": [
    "### Read in json file containing repos and content"
   ]
  },
  {
   "cell_type": "code",
   "execution_count": 14,
   "metadata": {},
   "outputs": [],
   "source": [
    "# read in content as json and save as dataframe\n",
    "df = pd.read_json(output_file)"
   ]
  },
  {
   "cell_type": "code",
   "execution_count": 15,
   "metadata": {},
   "outputs": [
    {
     "data": {
      "text/plain": [
       "(304, 6)"
      ]
     },
     "execution_count": 15,
     "metadata": {},
     "output_type": "execute_result"
    }
   ],
   "source": [
    "# preview data\n",
    "df.shape"
   ]
  },
  {
   "cell_type": "code",
   "execution_count": 16,
   "metadata": {},
   "outputs": [
    {
     "data": {
      "text/html": [
       "<div>\n",
       "<style scoped>\n",
       "    .dataframe tbody tr th:only-of-type {\n",
       "        vertical-align: middle;\n",
       "    }\n",
       "\n",
       "    .dataframe tbody tr th {\n",
       "        vertical-align: top;\n",
       "    }\n",
       "\n",
       "    .dataframe thead th {\n",
       "        text-align: right;\n",
       "    }\n",
       "</style>\n",
       "<table border=\"1\" class=\"dataframe\">\n",
       "  <thead>\n",
       "    <tr style=\"text-align: right;\">\n",
       "      <th></th>\n",
       "      <th>language</th>\n",
       "      <th>language_all</th>\n",
       "      <th>repo_full</th>\n",
       "      <th>author</th>\n",
       "      <th>repo</th>\n",
       "      <th>readme</th>\n",
       "    </tr>\n",
       "  </thead>\n",
       "  <tbody>\n",
       "    <tr>\n",
       "      <th>0</th>\n",
       "      <td>Python</td>\n",
       "      <td>{'Python': 43467}</td>\n",
       "      <td>0x8b/advent-of-code-2019</td>\n",
       "      <td>0x8b</td>\n",
       "      <td>advent-of-code-2019</td>\n",
       "      <td># username's [advent of code 2019](https://adv...</td>\n",
       "    </tr>\n",
       "    <tr>\n",
       "      <th>1</th>\n",
       "      <td>Haskell</td>\n",
       "      <td>{'Haskell': 36753, 'Python': 503}</td>\n",
       "      <td>1Computer1/advent</td>\n",
       "      <td>1Computer1</td>\n",
       "      <td>advent</td>\n",
       "      <td># reponame of code solutions\\n\\ni'm probably n...</td>\n",
       "    </tr>\n",
       "    <tr>\n",
       "      <th>10</th>\n",
       "      <td>TypeScript</td>\n",
       "      <td>{'TypeScript': 178903, 'Rust': 68139, 'Smarty'...</td>\n",
       "      <td>AlexAegis/advent-of-code</td>\n",
       "      <td>AlexAegis</td>\n",
       "      <td>advent-of-code</td>\n",
       "      <td># [advent of code](https://adventofcode.com/)\\...</td>\n",
       "    </tr>\n",
       "    <tr>\n",
       "      <th>100</th>\n",
       "      <td>Python</td>\n",
       "      <td>{'Python': 64874, 'Julia': 29174}</td>\n",
       "      <td>ferrolho/advent-of-code</td>\n",
       "      <td>ferrolho</td>\n",
       "      <td>advent-of-code</td>\n",
       "      <td># advent of code\\n\\n:santa: :christmas_tree: :...</td>\n",
       "    </tr>\n",
       "    <tr>\n",
       "      <th>101</th>\n",
       "      <td>Swift</td>\n",
       "      <td>{'Swift': 69603}</td>\n",
       "      <td>fguchelaar/AdventOfCode2019</td>\n",
       "      <td>fguchelaar</td>\n",
       "      <td>AdventOfCode2019</td>\n",
       "      <td># advent of code 2019\\n\\nmy solutions for the ...</td>\n",
       "    </tr>\n",
       "  </tbody>\n",
       "</table>\n",
       "</div>"
      ],
      "text/plain": [
       "       language                                       language_all  \\\n",
       "0        Python                                  {'Python': 43467}   \n",
       "1       Haskell                  {'Haskell': 36753, 'Python': 503}   \n",
       "10   TypeScript  {'TypeScript': 178903, 'Rust': 68139, 'Smarty'...   \n",
       "100      Python                  {'Python': 64874, 'Julia': 29174}   \n",
       "101       Swift                                   {'Swift': 69603}   \n",
       "\n",
       "                       repo_full      author                 repo  \\\n",
       "0       0x8b/advent-of-code-2019        0x8b  advent-of-code-2019   \n",
       "1              1Computer1/advent  1Computer1               advent   \n",
       "10      AlexAegis/advent-of-code   AlexAegis       advent-of-code   \n",
       "100      ferrolho/advent-of-code    ferrolho       advent-of-code   \n",
       "101  fguchelaar/AdventOfCode2019  fguchelaar     AdventOfCode2019   \n",
       "\n",
       "                                                readme  \n",
       "0    # username's [advent of code 2019](https://adv...  \n",
       "1    # reponame of code solutions\\n\\ni'm probably n...  \n",
       "10   # [advent of code](https://adventofcode.com/)\\...  \n",
       "100  # advent of code\\n\\n:santa: :christmas_tree: :...  \n",
       "101  # advent of code 2019\\n\\nmy solutions for the ...  "
      ]
     },
     "execution_count": 16,
     "metadata": {},
     "output_type": "execute_result"
    }
   ],
   "source": [
    "df.head()"
   ]
  },
  {
   "cell_type": "markdown",
   "metadata": {},
   "source": [
    "### Create new columns which show readme content normalized, stemmed, and lemmatized"
   ]
  },
  {
   "cell_type": "code",
   "execution_count": 17,
   "metadata": {},
   "outputs": [],
   "source": [
    "df = df.assign(normalized = df.readme.apply(normalize))\n",
    "df = df.assign(stemmed = df.normalized.apply(stem))\n",
    "df = df.assign(lemmatized = df.normalized.apply(lemmatize))"
   ]
  },
  {
   "cell_type": "code",
   "execution_count": 18,
   "metadata": {},
   "outputs": [
    {
     "data": {
      "text/html": [
       "<div>\n",
       "<style scoped>\n",
       "    .dataframe tbody tr th:only-of-type {\n",
       "        vertical-align: middle;\n",
       "    }\n",
       "\n",
       "    .dataframe tbody tr th {\n",
       "        vertical-align: top;\n",
       "    }\n",
       "\n",
       "    .dataframe thead th {\n",
       "        text-align: right;\n",
       "    }\n",
       "</style>\n",
       "<table border=\"1\" class=\"dataframe\">\n",
       "  <thead>\n",
       "    <tr style=\"text-align: right;\">\n",
       "      <th></th>\n",
       "      <th>stemmed</th>\n",
       "      <th>lemmatized</th>\n",
       "    </tr>\n",
       "  </thead>\n",
       "  <tbody>\n",
       "    <tr>\n",
       "      <th>0</th>\n",
       "      <td>usernam advent of code http adventofcod com so...</td>\n",
       "      <td>usernames advent of code http adventofcode com...</td>\n",
       "    </tr>\n",
       "    <tr>\n",
       "      <th>1</th>\n",
       "      <td>reponam of code solut im probabl not gonna do ...</td>\n",
       "      <td>reponame of code solution im probably not gonn...</td>\n",
       "    </tr>\n",
       "    <tr>\n",
       "      <th>10</th>\n",
       "      <td>advent of code http adventofcod com build stat...</td>\n",
       "      <td>advent of code http adventofcode com build sta...</td>\n",
       "    </tr>\n",
       "    <tr>\n",
       "      <th>100</th>\n",
       "      <td>advent of code santa christmastre gift my solu...</td>\n",
       "      <td>advent of code santa christmastree gift my sol...</td>\n",
       "    </tr>\n",
       "    <tr>\n",
       "      <th>101</th>\n",
       "      <td>advent of code my solut for the fifth instal o...</td>\n",
       "      <td>advent of code my solution for the fifth insta...</td>\n",
       "    </tr>\n",
       "  </tbody>\n",
       "</table>\n",
       "</div>"
      ],
      "text/plain": [
       "                                               stemmed  \\\n",
       "0    usernam advent of code http adventofcod com so...   \n",
       "1    reponam of code solut im probabl not gonna do ...   \n",
       "10   advent of code http adventofcod com build stat...   \n",
       "100  advent of code santa christmastre gift my solu...   \n",
       "101  advent of code my solut for the fifth instal o...   \n",
       "\n",
       "                                            lemmatized  \n",
       "0    usernames advent of code http adventofcode com...  \n",
       "1    reponame of code solution im probably not gonn...  \n",
       "10   advent of code http adventofcode com build sta...  \n",
       "100  advent of code santa christmastree gift my sol...  \n",
       "101  advent of code my solution for the fifth insta...  "
      ]
     },
     "execution_count": 18,
     "metadata": {},
     "output_type": "execute_result"
    }
   ],
   "source": [
    "# preview results to decide which technique to use when reducing form of words (lemmatize vs stem)\n",
    "df[['stemmed','lemmatized']].head()"
   ]
  },
  {
   "cell_type": "code",
   "execution_count": 19,
   "metadata": {},
   "outputs": [
    {
     "data": {
      "text/plain": [
       "advent-of-code                    35\n",
       "advent-of-code-2019               23\n",
       "adventofcode                      17\n",
       "AdventOfCode                      17\n",
       "AdventOfCode2019                  11\n",
       "advent-of-code-2018               11\n",
       "AdventOfCode2018                   8\n",
       "aoc-2019                           7\n",
       "adventofcode2019                   6\n",
       "aoc2019                            5\n",
       "aoc2017                            4\n",
       "AdventOfCode2015                   4\n",
       "AdventOfCode2017                   4\n",
       "advent2019                         4\n",
       "advent-of-code-2015                3\n",
       "advent-of-code-2017                3\n",
       "adventOfCode                       3\n",
       "Advent-of-Code-2019                3\n",
       "advent_of_code_2019                3\n",
       "aoc                                3\n",
       "aoc19                              3\n",
       "advent-2019                        3\n",
       "AdventOfCode-2017                  2\n",
       "Advent-of-Code                     2\n",
       "AOC                                2\n",
       "advent_of_code_2018                2\n",
       "AoC2019                            2\n",
       "advent                             2\n",
       "adventofcode2017                   2\n",
       "AdventOfCode-2019                  2\n",
       "                                  ..\n",
       "intcode                            1\n",
       "advent18                           1\n",
       "adventofcode19                     1\n",
       "advent-of-code-api                 1\n",
       "AdventOfCodeBase                   1\n",
       "elixir_aoc                         1\n",
       "advent2018-fast                    1\n",
       "advent2017-fast                    1\n",
       "AdventurePathfinding               1\n",
       "adventofcode-2016                  1\n",
       "advent-of-rust-2017                1\n",
       "advent_of_code_2015                1\n",
       "Advent-of-Code-2019-in-R           1\n",
       "aoc-starter-js                     1\n",
       "advent-of-code-scala               1\n",
       "aoc-racket                         1\n",
       "Advent-Of-Code-2019                1\n",
       "aoc-stats                          1\n",
       "advent-2018-kotlin                 1\n",
       "advent-of-code-downloader          1\n",
       "aoc2018apl                         1\n",
       "Play-Advent-of-Code                1\n",
       "adventofcode-dmp                   1\n",
       "adventofcode2019-clojure           1\n",
       "2016adventofcode                   1\n",
       "code-challenges                    1\n",
       "advent-of-code-clojure-starter     1\n",
       "advent-of-code-wim                 1\n",
       "advent-of-code-haskell             1\n",
       "Advent-of-Code-2019-PHP            1\n",
       "Name: repo, Length: 133, dtype: int64"
      ]
     },
     "execution_count": 19,
     "metadata": {},
     "output_type": "execute_result"
    }
   ],
   "source": [
    "# People are not very creative with their repo names. \n",
    "df.repo.value_counts()"
   ]
  },
  {
   "cell_type": "markdown",
   "metadata": {},
   "source": [
    "#### Lemmatization > Stemming\n",
    "\n",
    "We choose to lemmatize instead of stemming for a couple of reasons. One, lemmatizing preserves the root word in the form of a real word. Our readme data is full of shortened and combined \"words\" that are not real words. A lot of this is noise. We do not want to stem the data because the words will look too similar to this noise. Secondly, stemming's advantage over lemmatization is its low computing requirements and quick results. Our data set is fairly small and such minor improvements are not important to us. In this case, it is better to lemmatize."
   ]
  },
  {
   "cell_type": "code",
   "execution_count": 20,
   "metadata": {},
   "outputs": [],
   "source": [
    "# Choose lemmatize and proceed forward with tokenization and stop words\n",
    "# create new column called prepped which takes the lemmatized column and passes it through the tokenize function and remove_stopwords function\n",
    "df = df.assign(prepped = df.lemmatized.apply(tokenize).apply(remove_stopwords))"
   ]
  },
  {
   "cell_type": "code",
   "execution_count": 21,
   "metadata": {},
   "outputs": [
    {
     "data": {
      "text/plain": [
       "0      usernames run repl repl badge repl daynamesolu...\n",
       "1      im probably gonna problem im gonna pretend lik...\n",
       "10     build status travisci svgbranchmaster travisci...\n",
       "100    santa christmastree gift problem might write s...\n",
       "101    fifth installment creating package ive prepare...\n",
       "Name: prepped, dtype: object"
      ]
     },
     "execution_count": 21,
     "metadata": {},
     "output_type": "execute_result"
    }
   ],
   "source": [
    "df.prepped.head()"
   ]
  },
  {
   "cell_type": "code",
   "execution_count": 22,
   "metadata": {},
   "outputs": [
    {
     "data": {
      "text/plain": [
       "                                                                                                                                                                                                                                                                                                                                                                                                                                                                                                                                                                                                                                                                              26\n",
       "puzzle                                                                                                                                                                                                                                                                                                                                                                                                                                                                                                                                                                                                                                                                         2\n",
       "python                                                                                                                                                                                                                                                                                                                                                                                                                                                                                                                                                                                                                                                                         2\n",
       "app main lh                                                                                                                                                                                                                                                                                                                                                                                                                                                                                                                                                                                                                                                                    2\n",
       "contribute inspired others bidra med dina losningar pa problemen vilket sprak du vill valj ett du kan eller ett du vill lara dig vi har ocksa en ledarbrada leaderboard pa koden till ledarbradan ar eed vi har ocksa en slackkanal dit alla ar valkomna att snacka eller egentligen allt mellan himmel och jord med lite koppling till kod maila infousername se eller twittra din epost till sa slapper vi er dina losningar far garna checkas en mapp med namn pa formen anvandarnamnsprak sa blir det lite lattare alla att fa overblick losningarna kan komma att diskuteras avsnitt av sa lagg med en readme md med en notis om du inte vill riskera att bli omnamnd     2\n",
       "Name: prepped, dtype: int64"
      ]
     },
     "execution_count": 22,
     "metadata": {},
     "output_type": "execute_result"
    }
   ],
   "source": [
    "# 26 blank readme's as a result of removing stop words. We need to drop them.\n",
    "df.prepped.value_counts().head()"
   ]
  },
  {
   "cell_type": "code",
   "execution_count": 23,
   "metadata": {},
   "outputs": [
    {
     "data": {
      "text/plain": [
       "contribute inspired others bidra med dina losningar pa problemen vilket sprak du vill valj ett du kan eller ett du vill lara dig vi har ocksa en ledarbrada leaderboard pa koden till ledarbradan ar eed vi har ocksa en slackkanal dit alla ar valkomna att snacka eller egentligen allt mellan himmel och jord med lite koppling till kod maila infousername se eller twittra din epost till sa slapper vi er dina losningar far garna checkas en mapp med namn pa formen anvandarnamnsprak sa blir det lite lattare alla att fa overblick losningarna kan komma att diskuteras avsnitt av sa lagg med en readme md med en notis om du inte vill riskera att bli omnamnd                                                                                                                                                                                                                                                                                                                                                                                                                                                                                                                                                                                                                                                                                                                                                                                                                                                                                                                                                                                                                                                                                                                                                                                                                                                                                                                                                                                                                                                                                                                                                                                                                                                                                                                                                                                                                                                                                                                                                                                                                                                                                                                                                                                                                                                                                                                                                                                                                                                                                                                                                                                                                                                                                                                                                                                                                                                                                                                                                                                                                                                                                                                                                                                                                                                                                                                                                                                                                                                                                                                                                                                                                                                                                                                                                                                                                                                                                                                                                                                                                                                                                                                                                                                                                                                                                                                                                                                                                                                                                                                                                                                                                                                                                                                                                                                                                                                                                                                                                                                                                                                                                                                                                                                                                                                                                                                                                                                                                                                                                                                                                                                                                                                                                                                                                                                                                                                                                                                                                                                                                                                                                                                                                                                                                         2\n",
       "python                                                                                                                                                                                                                                                                                                                                                                                                                                                                                                                                                                                                                                                                                                                                                                                                                                                                                                                                                                                                                                                                                                                                                                                                                                                                                                                                                                                                                                                                                                                                                                                                                                                                                                                                                                                                                                                                                                                                                                                                                                                                                                                                                                                                                                                                                                                                                                                                                                                                                                                                                                                                                                                                                                                                                                                                                                                                                                                                                                                                                                                                                                                                                                                                                                                                                                                                                                                                                                                                                                                                                                                                                                                                                                                                                                                                                                                                                                                                                                                                                                                                                                                                                                                                                                                                                                                                                                                                                                                                                                                                                                                                                                                                                                                                                                                                                                                                                                                                                                                                                                                                                                                                                                                                                                                                                                                                                                                                                                                                                                                                                                                                                                                                                                                                                                                                                                                                                                                                                                                                                                                                                                                                                                                                                                                                                                                                                                                                                                                                                                                                                                                                                                                                                                                                                                                                                                                                                             2\n",
       "puzzle                                                                                                                                                                                                                                                                                                                                                                                                                                                                                                                                                                                                                                                                                                                                                                                                                                                                                                                                                                                                                                                                                                                                                                                                                                                                                                                                                                                                                                                                                                                                                                                                                                                                                                                                                                                                                                                                                                                                                                                                                                                                                                                                                                                                                                                                                                                                                                                                                                                                                                                                                                                                                                                                                                                                                                                                                                                                                                                                                                                                                                                                                                                                                                                                                                                                                                                                                                                                                                                                                                                                                                                                                                                                                                                                                                                                                                                                                                                                                                                                                                                                                                                                                                                                                                                                                                                                                                                                                                                                                                                                                                                                                                                                                                                                                                                                                                                                                                                                                                                                                                                                                                                                                                                                                                                                                                                                                                                                                                                                                                                                                                                                                                                                                                                                                                                                                                                                                                                                                                                                                                                                                                                                                                                                                                                                                                                                                                                                                                                                                                                                                                                                                                                                                                                                                                                                                                                                                             2\n",
       "app main lh                                                                                                                                                                                                                                                                                                                                                                                                                                                                                                                                                                                                                                                                                                                                                                                                                                                                                                                                                                                                                                                                                                                                                                                                                                                                                                                                                                                                                                                                                                                                                                                                                                                                                                                                                                                                                                                                                                                                                                                                                                                                                                                                                                                                                                                                                                                                                                                                                                                                                                                                                                                                                                                                                                                                                                                                                                                                                                                                                                                                                                                                                                                                                                                                                                                                                                                                                                                                                                                                                                                                                                                                                                                                                                                                                                                                                                                                                                                                                                                                                                                                                                                                                                                                                                                                                                                                                                                                                                                                                                                                                                                                                                                                                                                                                                                                                                                                                                                                                                                                                                                                                                                                                                                                                                                                                                                                                                                                                                                                                                                                                                                                                                                                                                                                                                                                                                                                                                                                                                                                                                                                                                                                                                                                                                                                                                                                                                                                                                                                                                                                                                                                                                                                                                                                                                                                                                                                                        2\n",
       "calendar small programming puzzle solved language happening every december since lot fun every st december th december new puzzle part get unblocked goal solve save christmas big story linking problem together great ive used learn elixir nice way get practice new language even try several one learn sign next edition official website                                                                                                                                                                                                                                                                                                                                                                                                                                                                                                                                                                                                                                                                                                                                                                                                                                                                                                                                                                                                                                                                                                                                                                                                                                                                                                                                                                                                                                                                                                                                                                                                                                                                                                                                                                                                                                                                                                                                                                                                                                                                                                                                                                                                                                                                                                                                                                                                                                                                                                                                                                                                                                                                                                                                                                                                                                                                                                                                                                                                                                                                                                                                                                                                                                                                                                                                                                                                                                                                                                                                                                                                                                                                                                                                                                                                                                                                                                                                                                                                                                                                                                                                                                                                                                                                                                                                                                                                                                                                                                                                                                                                                                                                                                                                                                                                                                                                                                                                                                                                                                                                                                                                                                                                                                                                                                                                                                                                                                                                                                                                                                                                                                                                                                                                                                                                                                                                                                                                                                                                                                                                                                                                                                                                                                                                                                                                                                                                                                                                                                                                                     1\n",
       "losningar pa en adventskalender med problem som kan losas vilket programmeringssprak man vill alla ar varmt valkomna att diskutera fraga och gora pull request med saval losningar nya sprak som fler och andra losningar de sprak som redan finn representerade                                                                                                                                                                                                                                                                                                                                                                                                                                                                                                                                                                                                                                                                                                                                                                                                                                                                                                                                                                                                                                                                                                                                                                                                                                                                                                                                                                                                                                                                                                                                                                                                                                                                                                                                                                                                                                                                                                                                                                                                                                                                                                                                                                                                                                                                                                                                                                                                                                                                                                                                                                                                                                                                                                                                                                                                                                                                                                                                                                                                                                                                                                                                                                                                                                                                                                                                                                                                                                                                                                                                                                                                                                                                                                                                                                                                                                                                                                                                                                                                                                                                                                                                                                                                                                                                                                                                                                                                                                                                                                                                                                                                                                                                                                                                                                                                                                                                                                                                                                                                                                                                                                                                                                                                                                                                                                                                                                                                                                                                                                                                                                                                                                                                                                                                                                                                                                                                                                                                                                                                                                                                                                                                                                                                                                                                                                                                                                                                                                                                                                                                                                                                                                   1\n",
       "chart unofficial licenseandaffiliationdisclaimer small hackedup set chart private leaderboard get extension browserstorechrome png browserstorechrome png chrome google webstore detail ipbomkmbokofodhhjpipflmdplipblbe browserstorefirefox png browserstorefirefox png addons mozilla org enus firefox addon disclaimer wellarchitectured wellwritten neat nice fluffy industrystrength piece instead something fun wanted make stepping normal way coding warranty developing install dependency sh npm ci npm install serve test website dummy data sh npm run start run serve watch parallel open localhost building run build p build sh recreate build folder readytogo browser extension test extension loading browser full reference see chrome firefoxs full documentation basic firefox go aboutdebugging load temporary addon pick build manifest json file chrome go chrome extension load unpacked extension pick build folder test browsing private leaderboard see chart popping bottom license affiliation disclaimer project mit licensed explicit exception dummydata j file contains json format thought owner creator suppose using small snippet like fall fair use given one website suggests using json api integration albeit without spamming api note eric wastls project official way directly indirectly endorsed affiliated creator owner read learn project oh course please consider donating support example le look like example png example png                                                                                                                                                                                                                                                                                                                                                                                                                                                                                                                                                                                                                                                                                                                                                                                                                                                                                                                                                                                                                                                                                                                                                                                                                                                                                                                                                                                                                                                                                                                                                                                                                                                                                                                                                                                                                                                                                                                                                                                                                                                                                                                                                                                                                                                                                                                                                                                                                                                                                                                                                                                                                                                                                                                                                                                                                                                                                                                                                                                                                                                                                                                                                                                                                                                                                                                                                                                                                                                                                                                                                                                                                                                                                                                                                                                                                                                                                                                                                                                                                                                                                                                                                                                                                                                                                                                                                                                                                                                                                                                                                                                                                                                                                                                                                                                                                                                                                                                                                                                                                                                                                                                                                                                                                                                                                                                                                                                                                1\n",
       "solving puzzle click contributing md see contribute                                                                                                                                                                                                                                                                                                                                                                                                                                                                                                                                                                                                                                                                                                                                                                                                                                                                                                                                                                                                                                                                                                                                                                                                                                                                                                                                                                                                                                                                                                                                                                                                                                                                                                                                                                                                                                                                                                                                                                                                                                                                                                                                                                                                                                                                                                                                                                                                                                                                                                                                                                                                                                                                                                                                                                                                                                                                                                                                                                                                                                                                                                                                                                                                                                                                                                                                                                                                                                                                                                                                                                                                                                                                                                                                                                                                                                                                                                                                                                                                                                                                                                                                                                                                                                                                                                                                                                                                                                                                                                                                                                                                                                                                                                                                                                                                                                                                                                                                                                                                                                                                                                                                                                                                                                                                                                                                                                                                                                                                                                                                                                                                                                                                                                                                                                                                                                                                                                                                                                                                                                                                                                                                                                                                                                                                                                                                                                                                                                                                                                                                                                                                                                                                                                                                                                                                                                                1\n",
       "asm bash c dc haskell j julia mathematica python ruby vim asm dc h mma py rb c dc rb jl rb bash c h j mma rb vim dc rb rb rb h rb rb rb rb rb asm tree asm dc tree dc h tree h mma tree mma py tree py rb tree rb c tree c dc tree dc rb tree rb jl tree jl rb tree rb bash tree bash c tree c h tree h j tree j mma tree mma rb tree rb vim tree vim dc tree dc rb tree rb rb tree rb rb tree rb h tree h rb tree rb rb tree rb rb tree rb rb tree rb rb tree rb                                                                                                                                                                                                                                                                                                                                                                                                                                                                                                                                                                                                                                                                                                                                                                                                                                                                                                                                                                                                                                                                                                                                                                                                                                                                                                                                                                                                                                                                                                                                                                                                                                                                                                                                                                                                                                                                                                                                                                                                                                                                                                                                                                                                                                                                                                                                                                                                                                                                                                                                                                                                                                                                                                                                                                                                                                                                                                                                                                                                                                                                                                                                                                                                                                                                                                                                                                                                                                                                                                                                                                                                                                                                                                                                                                                                                                                                                                                                                                                                                                                                                                                                                                                                                                                                                                                                                                                                                                                                                                                                                                                                                                                                                                                                                                                                                                                                                                                                                                                                                                                                                                                                                                                                                                                                                                                                                                                                                                                                                                                                                                                                                                                                                                                                                                                                                                                                                                                                                                                                                                                                                                                                                                                                                                                                                                                                                                                                                                  1\n",
       "attempt solve puzzle using postgresql www postgresql org dont plan use extension except come contrib im also going try avoid using plpgsql certainly pl goal challenge sql skill also showcase done language comment improvement welcome would like run save session cookie file called session cookie top repository add line setcookie session replaced site give logging run psql xqf decxx sql christmastree www postgresql org elephant                                                                                                                                                                                                                                                                                                                                                                                                                                                                                                                                                                                                                                                                                                                                                                                                                                                                                                                                                                                                                                                                                                                                                                                                                                                                                                                                                                                                                                                                                                                                                                                                                                                                                                                                                                                                                                                                                                                                                                                                                                                                                                                                                                                                                                                                                                                                                                                                                                                                                                                                                                                                                                                                                                                                                                                                                                                                                                                                                                                                                                                                                                                                                                                                                                                                                                                                                                                                                                                                                                                                                                                                                                                                                                                                                                                                                                                                                                                                                                                                                                                                                                                                                                                                                                                                                                                                                                                                                                                                                                                                                                                                                                                                                                                                                                                                                                                                                                                                                                                                                                                                                                                                                                                                                                                                                                                                                                                                                                                                                                                                                                                                                                                                                                                                                                                                                                                                                                                                                                                                                                                                                                                                                                                                                                                                                                                                                                                                                                                       1\n",
       "beginner programmer year would like try challenge manage sovle problem post                                                                                                                                                                                                                                                                                                                                                                                                                                                                                                                                                                                                                                                                                                                                                                                                                                                                                                                                                                                                                                                                                                                                                                                                                                                                                                                                                                                                                                                                                                                                                                                                                                                                                                                                                                                                                                                                                                                                                                                                                                                                                                                                                                                                                                                                                                                                                                                                                                                                                                                                                                                                                                                                                                                                                                                                                                                                                                                                                                                                                                                                                                                                                                                                                                                                                                                                                                                                                                                                                                                                                                                                                                                                                                                                                                                                                                                                                                                                                                                                                                                                                                                                                                                                                                                                                                                                                                                                                                                                                                                                                                                                                                                                                                                                                                                                                                                                                                                                                                                                                                                                                                                                                                                                                                                                                                                                                                                                                                                                                                                                                                                                                                                                                                                                                                                                                                                                                                                                                                                                                                                                                                                                                                                                                                                                                                                                                                                                                                                                                                                                                                                                                                                                                                                                                                                                                        1\n",
       "hey want practice elixir skill bit decided solve task using beautiful programming language better idiomatic please send pr                                                                                                                                                                                                                                                                                                                                                                                                                                                                                                                                                                                                                                                                                                                                                                                                                                                                                                                                                                                                                                                                                                                                                                                                                                                                                                                                                                                                                                                                                                                                                                                                                                                                                                                                                                                                                                                                                                                                                                                                                                                                                                                                                                                                                                                                                                                                                                                                                                                                                                                                                                                                                                                                                                                                                                                                                                                                                                                                                                                                                                                                                                                                                                                                                                                                                                                                                                                                                                                                                                                                                                                                                                                                                                                                                                                                                                                                                                                                                                                                                                                                                                                                                                                                                                                                                                                                                                                                                                                                                                                                                                                                                                                                                                                                                                                                                                                                                                                                                                                                                                                                                                                                                                                                                                                                                                                                                                                                                                                                                                                                                                                                                                                                                                                                                                                                                                                                                                                                                                                                                                                                                                                                                                                                                                                                                                                                                                                                                                                                                                                                                                                                                                                                                                                                                                         1\n",
       "first christmas true love gave checksum script ruby official site personal rule every problem must completed unique programming language problem need completed assigned problem completed order language used ruby python c rust bit mips assembly elixir javascript java                                                                                                                                                                                                                                                                                                                                                                                                                                                                                                                                                                                                                                                                                                                                                                                                                                                                                                                                                                                                                                                                                                                                                                                                                                                                                                                                                                                                                                                                                                                                                                                                                                                                                                                                                                                                                                                                                                                                                                                                                                                                                                                                                                                                                                                                                                                                                                                                                                                                                                                                                                                                                                                                                                                                                                                                                                                                                                                                                                                                                                                                                                                                                                                                                                                                                                                                                                                                                                                                                                                                                                                                                                                                                                                                                                                                                                                                                                                                                                                                                                                                                                                                                                                                                                                                                                                                                                                                                                                                                                                                                                                                                                                                                                                                                                                                                                                                                                                                                                                                                                                                                                                                                                                                                                                                                                                                                                                                                                                                                                                                                                                                                                                                                                                                                                                                                                                                                                                                                                                                                                                                                                                                                                                                                                                                                                                                                                                                                                                                                                                                                                                                                         1\n",
       "adent ocaml ocaml intcode debugger build bash make run bash solve puzzle number answer run intcode debugger bash extra intdebug source filename intdebug command run r run program step step forward print tape pt print current content tape within ic print ic pic print current ic print rb prb print current rb print opcode po print current opcode print ic pic print recent ic value print rb prbs print recent rb value backtrack bt step backwards parse p parse opcode print stdout parse addr paddr parse opcode addr print stdout print addr praddr print value addr eval e evaluate opcode given stdin eval addr eaddr evaluate opcode addr help h display message                                                                                                                                                                                                                                                                                                                                                                                                                                                                                                                                                                                                                                                                                                                                                                                                                                                                                                                                                                                                                                                                                                                                                                                                                                                                                                                                                                                                                                                                                                                                                                                                                                                                                                                                                                                                                                                                                                                                                                                                                                                                                                                                                                                                                                                                                                                                                                                                                                                                                                                                                                                                                                                                                                                                                                                                                                                                                                                                                                                                                                                                                                                                                                                                                                                                                                                                                                                                                                                                                                                                                                                                                                                                                                                                                                                                                                                                                                                                                                                                                                                                                                                                                                                                                                                                                                                                                                                                                                                                                                                                                                                                                                                                                                                                                                                                                                                                                                                                                                                                                                                                                                                                                                                                                                                                                                                                                                                                                                                                                                                                                                                                                                                                                                                                                                                                                                                                                                                                                                                                                                                                                                                                                                                                                    1\n",
       "csharp part tyranny rocket equation year c program alarm year c crossed wire year c secure container year c sunny chance asteroid year c universal orbit map year c amplification circuit year c space image format year c sensor boost year c monitoring station year c                                                                                                                                                                                                                                                                                                                                                                                                                                                                                                                                                                                                                                                                                                                                                                                                                                                                                                                                                                                                                                                                                                                                                                                                                                                                                                                                                                                                                                                                                                                                                                                                                                                                                                                                                                                                                                                                                                                                                                                                                                                                                                                                                                                                                                                                                                                                                                                                                                                                                                                                                                                                                                                                                                                                                                                                                                                                                                                                                                                                                                                                                                                                                                                                                                                                                                                                                                                                                                                                                                                                                                                                                                                                                                                                                                                                                                                                                                                                                                                                                                                                                                                                                                                                                                                                                                                                                                                                                                                                                                                                                                                                                                                                                                                                                                                                                                                                                                                                                                                                                                                                                                                                                                                                                                                                                                                                                                                                                                                                                                                                                                                                                                                                                                                                                                                                                                                                                                                                                                                                                                                                                                                                                                                                                                                                                                                                                                                                                                                                                                                                                                                                                           1\n",
       "implementation written cplusplus strictly sort adhering cplusplus guideline prerequisite clang libcplusplus cmake macos linux two system ive tested compiling compile sh script provided run good go running invoke execute run specific invoke f dayxx run specific part invoke p see detailed help consult help metric line number line given wc line preprocessor line line alphanumeric char byte number total character char number nonwhitespace character time time millisecond execute part independently separate run source link implementation header cplusplus includes used leaderboard highlight placed placed placed placed placed placed placed detailed information line byte char time source header cpp cpp hpp include hpp cpp cpp algorithm hpp include hpp io hpp include io hpp cpp cpp map tuple hpp include hpp io hpp include io hpp cpp cpp hpp include hpp io hpp include io hpp md hpp include md hpp cpp cpp array climits hpp include hpp io hpp include io hpp cpp cpp array hpp include hpp io hpp include io hpp cpp cpp unorderedmap hpp include hpp io hpp include io hpp cpp cpp hpp include hpp io hpp include io hpp cpp cpp limit set unorderedmap vector hpp include hpp io hpp include io hpp cpp cpp vector hpp include hpp io hpp include io hpp cpp cpp hpp include hpp io hpp include io hpp cpp cpp stack hpp include hpp io hpp include io hpp cpp cpp limit set unorderedmap vector hpp include hpp io hpp include io hpp cpp cpp algorithm vector hpp include hpp io hpp include io hpp cpp cpp numeric valarray vector hpp include hpp io hpp include io hpp cpp cpp functional unorderedmap hpp include hpp io hpp include io hpp util hpp include util hpp cpp cpp algorithm array limit vector hpp include hpp io hpp include io hpp cpp cpp array hpp include hpp io hpp include io hpp cpp cpp unorderedmap unorderedset hpp include hpp io hpp include io hpp cpp cpp array hpp include hpp io hpp include io hpp cpp cpp array cmath hpp include hpp io hpp include io hpp cpp cpp limit unorderedset hpp include hpp io hpp include io hpp cpp cpp algorithm vector hpp include hpp io hpp include io hpp util hpp include util hpp cpp cpp algorithm numeric vector hpp include hpp io hpp include io hpp util hpp include util hpp cpp cpp io hpp include io hpp hpp include hpp total hppnbspsup sup io hppnbspsup sup vectornbspsup sup arraynbspsup sup algorithmnbspsup sup unorderedmapnbspsup sup limitsnbspsup sup util hppnbspsup sup setnbspsup sup numericnbspsup sup unorderedsetnbspsup sup mapnbspsup sup stacknbspsup sup tuplenbspsup sup climitsnbspsup sup cmathnbspsup sup valarraynbspsup sup md hppnbspsup sup functionalnbspsup sup                                                                                                                                                                                                                                                                                                                                                                                                                                                                                                                                                                                                                                                                                                                                                                                                                                                                                                                                                                                                                                                                                                                                                                                                                                                                                                                                                                                                                                                                                                                                                                                                                                                                                                                                                                                                                                                                                                                                                                                                                                                                                                                                                                                                                                                                                                                                                                                                                                                                                                                                                                                                                                                                                                                                                                                                                                                                                                                                                                                                                                                                                                                                                                                                                                                                                                                                                                                                                                                                                                                                                                                                                                                                                                                                                                                                                                                                                                                                                                                                                                                                                                                                                                              1\n",
       "pointless combinators                                                                                                                                                                                                                                                                                                                                                                                                                                                                                                                                                                                                                                                                                                                                                                                                                                                                                                                                                                                                                                                                                                                                                                                                                                                                                                                                                                                                                                                                                                                                                                                                                                                                                                                                                                                                                                                                                                                                                                                                                                                                                                                                                                                                                                                                                                                                                                                                                                                                                                                                                                                                                                                                                                                                                                                                                                                                                                                                                                                                                                                                                                                                                                                                                                                                                                                                                                                                                                                                                                                                                                                                                                                                                                                                                                                                                                                                                                                                                                                                                                                                                                                                                                                                                                                                                                                                                                                                                                                                                                                                                                                                                                                                                                                                                                                                                                                                                                                                                                                                                                                                                                                                                                                                                                                                                                                                                                                                                                                                                                                                                                                                                                                                                                                                                                                                                                                                                                                                                                                                                                                                                                                                                                                                                                                                                                                                                                                                                                                                                                                                                                                                                                                                                                                                                                                                                                                                              1\n",
       "starter template solving kotlin kotlinlang org feature gradle setup run specific command line see running timing part input automatically exposed string list form junit hamcrest test library included see testing starter gitignore running project already setup gradle run app navigate toplevel directory command line run gradlew run run run gradlew run args integer run specific testing project includes junit hamcrest stub unit test get going run test navigate toplevel directory command line run gradlew test add info debug stacktrace flag output architecture input go main resource follow naming convention inputdayx txt go main kotlin extend abstract class calling constructor number follow naming convention dayx assumed two part share input input exposed class two form inputlist inputstring class input file stubbed guide extend project get started simply replace inputday txt real input                                                                                                                                                                                                                                                                                                                                                                                                                                                                                                                                                                                                                                                                                                                                                                                                                                                                                                                                                                                                                                                                                                                                                                                                                                                                                                                                                                                                                                                                                                                                                                                                                                                                                                                                                                                                                                                                                                                                                                                                                                                                                                                                                                                                                                                                                                                                                                                                                                                                                                                                                                                                                                                                                                                                                                                                                                                                                                                                                                                                                                                                                                                                                                                                                                                                                                                                                                                                                                                                                                                                                                                                                                                                                                                                                                                                                                                                                                                                                                                                                                                                                                                                                                                                                                                                                                                                                                                                                                                                                                                                                                                                                                                                                                                                                                                                                                                                                                                                                                                                                                                                                                                                                                                                                                                                                                                                                                                                                                                                                                                                                                                                                                                                                                                                                                                                                                                                                                                                                                      1\n",
       "challenge eric wastl topaz overall star collected star collected star collected star collected star collected star collected                                                                                                                                                                                                                                                                                                                                                                                                                                                                                                                                                                                                                                                                                                                                                                                                                                                                                                                                                                                                                                                                                                                                                                                                                                                                                                                                                                                                                                                                                                                                                                                                                                                                                                                                                                                                                                                                                                                                                                                                                                                                                                                                                                                                                                                                                                                                                                                                                                                                                                                                                                                                                                                                                                                                                                                                                                                                                                                                                                                                                                                                                                                                                                                                                                                                                                                                                                                                                                                                                                                                                                                                                                                                                                                                                                                                                                                                                                                                                                                                                                                                                                                                                                                                                                                                                                                                                                                                                                                                                                                                                                                                                                                                                                                                                                                                                                                                                                                                                                                                                                                                                                                                                                                                                                                                                                                                                                                                                                                                                                                                                                                                                                                                                                                                                                                                                                                                                                                                                                                                                                                                                                                                                                                                                                                                                                                                                                                                                                                                                                                                                                                                                                                                                                                                                                       1\n",
       "programming puzzle make use fileparser fileparser parsing input file aochelper aochelper generalizing problem solving                                                                                                                                                                                                                                                                                                                                                                                                                                                                                                                                                                                                                                                                                                                                                                                                                                                                                                                                                                                                                                                                                                                                                                                                                                                                                                                                                                                                                                                                                                                                                                                                                                                                                                                                                                                                                                                                                                                                                                                                                                                                                                                                                                                                                                                                                                                                                                                                                                                                                                                                                                                                                                                                                                                                                                                                                                                                                                                                                                                                                                                                                                                                                                                                                                                                                                                                                                                                                                                                                                                                                                                                                                                                                                                                                                                                                                                                                                                                                                                                                                                                                                                                                                                                                                                                                                                                                                                                                                                                                                                                                                                                                                                                                                                                                                                                                                                                                                                                                                                                                                                                                                                                                                                                                                                                                                                                                                                                                                                                                                                                                                                                                                                                                                                                                                                                                                                                                                                                                                                                                                                                                                                                                                                                                                                                                                                                                                                                                                                                                                                                                                                                                                                                                                                                                                              1\n",
       "polyglot programming contest new puzzle come online every december puzzle like last year solved puzzle different programming language additional additional challenge didnt use language used last year retrospective retrospective md available moreover subdirectory contains readme md thought language language used mainstream programming language esoteric toy language wa hard enough however include older language list historic interest plus free beer implementation linux exist language could still used alphabetical order ada algol apl bliss boo comal common lisp ceu ceylon crystal dyon pistondevelopers dyon elm browser gdscript glsl gluon gluonlang gluon idris infinifactory inform io labview little www littlelang org logtalk modula mumps nemerle pharo pl postscript prolog rebol self snobol wren used alphabetical order year entry bold algol tree algol assembly architecture x tree xassembly awk tree awk basic bbc basic tree bbcbasic c tree c cplusplus tree cpp csharp tree c clojure tree clojure cobol tree cobol cuda tree cuda coffeescript tree coffeescript tree dart tree dart eiffel tree eiffel elixir tree elixir erlang tree erlang fsharp tree fsharp forth tree forth fortran tree fortran go tree go groovy tree groovy haskell tree haskell haxe tree haxe icon tree icon javascript tree javascript j tree j java tree java julia tree julia kotlin tree kotlin lua tree lua nim tree nim ocaml tree ocaml octave tree octave opencl tree opencl pascal tree pascal pen paper calculator tree penandpaper perl tree perl php tree php pony tree pony postgresql tree postgresql python tree python r tree r ruby tree ruby rust tree rust scala tree scala scheme tree scheme sh bash common shell utility tree bash smalltalk tree smalltalk tcl tree tcl tex tree tex rule input read stdin possible otherwise read file named input input file must read parsed exactly provided modification allowed                                                                                                                                                                                                                                                                                                                                                                                                                                                                                                                                                                                                                                                                                                                                                                                                                                                                                                                                                                                                                                                                                                                                                                                                                                                                                                                                                                                                                                                                                                                                                                                                                                                                                                                                                                                                                                                                                                                                                                                                                                                                                                                                                                                                                                                                                                                                                                                                                                                                                                                                                                                                                                                                                                                                                                                                                                                                                                                                                                                                                                                                                                                                                                                                                                                                                                                                                                                                                                                                                                                                                                                                                                                                                                                                                                                                                                                                                                                                                                                                                                                                                                                                                                                                                                                                                                                                                                                                                                                                                                                                                                                                                                                                                                                                                                                                                                                                                                                                  1\n",
       "post finish leaderboard fill submitting answer typically go back add type signature comment improve structure please join freenodes haskell channel youre interested discussing haskell problem well talking december building project wa built using ghc easiest building recommend running cabal newbuild final stats point th place part part time rank score time rank score                                                                                                                                                                                                                                                                                                                                                                                                                                                                                                                                                                                                                                                                                                                                                                                                                                                                                                                                                                                                                                                                                                                                                                                                                                                                                                                                                                                                                                                                                                                                                                                                                                                                                                                                                                                                                                                                                                                                                                                                                                                                                                                                                                                                                                                                                                                                                                                                                                                                                                                                                                                                                                                                                                                                                                                                                                                                                                                                                                                                                                                                                                                                                                                                                                                                                                                                                                                                                                                                                                                                                                                                                                                                                                                                                                                                                                                                                                                                                                                                                                                                                                                                                                                                                                                                                                                                                                                                                                                                                                                                                                                                                                                                                                                                                                                                                                                                                                                                                                                                                                                                                                                                                                                                                                                                                                                                                                                                                                                                                                                                                                                                                                                                                                                                                                                                                                                                                                                                                                                                                                                                                                                                                                                                                                                                                                                                                                                                                                                                                                                   1\n",
       "mate laszlo challenge using functional programming style scala external dependency challenge run puzzle pas year parameter e g sbt run tyranny rocket equation main scala lmat year scala chronal calibration main scala lmat year scala inverse captcha main scala lmat year scala time taxicab quite lisp main scala lmat year scala program alarm main scala lmat year scala inventory management system main scala lmat year scala corruption checksum main scala lmat year scala bathroom security wa told would math main scala lmat year scala crossed wire main scala lmat year scala matter slice main scala lmat year scala spiral memory main scala lmat year scala square three side perfectly spherical house vacuum main scala lmat year scala secure container main scala lmat year scala repose record main scala lmat year scala highentropy passphrases main scala lmat year scala security obscurity ideal stocking stuffer main scala lmat year scala alchemical reduction main scala lmat year scala maze twisty trampoline alike main scala lmat year scala nice game chess doesnt internelves main scala lmat year scala chronal coordinate main scala lmat year scala memory reallocation main scala lmat year scala signal noise probably fire hazard main scala lmat year scala sum part main scala lmat year scala recursive circus main scala lmat year scala internet protocol version assembly required main scala lmat year scala memory maneuver main scala lmat year scala heard like register main scala lmat year scala twofactor authentication matchstick main scala lmat year scala marble mania main scala lmat year scala stream processing main scala lmat year scala explosive cyberspace single night main scala lmat year scala star align main scala lmat year scala knot hash main scala lmat year scala balance bot elf look elf say main scala lmat year scala chronal charge main scala lmat year scala hex ed main scala lmat year scala radioisotope thermoelectric generator corporate policy main scala lmat year scala subterranean sustainability main scala lmat year scala digital plumber main scala lmat year scala leonardo monorail jsabacusframework io main scala lmat year scala mine cart madness main scala lmat year scala packet scanner main scala lmat year scala maze twisty little cubicle knight dinner table main scala lmat year scala chocolate chart main scala lmat year scala disk defragmentation main scala lmat year scala onetime pad reindeer olympics main scala lmat year scala beverage bandit main scala lmat year scala dueling generator main scala lmat year scala timing everything science hungry people main scala lmat year scala chronal classification main scala lmat year scala permutation promenade main scala lmat year scala dragon checksum aunt sue main scala lmat year scala reservoir research spinlock main scala lmat year scala two step forward thing much main scala lmat year scala settler north pole duet main scala lmat year scala like rogue like gif yard main scala lmat year scala go flow series tube main scala lmat year scala elephant named joseph medicine rudolph main scala lmat year scala regular map particle swarm main scala lmat year scala firewall rule infinite elf infinite house main scala lmat year scala chronal conversion fractal art main scala lmat year scala scrambled letter hash rpg simulator xx main scala lmat year scala mode maze sporifica virus main scala lmat year scala grid computing wizard simulator xx main scala lmat year scala experimental emergency teleportation coprocessor conflagration main scala lmat year scala safe cracking opening turing lock main scala lmat year scala immune system simulator xx main scala lmat year scala electromagnetic moat main scala lmat year scala air duct spelunking hang balance main scala lmat year scala fourdimensional adventure halting problem main scala lmat year scala clock signal let snow main scala lmat year scala                                                                                                                                                                                                                                                                                                                                                                                                                                                                                                                                                                                                                                                                                                                                                                                                                                                                                                                                                                                                                                                                                                                                                                                                                                                                                                                                                                                                                                                                                                                                                                                                                                                                                                                                                                                                                                                                                                                                                                                                                                                                                                                                                                                                                                                                                                                                                                                                                                                                                                                                                                                                                                                                                                                                                                                                                                             1\n",
       "python oneliner challenge fun way making little challenging also fun way learn intracacies python language example ok see done several already spoiler individual folder rule reading input variable another file assignment acceptable doe count total line must take form print insertcodehere formatting print format string acceptable long substituting one value multiple calculation allowed global variable outside input variable                                                                                                                                                                                                                                                                                                                                                                                                                                                                                                                                                                                                                                                                                                                                                                                                                                                                                                                                                                                                                                                                                                                                                                                                                                                                                                                                                                                                                                                                                                                                                                                                                                                                                                                                                                                                                                                                                                                                                                                                                                                                                                                                                                                                                                                                                                                                                                                                                                                                                                                                                                                                                                                                                                                                                                                                                                                                                                                                                                                                                                                                                                                                                                                                                                                                                                                                                                                                                                                                                                                                                                                                                                                                                                                                                                                                                                                                                                                                                                                                                                                                                                                                                                                                                                                                                                                                                                                                                                                                                                                                                                                                                                                                                                                                                                                                                                                                                                                                                                                                                                                                                                                                                                                                                                                                                                                                                                                                                                                                                                                                                                                                                                                                                                                                                                                                                                                                                                                                                                                                                                                                                                                                                                                                                                                                                                                                                                                                                                                         1\n",
       "repo                                                                                                                                                                                                                                                                                                                                                                                                                                                                                                                                                                                                                                                                                                                                                                                                                                                                                                                                                                                                                                                                                                                                                                                                                                                                                                                                                                                                                                                                                                                                                                                                                                                                                                                                                                                                                                                                                                                                                                                                                                                                                                                                                                                                                                                                                                                                                                                                                                                                                                                                                                                                                                                                                                                                                                                                                                                                                                                                                                                                                                                                                                                                                                                                                                                                                                                                                                                                                                                                                                                                                                                                                                                                                                                                                                                                                                                                                                                                                                                                                                                                                                                                                                                                                                                                                                                                                                                                                                                                                                                                                                                                                                                                                                                                                                                                                                                                                                                                                                                                                                                                                                                                                                                                                                                                                                                                                                                                                                                                                                                                                                                                                                                                                                                                                                                                                                                                                                                                                                                                                                                                                                                                                                                                                                                                                                                                                                                                                                                                                                                                                                                                                                                                                                                                                                                                                                                                                               1\n",
       "problem require version node run npm run                                                                                                                                                                                                                                                                                                                                                                                                                                                                                                                                                                                                                                                                                                                                                                                                                                                                                                                                                                                                                                                                                                                                                                                                                                                                                                                                                                                                                                                                                                                                                                                                                                                                                                                                                                                                                                                                                                                                                                                                                                                                                                                                                                                                                                                                                                                                                                                                                                                                                                                                                                                                                                                                                                                                                                                                                                                                                                                                                                                                                                                                                                                                                                                                                                                                                                                                                                                                                                                                                                                                                                                                                                                                                                                                                                                                                                                                                                                                                                                                                                                                                                                                                                                                                                                                                                                                                                                                                                                                                                                                                                                                                                                                                                                                                                                                                                                                                                                                                                                                                                                                                                                                                                                                                                                                                                                                                                                                                                                                                                                                                                                                                                                                                                                                                                                                                                                                                                                                                                                                                                                                                                                                                                                                                                                                                                                                                                                                                                                                                                                                                                                                                                                                                                                                                                                                                                                           1\n",
       "elixir starter battery included starter pack participating www using elixir usage module test mix task fill test example write implementation fill final problem input mix task run mix p benchmark passing b flag mix p b elixir defmodule def part args end def part args end end elixir defmodule daytest use exunit case import tag skip make sure remove run test test part input nil result part input assert result end tag skip make sure remove run test test part input nil result part input assert result end end elixir defmodule mix task p use mix task import shortdoc part def run args input nil enum member args b benchee run part fn input part end else input part io inspect label part result end end installation bash clone git clone gitgithub comusername git cd reinitialize git repo rm rf git git init                                                                                                                                                                                                                                                                                                                                                                                                                                                                                                                                                                                                                                                                                                                                                                                                                                                                                                                                                                                                                                                                                                                                                                                                                                                                                                                                                                                                                                                                                                                                                                                                                                                                                                                                                                                                                                                                                                                                                                                                                                                                                                                                                                                                                                                                                                                                                                                                                                                                                                                                                                                                                                                                                                                                                                                                                                                                                                                                                                                                                                                                                                                                                                                                                                                                                                                                                                                                                                                                                                                                                                                                                                                                                                                                                                                                                                                                                                                                                                                                                                                                                                                                                                                                                                                                                                                                                                                                                                                                                                                                                                                                                                                                                                                                                                                                                                                                                                                                                                                                                                                                                                                                                                                                                                                                                                                                                                                                                                                                                                                                                                                                                                                                                                                                                                                                                                                                                                                                                                                                                                                              1\n",
       "take programmed mostly r currently focusing year slowly added take time                                                                                                                                                                                                                                                                                                                                                                                                                                                                                                                                                                                                                                                                                                                                                                                                                                                                                                                                                                                                                                                                                                                                                                                                                                                                                                                                                                                                                                                                                                                                                                                                                                                                                                                                                                                                                                                                                                                                                                                                                                                                                                                                                                                                                                                                                                                                                                                                                                                                                                                                                                                                                                                                                                                                                                                                                                                                                                                                                                                                                                                                                                                                                                                                                                                                                                                                                                                                                                                                                                                                                                                                                                                                                                                                                                                                                                                                                                                                                                                                                                                                                                                                                                                                                                                                                                                                                                                                                                                                                                                                                                                                                                                                                                                                                                                                                                                                                                                                                                                                                                                                                                                                                                                                                                                                                                                                                                                                                                                                                                                                                                                                                                                                                                                                                                                                                                                                                                                                                                                                                                                                                                                                                                                                                                                                                                                                                                                                                                                                                                                                                                                                                                                                                                                                                                                                                            1\n",
       "julia build status travisci svgbranchmaster travisci codecov codecov io gh branch graph badge codecov io gh status img shield io static vlabelworkmessageterminatedcoloryellow solved inprogress disclaimer dont want brainlessly try understand others written im switching work two project imporant would available sooner later however yet kiss sincerely kamil                                                                                                                                                                                                                                                                                                                                                                                                                                                                                                                                                                                                                                                                                                                                                                                                                                                                                                                                                                                                                                                                                                                                                                                                                                                                                                                                                                                                                                                                                                                                                                                                                                                                                                                                                                                                                                                                                                                                                                                                                                                                                                                                                                                                                                                                                                                                                                                                                                                                                                                                                                                                                                                                                                                                                                                                                                                                                                                                                                                                                                                                                                                                                                                                                                                                                                                                                                                                                                                                                                                                                                                                                                                                                                                                                                                                                                                                                                                                                                                                                                                                                                                                                                                                                                                                                                                                                                                                                                                                                                                                                                                                                                                                                                                                                                                                                                                                                                                                                                                                                                                                                                                                                                                                                                                                                                                                                                                                                                                                                                                                                                                                                                                                                                                                                                                                                                                                                                                                                                                                                                                                                                                                                                                                                                                                                                                                                                                                                                                                                                                               1\n",
       "r try stick functional idiom base r prefer data frame data structure                                                                                                                                                                                                                                                                                                                                                                                                                                                                                                                                                                                                                                                                                                                                                                                                                                                                                                                                                                                                                                                                                                                                                                                                                                                                                                                                                                                                                                                                                                                                                                                                                                                                                                                                                                                                                                                                                                                                                                                                                                                                                                                                                                                                                                                                                                                                                                                                                                                                                                                                                                                                                                                                                                                                                                                                                                                                                                                                                                                                                                                                                                                                                                                                                                                                                                                                                                                                                                                                                                                                                                                                                                                                                                                                                                                                                                                                                                                                                                                                                                                                                                                                                                                                                                                                                                                                                                                                                                                                                                                                                                                                                                                                                                                                                                                                                                                                                                                                                                                                                                                                                                                                                                                                                                                                                                                                                                                                                                                                                                                                                                                                                                                                                                                                                                                                                                                                                                                                                                                                                                                                                                                                                                                                                                                                                                                                                                                                                                                                                                                                                                                                                                                                                                                                                                                                                               1\n",
       "                                                                                                                                                                                                                                                                                                                                                                                                                                                                                                                                                                                                                                                                                                                                                                                                                                                                                                                                                                                                                                                                                                                                                                                                                                                                                                                                                                                                                                                                                                                                                                                                                                                                                                                                                                                                                                                                                                                                                                                                                                                                                                                                                                                                                                                                                                                                                                                                                                                                                                                                                                                                                                                                                                                                                                                                                                                                                                                                                                                                                                                                                                                                                                                                                                                                                                                                                                                                                                                                                                                                                                                                                                                                                                                                                                                                                                                                                                                                                                                                                                                                                                                                                                                                                                                                                                                                                                                                                                                                                                                                                                                                                                                                                                                                                                                                                                                                                                                                                                                                                                                                                                                                                                                                                                                                                                                                                                                                                                                                                                                                                                                                                                                                                                                                                                                                                                                                                                                                                                                                                                                                                                                                                                                                                                                                                                                                                                                                                                                                                                                                                                                                                                                                                                                                                                                                                                                                                                  ..\n",
       "want learn functional programming try solve challenge way participe create pr player file inside challenge fe player john j inside j file place part youre challenge function javascript const part input x part statement const part input x part statement module export part part input generated data j check ensure parse correct datatype execute challenge number compare result sh node index j challengedaynumber join leaderboard go private leaderboards leaderboard private use token fbdd help want help create pr improved version want learn                                                                                                                                                                                                                                                                                                                                                                                                                                                                                                                                                                                                                                                                                                                                                                                                                                                                                                                                                                                                                                                                                                                                                                                                                                                                                                                                                                                                                                                                                                                                                                                                                                                                                                                                                                                                                                                                                                                                                                                                                                                                                                                                                                                                                                                                                                                                                                                                                                                                                                                                                                                                                                                                                                                                                                                                                                                                                                                                                                                                                                                                                                                                                                                                                                                                                                                                                                                                                                                                                                                                                                                                                                                                                                                                                                                                                                                                                                                                                                                                                                                                                                                                                                                                                                                                                                                                                                                                                                                                                                                                                                                                                                                                                                                                                                                                                                                                                                                                                                                                                                                                                                                                                                                                                                                                                                                                                                                                                                                                                                                                                                                                                                                                                                                                                                                                                                                                                                                                                                                                                                                                                                                                                                                                                                                                                                                                        1\n",
       "progress heavycheckmark heavycheckmark heavycheckmark heavycheckmark heavycheckmark heavycheckmark heavycheckmark heavycheckmark heavycheckmark heavycheckmark heavycheckmark heavycheckmark heavycheckmark heavycheckmark heavycheckmark heavycheckmark heavycheckmark heavycheckmark heavycheckmark heavycheckmark heavycheckmark heavycheckmark heavycheckmark heavycheckmark heavycheckmark heavycheckmark heavycheckmark heavycheckmark heavycheckmark heavycheckmark heavycheckmark heavycheckmark heavycheckmark heavycheckmark heavycheckmark heavycheckmark heavycheckmark heavycheckmark heavycheckmark heavycheckmark heavycheckmark heavycheckmark heavycheckmark heavycheckmark heavycheckmarkquestionsup sup heavycheckmark heavycheckmark heavycheckmark heavycheckmark heavycheckmark heavycheckmark heavycheckmark heavycheckmark heavycheckmarkquestionsup sup heavycheckmark heavycheckmark heavycheckmark heavycheckmark heavycheckmarkquestionsup sup heavycheckmark heavycheckmark sup sup done efficiently clojure thanks library instaparse done notsoefficiently elm exceeds heap memory limit sup sup elm wa mainly used exploring problem insight wa obtained real wa written python sup sup couldnt get elm part fast python start sh make new elm module copy puzzle input open vim watcher two tmux pane may error message lead towards right dependency smirk                                                                                                                                                                                                                                                                                                                                                                                                                                                                                                                                                                                                                                                                                                                                                                                                                                                                                                                                                                                                                                                                                                                                                                                                                                                                                                                                                                                                                                                                                                                                                                                                                                                                                                                                                                                                                                                                                                                                                                                                                                                                                                                                                                                                                                                                                                                                                                                                                                                                                                                                                                                                                                                                                                                                                                                                                                                                                                                                                                                                                                                                                                                                                                                                                                                                                                                                                                                                                                                                                                                                                                                                                                                                                                                                                                                                                                                                                                                                                                                                                                                                                                                                                                                                                                                                                                                                                                                                                                                                                                                                                                                                                                                                                                                                                                                                                                                                                                                                                                                                                                                                                                                                                                                                                                                                                                                                                                                                                                                                                                       1\n",
       "bidra med dina losningar pa problemen vilket sprak du vill valj ett du kan eller ett du vill lara dig de forsta problemen kommer forsta december de sista den tjugofemte och den eller de som forst loser samtliga problem korrekt kommer att fa nagon form av pris som forra aret ar det tva delproblem varje dag samtliga problem ska alltsa finnas med en komplett losning forst raknas utifran tidsstampeln pa den merge request som gor din eller era samarbete uppmuntras losning komplett och korrekt det ar givetvis fritt fram att bidra med losningar sa manga eller fa problem man har tid och lust med tavlingsmomentet ar inte det viktiga har dina losningar far garna checkas en mapp med namn pa formen anvandarnamnsprak sa blir det lite lattare alla att fa overblick losningarna kan komma att diskuteras avsnitt av sa lagg med en readme md med en notis om du inte vill riskera att bli omnamnd                                                                                                                                                                                                                                                                                                                                                                                                                                                                                                                                                                                                                                                                                                                                                                                                                                                                                                                                                                                                                                                                                                                                                                                                                                                                                                                                                                                                                                                                                                                                                                                                                                                                                                                                                                                                                                                                                                                                                                                                                                                                                                                                                                                                                                                                                                                                                                                                                                                                                                                                                                                                                                                                                                                                                                                                                                                                                                                                                                                                                                                                                                                                                                                                                                                                                                                                                                                                                                                                                                                                                                                                                                                                                                                                                                                                                                                                                                                                                                                                                                                                                                                                                                                                                                                                                                                                                                                                                                                                                                                                                                                                                                                                                                                                                                                                                                                                                                                                                                                                                                                                                                                                                                                                                                                                                                                                                                                                                                                                                                                                                                                                                                                                                                                                                                                                                                                                                                                                                                             1\n",
       "build status travisci org svgbranchmaster travisci org learning rust scratch pull request welcome im learning please feel free correct style mistake share idiomatic pattern etc im pretty behind due busy work schedule please dont spoil anything thanks running cargo run p dayxx release test cargo test                                                                                                                                                                                                                                                                                                                                                                                                                                                                                                                                                                                                                                                                                                                                                                                                                                                                                                                                                                                                                                                                                                                                                                                                                                                                                                                                                                                                                                                                                                                                                                                                                                                                                                                                                                                                                                                                                                                                                                                                                                                                                                                                                                                                                                                                                                                                                                                                                                                                                                                                                                                                                                                                                                                                                                                                                                                                                                                                                                                                                                                                                                                                                                                                                                                                                                                                                                                                                                                                                                                                                                                                                                                                                                                                                                                                                                                                                                                                                                                                                                                                                                                                                                                                                                                                                                                                                                                                                                                                                                                                                                                                                                                                                                                                                                                                                                                                                                                                                                                                                                                                                                                                                                                                                                                                                                                                                                                                                                                                                                                                                                                                                                                                                                                                                                                                                                                                                                                                                                                                                                                                                                                                                                                                                                                                                                                                                                                                                                                                                                                                                                                       1\n",
       "node j node j run execute example using npm run xx root folder example npm run xx running j answer part ii answerforpartii answer part answerforparti                                                                                                                                                                                                                                                                                                                                                                                                                                                                                                                                                                                                                                                                                                                                                                                                                                                                                                                                                                                                                                                                                                                                                                                                                                                                                                                                                                                                                                                                                                                                                                                                                                                                                                                                                                                                                                                                                                                                                                                                                                                                                                                                                                                                                                                                                                                                                                                                                                                                                                                                                                                                                                                                                                                                                                                                                                                                                                                                                                                                                                                                                                                                                                                                                                                                                                                                                                                                                                                                                                                                                                                                                                                                                                                                                                                                                                                                                                                                                                                                                                                                                                                                                                                                                                                                                                                                                                                                                                                                                                                                                                                                                                                                                                                                                                                                                                                                                                                                                                                                                                                                                                                                                                                                                                                                                                                                                                                                                                                                                                                                                                                                                                                                                                                                                                                                                                                                                                                                                                                                                                                                                                                                                                                                                                                                                                                                                                                                                                                                                                                                                                                                                                                                                                                                              1\n",
       "introduction project contains difficulty puzzle much le online judge problem even calculate answer pencil paper test case simple example include nearly everything need care author provides interesting website p remember call parseint parsing input regular expression try find answer binary search server reject submission failed much time solve puzzle brute force searching hard find reasonable algorithm go reddit www reddit r run default part year current year year node index j part input txt year node index j part f input txt summary hardness simple middle h hard detail summary summary hardness keywords iteration iteration simulation md filter string simulation postorder tree traveling string replacement permutation iteration filter string recursion permutation simulation permutation filter dynamic programming simulation h iteration special law find bound permutation h h dfs cpu dynamic programming iteration detail detail summary summary hardness keywords simulation simulation filter filter md array operation filter simulation string replacement recursion simulation h h bfs optimization cpu h h bfs md iteration iteration md bfs iteration h h find law dynamic programming merge interval simulation h filter bfs special law cpu optimization bfs permutation cpu find first detail detail summary summary hardness keywords iteration iteration find law infinite grid filter string iteration simulation tree simulation recursion simple cpu simulation iteration simulation find law simulation bfs simulation find first iteration bfs iteration simulation find law iteration cpu simulation find stable filter collision iterate grid infinite grid h cpu assembly filter prime dfs turing machine detail detail summary summary hardness keywords iteration filter string sort diff rectangle overlap simulation merge stack simulation typology sorting simulation string parsing recursion simulation auto scale find max sum rectangle simulation find loop simulation iteration string match simulation find bound cpu water simulation simulation find loop cpu find logic parse regexp bfs cpu find logic dp bfs h filter max clique simulation find bound bfs detail hardness keywords iteration cpu bonus released reddit www reddit r comment aizu bonuschallenge download input txt directly gist githubusercontent topaz ccdaedbfd raw cbfdadeabeaebafbacbcddf bonuschallenge txt year node index j input txt bonus year node index j bonus                                                                                                                                                                                                                                                                                                                                                                                                                                                                                                                                                                                                                                                                                                                                                                                                                                                                                                                                                                                                                                                                                                                                                                                                                                                                                                                                                                                                                                                                                                                                                                                                                                                                                                                                                                                                                                                                                                                                                                                                                                                                                                                                                                                                                                                                                                                                                                                                                                                                                                                                                                                                                                                                                                                                                                                                                                                                                                                                                                                                                                                                                                                                                                                                                                                                                                                                                                                                                                                                                                                                                                                                                                                                                                                                                                                                                                                                                                                                                                                                                                                                                                                                                                                                                                                                                                                                                                           1\n",
       "programming puzzle written ruby www rubylang org en late december decided learn bit go golang org redo puzzle go found adventofcodego series small programming puzzle variety skill level selfcontained appropriate expert want stay sharp beginner learning puzzle call upon different skill ha two part build theme license mit analytics gabeacon appspot ua adventofcoderuby readme mdflat igrigorik gabeacon                                                                                                                                                                                                                                                                                                                                                                                                                                                                                                                                                                                                                                                                                                                                                                                                                                                                                                                                                                                                                                                                                                                                                                                                                                                                                                                                                                                                                                                                                                                                                                                                                                                                                                                                                                                                                                                                                                                                                                                                                                                                                                                                                                                                                                                                                                                                                                                                                                                                                                                                                                                                                                                                                                                                                                                                                                                                                                                                                                                                                                                                                                                                                                                                                                                                                                                                                                                                                                                                                                                                                                                                                                                                                                                                                                                                                                                                                                                                                                                                                                                                                                                                                                                                                                                                                                                                                                                                                                                                                                                                                                                                                                                                                                                                                                                                                                                                                                                                                                                                                                                                                                                                                                                                                                                                                                                                                                                                                                                                                                                                                                                                                                                                                                                                                                                                                                                                                                                                                                                                                                                                                                                                                                                                                                                                                                                                                                                                                                                                                  1\n",
       "fsharp f f f f f f f f f f f f f f f f f f f f f f f f f f f f f f f f f f f f f f f f f f f f f f f f f f f f f f f f f f f f f f f f f f f f f f f f f f f f f f f f f f f f f f f f f f f f f f f f f f f f f f f f f f f f f f f f                                                                                                                                                                                                                                                                                                                                                                                                                                                                                                                                                                                                                                                                                                                                                                                                                                                                                                                                                                                                                                                                                                                                                                                                                                                                                                                                                                                                                                                                                                                                                                                                                                                                                                                                                                                                                                                                                                                                                                                                                                                                                                                                                                                                                                                                                                                                                                                                                                                                                                                                                                                                                                                                                                                                                                                                                                                                                                                                                                                                                                                                                                                                                                                                                                                                                                                                                                                                                                                                                                                                                                                                                                                                                                                                                                                                                                                                                                                                                                                                                                                                                                                                                                                                                                                                                                                                                                                                                                                                                                                                                                                                                                                                                                                                                                                                                                                                                                                                                                                                                                                                                                                                                                                                                                                                                                                                                                                                                                                                                                                                                                                                                                                                                                                                                                                                                                                                                                                                                                                                                                                                                                                                                                                                                                                                                                                                                                                                                                                                                                                                                                                                                                                             1\n",
       "different language                                                                                                                                                                                                                                                                                                                                                                                                                                                                                                                                                                                                                                                                                                                                                                                                                                                                                                                                                                                                                                                                                                                                                                                                                                                                                                                                                                                                                                                                                                                                                                                                                                                                                                                                                                                                                                                                                                                                                                                                                                                                                                                                                                                                                                                                                                                                                                                                                                                                                                                                                                                                                                                                                                                                                                                                                                                                                                                                                                                                                                                                                                                                                                                                                                                                                                                                                                                                                                                                                                                                                                                                                                                                                                                                                                                                                                                                                                                                                                                                                                                                                                                                                                                                                                                                                                                                                                                                                                                                                                                                                                                                                                                                                                                                                                                                                                                                                                                                                                                                                                                                                                                                                                                                                                                                                                                                                                                                                                                                                                                                                                                                                                                                                                                                                                                                                                                                                                                                                                                                                                                                                                                                                                                                                                                                                                                                                                                                                                                                                                                                                                                                                                                                                                                                                                                                                                                                                 1\n",
       "clojure starter battery included starter pack participating www using clojure project us lein technomancy leiningen usage namespaces input file example input file test lein task fill test example write implementation fill final problem input lein task run lein run p clojure n defn part part input input defn part part input input clojure n coretest require clojure test refer deftest testing refer part part clojure java io refer resource deftest part let expected nil expected part slurp resource dayexample txt deftest part let expected nil expected part slurp resource dayexample txt installation bash clone git clone gitgithub comusername git cd reinitialize git repo rm rf git git init                                                                                                                                                                                                                                                                                                                                                                                                                                                                                                                                                                                                                                                                                                                                                                                                                                                                                                                                                                                                                                                                                                                                                                                                                                                                                                                                                                                                                                                                                                                                                                                                                                                                                                                                                                                                                                                                                                                                                                                                                                                                                                                                                                                                                                                                                                                                                                                                                                                                                                                                                                                                                                                                                                                                                                                                                                                                                                                                                                                                                                                                                                                                                                                                                                                                                                                                                                                                                                                                                                                                                                                                                                                                                                                                                                                                                                                                                                                                                                                                                                                                                                                                                                                                                                                                                                                                                                                                                                                                                                                                                                                                                                                                                                                                                                                                                                                                                                                                                                                                                                                                                                                                                                                                                                                                                                                                                                                                                                                                                                                                                                                                                                                                                                                                                                                                                                                                                                                                                                                                                                                                                                                                                                                1\n",
       "written streaming justforfunc twitch channel www twitch tv justforfunclive question feel free send issue ask directly twitter francesc twitter francesc big shoutout eric wastl twitter ericwastl amazing series problem                                                                                                                                                                                                                                                                                                                                                                                                                                                                                                                                                                                                                                                                                                                                                                                                                                                                                                                                                                                                                                                                                                                                                                                                                                                                                                                                                                                                                                                                                                                                                                                                                                                                                                                                                                                                                                                                                                                                                                                                                                                                                                                                                                                                                                                                                                                                                                                                                                                                                                                                                                                                                                                                                                                                                                                                                                                                                                                                                                                                                                                                                                                                                                                                                                                                                                                                                                                                                                                                                                                                                                                                                                                                                                                                                                                                                                                                                                                                                                                                                                                                                                                                                                                                                                                                                                                                                                                                                                                                                                                                                                                                                                                                                                                                                                                                                                                                                                                                                                                                                                                                                                                                                                                                                                                                                                                                                                                                                                                                                                                                                                                                                                                                                                                                                                                                                                                                                                                                                                                                                                                                                                                                                                                                                                                                                                                                                                                                                                                                                                                                                                                                                                                                           1\n",
       "ill updating repository reasonml built using bucklescript check reasonml quick start guide reasonml io guide javascript quickstart installing tool chain want build change project source file common utility data structure found utils want try build project yarn build run command yarn solve part test input starting node repl node let require dayfour b undefined part test input test located test directory automatically generated using functor based case binding found module test run automatically compiling editor use vscode press window shift b build automatically                                                                                                                                                                                                                                                                                                                                                                                                                                                                                                                                                                                                                                                                                                                                                                                                                                                                                                                                                                                                                                                                                                                                                                                                                                                                                                                                                                                                                                                                                                                                                                                                                                                                                                                                                                                                                                                                                                                                                                                                                                                                                                                                                                                                                                                                                                                                                                                                                                                                                                                                                                                                                                                                                                                                                                                                                                                                                                                                                                                                                                                                                                                                                                                                                                                                                                                                                                                                                                                                                                                                                                                                                                                                                                                                                                                                                                                                                                                                                                                                                                                                                                                                                                                                                                                                                                                                                                                                                                                                                                                                                                                                                                                                                                                                                                                                                                                                                                                                                                                                                                                                                                                                                                                                                                                                                                                                                                                                                                                                                                                                                                                                                                                                                                                                                                                                                                                                                                                                                                                                                                                                                                                                                                                                                                                                                                            1\n",
       "wonderful time year haskell along automated fetching testing running environment powered adventofcodeapi library interactive development environment runner bench marker viewer tester ha pulled dev implemented fork reflection check reflection commentary package haddock haddock individual link haddock io adventofcodeapi hackage haskell org package adventofcodeapi dev adventofcodedev reflection benchmark reflection reflection dr dg rendered dh benchmark db reflection dr dg rendered dh benchmark db reflection dr dg rendered dh benchmark db reflection dr dg rendered dh benchmark db reflection dr dg rendered dh benchmark db reflection dr dg rendered dh benchmark db reflection dr dg rendered dh benchmark db reflection dr dg rendered dh benchmark db reflection dr dg rendered dh benchmark db reflection dr dg rendered dh benchmark db reflection dr dg rendered dh benchmark db reflection dr dg rendered dh benchmark db reflection dr dg rendered dh benchmark db reflection dr dg rendered dh reflection dg rendered dh reflection dr dg rendered dh benchmark db reflection dg rendered dh reflection dg rendered dh reflection dg rendered dh reflection dr dg rendered dh benchmark db reflection dg rendered dh reflection dg rendered dh reflection dg rendered dh reflection dg rendered dh rendered link go haddock source render reflection documentation haddock source render hyperlinked identifier follow unrecognized identifier see defined library reflection reflection md type youre looking actual youll notice thattthis year im implementing term record type haskell data b mksol sparse string maybe parse input ssolve maybe b solve input b sshow b string print b submission b challenge expecting input type producing answer type b also pack function parse string function show b string submit answer help mentally separate parsing solving showing allowing cleaner easier time planning challenge run string input feeding string sparse ssolve sshow haskell run input retuning maybe runsolution challenge string maybe string runsolution mksol x sparse ssolve x pure sshow actual library runsolution return either debug stage error happened might also notice function dyno used like dyno limit implement parameter problem vary test data actual input example involved finding point total distance le test input found point total distance le system let write dyno limit instead hardcoding would replaced running test data parsed file btest btest testdata b txt interactive run interactive interactive module ha powered adventofcodeapi testing submitting within ghci dont recompile edit program automatically updated hit r ghci interactive io aocruninteractive html haskell ghci execsolution mkcs get answer challenge based ghci testsolution mkcs run test suite ghci viewprompt mkcs view prompt part ghci waitforprompt mkcs count prompt part ghci submitsolution mkcs submit loaded session key stored configuration file see next section executable come test example given problem install using stack bash git clone cd stack setup stack install executable includes testing benchmark suite well way view prompt within command line help challenge runner usage cconfig path command run challenge available available option cconfig path path configuration file default aocconf yaml hhelp show help text available command run run test benchmark challenge view view prompt given challenge submit test submit answer challenge test alias run test bench alias run bench countdown alias view countdown run b b supply input via stdin stdin run stdin ctrld b benchmarking implemented using criterion bench benchmarking time r r r mean std dev variance introduced outlier severely inflated b benchmarking time r r r mean std dev test suite run example problem given puzzle description output colorized ansi terminal test passed test b passed test work youre running project directory run actual input executable expects input found folder data xx txt directory running input expected data txt download missing input file requires session token provided aocconf yaml yaml session session token go session key also required download part prompt challenge lock current answer telling executable correct answer passing lock lock final puzzle encountered verified official answer later edit modify checked lockedin answer stored data xxpart txt target output part b expected data b txt also manually edit file view prompt use countdown count prompt released display immediately view b b part two amidst chaos notice exactly one claim doesnt overlap even single square inch fabric claim somehow draw attention maybe elf able make santa suit example claim claim intact claim made id claim doesnt overlap also submit answer submit submission automatically run test suite test fail asked confirm submission else abort submit command output result submission message website whether answer wa correct invalid ignored answer confirmed correct locked saved future testing case change networking feature powered adventofcodeapi dg challenge h dh io challenge html dr reflection mdday db reflection mddaybenchmarks dg challenge h dh io challenge html dr reflection mdday db reflection mddaybenchmarks dg challenge h dh io challenge html dr reflection mdday db reflection mddaybenchmarks dg challenge h dh io challenge html dr reflection mdday db reflection mddaybenchmarks dg challenge h dh io challenge html dr reflection mdday db reflection mddaybenchmarks dg challenge h dh io challenge html dr reflection mdday db reflection mddaybenchmarks dg challenge h dh io challenge html dr reflection mdday db reflection mddaybenchmarks dg challenge h dh io challenge html dr reflection mdday db reflection mddaybenchmarks dg challenge h dh io challenge html dr reflection mdday db reflection mddaybenchmarks dg challenge h dh io challenge html dr reflection mdday db reflection mddaybenchmarks dg challenge h dh io challenge html dr reflection mdday db reflection mddaybenchmarks dg challenge h dh io challenge html dr reflection mdday db reflection mddaybenchmarks dg challenge h dh io challenge html dr reflection mdday db reflection mddaybenchmarks dg challenge h dh io challenge html dr reflection mdday dg challenge h dh io challenge html dg challenge h dh io challenge html dr reflection mdday db reflection mddaybenchmarks dg challenge h dh io challenge html dg challenge h dh io challenge html dg challenge h dh io challenge html dg challenge h dh io challenge html dr reflection mdday db reflection mddaybenchmarks dg challenge h dh io challenge html dg challenge h dh io challenge html dg challenge h dh io challenge html dg challenge h dh io challenge html    1\n",
       "build status travisci org svgbranchmaster travisci org mit license img shield io badge licensemitblue opensource org license mit adrienne style online event created eric wastl twitter ericwastl year starting dec st calendar small programming puzzle unlocked midnight est utc developer skill set encouraged solve programming language choose story weve detected temporal anomaly one santa elf temporal anomaly research detection instrument station tell sounded pretty worried called year interval past someone ha changing santa history good news change wont propagate time stream another device attache something wrist let fix change propagation delay configured send year past every wa best could short notice bad news detecting roughly fifty anomaly throughout time device indicate fixed anomaly star bad news one device youre best person job good lu tap button device suddenly feel like youre falling save christmas need get fifty star december th collect star solving puzzle two puzzle made available calendar second puzzle unlocked complete first puzzle grant one star good luck part one part two chronal calibration tree daychronalcalibration inventory management system tree dayinventorymanagementsystem inventory management system tree daynomatterhowyousliceit repose record tree dayreposerecord alchemical reduction tree dayalchemicalreduction chronal coordinate tree daychronalcoordinates sum part tree daythesumofitsparts progress memory maneuver tree daymemorymaneuver progress started running test contains set test run type npm test let connect adrienne tacke instagram www instagram adrienne tacke medium medium adrienne tacke twitter twitter                                                                                                                                                                                                                                                                                                                                                                                                                                                                                                                                                                                                                                                                                                                                                                                                                                                                                                                                                                                                                                                                                                                                                                                                                                                                                                                                                                                                                                                                                                                                                                                                                                                                                                                                                                                                                                                                                                                                                                                                                                                                                                                                                                                                                                                                                                                                                                                                                                                                                                                                                                                                                                                                                                                                                                                                                                                                                                                                                                                                                                                                                                                                                                                                                                                                                                                                                                                                                                                                                                                                                                                                                                                                                                                                                                                                                                                                                                                                                                                                                                                                                                                                                                                                                                                                                                                                                                                                                                                                                                                                                                                                                                                                                                                                                                                                                                                                                                                                                                                                                                                                                                                                                                            1\n",
       "try challenge merry christmas yall also resuce santa learn something                                                                                                                                                                                                                                                                                                                                                                                                                                                                                                                                                                                                                                                                                                                                                                                                                                                                                                                                                                                                                                                                                                                                                                                                                                                                                                                                                                                                                                                                                                                                                                                                                                                                                                                                                                                                                                                                                                                                                                                                                                                                                                                                                                                                                                                                                                                                                                                                                                                                                                                                                                                                                                                                                                                                                                                                                                                                                                                                                                                                                                                                                                                                                                                                                                                                                                                                                                                                                                                                                                                                                                                                                                                                                                                                                                                                                                                                                                                                                                                                                                                                                                                                                                                                                                                                                                                                                                                                                                                                                                                                                                                                                                                                                                                                                                                                                                                                                                                                                                                                                                                                                                                                                                                                                                                                                                                                                                                                                                                                                                                                                                                                                                                                                                                                                                                                                                                                                                                                                                                                                                                                                                                                                                                                                                                                                                                                                                                                                                                                                                                                                                                                                                                                                                                                                                                                                               1\n",
       "basic csharp program retrieving puzzle input go creating instance created run net core built easily visual studio visual studio build run dotnet build dotnet run configuration config c config json program c assumes root folder contains config json file pass path config c deserialized config object json look le like following cookie sessioncntnt valid cookie content required retrieve puzzle input asolution loadinput year simple int value representing year pull puzzle used folder navigation puzzle input retrieval int representing collect resolve config json exists one created automatically empty string cookie value                                                                                                                                                                                                                                                                                                                                                                                                                                                                                                                                                                                                                                                                                                                                                                                                                                                                                                                                                                                                                                                                                                                                                                                                                                                                                                                                                                                                                                                                                                                                                                                                                                                                                                                                                                                                                                                                                                                                                                                                                                                                                                                                                                                                                                                                                                                                                                                                                                                                                                                                                                                                                                                                                                                                                                                                                                                                                                                                                                                                                                                                                                                                                                                                                                                                                                                                                                                                                                                                                                                                                                                                                                                                                                                                                                                                                                                                                                                                                                                                                                                                                                                                                                                                                                                                                                                                                                                                                                                                                                                                                                                                                                                                                                                                                                                                                                                                                                                                                                                                                                                                                                                                                                                                                                                                                                                                                                                                                                                                                                                                                                                                                                                                                                                                                                                                                                                                                                                                                                                                                                                                                                                                                                                                                                                       1\n",
       "img shield io license last commit img shield io lastcommit javascript                                                                                                                                                                                                                                                                                                                                                                                                                                                                                                                                                                                                                                                                                                                                                                                                                                                                                                                                                                                                                                                                                                                                                                                                                                                                                                                                                                                                                                                                                                                                                                                                                                                                                                                                                                                                                                                                                                                                                                                                                                                                                                                                                                                                                                                                                                                                                                                                                                                                                                                                                                                                                                                                                                                                                                                                                                                                                                                                                                                                                                                                                                                                                                                                                                                                                                                                                                                                                                                                                                                                                                                                                                                                                                                                                                                                                                                                                                                                                                                                                                                                                                                                                                                                                                                                                                                                                                                                                                                                                                                                                                                                                                                                                                                                                                                                                                                                                                                                                                                                                                                                                                                                                                                                                                                                                                                                                                                                                                                                                                                                                                                                                                                                                                                                                                                                                                                                                                                                                                                                                                                                                                                                                                                                                                                                                                                                                                                                                                                                                                                                                                                                                                                                                                                                                                                                                              1\n",
       "haskell little optimised tidiness rather speed writing case ive codegolfed performance elegance interest learning new tool technique usage stack www haskellstack org installed stack setup stack build stack exec daynum daynum number one                                                                                                                                                                                                                                                                                                                                                                                                                                                                                                                                                                                                                                                                                                                                                                                                                                                                                                                                                                                                                                                                                                                                                                                                                                                                                                                                                                                                                                                                                                                                                                                                                                                                                                                                                                                                                                                                                                                                                                                                                                                                                                                                                                                                                                                                                                                                                                                                                                                                                                                                                                                                                                                                                                                                                                                                                                                                                                                                                                                                                                                                                                                                                                                                                                                                                                                                                                                                                                                                                                                                                                                                                                                                                                                                                                                                                                                                                                                                                                                                                                                                                                                                                                                                                                                                                                                                                                                                                                                                                                                                                                                                                                                                                                                                                                                                                                                                                                                                                                                                                                                                                                                                                                                                                                                                                                                                                                                                                                                                                                                                                                                                                                                                                                                                                                                                                                                                                                                                                                                                                                                                                                                                                                                                                                                                                                                                                                                                                                                                                                                                                                                                                                                        1\n",
       "haskell im building haskell using cabalinstall www haskell org cabal usersguide make sure youre using uptodate version tool get best vbuild support cabal vbuild project also built using stack doc haskellstack org en stable readme thats available stack setup necessary first time use resolver stack build language ill adding cplusplus rust problem well find information relevant subdirectory                                                                                                                                                                                                                                                                                                                                                                                                                                                                                                                                                                                                                                                                                                                                                                                                                                                                                                                                                                                                                                                                                                                                                                                                                                                                                                                                                                                                                                                                                                                                                                                                                                                                                                                                                                                                                                                                                                                                                                                                                                                                                                                                                                                                                                                                                                                                                                                                                                                                                                                                                                                                                                                                                                                                                                                                                                                                                                                                                                                                                                                                                                                                                                                                                                                                                                                                                                                                                                                                                                                                                                                                                                                                                                                                                                                                                                                                                                                                                                                                                                                                                                                                                                                                                                                                                                                                                                                                                                                                                                                                                                                                                                                                                                                                                                                                                                                                                                                                                                                                                                                                                                                                                                                                                                                                                                                                                                                                                                                                                                                                                                                                                                                                                                                                                                                                                                                                                                                                                                                                                                                                                                                                                                                                                                                                                                                                                                                                                                                                                             1\n",
       "nond mine taken anonymous posting minor modification usually rewrite fun example crystal cr nicelooking decentlyperforming crystal accompanying dcrystal exact style crystal ada missing added later                                                                                                                                                                                                                                                                                                                                                                                                                                                                                                                                                                                                                                                                                                                                                                                                                                                                                                                                                                                                                                                                                                                                                                                                                                                                                                                                                                                                                                                                                                                                                                                                                                                                                                                                                                                                                                                                                                                                                                                                                                                                                                                                                                                                                                                                                                                                                                                                                                                                                                                                                                                                                                                                                                                                                                                                                                                                                                                                                                                                                                                                                                                                                                                                                                                                                                                                                                                                                                                                                                                                                                                                                                                                                                                                                                                                                                                                                                                                                                                                                                                                                                                                                                                                                                                                                                                                                                                                                                                                                                                                                                                                                                                                                                                                                                                                                                                                                                                                                                                                                                                                                                                                                                                                                                                                                                                                                                                                                                                                                                                                                                                                                                                                                                                                                                                                                                                                                                                                                                                                                                                                                                                                                                                                                                                                                                                                                                                                                                                                                                                                                                                                                                                                                               1\n",
       "repository contains folder contains task input given task solve given task given input please note task description website couldve changed since added repository clarify certain passage                                                                                                                                                                                                                                                                                                                                                                                                                                                                                                                                                                                                                                                                                                                                                                                                                                                                                                                                                                                                                                                                                                                                                                                                                                                                                                                                                                                                                                                                                                                                                                                                                                                                                                                                                                                                                                                                                                                                                                                                                                                                                                                                                                                                                                                                                                                                                                                                                                                                                                                                                                                                                                                                                                                                                                                                                                                                                                                                                                                                                                                                                                                                                                                                                                                                                                                                                                                                                                                                                                                                                                                                                                                                                                                                                                                                                                                                                                                                                                                                                                                                                                                                                                                                                                                                                                                                                                                                                                                                                                                                                                                                                                                                                                                                                                                                                                                                                                                                                                                                                                                                                                                                                                                                                                                                                                                                                                                                                                                                                                                                                                                                                                                                                                                                                                                                                                                                                                                                                                                                                                                                                                                                                                                                                                                                                                                                                                                                                                                                                                                                                                                                                                                                                                         1\n",
       "practice fun thank eric wa tl name python c inverse captcha heavycheckmark py corruption checksum heavycheckmark py spiral memory heavycheckmark py highentropy passphrases heavycheckmark py maze twisty trampoline alike heavycheckmark py memory reallocation heavycheckmark py recursive circus heavycheckmark py heard like register heavycheckmark py stream processing heavycheckmark py knot hash heavycheckmark py hex ed heavycheckmark py digital plumber heavycheckmark py packet scanner heavycheckmark py disk defragmentation heavycheckmark py dueling generator heavycheckmark py heavycheckmark c permutation promenade heavycheckmark py spinlock heavycheckmark py duet heavycheckmark py series tube heavycheckmark py particle swarm heavycheckmark py fractal art heavycheckmark py sporifica virus heavycheckmark py coprocessor conflagration heavycheckmark py electromagnetic moat heavycheckmark py halting problem heavycheckmark py py py py py py py py py py py py py py py py py py py py py py py py py py py py py py py py py py py py py py py py py py py py py py py py py py py c c                                                                                                                                                                                                                                                                                                                                                                                                                                                                                                                                                                                                                                                                                                                                                                                                                                                                                                                                                                                                                                                                                                                                                                                                                                                                                                                                                                                                                                                                                                                                                                                                                                                                                                                                                                                                                                                                                                                                                                                                                                                                                                                                                                                                                                                                                                                                                                                                                                                                                                                                                                                                                                                                                                                                                                                                                                                                                                                                                                                                                                                                                                                                                                                                                                                                                                                                                                                                                                                                                                                                                                                                                                                                                                                                                                                                                                                                                                                                                                                                                                                                                                                                                                                                                                                                                                                                                                                                                                                                                                                                                                                                                                                                                                                                                                                                                                                                                                                                                                                                                                                                                                                                                                                                                                                                                                                                                                                                                                                                                                                                                                                                                                                                                                                                                                        1\n",
       "im participating edition nice little puzzle game developer consists solving couple christmasrelated programming puzzle doesnt matter language youre choosing long get warmly suggest give try get input puzzle youll log site get source ill add input txt file directory sample input work youre getting input browser window game site open developer tool choice set j let input document body textcontent warned though every executed browser console meant run node j repository previous edition spoiler alert im publishing online directory also contain text puzzle merely meant reference comparison see trick im using eventually discus improvement new idea still havent found wish due spoiler alert                                                                                                                                                                                                                                                                                                                                                                                                                                                                                                                                                                                                                                                                                                                                                                                                                                                                                                                                                                                                                                                                                                                                                                                                                                                                                                                                                                                                                                                                                                                                                                                                                                                                                                                                                                                                                                                                                                                                                                                                                                                                                                                                                                                                                                                                                                                                                                                                                                                                                                                                                                                                                                                                                                                                                                                                                                                                                                                                                                                                                                                                                                                                                                                                                                                                                                                                                                                                                                                                                                                                                                                                                                                                                                                                                                                                                                                                                                                                                                                                                                                                                                                                                                                                                                                                                                                                                                                                                                                                                                                                                                                                                                                                                                                                                                                                                                                                                                                                                                                                                                                                                                                                                                                                                                                                                                                                                                                                                                                                                                                                                                                                                                                                                                                                                                                                                                                                                                                                                                                                                                                                                                                                                                                1\n",
       "img shield io license last commit img shield io lastcommit java                                                                                                                                                                                                                                                                                                                                                                                                                                                                                                                                                                                                                                                                                                                                                                                                                                                                                                                                                                                                                                                                                                                                                                                                                                                                                                                                                                                                                                                                                                                                                                                                                                                                                                                                                                                                                                                                                                                                                                                                                                                                                                                                                                                                                                                                                                                                                                                                                                                                                                                                                                                                                                                                                                                                                                                                                                                                                                                                                                                                                                                                                                                                                                                                                                                                                                                                                                                                                                                                                                                                                                                                                                                                                                                                                                                                                                                                                                                                                                                                                                                                                                                                                                                                                                                                                                                                                                                                                                                                                                                                                                                                                                                                                                                                                                                                                                                                                                                                                                                                                                                                                                                                                                                                                                                                                                                                                                                                                                                                                                                                                                                                                                                                                                                                                                                                                                                                                                                                                                                                                                                                                                                                                                                                                                                                                                                                                                                                                                                                                                                                                                                                                                                                                                                                                                                                                                    1\n",
       "kotlin license img shield io license mashape apistatus repo personal attempt solving set problem kotlin programming language trying solve posted clear idiomatic mean case sacrifice performance clear also trying write blog todd ginsberg see index link post index title link inverse captcha blog post todd ginsberg post main kotlin ginsberg kt corruption checksum blog post todd ginsberg post main kotlin ginsberg kt spiral memory blog post todd ginsberg post main kotlin ginsberg kt highentropy passphrases blog post todd ginsberg post main kotlin ginsberg kt maze twisty trampoline alike blog post todd ginsberg post main kotlin ginsberg kt memory reallocation blog post todd ginsberg post main kotlin ginsberg kt recursive circus blog post todd ginsberg post main kotlin ginsberg kt heard like register blog post todd ginsberg post main kotlin ginsberg kt stream processing blog post todd ginsberg post main kotlin ginsberg kt knot hash blog post todd ginsberg post main kotlin ginsberg kt hex ed blog post todd ginsberg post main kotlin ginsberg kt digital plumber blog post todd ginsberg post main kotlin ginsberg kt packet scanner blog post todd ginsberg post main kotlin ginsberg kt disk defragmentation blog post todd ginsberg post main kotlin ginsberg kt dueling generator blog post todd ginsberg post main kotlin ginsberg kt permutation promenade blog post todd ginsberg post main kotlin ginsberg kt spinlock blog post todd ginsberg post main kotlin ginsberg kt duet blog post todd ginsberg post main kotlin ginsberg kt duet part using coroutines main kotlin ginsberg daycoroutines kt series tube blog post todd ginsberg post main kotlin ginsberg kt particle swarm blog post todd ginsberg post main kotlin ginsberg kt fractal art blog post todd ginsberg post main kotlin ginsberg kt sporifica virus blog post todd ginsberg post main kotlin ginsberg kt coprocessor conflagration blog post todd ginsberg post main kotlin ginsberg kt electromagnetic moat blog post todd ginsberg post main kotlin ginsberg kt halting problem blog post todd ginsberg post main kotlin ginsberg kt copyright copy todd ginsberg                                                                                                                                                                                                                                                                                                                                                                                                                                                                                                                                                                                                                                                                                                                                                                                                                                                                                                                                                                                                                                                                                                                                                                                                                                                                                                                                                                                                                                                                                                                                                                                                                                                                                                                                                                                                                                                                                                                                                                                                                                                                                                                                                                                                                                                                                                                                                                                                                                                                                                                                                                                                                                                                                                                                                                                                                                                                                                                                                                                                                                                                                                                                                                                                                                                                                                                                                                                                                                                                                                                                                                                                                                                                                                                                                                                                                                                                                                                                                                                                                                                                                                                                                                                                                                                                                                                                                                                                                                                                                                                                                                                                                                                                                                     1\n",
       "j javascript ci status workflow nodeci badge action completion progress img shield io static vlabelprogressmessage coloryellow run test run test provided example additionally run ci every commit npm npm test                                                                                                                                                                                                                                                                                                                                                                                                                                                                                                                                                                                                                                                                                                                                                                                                                                                                                                                                                                                                                                                                                                                                                                                                                                                                                                                                                                                                                                                                                                                                                                                                                                                                                                                                                                                                                                                                                                                                                                                                                                                                                                                                                                                                                                                                                                                                                                                                                                                                                                                                                                                                                                                                                                                                                                                                                                                                                                                                                                                                                                                                                                                                                                                                                                                                                                                                                                                                                                                                                                                                                                                                                                                                                                                                                                                                                                                                                                                                                                                                                                                                                                                                                                                                                                                                                                                                                                                                                                                                                                                                                                                                                                                                                                                                                                                                                                                                                                                                                                                                                                                                                                                                                                                                                                                                                                                                                                                                                                                                                                                                                                                                                                                                                                                                                                                                                                                                                                                                                                                                                                                                                                                                                                                                                                                                                                                                                                                                                                                                                                                                                                                                                                                                                    1\n",
       "collection personal meant quick dirty youre searching elegance efficiency isnt repository javascript numbered challenge index want run first directly run node j directory project im running node v license gnu general public license v                                                                                                                                                                                                                                                                                                                                                                                                                                                                                                                                                                                                                                                                                                                                                                                                                                                                                                                                                                                                                                                                                                                                                                                                                                                                                                                                                                                                                                                                                                                                                                                                                                                                                                                                                                                                                                                                                                                                                                                                                                                                                                                                                                                                                                                                                                                                                                                                                                                                                                                                                                                                                                                                                                                                                                                                                                                                                                                                                                                                                                                                                                                                                                                                                                                                                                                                                                                                                                                                                                                                                                                                                                                                                                                                                                                                                                                                                                                                                                                                                                                                                                                                                                                                                                                                                                                                                                                                                                                                                                                                                                                                                                                                                                                                                                                                                                                                                                                                                                                                                                                                                                                                                                                                                                                                                                                                                                                                                                                                                                                                                                                                                                                                                                                                                                                                                                                                                                                                                                                                                                                                                                                                                                                                                                                                                                                                                                                                                                                                                                                                                                                                                                                          1\n",
       "tdd php repo contains contain example solve challenge using php following tdd methodology using phpspec welcome use way see fit intention learning see example developed live please see youtube channel www youtube user due time required record video since didnt know project likely repo video least behind log try please go thank eric wastl ericwastl twitter ericwastl creating challenge design decision purpose repo example help people learn tdd php mean design may fastest efficient clever description problem sound like simulation sort ill likely building simulation even though may take memory time optimized procedural instance first puzzle could solved text editor find functionality couple regular expression initial repository content start repo contains composer json composer lock runner php composer file used install phpspec set autoloader dont need write bunch requireonce bit runner php script load puzzle specific execute output command line class namespaced puzzle puzzle class set class input invoke result output runner script execute phpspec im planning using framework component plain php end following along question comment please feel free open issue ill try respond quickly video playlist www youtube playlistlistplhvwnszrejzgqojrusgtjcpk www youtube playlistlistplhvwnszrejzgqojrusgtjcpk puzzle www youtube watchvjzunnjdvi www youtube watchvjzunnjdvi puzzle www youtube watchvgeehckk www youtube watchvgeehckk puzzle www youtube watchvjrbvrqrjy www youtube watchvjrbvrqrjy puzzle www youtube watchvhwilyvk www youtube watchvhwilyvk puzzle www youtube watchvhocmepxc www youtube watchvhocmepxc puzzle www youtube watchvcnsgclgacpu www youtube watchvcnsgclgacpu puzzle www youtube watchvoysnktrdi www youtube watchvoysnktrdi puzzle www youtube watchvrtnwgxmjwa www youtube watchvrtnwgxmjwafeatureyoutu puzzle www youtube watchvhxgqkntntc www youtube watchvhxgqkntntc puzzle www youtube watchvizznonw www youtube watchvizznonw puzzle www youtube watchvqlknhfega www youtube watchvqlknhfega puzzle www youtube watchvqlhelorww www youtube watchvqlhelorww puzzle www youtube watchvgqybtafea www youtube watchvgqybtafea puzzle www youtube watchvvvqjlsnfg www youtube watchvvvqjlsnfg                                                                                                                                                                                                                                                                                                                                                                                                                                                                                                                                                                                                                                                                                                                                                                                                                                                                                                                                                                                                                                                                                                                                                                                                                                                                                                                                                                                                                                                                                                                                                                                                                                                                                                                                                                                                                                                                                                                                                                                                                                                                                                                                                                                                                                                                                                                                                                                                                                                                                                                                                                                                                                                                                                                                                                                                                                                                                                                                                                                                                                                                                                                                                                                                                                                                                                                                                                                                                                                                                                                                                                                                                                                                                                                                                                                                                                                                                                                                                                                                                                                                                                                                                                                                                                                                                                                                                                                                                                                                                                                                                                                                            1\n",
       "csharp problem check demo gif dependency project based net core work window linux x anglesharp used problem download running run project install net core clone repo get help dotnet run usage dotnet run argument supported argument year daylastall solve specified problem year solve whole year last solve last problem solve everything start working new problem login copy session cookie export console like export sessionaeaabefcaeaeabfbdacaabbebfdebada run app update year prepares folder given update input readme creates template update last current work december                                                                                                                                                                                                                                                                                                                                                                                                                                                                                                                                                                                                                                                                                                                                                                                                                                                                                                                                                                                                                                                                                                                                                                                                                                                                                                                                                                                                                                                                                                                                                                                                                                                                                                                                                                                                                                                                                                                                                                                                                                                                                                                                                                                                                                                                                                                                                                                                                                                                                                                                                                                                                                                                                                                                                                                                                                                                                                                                                                                                                                                                                                                                                                                                                                                                                                                                                                                                                                                                                                                                                                                                                                                                                                                                                                                                                                                                                                                                                                                                                                                                                                                                                                                                                                                                                                                                                                                                                                                                                                                                                                                                                                                                                                                                                                                                                                                                                                                                                                                                                                                                                                                                                                                                                                                                                                                                                                                                                                                                                                                                                                                                                                                                                                                                                                                                                                                                                                                                                                                                                                                                                                                                                                                                                                                                                                               1\n",
       "private leaderboard tool simmonmt utils dumpleaderboard go google boulder leaderboard leaderboard private view catawiki leaderboard leaderboard private view globalfinal globalstats pngrawtrue                                                                                                                                                                                                                                                                                                                                                                                                                                                                                                                                                                                                                                                                                                                                                                                                                                                                                                                                                                                                                                                                                                                                                                                                                                                                                                                                                                                                                                                                                                                                                                                                                                                                                                                                                                                                                                                                                                                                                                                                                                                                                                                                                                                                                                                                                                                                                                                                                                                                                                                                                                                                                                                                                                                                                                                                                                                                                                                                                                                                                                                                                                                                                                                                                                                                                                                                                                                                                                                                                                                                                                                                                                                                                                                                                                                                                                                                                                                                                                                                                                                                                                                                                                                                                                                                                                                                                                                                                                                                                                                                                                                                                                                                                                                                                                                                                                                                                                                                                                                                                                                                                                                                                                                                                                                                                                                                                                                                                                                                                                                                                                                                                                                                                                                                                                                                                                                                                                                                                                                                                                                                                                                                                                                                                                                                                                                                                                                                                                                                                                                                                                                                                                                                                                    1\n",
       "Name: prepped, Length: 274, dtype: int64"
      ]
     },
     "execution_count": 23,
     "metadata": {},
     "output_type": "execute_result"
    }
   ],
   "source": [
    "mask = df.prepped != ''\n",
    "df = df[mask]\n",
    "df.prepped.value_counts()"
   ]
  },
  {
   "cell_type": "markdown",
   "metadata": {},
   "source": [
    "# Explore"
   ]
  },
  {
   "cell_type": "markdown",
   "metadata": {},
   "source": [
    "[Top](#Github-NLP-Project)"
   ]
  },
  {
   "cell_type": "code",
   "execution_count": 24,
   "metadata": {},
   "outputs": [],
   "source": [
    "# isolate language and prepped columns by dropping other columns\n",
    "df = df.drop(columns={'author','language_all','readme','repo','normalized', 'stemmed', 'lemmatized','repo_full'})"
   ]
  },
  {
   "cell_type": "code",
   "execution_count": 25,
   "metadata": {},
   "outputs": [
    {
     "data": {
      "text/html": [
       "<div>\n",
       "<style scoped>\n",
       "    .dataframe tbody tr th:only-of-type {\n",
       "        vertical-align: middle;\n",
       "    }\n",
       "\n",
       "    .dataframe tbody tr th {\n",
       "        vertical-align: top;\n",
       "    }\n",
       "\n",
       "    .dataframe thead th {\n",
       "        text-align: right;\n",
       "    }\n",
       "</style>\n",
       "<table border=\"1\" class=\"dataframe\">\n",
       "  <thead>\n",
       "    <tr style=\"text-align: right;\">\n",
       "      <th></th>\n",
       "      <th>language</th>\n",
       "      <th>prepped</th>\n",
       "    </tr>\n",
       "  </thead>\n",
       "  <tbody>\n",
       "    <tr>\n",
       "      <th>0</th>\n",
       "      <td>Python</td>\n",
       "      <td>usernames run repl repl badge repl daynamesolu...</td>\n",
       "    </tr>\n",
       "    <tr>\n",
       "      <th>1</th>\n",
       "      <td>Haskell</td>\n",
       "      <td>im probably gonna problem im gonna pretend lik...</td>\n",
       "    </tr>\n",
       "    <tr>\n",
       "      <th>10</th>\n",
       "      <td>TypeScript</td>\n",
       "      <td>build status travisci svgbranchmaster travisci...</td>\n",
       "    </tr>\n",
       "    <tr>\n",
       "      <th>100</th>\n",
       "      <td>Python</td>\n",
       "      <td>santa christmastree gift problem might write s...</td>\n",
       "    </tr>\n",
       "    <tr>\n",
       "      <th>101</th>\n",
       "      <td>Swift</td>\n",
       "      <td>fifth installment creating package ive prepare...</td>\n",
       "    </tr>\n",
       "  </tbody>\n",
       "</table>\n",
       "</div>"
      ],
      "text/plain": [
       "       language                                            prepped\n",
       "0        Python  usernames run repl repl badge repl daynamesolu...\n",
       "1       Haskell  im probably gonna problem im gonna pretend lik...\n",
       "10   TypeScript  build status travisci svgbranchmaster travisci...\n",
       "100      Python  santa christmastree gift problem might write s...\n",
       "101       Swift  fifth installment creating package ive prepare..."
      ]
     },
     "execution_count": 25,
     "metadata": {},
     "output_type": "execute_result"
    }
   ],
   "source": [
    "df.head()"
   ]
  },
  {
   "cell_type": "markdown",
   "metadata": {},
   "source": [
    "### How many repos of each language exist?"
   ]
  },
  {
   "cell_type": "code",
   "execution_count": 26,
   "metadata": {},
   "outputs": [
    {
     "data": {
      "text/plain": [
       "Python              39\n",
       "JavaScript          35\n",
       "Haskell             25\n",
       "Rust                19\n",
       "Clojure             15\n",
       "Go                  14\n",
       "Java                13\n",
       "Kotlin              12\n",
       "Ruby                10\n",
       "C#                  10\n",
       "Elixir               9\n",
       "Scala                8\n",
       "C++                  8\n",
       "R                    7\n",
       "OCaml                5\n",
       "Jupyter Notebook     4\n",
       "TypeScript           4\n",
       "C                    3\n",
       "PHP                  3\n",
       "Pony                 2\n",
       "HTML                 2\n",
       "F#                   2\n",
       "Elm                  2\n",
       "Swift                2\n",
       "Perl                 2\n",
       "Scheme               2\n",
       "Julia                2\n",
       "Crystal              2\n",
       "Haxe                 1\n",
       "Ada                  1\n",
       "Nim                  1\n",
       "Racket               1\n",
       "Eiffel               1\n",
       "Dart                 1\n",
       "Coq                  1\n",
       "PureScript           1\n",
       "Mathematica          1\n",
       "Shell                1\n",
       "D                    1\n",
       "Reason               1\n",
       "PowerShell           1\n",
       "Erlang               1\n",
       "Smalltalk            1\n",
       "TSQL                 1\n",
       "APL                  1\n",
       "Name: language, dtype: int64"
      ]
     },
     "execution_count": 26,
     "metadata": {},
     "output_type": "execute_result"
    }
   ],
   "source": [
    "df.language.value_counts(normalize=False)"
   ]
  },
  {
   "cell_type": "markdown",
   "metadata": {},
   "source": [
    "### What percentage is this?"
   ]
  },
  {
   "cell_type": "code",
   "execution_count": 27,
   "metadata": {},
   "outputs": [
    {
     "data": {
      "text/plain": [
       "Python              0.140288\n",
       "JavaScript          0.125899\n",
       "Haskell             0.089928\n",
       "Rust                0.068345\n",
       "Clojure             0.053957\n",
       "Go                  0.050360\n",
       "Java                0.046763\n",
       "Kotlin              0.043165\n",
       "Ruby                0.035971\n",
       "C#                  0.035971\n",
       "Elixir              0.032374\n",
       "Scala               0.028777\n",
       "C++                 0.028777\n",
       "R                   0.025180\n",
       "OCaml               0.017986\n",
       "Jupyter Notebook    0.014388\n",
       "TypeScript          0.014388\n",
       "C                   0.010791\n",
       "PHP                 0.010791\n",
       "Pony                0.007194\n",
       "HTML                0.007194\n",
       "F#                  0.007194\n",
       "Elm                 0.007194\n",
       "Swift               0.007194\n",
       "Perl                0.007194\n",
       "Scheme              0.007194\n",
       "Julia               0.007194\n",
       "Crystal             0.007194\n",
       "Haxe                0.003597\n",
       "Ada                 0.003597\n",
       "Nim                 0.003597\n",
       "Racket              0.003597\n",
       "Eiffel              0.003597\n",
       "Dart                0.003597\n",
       "Coq                 0.003597\n",
       "PureScript          0.003597\n",
       "Mathematica         0.003597\n",
       "Shell               0.003597\n",
       "D                   0.003597\n",
       "Reason              0.003597\n",
       "PowerShell          0.003597\n",
       "Erlang              0.003597\n",
       "Smalltalk           0.003597\n",
       "TSQL                0.003597\n",
       "APL                 0.003597\n",
       "Name: language, dtype: float64"
      ]
     },
     "execution_count": 27,
     "metadata": {},
     "output_type": "execute_result"
    }
   ],
   "source": [
    "df.language.value_counts(normalize=True)"
   ]
  },
  {
   "cell_type": "markdown",
   "metadata": {},
   "source": [
    "### What are the most common words in READMEs?"
   ]
  },
  {
   "cell_type": "code",
   "execution_count": 28,
   "metadata": {},
   "outputs": [],
   "source": [
    "# get all text as a string\n",
    "all_text = \" \".join(df.prepped)\n",
    "# convert to a list of words\n",
    "all_words = all_text.split()"
   ]
  },
  {
   "cell_type": "code",
   "execution_count": 29,
   "metadata": {},
   "outputs": [
    {
     "data": {
      "text/plain": [
       "main              385\n",
       "run               378\n",
       "scala             327\n",
       "input             317\n",
       "part              292\n",
       "hpp               288\n",
       "problem           278\n",
       "py                248\n",
       "puzzle            232\n",
       "year              231\n",
       "test              210\n",
       "io                194\n",
       "r                 188\n",
       "cpp               180\n",
       "challenge         172\n",
       "nim               170\n",
       "reflection        164\n",
       "post              161\n",
       "heavycheckmark    159\n",
       "include           157\n",
       "file              157\n",
       "tree              149\n",
       "python            141\n",
       "md                135\n",
       "ginsberg          130\n",
       "using             125\n",
       "rb                123\n",
       "www               123\n",
       "f                 121\n",
       "x                 118\n",
       "dtype: int64"
      ]
     },
     "execution_count": 29,
     "metadata": {},
     "output_type": "execute_result"
    }
   ],
   "source": [
    "raw_count = pd.Series(all_words).value_counts()\n",
    "# top 30 words\n",
    "raw_count.head(30)"
   ]
  },
  {
   "cell_type": "code",
   "execution_count": 30,
   "metadata": {},
   "outputs": [
    {
     "data": {
      "text/plain": [
       "Text(0.5, 1.0, '25 Most Common Words')"
      ]
     },
     "execution_count": 30,
     "metadata": {},
     "output_type": "execute_result"
    },
    {
     "data": {
      "image/png": "[encoded data removed]",
      "text/plain": [
       "<Figure size 432x288 with 1 Axes>"
      ]
     },
     "metadata": {
      "needs_background": "light"
     },
     "output_type": "display_data"
    }
   ],
   "source": [
    "raw_count.sort_values(ascending=False)[0:25].plot.barh(width=.9)\n",
    "plt.title('25 Most Common Words')"
   ]
  },
  {
   "cell_type": "markdown",
   "metadata": {},
   "source": [
    "### How does this look for popular languages?"
   ]
  },
  {
   "cell_type": "markdown",
   "metadata": {},
   "source": [
    "#### Python"
   ]
  },
  {
   "cell_type": "code",
   "execution_count": 31,
   "metadata": {},
   "outputs": [],
   "source": [
    "python_text = \" \".join(df[df.language == \"Python\"].prepped)\n",
    "python_words = python_text.split()"
   ]
  },
  {
   "cell_type": "code",
   "execution_count": 32,
   "metadata": {},
   "outputs": [
    {
     "data": {
      "text/plain": [
       "py                163\n",
       "python             56\n",
       "part               47\n",
       "run                39\n",
       "hand               35\n",
       "puzzle             33\n",
       "model              33\n",
       "image              30\n",
       "tensorflow         29\n",
       "input              29\n",
       "training           28\n",
       "p                  28\n",
       "heavycheckmark     26\n",
       "dataset            23\n",
       "repo               23\n",
       "dtype: int64"
      ]
     },
     "execution_count": 32,
     "metadata": {},
     "output_type": "execute_result"
    }
   ],
   "source": [
    "python_count = pd.Series(python_words).value_counts()\n",
    "python_count.head(15)"
   ]
  },
  {
   "cell_type": "code",
   "execution_count": 33,
   "metadata": {},
   "outputs": [
    {
     "data": {
      "text/plain": [
       "Text(0.5, 1.0, 'Python 10 Most Common Words')"
      ]
     },
     "execution_count": 33,
     "metadata": {},
     "output_type": "execute_result"
    },
    {
     "data": {
      "image/png": "[encoded data removed]",
      "text/plain": [
       "<Figure size 432x288 with 1 Axes>"
      ]
     },
     "metadata": {
      "needs_background": "light"
     },
     "output_type": "display_data"
    }
   ],
   "source": [
    "python_count.sort_values(ascending=False)[0:10].plot.barh(width=.9)\n",
    "plt.title('Python 10 Most Common Words')"
   ]
  },
  {
   "cell_type": "markdown",
   "metadata": {},
   "source": [
    "#### Haskell"
   ]
  },
  {
   "cell_type": "code",
   "execution_count": 34,
   "metadata": {},
   "outputs": [],
   "source": [
    "haskell_text = \" \".join(df[df.language == \"Haskell\"].prepped)\n",
    "haskell_words = haskell_text.split()"
   ]
  },
  {
   "cell_type": "code",
   "execution_count": 35,
   "metadata": {},
   "outputs": [
    {
     "data": {
      "text/plain": [
       "reflection         164\n",
       "db                  96\n",
       "dr                  91\n",
       "challenge           89\n",
       "h                   66\n",
       "dh                  64\n",
       "dg                  64\n",
       "benchmark           52\n",
       "dc                  50\n",
       "mdday               49\n",
       "mddaybenchmarks     48\n",
       "haskell             47\n",
       "b                   44\n",
       "test                43\n",
       "run                 38\n",
       "dtype: int64"
      ]
     },
     "execution_count": 35,
     "metadata": {},
     "output_type": "execute_result"
    }
   ],
   "source": [
    "haskell_count = pd.Series(haskell_words).value_counts()\n",
    "haskell_count.head(15)"
   ]
  },
  {
   "cell_type": "code",
   "execution_count": 36,
   "metadata": {},
   "outputs": [
    {
     "data": {
      "text/plain": [
       "Text(0.5, 1.0, 'Haskell 10 Most Common Words')"
      ]
     },
     "execution_count": 36,
     "metadata": {},
     "output_type": "execute_result"
    },
    {
     "data": {
      "image/png": "[encoded data removed]",
      "text/plain": [
       "<Figure size 432x288 with 1 Axes>"
      ]
     },
     "metadata": {
      "needs_background": "light"
     },
     "output_type": "display_data"
    }
   ],
   "source": [
    "haskell_count.sort_values(ascending=False)[0:10].plot.barh(width=.9)\n",
    "plt.title('Haskell 10 Most Common Words')"
   ]
  },
  {
   "cell_type": "markdown",
   "metadata": {},
   "source": [
    "#### JavaScript"
   ]
  },
  {
   "cell_type": "code",
   "execution_count": 37,
   "metadata": {},
   "outputs": [],
   "source": [
    "javascript_text = \" \".join(df[df.language == \"JavaScript\"].prepped)\n",
    "javascript_words = javascript_text.split()"
   ]
  },
  {
   "cell_type": "code",
   "execution_count": 38,
   "metadata": {},
   "outputs": [
    {
     "data": {
      "text/plain": [
       "run                64\n",
       "j                  59\n",
       "star               49\n",
       "puzzle             48\n",
       "npm                41\n",
       "part               40\n",
       "index              38\n",
       "test               36\n",
       "year               34\n",
       "input              33\n",
       "simulation         27\n",
       "net                26\n",
       "post               26\n",
       "node               25\n",
       "adventofcodeday    25\n",
       "dtype: int64"
      ]
     },
     "execution_count": 38,
     "metadata": {},
     "output_type": "execute_result"
    }
   ],
   "source": [
    "javascript_count = pd.Series(javascript_words).value_counts()\n",
    "javascript_count.head(15)"
   ]
  },
  {
   "cell_type": "code",
   "execution_count": 39,
   "metadata": {},
   "outputs": [
    {
     "data": {
      "text/plain": [
       "Text(0.5, 1.0, 'JavaScript 10 most common words')"
      ]
     },
     "execution_count": 39,
     "metadata": {},
     "output_type": "execute_result"
    },
    {
     "data": {
      "image/png": "[encoded data removed]",
      "text/plain": [
       "<Figure size 432x288 with 1 Axes>"
      ]
     },
     "metadata": {
      "needs_background": "light"
     },
     "output_type": "display_data"
    }
   ],
   "source": [
    "javascript_count.sort_values(ascending=False)[0:10].plot.barh(width=.9)\n",
    "plt.title('JavaScript 10 most common words')"
   ]
  },
  {
   "cell_type": "markdown",
   "metadata": {},
   "source": [
    "#### Rust"
   ]
  },
  {
   "cell_type": "code",
   "execution_count": 40,
   "metadata": {},
   "outputs": [],
   "source": [
    "rust_text = \" \".join(df[df.language == \"Rust\"].prepped)\n",
    "rust_words = rust_text.split()"
   ]
  },
  {
   "cell_type": "code",
   "execution_count": 41,
   "metadata": {},
   "outputs": [
    {
     "data": {
      "text/plain": [
       "r               105\n",
       "target           56\n",
       "reddit           50\n",
       "cargo            47\n",
       "input            44\n",
       "rust             39\n",
       "run              38\n",
       "twitter          30\n",
       "b                29\n",
       "www              29\n",
       "comment          28\n",
       "daysolutions     25\n",
       "main             24\n",
       "part             21\n",
       "x                20\n",
       "dtype: int64"
      ]
     },
     "execution_count": 41,
     "metadata": {},
     "output_type": "execute_result"
    }
   ],
   "source": [
    "rust_count = pd.Series(rust_words).value_counts()\n",
    "rust_count.head(15)"
   ]
  },
  {
   "cell_type": "code",
   "execution_count": 42,
   "metadata": {},
   "outputs": [
    {
     "data": {
      "text/plain": [
       "Text(0.5, 1.0, 'Rust 10 Most Common Words')"
      ]
     },
     "execution_count": 42,
     "metadata": {},
     "output_type": "execute_result"
    },
    {
     "data": {
      "image/png": "[encoded data removed]",
      "text/plain": [
       "<Figure size 432x288 with 1 Axes>"
      ]
     },
     "metadata": {
      "needs_background": "light"
     },
     "output_type": "display_data"
    }
   ],
   "source": [
    "rust_count.sort_values(ascending=False)[0:10].plot.barh(width=.9)\n",
    "plt.title('Rust 10 Most Common Words')"
   ]
  },
  {
   "cell_type": "markdown",
   "metadata": {},
   "source": [
    "#### Clojure"
   ]
  },
  {
   "cell_type": "code",
   "execution_count": 43,
   "metadata": {},
   "outputs": [],
   "source": [
    "clojure_text = \" \".join(df[df.language == \"Clojure\"].prepped)\n",
    "clojure_words = clojure_text.split()"
   ]
  },
  {
   "cell_type": "code",
   "execution_count": 44,
   "metadata": {},
   "outputs": [
    {
     "data": {
      "text/plain": [
       "clj         66\n",
       "clojure     41\n",
       "test        20\n",
       "run         18\n",
       "input       13\n",
       "script      13\n",
       "part        11\n",
       "one          9\n",
       "tree         8\n",
       "py           8\n",
       "problem      7\n",
       "year         7\n",
       "license      7\n",
       "python       7\n",
       "circleci     7\n",
       "dtype: int64"
      ]
     },
     "execution_count": 44,
     "metadata": {},
     "output_type": "execute_result"
    }
   ],
   "source": [
    "clojure_count = pd.Series(clojure_words).value_counts()\n",
    "clojure_count.head(15)"
   ]
  },
  {
   "cell_type": "code",
   "execution_count": 45,
   "metadata": {},
   "outputs": [
    {
     "data": {
      "text/plain": [
       "Text(0.5, 1.0, 'Clojure 10 most common words')"
      ]
     },
     "execution_count": 45,
     "metadata": {},
     "output_type": "execute_result"
    },
    {
     "data": {
      "image/png": "[encoded data removed]",
      "text/plain": [
       "<Figure size 432x288 with 1 Axes>"
      ]
     },
     "metadata": {
      "needs_background": "light"
     },
     "output_type": "display_data"
    }
   ],
   "source": [
    "clojure_count.sort_values(ascending=False)[0:10].plot.barh(width=.9)\n",
    "plt.title('Clojure 10 most common words')"
   ]
  },
  {
   "cell_type": "markdown",
   "metadata": {},
   "source": [
    "#### Java"
   ]
  },
  {
   "cell_type": "code",
   "execution_count": 46,
   "metadata": {},
   "outputs": [],
   "source": [
    "java_text = \" \".join(df[df.language == \"Java\"].prepped)\n",
    "java_words = java_text.split()"
   ]
  },
  {
   "cell_type": "code",
   "execution_count": 47,
   "metadata": {},
   "outputs": [
    {
     "data": {
      "text/plain": [
       "java         48\n",
       "problem      33\n",
       "tree         26\n",
       "statement    25\n",
       "run          23\n",
       "input        21\n",
       "main         17\n",
       "language     14\n",
       "sbaars       12\n",
       "shield       11\n",
       "img          11\n",
       "io           11\n",
       "part         10\n",
       "badge         9\n",
       "file          8\n",
       "dtype: int64"
      ]
     },
     "execution_count": 47,
     "metadata": {},
     "output_type": "execute_result"
    }
   ],
   "source": [
    "java_count = pd.Series(java_words).value_counts()\n",
    "java_count.head(15)"
   ]
  },
  {
   "cell_type": "code",
   "execution_count": 48,
   "metadata": {},
   "outputs": [
    {
     "data": {
      "text/plain": [
       "Text(0.5, 1.0, 'Java 10 most common words')"
      ]
     },
     "execution_count": 48,
     "metadata": {},
     "output_type": "execute_result"
    },
    {
     "data": {
      "image/png": "[encoded data removed]",
      "text/plain": [
       "<Figure size 432x288 with 1 Axes>"
      ]
     },
     "metadata": {
      "needs_background": "light"
     },
     "output_type": "display_data"
    }
   ],
   "source": [
    "java_count.sort_values(ascending=False)[0:10].plot.barh(width=.9)\n",
    "plt.title('Java 10 most common words')"
   ]
  },
  {
   "cell_type": "markdown",
   "metadata": {},
   "source": [
    "### Does the length of the README vary by programming language?"
   ]
  },
  {
   "cell_type": "code",
   "execution_count": null,
   "metadata": {},
   "outputs": [],
   "source": []
  },
  {
   "cell_type": "markdown",
   "metadata": {},
   "source": [
    "### Do different programming languages use a different number of unique words?"
   ]
  },
  {
   "cell_type": "code",
   "execution_count": null,
   "metadata": {},
   "outputs": [],
   "source": []
  },
  {
   "cell_type": "markdown",
   "metadata": {},
   "source": [
    "# Model"
   ]
  },
  {
   "cell_type": "markdown",
   "metadata": {},
   "source": [
    "[Top](#Github-NLP-Project)"
   ]
  },
  {
   "cell_type": "markdown",
   "metadata": {},
   "source": [
    "Here we will look at the raw count, term frequency (tf), and inverse document frequency (idf). Then we will use that information to create models. We will train several different models and pick the best one. We will test the best model and evaluate the results. "
   ]
  },
  {
   "cell_type": "code",
   "execution_count": 49,
   "metadata": {},
   "outputs": [
    {
     "data": {
      "text/html": [
       "<div>\n",
       "<style scoped>\n",
       "    .dataframe tbody tr th:only-of-type {\n",
       "        vertical-align: middle;\n",
       "    }\n",
       "\n",
       "    .dataframe tbody tr th {\n",
       "        vertical-align: top;\n",
       "    }\n",
       "\n",
       "    .dataframe thead th {\n",
       "        text-align: right;\n",
       "    }\n",
       "</style>\n",
       "<table border=\"1\" class=\"dataframe\">\n",
       "  <thead>\n",
       "    <tr style=\"text-align: right;\">\n",
       "      <th></th>\n",
       "      <th>raw_count</th>\n",
       "      <th>term_frequency</th>\n",
       "    </tr>\n",
       "  </thead>\n",
       "  <tbody>\n",
       "    <tr>\n",
       "      <th>main</th>\n",
       "      <td>385</td>\n",
       "      <td>0.012584</td>\n",
       "    </tr>\n",
       "    <tr>\n",
       "      <th>run</th>\n",
       "      <td>378</td>\n",
       "      <td>0.012355</td>\n",
       "    </tr>\n",
       "    <tr>\n",
       "      <th>scala</th>\n",
       "      <td>327</td>\n",
       "      <td>0.010688</td>\n",
       "    </tr>\n",
       "    <tr>\n",
       "      <th>input</th>\n",
       "      <td>317</td>\n",
       "      <td>0.010361</td>\n",
       "    </tr>\n",
       "    <tr>\n",
       "      <th>part</th>\n",
       "      <td>292</td>\n",
       "      <td>0.009544</td>\n",
       "    </tr>\n",
       "  </tbody>\n",
       "</table>\n",
       "</div>"
      ],
      "text/plain": [
       "       raw_count  term_frequency\n",
       "main         385        0.012584\n",
       "run          378        0.012355\n",
       "scala        327        0.010688\n",
       "input        317        0.010361\n",
       "part         292        0.009544"
      ]
     },
     "execution_count": 49,
     "metadata": {},
     "output_type": "execute_result"
    }
   ],
   "source": [
    "# Create a data frame with raw count and tf\n",
    "tf_df = pd.DataFrame({'raw_count': raw_count})\n",
    "tf_df = tf_df.assign(term_frequency = lambda df: df.raw_count / df.raw_count.sum())\n",
    "tf_df.raw_count.max()\n",
    "tf_df.head()"
   ]
  },
  {
   "cell_type": "code",
   "execution_count": 50,
   "metadata": {},
   "outputs": [],
   "source": [
    "# Create a function that takes in a word and returns the idf of that word\n",
    "def idf(word):\n",
    "    n_occurrences = sum([1 for doc in df.prepped if word in doc])\n",
    "    n_docs = len(df.prepped)\n",
    "    idf = np.log(n_docs/n_occurrences)\n",
    "    return idf"
   ]
  },
  {
   "cell_type": "code",
   "execution_count": 51,
   "metadata": {},
   "outputs": [
    {
     "data": {
      "text/plain": [
       "4483"
      ]
     },
     "execution_count": 51,
     "metadata": {},
     "output_type": "execute_result"
    }
   ],
   "source": [
    "# Create a list of unique words\n",
    "unique_words = pd.Series(' '.join(df.prepped).split()).unique()\n",
    "len(unique_words)"
   ]
  },
  {
   "cell_type": "code",
   "execution_count": 52,
   "metadata": {},
   "outputs": [
    {
     "data": {
      "text/html": [
       "<div>\n",
       "<style scoped>\n",
       "    .dataframe tbody tr th:only-of-type {\n",
       "        vertical-align: middle;\n",
       "    }\n",
       "\n",
       "    .dataframe tbody tr th {\n",
       "        vertical-align: top;\n",
       "    }\n",
       "\n",
       "    .dataframe thead th {\n",
       "        text-align: right;\n",
       "    }\n",
       "</style>\n",
       "<table border=\"1\" class=\"dataframe\">\n",
       "  <thead>\n",
       "    <tr style=\"text-align: right;\">\n",
       "      <th></th>\n",
       "      <th>idf</th>\n",
       "    </tr>\n",
       "    <tr>\n",
       "      <th>word</th>\n",
       "      <th></th>\n",
       "    </tr>\n",
       "  </thead>\n",
       "  <tbody>\n",
       "    <tr>\n",
       "      <th>wip</th>\n",
       "      <td>5.627621</td>\n",
       "    </tr>\n",
       "    <tr>\n",
       "      <th>detectorutils</th>\n",
       "      <td>5.627621</td>\n",
       "    </tr>\n",
       "    <tr>\n",
       "      <th>commonly</th>\n",
       "      <td>5.627621</td>\n",
       "    </tr>\n",
       "    <tr>\n",
       "      <th>precision</th>\n",
       "      <td>5.627621</td>\n",
       "    </tr>\n",
       "    <tr>\n",
       "      <th>summarize</th>\n",
       "      <td>5.627621</td>\n",
       "    </tr>\n",
       "    <tr>\n",
       "      <th>precisionrecall</th>\n",
       "      <td>5.627621</td>\n",
       "    </tr>\n",
       "    <tr>\n",
       "      <th>curve</th>\n",
       "      <td>5.627621</td>\n",
       "    </tr>\n",
       "    <tr>\n",
       "      <th>accuracy</th>\n",
       "      <td>5.627621</td>\n",
       "    </tr>\n",
       "    <tr>\n",
       "      <th>frozeninferencegraph</th>\n",
       "      <td>5.627621</td>\n",
       "    </tr>\n",
       "    <tr>\n",
       "      <th>referenced</th>\n",
       "      <td>5.627621</td>\n",
       "    </tr>\n",
       "    <tr>\n",
       "      <th>handinferencegraph</th>\n",
       "      <td>5.627621</td>\n",
       "    </tr>\n",
       "    <tr>\n",
       "      <th>cloning</th>\n",
       "      <td>5.627621</td>\n",
       "    </tr>\n",
       "    <tr>\n",
       "      <th>loadinferencegraph</th>\n",
       "      <td>5.627621</td>\n",
       "    </tr>\n",
       "    <tr>\n",
       "      <th>meditationg</th>\n",
       "      <td>5.627621</td>\n",
       "    </tr>\n",
       "    <tr>\n",
       "      <th>detectiongraph</th>\n",
       "      <td>5.627621</td>\n",
       "    </tr>\n",
       "    <tr>\n",
       "      <th>asdefault</th>\n",
       "      <td>5.627621</td>\n",
       "    </tr>\n",
       "    <tr>\n",
       "      <th>odgraphdef</th>\n",
       "      <td>5.627621</td>\n",
       "    </tr>\n",
       "    <tr>\n",
       "      <th>graphdef</th>\n",
       "      <td>5.627621</td>\n",
       "    </tr>\n",
       "    <tr>\n",
       "      <th>gfile</th>\n",
       "      <td>5.627621</td>\n",
       "    </tr>\n",
       "    <tr>\n",
       "      <th>pathtockpt</th>\n",
       "      <td>5.627621</td>\n",
       "    </tr>\n",
       "    <tr>\n",
       "      <th>serializedgraph</th>\n",
       "      <td>5.627621</td>\n",
       "    </tr>\n",
       "    <tr>\n",
       "      <th>parsefromstring</th>\n",
       "      <td>5.627621</td>\n",
       "    </tr>\n",
       "    <tr>\n",
       "      <th>importgraphdef</th>\n",
       "      <td>5.627621</td>\n",
       "    </tr>\n",
       "    <tr>\n",
       "      <th>graphdetectiongraph</th>\n",
       "      <td>5.627621</td>\n",
       "    </tr>\n",
       "    <tr>\n",
       "      <th>performs</th>\n",
       "      <td>5.627621</td>\n",
       "    </tr>\n",
       "  </tbody>\n",
       "</table>\n",
       "</div>"
      ],
      "text/plain": [
       "                           idf\n",
       "word                          \n",
       "wip                   5.627621\n",
       "detectorutils         5.627621\n",
       "commonly              5.627621\n",
       "precision             5.627621\n",
       "summarize             5.627621\n",
       "precisionrecall       5.627621\n",
       "curve                 5.627621\n",
       "accuracy              5.627621\n",
       "frozeninferencegraph  5.627621\n",
       "referenced            5.627621\n",
       "handinferencegraph    5.627621\n",
       "cloning               5.627621\n",
       "loadinferencegraph    5.627621\n",
       "meditationg           5.627621\n",
       "detectiongraph        5.627621\n",
       "asdefault             5.627621\n",
       "odgraphdef            5.627621\n",
       "graphdef              5.627621\n",
       "gfile                 5.627621\n",
       "pathtockpt            5.627621\n",
       "serializedgraph       5.627621\n",
       "parsefromstring       5.627621\n",
       "importgraphdef        5.627621\n",
       "graphdetectiongraph   5.627621\n",
       "performs              5.627621"
      ]
     },
     "execution_count": 52,
     "metadata": {},
     "output_type": "execute_result"
    }
   ],
   "source": [
    "idf_df = pd.DataFrame(dict(word = unique_words))\n",
    "idf_df = idf_df.assign(idf = lambda df: df.word.apply(idf))\n",
    "idf_df = idf_df.set_index('word').sort_values(by='idf', ascending = False)\n",
    "idf_df.head(25)"
   ]
  },
  {
   "cell_type": "code",
   "execution_count": 53,
   "metadata": {},
   "outputs": [
    {
     "data": {
      "text/plain": [
       "Python              39\n",
       "JavaScript          35\n",
       "Haskell             25\n",
       "Rust                19\n",
       "Clojure             15\n",
       "Go                  14\n",
       "Java                13\n",
       "Kotlin              12\n",
       "Ruby                10\n",
       "C#                  10\n",
       "Elixir               9\n",
       "Scala                8\n",
       "C++                  8\n",
       "R                    7\n",
       "OCaml                5\n",
       "Jupyter Notebook     4\n",
       "TypeScript           4\n",
       "C                    3\n",
       "PHP                  3\n",
       "Pony                 2\n",
       "HTML                 2\n",
       "F#                   2\n",
       "Elm                  2\n",
       "Swift                2\n",
       "Perl                 2\n",
       "Scheme               2\n",
       "Julia                2\n",
       "Crystal              2\n",
       "Haxe                 1\n",
       "Ada                  1\n",
       "Nim                  1\n",
       "Racket               1\n",
       "Eiffel               1\n",
       "Dart                 1\n",
       "Coq                  1\n",
       "PureScript           1\n",
       "Mathematica          1\n",
       "Shell                1\n",
       "D                    1\n",
       "Reason               1\n",
       "PowerShell           1\n",
       "Erlang               1\n",
       "Smalltalk            1\n",
       "TSQL                 1\n",
       "APL                  1\n",
       "Name: language, dtype: int64"
      ]
     },
     "execution_count": 53,
     "metadata": {},
     "output_type": "execute_result"
    }
   ],
   "source": [
    "df.language.value_counts()"
   ]
  },
  {
   "cell_type": "markdown",
   "metadata": {},
   "source": [
    "#### It will not be realistic or benefitial to train and predict languages with a very small sample size. To accomodate for this, we create the label 'Other'. Other includes all languages that have less than 9 samples. This leaves us with the top 11 languages and the label Other for a total of 12 programming languages. "
   ]
  },
  {
   "cell_type": "code",
   "execution_count": 54,
   "metadata": {},
   "outputs": [],
   "source": [
    "df['language'] = df['language'].replace({'C++':'Other', 'Scala':'Other', 'OCaml':'Other','C':'Other', 'Elm':'Other', 'Pony':'Other', 'HTML':'Other', 'Perl':'Other','APL':'Other', 'Haxe':'Other', 'Racket':'Other', 'PureScript':'Other', 'Coq':'Other','F#':'Other', 'PHP':'Other', 'TSQL':'Other', 'Crystal':'Other', 'Nim':'Other', 'Shell':'Other', 'Eiffel':'Other', 'Mathematica':'Other', 'Swift':'Other', 'Reason':'Other', 'TypeScript':'Other', 'Jupyter Notebook':'Python', 'Scheme':'Other', 'Powershell':'Other', 'Julia':'Other', 'PowerShell':'Other', 'Ada':'Other', 'Erlang':'Other', 'Smalltalk':'Other', 'D':'Other', 'Dart':'Other', 'R':'Other'})"
   ]
  },
  {
   "cell_type": "code",
   "execution_count": 55,
   "metadata": {},
   "outputs": [
    {
     "data": {
      "text/plain": [
       "Other         73\n",
       "Python        43\n",
       "JavaScript    35\n",
       "Haskell       25\n",
       "Rust          19\n",
       "Clojure       15\n",
       "Go            14\n",
       "Java          13\n",
       "Kotlin        12\n",
       "C#            10\n",
       "Ruby          10\n",
       "Elixir         9\n",
       "Name: language, dtype: int64"
      ]
     },
     "execution_count": 55,
     "metadata": {},
     "output_type": "execute_result"
    }
   ],
   "source": [
    "df.language.value_counts()"
   ]
  },
  {
   "cell_type": "code",
   "execution_count": 56,
   "metadata": {},
   "outputs": [
    {
     "data": {
      "text/plain": [
       "278"
      ]
     },
     "execution_count": 56,
     "metadata": {},
     "output_type": "execute_result"
    }
   ],
   "source": [
    "sum(df.language.value_counts())"
   ]
  },
  {
   "cell_type": "markdown",
   "metadata": {},
   "source": [
    "## Split"
   ]
  },
  {
   "cell_type": "code",
   "execution_count": 57,
   "metadata": {},
   "outputs": [],
   "source": [
    "tfidf = TfidfVectorizer()\n",
    "X = tfidf.fit_transform(df.prepped)\n",
    "y = df.language\n",
    "\n",
    "# 80% train, 20% test\n",
    "X_train, X_test, y_train, y_test = train_test_split(X, y, stratify=y, test_size=.2)\n",
    "\n",
    "train = pd.DataFrame(dict(actual=y_train))\n",
    "test = pd.DataFrame(dict(actual=y_test))"
   ]
  },
  {
   "cell_type": "markdown",
   "metadata": {},
   "source": [
    "## Baseline: Predict Most Popular Language"
   ]
  },
  {
   "cell_type": "markdown",
   "metadata": {},
   "source": [
    "#### Baseline Accuracy: 26%"
   ]
  },
  {
   "cell_type": "markdown",
   "metadata": {},
   "source": [
    "Our data consists of 276 readme entries. Our most popular programming language is 'Other' with 73. If we were to guess Other for every language, we would be correct 26% of the time. Our final model must beat this baseline accuracy of 26%."
   ]
  },
  {
   "cell_type": "markdown",
   "metadata": {},
   "source": [
    "## Model 1: Logistic Regression"
   ]
  },
  {
   "cell_type": "code",
   "execution_count": 58,
   "metadata": {},
   "outputs": [],
   "source": [
    "lm = LogisticRegression().fit(X_train, y_train)\n",
    "train['logistic_regression_predicted'] = lm.predict(X_train)"
   ]
  },
  {
   "cell_type": "markdown",
   "metadata": {},
   "source": [
    "### Train Evaluation"
   ]
  },
  {
   "cell_type": "code",
   "execution_count": 59,
   "metadata": {},
   "outputs": [
    {
     "name": "stdout",
     "output_type": "stream",
     "text": [
      "Accuracy: 68.47%\n",
      "---\n",
      "Confusion Matrix\n",
      "actual                         C#  Clojure  Elixir  Go  Haskell  Java  \\\n",
      "logistic_regression_predicted                                           \n",
      "Clojure                         0        6       0   0        0     0   \n",
      "Go                              0        0       0   4        0     0   \n",
      "Haskell                         0        0       0   0       13     0   \n",
      "Java                            0        0       0   0        0     4   \n",
      "JavaScript                      0        0       0   1        0     0   \n",
      "Kotlin                          0        0       0   0        0     0   \n",
      "Other                           8        6       7   6        7     6   \n",
      "Python                          0        0       0   0        0     1   \n",
      "Ruby                            0        0       0   0        0     0   \n",
      "Rust                            0        0       0   0        0     0   \n",
      "\n",
      "actual                         JavaScript  Kotlin  Other  Python  Ruby  Rust  \n",
      "logistic_regression_predicted                                                 \n",
      "Clojure                                 0       0      0       0     0     0  \n",
      "Go                                      0       0      0       0     0     0  \n",
      "Haskell                                 0       0      0       0     0     0  \n",
      "Java                                    0       0      0       0     0     0  \n",
      "JavaScript                             21       0      0       0     0     0  \n",
      "Kotlin                                  0       3      0       0     0     0  \n",
      "Other                                   7       6     57       1     4     8  \n",
      "Python                                  0       1      1      33     0     0  \n",
      "Ruby                                    0       0      0       0     4     0  \n",
      "Rust                                    0       0      0       0     0     7  \n",
      "---\n",
      "              precision    recall  f1-score   support\n",
      "\n",
      "          C#       0.00      0.00      0.00         8\n",
      "     Clojure       1.00      0.50      0.67        12\n",
      "      Elixir       0.00      0.00      0.00         7\n",
      "          Go       1.00      0.36      0.53        11\n",
      "     Haskell       1.00      0.65      0.79        20\n",
      "        Java       1.00      0.36      0.53        11\n",
      "  JavaScript       0.95      0.75      0.84        28\n",
      "      Kotlin       1.00      0.30      0.46        10\n",
      "       Other       0.46      0.98      0.63        58\n",
      "      Python       0.92      0.97      0.94        34\n",
      "        Ruby       1.00      0.50      0.67         8\n",
      "        Rust       1.00      0.47      0.64        15\n",
      "\n",
      "    accuracy                           0.68       222\n",
      "   macro avg       0.78      0.49      0.56       222\n",
      "weighted avg       0.77      0.68      0.66       222\n",
      "\n"
     ]
    }
   ],
   "source": [
    "print('Accuracy: {:.2%}'.format(accuracy_score(train.actual, train.logistic_regression_predicted)))\n",
    "print('---')\n",
    "print('Confusion Matrix')\n",
    "print(pd.crosstab(train.logistic_regression_predicted, train.actual))\n",
    "print('---')\n",
    "print(classification_report(train.actual, train.logistic_regression_predicted))"
   ]
  },
  {
   "cell_type": "markdown",
   "metadata": {},
   "source": [
    "## Model 2: Decision Tree"
   ]
  },
  {
   "cell_type": "code",
   "execution_count": 60,
   "metadata": {},
   "outputs": [
    {
     "data": {
      "text/plain": [
       "DecisionTreeClassifier(class_weight=None, criterion='entropy', max_depth=9,\n",
       "                       max_features=None, max_leaf_nodes=None,\n",
       "                       min_impurity_decrease=0.0, min_impurity_split=None,\n",
       "                       min_samples_leaf=1, min_samples_split=2,\n",
       "                       min_weight_fraction_leaf=0.0, presort=False,\n",
       "                       random_state=123, splitter='best')"
      ]
     },
     "execution_count": 60,
     "metadata": {},
     "output_type": "execute_result"
    }
   ],
   "source": [
    "# Create\n",
    "tree = DecisionTreeClassifier(criterion='entropy', max_depth=9, random_state=123)\n",
    "# Fit\n",
    "tree.fit(X_train, y_train)"
   ]
  },
  {
   "cell_type": "code",
   "execution_count": 61,
   "metadata": {},
   "outputs": [],
   "source": [
    "# Predict\n",
    "train['decision_tree_predicted'] = tree.predict(X_train)"
   ]
  },
  {
   "cell_type": "markdown",
   "metadata": {},
   "source": [
    "### Train Evaluation"
   ]
  },
  {
   "cell_type": "code",
   "execution_count": 62,
   "metadata": {},
   "outputs": [
    {
     "name": "stdout",
     "output_type": "stream",
     "text": [
      "Accuracy: 68.47%\n",
      "---\n",
      "Confusion Matrix\n",
      "actual                   C#  Clojure  Elixir  Go  Haskell  Java  JavaScript  \\\n",
      "decision_tree_predicted                                                       \n",
      "C#                        1        0       0   0        0     0           0   \n",
      "Clojure                   0        9       0   0        0     0           0   \n",
      "Elixir                    0        0       7   0        0     0           0   \n",
      "Haskell                   0        0       0   0       10     0           0   \n",
      "Java                      0        0       0   0        0    10           0   \n",
      "JavaScript                0        0       0   0        0     0          14   \n",
      "Kotlin                    2        0       0   2        0     0           2   \n",
      "Other                     5        3       0   9       10     1          12   \n",
      "Python                    0        0       0   0        0     0           0   \n",
      "Ruby                      0        0       0   0        0     0           0   \n",
      "Rust                      0        0       0   0        0     0           0   \n",
      "\n",
      "actual                   Kotlin  Other  Python  Ruby  Rust  \n",
      "decision_tree_predicted                                     \n",
      "C#                            0      0       0     0     0  \n",
      "Clojure                       0      0       0     0     0  \n",
      "Elixir                        0      0       0     0     0  \n",
      "Haskell                       0      0       0     0     0  \n",
      "Java                          0      0       0     0     0  \n",
      "JavaScript                    0      0       0     0     0  \n",
      "Kotlin                        4      0       0     1     0  \n",
      "Other                         6     58      15     0     2  \n",
      "Python                        0      0      19     0     0  \n",
      "Ruby                          0      0       0     7     0  \n",
      "Rust                          0      0       0     0    13  \n",
      "---\n",
      "              precision    recall  f1-score   support\n",
      "\n",
      "          C#       1.00      0.12      0.22         8\n",
      "     Clojure       1.00      0.75      0.86        12\n",
      "      Elixir       1.00      1.00      1.00         7\n",
      "          Go       0.00      0.00      0.00        11\n",
      "     Haskell       1.00      0.50      0.67        20\n",
      "        Java       1.00      0.91      0.95        11\n",
      "  JavaScript       1.00      0.50      0.67        28\n",
      "      Kotlin       0.36      0.40      0.38        10\n",
      "       Other       0.48      1.00      0.65        58\n",
      "      Python       1.00      0.56      0.72        34\n",
      "        Ruby       1.00      0.88      0.93         8\n",
      "        Rust       1.00      0.87      0.93        15\n",
      "\n",
      "    accuracy                           0.68       222\n",
      "   macro avg       0.82      0.62      0.66       222\n",
      "weighted avg       0.79      0.68      0.67       222\n",
      "\n"
     ]
    }
   ],
   "source": [
    "print('Accuracy: {:.2%}'.format(accuracy_score(train.actual, train.decision_tree_predicted)))\n",
    "print('---')\n",
    "print('Confusion Matrix')\n",
    "print(pd.crosstab(train.decision_tree_predicted, train.actual))\n",
    "print('---')\n",
    "print(classification_report(train.actual, train.decision_tree_predicted))"
   ]
  },
  {
   "cell_type": "markdown",
   "metadata": {},
   "source": [
    "## Model 3: Random Forest"
   ]
  },
  {
   "cell_type": "code",
   "execution_count": 63,
   "metadata": {},
   "outputs": [
    {
     "data": {
      "text/plain": [
       "RandomForestClassifier(bootstrap=True, class_weight=None, criterion='gini',\n",
       "                       max_depth=9, max_features='auto', max_leaf_nodes=None,\n",
       "                       min_impurity_decrease=0.0, min_impurity_split=None,\n",
       "                       min_samples_leaf=3, min_samples_split=2,\n",
       "                       min_weight_fraction_leaf=0.0, n_estimators=10,\n",
       "                       n_jobs=None, oob_score=False, random_state=123,\n",
       "                       verbose=0, warm_start=False)"
      ]
     },
     "execution_count": 63,
     "metadata": {},
     "output_type": "execute_result"
    }
   ],
   "source": [
    "# Create\n",
    "rf = RandomForestClassifier(min_samples_leaf=3, max_depth=9, random_state=123)\n",
    "# Fit\n",
    "rf.fit(X_train, y_train)"
   ]
  },
  {
   "cell_type": "code",
   "execution_count": 64,
   "metadata": {},
   "outputs": [],
   "source": [
    "# Predict\n",
    "train['random_forest_predicted'] = rf.predict(X_train)"
   ]
  },
  {
   "cell_type": "markdown",
   "metadata": {},
   "source": [
    "### Train Evaluation"
   ]
  },
  {
   "cell_type": "code",
   "execution_count": 65,
   "metadata": {},
   "outputs": [
    {
     "name": "stdout",
     "output_type": "stream",
     "text": [
      "Accuracy: 52.70%\n",
      "---\n",
      "Confusion Matrix\n",
      "actual                   C#  Clojure  Elixir  Go  Haskell  Java  JavaScript  \\\n",
      "random_forest_predicted                                                       \n",
      "Clojure                   0        4       0   0        0     0           0   \n",
      "Elixir                    0        0       1   0        0     0           0   \n",
      "Haskell                   0        0       0   0        3     0           0   \n",
      "Java                      0        0       0   0        0     6           0   \n",
      "JavaScript                0        0       0   1        0     0          15   \n",
      "Kotlin                    0        0       0   0        0     0           0   \n",
      "Other                     7        8       6  10       17     4          12   \n",
      "Python                    1        0       0   0        0     1           1   \n",
      "Ruby                      0        0       0   0        0     0           0   \n",
      "Rust                      0        0       0   0        0     0           0   \n",
      "\n",
      "actual                   Kotlin  Other  Python  Ruby  Rust  \n",
      "random_forest_predicted                                     \n",
      "Clojure                       0      0       0     0     0  \n",
      "Elixir                        0      0       0     0     0  \n",
      "Haskell                       0      0       0     0     0  \n",
      "Java                          0      0       0     0     0  \n",
      "JavaScript                    2      1       0     1     0  \n",
      "Kotlin                        2      0       0     0     0  \n",
      "Other                         5     55      12     5     6  \n",
      "Python                        1      2      22     1     1  \n",
      "Ruby                          0      0       0     1     0  \n",
      "Rust                          0      0       0     0     8  \n",
      "---\n",
      "              precision    recall  f1-score   support\n",
      "\n",
      "          C#       0.00      0.00      0.00         8\n",
      "     Clojure       1.00      0.33      0.50        12\n",
      "      Elixir       1.00      0.14      0.25         7\n",
      "          Go       0.00      0.00      0.00        11\n",
      "     Haskell       1.00      0.15      0.26        20\n",
      "        Java       1.00      0.55      0.71        11\n",
      "  JavaScript       0.75      0.54      0.63        28\n",
      "      Kotlin       1.00      0.20      0.33        10\n",
      "       Other       0.37      0.95      0.54        58\n",
      "      Python       0.73      0.65      0.69        34\n",
      "        Ruby       1.00      0.12      0.22         8\n",
      "        Rust       1.00      0.53      0.70        15\n",
      "\n",
      "    accuracy                           0.53       222\n",
      "   macro avg       0.74      0.35      0.40       222\n",
      "weighted avg       0.68      0.53      0.49       222\n",
      "\n"
     ]
    }
   ],
   "source": [
    "print('Accuracy: {:.2%}'.format(accuracy_score(train.actual, train.random_forest_predicted)))\n",
    "print('---')\n",
    "print('Confusion Matrix')\n",
    "print(pd.crosstab(train.random_forest_predicted, train.actual))\n",
    "print('---')\n",
    "print(classification_report(train.actual, train.random_forest_predicted))"
   ]
  },
  {
   "cell_type": "markdown",
   "metadata": {},
   "source": [
    "## Model 4: K-Nearest Neighbors"
   ]
  },
  {
   "cell_type": "code",
   "execution_count": 66,
   "metadata": {},
   "outputs": [
    {
     "data": {
      "text/plain": [
       "KNeighborsClassifier(algorithm='auto', leaf_size=30, metric='minkowski',\n",
       "                     metric_params=None, n_jobs=None, n_neighbors=8, p=2,\n",
       "                     weights='uniform')"
      ]
     },
     "execution_count": 66,
     "metadata": {},
     "output_type": "execute_result"
    }
   ],
   "source": [
    "# Create\n",
    "knn=KNeighborsClassifier(n_neighbors=8,weights='uniform')\n",
    "# Fit\n",
    "knn.fit(X_train, y_train)"
   ]
  },
  {
   "cell_type": "code",
   "execution_count": 67,
   "metadata": {},
   "outputs": [],
   "source": [
    "# Predict\n",
    "train['knn_predicted'] = knn.predict(X_train)"
   ]
  },
  {
   "cell_type": "markdown",
   "metadata": {},
   "source": [
    "### Train Evaluation"
   ]
  },
  {
   "cell_type": "code",
   "execution_count": 68,
   "metadata": {},
   "outputs": [
    {
     "name": "stdout",
     "output_type": "stream",
     "text": [
      "Accuracy: 66.22%\n",
      "---\n",
      "Confusion Matrix\n",
      "actual         C#  Clojure  Elixir  Go  Haskell  Java  JavaScript  Kotlin  \\\n",
      "knn_predicted                                                               \n",
      "C#              2        0       0   0        1     0           0       0   \n",
      "Clojure         0       12       0   0        0     0           1       0   \n",
      "Elixir          0        0       5   0        0     0           0       0   \n",
      "Go              1        0       0   4        0     0           1       1   \n",
      "Haskell         1        0       0   1       13     0           0       0   \n",
      "Java            2        0       0   0        1     8           1       0   \n",
      "JavaScript      1        0       0   3        1     2          23       3   \n",
      "Kotlin          0        0       0   0        0     0           0       5   \n",
      "Other           1        0       0   2        3     0           2       1   \n",
      "Python          0        0       2   1        1     1           0       0   \n",
      "Ruby            0        0       0   0        0     0           0       0   \n",
      "Rust            0        0       0   0        0     0           0       0   \n",
      "\n",
      "actual         Other  Python  Ruby  Rust  \n",
      "knn_predicted                             \n",
      "C#                 1       0     0     0  \n",
      "Clojure            2       0     0     0  \n",
      "Elixir             0       2     0     0  \n",
      "Go                 3       1     1     1  \n",
      "Haskell            0       0     0     0  \n",
      "Java               3       0     1     0  \n",
      "JavaScript         9       3     0     1  \n",
      "Kotlin             0       0     0     0  \n",
      "Other             36       5     0     1  \n",
      "Python             3      23     2     0  \n",
      "Ruby               1       0     4     0  \n",
      "Rust               0       0     0    12  \n",
      "---\n",
      "              precision    recall  f1-score   support\n",
      "\n",
      "          C#       0.50      0.25      0.33         8\n",
      "     Clojure       0.80      1.00      0.89        12\n",
      "      Elixir       0.71      0.71      0.71         7\n",
      "          Go       0.31      0.36      0.33        11\n",
      "     Haskell       0.87      0.65      0.74        20\n",
      "        Java       0.50      0.73      0.59        11\n",
      "  JavaScript       0.50      0.82      0.62        28\n",
      "      Kotlin       1.00      0.50      0.67        10\n",
      "       Other       0.71      0.62      0.66        58\n",
      "      Python       0.70      0.68      0.69        34\n",
      "        Ruby       0.80      0.50      0.62         8\n",
      "        Rust       1.00      0.80      0.89        15\n",
      "\n",
      "    accuracy                           0.66       222\n",
      "   macro avg       0.70      0.64      0.65       222\n",
      "weighted avg       0.70      0.66      0.66       222\n",
      "\n"
     ]
    }
   ],
   "source": [
    "print('Accuracy: {:.2%}'.format(accuracy_score(train.actual, train.knn_predicted)))\n",
    "print('---')\n",
    "print('Confusion Matrix')\n",
    "print(pd.crosstab(train.knn_predicted, train.actual))\n",
    "print('---')\n",
    "print(classification_report(train.actual, train.knn_predicted))"
   ]
  },
  {
   "cell_type": "code",
   "execution_count": 69,
   "metadata": {},
   "outputs": [
    {
     "data": {
      "text/html": [
       "<div>\n",
       "<style scoped>\n",
       "    .dataframe tbody tr th:only-of-type {\n",
       "        vertical-align: middle;\n",
       "    }\n",
       "\n",
       "    .dataframe tbody tr th {\n",
       "        vertical-align: top;\n",
       "    }\n",
       "\n",
       "    .dataframe thead th {\n",
       "        text-align: right;\n",
       "    }\n",
       "</style>\n",
       "<table border=\"1\" class=\"dataframe\">\n",
       "  <thead>\n",
       "    <tr style=\"text-align: right;\">\n",
       "      <th></th>\n",
       "      <th>actual</th>\n",
       "      <th>logistic_regression_predicted</th>\n",
       "      <th>decision_tree_predicted</th>\n",
       "      <th>random_forest_predicted</th>\n",
       "      <th>knn_predicted</th>\n",
       "    </tr>\n",
       "  </thead>\n",
       "  <tbody>\n",
       "    <tr>\n",
       "      <th>167</th>\n",
       "      <td>Go</td>\n",
       "      <td>Go</td>\n",
       "      <td>Other</td>\n",
       "      <td>Other</td>\n",
       "      <td>Go</td>\n",
       "    </tr>\n",
       "    <tr>\n",
       "      <th>0</th>\n",
       "      <td>Python</td>\n",
       "      <td>Python</td>\n",
       "      <td>Other</td>\n",
       "      <td>Python</td>\n",
       "      <td>Python</td>\n",
       "    </tr>\n",
       "    <tr>\n",
       "      <th>13</th>\n",
       "      <td>Clojure</td>\n",
       "      <td>Clojure</td>\n",
       "      <td>Clojure</td>\n",
       "      <td>Clojure</td>\n",
       "      <td>Clojure</td>\n",
       "    </tr>\n",
       "    <tr>\n",
       "      <th>184</th>\n",
       "      <td>Go</td>\n",
       "      <td>Other</td>\n",
       "      <td>Other</td>\n",
       "      <td>Other</td>\n",
       "      <td>Other</td>\n",
       "    </tr>\n",
       "    <tr>\n",
       "      <th>266</th>\n",
       "      <td>Python</td>\n",
       "      <td>Python</td>\n",
       "      <td>Python</td>\n",
       "      <td>Python</td>\n",
       "      <td>Python</td>\n",
       "    </tr>\n",
       "  </tbody>\n",
       "</table>\n",
       "</div>"
      ],
      "text/plain": [
       "      actual logistic_regression_predicted decision_tree_predicted  \\\n",
       "167       Go                            Go                   Other   \n",
       "0     Python                        Python                   Other   \n",
       "13   Clojure                       Clojure                 Clojure   \n",
       "184       Go                         Other                   Other   \n",
       "266   Python                        Python                  Python   \n",
       "\n",
       "    random_forest_predicted knn_predicted  \n",
       "167                   Other            Go  \n",
       "0                    Python        Python  \n",
       "13                  Clojure       Clojure  \n",
       "184                   Other         Other  \n",
       "266                  Python        Python  "
      ]
     },
     "execution_count": 69,
     "metadata": {},
     "output_type": "execute_result"
    }
   ],
   "source": [
    "train.head()"
   ]
  },
  {
   "cell_type": "code",
   "execution_count": 70,
   "metadata": {},
   "outputs": [],
   "source": [
    "# Export csv file with train results and readme content for further evaluation\n",
    "df.join(train, how= 'inner').to_csv('datafiles/prepped_train_results.csv')"
   ]
  },
  {
   "cell_type": "markdown",
   "metadata": {},
   "source": [
    "## Testing our Best Model"
   ]
  },
  {
   "cell_type": "markdown",
   "metadata": {},
   "source": [
    "Our best perfoming model is the decision tree. Let's run our model on the test data to see how it does. \n"
   ]
  },
  {
   "cell_type": "code",
   "execution_count": 71,
   "metadata": {},
   "outputs": [
    {
     "data": {
      "text/plain": [
       "DecisionTreeClassifier(class_weight=None, criterion='entropy', max_depth=9,\n",
       "                       max_features=None, max_leaf_nodes=None,\n",
       "                       min_impurity_decrease=0.0, min_impurity_split=None,\n",
       "                       min_samples_leaf=1, min_samples_split=2,\n",
       "                       min_weight_fraction_leaf=0.0, presort=False,\n",
       "                       random_state=123, splitter='best')"
      ]
     },
     "execution_count": 71,
     "metadata": {},
     "output_type": "execute_result"
    }
   ],
   "source": [
    "# Create\n",
    "tree = DecisionTreeClassifier(criterion='entropy', max_depth=9, random_state=123)\n",
    "# Fit\n",
    "tree.fit(X_train, y_train)"
   ]
  },
  {
   "cell_type": "code",
   "execution_count": 72,
   "metadata": {},
   "outputs": [],
   "source": [
    "train = pd.DataFrame(dict(actual=y_train))\n",
    "test = pd.DataFrame(dict(actual=y_test))\n",
    "# Predict\n",
    "train['predicted'] = tree.predict(X_train)\n",
    "test['predicted'] = tree.predict(X_test)"
   ]
  },
  {
   "cell_type": "code",
   "execution_count": 73,
   "metadata": {},
   "outputs": [
    {
     "name": "stdout",
     "output_type": "stream",
     "text": [
      "Accuracy: 58.93%\n",
      "---\n",
      "Confusion Matrix\n",
      "actual      C#  Clojure  Elixir  Go  Haskell  Java  JavaScript  Kotlin  Other  \\\n",
      "predicted                                                                       \n",
      "Clojure      0        2       0   0        0     0           0       0      0   \n",
      "Elixir       0        0       2   0        0     0           0       0      0   \n",
      "Haskell      0        0       0   0        2     0           0       0      0   \n",
      "Java         0        0       0   0        0     2           0       0      0   \n",
      "JavaScript   0        0       0   0        0     0           2       0      1   \n",
      "Kotlin       0        0       0   1        1     0           1       1      0   \n",
      "Other        2        0       0   2        2     0           4       1     12   \n",
      "Python       0        0       0   0        0     0           0       0      0   \n",
      "Ruby         0        0       0   0        0     0           0       0      1   \n",
      "Rust         0        1       0   0        0     0           0       0      1   \n",
      "\n",
      "actual      Python  Ruby  Rust  \n",
      "predicted                       \n",
      "Clojure          0     0     0  \n",
      "Elixir           0     0     0  \n",
      "Haskell          0     0     0  \n",
      "Java             0     0     0  \n",
      "JavaScript       0     0     0  \n",
      "Kotlin           0     0     0  \n",
      "Other            5     0     0  \n",
      "Python           4     0     0  \n",
      "Ruby             0     2     0  \n",
      "Rust             0     0     4  \n",
      "---\n",
      "              precision    recall  f1-score   support\n",
      "\n",
      "          C#       0.00      0.00      0.00         2\n",
      "     Clojure       1.00      0.67      0.80         3\n",
      "      Elixir       1.00      1.00      1.00         2\n",
      "          Go       0.00      0.00      0.00         3\n",
      "     Haskell       1.00      0.40      0.57         5\n",
      "        Java       1.00      1.00      1.00         2\n",
      "  JavaScript       0.67      0.29      0.40         7\n",
      "      Kotlin       0.25      0.50      0.33         2\n",
      "       Other       0.43      0.80      0.56        15\n",
      "      Python       1.00      0.44      0.62         9\n",
      "        Ruby       0.67      1.00      0.80         2\n",
      "        Rust       0.67      1.00      0.80         4\n",
      "\n",
      "    accuracy                           0.59        56\n",
      "   macro avg       0.64      0.59      0.57        56\n",
      "weighted avg       0.65      0.59      0.56        56\n",
      "\n"
     ]
    }
   ],
   "source": [
    "print('Accuracy: {:.2%}'.format(accuracy_score(test.actual, test.predicted)))\n",
    "print('---')\n",
    "print('Confusion Matrix')\n",
    "print(pd.crosstab(test.predicted, test.actual))\n",
    "print('---')\n",
    "print(classification_report(test.actual, test.predicted))"
   ]
  },
  {
   "cell_type": "markdown",
   "metadata": {},
   "source": [
    "#### Conclusion: Our best model is the decision tree. When given unseen test data, our model returns an accuracy over 50%. This is significant, given our model is making its predictions from 12 options. It also vastly outperforms our baseline model, which had an accuracy of 26%."
   ]
  },
  {
   "cell_type": "markdown",
   "metadata": {},
   "source": [
    "### Build a function that will take in the text of a README file, and tries to predict the programming language."
   ]
  },
  {
   "cell_type": "code",
   "execution_count": null,
   "metadata": {},
   "outputs": [],
   "source": []
  }
 ],
 "metadata": {
  "kernelspec": {
   "display_name": "Python 3",
   "language": "python",
   "name": "python3"
  },
  "language_info": {
   "codemirror_mode": {
    "name": "ipython",
    "version": 3
   },
   "file_extension": ".py",
   "mimetype": "text/x-python",
   "name": "python",
   "nbconvert_exporter": "python",
   "pygments_lexer": "ipython3",
   "version": "3.7.3"
  }
 },
 "nbformat": 4,
 "nbformat_minor": 2
}
