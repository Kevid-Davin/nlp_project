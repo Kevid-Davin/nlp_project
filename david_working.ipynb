{
 "cells": [
  {
   "cell_type": "code",
   "execution_count": 1,
   "metadata": {},
   "outputs": [],
   "source": [
    "from os import path\n",
    "from requests import get\n",
    "from bs4 import BeautifulSoup\n",
    "import os\n",
    "import pandas as pd\n",
    "import numpy as np\n",
    "import re\n",
    "import unicodedata\n",
    "import nltk\n",
    "from nltk.tokenize.toktok import ToktokTokenizer\n",
    "from nltk.corpus import stopwords\n",
    "import matplotlib.pyplot as plt\n",
    "import seaborn as sns\n",
    "from sklearn.model_selection import train_test_split\n",
    "from sklearn.linear_model import LogisticRegression\n",
    "from sklearn.tree import DecisionTreeClassifier\n",
    "from sklearn.ensemble import RandomForestClassifier\n",
    "from sklearn.neighbors import KNeighborsClassifier\n",
    "from sklearn.metrics import classification_report, accuracy_score\n",
    "from sklearn.feature_extraction.text import TfidfVectorizer\n",
    "import warnings\n",
    "warnings.filterwarnings(\"ignore\")"
   ]
  },
  {
   "cell_type": "markdown",
   "metadata": {},
   "source": [
    "# Acquire Functions"
   ]
  },
  {
   "cell_type": "markdown",
   "metadata": {},
   "source": [
    "- Used these to play around. Do not use these for final notebook. Use Kevin's!"
   ]
  },
  {
   "cell_type": "code",
   "execution_count": 2,
   "metadata": {},
   "outputs": [],
   "source": [
    "def find_file(\n",
    "    file_name='path/file.txt',\n",
    "    cache=False,\n",
    "    cache_age=None\n",
    "    ):\n",
    "\n",
    "    if cache==False:\n",
    "        return None\n",
    "    \n",
    "    return path.exists(file_name)"
   ]
  },
  {
   "cell_type": "code",
   "execution_count": 3,
   "metadata": {},
   "outputs": [],
   "source": [
    "def get_soup(\n",
    "    url='https://github.com/search?o=desc&p=1&q=advent+of+code&s=stars&type=Repositories',\n",
    "    headers={'User-Agent': 'Nothing suspicious'},\n",
    "    file_name='soupfiles/gitsearch.txt',\n",
    "    cache=False,\n",
    "    cache_age=None,\n",
    "    soup_slurper='*'\n",
    "):\n",
    "    # if we already have the data, read it locally\n",
    "    file_found = find_file(file_name=file_name, cache=cache, cache_age=cache_age)\n",
    "    if file_found:\n",
    "        with open(file_name) as f:\n",
    "            return BeautifulSoup(f.read())\n",
    "\n",
    "    # otherwise go fetch the data\n",
    "    response = get(url, headers=headers)\n",
    "    soup = BeautifulSoup(response.text)\n",
    "    slurps = soup.select(soup_slurper)\n",
    "\n",
    "    # save it for next time\n",
    "    with open(file_name, 'w') as f:\n",
    "        f.write(str(slurps[0]))\n",
    "        if len(slurps)>1:\n",
    "            for slurp in slurps[1:]:\n",
    "                f.write('\\n' + str(slurp))\n",
    "        \n",
    "    with open(file_name) as f:    \n",
    "        soup = BeautifulSoup(f.read())\n",
    "#     pd.to_csv(slurps, header=None, index=False)\n",
    "\n",
    "    return soup"
   ]
  },
  {
   "cell_type": "code",
   "execution_count": 4,
   "metadata": {},
   "outputs": [],
   "source": [
    "def all_repositories():\n",
    "    page = str(range(1,21))\n",
    "    repo_list = []\n",
    "    for p in page:\n",
    "        repo_list.extend(get_links_from_page('https://github.com/search?o=desc&p='+p+'&q=advent+of+code&s=stars&type=Repositories'))\n",
    "        return repo_list"
   ]
  },
  {
   "cell_type": "code",
   "execution_count": 5,
   "metadata": {},
   "outputs": [],
   "source": [
    "def get_links_from_page(url):\n",
    "    soup = get_soup(\n",
    "    url=url,\n",
    "    cache=True,\n",
    "    soup_slurper='.repo-list-item a',\n",
    "    file_name='soupfiles/gitsearch.txt'\n",
    ")"
   ]
  },
  {
   "cell_type": "markdown",
   "metadata": {},
   "source": [
    "# Prepare"
   ]
  },
  {
   "cell_type": "markdown",
   "metadata": {},
   "source": [
    "## Functions"
   ]
  },
  {
   "cell_type": "code",
   "execution_count": 6,
   "metadata": {},
   "outputs": [],
   "source": [
    "def normalize(string):\n",
    "    # lower case the string\n",
    "    string = string.lower()\n",
    "\n",
    "    # replace new lines with an empty space\n",
    "    string = re.sub(r'\\n',' ',string)\n",
    "    \n",
    "    # normalize unicode characters\n",
    "    string = unicodedata.normalize('NFKD', string).encode('ascii', 'ignore').decode('utf-8', 'ignore')\n",
    "    \n",
    "    # replace . with space\n",
    "    string = re.sub(r'\\.',' ',string)\n",
    "    \n",
    "    # replace / with space\n",
    "    string = re.sub(r'/',' ',string)\n",
    "    \n",
    "    # replace c++ th c plus plus\n",
    "    string = re.sub(r'c\\+\\+','cplusplus',string)\n",
    "\n",
    "    # replace c+ with c plus\n",
    "    string = re.sub(r'c\\+','cplus ',string)\n",
    "\n",
    "    # replace c# with c sharp\n",
    "    string = re.sub(r'c#','csharp ',string)\n",
    "\n",
    "    # replace f# with f sharp\n",
    "    string = re.sub(r'f#','fsharp ',string)\n",
    "    \n",
    "    # replaces certain special characters with a space\n",
    "    string = re.sub(r'[\\[\\](){}]',' ', string)\n",
    "    \n",
    "    # replace multiple adjacent spaces with only one space\n",
    "    string = re.sub(r'\\s+',' ',string)\n",
    "\n",
    "    # remove remaining special characters and numbers with regex\n",
    "    string = re.sub(r'[^a-z\\s]','', string)\n",
    "    \n",
    "    return string"
   ]
  },
  {
   "cell_type": "code",
   "execution_count": 7,
   "metadata": {},
   "outputs": [],
   "source": [
    "def stem(string):\n",
    "    ps = nltk.porter.PorterStemmer()\n",
    "    stems = [ps.stem(word) for word in string.split()]\n",
    "    string_of_stems = ' '.join(stems)\n",
    "    return string_of_stems"
   ]
  },
  {
   "cell_type": "code",
   "execution_count": 8,
   "metadata": {},
   "outputs": [],
   "source": [
    "def lemmatize(string):\n",
    "    wnl = nltk.stem.WordNetLemmatizer()\n",
    "    lemmas = [wnl.lemmatize(word) for word in string.split()]\n",
    "    string_of_lemmas = ' '.join(lemmas)\n",
    "    return string_of_lemmas"
   ]
  },
  {
   "cell_type": "code",
   "execution_count": 9,
   "metadata": {},
   "outputs": [],
   "source": [
    "def tokenize(string):\n",
    "    tokenizer = nltk.tokenize.ToktokTokenizer()\n",
    "    return tokenizer.tokenize(string, return_str=True)"
   ]
  },
  {
   "cell_type": "code",
   "execution_count": 10,
   "metadata": {},
   "outputs": [],
   "source": [
    "def remove_stopwords(tokenized_string, extra_words=['advent', 'of','code', 'aoc', 'day', 'solution', 'httpsgithub','githubhttpsimg','hpphttpsgithub','httpsadventofcode', 'adventofcode','commstksgadventofcodeblobmasterreflections', 'httpadventofcode','com', 'github', 'http', 'https','adventofcodehttps','master','blob','username', 'reponame','svg','src'], exclude_words=[]):\n",
    "    words = tokenized_string.split()\n",
    "    stopword_list = stopwords.words('english')\n",
    "\n",
    "    # remove the excluded words from the stopword list\n",
    "    stopword_list = set(stopword_list) - set(exclude_words)\n",
    "\n",
    "    # add in the user specified extra words\n",
    "    stopword_list = stopword_list.union(set(extra_words))\n",
    "\n",
    "    filtered_words = [w for w in words if w not in stopword_list]\n",
    "    final_string = \" \".join(filtered_words)\n",
    "    return final_string"
   ]
  },
  {
   "cell_type": "markdown",
   "metadata": {},
   "source": [
    "### Read in json file containing repos and content"
   ]
  },
  {
   "cell_type": "code",
   "execution_count": 11,
   "metadata": {},
   "outputs": [],
   "source": [
    "# read in content as json and save as dataframe\n",
    "df = pd.read_json('datafiles/outdata.json')"
   ]
  },
  {
   "cell_type": "code",
   "execution_count": 12,
   "metadata": {},
   "outputs": [
    {
     "data": {
      "text/plain": [
       "(302, 6)"
      ]
     },
     "execution_count": 12,
     "metadata": {},
     "output_type": "execute_result"
    }
   ],
   "source": [
    "# preview data\n",
    "df.shape"
   ]
  },
  {
   "cell_type": "code",
   "execution_count": 13,
   "metadata": {},
   "outputs": [
    {
     "data": {
      "text/html": [
       "<div>\n",
       "<style scoped>\n",
       "    .dataframe tbody tr th:only-of-type {\n",
       "        vertical-align: middle;\n",
       "    }\n",
       "\n",
       "    .dataframe tbody tr th {\n",
       "        vertical-align: top;\n",
       "    }\n",
       "\n",
       "    .dataframe thead th {\n",
       "        text-align: right;\n",
       "    }\n",
       "</style>\n",
       "<table border=\"1\" class=\"dataframe\">\n",
       "  <thead>\n",
       "    <tr style=\"text-align: right;\">\n",
       "      <th></th>\n",
       "      <th>language</th>\n",
       "      <th>language_all</th>\n",
       "      <th>repo_full</th>\n",
       "      <th>author</th>\n",
       "      <th>repo</th>\n",
       "      <th>readme</th>\n",
       "    </tr>\n",
       "  </thead>\n",
       "  <tbody>\n",
       "    <tr>\n",
       "      <th>0</th>\n",
       "      <td>Python</td>\n",
       "      <td>{'Python': 41534}</td>\n",
       "      <td>0x8b/advent-of-code-2019</td>\n",
       "      <td>0x8b</td>\n",
       "      <td>advent-of-code-2019</td>\n",
       "      <td># username's [advent of code 2019](https://adv...</td>\n",
       "    </tr>\n",
       "    <tr>\n",
       "      <th>1</th>\n",
       "      <td>Haskell</td>\n",
       "      <td>{'Haskell': 42115, 'Python': 503}</td>\n",
       "      <td>1Computer1/advent</td>\n",
       "      <td>1Computer1</td>\n",
       "      <td>advent</td>\n",
       "      <td># reponame of code solutions\\n\\ni'm probably n...</td>\n",
       "    </tr>\n",
       "    <tr>\n",
       "      <th>10</th>\n",
       "      <td>TypeScript</td>\n",
       "      <td>{'TypeScript': 178903, 'Rust': 68139, 'Smarty'...</td>\n",
       "      <td>AlexAegis/advent-of-code</td>\n",
       "      <td>AlexAegis</td>\n",
       "      <td>advent-of-code</td>\n",
       "      <td># [advent of code](https://adventofcode.com/)\\...</td>\n",
       "    </tr>\n",
       "    <tr>\n",
       "      <th>100</th>\n",
       "      <td>Python</td>\n",
       "      <td>{'Python': 64874, 'Julia': 27162}</td>\n",
       "      <td>ferrolho/advent-of-code</td>\n",
       "      <td>ferrolho</td>\n",
       "      <td>advent-of-code</td>\n",
       "      <td># advent of code\\n\\n:santa: :christmas_tree: :...</td>\n",
       "    </tr>\n",
       "    <tr>\n",
       "      <th>101</th>\n",
       "      <td>Swift</td>\n",
       "      <td>{'Swift': 69603}</td>\n",
       "      <td>fguchelaar/AdventOfCode2019</td>\n",
       "      <td>fguchelaar</td>\n",
       "      <td>AdventOfCode2019</td>\n",
       "      <td># advent of code 2019\\n\\nmy solutions for the ...</td>\n",
       "    </tr>\n",
       "  </tbody>\n",
       "</table>\n",
       "</div>"
      ],
      "text/plain": [
       "       language                                       language_all  \\\n",
       "0        Python                                  {'Python': 41534}   \n",
       "1       Haskell                  {'Haskell': 42115, 'Python': 503}   \n",
       "10   TypeScript  {'TypeScript': 178903, 'Rust': 68139, 'Smarty'...   \n",
       "100      Python                  {'Python': 64874, 'Julia': 27162}   \n",
       "101       Swift                                   {'Swift': 69603}   \n",
       "\n",
       "                       repo_full      author                 repo  \\\n",
       "0       0x8b/advent-of-code-2019        0x8b  advent-of-code-2019   \n",
       "1              1Computer1/advent  1Computer1               advent   \n",
       "10      AlexAegis/advent-of-code   AlexAegis       advent-of-code   \n",
       "100      ferrolho/advent-of-code    ferrolho       advent-of-code   \n",
       "101  fguchelaar/AdventOfCode2019  fguchelaar     AdventOfCode2019   \n",
       "\n",
       "                                                readme  \n",
       "0    # username's [advent of code 2019](https://adv...  \n",
       "1    # reponame of code solutions\\n\\ni'm probably n...  \n",
       "10   # [advent of code](https://adventofcode.com/)\\...  \n",
       "100  # advent of code\\n\\n:santa: :christmas_tree: :...  \n",
       "101  # advent of code 2019\\n\\nmy solutions for the ...  "
      ]
     },
     "execution_count": 13,
     "metadata": {},
     "output_type": "execute_result"
    }
   ],
   "source": [
    "df.head()"
   ]
  },
  {
   "cell_type": "markdown",
   "metadata": {},
   "source": [
    "### Create new columns which show readme content normalized, stemmed, and lemmatized"
   ]
  },
  {
   "cell_type": "code",
   "execution_count": 14,
   "metadata": {},
   "outputs": [],
   "source": [
    "df = df.assign(normalized = df.readme.apply(normalize))\n",
    "df = df.assign(stemmed = df.normalized.apply(stem))\n",
    "df = df.assign(lemmatized = df.normalized.apply(lemmatize))"
   ]
  },
  {
   "cell_type": "code",
   "execution_count": 15,
   "metadata": {},
   "outputs": [
    {
     "data": {
      "text/html": [
       "<div>\n",
       "<style scoped>\n",
       "    .dataframe tbody tr th:only-of-type {\n",
       "        vertical-align: middle;\n",
       "    }\n",
       "\n",
       "    .dataframe tbody tr th {\n",
       "        vertical-align: top;\n",
       "    }\n",
       "\n",
       "    .dataframe thead th {\n",
       "        text-align: right;\n",
       "    }\n",
       "</style>\n",
       "<table border=\"1\" class=\"dataframe\">\n",
       "  <thead>\n",
       "    <tr style=\"text-align: right;\">\n",
       "      <th></th>\n",
       "      <th>stemmed</th>\n",
       "      <th>lemmatized</th>\n",
       "    </tr>\n",
       "  </thead>\n",
       "  <tbody>\n",
       "    <tr>\n",
       "      <th>0</th>\n",
       "      <td>usernam advent of code http adventofcod com so...</td>\n",
       "      <td>usernames advent of code http adventofcode com...</td>\n",
       "    </tr>\n",
       "    <tr>\n",
       "      <th>1</th>\n",
       "      <td>reponam of code solut im probabl not gonna do ...</td>\n",
       "      <td>reponame of code solution im probably not gonn...</td>\n",
       "    </tr>\n",
       "    <tr>\n",
       "      <th>10</th>\n",
       "      <td>advent of code http adventofcod com build stat...</td>\n",
       "      <td>advent of code http adventofcode com build sta...</td>\n",
       "    </tr>\n",
       "    <tr>\n",
       "      <th>100</th>\n",
       "      <td>advent of code santa christmastre gift my solu...</td>\n",
       "      <td>advent of code santa christmastree gift my sol...</td>\n",
       "    </tr>\n",
       "    <tr>\n",
       "      <th>101</th>\n",
       "      <td>advent of code my solut for the fifth instal o...</td>\n",
       "      <td>advent of code my solution for the fifth insta...</td>\n",
       "    </tr>\n",
       "  </tbody>\n",
       "</table>\n",
       "</div>"
      ],
      "text/plain": [
       "                                               stemmed  \\\n",
       "0    usernam advent of code http adventofcod com so...   \n",
       "1    reponam of code solut im probabl not gonna do ...   \n",
       "10   advent of code http adventofcod com build stat...   \n",
       "100  advent of code santa christmastre gift my solu...   \n",
       "101  advent of code my solut for the fifth instal o...   \n",
       "\n",
       "                                            lemmatized  \n",
       "0    usernames advent of code http adventofcode com...  \n",
       "1    reponame of code solution im probably not gonn...  \n",
       "10   advent of code http adventofcode com build sta...  \n",
       "100  advent of code santa christmastree gift my sol...  \n",
       "101  advent of code my solution for the fifth insta...  "
      ]
     },
     "execution_count": 15,
     "metadata": {},
     "output_type": "execute_result"
    }
   ],
   "source": [
    "# preview results to decide which technique to use when reducing form of words (lemmatize vs stem)\n",
    "df[['stemmed','lemmatized']].head()"
   ]
  },
  {
   "cell_type": "code",
   "execution_count": 16,
   "metadata": {},
   "outputs": [
    {
     "data": {
      "text/plain": [
       "advent-of-code                    35\n",
       "advent-of-code-2019               23\n",
       "adventofcode                      16\n",
       "AdventOfCode                      16\n",
       "advent-of-code-2018               11\n",
       "AdventOfCode2019                  11\n",
       "AdventOfCode2018                   8\n",
       "aoc-2019                           7\n",
       "adventofcode2019                   6\n",
       "aoc2019                            5\n",
       "AdventOfCode2015                   4\n",
       "advent2019                         4\n",
       "AdventOfCode2017                   4\n",
       "aoc2017                            4\n",
       "adventOfCode                       3\n",
       "advent-of-code-2017                3\n",
       "Advent-of-Code-2019                3\n",
       "aoc19                              3\n",
       "advent-of-code-2015                3\n",
       "aoc                                3\n",
       "advent_of_code_2019                3\n",
       "advent-2019                        3\n",
       "adventofcode2017                   2\n",
       "Advent-of-Code-2017                2\n",
       "AOC                                2\n",
       "AoC2019                            2\n",
       "advent-of-code-2016                2\n",
       "advent2018                         2\n",
       "advent_of_code                     2\n",
       "AdventOfCode-2017                  2\n",
       "                                  ..\n",
       "aoc-starter-ts                     1\n",
       "AdventOfCode-2018                  1\n",
       "advent-of-code-2019-rs             1\n",
       "advent-of-code-2019-rust           1\n",
       "AOC2019                            1\n",
       "AdventOfCodeBase                   1\n",
       "adventofcode-2017                  1\n",
       "advent2017-fast                    1\n",
       "RustyAdventOfCode                  1\n",
       "adventofcode19                     1\n",
       "advent-2019-kotlin                 1\n",
       "Advent-of-code                     1\n",
       "advent-of-clojure                  1\n",
       "adventofcode-rb                    1\n",
       "aoc-rs-2019                        1\n",
       "kotlin-advent-of-code              1\n",
       "Advent-of-Scala-2015               1\n",
       "Play-Advent-of-Code                1\n",
       "advent-of-code-downloader          1\n",
       "aoc-2016                           1\n",
       "advent-of-code-ruby                1\n",
       "adventofcode-2019-solutions-js     1\n",
       "advent_of_code_2015                1\n",
       "AdventureKit                       1\n",
       "advent-of-code-elixir-starter      1\n",
       "advent_of_code_2017                1\n",
       "aoc19-intcode-jit                  1\n",
       "Advent-of-Code-2019-PHP            1\n",
       "cargo-aoc                          1\n",
       "hand_detection                     1\n",
       "Name: repo, Length: 133, dtype: int64"
      ]
     },
     "execution_count": 16,
     "metadata": {},
     "output_type": "execute_result"
    }
   ],
   "source": [
    "# People are not very creative with their repo names. \n",
    "df.repo.value_counts()"
   ]
  },
  {
   "cell_type": "markdown",
   "metadata": {},
   "source": [
    "#### Lemmatization > Stemming\n",
    "\n",
    "We choose to lemmatize instead of stemming for a couple of reasons. One, lemmatizing preserves the root word in the form of a real word. Our readme data is full of shortened and combined \"words\" that are not real words. A lot of this is noise. We do not want to stem the data because the words will look too similar to this noise. Secondly, stemming's advantage over lemmatization is its low computing requirements and quick results. Our data set is fairly small and such minor improvements are not important to us. In this case, it is better to lemmatize."
   ]
  },
  {
   "cell_type": "code",
   "execution_count": 17,
   "metadata": {},
   "outputs": [],
   "source": [
    "# Choose lemmatize and proceed forward with tokenization and stop words\n",
    "# create new column called prepped which takes the lemmatized column and passes it through the tokenize function and remove_stopwords function\n",
    "df = df.assign(prepped = df.lemmatized.apply(tokenize).apply(remove_stopwords))"
   ]
  },
  {
   "cell_type": "code",
   "execution_count": 18,
   "metadata": {},
   "outputs": [
    {
     "data": {
      "text/plain": [
       "0      usernames daynamesolution tyranny rocket equat...\n",
       "1      im probably gonna problem im gonna pretend lik...\n",
       "10     build status travisci svgbranchmaster travisci...\n",
       "100    santa christmastree gift problem might write s...\n",
       "101    fifth installment creating package ive prepare...\n",
       "Name: prepped, dtype: object"
      ]
     },
     "execution_count": 18,
     "metadata": {},
     "output_type": "execute_result"
    }
   ],
   "source": [
    "df.prepped.head()"
   ]
  },
  {
   "cell_type": "code",
   "execution_count": 19,
   "metadata": {},
   "outputs": [
    {
     "data": {
      "text/plain": [
       "                                                                                                                                                                                                                                                                                                                                                                                                                                                                                                                                                                                                                                                                              26\n",
       "app main lh                                                                                                                                                                                                                                                                                                                                                                                                                                                                                                                                                                                                                                                                    2\n",
       "contribute inspired others bidra med dina losningar pa problemen vilket sprak du vill valj ett du kan eller ett du vill lara dig vi har ocksa en ledarbrada leaderboard pa koden till ledarbradan ar eed vi har ocksa en slackkanal dit alla ar valkomna att snacka eller egentligen allt mellan himmel och jord med lite koppling till kod maila infousername se eller twittra din epost till sa slapper vi er dina losningar far garna checkas en mapp med namn pa formen anvandarnamnsprak sa blir det lite lattare alla att fa overblick losningarna kan komma att diskuteras avsnitt av sa lagg med en readme md med en notis om du inte vill riskera att bli omnamnd     2\n",
       "python                                                                                                                                                                                                                                                                                                                                                                                                                                                                                                                                                                                                                                                                         2\n",
       "puzzle                                                                                                                                                                                                                                                                                                                                                                                                                                                                                                                                                                                                                                                                         2\n",
       "Name: prepped, dtype: int64"
      ]
     },
     "execution_count": 19,
     "metadata": {},
     "output_type": "execute_result"
    }
   ],
   "source": [
    "# 26 blank readme's as a result of removing stop words. We need to drop them.\n",
    "df.prepped.value_counts().head()"
   ]
  },
  {
   "cell_type": "code",
   "execution_count": 20,
   "metadata": {},
   "outputs": [
    {
     "data": {
      "text/plain": [
       "app main lh                                                                                                                                                                                                                                                                                                                                                                                                                                                                                                                                                                                                                                                                                                                                                                                                                                                                                                                                                                                                                                                                                                                                                                                                                                                                                                                                                                                                                                                                                                                                                                                                                                                                                                                                                                                                                                                                                                                                                                                                                                                                                                                                                                                                                                                                                                                                                                                                                                                                                                                                                                                                                                                                                                                                                                                                                                                                                                                                                                                                                                                                                                                                                                                                                                                                                                                                                                                                                                                                                                                                                                                                                                                                                                                                                                                                                                                                                                                                                                                                                                                                                                                                                                                                                                                                                                                                                                                                                                                                                                                                                                                                                                                                                                                                                                                                                                                                                                                                                                                                                                                                                                                                                                                                                                                                                                                                                                                                                                                                                                                                                                                                                                                                                                                                                                                                                                                                                                         2\n",
       "contribute inspired others bidra med dina losningar pa problemen vilket sprak du vill valj ett du kan eller ett du vill lara dig vi har ocksa en ledarbrada leaderboard pa koden till ledarbradan ar eed vi har ocksa en slackkanal dit alla ar valkomna att snacka eller egentligen allt mellan himmel och jord med lite koppling till kod maila infousername se eller twittra din epost till sa slapper vi er dina losningar far garna checkas en mapp med namn pa formen anvandarnamnsprak sa blir det lite lattare alla att fa overblick losningarna kan komma att diskuteras avsnitt av sa lagg med en readme md med en notis om du inte vill riskera att bli omnamnd                                                                                                                                                                                                                                                                                                                                                                                                                                                                                                                                                                                                                                                                                                                                                                                                                                                                                                                                                                                                                                                                                                                                                                                                                                                                                                                                                                                                                                                                                                                                                                                                                                                                                                                                                                                                                                                                                                                                                                                                                                                                                                                                                                                                                                                                                                                                                                                                                                                                                                                                                                                                                                                                                                                                                                                                                                                                                                                                                                                                                                                                                                                                                                                                                                                                                                                                                                                                                                                                                                                                                                                                                                                                                                                                                                                                                                                                                                                                                                                                                                                                                                                                                                                                                                                                                                                                                                                                                                                                                                                                                                                                                                                                                                                                                                                                                                                                                                                                                                                                                                                                                                                                                                                                                                          2\n",
       "python                                                                                                                                                                                                                                                                                                                                                                                                                                                                                                                                                                                                                                                                                                                                                                                                                                                                                                                                                                                                                                                                                                                                                                                                                                                                                                                                                                                                                                                                                                                                                                                                                                                                                                                                                                                                                                                                                                                                                                                                                                                                                                                                                                                                                                                                                                                                                                                                                                                                                                                                                                                                                                                                                                                                                                                                                                                                                                                                                                                                                                                                                                                                                                                                                                                                                                                                                                                                                                                                                                                                                                                                                                                                                                                                                                                                                                                                                                                                                                                                                                                                                                                                                                                                                                                                                                                                                                                                                                                                                                                                                                                                                                                                                                                                                                                                                                                                                                                                                                                                                                                                                                                                                                                                                                                                                                                                                                                                                                                                                                                                                                                                                                                                                                                                                                                                                                                                                                              2\n",
       "puzzle                                                                                                                                                                                                                                                                                                                                                                                                                                                                                                                                                                                                                                                                                                                                                                                                                                                                                                                                                                                                                                                                                                                                                                                                                                                                                                                                                                                                                                                                                                                                                                                                                                                                                                                                                                                                                                                                                                                                                                                                                                                                                                                                                                                                                                                                                                                                                                                                                                                                                                                                                                                                                                                                                                                                                                                                                                                                                                                                                                                                                                                                                                                                                                                                                                                                                                                                                                                                                                                                                                                                                                                                                                                                                                                                                                                                                                                                                                                                                                                                                                                                                                                                                                                                                                                                                                                                                                                                                                                                                                                                                                                                                                                                                                                                                                                                                                                                                                                                                                                                                                                                                                                                                                                                                                                                                                                                                                                                                                                                                                                                                                                                                                                                                                                                                                                                                                                                                                              2\n",
       "id litvis import cs le literate elm programming challenge using literate elm created litvis environment gicentre litvis although viewable normal markdown compute answer format output best viewed atom vscode litvis installed quite lisp md time taxicab md inverse captcha md chronal calibration md tyranny rocket equation md wa told would math md bathroom security md corruption checksum md inventory management system md program alarm md perfectly spherical house vacuum md square three side md spiral memory md matter slice md crossed wire md ideal stocking stuffer md security obscurity md highentropy passphrases md repose record md secure container md doesnt internelves md nice game chess md maze twisty trampoline alike md alchemical reduction md sunny chance asteroid md probably fire hazard md signal noise md memory reallocation md chronal coordinate md universal orbit map md assembly required md internet protocol version md recursive circus md sum part md amplification circuit md matchstick md twofactor authentication md heard like register md memory maneuver md space image format md single night md x stream processing md marble mania md md elf look elf say md x knot hash md star align md md corporate policy md x hex ed md chronal charge md md jsabacusframework io md x x subterranean sustainability md md knight dinner table md x x mine cart madness md md reindeer olympics md x disk defragmentation md chocolate chart md md science hungry people md x x beverage bandit md md aunt sue md x x chronal classification md md thing much md x x reservoir research md md like gif yard md x x settler north pole md md medicine rudolph md x x go flow md md infinite elf infinite house md x x regular map md md rpg simulator xx md x x chronal conversion md md x x x mode maze md md opening turing lock md x x experimental emergency teleportation md md x x x immune system simulator xx md md x x x fourdimensional adventure md md completion time puzzle difficulty measured time taken th person global leader board complete puzzle img srcimages completiontimes png width img srcimages completiontimes png width img srcimages completiontimes png width img srcimages completiontimes png width img srcimages completiontimes png width                                                                                                                                                                                                                                                                                                                                                                                                                                                                                                                                                                                                                                                                                                                                                                                                                                                                                                                                                                                                                                                                                                                                                                                                                                                                                                                                                                                                                                                                                                                                                                                                                                                                                                                                                                                                                                                                                                                                                                                                                                                                                                                                                                                                                                                                                                                                                                                                                                                                                                                                                                                                                                                                                                                                                                                                                                                                                                                                                                                                                                                                                                                                                                                                                                                                                                                                                                                                                                                                                                                                                                                        1\n",
       "polyglot programming contest new puzzle come online every december puzzle additional challenge solved puzzle different programming language language used mainstream programming language esoteric toy language hard enough however include older language list historic interest plus free beer implementation linux ha exist language could still used roughly order decreasing preference based know might suitable puzzle java php basic clojure elixir coffeescript dart nim rebol forth fsharp kotlin octave erlang icon eiffel prolog cuda glsl tcl smalltalk julia awk j apl ada algol assembly used c c cplusplus cpp csharp c cobol cobol fortran fortran go go groovy groovy haskell haskell haxe haxe javascript javascript lua lua ocaml ocaml opencl opencl pascal pascal pen paper calculator penandpaper perl perl python python r r ruby ruby rust rust scala scala scheme scheme sh bash common shell utility bash x assembly xassembly rule input read stdin possible otherwise read file named input input file must read parsed exactly provided modification allowed                                                                                                                                                                                                                                                                                                                                                                                                                                                                                                                                                                                                                                                                                                                                                                                                                                                                                                                                                                                                                                                                                                                                                                                                                                                                                                                                                                                                                                                                                                                                                                                                                                                                                                                                                                                                                                                                                                                                                                                                                                                                                                                                                                                                                                                                                                                                                                                                                                                                                                                                                                                                                                                                                                                                                                                                                                                                                                                                                                                                                                                                                                                                                                                                                                                                                                                                                                                                                                                                                                                                                                                                                                                                                                                                                                                                                                                                                                                                                                                                                                                                                                                                                                                                                                                                                                                                                                                                                                                                                                                                                                                                                                                                                                                                                                                                                          1\n",
       "build status travisci org svgbranchmaster travisci org rust repository contains problem rust running test install rust www rustlang org tool install necessary run test cargo test running custom input run given input stdin sh debug mode cargo run q part path input txt release mode cargo run q release part path input txt example cargo run path inputdaypart txt running using docker also docker image published running test sh docker run fredrikusername reponamelatest part path input txt example docker run fredrikusername reponamelatest dayinput txt running using node j demo npm module www npmjs package adventofcoders available us webassembly execute sh install update npm install adventofcodersbin g invocation adventofcoders part path input txt running browser run inside browser net puzzle alternative r r reddit www reddit r comment eaxxe daysolutions r r reddit www reddit r comment eurw daysolutions r r reddit www reddit r comment ebzw daysolutions r r reddit www reddit r comment eufv daysolutions r r reddit www reddit r comment ecarb daysolutions r r reddit www reddit r comment etyva daysolutions r r reddit www reddit r comment eanj daysolutions r r reddit www reddit r comment epkmt daysolutions r r reddit www reddit r comment ebd daysolutions r r reddit www reddit r comment emz daysolutions r r reddit www reddit r comment xxx daysolutions r r reddit www reddit r comment xxx daysolutions r r reddit www reddit r comment xxx daysolutions r r reddit www reddit r comment xxx daysolutions r r reddit www reddit r comment xxx daysolutions r r reddit www reddit r comment xxx daysolutions r r reddit www reddit r comment xxx daysolutions r r reddit www reddit r comment xxx daysolutions r r reddit www reddit r comment xxx daysolutions r r reddit www reddit r comment xxx daysolutions r r reddit www reddit r comment xxx daysolutions r r reddit www reddit r comment xxx daysolutions r r reddit www reddit r comment xxx daysolutions r r reddit www reddit r comment xxx daysolutions r r reddit www reddit r comment xxx daysolutions                                                                                                                                                                                                                                                                                                                                                                                                                                                                                                                                                                                                                                                                                                                                                                                                                                                                                                                                                                                                                                                                                                                                                                                                                                                                                                                                                                                                                                                                                                                                                                                                                                                                                                                                                                                                                                                                                                                                                                                                                                                                                                                                                                                                                                                                                                                                                                                                                                                                                                                                                                                                                                                                                                                                                                                                                                                                                                                                                                                                                                                                                                                                                                                                                                                                                                                                                                                                                                                                                                                                                                                                                                                                                                                                                                                        1\n",
       "year decided contribute trying two language rust main language haskell try learn way find haskell adventofcodehask rust decided solve using async await io check work case functional way also decided document progress rust way think rust framework make simple created simple framework main r every entry point signature async fn input impl asyncstdstreamstreaminputimpl stdstrfromstr impl stdfmtdisplay input data would parsed linebyline output data would printed backlog md                                                                                                                                                                                                                                                                                                                                                                                                                                                                                                                                                                                                                                                                                                                                                                                                                                                                                                                                                                                                                                                                                                                                                                                                                                                                                                                                                                                                                                                                                                                                                                                                                                                                                                                                                                                                                                                                                                                                                                                                                                                                                                                                                                                                                                                                                                                                                                                                                                                                                                                                                                                                                                                                                                                                                                                                                                                                                                                                                                                                                                                                                                                                                                                                                                                                                                                                                                                                                                                                                                                                                                                                                                                                                                                                                                                                                                                                                                                                                                                                                                                                                                                                                                                                                                                                                                                                                                                                                                                                                                                                                                                                                                                                                                                                                                                                                                                                                                                                                                                                                                                                                                                                                                                                                                                                                                                                                                                                                           1\n",
       "j javascript ci status workflow nodeci badge action completion progress img shield io static vlabelprogressmessage coloryellow run test run test provided example additionally run ci every commit npm npm test                                                                                                                                                                                                                                                                                                                                                                                                                                                                                                                                                                                                                                                                                                                                                                                                                                                                                                                                                                                                                                                                                                                                                                                                                                                                                                                                                                                                                                                                                                                                                                                                                                                                                                                                                                                                                                                                                                                                                                                                                                                                                                                                                                                                                                                                                                                                                                                                                                                                                                                                                                                                                                                                                                                                                                                                                                                                                                                                                                                                                                                                                                                                                                                                                                                                                                                                                                                                                                                                                                                                                                                                                                                                                                                                                                                                                                                                                                                                                                                                                                                                                                                                                                                                                                                                                                                                                                                                                                                                                                                                                                                                                                                                                                                                                                                                                                                                                                                                                                                                                                                                                                                                                                                                                                                                                                                                                                                                                                                                                                                                                                                                                                                                                                     1\n",
       "adventtocode todo add description installation available hex hex pm doc publish package installed adding adventtocode list dependency mix ex elixir def deps adventtocode end documentation generated exdoc elixirlang exdoc published hexdocs hexdocs pm published doc found hexdocs pm adventtocode hexdocs pm adventtocode                                                                                                                                                                                                                                                                                                                                                                                                                                                                                                                                                                                                                                                                                                                                                                                                                                                                                                                                                                                                                                                                                                                                                                                                                                                                                                                                                                                                                                                                                                                                                                                                                                                                                                                                                                                                                                                                                                                                                                                                                                                                                                                                                                                                                                                                                                                                                                                                                                                                                                                                                                                                                                                                                                                                                                                                                                                                                                                                                                                                                                                                                                                                                                                                                                                                                                                                                                                                                                                                                                                                                                                                                                                                                                                                                                                                                                                                                                                                                                                                                                                                                                                                                                                                                                                                                                                                                                                                                                                                                                                                                                                                                                                                                                                                                                                                                                                                                                                                                                                                                                                                                                                                                                                                                                                                                                                                                                                                                                                                                                                                                                                       1\n",
       "spoiler alert ive saved posterity really go play along though                                                                                                                                                                                                                                                                                                                                                                                                                                                                                                                                                                                                                                                                                                                                                                                                                                                                                                                                                                                                                                                                                                                                                                                                                                                                                                                                                                                                                                                                                                                                                                                                                                                                                                                                                                                                                                                                                                                                                                                                                                                                                                                                                                                                                                                                                                                                                                                                                                                                                                                                                                                                                                                                                                                                                                                                                                                                                                                                                                                                                                                                                                                                                                                                                                                                                                                                                                                                                                                                                                                                                                                                                                                                                                                                                                                                                                                                                                                                                                                                                                                                                                                                                                                                                                                                                                                                                                                                                                                                                                                                                                                                                                                                                                                                                                                                                                                                                                                                                                                                                                                                                                                                                                                                                                                                                                                                                                                                                                                                                                                                                                                                                                                                                                                                                                                                                                                       1\n",
       "tutorial rust copyright c bart massey herein lie problem fantastic exercise thank author others involved profusely excellent work thanks also relsqui pointing last year directory named included commented cleanedup rust readme md every problem directory containing description comment usage instruction also included problem description part md part md specific input txt posterity also libaoc directory containing library used includes mishmash aocspecific stuff generallyuseful functionality please see libaoc rustdoc detail talk rustaoc p md say thing many test written regard passing part problem strong validation assume rust running fastish unix box bunch memory although everything also work operating system problem dependent common extra package cargo goal provide canonical correct reasonable runtimes illustrate reasonable strategy illustrate use rust problemsolving learned ton rust little bit software engineering already known writing also engineering infrastructure form template directory mkday sh processaoc sh shell script libaoc crate sped setup considerably beginning would sh mkday sh end would select copy page source page xclip selection clipboard sh processaoc sh get markdown problem file posterity generate full rustdoc simply run highly intuitive command cargo rustdoc open nodefaults pass collapsedocs pass unindentcomments pass stripprivimports see issue rustlang cargo issue explanation deserve much thorough toplevel description energy write point revise file indefinite future refactoring done specifically trypat function pulled libaoc used part well run everything clippy crate io crate clippy point taken much advice generally left idiomatic loop alone iterator version suggested clippy seem le clear wa gratifying see last three pas clippy without warning apparently learned rust novice rust programmer feedback pull request extremely welcome let know done ill try make right work licensed mit license please see file copying source distribution software license term                                                                                                                                                                                                                                                                                                                                                                                                                                                                                                                                                                                                                                                                                                                                                                                                                                                                                                                                                                                                                                                                                                                                                                                                                                                                                                                                                                                                                                                                                                                                                                                                                                                                                                                                                                                                                                                                                                                                                                                                                                                                                                                                                                                                                                                                                                                                                                                                                                                                                                                                                                                                                                                                                                                                                                                                                                                                                                                                                                                                                                                                                                                                                                                                                                                                                                                                                                                                                                                                                                                                                                                                                                                                                                                                                                                                                                  1\n",
       "clojure run clone repo install boot bootclj run completed boot runall one boot runday one part boot runday p                                                                                                                                                                                                                                                                                                                                                                                                                                                                                                                                                                                                                                                                                                                                                                                                                                                                                                                                                                                                                                                                                                                                                                                                                                                                                                                                                                                                                                                                                                                                                                                                                                                                                                                                                                                                                                                                                                                                                                                                                                                                                                                                                                                                                                                                                                                                                                                                                                                                                                                                                                                                                                                                                                                                                                                                                                                                                                                                                                                                                                                                                                                                                                                                                                                                                                                                                                                                                                                                                                                                                                                                                                                                                                                                                                                                                                                                                                                                                                                                                                                                                                                                                                                                                                                                                                                                                                                                                                                                                                                                                                                                                                                                                                                                                                                                                                                                                                                                                                                                                                                                                                                                                                                                                                                                                                                                                                                                                                                                                                                                                                                                                                                                                                                                                                                                        1\n",
       "project us cargoaoc gobanos cargoaoc aocrunner gobanos aocrunner gobanos warned pretty bad still learning rust                                                                                                                                                                                                                                                                                                                                                                                                                                                                                                                                                                                                                                                                                                                                                                                                                                                                                                                                                                                                                                                                                                                                                                                                                                                                                                                                                                                                                                                                                                                                                                                                                                                                                                                                                                                                                                                                                                                                                                                                                                                                                                                                                                                                                                                                                                                                                                                                                                                                                                                                                                                                                                                                                                                                                                                                                                                                                                                                                                                                                                                                                                                                                                                                                                                                                                                                                                                                                                                                                                                                                                                                                                                                                                                                                                                                                                                                                                                                                                                                                                                                                                                                                                                                                                                                                                                                                                                                                                                                                                                                                                                                                                                                                                                                                                                                                                                                                                                                                                                                                                                                                                                                                                                                                                                                                                                                                                                                                                                                                                                                                                                                                                                                                                                                                                                                      1\n",
       "haskell instruction stack doc haskellstack org en stable readme installed continuing sh git clone gitgithub comusername git cd stack build stack exec e stack exec reflection wrote article based experience haskell haskell thought lesson learned using haskell consistently row medium adventofhaskellda license bsdclause                                                                                                                                                                                                                                                                                                                                                                                                                                                                                                                                                                                                                                                                                                                                                                                                                                                                                                                                                                                                                                                                                                                                                                                                                                                                                                                                                                                                                                                                                                                                                                                                                                                                                                                                                                                                                                                                                                                                                                                                                                                                                                                                                                                                                                                                                                                                                                                                                                                                                                                                                                                                                                                                                                                                                                                                                                                                                                                                                                                                                                                                                                                                                                                                                                                                                                                                                                                                                                                                                                                                                                                                                                                                                                                                                                                                                                                                                                                                                                                                                                                                                                                                                                                                                                                                                                                                                                                                                                                                                                                                                                                                                                                                                                                                                                                                                                                                                                                                                                                                                                                                                                                                                                                                                                                                                                                                                                                                                                                                                                                                                                                       1\n",
       "elixir starter battery included starter pack participating www using elixir usage module test mix task fill test example write implementation fill final problem input mix task run mix p benchmark passing b flag mix p b elixir defmodule def part args end def part args end end elixir defmodule daytest use exunit case import tag skip make sure remove run test test part input nil result part input assert result end tag skip make sure remove run test test part input nil result part input assert result end end elixir defmodule mix task p use mix task import shortdoc part def run args input nil enum member args b benchee run part fn input part end else input part io inspect label part result end end installation bash clone git clone gitgithub comusername git cd reinitialize git repo rm rf git git init                                                                                                                                                                                                                                                                                                                                                                                                                                                                                                                                                                                                                                                                                                                                                                                                                                                                                                                                                                                                                                                                                                                                                                                                                                                                                                                                                                                                                                                                                                                                                                                                                                                                                                                                                                                                                                                                                                                                                                                                                                                                                                                                                                                                                                                                                                                                                                                                                                                                                                                                                                                                                                                                                                                                                                                                                                                                                                                                                                                                                                                                                                                                                                                                                                                                                                                                                                                                                                                                                                                                                                                                                                                                                                                                                                                                                                                                                                                                                                                                                                                                                                                                                                                                                                                                                                                                                                                                                                                                                                                                                                                                                                                                                                                                                                                                                                                                                                                                                                                                                                                                               1\n",
       "fun coding fun coding gathering various competition funcoding exercise across web                                                                                                                                                                                                                                                                                                                                                                                                                                                                                                                                                                                                                                                                                                                                                                                                                                                                                                                                                                                                                                                                                                                                                                                                                                                                                                                                                                                                                                                                                                                                                                                                                                                                                                                                                                                                                                                                                                                                                                                                                                                                                                                                                                                                                                                                                                                                                                                                                                                                                                                                                                                                                                                                                                                                                                                                                                                                                                                                                                                                                                                                                                                                                                                                                                                                                                                                                                                                                                                                                                                                                                                                                                                                                                                                                                                                                                                                                                                                                                                                                                                                                                                                                                                                                                                                                                                                                                                                                                                                                                                                                                                                                                                                                                                                                                                                                                                                                                                                                                                                                                                                                                                                                                                                                                                                                                                                                                                                                                                                                                                                                                                                                                                                                                                                                                                                                                   1\n",
       "originally intention publish file least one person ha expressed interest twitter michielrutting status file represent balance finding fast still keeping acceptable interesting tend polish bit ive found commit aggressive refactoring take place may rough around edge                                                                                                                                                                                                                                                                                                                                                                                                                                                                                                                                                                                                                                                                                                                                                                                                                                                                                                                                                                                                                                                                                                                                                                                                                                                                                                                                                                                                                                                                                                                                                                                                                                                                                                                                                                                                                                                                                                                                                                                                                                                                                                                                                                                                                                                                                                                                                                                                                                                                                                                                                                                                                                                                                                                                                                                                                                                                                                                                                                                                                                                                                                                                                                                                                                                                                                                                                                                                                                                                                                                                                                                                                                                                                                                                                                                                                                                                                                                                                                                                                                                                                                                                                                                                                                                                                                                                                                                                                                                                                                                                                                                                                                                                                                                                                                                                                                                                                                                                                                                                                                                                                                                                                                                                                                                                                                                                                                                                                                                                                                                                                                                                                                            1\n",
       "clojure im complete clojure noob ill keep long manage usage clone repository select project clj run lein run run license copyright fleur kelpin program accompanying material made available term eclipse public license available www eclipse org legal epl source may also made available following secondary license condition availability set forth eclipse public license v satisfied gnu general public license published free software foundation either version license option later version gnu classpath exception available www gnu org software classpath license html                                                                                                                                                                                                                                                                                                                                                                                                                                                                                                                                                                                                                                                                                                                                                                                                                                                                                                                                                                                                                                                                                                                                                                                                                                                                                                                                                                                                                                                                                                                                                                                                                                                                                                                                                                                                                                                                                                                                                                                                                                                                                                                                                                                                                                                                                                                                                                                                                                                                                                                                                                                                                                                                                                                                                                                                                                                                                                                                                                                                                                                                                                                                                                                                                                                                                                                                                                                                                                                                                                                                                                                                                                                                                                                                                                                                                                                                                                                                                                                                                                                                                                                                                                                                                                                                                                                                                                                                                                                                                                                                                                                                                                                                                                                                                                                                                                                                                                                                                                                                                                                                                                                                                                                                                                                                                                                                 1\n",
       "helper build status travisci org svgbranchmaster travisci org codecov codecov io gh branch graph badge codecov io gh hex pm img shield io hexpm v adventofcodehelper svgstyleplastic hex pm package adventofcodehelper elixir package allows quickly grab input puzzle worry manually pasting youve got puzzle input first time result stored disk every subsequent request bypass need download server usage two function need use module elixir adventofcodehelper getinput yearday specify year puzzle adventofcodehelper getinput automatically get puzzle recent year function simply return tuple ok value succeed value puzzle input form bitstring fail message wa something wrong two configuration directive also needed make package work correctly simply add following config config ex elixir config adventofcodehelper session session string cachedir cache sensible default feel free put wherever write access session string need taken cooky session extract value using inspector browser choice installation package installed adding adventofcodehelper list dependency mix ex elixir def deps adventofcodehelper end                                                                                                                                                                                                                                                                                                                                                                                                                                                                                                                                                                                                                                                                                                                                                                                                                                                                                                                                                                                                                                                                                                                                                                                                                                                                                                                                                                                                                                                                                                                                                                                                                                                                                                                                                                                                                                                                                                                                                                                                                                                                                                                                                                                                                                                                                                                                                                                                                                                                                                                                                                                                                                                                                                                                                                                                                                                                                                                                                                                                                                                                                                                                                                                                                                                                                                                                                                                                                                                                                                                                                                                                                                                                                                                                                                                                                                                                                                                                                                                                                                                                                                                                                                                                                                                                                                                                                                                                                                                                                                                                                                                                                                                                                                                                                                        1\n",
       "build status travisci svgbranchmaster travisci codacy badge api codacy project badge grade dbacabededcbea app codacy app reponameutmsourcegithub comutmmediumreferralutmcontentusername reponameutmcampaignbadgegradedashboard maintainability api codeclimate v badge dfdddfedc maintainability codeclimate maintainability test coverage api codeclimate v badge dfdddfedc testcoverage codeclimate testcoverage codecov img shield io codecov c svglabelnodecoverage codecov io gh coverage status img shield io coverall svglabelrustcoverage coverall io reponamebranchmaster snyk vulnerability img shield io snyk vulnerability svgstylepopout app snyk io org project bbfbcbffbdd greenkeeper badge badge greenkeeper io greenkeeper io last commit img shield io lastcommit style prettier img shield io badge codestyleprettierffb prettier prettier progress img shield io endpointurlhttps raw githubusercontent badge json progress img shield io endpointurlhttps raw githubusercontent badge json progress img shield io endpointurlhttps raw githubusercontent badge json progress img shield io endpointurlhttps raw githubusercontent badge json progress img shield io endpointurlhttps raw githubusercontent badge json leaderboards leaderboard private view join private leaderboard find invitation leaderboard md progress img shield io endpointurlhttps raw githubusercontent badge json part one part two typescript rust typescript rust typescript partone rust lib r typescript parttwo rust lib r typescript partone rust lib r typescript parttwo rust lib r typescript partone typescript parttwo typescript partone typescript parttwo typescript partone typescript parttwo typescript partone typescript parttwo typescript partone typescript parttwo typescript partone typescript parttwo typescript partone typescript parttwo typescript partone typescript parttwo typescript partone typescript parttwo progress img shield io endpointurlhttps raw githubusercontent badge json part one part two typescript rust typescript rust typescript partone rust lib r typescript parttwo rust lib r typescript partone typescript parttwo typescript partone typescript parttwo typescript partone typescript parttwo typescript collapse function typescript parttwo typescript partone typescript parttwo typescript partone typescript parttwo typescript model node class typescript model node class typescript partone typescript parttwo typescript task typescript task typescript partone typescript parttwo typescript partone typescript parttwo typescript model cart class typescript parttwo typescript partone typescript parttwo progress img shield io endpointurlhttps raw githubusercontent badge json part one part two typescript rust typescript rust typescript partone rust lib r typescript parttwo rust lib r progress img shield io endpointurlhttps raw githubusercontent badge json part one part two typescript rust typescript rust typescript partone typescript parttwo progress img shield io endpointurlhttps raw githubusercontent badge json part one part two typescript rust typescript rust typescript partone rust lib r typescript parttwo rust lib r typescript partone rust lib r typescript parttwo rust lib r typescript partone rust lib r typescript parttwo rust lib r typescript hashsearch function rust lib r typescript hashsearch function rust lib r typescript partone rust lib r typescript parttwo rust lib r measured k ghz benchmark calculated input parsing plan refactor bench without typescript install node j nodejs org en open v visualstudio install suggested extension prompted recommended install required package bash npm select current file launch option f run file youre focusing debug mode testing test every task run bash npm test coverage report bash npm run testcoverage installed recommended mocha extension run rust install rust www rustlang org tool install open v visualstudio install suggested extension prompted recommended install required crate bash cargo build select current rust cargo launch option f run cargo youre focusing debug mode set rust default nightly bash rustup default nightly running individual bash cargo run p testing run cargo youd like test bash cargo test workspace cargo youd like run test bash cargo test benchmarking run specific benchmark bash cargo bench p workspace cargo youd like run benchmark take bash cargo bench scaffolding bash cargo run p scaffold note time measured ik ghz mark favourite materialicontheme installed copy materialicontheme folder association materialicontheme file association user setting see custom icon right codeclimate codecov coverage reporter report node test coverage coverall reporter rust result node nyc generates lcov report tarpaulin generates cobertura xml type report either rust get native coverage reporter output lcov tarpaulin support lcov two report cant merged technology typescript typescript node nodejs org en javascript runtime npm www npmjs package manager node typescript www typescriptlang org typed superset javascript rxjs reactivex io reactive programming observable stream mocha mochajs org behaviour driven testing framework chai www chaijs assertion library istanbul istanbul j org coverage tool technology rust rust rust www rustlang org system programmin language criterion bheisler criterion r benchmarking tool clippy rustlang rustclippy linter rust recommendation visual studio visualstudio ide everything setting vscode fira tonsky firacode font ligature service travis travisci continuous integration codacy codacy quality monitoring climate codeclimate maintainability coverage report snyk snyk io vulnerability detection library io library io dependency watcher shield io shield io badge look cool    1\n",
       "deprecated repository please refer adventofclojure repo adventofclojure see problem                                                                                                                                                                                                                                                                                                                                                                                                                                                                                                                                                                                                                                                                                                                                                                                                                                                                                                                                                                                                                                                                                                                                                                                                                                                                                                                                                                                                                                                                                                                                                                                                                                                                                                                                                                                                                                                                                                                                                                                                                                                                                                                                                                                                                                                                                                                                                                                                                                                                                                                                                                                                                                                                                                                                                                                                                                                                                                                                                                                                                                                                                                                                                                                                                                                                                                                                                                                                                                                                                                                                                                                                                                                                                                                                                                                                                                                                                                                                                                                                                                                                                                                                                                                                                                                                                                                                                                                                                                                                                                                                                                                                                                                                                                                                                                                                                                                                                                                                                                                                                                                                                                                                                                                                                                                                                                                                                                                                                                                                                                                                                                                                                                                                                                                                                                                                                                 1\n",
       "modern cplusplus using cplusplus wide usage boost rangesv prerequisite cplusplus compiler tested gcc clang cmake later git bash optional build git clone mkdir reponamebuild cd reponamebuild cmake dcmakebuildtyperelease cmake build j build several thirdparty library boost rangev json modern cplusplus downloaded build directory test ctest j solve problem app aocapp test input app aocapp test input source problem problem cpp problem problem cpp problem problem cpp problem problem cpp problem problem cpp problem problem cpp problem problem cpp problem problem cpp problem problem cpp problem problem cpp problem problem cpp problem problem cpp problem problem cpp problem problem cpp problem problem cpp problem problem cpp problem problem cpp problem problem cpp problem problem cpp problem problem cpp problem problem cpp problem problem cpp problem problem cpp problem problem cpp problem problem cpp problem problem cpp problem problem cpp problem problem cpp problem problem cpp problem problem cpp problem problem cpp problem problem cpp problem problem cpp problem problem cpp problem problem cpp problem problem cpp problem problem cpp problem problem cpp problem problem cpp problem problem cpp problem problem cpp problem problem cpp problem problem cpp problem problem cpp problem problem cpp problem problem cpp problem problem cpp problem problem cpp problem problem cpp problem problem cpp problem problem cpp problem problem cpp problem problem cpp problem problem cpp problem problem cpp problem problem cpp problem problem cpp problem problem cpp problem problem cpp problem problem cpp problem problem cpp problem problem cpp problem problem cpp problem problem cpp problem problem cpp                                                                                                                                                                                                                                                                                                                                                                                                                                                                                                                                                                                                                                                                                                                                                                                                                                                                                                                                                                                                                                                                                                                                                                                                                                                                                                                                                                                                                                                                                                                                                                                                                                                                                                                                                                                                                                                                                                                                                                                                                                                                                                                                                                                                                                                                                                                                                                                                                                                                                                                                                                                                                                                                                                                                                                                                                                                                                                                                                                                                                                                                                                                                                                                                                                                                                                                                                                                                                                                                                                                                                                                                                                                                                                                                                                                                                                                                                                                                                                                                                                                                                                                                           1\n",
       "adent ocaml ocaml intcode debugger build bash make run bash solve puzzle number answer run intcode debugger bash extra intdebug source filename intdebug command run r run program step step forward print tape pt print current content tape within ic print ic pic print current ic print rb prb print current rb print opcode po print current opcode print ic pic print recent ic value print rb prbs print recent rb value backtrack bt step backwards parse p parse opcode print stdout parse addr paddr parse opcode addr print stdout print addr praddr print value addr eval e evaluate opcode given stdin eval addr eaddr evaluate opcode addr help h display message                                                                                                                                                                                                                                                                                                                                                                                                                                                                                                                                                                                                                                                                                                                                                                                                                                                                                                                                                                                                                                                                                                                                                                                                                                                                                                                                                                                                                                                                                                                                                                                                                                                                                                                                                                                                                                                                                                                                                                                                                                                                                                                                                                                                                                                                                                                                                                                                                                                                                                                                                                                                                                                                                                                                                                                                                                                                                                                                                                                                                                                                                                                                                                                                                                                                                                                                                                                                                                                                                                                                                                                                                                                                                                                                                                                                                                                                                                                                                                                                                                                                                                                                                                                                                                                                                                                                                                                                                                                                                                                                                                                                                                                                                                                                                                                                                                                                                                                                                                                                                                                                                                                                                                                                                                     1\n",
       "javascript blog blog adrienne io twitter twitter instagram www instagram build status workflow build badge action mit license img shield io badge licensemitblue opensource org license mit online event created eric wastl twitter ericwastl year starting dec st calendar small programming puzzle unlocked midnight est utc developer skill set encouraged solve programming language choose story santa ha become stranded edge solar system delivering present planet accurately calculate position space safely align warp drive return earth time save christmas need bring measurement fifty star collect star solving puzzle two puzzle made available calendar second puzzle unlocked complete first puzzle grant one star good luck elf quickly load spacecraft prepare launch progress part one part two tyranny rocket equation tree daytyrannyofrocketequation program alarm tree dayprogramalarm crossed wire tree daycrossedwires secure container tree daysecurecontainer crossed wire tree daysunnywithachanceofasteroids universal orbit map tree dayuniversalorbitmap amplification circuit tree dayamplificationcircuit space image format tree dayspaceimageformat running test contains set test run type npm test                                                                                                                                                                                                                                                                                                                                                                                                                                                                                                                                                                                                                                                                                                                                                                                                                                                                                                                                                                                                                                                                                                                                                                                                                                                                                                                                                                                                                                                                                                                                                                                                                                                                                                                                                                                                                                                                                                                                                                                                                                                                                                                                                                                                                                                                                                                                                                                                                                                                                                                                                                                                                                                                                                                                                                                                                                                                                                                                                                                                                                                                                                                                                                                                                                                                                                                                                                                                                                                                                                                                                                                                                                                                                                                                                                                                                                                                                                                                                                                                                                                                                                                                                                                                                                                                                                                                                                                                                                                                                                                                                                                                                                                                           1\n",
       "adventure                                                                                                                                                                                                                                                                                                                                                                                                                                                                                                                                                                                                                                                                                                                                                                                                                                                                                                                                                                                                                                                                                                                                                                                                                                                                                                                                                                                                                                                                                                                                                                                                                                                                                                                                                                                                                                                                                                                                                                                                                                                                                                                                                                                                                                                                                                                                                                                                                                                                                                                                                                                                                                                                                                                                                                                                                                                                                                                                                                                                                                                                                                                                                                                                                                                                                                                                                                                                                                                                                                                                                                                                                                                                                                                                                                                                                                                                                                                                                                                                                                                                                                                                                                                                                                                                                                                                                                                                                                                                                                                                                                                                                                                                                                                                                                                                                                                                                                                                                                                                                                                                                                                                                                                                                                                                                                                                                                                                                                                                                                                                                                                                                                                                                                                                                                                                                                                                                                           1\n",
       "scala written scala want get people interested language focus readability brevity first performance come second also take special care process standard input streaming fashion like work please star repository thanks                                                                                                                                                                                                                                                                                                                                                                                                                                                                                                                                                                                                                                                                                                                                                                                                                                                                                                                                                                                                                                                                                                                                                                                                                                                                                                                                                                                                                                                                                                                                                                                                                                                                                                                                                                                                                                                                                                                                                                                                                                                                                                                                                                                                                                                                                                                                                                                                                                                                                                                                                                                                                                                                                                                                                                                                                                                                                                                                                                                                                                                                                                                                                                                                                                                                                                                                                                                                                                                                                                                                                                                                                                                                                                                                                                                                                                                                                                                                                                                                                                                                                                                                                                                                                                                                                                                                                                                                                                                                                                                                                                                                                                                                                                                                                                                                                                                                                                                                                                                                                                                                                                                                                                                                                                                                                                                                                                                                                                                                                                                                                                                                                                                                                             1\n",
       "build status travisci org svgbranchmaster issue img shield io issue issue scala edition note implementation scala jvm native kotlin kotlinaoc haskell haskellaoc eta etaaoc like star jvm native crossproject make work need install git brew install git install sbt brew install sbt clone repo git clone run test sbt aocjvm test run test scalatest scalacheck scalameter might take min run specific test sbt aocjvm testonly dayspec run sbt aocjvm testonly dayspec l slowtest run fast test exclude slow test run sbt aocjvm testonly dayspec n solutiontest run test test correct run jvm main sbt aocjvm run run native main sbt aocnative run generate doc www tritsch org sbt doc look open target scala api index html note make scala native work www scalanative org en latest user setup html probably need install couple package fun benchmark also benchmarked doc google spreadsheet khugzmjczlmqrcdaygvageqljlticylddtws edituspsharing tree result scala native kotlin haskell eta benchmark www dropbox sfnqglukekp benchmark pngdlraw                                                                                                                                                                                                                                                                                                                                                                                                                                                                                                                                                                                                                                                                                                                                                                                                                                                                                                                                                                                                                                                                                                                                                                                                                                                                                                                                                                                                                                                                                                                                                                                                                                                                                                                                                                                                                                                                                                                                                                                                                                                                                                                                                                                                                                                                                                                                                                                                                                                                                                                                                                                                                                                                                                                                                                                                                                                                                                                                                                                                                                                                                                                                                                                                                                                                                                                                                                                                                                                                                                                                                                                                                                                                                                                                                                                                                                                                                                                                                                                                                                                                                                                                                                                                                                                                                                                                                                                                                                                                                                                                                                                                                                                                                                                                                                                                                                                       1\n",
       "puzzle using clojure general implementation note im striving perfect particularly impressive supposed fun im trying make small possible though embrace concision suitable problem hand give consideration performance except absolutely necessary ive done development within repl example run unmodified                                                                                                                                                                                                                                                                                                                                                                                                                                                                                                                                                                                                                                                                                                                                                                                                                                                                                                                                                                                                                                                                                                                                                                                                                                                                                                                                                                                                                                                                                                                                                                                                                                                                                                                                                                                                                                                                                                                                                                                                                                                                                                                                                                                                                                                                                                                                                                                                                                                                                                                                                                                                                                                                                                                                                                                                                                                                                                                                                                                                                                                                                                                                                                                                                                                                                                                                                                                                                                                                                                                                                                                                                                                                                                                                                                                                                                                                                                                                                                                                                                                                                                                                                                                                                                                                                                                                                                                                                                                                                                                                                                                                                                                                                                                                                                                                                                                                                                                                                                                                                                                                                                                                                                                                                                                                                                                                                                                                                                                                                                                                                                                                           1\n",
       "build status travisci svgbranchmaster travisci codecov codecov io gh branch graph badge codecov io gh running julia julia dev julia using julia part julia part julia benchmarkall part part n                                                                                                                                                                                                                                                                                                                                                                                                                                                                                                                                                                                                                                                                                                                                                                                                                                                                                                                                                                                                                                                                                                                                                                                                                                                                                                                                                                                                                                                                                                                                                                                                                                                                                                                                                                                                                                                                                                                                                                                                                                                                                                                                                                                                                                                                                                                                                                                                                                                                                                                                                                                                                                                                                                                                                                                                                                                                                                                                                                                                                                                                                                                                                                                                                                                                                                                                                                                                                                                                                                                                                                                                                                                                                                                                                                                                                                                                                                                                                                                                                                                                                                                                                                                                                                                                                                                                                                                                                                                                                                                                                                                                                                                                                                                                                                                                                                                                                                                                                                                                                                                                                                                                                                                                                                                                                                                                                                                                                                                                                                                                                                                                                                                                                                                      1\n",
       "                                                                                                                                                                                                                                                                                                                                                                                                                                                                                                                                                                                                                                                                                                                                                                                                                                                                                                                                                                                                                                                                                                                                                                                                                                                                                                                                                                                                                                                                                                                                                                                                                                                                                                                                                                                                                                                                                                                                                                                                                                                                                                                                                                                                                                                                                                                                                                                                                                                                                                                                                                                                                                                                                                                                                                                                                                                                                                                                                                                                                                                                                                                                                                                                                                                                                                                                                                                                                                                                                                                                                                                                                                                                                                                                                                                                                                                                                                                                                                                                                                                                                                                                                                                                                                                                                                                                                                                                                                                                                                                                                                                                                                                                                                                                                                                                                                                                                                                                                                                                                                                                                                                                                                                                                                                                                                                                                                                                                                                                                                                                                                                                                                                                                                                                                                                                                                                                                                                   ..\n",
       "build status workflow build badge action completion status img shield io endpointurlhttps raw githubusercontent badge completion json dependency status img shield io david daviddm org license img shield io badge licensemitblue raw githubusercontent license weve detected temporal anomaly one santa elf temporal anomaly research detection instrument station tell sounded pretty worried called year interval past someone ha changing santa history good news change wont propagate time stream another device attache something wrist let fix change propagation delay configured send year past every wa best could short notice bad news detecting roughly fifty anomaly throughout time device indicate fixed anomaly star bad news one device youre best person job good lu tap button device suddenly feel like youre falling save christmas need get fifty star december th collect star solving puzzle two puzzle made available calendar second puzzle unlocked complete first puzzle grant one star good luck chronal calibration daychronalcalibration inventory management system dayinventorymanagementsystem matter slice daynomatterhowyousliceit repose record dayreposerecord alchemical reduction dayalchemicalreduction chronal coordinate daychronalcoordinates sum part daythesumofitsparts memory maneuver daymemorymaneuver marble mania daymarblemania star align daythestarsalign chronal charge daychronalcharge subterranean sustainability daysubterraneansustainability mine cart madness dayminecartmadness chocolate chart daychocolatecharts beverage bandit daybeveragebandits chronal classification daychronalclassification settler north pole daysettlersofthenorthpole running test contains set test run type npm test previous year completion status img shield io endpointurlhttps raw githubusercontent badge completion jsonlabel completion status img shield io endpointurlhttps raw githubusercontent badge completion jsonlabel completion status img shield io endpointurlhttps raw githubusercontent badge completion jsonlabel visit                                                                                                                                                                                                                                                                                                                                                                                                                                                                                                                                                                                                                                                                                                                                                                                                                                                                                                                                                                                                                                                                                                                                                                                                                                                                                                                                                                                                                                                                                                                                                                                                                                                                                                                                                                                                                                                                                                                                                                                                                                                                                                                                                                                                                                                                                                                                                                                                                                                                                                                                                                                                                                                                                                                                                                                                                                                                                                                                                                                                                                                                                                                                                                                                                                                                                                                                                                                                                                                                                                                                                                                                                                                                                                                                                                                                                    1\n",
       "typescript completed badgen net badge ee blue badgen net badge ee blue badgen net badge ee blue badgen net badge ee blue badgen net badge ee blue badgen net badge ee blue badgen net badge ee blue badgen net badge ee blue badgen net badge ee blue badgen net badge ee blue badgen net badge ee blue badgen net badge ee grey badgen net badge ee grey badgen net badge ee grey badgen net badge ee grey badgen net badge ee grey badgen net badge ee grey badgen net badge ee grey badgen net badge ee grey badgen net badge ee grey badgen net badge ee grey badgen net badge ee grey badgen net badge ee grey badgen net badge ee grey badgen net badge ee grey join leaderboard join leaderboard private private leaderboard j programmer babf installation required node higher download nodejs org en download npm running npm start running specific dev mode npm start dayn example npm start folder doe exist created template template repo us template aocstarterts aocstarterts result time part part time part part time part part time part part time part part time part part time part part time part part time part part time part part time part part                                                                                                                                                                                                                                                                                                                                                                                                                                                                                                                                                                                                                                                                                                                                                                                                                                                                                                                                                                                                                                                                                                                                                                                                                                                                                                                                                                                                                                                                                                                                                                                                                                                                                                                                                                                                                                                                                                                                                                                                                                                                                                                                                                                                                                                                                                                                                                                                                                                                                                                                                                                                                                                                                                                                                                                                                                                                                                                                                                                                                                                                                                                                                                                                                                                                                                                                                                                                                                                                                                                                                                                                                                                                                                                                                                                                                                                                                                                                                                                                                                                                                                                                                                                                                                                                                                                                                                                                                                                                                                                                                                                                                                                                                                                                          1\n",
       "im probably gonna problem im gonna pretend like im gonna workspace convenient kinda generate py year start end make file two year boilerplate generates run function run given year subproblem b type ha type encapsulates feel free use template maybe add test benchmark something checkout nosolutions branch workspace spoiler use right away                                                                                                                                                                                                                                                                                                                                                                                                                                                                                                                                                                                                                                                                                                                                                                                                                                                                                                                                                                                                                                                                                                                                                                                                                                                                                                                                                                                                                                                                                                                                                                                                                                                                                                                                                                                                                                                                                                                                                                                                                                                                                                                                                                                                                                                                                                                                                                                                                                                                                                                                                                                                                                                                                                                                                                                                                                                                                                                                                                                                                                                                                                                                                                                                                                                                                                                                                                                                                                                                                                                                                                                                                                                                                                                                                                                                                                                                                                                                                                                                                                                                                                                                                                                                                                                                                                                                                                                                                                                                                                                                                                                                                                                                                                                                                                                                                                                                                                                                                                                                                                                                                                                                                                                                                                                                                                                                                                                                                                                                                                                                                                   1\n",
       "awk awk awk clj clojure clj clojure clj clojure clj clojure clj clojure clj clojure clj clojure sh awk py python clj clj clojure py py python py python clj clojure py python clj clojure cpp cpp cplusplus py python py python clj clojure py python clj clojure                                                                                                                                                                                                                                                                                                                                                                                                                                                                                                                                                                                                                                                                                                                                                                                                                                                                                                                                                                                                                                                                                                                                                                                                                                                                                                                                                                                                                                                                                                                                                                                                                                                                                                                                                                                                                                                                                                                                                                                                                                                                                                                                                                                                                                                                                                                                                                                                                                                                                                                                                                                                                                                                                                                                                                                                                                                                                                                                                                                                                                                                                                                                                                                                                                                                                                                                                                                                                                                                                                                                                                                                                                                                                                                                                                                                                                                                                                                                                                                                                                                                                                                                                                                                                                                                                                                                                                                                                                                                                                                                                                                                                                                                                                                                                                                                                                                                                                                                                                                                                                                                                                                                                                                                                                                                                                                                                                                                                                                                                                                                                                                                                                                   1\n",
       "clojure                                                                                                                                                                                                                                                                                                                                                                                                                                                                                                                                                                                                                                                                                                                                                                                                                                                                                                                                                                                                                                                                                                                                                                                                                                                                                                                                                                                                                                                                                                                                                                                                                                                                                                                                                                                                                                                                                                                                                                                                                                                                                                                                                                                                                                                                                                                                                                                                                                                                                                                                                                                                                                                                                                                                                                                                                                                                                                                                                                                                                                                                                                                                                                                                                                                                                                                                                                                                                                                                                                                                                                                                                                                                                                                                                                                                                                                                                                                                                                                                                                                                                                                                                                                                                                                                                                                                                                                                                                                                                                                                                                                                                                                                                                                                                                                                                                                                                                                                                                                                                                                                                                                                                                                                                                                                                                                                                                                                                                                                                                                                                                                                                                                                                                                                                                                                                                                                                                             1\n",
       "build status travisci org svgbranchmaster travisci org learning rust scratch pull request welcome im learning please feel free correct style mistake share idiomatic pattern etc im pretty behind due busy work schedule please dont spoil anything thanks running cargo run p dayxx release test cargo test                                                                                                                                                                                                                                                                                                                                                                                                                                                                                                                                                                                                                                                                                                                                                                                                                                                                                                                                                                                                                                                                                                                                                                                                                                                                                                                                                                                                                                                                                                                                                                                                                                                                                                                                                                                                                                                                                                                                                                                                                                                                                                                                                                                                                                                                                                                                                                                                                                                                                                                                                                                                                                                                                                                                                                                                                                                                                                                                                                                                                                                                                                                                                                                                                                                                                                                                                                                                                                                                                                                                                                                                                                                                                                                                                                                                                                                                                                                                                                                                                                                                                                                                                                                                                                                                                                                                                                                                                                                                                                                                                                                                                                                                                                                                                                                                                                                                                                                                                                                                                                                                                                                                                                                                                                                                                                                                                                                                                                                                                                                                                                                                        1\n",
       "aocrb aocrb ruby command line utility yearly programming challenge take place december allows focus solving puzzle manual detail quickly downloads puzzle bootstrap given preparing ruby file youll need downloading puzzle necessary run working load input file benchmark execution time use installed project main command one utility boostrap year bootstrap way get started playing given downloads input file creates sample source file well spec file example get started playing first year bootstrap create input file input spec spechelper rb year dayspec rb year rb year rb simple contains need method part part take parameter content input file return expected value ruby module year class input content input file part return answer first part def part input expectedresult end def part input nil end end end run year run aocrun take care loading input file measuring execution time run result part expectedresult obtained e second result part command command may want use download year downloads puzzle input file input directory part year run run part given part year run run part given installation clone project install dependency running bundle install login copy session cookie firefox hit f order open developper console go cookie copy value field session cookie screenshot part start doc aoccookieff png copy env example file env paste cookie aoccookie variable env file look like aoccookie aocinputdirectoryinput done able download input file running command                                                                                                                                                                                                                                                                                                                                                                                                                                                                                                                                                                                                                                                                                                                                                                                                                                                                                                                                                                                                                                                                                                                                                                                                                                                                                                                                                                                                                                                                                                                                                                                                                                                                                                                                                                                                                                                                                                                                                                                                                                                                                                                                                                                                                                                                                                                                                                                                                                                                                                                                                                                                                                                                                                                                                                                                                                                                                                                                                                                                                                                                                                                                                                                                                                                                                                                                                                                                                                                                                                                                                                                                                                                                                                                                                                                                                                                                                                                                                                                                                                                                                                                                                                                                                                                                                                                                                                                          1\n",
       "private leaderboard ranking extension visualize ranking time www private leaderboard see io interactive example private leaderboard ranking example ranking png private leaderboard ranking example installation firefox addons mozilla org enus firefox addon chrome chrome google webstore detail adventofcoderanking jbnlafikncgjjhdkmfhokcplgahebmjl building locally build extension locally run npm install npm run build generate exploded version extension dist folder use webext run mozilla webext dist folder run locally firefox webext build create package                                                                                                                                                                                                                                                                                                                                                                                                                                                                                                                                                                                                                                                                                                                                                                                                                                                                                                                                                                                                                                                                                                                                                                                                                                                                                                                                                                                                                                                                                                                                                                                                                                                                                                                                                                                                                                                                                                                                                                                                                                                                                                                                                                                                                                                                                                                                                                                                                                                                                                                                                                                                                                                                                                                                                                                                                                                                                                                                                                                                                                                                                                                                                                                                                                                                                                                                                                                                                                                                                                                                                                                                                                                                                                                                                                                                                                                                                                                                                                                                                                                                                                                                                                                                                                                                                                                                                                                                                                                                                                                                                                                                                                                                                                                                                                                                                                                                                                                                                                                                                                                                                                                                                                                                                                                                                                                                           1\n",
       "programming puzzle make use fileparser fileparser parsing input file aochelper aochelper generalizing problem solving                                                                                                                                                                                                                                                                                                                                                                                                                                                                                                                                                                                                                                                                                                                                                                                                                                                                                                                                                                                                                                                                                                                                                                                                                                                                                                                                                                                                                                                                                                                                                                                                                                                                                                                                                                                                                                                                                                                                                                                                                                                                                                                                                                                                                                                                                                                                                                                                                                                                                                                                                                                                                                                                                                                                                                                                                                                                                                                                                                                                                                                                                                                                                                                                                                                                                                                                                                                                                                                                                                                                                                                                                                                                                                                                                                                                                                                                                                                                                                                                                                                                                                                                                                                                                                                                                                                                                                                                                                                                                                                                                                                                                                                                                                                                                                                                                                                                                                                                                                                                                                                                                                                                                                                                                                                                                                                                                                                                                                                                                                                                                                                                                                                                                                                                                                                               1\n",
       "yearly puzzle used javascript programming language every easily executed node j install install git node j download install latest version git gitscm downloads node j nodejs org en download clone clone repository nice place machine via git clone gitgithub comusername git usage execute puzzle navigate directory execute following command line node                                                                                                                                                                                                                                                                                                                                                                                                                                                                                                                                                                                                                                                                                                                                                                                                                                                                                                                                                                                                                                                                                                                                                                                                                                                                                                                                                                                                                                                                                                                                                                                                                                                                                                                                                                                                                                                                                                                                                                                                                                                                                                                                                                                                                                                                                                                                                                                                                                                                                                                                                                                                                                                                                                                                                                                                                                                                                                                                                                                                                                                                                                                                                                                                                                                                                                                                                                                                                                                                                                                                                                                                                                                                                                                                                                                                                                                                                                                                                                                                                                                                                                                                                                                                                                                                                                                                                                                                                                                                                                                                                                                                                                                                                                                                                                                                                                                                                                                                                                                                                                                                                                                                                                                                                                                                                                                                                                                                                                                                                                                                                         1\n",
       "haskell prequsites stack haskell christmas running cd correct directory stack runghc h input txt echo n stack runghc h running test test example stack runghc test h                                                                                                                                                                                                                                                                                                                                                                                                                                                                                                                                                                                                                                                                                                                                                                                                                                                                                                                                                                                                                                                                                                                                                                                                                                                                                                                                                                                                                                                                                                                                                                                                                                                                                                                                                                                                                                                                                                                                                                                                                                                                                                                                                                                                                                                                                                                                                                                                                                                                                                                                                                                                                                                                                                                                                                                                                                                                                                                                                                                                                                                                                                                                                                                                                                                                                                                                                                                                                                                                                                                                                                                                                                                                                                                                                                                                                                                                                                                                                                                                                                                                                                                                                                                                                                                                                                                                                                                                                                                                                                                                                                                                                                                                                                                                                                                                                                                                                                                                                                                                                                                                                                                                                                                                                                                                                                                                                                                                                                                                                                                                                                                                                                                                                                                                                1\n",
       "azure devops build status dev azure apis build status reponamebranchnamemaster dev azure build latestdefinitionidbranchnamemaster nuget nuget status img shield io nuget v svgstyleflatsquarelabelnuget www nuget org package support library solving puzzle                                                                                                                                                                                                                                                                                                                                                                                                                                                                                                                                                                                                                                                                                                                                                                                                                                                                                                                                                                                                                                                                                                                                                                                                                                                                                                                                                                                                                                                                                                                                                                                                                                                                                                                                                                                                                                                                                                                                                                                                                                                                                                                                                                                                                                                                                                                                                                                                                                                                                                                                                                                                                                                                                                                                                                                                                                                                                                                                                                                                                                                                                                                                                                                                                                                                                                                                                                                                                                                                                                                                                                                                                                                                                                                                                                                                                                                                                                                                                                                                                                                                                                                                                                                                                                                                                                                                                                                                                                                                                                                                                                                                                                                                                                                                                                                                                                                                                                                                                                                                                                                                                                                                                                                                                                                                                                                                                                                                                                                                                                                                                                                                                                                        1\n",
       "img shield io badge adventofcodebrightgreen language img shield io badge languagejavaorange www java completed img shield io badge dayscompleted red star img shield io badge starsyellow networkexceptions challenge check haxs schlauerhax trojaners trojanerhd derniklaas derniklaas lemoonstars reponamesolutions lemoonstar reponamesolutions dcdragoncoders dragoncoder joblos joblo feldims feldim derkalaenders derkalaender daan breurs adventodcode daanbreur turtle reponameforcomputercraft turtle reponameforcomputercraft                                                                                                                                                                                                                                                                                                                                                                                                                                                                                                                                                                                                                                                                                                                                                                                                                                                                                                                                                                                                                                                                                                                                                                                                                                                                                                                                                                                                                                                                                                                                                                                                                                                                                                                                                                                                                                                                                                                                                                                                                                                                                                                                                                                                                                                                                                                                                                                                                                                                                                                                                                                                                                                                                                                                                                                                                                                                                                                                                                                                                                                                                                                                                                                                                                                                                                                                                                                                                                                                                                                                                                                                                                                                                                                                                                                                                                                                                                                                                                                                                                                                                                                                                                                                                                                                                                                                                                                                                                                                                                                                                                                                                                                                                                                                                                                                                                                                                                                                                                                                                                                                                                                                                                                                                                                                                                                                                                             1\n",
       "usernames chose write year rust dont particularly ambitious goal trying write using idiomatic particular possible input cause one panic spent time benchmarking run cd directory invoke program cargo cd cargo run release input input txt question please open issue ask away beginner question much welcome                                                                                                                                                                                                                                                                                                                                                                                                                                                                                                                                                                                                                                                                                                                                                                                                                                                                                                                                                                                                                                                                                                                                                                                                                                                                                                                                                                                                                                                                                                                                                                                                                                                                                                                                                                                                                                                                                                                                                                                                                                                                                                                                                                                                                                                                                                                                                                                                                                                                                                                                                                                                                                                                                                                                                                                                                                                                                                                                                                                                                                                                                                                                                                                                                                                                                                                                                                                                                                                                                                                                                                                                                                                                                                                                                                                                                                                                                                                                                                                                                                                                                                                                                                                                                                                                                                                                                                                                                                                                                                                                                                                                                                                                                                                                                                                                                                                                                                                                                                                                                                                                                                                                                                                                                                                                                                                                                                                                                                                                                                                                                                                                       1\n",
       "unwrap everywhere edition                                                                                                                                                                                                                                                                                                                                                                                                                                                                                                                                                                                                                                                                                                                                                                                                                                                                                                                                                                                                                                                                                                                                                                                                                                                                                                                                                                                                                                                                                                                                                                                                                                                                                                                                                                                                                                                                                                                                                                                                                                                                                                                                                                                                                                                                                                                                                                                                                                                                                                                                                                                                                                                                                                                                                                                                                                                                                                                                                                                                                                                                                                                                                                                                                                                                                                                                                                                                                                                                                                                                                                                                                                                                                                                                                                                                                                                                                                                                                                                                                                                                                                                                                                                                                                                                                                                                                                                                                                                                                                                                                                                                                                                                                                                                                                                                                                                                                                                                                                                                                                                                                                                                                                                                                                                                                                                                                                                                                                                                                                                                                                                                                                                                                                                                                                                                                                                                                           1\n",
       "collection many different programming language uninitiated series programming challenge new one released dec th challenge requires thinking different way solve reason provides interesting look programming language approach problem youll notice given situation idiomatic python way solving something different haskell lisp way thing guideline create pull request contribution feel free put name website comment top like wont merge problem released allow dust settle dont rush making pr first come first merged goal project see idiomatic way solve problem given language reason keep feel best encapsulates idiomatic language defer community case unclear please dont include problem input txt different person please put part part separate file even bit duplication make easier figure whats going easy read even people dont know programming language include comment explaining interesting programming language trick idiom youre using pull request please follow established pattern year languagename daynum part extension dont get competitive someone el may accepted instead keep working try elegant idiomatic possible remember fun                                                                                                                                                                                                                                                                                                                                                                                                                                                                                                                                                                                                                                                                                                                                                                                                                                                                                                                                                                                                                                                                                                                                                                                                                                                                                                                                                                                                                                                                                                                                                                                                                                                                                                                                                                                                                                                                                                                                                                                                                                                                                                                                                                                                                                                                                                                                                                                                                                                                                                                                                                                                                                                                                                                                                                                                                                                                                                                                                                                                                                                                                                                                                                                                                                                                                                                                                                                                                                                                                                                                                                                                                                                                                                                                                                                                                                                                                                                                                                                                                                                                                                                                                                                                                                                                                                                                                                                                                                                                                                                                                                                                                                                                                                                                             1\n",
       "repos nim python nim ocaml python repo nim ocaml nbsp aim provide clean readable yet idiomatic three language comment suggestion advice please let know originally ive solved task nim python released ocaml added novemeber preparation first step ocaml task nim ocaml python note inverse captcha nim nim nim ml ocaml ml py python py taking advantage python negative index corruption checksum nim nim nim ml ocaml ml py python py spiral memory nim nim nim ml ocaml ml py python py building spiral table map dict three version using iterators nim python highentropy passphrases nim nim nim ml ocaml ml py python py maze twisty trampoline alike nim nim nim ml ocaml ml py python py used tryexcept python nice speed improvement memory reallocation nim nim nim ml ocaml ml py python py python doesnt orderedset use ordereddict recursive circus nim nim nim ml ocaml ml py python py python counter mostcommon quite helpful useful heard like register nim nim nim ml ocaml ml py python py stream processing nim nim nim ml ocaml ml py python py knot hash nim nim nim ml ocaml ml py python py changed reusable python version us deque pop rotate insert nim version traditional one hex ed nim nim nim ml ocaml ml py python py python version us cube coordinate nim ocaml version use axial coordinate digital plumber nim nim nim ml ocaml ml py python py bfs python dfs nim ocaml packet scanner nim nim nim ml ocaml ml py python py three version precalculate possible value delay using chinese remainder theorem en wikipedia org wiki chineseremaindertheorem gain significant speedup disk defragmentation nim nim nim ml ocaml ml py python py dueling generator nim nim nim ml ocaml ml py python py python generator generator generating generator value nim using bit masking give great speed boost permutation promenade nim nim nim ml ocaml ml py python py spinlock nim nim nim ml ocaml ml py python py brute force python using deque rotate expected version nim optimized duet nim nim nim ml ocaml ml py python py series tube nim nim nim ml ocaml ml py python py three use complex number great rotation plane particle swarm nim nim nim ml ocaml ml py python py fractal art nim nim nim ml ocaml ml py python py unoptimized ocaml nim python optimized second part python version us numpy expands grid step nim version count number time pattern present iteration sporifica virus nim nim nim ml ocaml ml py python py ocaml sum type pattern matching name game python version us dict complex plane nim version us array faster table regular plane enum rotating direction coprocessor conflagration nim nim nim ml ocaml ml py python py electromagnetic moat nim nim nim ml ocaml ml py python py bfs python recursive search nim ocaml optimized halting problem nim nim nim ml ocaml ml py python py python version us default dict nim version us array much faster table total time sec sec sec ocaml unoptimized ml ocaml ml python without bruteforced py python py py python py wa run pypy detailed run time see nbsp run time nim version devel ocaml version flambda python version cpu amd ryzen x ghz linux time millisecond reported result average run nim ocaml python ocaml wa optimized python wa run pypy python wa bruteforced                                                                                                                                                                                                                                                                                                                                                                                                                                                                                                                                                                                                                                                                                                                                                                                                                                                                                                                                                                                                                                                                                                                                                                                                                                                                                                                                                                                                                                                                                                                                                                                                                                                                                                                                                                                                                                                                                                                                                                                                                                                                                                                                                                                                                                                                                                                                                                                                                                                                                                                                                                                               1\n",
       "challenge information annual coding challenge season dec                                                                                                                                                                                                                                                                                                                                                                                                                                                                                                                                                                                                                                                                                                                                                                                                                                                                                                                                                                                                                                                                                                                                                                                                                                                                                                                                                                                                                                                                                                                                                                                                                                                                                                                                                                                                                                                                                                                                                                                                                                                                                                                                                                                                                                                                                                                                                                                                                                                                                                                                                                                                                                                                                                                                                                                                                                                                                                                                                                                                                                                                                                                                                                                                                                                                                                                                                                                                                                                                                                                                                                                                                                                                                                                                                                                                                                                                                                                                                                                                                                                                                                                                                                                                                                                                                                                                                                                                                                                                                                                                                                                                                                                                                                                                                                                                                                                                                                                                                                                                                                                                                                                                                                                                                                                                                                                                                                                                                                                                                                                                                                                                                                                                                                                                                                                                                                                            1\n",
       "series small programming puzzle variety skill level selfcontained appropriate expert want stay sharp beginner learning puzzle call upon different skill ha two part build theme problem information                                                                                                                                                                                                                                                                                                                                                                                                                                                                                                                                                                                                                                                                                                                                                                                                                                                                                                                                                                                                                                                                                                                                                                                                                                                                                                                                                                                                                                                                                                                                                                                                                                                                                                                                                                                                                                                                                                                                                                                                                                                                                                                                                                                                                                                                                                                                                                                                                                                                                                                                                                                                                                                                                                                                                                                                                                                                                                                                                                                                                                                                                                                                                                                                                                                                                                                                                                                                                                                                                                                                                                                                                                                                                                                                                                                                                                                                                                                                                                                                                                                                                                                                                                                                                                                                                                                                                                                                                                                                                                                                                                                                                                                                                                                                                                                                                                                                                                                                                                                                                                                                                                                                                                                                                                                                                                                                                                                                                                                                                                                                                                                                                                                                                                                 1\n",
       "challenge ruby us aoccli aoccli                                                                                                                                                                                                                                                                                                                                                                                                                                                                                                                                                                                                                                                                                                                                                                                                                                                                                                                                                                                                                                                                                                                                                                                                                                                                                                                                                                                                                                                                                                                                                                                                                                                                                                                                                                                                                                                                                                                                                                                                                                                                                                                                                                                                                                                                                                                                                                                                                                                                                                                                                                                                                                                                                                                                                                                                                                                                                                                                                                                                                                                                                                                                                                                                                                                                                                                                                                                                                                                                                                                                                                                                                                                                                                                                                                                                                                                                                                                                                                                                                                                                                                                                                                                                                                                                                                                                                                                                                                                                                                                                                                                                                                                                                                                                                                                                                                                                                                                                                                                                                                                                                                                                                                                                                                                                                                                                                                                                                                                                                                                                                                                                                                                                                                                                                                                                                                                                                     1\n",
       "description package                                                                                                                                                                                                                                                                                                                                                                                                                                                                                                                                                                                                                                                                                                                                                                                                                                                                                                                                                                                                                                                                                                                                                                                                                                                                                                                                                                                                                                                                                                                                                                                                                                                                                                                                                                                                                                                                                                                                                                                                                                                                                                                                                                                                                                                                                                                                                                                                                                                                                                                                                                                                                                                                                                                                                                                                                                                                                                                                                                                                                                                                                                                                                                                                                                                                                                                                                                                                                                                                                                                                                                                                                                                                                                                                                                                                                                                                                                                                                                                                                                                                                                                                                                                                                                                                                                                                                                                                                                                                                                                                                                                                                                                                                                                                                                                                                                                                                                                                                                                                                                                                                                                                                                                                                                                                                                                                                                                                                                                                                                                                                                                                                                                                                                                                                                                                                                                                                                 1\n",
       "compiler assembler vm compiler assembler vm computer mainly fun try different rust parsing library four crate project wrapper binary executing compiler assembler vm vm vm run file run input int asm assembler assemble program assembly asm input asm compiler compiler compile program higherlevel language compile input asm building installing building installing requires working rust installation www rustlang org cargo install path build source git clone cd cargo build target debug compiler compiler compile written simple highlevel language comment var x variable must declared first use globals initialized zero var also declared first assignment var z input get input print produce output func fib x argument variable declared function seperate call modify global variabl x return return fib x x recursion possible print fib z print x still zero function ha scope print changed const length constant computed compile time array length declare new array given length constant expression used specify length var index index length index fib index print length extension syntax highlighting visual studio found vscodesyntaxhighlighting vscodesyntaxhighlighting work file ha ic extension assembler example program computes part comment start start label jump x read memory location x assembler automatically allocates memory program eq x tmp check input yes stop print result jmptrue tmp end label target must prefixed get address instead value div x x sub x x add total x total jmp start end total hlt initialize total assembler doe automatically isnt really neccessary show concept total data example found example directory instruction operation effect note mov target target add b target target b sub b target target b mul b target target b div b target target b quite slow work positive number atm mod b target target b quite slow work positive number atm divmod b target rest target rest divmod b quite slow work positive number atm target target input print jmp target goto target jnz target goto target alias jtrue jz target goto target alias jfalse eq b target target b neq b target target b lt b target target b leq b target target b gt b target target b geq b target target b b target target b b target target b target target addrelbase relbase load target target memory store target memory target hlt exit alias halt data x store x raw data accepts multiple argument e g data array val len store val len time raw data accepts multiple argument e g data push val memory relbase val relbase pop target relbase target memory relbase call target push ip ret goto pop ip predifined label end used get address generated useful putting stack program addrelbase end simply putting label end program work program contains undeclared label variable put program parameter type identifier positional somename identifier immediate somename identifier relative somename value positional value immediate value relative                                                                                                                                                                                                                                                                                                                                                                                                                                                                                                                                                                                                                                                                                                                                                                                                                                                                                                                                                                                                                                                                                                                                                                                                                                                                                                                                                                                                                                                                                                                                                                                                                                                                                                                                                                                                                                                                                                                                                                                                                                                                                                                                                                                                                                                                                                                                                                                                                                                                                                                                                                                                                                                                                                                                                                                                                                                                                 1\n",
       "img shield io badge adventofcodebrightgreen language img shield io badge languagejavaorange www java language img shield io badge languagejavascript nodejsorange nodejs org en completed img shield io badge dayscompletedred tree de completed img shield io badge starsyellow check haxs schlauerhax trojaners trojanerhd networkexceptions dejakobniklas lemoonstars adventofcodesolutions lemoonstar adventofcodesolutions dcdragoncoders dragoncoder joblos joblo feldims feldim derkalaenders derkalaender daan breurs daanbreur turtle adventofcodeforcomputercraft turtle adventofcodeforcomputercraft                                                                                                                                                                                                                                                                                                                                                                                                                                                                                                                                                                                                                                                                                                                                                                                                                                                                                                                                                                                                                                                                                                                                                                                                                                                                                                                                                                                                                                                                                                                                                                                                                                                                                                                                                                                                                                                                                                                                                                                                                                                                                                                                                                                                                                                                                                                                                                                                                                                                                                                                                                                                                                                                                                                                                                                                                                                                                                                                                                                                                                                                                                                                                                                                                                                                                                                                                                                                                                                                                                                                                                                                                                                                                                                                                                                                                                                                                                                                                                                                                                                                                                                                                                                                                                                                                                                                                                                                                                                                                                                                                                                                                                                                                                                                                                                                                                                                                                                                                                                                                                                                                                                                                                                                                                                                                                     1\n",
       "csharp problem check demo gif dependency project based net core work window linux x anglesharp used problem download running run project install net core clone repo get help dotnet run usage dotnet run argument supported argument year daylastall solve specified problem year solve whole year last solve last problem solve everything start working new problem login copy session cookie export console like export sessionaeaabefcaeaeabfbdacaabbebfdebada run app update year prepares folder given update input readme creates template update last current work december                                                                                                                                                                                                                                                                                                                                                                                                                                                                                                                                                                                                                                                                                                                                                                                                                                                                                                                                                                                                                                                                                                                                                                                                                                                                                                                                                                                                                                                                                                                                                                                                                                                                                                                                                                                                                                                                                                                                                                                                                                                                                                                                                                                                                                                                                                                                                                                                                                                                                                                                                                                                                                                                                                                                                                                                                                                                                                                                                                                                                                                                                                                                                                                                                                                                                                                                                                                                                                                                                                                                                                                                                                                                                                                                                                                                                                                                                                                                                                                                                                                                                                                                                                                                                                                                                                                                                                                                                                                                                                                                                                                                                                                                                                                                                                                                                                                                                                                                                                                                                                                                                                                                                                                                                                                                                                                                1\n",
       "overview task probably solved mostly python ill try play language completion completion language python julia python julia python julia python python emphasized language wa first summary language used python julia                                                                                                                                                                                                                                                                                                                                                                                                                                                                                                                                                                                                                                                                                                                                                                                                                                                                                                                                                                                                                                                                                                                                                                                                                                                                                                                                                                                                                                                                                                                                                                                                                                                                                                                                                                                                                                                                                                                                                                                                                                                                                                                                                                                                                                                                                                                                                                                                                                                                                                                                                                                                                                                                                                                                                                                                                                                                                                                                                                                                                                                                                                                                                                                                                                                                                                                                                                                                                                                                                                                                                                                                                                                                                                                                                                                                                                                                                                                                                                                                                                                                                                                                                                                                                                                                                                                                                                                                                                                                                                                                                                                                                                                                                                                                                                                                                                                                                                                                                                                                                                                                                                                                                                                                                                                                                                                                                                                                                                                                                                                                                                                                                                                                                               1\n",
       "repository problem pony ponylang io created helper aoctools based experience last year year problem probably use library building life directory named etc need pony compiler ponylang ponyc stable ponylang ponystable pony dependency manager installed order build build go directory run following command stable fetch stable env ponyc create executable name directory running executables take two argument name input file part want run example wanted run part file ex txt would run following command ex txt                                                                                                                                                                                                                                                                                                                                                                                                                                                                                                                                                                                                                                                                                                                                                                                                                                                                                                                                                                                                                                                                                                                                                                                                                                                                                                                                                                                                                                                                                                                                                                                                                                                                                                                                                                                                                                                                                                                                                                                                                                                                                                                                                                                                                                                                                                                                                                                                                                                                                                                                                                                                                                                                                                                                                                                                                                                                                                                                                                                                                                                                                                                                                                                                                                                                                                                                                                                                                                                                                                                                                                                                                                                                                                                                                                                                                                                                                                                                                                                                                                                                                                                                                                                                                                                                                                                                                                                                                                                                                                                                                                                                                                                                                                                                                                                                                                                                                                                                                                                                                                                                                                                                                                                                                                                                                                                                                                                            1\n",
       "diary note function argument id come across thought full found e g r r etc wa proper refresher vector geometry cool new function tidyrcrossing put two tibbles together every possible way every line get matched every line tibble like full join without shared variable wa really easy well going back intcode computer adding bit functionality part ii wa exact thing part ii different input value program ran long time didnt time several minute think phew happy sunday one wa really simple part wa count filter part ii ggplot geomtile knowing na used transparent colour fill scalefillmanual value c white black na bios png wa horrendous finished look ive done network analysis feeling today challenge singleliner using right tool wa r readdelim input delim colnames c graphfromdataframe directed true distance sum distance real workhorse line read convert input graph object used distance part ii v youorbits sanorbits skipped first completed first didnt learn anything indexing pain datascience solved programmatically used datatable backgroundcolor debug rpubs riinu example mistake debugging png loop two filter r data filter c c c c c c c c c c filter c c c c c c c c c c c c c c c c c c c c c c c c c c c c learning time spent vain previous trying make exercise conform r theyre data science challenge decided thing way wa super fast fun plot pick answer plot path gifrawtrue dummy show sometimes gganimate single line transitionreveal var r library tidyverse library gganimate data ggplot aes x x group something geompath alpa transitionreveal indexvar creates bunch png file used imagemagick convert convert png output gif sys convert png output gif r script meditationg gif bit used plotlyggplotly interact plot zoom hover pooints intersection coordinate simple work meltcsv input wa row melt column sweet tried really hard make look like proper r map rather loop etc gave bashed nested loop heavy use indexing added every coordinate instruction start counting r fortran matter start new r function new scan inputfile read simple vector rather proper table data frame tibble                                                                                                                                                                                                                                                                                                                                                                                                                                                                                                                                                                                                                                                                                                                                                                                                                                                                                                                                                                                                                                                                                                                                                                                                                                                                                                                                                                                                                                                                                                                                                                                                                                                                                                                                                                                                                                                                                                                                                                                                                                                                                                                                                                                                                                                                                                                                                                                                                                                                                                                                                                                                                                                                                                                                                                                                                                                                                                                                                                                                                                                                                                                                                                                                                                                                                                                                                                                                                                                                                                                                                                                                                                                                                                                                                      1\n",
       "competition started late finished week late knocking earlier year time calculated using fsharp dotnet core                                                                                                                                                                                                                                                                                                                                                                                                                                                                                                                                                                                                                                                                                                                                                                                                                                                                                                                                                                                                                                                                                                                                                                                                                                                                                                                                                                                                                                                                                                                                                                                                                                                                                                                                                                                                                                                                                                                                                                                                                                                                                                                                                                                                                                                                                                                                                                                                                                                                                                                                                                                                                                                                                                                                                                                                                                                                                                                                                                                                                                                                                                                                                                                                                                                                                                                                                                                                                                                                                                                                                                                                                                                                                                                                                                                                                                                                                                                                                                                                                                                                                                                                                                                                                                                                                                                                                                                                                                                                                                                                                                                                                                                                                                                                                                                                                                                                                                                                                                                                                                                                                                                                                                                                                                                                                                                                                                                                                                                                                                                                                                                                                                                                                                                                                                                                          1\n",
       "coq repository contains formally verified example applying verification small programming challenge kind youre aiming prize probably way go contribution welcome probably take much longer actual span complete project help implementing specifying verifying welcome question open issue send email usernamegmail suggested task v v bare verification effort implement manhattan geometry project status december two challenge verified significant caveat apply read approach summary md summary md dependency coqsimpleio coqsimpleio project serf test coqsimpleio see missing make practical write executable program coq coqextlib coqextlib coqextlib coq coq inria fr ocaml ocaml org older version likely work optional dependency coqitree deepspec interactiontrees library free monad algebraic effect wip experimental proof using itree instead iorel found file sol dayextra v install coqitree opam make known adventofcoq sh git clone deepspec interactiontrees opam pin add coqitree interactiontrees inside create symbolic link coqconfig append coqconfig extra f option overwrites existing coqconfig append ln sf coqconfig extra coqconfig append generate coqproject compile lib itree make lib install development version coqsimpleio opam sh get source git clone coqsimpleio register local version coqsimpleio opam opam pin add k git coqsimpleio coqsimpleio coqsimpleio updated cd coqsimpleio git pull coqsimpleio opam reinstall coqsimpleio build compile run v example sh make exe exe txt                                                                                                                                                                                                                                                                                                                                                                                                                                                                                                                                                                                                                                                                                                                                                                                                                                                                                                                                                                                                                                                                                                                                                                                                                                                                                                                                                                                                                                                                                                                                                                                                                                                                                                                                                                                                                                                                                                                                                                                                                                                                                                                                                                                                                                                                                                                                                                                                                                                                                                                                                                                                                                                                                                                                                                                                                                                                                                                                                                                                                                                                                                                                                                                                                                                                                                                                                                                                                                                                                                                                                                                                                                                                                                                                                                                                                                                                                                                                                                                                                                                                                                                                                                                                                                                                                                                                                                                 1\n",
       "cplusplus many many twinkle festive console raw sparkle gif                                                                                                                                                                                                                                                                                                                                                                                                                                                                                                                                                                                                                                                                                                                                                                                                                                                                                                                                                                                                                                                                                                                                                                                                                                                                                                                                                                                                                                                                                                                                                                                                                                                                                                                                                                                                                                                                                                                                                                                                                                                                                                                                                                                                                                                                                                                                                                                                                                                                                                                                                                                                                                                                                                                                                                                                                                                                                                                                                                                                                                                                                                                                                                                                                                                                                                                                                                                                                                                                                                                                                                                                                                                                                                                                                                                                                                                                                                                                                                                                                                                                                                                                                                                                                                                                                                                                                                                                                                                                                                                                                                                                                                                                                                                                                                                                                                                                                                                                                                                                                                                                                                                                                                                                                                                                                                                                                                                                                                                                                                                                                                                                                                                                                                                                                                                                                                                         1\n",
       "Name: prepped, Length: 272, dtype: int64"
      ]
     },
     "execution_count": 20,
     "metadata": {},
     "output_type": "execute_result"
    }
   ],
   "source": [
    "mask = df.prepped != ''\n",
    "df = df[mask]\n",
    "df.prepped.value_counts()"
   ]
  },
  {
   "cell_type": "markdown",
   "metadata": {},
   "source": [
    "# Explore"
   ]
  },
  {
   "cell_type": "code",
   "execution_count": 21,
   "metadata": {},
   "outputs": [],
   "source": [
    "# isolate language and prepped columns by dropping other columns\n",
    "df = df.drop(columns={'author','language_all','readme','repo','normalized', 'stemmed', 'lemmatized','repo_full'})"
   ]
  },
  {
   "cell_type": "code",
   "execution_count": 22,
   "metadata": {},
   "outputs": [
    {
     "data": {
      "text/html": [
       "<div>\n",
       "<style scoped>\n",
       "    .dataframe tbody tr th:only-of-type {\n",
       "        vertical-align: middle;\n",
       "    }\n",
       "\n",
       "    .dataframe tbody tr th {\n",
       "        vertical-align: top;\n",
       "    }\n",
       "\n",
       "    .dataframe thead th {\n",
       "        text-align: right;\n",
       "    }\n",
       "</style>\n",
       "<table border=\"1\" class=\"dataframe\">\n",
       "  <thead>\n",
       "    <tr style=\"text-align: right;\">\n",
       "      <th></th>\n",
       "      <th>language</th>\n",
       "      <th>prepped</th>\n",
       "    </tr>\n",
       "  </thead>\n",
       "  <tbody>\n",
       "    <tr>\n",
       "      <th>0</th>\n",
       "      <td>Python</td>\n",
       "      <td>usernames daynamesolution tyranny rocket equat...</td>\n",
       "    </tr>\n",
       "    <tr>\n",
       "      <th>1</th>\n",
       "      <td>Haskell</td>\n",
       "      <td>im probably gonna problem im gonna pretend lik...</td>\n",
       "    </tr>\n",
       "    <tr>\n",
       "      <th>10</th>\n",
       "      <td>TypeScript</td>\n",
       "      <td>build status travisci svgbranchmaster travisci...</td>\n",
       "    </tr>\n",
       "    <tr>\n",
       "      <th>100</th>\n",
       "      <td>Python</td>\n",
       "      <td>santa christmastree gift problem might write s...</td>\n",
       "    </tr>\n",
       "    <tr>\n",
       "      <th>101</th>\n",
       "      <td>Swift</td>\n",
       "      <td>fifth installment creating package ive prepare...</td>\n",
       "    </tr>\n",
       "  </tbody>\n",
       "</table>\n",
       "</div>"
      ],
      "text/plain": [
       "       language                                            prepped\n",
       "0        Python  usernames daynamesolution tyranny rocket equat...\n",
       "1       Haskell  im probably gonna problem im gonna pretend lik...\n",
       "10   TypeScript  build status travisci svgbranchmaster travisci...\n",
       "100      Python  santa christmastree gift problem might write s...\n",
       "101       Swift  fifth installment creating package ive prepare..."
      ]
     },
     "execution_count": 22,
     "metadata": {},
     "output_type": "execute_result"
    }
   ],
   "source": [
    "df.head()"
   ]
  },
  {
   "cell_type": "markdown",
   "metadata": {},
   "source": [
    "### How many repos of each language exist?"
   ]
  },
  {
   "cell_type": "code",
   "execution_count": 23,
   "metadata": {},
   "outputs": [
    {
     "data": {
      "text/plain": [
       "Python              39\n",
       "JavaScript          35\n",
       "Haskell             25\n",
       "Rust                19\n",
       "Clojure             15\n",
       "Go                  14\n",
       "Java                12\n",
       "Kotlin              12\n",
       "Ruby                10\n",
       "C#                  10\n",
       "Elixir               9\n",
       "C++                  8\n",
       "Scala                8\n",
       "R                    7\n",
       "OCaml                5\n",
       "TypeScript           4\n",
       "PHP                  3\n",
       "Jupyter Notebook     3\n",
       "C                    3\n",
       "Scheme               2\n",
       "Elm                  2\n",
       "HTML                 2\n",
       "Perl                 2\n",
       "Pony                 2\n",
       "Crystal              2\n",
       "Swift                2\n",
       "Julia                2\n",
       "F#                   2\n",
       "Mathematica          1\n",
       "Eiffel               1\n",
       "Reason               1\n",
       "TSQL                 1\n",
       "Ada                  1\n",
       "D                    1\n",
       "Smalltalk            1\n",
       "Racket               1\n",
       "Haxe                 1\n",
       "Shell                1\n",
       "Coq                  1\n",
       "Erlang               1\n",
       "Dart                 1\n",
       "PureScript           1\n",
       "Nim                  1\n",
       "APL                  1\n",
       "PowerShell           1\n",
       "Name: language, dtype: int64"
      ]
     },
     "execution_count": 23,
     "metadata": {},
     "output_type": "execute_result"
    }
   ],
   "source": [
    "df.language.value_counts(normalize=False)"
   ]
  },
  {
   "cell_type": "markdown",
   "metadata": {},
   "source": [
    "### What percentage is this?"
   ]
  },
  {
   "cell_type": "code",
   "execution_count": 24,
   "metadata": {},
   "outputs": [
    {
     "data": {
      "text/plain": [
       "Python              0.141304\n",
       "JavaScript          0.126812\n",
       "Haskell             0.090580\n",
       "Rust                0.068841\n",
       "Clojure             0.054348\n",
       "Go                  0.050725\n",
       "Java                0.043478\n",
       "Kotlin              0.043478\n",
       "Ruby                0.036232\n",
       "C#                  0.036232\n",
       "Elixir              0.032609\n",
       "C++                 0.028986\n",
       "Scala               0.028986\n",
       "R                   0.025362\n",
       "OCaml               0.018116\n",
       "TypeScript          0.014493\n",
       "PHP                 0.010870\n",
       "Jupyter Notebook    0.010870\n",
       "C                   0.010870\n",
       "Scheme              0.007246\n",
       "Elm                 0.007246\n",
       "HTML                0.007246\n",
       "Perl                0.007246\n",
       "Pony                0.007246\n",
       "Crystal             0.007246\n",
       "Swift               0.007246\n",
       "Julia               0.007246\n",
       "F#                  0.007246\n",
       "Mathematica         0.003623\n",
       "Eiffel              0.003623\n",
       "Reason              0.003623\n",
       "TSQL                0.003623\n",
       "Ada                 0.003623\n",
       "D                   0.003623\n",
       "Smalltalk           0.003623\n",
       "Racket              0.003623\n",
       "Haxe                0.003623\n",
       "Shell               0.003623\n",
       "Coq                 0.003623\n",
       "Erlang              0.003623\n",
       "Dart                0.003623\n",
       "PureScript          0.003623\n",
       "Nim                 0.003623\n",
       "APL                 0.003623\n",
       "PowerShell          0.003623\n",
       "Name: language, dtype: float64"
      ]
     },
     "execution_count": 24,
     "metadata": {},
     "output_type": "execute_result"
    }
   ],
   "source": [
    "df.language.value_counts(normalize=True)"
   ]
  },
  {
   "cell_type": "markdown",
   "metadata": {},
   "source": [
    "### What are the most common words in READMEs?"
   ]
  },
  {
   "cell_type": "code",
   "execution_count": 25,
   "metadata": {},
   "outputs": [],
   "source": [
    "# get all text as a string\n",
    "all_text = \" \".join(df.prepped)\n",
    "# convert to a list of words\n",
    "all_words = all_text.split()"
   ]
  },
  {
   "cell_type": "code",
   "execution_count": 26,
   "metadata": {},
   "outputs": [
    {
     "data": {
      "text/plain": [
       "main              380\n",
       "run               375\n",
       "scala             327\n",
       "input             315\n",
       "part              292\n",
       "hpp               288\n",
       "problem           276\n",
       "py                246\n",
       "year              231\n",
       "puzzle            227\n",
       "test              210\n",
       "io                192\n",
       "r                 186\n",
       "cpp               180\n",
       "challenge         172\n",
       "nim               170\n",
       "reflection        164\n",
       "post              161\n",
       "heavycheckmark    157\n",
       "file              154\n",
       "include           154\n",
       "tree              146\n",
       "python            139\n",
       "md                135\n",
       "ginsberg          130\n",
       "using             123\n",
       "f                 120\n",
       "www               120\n",
       "rb                118\n",
       "go                117\n",
       "dtype: int64"
      ]
     },
     "execution_count": 26,
     "metadata": {},
     "output_type": "execute_result"
    }
   ],
   "source": [
    "raw_count = pd.Series(all_words).value_counts()\n",
    "# top 30 words\n",
    "raw_count.head(30)"
   ]
  },
  {
   "cell_type": "code",
   "execution_count": 27,
   "metadata": {},
   "outputs": [
    {
     "data": {
      "text/plain": [
       "Text(0.5, 1.0, '25 Most Common Words')"
      ]
     },
     "execution_count": 27,
     "metadata": {},
     "output_type": "execute_result"
    },
    {
     "data": {
      "image/png": "[encoded data removed]",
      "text/plain": [
       "<Figure size 432x288 with 1 Axes>"
      ]
     },
     "metadata": {
      "needs_background": "light"
     },
     "output_type": "display_data"
    }
   ],
   "source": [
    "raw_count.sort_values(ascending=False)[0:25].plot.barh(width=.9)\n",
    "plt.title('25 Most Common Words')"
   ]
  },
  {
   "cell_type": "markdown",
   "metadata": {},
   "source": [
    "### How does this look for popular languages?"
   ]
  },
  {
   "cell_type": "markdown",
   "metadata": {},
   "source": [
    "#### Python"
   ]
  },
  {
   "cell_type": "code",
   "execution_count": 28,
   "metadata": {},
   "outputs": [],
   "source": [
    "python_text = \" \".join(df[df.language == \"Python\"].prepped)\n",
    "python_words = python_text.split()"
   ]
  },
  {
   "cell_type": "code",
   "execution_count": 29,
   "metadata": {},
   "outputs": [
    {
     "data": {
      "text/plain": [
       "py                161\n",
       "python             56\n",
       "part               47\n",
       "run                38\n",
       "hand               35\n",
       "puzzle             33\n",
       "model              33\n",
       "image              30\n",
       "input              29\n",
       "tensorflow         29\n",
       "training           28\n",
       "p                  28\n",
       "heavycheckmark     26\n",
       "use                23\n",
       "dataset            23\n",
       "dtype: int64"
      ]
     },
     "execution_count": 29,
     "metadata": {},
     "output_type": "execute_result"
    }
   ],
   "source": [
    "python_count = pd.Series(python_words).value_counts()\n",
    "python_count.head(15)"
   ]
  },
  {
   "cell_type": "code",
   "execution_count": 30,
   "metadata": {},
   "outputs": [
    {
     "data": {
      "text/plain": [
       "Text(0.5, 1.0, 'Python 10 Most Common Words')"
      ]
     },
     "execution_count": 30,
     "metadata": {},
     "output_type": "execute_result"
    },
    {
     "data": {
      "image/png": "[encoded data removed]",
      "text/plain": [
       "<Figure size 432x288 with 1 Axes>"
      ]
     },
     "metadata": {
      "needs_background": "light"
     },
     "output_type": "display_data"
    }
   ],
   "source": [
    "python_count.sort_values(ascending=False)[0:10].plot.barh(width=.9)\n",
    "plt.title('Python 10 Most Common Words')"
   ]
  },
  {
   "cell_type": "markdown",
   "metadata": {},
   "source": [
    "#### Haskell"
   ]
  },
  {
   "cell_type": "code",
   "execution_count": 31,
   "metadata": {},
   "outputs": [],
   "source": [
    "haskell_text = \" \".join(df[df.language == \"Haskell\"].prepped)\n",
    "haskell_words = haskell_text.split()"
   ]
  },
  {
   "cell_type": "code",
   "execution_count": 32,
   "metadata": {},
   "outputs": [
    {
     "data": {
      "text/plain": [
       "reflection         164\n",
       "db                  96\n",
       "dr                  91\n",
       "challenge           89\n",
       "h                   66\n",
       "dh                  64\n",
       "dg                  64\n",
       "benchmark           52\n",
       "dc                  50\n",
       "mdday               49\n",
       "mddaybenchmarks     48\n",
       "haskell             47\n",
       "b                   44\n",
       "test                43\n",
       "run                 38\n",
       "dtype: int64"
      ]
     },
     "execution_count": 32,
     "metadata": {},
     "output_type": "execute_result"
    }
   ],
   "source": [
    "haskell_count = pd.Series(haskell_words).value_counts()\n",
    "haskell_count.head(15)"
   ]
  },
  {
   "cell_type": "code",
   "execution_count": 33,
   "metadata": {},
   "outputs": [
    {
     "data": {
      "text/plain": [
       "Text(0.5, 1.0, 'Haskell 10 Most Common Words')"
      ]
     },
     "execution_count": 33,
     "metadata": {},
     "output_type": "execute_result"
    },
    {
     "data": {
      "image/png": "[encoded data removed]",
      "text/plain": [
       "<Figure size 432x288 with 1 Axes>"
      ]
     },
     "metadata": {
      "needs_background": "light"
     },
     "output_type": "display_data"
    }
   ],
   "source": [
    "haskell_count.sort_values(ascending=False)[0:10].plot.barh(width=.9)\n",
    "plt.title('Haskell 10 Most Common Words')"
   ]
  },
  {
   "cell_type": "markdown",
   "metadata": {},
   "source": [
    "#### JavaScript"
   ]
  },
  {
   "cell_type": "code",
   "execution_count": 34,
   "metadata": {},
   "outputs": [],
   "source": [
    "javascript_text = \" \".join(df[df.language == \"JavaScript\"].prepped)\n",
    "javascript_words = javascript_text.split()"
   ]
  },
  {
   "cell_type": "code",
   "execution_count": 35,
   "metadata": {},
   "outputs": [
    {
     "data": {
      "text/plain": [
       "run                64\n",
       "j                  59\n",
       "star               49\n",
       "puzzle             48\n",
       "part               40\n",
       "npm                40\n",
       "index              38\n",
       "test               36\n",
       "year               34\n",
       "input              33\n",
       "simulation         27\n",
       "net                26\n",
       "post               26\n",
       "node               25\n",
       "adventofcodeday    25\n",
       "dtype: int64"
      ]
     },
     "execution_count": 35,
     "metadata": {},
     "output_type": "execute_result"
    }
   ],
   "source": [
    "javascript_count = pd.Series(javascript_words).value_counts()\n",
    "javascript_count.head(15)"
   ]
  },
  {
   "cell_type": "code",
   "execution_count": 36,
   "metadata": {},
   "outputs": [
    {
     "data": {
      "text/plain": [
       "Text(0.5, 1.0, 'JavaScript 10 most common words')"
      ]
     },
     "execution_count": 36,
     "metadata": {},
     "output_type": "execute_result"
    },
    {
     "data": {
      "image/png": "[encoded data removed]",
      "text/plain": [
       "<Figure size 432x288 with 1 Axes>"
      ]
     },
     "metadata": {
      "needs_background": "light"
     },
     "output_type": "display_data"
    }
   ],
   "source": [
    "javascript_count.sort_values(ascending=False)[0:10].plot.barh(width=.9)\n",
    "plt.title('JavaScript 10 most common words')"
   ]
  },
  {
   "cell_type": "markdown",
   "metadata": {},
   "source": [
    "#### Rust"
   ]
  },
  {
   "cell_type": "code",
   "execution_count": 37,
   "metadata": {},
   "outputs": [],
   "source": [
    "rust_text = \" \".join(df[df.language == \"Rust\"].prepped)\n",
    "rust_words = rust_text.split()"
   ]
  },
  {
   "cell_type": "code",
   "execution_count": 38,
   "metadata": {},
   "outputs": [
    {
     "data": {
      "text/plain": [
       "r               103\n",
       "target           56\n",
       "reddit           50\n",
       "cargo            47\n",
       "input            43\n",
       "rust             39\n",
       "run              38\n",
       "twitter          30\n",
       "www              29\n",
       "b                29\n",
       "comment          28\n",
       "daysolutions     25\n",
       "main             22\n",
       "part             21\n",
       "x                20\n",
       "dtype: int64"
      ]
     },
     "execution_count": 38,
     "metadata": {},
     "output_type": "execute_result"
    }
   ],
   "source": [
    "rust_count = pd.Series(rust_words).value_counts()\n",
    "rust_count.head(15)"
   ]
  },
  {
   "cell_type": "code",
   "execution_count": 39,
   "metadata": {},
   "outputs": [
    {
     "data": {
      "text/plain": [
       "Text(0.5, 1.0, 'Rust 10 Most Common Words')"
      ]
     },
     "execution_count": 39,
     "metadata": {},
     "output_type": "execute_result"
    },
    {
     "data": {
      "image/png": "[encoded data removed]",
      "text/plain": [
       "<Figure size 432x288 with 1 Axes>"
      ]
     },
     "metadata": {
      "needs_background": "light"
     },
     "output_type": "display_data"
    }
   ],
   "source": [
    "rust_count.sort_values(ascending=False)[0:10].plot.barh(width=.9)\n",
    "plt.title('Rust 10 Most Common Words')"
   ]
  },
  {
   "cell_type": "markdown",
   "metadata": {},
   "source": [
    "#### Clojure"
   ]
  },
  {
   "cell_type": "code",
   "execution_count": 40,
   "metadata": {},
   "outputs": [],
   "source": [
    "clojure_text = \" \".join(df[df.language == \"Clojure\"].prepped)\n",
    "clojure_words = clojure_text.split()"
   ]
  },
  {
   "cell_type": "code",
   "execution_count": 41,
   "metadata": {},
   "outputs": [
    {
     "data": {
      "text/plain": [
       "clj         66\n",
       "clojure     41\n",
       "test        20\n",
       "run         18\n",
       "script      13\n",
       "input       13\n",
       "part        11\n",
       "one          9\n",
       "py           8\n",
       "tree         8\n",
       "circleci     7\n",
       "year         7\n",
       "license      7\n",
       "problem      7\n",
       "python       7\n",
       "dtype: int64"
      ]
     },
     "execution_count": 41,
     "metadata": {},
     "output_type": "execute_result"
    }
   ],
   "source": [
    "clojure_count = pd.Series(clojure_words).value_counts()\n",
    "clojure_count.head(15)"
   ]
  },
  {
   "cell_type": "code",
   "execution_count": 42,
   "metadata": {},
   "outputs": [
    {
     "data": {
      "text/plain": [
       "Text(0.5, 1.0, 'Clojure 10 most common words')"
      ]
     },
     "execution_count": 42,
     "metadata": {},
     "output_type": "execute_result"
    },
    {
     "data": {
      "image/png": "[encoded data removed]",
      "text/plain": [
       "<Figure size 432x288 with 1 Axes>"
      ]
     },
     "metadata": {
      "needs_background": "light"
     },
     "output_type": "display_data"
    }
   ],
   "source": [
    "clojure_count.sort_values(ascending=False)[0:10].plot.barh(width=.9)\n",
    "plt.title('Clojure 10 most common words')"
   ]
  },
  {
   "cell_type": "markdown",
   "metadata": {},
   "source": [
    "#### Java"
   ]
  },
  {
   "cell_type": "code",
   "execution_count": 43,
   "metadata": {},
   "outputs": [],
   "source": [
    "java_text = \" \".join(df[df.language == \"Java\"].prepped)\n",
    "java_words = java_text.split()"
   ]
  },
  {
   "cell_type": "code",
   "execution_count": 44,
   "metadata": {},
   "outputs": [
    {
     "data": {
      "text/plain": [
       "java         45\n",
       "problem      33\n",
       "tree         26\n",
       "statement    25\n",
       "run          23\n",
       "input        21\n",
       "main         16\n",
       "language     14\n",
       "io           11\n",
       "img          11\n",
       "shield       11\n",
       "sbaars       11\n",
       "part         10\n",
       "badge         9\n",
       "completed     8\n",
       "dtype: int64"
      ]
     },
     "execution_count": 44,
     "metadata": {},
     "output_type": "execute_result"
    }
   ],
   "source": [
    "java_count = pd.Series(java_words).value_counts()\n",
    "java_count.head(15)"
   ]
  },
  {
   "cell_type": "code",
   "execution_count": 45,
   "metadata": {},
   "outputs": [
    {
     "data": {
      "text/plain": [
       "Text(0.5, 1.0, 'Java 10 most common words')"
      ]
     },
     "execution_count": 45,
     "metadata": {},
     "output_type": "execute_result"
    },
    {
     "data": {
      "image/png": "[encoded data removed]",
      "text/plain": [
       "<Figure size 432x288 with 1 Axes>"
      ]
     },
     "metadata": {
      "needs_background": "light"
     },
     "output_type": "display_data"
    }
   ],
   "source": [
    "java_count.sort_values(ascending=False)[0:10].plot.barh(width=.9)\n",
    "plt.title('Java 10 most common words')"
   ]
  },
  {
   "cell_type": "markdown",
   "metadata": {},
   "source": [
    "### Does the length of the README vary by programming language?"
   ]
  },
  {
   "cell_type": "code",
   "execution_count": null,
   "metadata": {},
   "outputs": [],
   "source": []
  },
  {
   "cell_type": "markdown",
   "metadata": {},
   "source": [
    "### Do different programming languages use a different number of unique words?"
   ]
  },
  {
   "cell_type": "code",
   "execution_count": null,
   "metadata": {},
   "outputs": [],
   "source": []
  },
  {
   "cell_type": "markdown",
   "metadata": {},
   "source": [
    "# Modeling"
   ]
  },
  {
   "cell_type": "markdown",
   "metadata": {},
   "source": [
    "Here we will look at the raw count, term frequency (tf), and inverse document frequency (idf). Then we will use that information to create models. We will train several different models and pick the best one. We will test the best model and evaluate the results. "
   ]
  },
  {
   "cell_type": "code",
   "execution_count": 46,
   "metadata": {},
   "outputs": [
    {
     "data": {
      "text/html": [
       "<div>\n",
       "<style scoped>\n",
       "    .dataframe tbody tr th:only-of-type {\n",
       "        vertical-align: middle;\n",
       "    }\n",
       "\n",
       "    .dataframe tbody tr th {\n",
       "        vertical-align: top;\n",
       "    }\n",
       "\n",
       "    .dataframe thead th {\n",
       "        text-align: right;\n",
       "    }\n",
       "</style>\n",
       "<table border=\"1\" class=\"dataframe\">\n",
       "  <thead>\n",
       "    <tr style=\"text-align: right;\">\n",
       "      <th></th>\n",
       "      <th>raw_count</th>\n",
       "      <th>term_frequency</th>\n",
       "    </tr>\n",
       "  </thead>\n",
       "  <tbody>\n",
       "    <tr>\n",
       "      <th>main</th>\n",
       "      <td>380</td>\n",
       "      <td>0.012543</td>\n",
       "    </tr>\n",
       "    <tr>\n",
       "      <th>run</th>\n",
       "      <td>375</td>\n",
       "      <td>0.012378</td>\n",
       "    </tr>\n",
       "    <tr>\n",
       "      <th>scala</th>\n",
       "      <td>327</td>\n",
       "      <td>0.010794</td>\n",
       "    </tr>\n",
       "    <tr>\n",
       "      <th>input</th>\n",
       "      <td>315</td>\n",
       "      <td>0.010397</td>\n",
       "    </tr>\n",
       "    <tr>\n",
       "      <th>part</th>\n",
       "      <td>292</td>\n",
       "      <td>0.009638</td>\n",
       "    </tr>\n",
       "  </tbody>\n",
       "</table>\n",
       "</div>"
      ],
      "text/plain": [
       "       raw_count  term_frequency\n",
       "main         380        0.012543\n",
       "run          375        0.012378\n",
       "scala        327        0.010794\n",
       "input        315        0.010397\n",
       "part         292        0.009638"
      ]
     },
     "execution_count": 46,
     "metadata": {},
     "output_type": "execute_result"
    }
   ],
   "source": [
    "# Create a data frame with raw count and tf\n",
    "tf_df = pd.DataFrame({'raw_count': raw_count})\n",
    "tf_df = tf_df.assign(term_frequency = lambda df: df.raw_count / df.raw_count.sum())\n",
    "tf_df.raw_count.max()\n",
    "tf_df.head()"
   ]
  },
  {
   "cell_type": "code",
   "execution_count": 47,
   "metadata": {},
   "outputs": [],
   "source": [
    "# Create a function that takes in a word and returns the idf of that word\n",
    "def idf(word):\n",
    "    n_occurrences = sum([1 for doc in df.prepped if word in doc])\n",
    "    n_docs = len(df.prepped)\n",
    "    idf = np.log(n_docs/n_occurrences)\n",
    "    return idf"
   ]
  },
  {
   "cell_type": "code",
   "execution_count": 48,
   "metadata": {},
   "outputs": [
    {
     "data": {
      "text/plain": [
       "4447"
      ]
     },
     "execution_count": 48,
     "metadata": {},
     "output_type": "execute_result"
    }
   ],
   "source": [
    "# Create a list of unique words\n",
    "unique_words = pd.Series(' '.join(df.prepped).split()).unique()\n",
    "len(unique_words)"
   ]
  },
  {
   "cell_type": "code",
   "execution_count": 49,
   "metadata": {},
   "outputs": [
    {
     "data": {
      "text/html": [
       "<div>\n",
       "<style scoped>\n",
       "    .dataframe tbody tr th:only-of-type {\n",
       "        vertical-align: middle;\n",
       "    }\n",
       "\n",
       "    .dataframe tbody tr th {\n",
       "        vertical-align: top;\n",
       "    }\n",
       "\n",
       "    .dataframe thead th {\n",
       "        text-align: right;\n",
       "    }\n",
       "</style>\n",
       "<table border=\"1\" class=\"dataframe\">\n",
       "  <thead>\n",
       "    <tr style=\"text-align: right;\">\n",
       "      <th></th>\n",
       "      <th>idf</th>\n",
       "    </tr>\n",
       "    <tr>\n",
       "      <th>word</th>\n",
       "      <th></th>\n",
       "    </tr>\n",
       "  </thead>\n",
       "  <tbody>\n",
       "    <tr>\n",
       "      <th>coqsimpleio</th>\n",
       "      <td>5.620401</td>\n",
       "    </tr>\n",
       "    <tr>\n",
       "      <th>feeddict</th>\n",
       "      <td>5.620401</td>\n",
       "    </tr>\n",
       "    <tr>\n",
       "      <th>imagenpexpanded</th>\n",
       "      <td>5.620401</td>\n",
       "    </tr>\n",
       "    <tr>\n",
       "      <th>drawboxonimage</th>\n",
       "      <td>5.620401</td>\n",
       "    </tr>\n",
       "    <tr>\n",
       "      <th>detectmultithreaded</th>\n",
       "      <td>5.620401</td>\n",
       "    </tr>\n",
       "    <tr>\n",
       "      <th>threaded</th>\n",
       "      <td>5.620401</td>\n",
       "    </tr>\n",
       "    <tr>\n",
       "      <th>camera</th>\n",
       "      <td>5.620401</td>\n",
       "    </tr>\n",
       "    <tr>\n",
       "      <th>videe</th>\n",
       "      <td>5.620401</td>\n",
       "    </tr>\n",
       "    <tr>\n",
       "      <th>detectsinglethreaded</th>\n",
       "      <td>5.620401</td>\n",
       "    </tr>\n",
       "    <tr>\n",
       "      <th>exportinferencegraph</th>\n",
       "      <td>5.620401</td>\n",
       "    </tr>\n",
       "    <tr>\n",
       "      <th>guidance</th>\n",
       "      <td>5.620401</td>\n",
       "    </tr>\n",
       "    <tr>\n",
       "      <th>threading</th>\n",
       "      <td>5.620401</td>\n",
       "    </tr>\n",
       "    <tr>\n",
       "      <th>adrian</th>\n",
       "      <td>5.620401</td>\n",
       "    </tr>\n",
       "    <tr>\n",
       "      <th>rosebuck</th>\n",
       "      <td>5.620401</td>\n",
       "    </tr>\n",
       "    <tr>\n",
       "      <th>pyimagesearch</th>\n",
       "      <td>5.620401</td>\n",
       "    </tr>\n",
       "    <tr>\n",
       "      <th>fastervideofilefpswithcvvideocaptureandopencv</th>\n",
       "      <td>5.620401</td>\n",
       "    </tr>\n",
       "    <tr>\n",
       "      <th>parrallelizing</th>\n",
       "      <td>5.620401</td>\n",
       "    </tr>\n",
       "    <tr>\n",
       "      <th>capture</th>\n",
       "      <td>5.620401</td>\n",
       "    </tr>\n",
       "    <tr>\n",
       "      <th>worker</th>\n",
       "      <td>5.620401</td>\n",
       "    </tr>\n",
       "    <tr>\n",
       "      <th>opencv</th>\n",
       "      <td>5.620401</td>\n",
       "    </tr>\n",
       "    <tr>\n",
       "      <th>cv</th>\n",
       "      <td>5.620401</td>\n",
       "    </tr>\n",
       "    <tr>\n",
       "      <th>bgr</th>\n",
       "      <td>5.620401</td>\n",
       "    </tr>\n",
       "    <tr>\n",
       "      <th>learnopencv</th>\n",
       "      <td>5.620401</td>\n",
       "    </tr>\n",
       "    <tr>\n",
       "      <th>imagetensor</th>\n",
       "      <td>5.620401</td>\n",
       "    </tr>\n",
       "    <tr>\n",
       "      <th>numdetections</th>\n",
       "      <td>5.620401</td>\n",
       "    </tr>\n",
       "  </tbody>\n",
       "</table>\n",
       "</div>"
      ],
      "text/plain": [
       "                                                    idf\n",
       "word                                                   \n",
       "coqsimpleio                                    5.620401\n",
       "feeddict                                       5.620401\n",
       "imagenpexpanded                                5.620401\n",
       "drawboxonimage                                 5.620401\n",
       "detectmultithreaded                            5.620401\n",
       "threaded                                       5.620401\n",
       "camera                                         5.620401\n",
       "videe                                          5.620401\n",
       "detectsinglethreaded                           5.620401\n",
       "exportinferencegraph                           5.620401\n",
       "guidance                                       5.620401\n",
       "threading                                      5.620401\n",
       "adrian                                         5.620401\n",
       "rosebuck                                       5.620401\n",
       "pyimagesearch                                  5.620401\n",
       "fastervideofilefpswithcvvideocaptureandopencv  5.620401\n",
       "parrallelizing                                 5.620401\n",
       "capture                                        5.620401\n",
       "worker                                         5.620401\n",
       "opencv                                         5.620401\n",
       "cv                                             5.620401\n",
       "bgr                                            5.620401\n",
       "learnopencv                                    5.620401\n",
       "imagetensor                                    5.620401\n",
       "numdetections                                  5.620401"
      ]
     },
     "execution_count": 49,
     "metadata": {},
     "output_type": "execute_result"
    }
   ],
   "source": [
    "idf_df = pd.DataFrame(dict(word = unique_words))\n",
    "idf_df = idf_df.assign(idf = lambda df: df.word.apply(idf))\n",
    "idf_df = idf_df.set_index('word').sort_values(by='idf', ascending = False)\n",
    "idf_df.head(25)"
   ]
  },
  {
   "cell_type": "code",
   "execution_count": 50,
   "metadata": {},
   "outputs": [
    {
     "data": {
      "text/plain": [
       "Python              39\n",
       "JavaScript          35\n",
       "Haskell             25\n",
       "Rust                19\n",
       "Clojure             15\n",
       "Go                  14\n",
       "Java                12\n",
       "Kotlin              12\n",
       "Ruby                10\n",
       "C#                  10\n",
       "Elixir               9\n",
       "C++                  8\n",
       "Scala                8\n",
       "R                    7\n",
       "OCaml                5\n",
       "TypeScript           4\n",
       "PHP                  3\n",
       "Jupyter Notebook     3\n",
       "C                    3\n",
       "Scheme               2\n",
       "Elm                  2\n",
       "HTML                 2\n",
       "Perl                 2\n",
       "Pony                 2\n",
       "Crystal              2\n",
       "Swift                2\n",
       "Julia                2\n",
       "F#                   2\n",
       "Mathematica          1\n",
       "Eiffel               1\n",
       "Reason               1\n",
       "TSQL                 1\n",
       "Ada                  1\n",
       "D                    1\n",
       "Smalltalk            1\n",
       "Racket               1\n",
       "Haxe                 1\n",
       "Shell                1\n",
       "Coq                  1\n",
       "Erlang               1\n",
       "Dart                 1\n",
       "PureScript           1\n",
       "Nim                  1\n",
       "APL                  1\n",
       "PowerShell           1\n",
       "Name: language, dtype: int64"
      ]
     },
     "execution_count": 50,
     "metadata": {},
     "output_type": "execute_result"
    }
   ],
   "source": [
    "df.language.value_counts()"
   ]
  },
  {
   "cell_type": "markdown",
   "metadata": {},
   "source": [
    "#### It will not be realistic or benefitial to train and predict languages with a very small sample size. To accomodate for this, we create the label 'Other'. Other includes all languages that have less than 9 samples. This leaves us with the top 11 languages and the label Other for a total of 12 programming languages. "
   ]
  },
  {
   "cell_type": "code",
   "execution_count": 51,
   "metadata": {},
   "outputs": [],
   "source": [
    "df['language'] = df['language'].replace({'C++':'Other', 'Scala':'Other', 'OCaml':'Other','C':'Other', 'Elm':'Other', 'Pony':'Other', 'HTML':'Other', 'Perl':'Other','APL':'Other', 'Haxe':'Other', 'Racket':'Other', 'PureScript':'Other', 'Coq':'Other','F#':'Other', 'PHP':'Other', 'TSQL':'Other', 'Crystal':'Other', 'Nim':'Other', 'Shell':'Other', 'Eiffel':'Other', 'Mathematica':'Other', 'Swift':'Other', 'Reason':'Other', 'TypeScript':'Other', 'Jupyter Notebook':'Python', 'Scheme':'Other', 'Powershell':'Other', 'Julia':'Other', 'PowerShell':'Other', 'Ada':'Other', 'Erlang':'Other', 'Smalltalk':'Other', 'D':'Other', 'Dart':'Other', 'R':'Other'})"
   ]
  },
  {
   "cell_type": "code",
   "execution_count": 73,
   "metadata": {},
   "outputs": [
    {
     "data": {
      "text/plain": [
       "Other         73\n",
       "Python        42\n",
       "JavaScript    35\n",
       "Haskell       25\n",
       "Rust          19\n",
       "Clojure       15\n",
       "Go            14\n",
       "Kotlin        12\n",
       "Java          12\n",
       "Ruby          10\n",
       "C#            10\n",
       "Elixir         9\n",
       "Name: language, dtype: int64"
      ]
     },
     "execution_count": 73,
     "metadata": {},
     "output_type": "execute_result"
    }
   ],
   "source": [
    "df.language.value_counts()"
   ]
  },
  {
   "cell_type": "code",
   "execution_count": 68,
   "metadata": {},
   "outputs": [
    {
     "data": {
      "text/plain": [
       "276"
      ]
     },
     "execution_count": 68,
     "metadata": {},
     "output_type": "execute_result"
    }
   ],
   "source": [
    "sum(df.language.value_counts())"
   ]
  },
  {
   "cell_type": "markdown",
   "metadata": {},
   "source": [
    "## Split"
   ]
  },
  {
   "cell_type": "code",
   "execution_count": 71,
   "metadata": {},
   "outputs": [],
   "source": [
    "tfidf = TfidfVectorizer()\n",
    "X = tfidf.fit_transform(df.prepped)\n",
    "y = df.language\n",
    "\n",
    "# 80% train, 20% test\n",
    "X_train, X_test, y_train, y_test = train_test_split(X, y, stratify=y, test_size=.2)\n",
    "\n",
    "train = pd.DataFrame(dict(actual=y_train))\n",
    "test = pd.DataFrame(dict(actual=y_test))"
   ]
  },
  {
   "cell_type": "markdown",
   "metadata": {},
   "source": [
    "## Baseline: Predict Most Popular Language"
   ]
  },
  {
   "cell_type": "markdown",
   "metadata": {},
   "source": [
    "#### Baseline Accuracy: 26%"
   ]
  },
  {
   "cell_type": "markdown",
   "metadata": {},
   "source": [
    "Our data consists of 276 readme entries. Our most popular programming language is 'Other' with 73. If we were to guess Other for every language, we would be correct 26% of the time. Our final model must beat this baseline accuracy of 26%."
   ]
  },
  {
   "cell_type": "markdown",
   "metadata": {},
   "source": [
    "## Model 1: Logistic Regression"
   ]
  },
  {
   "cell_type": "code",
   "execution_count": 72,
   "metadata": {},
   "outputs": [],
   "source": [
    "lm = LogisticRegression().fit(X_train, y_train)\n",
    "\n",
    "train['predicted'] = lm.predict(X_train)\n",
    "test['predicted'] = lm.predict(X_test)"
   ]
  },
  {
   "cell_type": "markdown",
   "metadata": {},
   "source": [
    "### Train Evaluation"
   ]
  },
  {
   "cell_type": "code",
   "execution_count": 55,
   "metadata": {},
   "outputs": [
    {
     "name": "stdout",
     "output_type": "stream",
     "text": [
      "Accuracy: 69.09%\n",
      "---\n",
      "Confusion Matrix\n",
      "actual      C#  Clojure  Elixir  Go  Haskell  Java  JavaScript  Kotlin  Other  \\\n",
      "predicted                                                                       \n",
      "Clojure      0        6       0   0        0     0           0       0      0   \n",
      "Go           0        0       0   3        0     0           0       0      0   \n",
      "Haskell      0        0       0   0       14     0           0       0      0   \n",
      "Java         0        0       0   0        0     4           0       0      0   \n",
      "JavaScript   0        0       0   1        0     0          23       0      0   \n",
      "Kotlin       0        0       0   0        0     0           0       4      0   \n",
      "Other        8        6       7   7        6     5           5       6     58   \n",
      "Python       0        0       0   0        0     1           0       0      0   \n",
      "Ruby         0        0       0   0        0     0           0       0      0   \n",
      "Rust         0        0       0   0        0     0           0       0      0   \n",
      "\n",
      "actual      Python  Ruby  Rust  \n",
      "predicted                       \n",
      "Clojure          0     0     0  \n",
      "Go               0     0     0  \n",
      "Haskell          0     0     0  \n",
      "Java             0     0     0  \n",
      "JavaScript       0     0     0  \n",
      "Kotlin           0     0     0  \n",
      "Other            3     5     8  \n",
      "Python          30     0     0  \n",
      "Ruby             0     3     0  \n",
      "Rust             0     0     7  \n",
      "---\n",
      "              precision    recall  f1-score   support\n",
      "\n",
      "          C#       0.00      0.00      0.00         8\n",
      "     Clojure       1.00      0.50      0.67        12\n",
      "      Elixir       0.00      0.00      0.00         7\n",
      "          Go       1.00      0.27      0.43        11\n",
      "     Haskell       1.00      0.70      0.82        20\n",
      "        Java       1.00      0.40      0.57        10\n",
      "  JavaScript       0.96      0.82      0.88        28\n",
      "      Kotlin       1.00      0.40      0.57        10\n",
      "       Other       0.47      1.00      0.64        58\n",
      "      Python       0.97      0.91      0.94        33\n",
      "        Ruby       1.00      0.38      0.55         8\n",
      "        Rust       1.00      0.47      0.64        15\n",
      "\n",
      "    accuracy                           0.69       220\n",
      "   macro avg       0.78      0.49      0.56       220\n",
      "weighted avg       0.78      0.69      0.67       220\n",
      "\n"
     ]
    }
   ],
   "source": [
    "print('Accuracy: {:.2%}'.format(accuracy_score(train.actual, train.predicted)))\n",
    "print('---')\n",
    "print('Confusion Matrix')\n",
    "print(pd.crosstab(train.predicted, train.actual))\n",
    "print('---')\n",
    "print(classification_report(train.actual, train.predicted))"
   ]
  },
  {
   "cell_type": "markdown",
   "metadata": {},
   "source": [
    "## Model 2: Decision Tree"
   ]
  },
  {
   "cell_type": "code",
   "execution_count": 56,
   "metadata": {},
   "outputs": [
    {
     "data": {
      "text/plain": [
       "DecisionTreeClassifier(class_weight=None, criterion='entropy', max_depth=9,\n",
       "                       max_features=None, max_leaf_nodes=None,\n",
       "                       min_impurity_decrease=0.0, min_impurity_split=None,\n",
       "                       min_samples_leaf=1, min_samples_split=2,\n",
       "                       min_weight_fraction_leaf=0.0, presort=False,\n",
       "                       random_state=123, splitter='best')"
      ]
     },
     "execution_count": 56,
     "metadata": {},
     "output_type": "execute_result"
    }
   ],
   "source": [
    "# Create\n",
    "tree = DecisionTreeClassifier(criterion='entropy', max_depth=9, random_state=123)\n",
    "# Fit\n",
    "tree.fit(X_train, y_train)"
   ]
  },
  {
   "cell_type": "code",
   "execution_count": 57,
   "metadata": {},
   "outputs": [],
   "source": [
    "train = pd.DataFrame(dict(actual=y_train))\n",
    "test = pd.DataFrame(dict(actual=y_test))\n",
    "# Predict\n",
    "train['predicted'] = tree.predict(X_train)\n",
    "test['predicted'] = tree.predict(X_test)"
   ]
  },
  {
   "cell_type": "markdown",
   "metadata": {},
   "source": [
    "### Train Evaluation"
   ]
  },
  {
   "cell_type": "code",
   "execution_count": 58,
   "metadata": {},
   "outputs": [
    {
     "name": "stdout",
     "output_type": "stream",
     "text": [
      "Accuracy: 70.00%\n",
      "---\n",
      "Confusion Matrix\n",
      "actual      C#  Clojure  Elixir  Go  Haskell  Java  JavaScript  Kotlin  Other  \\\n",
      "predicted                                                                       \n",
      "C#           1        0       0   0        0     0           0       0      0   \n",
      "Clojure      0        9       0   0        0     0           0       0      0   \n",
      "Elixir       0        0       7   0        0     0           0       0      0   \n",
      "Go           0        0       0   7        0     0           0       0      1   \n",
      "Haskell      0        0       0   0       12     0           0       0      0   \n",
      "Java         0        0       0   0        0     5           0       0      0   \n",
      "JavaScript   3        1       0   1        1     2          20       1      8   \n",
      "Kotlin       0        0       0   0        0     0           0       7      0   \n",
      "Other        4        2       0   3        7     3           8       2     49   \n",
      "Python       0        0       0   0        0     0           0       0      0   \n",
      "Ruby         0        0       0   0        0     0           0       0      0   \n",
      "Rust         0        0       0   0        0     0           0       0      0   \n",
      "\n",
      "actual      Python  Ruby  Rust  \n",
      "predicted                       \n",
      "C#               0     0     0  \n",
      "Clojure          0     0     0  \n",
      "Elixir           0     0     0  \n",
      "Go               0     0     0  \n",
      "Haskell          0     0     0  \n",
      "Java             0     0     0  \n",
      "JavaScript       0     0     1  \n",
      "Kotlin           0     0     0  \n",
      "Other           16     1     1  \n",
      "Python          17     0     0  \n",
      "Ruby             0     7     0  \n",
      "Rust             0     0    13  \n",
      "---\n",
      "              precision    recall  f1-score   support\n",
      "\n",
      "          C#       1.00      0.12      0.22         8\n",
      "     Clojure       1.00      0.75      0.86        12\n",
      "      Elixir       1.00      1.00      1.00         7\n",
      "          Go       0.88      0.64      0.74        11\n",
      "     Haskell       1.00      0.60      0.75        20\n",
      "        Java       1.00      0.50      0.67        10\n",
      "  JavaScript       0.53      0.71      0.61        28\n",
      "      Kotlin       1.00      0.70      0.82        10\n",
      "       Other       0.51      0.84      0.64        58\n",
      "      Python       1.00      0.52      0.68        33\n",
      "        Ruby       1.00      0.88      0.93         8\n",
      "        Rust       1.00      0.87      0.93        15\n",
      "\n",
      "    accuracy                           0.70       220\n",
      "   macro avg       0.91      0.68      0.74       220\n",
      "weighted avg       0.80      0.70      0.70       220\n",
      "\n"
     ]
    }
   ],
   "source": [
    "print('Accuracy: {:.2%}'.format(accuracy_score(train.actual, train.predicted)))\n",
    "print('---')\n",
    "print('Confusion Matrix')\n",
    "print(pd.crosstab(train.predicted, train.actual))\n",
    "print('---')\n",
    "print(classification_report(train.actual, train.predicted))"
   ]
  },
  {
   "cell_type": "markdown",
   "metadata": {},
   "source": [
    "## Model 3: Random Forest"
   ]
  },
  {
   "cell_type": "code",
   "execution_count": 59,
   "metadata": {},
   "outputs": [
    {
     "data": {
      "text/plain": [
       "RandomForestClassifier(bootstrap=True, class_weight=None, criterion='gini',\n",
       "                       max_depth=9, max_features='auto', max_leaf_nodes=None,\n",
       "                       min_impurity_decrease=0.0, min_impurity_split=None,\n",
       "                       min_samples_leaf=3, min_samples_split=2,\n",
       "                       min_weight_fraction_leaf=0.0, n_estimators=10,\n",
       "                       n_jobs=None, oob_score=False, random_state=123,\n",
       "                       verbose=0, warm_start=False)"
      ]
     },
     "execution_count": 59,
     "metadata": {},
     "output_type": "execute_result"
    }
   ],
   "source": [
    "# Create\n",
    "rf = RandomForestClassifier(min_samples_leaf=3, max_depth=9, random_state=123)\n",
    "# Fit\n",
    "rf.fit(X_train, y_train)"
   ]
  },
  {
   "cell_type": "code",
   "execution_count": 60,
   "metadata": {},
   "outputs": [],
   "source": [
    "train = pd.DataFrame(dict(actual=y_train))\n",
    "test = pd.DataFrame(dict(actual=y_test))\n",
    "# Predict\n",
    "train['predicted'] = rf.predict(X_train)\n",
    "test['predicted'] = rf.predict(X_test)"
   ]
  },
  {
   "cell_type": "markdown",
   "metadata": {},
   "source": [
    "### Train Evaluation"
   ]
  },
  {
   "cell_type": "code",
   "execution_count": 61,
   "metadata": {},
   "outputs": [
    {
     "name": "stdout",
     "output_type": "stream",
     "text": [
      "Accuracy: 55.91%\n",
      "---\n",
      "Confusion Matrix\n",
      "actual      C#  Clojure  Elixir  Go  Haskell  Java  JavaScript  Kotlin  Other  \\\n",
      "predicted                                                                       \n",
      "C#           1        0       0   0        0     0           0       0      0   \n",
      "Haskell      0        0       0   0        8     0           0       0      0   \n",
      "Java         0        0       0   0        0     3           0       0      0   \n",
      "JavaScript   0        1       1   2        1     0          21       0      0   \n",
      "Kotlin       0        0       0   0        0     0           0       6      0   \n",
      "Other        7       10       5   7       11     5           7       4     58   \n",
      "Python       0        1       1   2        0     2           0       0      0   \n",
      "Ruby         0        0       0   0        0     0           0       0      0   \n",
      "Rust         0        0       0   0        0     0           0       0      0   \n",
      "\n",
      "actual      Python  Ruby  Rust  \n",
      "predicted                       \n",
      "C#               0     0     0  \n",
      "Haskell          0     0     0  \n",
      "Java             0     0     0  \n",
      "JavaScript       0     0     0  \n",
      "Kotlin           0     0     0  \n",
      "Other           17     5     6  \n",
      "Python          16     2     0  \n",
      "Ruby             0     1     0  \n",
      "Rust             0     0     9  \n",
      "---\n",
      "              precision    recall  f1-score   support\n",
      "\n",
      "          C#       1.00      0.12      0.22         8\n",
      "     Clojure       0.00      0.00      0.00        12\n",
      "      Elixir       0.00      0.00      0.00         7\n",
      "          Go       0.00      0.00      0.00        11\n",
      "     Haskell       1.00      0.40      0.57        20\n",
      "        Java       1.00      0.30      0.46        10\n",
      "  JavaScript       0.81      0.75      0.78        28\n",
      "      Kotlin       1.00      0.60      0.75        10\n",
      "       Other       0.41      1.00      0.58        58\n",
      "      Python       0.67      0.48      0.56        33\n",
      "        Ruby       1.00      0.12      0.22         8\n",
      "        Rust       1.00      0.60      0.75        15\n",
      "\n",
      "    accuracy                           0.56       220\n",
      "   macro avg       0.66      0.37      0.41       220\n",
      "weighted avg       0.63      0.56      0.51       220\n",
      "\n"
     ]
    }
   ],
   "source": [
    "print('Accuracy: {:.2%}'.format(accuracy_score(train.actual, train.predicted)))\n",
    "print('---')\n",
    "print('Confusion Matrix')\n",
    "print(pd.crosstab(train.predicted, train.actual))\n",
    "print('---')\n",
    "print(classification_report(train.actual, train.predicted))"
   ]
  },
  {
   "cell_type": "markdown",
   "metadata": {},
   "source": [
    "## Model 4: K-Nearest Neighbors"
   ]
  },
  {
   "cell_type": "code",
   "execution_count": 62,
   "metadata": {},
   "outputs": [
    {
     "data": {
      "text/plain": [
       "KNeighborsClassifier(algorithm='auto', leaf_size=30, metric='minkowski',\n",
       "                     metric_params=None, n_jobs=None, n_neighbors=8, p=2,\n",
       "                     weights='uniform')"
      ]
     },
     "execution_count": 62,
     "metadata": {},
     "output_type": "execute_result"
    }
   ],
   "source": [
    "# Create\n",
    "knn=KNeighborsClassifier(n_neighbors=8,weights='uniform')\n",
    "# Fit\n",
    "knn.fit(X_train, y_train)"
   ]
  },
  {
   "cell_type": "code",
   "execution_count": 63,
   "metadata": {},
   "outputs": [],
   "source": [
    "train = pd.DataFrame(dict(actual=y_train))\n",
    "test = pd.DataFrame(dict(actual=y_test))\n",
    "# Predict\n",
    "train['predicted'] = knn.predict(X_train)\n",
    "test['predicted'] = knn.predict(X_test)"
   ]
  },
  {
   "cell_type": "markdown",
   "metadata": {},
   "source": [
    "### Train Evaluation"
   ]
  },
  {
   "cell_type": "code",
   "execution_count": 64,
   "metadata": {},
   "outputs": [
    {
     "name": "stdout",
     "output_type": "stream",
     "text": [
      "Accuracy: 65.45%\n",
      "---\n",
      "Confusion Matrix\n",
      "actual      C#  Clojure  Elixir  Go  Haskell  Java  JavaScript  Kotlin  Other  \\\n",
      "predicted                                                                       \n",
      "C#           3        0       0   0        0     0           0       0      2   \n",
      "Clojure      0       11       0   0        0     0           0       0      1   \n",
      "Elixir       0        0       5   0        0     0           0       0      1   \n",
      "Go           1        0       0   6        0     1           1       0      2   \n",
      "Haskell      0        0       0   0       15     0           0       1      0   \n",
      "Java         1        0       0   1        0     7           1       1      2   \n",
      "JavaScript   1        0       0   2        1     2          23       2      7   \n",
      "Kotlin       0        0       0   0        0     0           1       5      4   \n",
      "Other        0        1       0   1        1     0           1       1     33   \n",
      "Python       2        0       2   1        0     0           1       0      5   \n",
      "Ruby         0        0       0   0        2     0           0       0      1   \n",
      "Rust         0        0       0   0        1     0           0       0      0   \n",
      "\n",
      "actual      Python  Ruby  Rust  \n",
      "predicted                       \n",
      "C#               0     0     0  \n",
      "Clojure          0     0     1  \n",
      "Elixir           1     0     0  \n",
      "Go               0     0     1  \n",
      "Haskell          0     0     0  \n",
      "Java             0     0     1  \n",
      "JavaScript       4     1     0  \n",
      "Kotlin           0     0     0  \n",
      "Other            6     1     1  \n",
      "Python          22     1     1  \n",
      "Ruby             0     5     1  \n",
      "Rust             0     0     9  \n",
      "---\n",
      "              precision    recall  f1-score   support\n",
      "\n",
      "          C#       0.60      0.38      0.46         8\n",
      "     Clojure       0.85      0.92      0.88        12\n",
      "      Elixir       0.71      0.71      0.71         7\n",
      "          Go       0.50      0.55      0.52        11\n",
      "     Haskell       0.94      0.75      0.83        20\n",
      "        Java       0.50      0.70      0.58        10\n",
      "  JavaScript       0.53      0.82      0.65        28\n",
      "      Kotlin       0.50      0.50      0.50        10\n",
      "       Other       0.72      0.57      0.63        58\n",
      "      Python       0.63      0.67      0.65        33\n",
      "        Ruby       0.56      0.62      0.59         8\n",
      "        Rust       0.90      0.60      0.72        15\n",
      "\n",
      "    accuracy                           0.65       220\n",
      "   macro avg       0.66      0.65      0.64       220\n",
      "weighted avg       0.68      0.65      0.66       220\n",
      "\n"
     ]
    }
   ],
   "source": [
    "print('Accuracy: {:.2%}'.format(accuracy_score(train.actual, train.predicted)))\n",
    "print('---')\n",
    "print('Confusion Matrix')\n",
    "print(pd.crosstab(train.predicted, train.actual))\n",
    "print('---')\n",
    "print(classification_report(train.actual, train.predicted))"
   ]
  },
  {
   "cell_type": "markdown",
   "metadata": {},
   "source": [
    "## Testing our Best Model"
   ]
  },
  {
   "cell_type": "markdown",
   "metadata": {},
   "source": [
    "Our best perfoming model is the decision tree. Let's run our model on the test data to see how it does. \n"
   ]
  },
  {
   "cell_type": "code",
   "execution_count": 65,
   "metadata": {},
   "outputs": [
    {
     "data": {
      "text/plain": [
       "DecisionTreeClassifier(class_weight=None, criterion='entropy', max_depth=9,\n",
       "                       max_features=None, max_leaf_nodes=None,\n",
       "                       min_impurity_decrease=0.0, min_impurity_split=None,\n",
       "                       min_samples_leaf=1, min_samples_split=2,\n",
       "                       min_weight_fraction_leaf=0.0, presort=False,\n",
       "                       random_state=123, splitter='best')"
      ]
     },
     "execution_count": 65,
     "metadata": {},
     "output_type": "execute_result"
    }
   ],
   "source": [
    "# Create\n",
    "tree = DecisionTreeClassifier(criterion='entropy', max_depth=9, random_state=123)\n",
    "# Fit\n",
    "tree.fit(X_train, y_train)"
   ]
  },
  {
   "cell_type": "code",
   "execution_count": 66,
   "metadata": {},
   "outputs": [],
   "source": [
    "train = pd.DataFrame(dict(actual=y_train))\n",
    "test = pd.DataFrame(dict(actual=y_test))\n",
    "# Predict\n",
    "train['predicted'] = tree.predict(X_train)\n",
    "test['predicted'] = tree.predict(X_test)"
   ]
  },
  {
   "cell_type": "code",
   "execution_count": 67,
   "metadata": {},
   "outputs": [
    {
     "name": "stdout",
     "output_type": "stream",
     "text": [
      "Accuracy: 53.57%\n",
      "---\n",
      "Confusion Matrix\n",
      "actual      C#  Clojure  Elixir  Go  Haskell  Java  JavaScript  Kotlin  Other  \\\n",
      "predicted                                                                       \n",
      "Clojure      0        3       0   0        0     0           0       0      0   \n",
      "Elixir       0        0       2   0        0     0           0       0      0   \n",
      "Go           0        0       0   1        0     0           1       0      0   \n",
      "Haskell      0        0       0   0        1     0           0       0      0   \n",
      "JavaScript   0        0       0   0        0     0           4       0      4   \n",
      "Kotlin       0        0       0   0        0     0           0       1      0   \n",
      "Other        2        0       0   2        3     2           2       1     10   \n",
      "Python       0        0       0   0        0     0           0       0      1   \n",
      "Ruby         0        0       0   0        0     0           0       0      0   \n",
      "Rust         0        0       0   0        1     0           0       0      0   \n",
      "\n",
      "actual      Python  Ruby  Rust  \n",
      "predicted                       \n",
      "Clojure          0     0     0  \n",
      "Elixir           0     0     0  \n",
      "Go               0     0     0  \n",
      "Haskell          0     0     2  \n",
      "JavaScript       0     0     0  \n",
      "Kotlin           0     0     0  \n",
      "Other            4     1     0  \n",
      "Python           5     0     0  \n",
      "Ruby             0     1     0  \n",
      "Rust             0     0     2  \n",
      "---\n",
      "              precision    recall  f1-score   support\n",
      "\n",
      "          C#       0.00      0.00      0.00         2\n",
      "     Clojure       1.00      1.00      1.00         3\n",
      "      Elixir       1.00      1.00      1.00         2\n",
      "          Go       0.50      0.33      0.40         3\n",
      "     Haskell       0.33      0.20      0.25         5\n",
      "        Java       0.00      0.00      0.00         2\n",
      "  JavaScript       0.50      0.57      0.53         7\n",
      "      Kotlin       1.00      0.50      0.67         2\n",
      "       Other       0.37      0.67      0.48        15\n",
      "      Python       0.83      0.56      0.67         9\n",
      "        Ruby       1.00      0.50      0.67         2\n",
      "        Rust       0.67      0.50      0.57         4\n",
      "\n",
      "    accuracy                           0.54        56\n",
      "   macro avg       0.60      0.49      0.52        56\n",
      "weighted avg       0.56      0.54      0.52        56\n",
      "\n"
     ]
    }
   ],
   "source": [
    "print('Accuracy: {:.2%}'.format(accuracy_score(test.actual, test.predicted)))\n",
    "print('---')\n",
    "print('Confusion Matrix')\n",
    "print(pd.crosstab(test.predicted, test.actual))\n",
    "print('---')\n",
    "print(classification_report(test.actual, test.predicted))"
   ]
  },
  {
   "cell_type": "markdown",
   "metadata": {},
   "source": [
    "#### Conclusion: Our best model is the decision tree. When given unseen test data, our model returns an accuracy of roughly 50%. This is significant, given our model is making its predictions from 12 options. It also vastly outperforms our baseline model, which had an accuracy of 26%."
   ]
  },
  {
   "cell_type": "markdown",
   "metadata": {},
   "source": [
    "### Build a function that will take in the text of a README file, and tries to predict the programming language."
   ]
  },
  {
   "cell_type": "code",
   "execution_count": null,
   "metadata": {},
   "outputs": [],
   "source": []
  }
 ],
 "metadata": {
  "kernelspec": {
   "display_name": "Python 3",
   "language": "python",
   "name": "python3"
  },
  "language_info": {
   "codemirror_mode": {
    "name": "ipython",
    "version": 3
   },
   "file_extension": ".py",
   "mimetype": "text/x-python",
   "name": "python",
   "nbconvert_exporter": "python",
   "pygments_lexer": "ipython3",
   "version": "3.7.3"
  }
 },
 "nbformat": 4,
 "nbformat_minor": 2
}
