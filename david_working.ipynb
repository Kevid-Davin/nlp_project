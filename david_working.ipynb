{
 "cells": [
  {
   "cell_type": "code",
   "execution_count": 1,
   "metadata": {},
   "outputs": [],
   "source": [
    "###############################################################################\n",
    "### pthon imports                                                           ###\n",
    "###############################################################################\n",
    "\n",
    "from os import path\n",
    "from requests import get\n",
    "from bs4 import BeautifulSoup\n",
    "import os\n",
    "import pandas as pd\n",
    "import re"
   ]
  },
  {
   "cell_type": "code",
   "execution_count": 2,
   "metadata": {},
   "outputs": [],
   "source": [
    "def find_file(\n",
    "    file_name='path/file.txt',\n",
    "    cache=False,\n",
    "    cache_age=None\n",
    "    ):\n",
    "\n",
    "    if cache==False:\n",
    "        return None\n",
    "    \n",
    "    return path.exists(file_name)"
   ]
  },
  {
   "cell_type": "code",
   "execution_count": 14,
   "metadata": {},
   "outputs": [],
   "source": [
    "def get_soup(\n",
    "    url='https://github.com/search?o=desc&p=1&q=advent+of+code&s=stars&type=Repositories',\n",
    "    headers={'User-Agent': 'Nothing suspicious'},\n",
    "    file_name='soupfiles/gitsearch.txt',\n",
    "    cache=False,\n",
    "    cache_age=None,\n",
    "    soup_slurper='*'\n",
    "):\n",
    "    # if we already have the data, read it locally\n",
    "    file_found = find_file(file_name=file_name, cache=cache, cache_age=cache_age)\n",
    "    if file_found:\n",
    "        with open(file_name) as f:\n",
    "            return BeautifulSoup(f.read())\n",
    "\n",
    "    # otherwise go fetch the data\n",
    "    response = get(url, headers=headers)\n",
    "    soup = BeautifulSoup(response.text)\n",
    "    slurps = soup.select(soup_slurper)\n",
    "\n",
    "    # save it for next time\n",
    "    with open(file_name, 'w') as f:\n",
    "        f.write(str(slurps[0]))\n",
    "        if len(slurps)>1:\n",
    "            for slurp in slurps[1:]:\n",
    "                f.write('\\n' + str(slurp))\n",
    "        \n",
    "    with open(file_name) as f:    \n",
    "        soup = BeautifulSoup(f.read())\n",
    "#     pd.to_csv(slurps, header=None, index=False)\n",
    "\n",
    "    return soup"
   ]
  },
  {
   "cell_type": "code",
   "execution_count": 22,
   "metadata": {},
   "outputs": [],
   "source": [
    "soup = get_soup(url='https://github.com/search?o=desc&p=1&q=advent+of+code&s=stars&type=Repositories', soup_slurper='.repo-list-item')"
   ]
  },
  {
   "cell_type": "code",
   "execution_count": 7,
   "metadata": {},
   "outputs": [],
   "source": [
    "def all_repositories():\n",
    "    page = str(range(1,21))\n",
    "    repo_list = []\n",
    "    for p in page:\n",
    "        repo_list.extend(get_links_from_page('https://github.com/search?o=desc&p='+p+'&q=advent+of+code&s=stars&type=Repositories'))\n",
    "        return repo_list"
   ]
  },
  {
   "cell_type": "code",
   "execution_count": 8,
   "metadata": {},
   "outputs": [],
   "source": [
    "def get_links_from_page(url):\n",
    "    soup = get_soup(\n",
    "    url=url,\n",
    "    cache=True,\n",
    "    soup_slurper='.repo-list-item a',\n",
    "    file_name='soupfiles/gitsearch.txt'\n",
    ")"
   ]
  },
  {
   "cell_type": "code",
   "execution_count": 22,
   "metadata": {},
   "outputs": [
    {
     "data": {
      "text/plain": [
       "'# Advent of Code Elixir Starter\\n\\nA batteries included starter pack for participating in [Advent of Code](https://www.adventofcode.com) using Elixir!\\n\\n## Usage\\n\\nThere are 25 modules, 25 tests, and 50 mix tasks. \\n\\n1. Fill in the tests with the example solutions.\\n1. Write your implementation.\\n1. Fill in the final problem inputs into the mix task and run `mix d01.p1`!\\n    - Benchmark your solution by passing the `-b` flag, `mix d01.p1 -b`\\n\\n```elixir\\ndefmodule AdventOfCode.Day01 do\\n  def part1(args) do\\n  end\\n\\n  def part2(args) do\\n  end\\nend\\n```\\n\\n```elixir\\ndefmodule AdventOfCode.Day01Test do\\n  use ExUnit.Case\\n\\n  import AdventOfCode.Day01\\n\\n  @tag :skip # Make sure to remove to run your test.\\n  test \"part1\" do\\n    input = nil \\n    result = part1(input)\\n\\n    assert result\\n  end\\n\\n  @tag :skip # Make sure to remove to run your test.\\n  test \"part2\" do\\n    input = nil \\n    result = part2(input)\\n\\n    assert result\\n  end\\nend\\n```\\n\\n```elixir\\ndefmodule Mix.Tasks.D01.P1 do\\n  use Mix.Task\\n\\n  import AdventOfCode.Day01\\n\\n  @shortdoc \"Day 01 Part 1\"\\n  def run(args) do\\n    input = nil\\n\\n    if Enum.member?(args, \"-b\"),\\n      do: Benchee.run(%{part_1: fn -> input |> part1() end}),\\n      else:\\n        input\\n        |> part1()\\n        |> IO.inspect(label: \"Part 1 Results\")\\n  end\\nend   \\n```\\n\\n## Installation\\n\\n```bash\\n# clone\\n$ git clone git@github.com:mhanberg/advent-of-code-elixir-starter.git advent-of-code\\n$ cd advent-of-code\\n\\n# Reinitialize your git repo\\n$ rm -rf .git\\n$ git init\\n```\\n'"
      ]
     },
     "execution_count": 22,
     "metadata": {},
     "output_type": "execute_result"
    }
   ],
   "source": [
    "df = pd.read_csv('json_test.csv')\n",
    "df.readme_contents[6]"
   ]
  },
  {
   "cell_type": "code",
   "execution_count": 51,
   "metadata": {},
   "outputs": [
    {
     "data": {
      "text/plain": [
       "'c plusplus  c plus  c sharp  advent of code elixir starter a batteries included starter pack for participating in advent of codehttpswwwadventofcodecom using elixir  usage there are 25 modules 25 tests and 50 mix tasks 1 fill in the tests with the example solutions 1 write your implementation 1 fill in the final problem inputs into the mix task and run mix d01p1  benchmark your solution by passing the b flag mix d01p1 b elixir defmodule adventofcodeday01 do def part1args do end def part2args do end end  elixir defmodule adventofcodeday01test do use exunitcase import adventofcodeday01 tag skip  make sure to remove to run your test test part1 do input  nil result  part1input assert result end tag skip  make sure to remove to run your test test part2 do input  nil result  part2input assert result end end  elixir defmodule mixtasksd01p1 do use mixtask import adventofcodeday01 shortdoc day 01 part 1 def runargs do input  nil if enummemberargs b do bencheerunpart1 fn  input  part1 end else input  part1  ioinspectlabel part 1 results end end   installation bash  clone  git clone gitgithubcommhanbergadventofcodeelixirstartergit adventofcode  cd adventofcode  reinitialize your git repo  rm rf git  git init  '"
      ]
     },
     "execution_count": 51,
     "metadata": {},
     "output_type": "execute_result"
    }
   ],
   "source": [
    "# create custom string to test conditions and then lower case the string\n",
    "string = 'C++ , C+ , C#' + df.readme_contents[6]\n",
    "string = string.lower()\n",
    "\n",
    "# replace new lines with an empty space\n",
    "string = re.sub(r'\\n',' ',string)\n",
    "\n",
    "# replace c++ with c plus plus\n",
    "string = re.sub(r'c\\+\\+','cplusplus',string)\n",
    "\n",
    "# replace c+ with c plus\n",
    "string = re.sub(r'c\\+','cplus ',string)\n",
    "\n",
    "# replace c# with c sharp\n",
    "string = re.sub(r'c#','csharp ',string)\n",
    "\n",
    "# replace extra spaces with only one space\n",
    "string = re.sub(r'\\s+',' ',string)\n",
    "\n",
    "# remove special characters with regex\n",
    "string = re.sub(r'[^a-z0-9\\s]','', string)\n",
    "string\n"
   ]
  },
  {
   "cell_type": "code",
   "execution_count": 50,
   "metadata": {},
   "outputs": [
    {
     "data": {
      "text/plain": [
       "'c plus plus  c plus  c sharp  advent of code elixir starter a batteries included starter pack for participating in advent of codehttpswwwadventofcodecom using elixir  usage there are 25 modules 25 tests and 50 mix tasks 1 fill in the tests with the example solutions 1 write your implementation 1 fill in the final problem inputs into the mix task and run mix d01p1  benchmark your solution by passing the b flag mix d01p1 b elixir defmodule adventofcodeday01 do def part1args do end def part2args do end end  elixir defmodule adventofcodeday01test do use exunitcase import adventofcodeday01 tag skip  make sure to remove to run your test test part1 do input  nil result  part1input assert result end tag skip  make sure to remove to run your test test part2 do input  nil result  part2input assert result end end  elixir defmodule mixtasksd01p1 do use mixtask import adventofcodeday01 shortdoc day 01 part 1 def runargs do input  nil if enummemberargs b do bencheerunpart1 fn  input  part1 end else input  part1  ioinspectlabel part 1 results end end   installation bash  clone  git clone gitgithubcommhanbergadventofcodeelixirstartergit adventofcode  cd adventofcode  reinitialize your git repo  rm rf git  git init  '"
      ]
     },
     "execution_count": 50,
     "metadata": {},
     "output_type": "execute_result"
    }
   ],
   "source": [
    "string"
   ]
  },
  {
   "cell_type": "code",
   "execution_count": null,
   "metadata": {},
   "outputs": [],
   "source": []
  }
 ],
 "metadata": {
  "kernelspec": {
   "display_name": "Python 3",
   "language": "python",
   "name": "python3"
  },
  "language_info": {
   "codemirror_mode": {
    "name": "ipython",
    "version": 3
   },
   "file_extension": ".py",
   "mimetype": "text/x-python",
   "name": "python",
   "nbconvert_exporter": "python",
   "pygments_lexer": "ipython3",
   "version": "3.7.3"
  }
 },
 "nbformat": 4,
 "nbformat_minor": 2
}
