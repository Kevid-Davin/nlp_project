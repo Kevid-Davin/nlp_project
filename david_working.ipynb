{
 "cells": [
  {
   "cell_type": "code",
   "execution_count": 1,
   "metadata": {},
   "outputs": [],
   "source": [
    "###############################################################################\n",
    "### pthon imports                                                           ###\n",
    "###############################################################################\n",
    "\n",
    "from os import path\n",
    "from requests import get\n",
    "from bs4 import BeautifulSoup\n",
    "import os\n",
    "import pandas as pd\n",
    "import re"
   ]
  },
  {
   "cell_type": "code",
   "execution_count": 2,
   "metadata": {},
   "outputs": [],
   "source": [
    "def find_file(\n",
    "    file_name='path/file.txt',\n",
    "    cache=False,\n",
    "    cache_age=None\n",
    "    ):\n",
    "\n",
    "    if cache==False:\n",
    "        return None\n",
    "    \n",
    "    return path.exists(file_name)"
   ]
  },
  {
   "cell_type": "code",
   "execution_count": 14,
   "metadata": {},
   "outputs": [],
   "source": [
    "def get_soup(\n",
    "    url='https://github.com/search?o=desc&p=1&q=advent+of+code&s=stars&type=Repositories',\n",
    "    headers={'User-Agent': 'Nothing suspicious'},\n",
    "    file_name='soupfiles/gitsearch.txt',\n",
    "    cache=False,\n",
    "    cache_age=None,\n",
    "    soup_slurper='*'\n",
    "):\n",
    "    # if we already have the data, read it locally\n",
    "    file_found = find_file(file_name=file_name, cache=cache, cache_age=cache_age)\n",
    "    if file_found:\n",
    "        with open(file_name) as f:\n",
    "            return BeautifulSoup(f.read())\n",
    "\n",
    "    # otherwise go fetch the data\n",
    "    response = get(url, headers=headers)\n",
    "    soup = BeautifulSoup(response.text)\n",
    "    slurps = soup.select(soup_slurper)\n",
    "\n",
    "    # save it for next time\n",
    "    with open(file_name, 'w') as f:\n",
    "        f.write(str(slurps[0]))\n",
    "        if len(slurps)>1:\n",
    "            for slurp in slurps[1:]:\n",
    "                f.write('\\n' + str(slurp))\n",
    "        \n",
    "    with open(file_name) as f:    \n",
    "        soup = BeautifulSoup(f.read())\n",
    "#     pd.to_csv(slurps, header=None, index=False)\n",
    "\n",
    "    return soup"
   ]
  },
  {
   "cell_type": "code",
   "execution_count": 22,
   "metadata": {},
   "outputs": [],
   "source": [
    "soup = get_soup(url='https://github.com/search?o=desc&p=1&q=advent+of+code&s=stars&type=Repositories', soup_slurper='.repo-list-item')"
   ]
  },
  {
   "cell_type": "code",
   "execution_count": 23,
   "metadata": {},
   "outputs": [
    {
     "data": {
      "text/plain": [
       "'\\n\\n\\nBogdanp/awesome-advent-of-code\\n\\n\\n        A collection of awesome resources related to the yearly Advent of Code challenge.\\n      \\n\\n\\n  advent-of-code\\n\\n\\n  advent-of-code-2018\\n\\n\\n  advent-of-code-2019\\n\\n\\n\\n\\n          Updated Dec 10, 2019\\n\\n\\n\\n\\n\\n\\n\\n\\nPython\\n\\n\\n\\n\\n\\n\\n          380\\n        \\n\\n\\n\\n\\n\\n\\nBurntSushi/advent-of-code\\n\\n\\n        Rust solutions to AoC 2018\\n      \\n\\n\\n          Updated Nov 29, 2019\\n\\n\\n\\n\\n\\n\\n\\n\\nRust\\n\\n\\n\\n\\n\\n\\n          255\\n        \\n\\n\\n\\n\\n\\n\\nLysxia/advent-of-coq-2018\\n\\n\\nAdvent of Code 2018, in Coq! (https://adventofcode.com/2018)\\n      \\n\\n\\n          Updated Feb 2, 2019\\n\\n\\n\\n\\n\\n\\n\\n\\nCoq\\n\\n\\n\\n\\n\\n\\n          135\\n        \\n\\n\\n\\n\\n\\n\\nfogleman/AdventOfCode2018\\n\\n\\n        My solutions to the Advent of Code 2018 problems.\\n      \\n\\n\\n  python\\n\\n\\n  advent-of-code\\n\\n\\n  advent-of-code-2018\\n\\n\\n\\n\\n          Updated Dec 20, 2018\\n\\n\\n\\n\\n\\n\\n\\n\\nPython\\n\\n\\n\\n\\n\\n\\n          80\\n        \\n\\n\\n\\n\\n\\n\\nmstksg/advent-of-code-2018\\n\\n\\nAdvent of Code 2018 Solutions (Spoilers!)\\n      \\n\\n\\n  advent-of-code\\n\\n\\n  advent-of-code-2018\\n\\n\\n\\n\\n          Updated Dec 1, 2019\\n\\n\\n\\n\\n\\n\\n\\n\\nHaskell\\n\\n\\n\\n\\n\\n\\n          78\\n        \\n\\n\\n\\n\\n\\n\\nVoltara/advent2018-fast\\n\\n\\nAdvent of Code 2018 optimized solutions in C++\\n      \\n\\n\\n          Updated Jan 15, 2019\\n\\n\\n\\n\\n\\n\\n\\n\\nC++\\n\\n\\n\\n\\n\\n\\n          73\\n        \\n\\n\\n\\n\\n\\n\\nwimglenn/advent-of-code-data\\n\\n\\n        Get your Advent of Code data with a single import statement\\n      \\n\\n\\n          MIT license\\n        \\n\\n          Updated Dec 9, 2019\\n\\n\\n\\n\\n\\n\\n\\n\\nPython\\n\\n\\n\\n\\n\\n\\n          72\\n        \\n\\n\\n\\n\\n\\n\\nChrisPenner/Advent-Of-Code-Polyglot\\n\\n\\n        Examples of \"Advent Of Code\" solutions in many programming languages.\\n      \\n\\n\\n          Updated Jan 13, 2017\\n\\n\\n\\n\\n\\n\\n\\n\\nPython\\n\\n\\n\\n\\n\\n\\n          71\\n        \\n\\n\\n\\n\\n\\n\\njaksi/advent-of-other-peoples-code\\n\\n\\n        Fetches random solutions to a specified Advent of Code puzzle from GitHub and runs them against your input\\n      \\n\\n\\n          Updated Dec 22, 2018\\n\\n\\n\\n\\n\\n\\n\\n\\nPython\\n\\n\\n\\n\\n\\n\\n          69\\n        \\n\\n\\n\\n\\n\\n\\nmolyswu/hand_detection\\n\\n\\n         more approachable by deep learning frameworks (such as the tensorflow object detection api) that simplify the process …\\n\\n\\n\\n          Updated Nov 29, 2018\\n\\n\\n\\n\\n\\n\\n\\n\\nPython\\n\\n\\n\\n\\n\\n\\n          65\\n        \\n\\n\\n'"
      ]
     },
     "execution_count": 23,
     "metadata": {},
     "output_type": "execute_result"
    }
   ],
   "source": [
    "soup.text"
   ]
  },
  {
   "cell_type": "code",
   "execution_count": null,
   "metadata": {},
   "outputs": [],
   "source": []
  }
 ],
 "metadata": {
  "kernelspec": {
   "display_name": "Python 3",
   "language": "python",
   "name": "python3"
  },
  "language_info": {
   "codemirror_mode": {
    "name": "ipython",
    "version": 3
   },
   "file_extension": ".py",
   "mimetype": "text/x-python",
   "name": "python",
   "nbconvert_exporter": "python",
   "pygments_lexer": "ipython3",
   "version": "3.7.3"
  }
 },
 "nbformat": 4,
 "nbformat_minor": 2
}
