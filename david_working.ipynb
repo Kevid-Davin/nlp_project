{
 "cells": [
  {
   "cell_type": "code",
   "execution_count": 78,
   "metadata": {},
   "outputs": [],
   "source": [
    "from os import path\n",
    "from requests import get\n",
    "from bs4 import BeautifulSoup\n",
    "import os\n",
    "import pandas as pd\n",
    "import numpy as np\n",
    "import re\n",
    "import unicodedata\n",
    "import nltk\n",
    "from nltk.tokenize.toktok import ToktokTokenizer\n",
    "from nltk.corpus import stopwords\n",
    "import matplotlib.pyplot as plt\n",
    "import seaborn as sns\n",
    "from sklearn.model_selection import train_test_split\n",
    "from sklearn.linear_model import LogisticRegression\n",
    "from sklearn.tree import DecisionTreeClassifier\n",
    "from sklearn.ensemble import RandomForestClassifier\n",
    "from sklearn.neighbors import KNeighborsClassifier\n",
    "from sklearn.metrics import classification_report, accuracy_score\n",
    "from sklearn.feature_extraction.text import TfidfVectorizer\n",
    "import warnings\n",
    "warnings.filterwarnings(\"ignore\")"
   ]
  },
  {
   "cell_type": "markdown",
   "metadata": {},
   "source": [
    "# Acquire Functions"
   ]
  },
  {
   "cell_type": "markdown",
   "metadata": {},
   "source": [
    "- Used these to play around. Do not use these for final notebook. Use Kevin's!"
   ]
  },
  {
   "cell_type": "code",
   "execution_count": 79,
   "metadata": {},
   "outputs": [],
   "source": [
    "def find_file(\n",
    "    file_name='path/file.txt',\n",
    "    cache=False,\n",
    "    cache_age=None\n",
    "    ):\n",
    "\n",
    "    if cache==False:\n",
    "        return None\n",
    "    \n",
    "    return path.exists(file_name)"
   ]
  },
  {
   "cell_type": "code",
   "execution_count": 80,
   "metadata": {},
   "outputs": [],
   "source": [
    "def get_soup(\n",
    "    url='https://github.com/search?o=desc&p=1&q=advent+of+code&s=stars&type=Repositories',\n",
    "    headers={'User-Agent': 'Nothing suspicious'},\n",
    "    file_name='soupfiles/gitsearch.txt',\n",
    "    cache=False,\n",
    "    cache_age=None,\n",
    "    soup_slurper='*'\n",
    "):\n",
    "    # if we already have the data, read it locally\n",
    "    file_found = find_file(file_name=file_name, cache=cache, cache_age=cache_age)\n",
    "    if file_found:\n",
    "        with open(file_name) as f:\n",
    "            return BeautifulSoup(f.read())\n",
    "\n",
    "    # otherwise go fetch the data\n",
    "    response = get(url, headers=headers)\n",
    "    soup = BeautifulSoup(response.text)\n",
    "    slurps = soup.select(soup_slurper)\n",
    "\n",
    "    # save it for next time\n",
    "    with open(file_name, 'w') as f:\n",
    "        f.write(str(slurps[0]))\n",
    "        if len(slurps)>1:\n",
    "            for slurp in slurps[1:]:\n",
    "                f.write('\\n' + str(slurp))\n",
    "        \n",
    "    with open(file_name) as f:    \n",
    "        soup = BeautifulSoup(f.read())\n",
    "#     pd.to_csv(slurps, header=None, index=False)\n",
    "\n",
    "    return soup"
   ]
  },
  {
   "cell_type": "code",
   "execution_count": 81,
   "metadata": {},
   "outputs": [],
   "source": [
    "def all_repositories():\n",
    "    page = str(range(1,21))\n",
    "    repo_list = []\n",
    "    for p in page:\n",
    "        repo_list.extend(get_links_from_page('https://github.com/search?o=desc&p='+p+'&q=advent+of+code&s=stars&type=Repositories'))\n",
    "        return repo_list"
   ]
  },
  {
   "cell_type": "code",
   "execution_count": 82,
   "metadata": {},
   "outputs": [],
   "source": [
    "def get_links_from_page(url):\n",
    "    soup = get_soup(\n",
    "    url=url,\n",
    "    cache=True,\n",
    "    soup_slurper='.repo-list-item a',\n",
    "    file_name='soupfiles/gitsearch.txt'\n",
    ")"
   ]
  },
  {
   "cell_type": "markdown",
   "metadata": {},
   "source": [
    "# Prepare"
   ]
  },
  {
   "cell_type": "markdown",
   "metadata": {},
   "source": [
    "## Functions"
   ]
  },
  {
   "cell_type": "code",
   "execution_count": 83,
   "metadata": {},
   "outputs": [],
   "source": [
    "def normalize(string):\n",
    "    # lower case the string\n",
    "    string = string.lower()\n",
    "\n",
    "    # replace new lines with an empty space\n",
    "    string = re.sub(r'\\n',' ',string)\n",
    "    \n",
    "    # normalize unicode characters\n",
    "    string = unicodedata.normalize('NFKD', string).encode('ascii', 'ignore').decode('utf-8', 'ignore')\n",
    "    \n",
    "    # replace . with space\n",
    "    string = re.sub(r'\\.',' ',string)\n",
    "    \n",
    "    # replace / with space\n",
    "    string = re.sub(r'/',' ',string)\n",
    "    \n",
    "    # replace c++ th c plus plus\n",
    "    string = re.sub(r'c\\+\\+','cplusplus',string)\n",
    "\n",
    "    # replace c+ with c plus\n",
    "    string = re.sub(r'c\\+','cplus ',string)\n",
    "\n",
    "    # replace c# with c sharp\n",
    "    string = re.sub(r'c#','csharp ',string)\n",
    "\n",
    "    # replace f# with f sharp\n",
    "    string = re.sub(r'f#','fsharp ',string)\n",
    "    \n",
    "    # replaces certain special characters with a space\n",
    "    string = re.sub(r'[\\[\\](){}]',' ', string)\n",
    "    \n",
    "    # replace multiple adjacent spaces with only one space\n",
    "    string = re.sub(r'\\s+',' ',string)\n",
    "\n",
    "    # remove remaining special characters and numbers with regex\n",
    "    string = re.sub(r'[^a-z\\s]','', string)\n",
    "    \n",
    "    return string"
   ]
  },
  {
   "cell_type": "code",
   "execution_count": 84,
   "metadata": {},
   "outputs": [],
   "source": [
    "def stem(string):\n",
    "    ps = nltk.porter.PorterStemmer()\n",
    "    stems = [ps.stem(word) for word in string.split()]\n",
    "    string_of_stems = ' '.join(stems)\n",
    "    return string_of_stems"
   ]
  },
  {
   "cell_type": "code",
   "execution_count": 85,
   "metadata": {},
   "outputs": [],
   "source": [
    "def lemmatize(string):\n",
    "    wnl = nltk.stem.WordNetLemmatizer()\n",
    "    lemmas = [wnl.lemmatize(word) for word in string.split()]\n",
    "    string_of_lemmas = ' '.join(lemmas)\n",
    "    return string_of_lemmas"
   ]
  },
  {
   "cell_type": "code",
   "execution_count": 86,
   "metadata": {},
   "outputs": [],
   "source": [
    "def tokenize(string):\n",
    "    tokenizer = nltk.tokenize.ToktokTokenizer()\n",
    "    return tokenizer.tokenize(string, return_str=True)"
   ]
  },
  {
   "cell_type": "code",
   "execution_count": 87,
   "metadata": {},
   "outputs": [],
   "source": [
    "def remove_stopwords(tokenized_string, extra_words=['advent', 'of','code', 'aoc', 'day', 'solution', 'httpsgithub','githubhttpsimg','hpphttpsgithub','httpsadventofcode', 'adventofcode','commstksgadventofcodeblobmasterreflections', 'httpadventofcode','com', 'github', 'http', 'https','adventofcodehttps','master','blob','username', 'reponame','svg','src'], exclude_words=[]):\n",
    "    words = tokenized_string.split()\n",
    "    stopword_list = stopwords.words('english')\n",
    "\n",
    "    # remove the excluded words from the stopword list\n",
    "    stopword_list = set(stopword_list) - set(exclude_words)\n",
    "\n",
    "    # add in the user specified extra words\n",
    "    stopword_list = stopword_list.union(set(extra_words))\n",
    "\n",
    "    filtered_words = [w for w in words if w not in stopword_list]\n",
    "    final_string = \" \".join(filtered_words)\n",
    "    return final_string"
   ]
  },
  {
   "cell_type": "markdown",
   "metadata": {},
   "source": [
    "### Read in json file containing repos and content"
   ]
  },
  {
   "cell_type": "code",
   "execution_count": 88,
   "metadata": {},
   "outputs": [],
   "source": [
    "# read in content as json and save as dataframe\n",
    "df = pd.read_json('datafiles/outdata.json')"
   ]
  },
  {
   "cell_type": "code",
   "execution_count": 89,
   "metadata": {},
   "outputs": [
    {
     "data": {
      "text/plain": [
       "(304, 6)"
      ]
     },
     "execution_count": 89,
     "metadata": {},
     "output_type": "execute_result"
    }
   ],
   "source": [
    "# preview data\n",
    "df.shape"
   ]
  },
  {
   "cell_type": "code",
   "execution_count": 90,
   "metadata": {},
   "outputs": [
    {
     "data": {
      "text/html": [
       "<div>\n",
       "<style scoped>\n",
       "    .dataframe tbody tr th:only-of-type {\n",
       "        vertical-align: middle;\n",
       "    }\n",
       "\n",
       "    .dataframe tbody tr th {\n",
       "        vertical-align: top;\n",
       "    }\n",
       "\n",
       "    .dataframe thead th {\n",
       "        text-align: right;\n",
       "    }\n",
       "</style>\n",
       "<table border=\"1\" class=\"dataframe\">\n",
       "  <thead>\n",
       "    <tr style=\"text-align: right;\">\n",
       "      <th></th>\n",
       "      <th>language</th>\n",
       "      <th>language_all</th>\n",
       "      <th>repo_full</th>\n",
       "      <th>author</th>\n",
       "      <th>repo</th>\n",
       "      <th>readme</th>\n",
       "    </tr>\n",
       "  </thead>\n",
       "  <tbody>\n",
       "    <tr>\n",
       "      <th>0</th>\n",
       "      <td>Python</td>\n",
       "      <td>{'Python': 43467}</td>\n",
       "      <td>0x8b/advent-of-code-2019</td>\n",
       "      <td>0x8b</td>\n",
       "      <td>advent-of-code-2019</td>\n",
       "      <td># username's [advent of code 2019](https://adv...</td>\n",
       "    </tr>\n",
       "    <tr>\n",
       "      <th>1</th>\n",
       "      <td>Haskell</td>\n",
       "      <td>{'Haskell': 36753, 'Python': 503}</td>\n",
       "      <td>1Computer1/advent</td>\n",
       "      <td>1Computer1</td>\n",
       "      <td>advent</td>\n",
       "      <td># reponame of code solutions\\n\\ni'm probably n...</td>\n",
       "    </tr>\n",
       "    <tr>\n",
       "      <th>10</th>\n",
       "      <td>TypeScript</td>\n",
       "      <td>{'TypeScript': 178903, 'Rust': 68139, 'Smarty'...</td>\n",
       "      <td>AlexAegis/advent-of-code</td>\n",
       "      <td>AlexAegis</td>\n",
       "      <td>advent-of-code</td>\n",
       "      <td># [advent of code](https://adventofcode.com/)\\...</td>\n",
       "    </tr>\n",
       "    <tr>\n",
       "      <th>100</th>\n",
       "      <td>Python</td>\n",
       "      <td>{'Python': 64874, 'Julia': 29174}</td>\n",
       "      <td>ferrolho/advent-of-code</td>\n",
       "      <td>ferrolho</td>\n",
       "      <td>advent-of-code</td>\n",
       "      <td># advent of code\\n\\n:santa: :christmas_tree: :...</td>\n",
       "    </tr>\n",
       "    <tr>\n",
       "      <th>101</th>\n",
       "      <td>Swift</td>\n",
       "      <td>{'Swift': 69603}</td>\n",
       "      <td>fguchelaar/AdventOfCode2019</td>\n",
       "      <td>fguchelaar</td>\n",
       "      <td>AdventOfCode2019</td>\n",
       "      <td># advent of code 2019\\n\\nmy solutions for the ...</td>\n",
       "    </tr>\n",
       "  </tbody>\n",
       "</table>\n",
       "</div>"
      ],
      "text/plain": [
       "       language                                       language_all  \\\n",
       "0        Python                                  {'Python': 43467}   \n",
       "1       Haskell                  {'Haskell': 36753, 'Python': 503}   \n",
       "10   TypeScript  {'TypeScript': 178903, 'Rust': 68139, 'Smarty'...   \n",
       "100      Python                  {'Python': 64874, 'Julia': 29174}   \n",
       "101       Swift                                   {'Swift': 69603}   \n",
       "\n",
       "                       repo_full      author                 repo  \\\n",
       "0       0x8b/advent-of-code-2019        0x8b  advent-of-code-2019   \n",
       "1              1Computer1/advent  1Computer1               advent   \n",
       "10      AlexAegis/advent-of-code   AlexAegis       advent-of-code   \n",
       "100      ferrolho/advent-of-code    ferrolho       advent-of-code   \n",
       "101  fguchelaar/AdventOfCode2019  fguchelaar     AdventOfCode2019   \n",
       "\n",
       "                                                readme  \n",
       "0    # username's [advent of code 2019](https://adv...  \n",
       "1    # reponame of code solutions\\n\\ni'm probably n...  \n",
       "10   # [advent of code](https://adventofcode.com/)\\...  \n",
       "100  # advent of code\\n\\n:santa: :christmas_tree: :...  \n",
       "101  # advent of code 2019\\n\\nmy solutions for the ...  "
      ]
     },
     "execution_count": 90,
     "metadata": {},
     "output_type": "execute_result"
    }
   ],
   "source": [
    "df.head()"
   ]
  },
  {
   "cell_type": "markdown",
   "metadata": {},
   "source": [
    "### Create new columns which show readme content normalized, stemmed, and lemmatized"
   ]
  },
  {
   "cell_type": "code",
   "execution_count": 91,
   "metadata": {},
   "outputs": [],
   "source": [
    "df = df.assign(normalized = df.readme.apply(normalize))\n",
    "df = df.assign(stemmed = df.normalized.apply(stem))\n",
    "df = df.assign(lemmatized = df.normalized.apply(lemmatize))"
   ]
  },
  {
   "cell_type": "code",
   "execution_count": 92,
   "metadata": {},
   "outputs": [
    {
     "data": {
      "text/html": [
       "<div>\n",
       "<style scoped>\n",
       "    .dataframe tbody tr th:only-of-type {\n",
       "        vertical-align: middle;\n",
       "    }\n",
       "\n",
       "    .dataframe tbody tr th {\n",
       "        vertical-align: top;\n",
       "    }\n",
       "\n",
       "    .dataframe thead th {\n",
       "        text-align: right;\n",
       "    }\n",
       "</style>\n",
       "<table border=\"1\" class=\"dataframe\">\n",
       "  <thead>\n",
       "    <tr style=\"text-align: right;\">\n",
       "      <th></th>\n",
       "      <th>stemmed</th>\n",
       "      <th>lemmatized</th>\n",
       "    </tr>\n",
       "  </thead>\n",
       "  <tbody>\n",
       "    <tr>\n",
       "      <th>0</th>\n",
       "      <td>usernam advent of code http adventofcod com so...</td>\n",
       "      <td>usernames advent of code http adventofcode com...</td>\n",
       "    </tr>\n",
       "    <tr>\n",
       "      <th>1</th>\n",
       "      <td>reponam of code solut im probabl not gonna do ...</td>\n",
       "      <td>reponame of code solution im probably not gonn...</td>\n",
       "    </tr>\n",
       "    <tr>\n",
       "      <th>10</th>\n",
       "      <td>advent of code http adventofcod com build stat...</td>\n",
       "      <td>advent of code http adventofcode com build sta...</td>\n",
       "    </tr>\n",
       "    <tr>\n",
       "      <th>100</th>\n",
       "      <td>advent of code santa christmastre gift my solu...</td>\n",
       "      <td>advent of code santa christmastree gift my sol...</td>\n",
       "    </tr>\n",
       "    <tr>\n",
       "      <th>101</th>\n",
       "      <td>advent of code my solut for the fifth instal o...</td>\n",
       "      <td>advent of code my solution for the fifth insta...</td>\n",
       "    </tr>\n",
       "  </tbody>\n",
       "</table>\n",
       "</div>"
      ],
      "text/plain": [
       "                                               stemmed  \\\n",
       "0    usernam advent of code http adventofcod com so...   \n",
       "1    reponam of code solut im probabl not gonna do ...   \n",
       "10   advent of code http adventofcod com build stat...   \n",
       "100  advent of code santa christmastre gift my solu...   \n",
       "101  advent of code my solut for the fifth instal o...   \n",
       "\n",
       "                                            lemmatized  \n",
       "0    usernames advent of code http adventofcode com...  \n",
       "1    reponame of code solution im probably not gonn...  \n",
       "10   advent of code http adventofcode com build sta...  \n",
       "100  advent of code santa christmastree gift my sol...  \n",
       "101  advent of code my solution for the fifth insta...  "
      ]
     },
     "execution_count": 92,
     "metadata": {},
     "output_type": "execute_result"
    }
   ],
   "source": [
    "# preview results to decide which technique to use when reducing form of words (lemmatize vs stem)\n",
    "df[['stemmed','lemmatized']].head()"
   ]
  },
  {
   "cell_type": "code",
   "execution_count": 93,
   "metadata": {},
   "outputs": [
    {
     "data": {
      "text/plain": [
       "advent-of-code                    35\n",
       "advent-of-code-2019               23\n",
       "adventofcode                      17\n",
       "AdventOfCode                      17\n",
       "advent-of-code-2018               11\n",
       "AdventOfCode2019                  11\n",
       "AdventOfCode2018                   8\n",
       "aoc-2019                           7\n",
       "adventofcode2019                   6\n",
       "aoc2019                            5\n",
       "AdventOfCode2017                   4\n",
       "AdventOfCode2015                   4\n",
       "advent2019                         4\n",
       "aoc2017                            4\n",
       "aoc19                              3\n",
       "advent-2019                        3\n",
       "advent-of-code-2015                3\n",
       "advent-of-code-2017                3\n",
       "adventOfCode                       3\n",
       "advent_of_code_2019                3\n",
       "aoc                                3\n",
       "Advent-of-Code-2019                3\n",
       "Advent-of-Code-2017                2\n",
       "advent-of-code-2016                2\n",
       "advent2017                         2\n",
       "AdventOfCode-2017                  2\n",
       "AdventOfCode-2019                  2\n",
       "advent_of_code_2018                2\n",
       "AOC                                2\n",
       "Advent-of-Code                     2\n",
       "                                  ..\n",
       "advent-of-clojure                  1\n",
       "advent_of_code_2015                1\n",
       "AoCHelper                          1\n",
       "advent-of-code-js                  1\n",
       "aoc-stats                          1\n",
       "advent-of-other-peoples-code       1\n",
       "Play-Advent-of-Code                1\n",
       "advent-of-coq-2018                 1\n",
       "advent18                           1\n",
       "Advent-of-Scala-2015               1\n",
       "aoc2018                            1\n",
       "aoc18                              1\n",
       "Advent-Of-Code                     1\n",
       "AoC_2019                           1\n",
       "advent-of-code-2019-hask           1\n",
       "Advent-Of-Code-2019                1\n",
       "AdventOfCode2016                   1\n",
       "advent-of-code-charts              1\n",
       "aoc2016                            1\n",
       "advent-of-code-downloader          1\n",
       "aoc-cli                            1\n",
       "advent-2017                        1\n",
       "advent-of-code-elixir-starter      1\n",
       "aoc_2019                           1\n",
       "advent2017-fast                    1\n",
       "adventofcode2016                   1\n",
       "advent-of-code-clojure-starter     1\n",
       "Advent-of-Code-2019-in-R           1\n",
       "advent-of-cljc                     1\n",
       "advent-of-code-ruby                1\n",
       "Name: repo, Length: 133, dtype: int64"
      ]
     },
     "execution_count": 93,
     "metadata": {},
     "output_type": "execute_result"
    }
   ],
   "source": [
    "# People are not very creative with their repo names. \n",
    "df.repo.value_counts()"
   ]
  },
  {
   "cell_type": "markdown",
   "metadata": {},
   "source": [
    "#### Lemmatization > Stemming\n",
    "\n",
    "We choose to lemmatize instead of stemming for a couple of reasons. One, lemmatizing preserves the root word in the form of a real word. Our readme data is full of shortened and combined \"words\" that are not real words. A lot of this is noise. We do not want to stem the data because the words will look too similar to this noise. Secondly, stemming's advantage over lemmatization is its low computing requirements and quick results. Our data set is fairly small and such minor improvements are not important to us. In this case, it is better to lemmatize."
   ]
  },
  {
   "cell_type": "code",
   "execution_count": 94,
   "metadata": {},
   "outputs": [],
   "source": [
    "# Choose lemmatize and proceed forward with tokenization and stop words\n",
    "# create new column called prepped which takes the lemmatized column and passes it through the tokenize function and remove_stopwords function\n",
    "df = df.assign(prepped = df.lemmatized.apply(tokenize).apply(remove_stopwords))"
   ]
  },
  {
   "cell_type": "code",
   "execution_count": 95,
   "metadata": {},
   "outputs": [
    {
     "data": {
      "text/plain": [
       "0      usernames run repl repl badge repl daynamesolu...\n",
       "1      im probably gonna problem im gonna pretend lik...\n",
       "10     build status travisci svgbranchmaster travisci...\n",
       "100    santa christmastree gift problem might write s...\n",
       "101    fifth installment creating package ive prepare...\n",
       "Name: prepped, dtype: object"
      ]
     },
     "execution_count": 95,
     "metadata": {},
     "output_type": "execute_result"
    }
   ],
   "source": [
    "df.prepped.head()"
   ]
  },
  {
   "cell_type": "code",
   "execution_count": 96,
   "metadata": {},
   "outputs": [
    {
     "data": {
      "text/plain": [
       "                                                                                                                                                                                                                                                                                                                                                                                                                                                                                                                                                                                                                                                                              26\n",
       "python                                                                                                                                                                                                                                                                                                                                                                                                                                                                                                                                                                                                                                                                         2\n",
       "app main lh                                                                                                                                                                                                                                                                                                                                                                                                                                                                                                                                                                                                                                                                    2\n",
       "puzzle                                                                                                                                                                                                                                                                                                                                                                                                                                                                                                                                                                                                                                                                         2\n",
       "contribute inspired others bidra med dina losningar pa problemen vilket sprak du vill valj ett du kan eller ett du vill lara dig vi har ocksa en ledarbrada leaderboard pa koden till ledarbradan ar eed vi har ocksa en slackkanal dit alla ar valkomna att snacka eller egentligen allt mellan himmel och jord med lite koppling till kod maila infousername se eller twittra din epost till sa slapper vi er dina losningar far garna checkas en mapp med namn pa formen anvandarnamnsprak sa blir det lite lattare alla att fa overblick losningarna kan komma att diskuteras avsnitt av sa lagg med en readme md med en notis om du inte vill riskera att bli omnamnd     2\n",
       "Name: prepped, dtype: int64"
      ]
     },
     "execution_count": 96,
     "metadata": {},
     "output_type": "execute_result"
    }
   ],
   "source": [
    "# 26 blank readme's as a result of removing stop words. We need to drop them.\n",
    "df.prepped.value_counts().head()"
   ]
  },
  {
   "cell_type": "code",
   "execution_count": 97,
   "metadata": {},
   "outputs": [
    {
     "data": {
      "text/plain": [
       "contribute inspired others bidra med dina losningar pa problemen vilket sprak du vill valj ett du kan eller ett du vill lara dig vi har ocksa en ledarbrada leaderboard pa koden till ledarbradan ar eed vi har ocksa en slackkanal dit alla ar valkomna att snacka eller egentligen allt mellan himmel och jord med lite koppling till kod maila infousername se eller twittra din epost till sa slapper vi er dina losningar far garna checkas en mapp med namn pa formen anvandarnamnsprak sa blir det lite lattare alla att fa overblick losningarna kan komma att diskuteras avsnitt av sa lagg med en readme md med en notis om du inte vill riskera att bli omnamnd                                                                                                                                                                                                                                                                                                                                                                                                                                                                                                                                                                                                                                                                                                                                                                                                                                                                                                                                                                                                                                                                                                                                                                                                                                                                                                                                                                                                                                                                                                                                                                                                                                                                                                                                                                                                                                                                                                                                                                                                                                                                                                                                                                                                                                                                                                                                                                                                                                                                                                                                                                                                                                                                                                                                                                                                                                                                                                                                                                                                                                                                                                                                                                                                                                                                                                                                                                                                                                                                                                                                                                                                                                                                                                                                                                                                                                                                                                                                                                                                                                                                                                                                                                                                                                                                                                                                                                                                                                                                                                                                                                                                                                                                                                                                                                                                                                                                                                                                                                                                                                                                                                                                                                                                                                                                                                                                                                                                                                                                                                                                                                                                                                                                                                                                                                                                                                                                                                                                                                                                                                                                                                                                                                                                                         2\n",
       "python                                                                                                                                                                                                                                                                                                                                                                                                                                                                                                                                                                                                                                                                                                                                                                                                                                                                                                                                                                                                                                                                                                                                                                                                                                                                                                                                                                                                                                                                                                                                                                                                                                                                                                                                                                                                                                                                                                                                                                                                                                                                                                                                                                                                                                                                                                                                                                                                                                                                                                                                                                                                                                                                                                                                                                                                                                                                                                                                                                                                                                                                                                                                                                                                                                                                                                                                                                                                                                                                                                                                                                                                                                                                                                                                                                                                                                                                                                                                                                                                                                                                                                                                                                                                                                                                                                                                                                                                                                                                                                                                                                                                                                                                                                                                                                                                                                                                                                                                                                                                                                                                                                                                                                                                                                                                                                                                                                                                                                                                                                                                                                                                                                                                                                                                                                                                                                                                                                                                                                                                                                                                                                                                                                                                                                                                                                                                                                                                                                                                                                                                                                                                                                                                                                                                                                                                                                                                                             2\n",
       "app main lh                                                                                                                                                                                                                                                                                                                                                                                                                                                                                                                                                                                                                                                                                                                                                                                                                                                                                                                                                                                                                                                                                                                                                                                                                                                                                                                                                                                                                                                                                                                                                                                                                                                                                                                                                                                                                                                                                                                                                                                                                                                                                                                                                                                                                                                                                                                                                                                                                                                                                                                                                                                                                                                                                                                                                                                                                                                                                                                                                                                                                                                                                                                                                                                                                                                                                                                                                                                                                                                                                                                                                                                                                                                                                                                                                                                                                                                                                                                                                                                                                                                                                                                                                                                                                                                                                                                                                                                                                                                                                                                                                                                                                                                                                                                                                                                                                                                                                                                                                                                                                                                                                                                                                                                                                                                                                                                                                                                                                                                                                                                                                                                                                                                                                                                                                                                                                                                                                                                                                                                                                                                                                                                                                                                                                                                                                                                                                                                                                                                                                                                                                                                                                                                                                                                                                                                                                                                                                        2\n",
       "puzzle                                                                                                                                                                                                                                                                                                                                                                                                                                                                                                                                                                                                                                                                                                                                                                                                                                                                                                                                                                                                                                                                                                                                                                                                                                                                                                                                                                                                                                                                                                                                                                                                                                                                                                                                                                                                                                                                                                                                                                                                                                                                                                                                                                                                                                                                                                                                                                                                                                                                                                                                                                                                                                                                                                                                                                                                                                                                                                                                                                                                                                                                                                                                                                                                                                                                                                                                                                                                                                                                                                                                                                                                                                                                                                                                                                                                                                                                                                                                                                                                                                                                                                                                                                                                                                                                                                                                                                                                                                                                                                                                                                                                                                                                                                                                                                                                                                                                                                                                                                                                                                                                                                                                                                                                                                                                                                                                                                                                                                                                                                                                                                                                                                                                                                                                                                                                                                                                                                                                                                                                                                                                                                                                                                                                                                                                                                                                                                                                                                                                                                                                                                                                                                                                                                                                                                                                                                                                                             2\n",
       "fifth installment creating package ive prepared template used containing package type executable copy template set correct number nn used                                                                                                                                                                                                                                                                                                                                                                                                                                                                                                                                                                                                                                                                                                                                                                                                                                                                                                                                                                                                                                                                                                                                                                                                                                                                                                                                                                                                                                                                                                                                                                                                                                                                                                                                                                                                                                                                                                                                                                                                                                                                                                                                                                                                                                                                                                                                                                                                                                                                                                                                                                                                                                                                                                                                                                                                                                                                                                                                                                                                                                                                                                                                                                                                                                                                                                                                                                                                                                                                                                                                                                                                                                                                                                                                                                                                                                                                                                                                                                                                                                                                                                                                                                                                                                                                                                                                                                                                                                                                                                                                                                                                                                                                                                                                                                                                                                                                                                                                                                                                                                                                                                                                                                                                                                                                                                                                                                                                                                                                                                                                                                                                                                                                                                                                                                                                                                                                                                                                                                                                                                                                                                                                                                                                                                                                                                                                                                                                                                                                                                                                                                                                                                                                                                                                                          1\n",
       "submission year using golang go guide goguide md small golang guide made page calendar small programming puzzle variety skill set skill level solved programming language like people use speed contest interview prep company training university coursework practice problem challenge golang ive seen golang used lot big project since ive never programmed go ive decided learn want learn im compiling small introductory guide goguide md disclaimer may poorly implemented since im still learning use language expect improvement time furthermore much free time might seem rushed still ill try keep clean                                                                                                                                                                                                                                                                                                                                                                                                                                                                                                                                                                                                                                                                                                                                                                                                                                                                                                                                                                                                                                                                                                                                                                                                                                                                                                                                                                                                                                                                                                                                                                                                                                                                                                                                                                                                                                                                                                                                                                                                                                                                                                                                                                                                                                                                                                                                                                                                                                                                                                                                                                                                                                                                                                                                                                                                                                                                                                                                                                                                                                                                                                                                                                                                                                                                                                                                                                                                                                                                                                                                                                                                                                                                                                                                                                                                                                                                                                                                                                                                                                                                                                                                                                                                                                                                                                                                                                                                                                                                                                                                                                                                                                                                                                                                                                                                                                                                                                                                                                                                                                                                                                                                                                                                                                                                                                                                                                                                                                                                                                                                                                                                                                                                                                                                                                                                                                                                                                                                                                                                                                                                                                                                                                                                                                                                              1\n",
       "readme repo answer starting written mostly r sometimes snippet provided ill try push one correct txt tree readme md input txt input txt mbp codeworkspace readme md directory file                                                                                                                                                                                                                                                                                                                                                                                                                                                                                                                                                                                                                                                                                                                                                                                                                                                                                                                                                                                                                                                                                                                                                                                                                                                                                                                                                                                                                                                                                                                                                                                                                                                                                                                                                                                                                                                                                                                                                                                                                                                                                                                                                                                                                                                                                                                                                                                                                                                                                                                                                                                                                                                                                                                                                                                                                                                                                                                                                                                                                                                                                                                                                                                                                                                                                                                                                                                                                                                                                                                                                                                                                                                                                                                                                                                                                                                                                                                                                                                                                                                                                                                                                                                                                                                                                                                                                                                                                                                                                                                                                                                                                                                                                                                                                                                                                                                                                                                                                                                                                                                                                                                                                                                                                                                                                                                                                                                                                                                                                                                                                                                                                                                                                                                                                                                                                                                                                                                                                                                                                                                                                                                                                                                                                                                                                                                                                                                                                                                                                                                                                                                                                                                                                                                 1\n",
       "malms written haskell reason guarantee efficient good looking                                                                                                                                                                                                                                                                                                                                                                                                                                                                                                                                                                                                                                                                                                                                                                                                                                                                                                                                                                                                                                                                                                                                                                                                                                                                                                                                                                                                                                                                                                                                                                                                                                                                                                                                                                                                                                                                                                                                                                                                                                                                                                                                                                                                                                                                                                                                                                                                                                                                                                                                                                                                                                                                                                                                                                                                                                                                                                                                                                                                                                                                                                                                                                                                                                                                                                                                                                                                                                                                                                                                                                                                                                                                                                                                                                                                                                                                                                                                                                                                                                                                                                                                                                                                                                                                                                                                                                                                                                                                                                                                                                                                                                                                                                                                                                                                                                                                                                                                                                                                                                                                                                                                                                                                                                                                                                                                                                                                                                                                                                                                                                                                                                                                                                                                                                                                                                                                                                                                                                                                                                                                                                                                                                                                                                                                                                                                                                                                                                                                                                                                                                                                                                                                                                                                                                                                                                      1\n",
       "azure devops build status dev azure apis build status reponamebranchnamemaster dev azure build latestdefinitionidbranchnamemaster nuget nuget status img shield io nuget v svgstyleflatsquarelabelnuget www nuget org package support library solving puzzle                                                                                                                                                                                                                                                                                                                                                                                                                                                                                                                                                                                                                                                                                                                                                                                                                                                                                                                                                                                                                                                                                                                                                                                                                                                                                                                                                                                                                                                                                                                                                                                                                                                                                                                                                                                                                                                                                                                                                                                                                                                                                                                                                                                                                                                                                                                                                                                                                                                                                                                                                                                                                                                                                                                                                                                                                                                                                                                                                                                                                                                                                                                                                                                                                                                                                                                                                                                                                                                                                                                                                                                                                                                                                                                                                                                                                                                                                                                                                                                                                                                                                                                                                                                                                                                                                                                                                                                                                                                                                                                                                                                                                                                                                                                                                                                                                                                                                                                                                                                                                                                                                                                                                                                                                                                                                                                                                                                                                                                                                                                                                                                                                                                                                                                                                                                                                                                                                                                                                                                                                                                                                                                                                                                                                                                                                                                                                                                                                                                                                                                                                                                                                                       1\n",
       "written native reason ha file test file daytest run test run jbuilder runtest specific use jbuilder runtest set watcher writing use watchman facebook io watchman watchmanmake p run jbuilder runtest                                                                                                                                                                                                                                                                                                                                                                                                                                                                                                                                                                                                                                                                                                                                                                                                                                                                                                                                                                                                                                                                                                                                                                                                                                                                                                                                                                                                                                                                                                                                                                                                                                                                                                                                                                                                                                                                                                                                                                                                                                                                                                                                                                                                                                                                                                                                                                                                                                                                                                                                                                                                                                                                                                                                                                                                                                                                                                                                                                                                                                                                                                                                                                                                                                                                                                                                                                                                                                                                                                                                                                                                                                                                                                                                                                                                                                                                                                                                                                                                                                                                                                                                                                                                                                                                                                                                                                                                                                                                                                                                                                                                                                                                                                                                                                                                                                                                                                                                                                                                                                                                                                                                                                                                                                                                                                                                                                                                                                                                                                                                                                                                                                                                                                                                                                                                                                                                                                                                                                                                                                                                                                                                                                                                                                                                                                                                                                                                                                                                                                                                                                                                                                                                                              1\n",
       "edition racket amp explanation puzzle written racket literateprogramming dialect scribble lp install command line raco pkg install explanation installed automatically part scribble documentation read explanation online right pkgbuild racketlang org doc onward edition respective annual subdirectory                                                                                                                                                                                                                                                                                                                                                                                                                                                                                                                                                                                                                                                                                                                                                                                                                                                                                                                                                                                                                                                                                                                                                                                                                                                                                                                                                                                                                                                                                                                                                                                                                                                                                                                                                                                                                                                                                                                                                                                                                                                                                                                                                                                                                                                                                                                                                                                                                                                                                                                                                                                                                                                                                                                                                                                                                                                                                                                                                                                                                                                                                                                                                                                                                                                                                                                                                                                                                                                                                                                                                                                                                                                                                                                                                                                                                                                                                                                                                                                                                                                                                                                                                                                                                                                                                                                                                                                                                                                                                                                                                                                                                                                                                                                                                                                                                                                                                                                                                                                                                                                                                                                                                                                                                                                                                                                                                                                                                                                                                                                                                                                                                                                                                                                                                                                                                                                                                                                                                                                                                                                                                                                                                                                                                                                                                                                                                                                                                                                                                                                                                                                         1\n",
       "repo contains personnal answer problem proposed missing added complete check commits list know ha completed also propose viewer use init py copy repo hierarchy get coding copying template use init py want copy repo template answer problem functionnalities include making directory downloading statement downloading input making template making url link prerequisite need python module request installed install module request use shell pip install request running init py run init py follow step create new folder download init py put folder open init py text editor put session usersessionid see change user parameter init py desired see change date last year needed run init py within folder shell python init py user parameter init py parameter come follow python user specific parameter basepos folder created want make parent folder change ex usersessionid get session inspecting session cookie content web browser connected paste plain text leave download input downloadstatements true set false download statement note part one downloaded since need complete access part two downloadinputs true set false download input note usersessionid wrong left empty input downloaded makecodetemplate true set false make template note even overwrite set true never overwrite makeurl true set false create direct url link folder author name automatically put template overwrite false really need download whole thing set true creator said fragile please gentle statement input change overwrite date specific parameter date december date automatically put template startingadventofcodeyear go early lastadventofcodeyear setup download data date included lastadventofcodeday year isnt finished setup download included last year important parameter usersessionid ha set correctly script download personnal problem input recover session go log mean google check cookie named session step depends browser used done network inspection advanced browser like chrome simply clicking view site information button directly left url shown padlock clicking cooky copy cookie content paste init py might automatically formated upon copied look different worry parameter self explanatory running repo simply download wanted folder script run parent directory shell python py set current directory wanted folder shell cd python py please rename py input txt file name hardcoded problem solved contributing constructive pull request directly correcting error improving welcomed                                                                                                                                                                                                                                                                                                                                                                                                                                                                                                                                                                                                                                                                                                                                                                                                                                                                                                                                                                                                                                                                                                                                                                                                                                                                                                                                                                                                                                                                                                                                                                                                                                                                                                                                                                                                                                                                                                                                                                                                                                                                                                                                                                                                                                                                                                                                                                                                                                                                                                                                                                                                                                                                                                                                                                                                                                                                                                                                                                                                                                                                                                                                                                                                                                                                                                                                                                                                                                                                                                                                                                                                                                                                                                                                                                                                                                                                                                                                                                                                                                                                                                                                                                                                                                                                                                                                            1\n",
       "modern cplusplus using cplusplus wide usage boost rangesv prerequisite cplusplus compiler tested gcc clang cmake later git bash optional build git clone mkdir reponamebuild cd reponamebuild cmake dcmakebuildtyperelease cmake build j build several thirdparty library boost rangev json modern cplusplus downloaded build directory test ctest j solve problem app aocapp test input app aocapp test input source problem problem cpp problem problem cpp problem problem cpp problem problem cpp problem problem cpp problem problem cpp problem problem cpp problem problem cpp problem problem cpp problem problem cpp problem problem cpp problem problem cpp problem problem cpp problem problem cpp problem problem cpp problem problem cpp problem problem cpp problem problem cpp problem problem cpp problem problem cpp problem problem cpp problem problem cpp problem problem cpp problem problem cpp problem problem cpp problem problem cpp problem problem cpp problem problem cpp problem problem cpp problem problem cpp problem problem cpp problem problem cpp problem problem cpp problem problem cpp problem problem cpp problem problem cpp problem problem cpp problem problem cpp problem problem cpp problem problem cpp problem problem cpp problem problem cpp problem problem cpp problem problem cpp problem problem cpp problem problem cpp problem problem cpp problem problem cpp problem problem cpp problem problem cpp problem problem cpp problem problem cpp problem problem cpp problem problem cpp problem problem cpp problem problem cpp problem problem cpp problem problem cpp problem problem cpp problem problem cpp problem problem cpp problem problem cpp problem problem cpp problem problem cpp problem problem cpp                                                                                                                                                                                                                                                                                                                                                                                                                                                                                                                                                                                                                                                                                                                                                                                                                                                                                                                                                                                                                                                                                                                                                                                                                                                                                                                                                                                                                                                                                                                                                                                                                                                                                                                                                                                                                                                                                                                                                                                                                                                                                                                                                                                                                                                                                                                                                                                                                                                                                                                                                                                                                                                                                                                                                                                                                                                                                                                                                                                                                                                                                                                                                                                                                                                                                                                                                                                                                                                                                                                                                                                                                                                                                                                                                                                                                                                                                                                                                                                                                                                                                                                                                                                                                                                                                                                                                                                                                                                                                                                                                                                                                                                                                                                                                                                                                                                                                                                                                                                                                                                                                                                          1\n",
       "rust challenge written rust program expects puzzle input standard input passed first argument example cargo run release input inverse captcha corruption checksum spiral memory highentropy passphrases maze twisty trampoline alike memory reallocation recursive circus heard like register stream processing knot hash hex ed digital plumber packet scanner disk defragmentation dueling generator permutation promenade spinlock duet series tube particle swarm fractal art sporifica virus coprocessor conflagration electromagnetic moat halting problem                                                                                                                                                                                                                                                                                                                                                                                                                                                                                                                                                                                                                                                                                                                                                                                                                                                                                                                                                                                                                                                                                                                                                                                                                                                                                                                                                                                                                                                                                                                                                                                                                                                                                                                                                                                                                                                                                                                                                                                                                                                                                                                                                                                                                                                                                                                                                                                                                                                                                                                                                                                                                                                                                                                                                                                                                                                                                                                                                                                                                                                                                                                                                                                                                                                                                                                                                                                                                                                                                                                                                                                                                                                                                                                                                                                                                                                                                                                                                                                                                                                                                                                                                                                                                                                                                                                                                                                                                                                                                                                                                                                                                                                                                                                                                                                                                                                                                                                                                                                                                                                                                                                                                                                                                                                                                                                                                                                                                                                                                                                                                                                                                                                                                                                                                                                                                                                                                                                                                                                                                                                                                                                                                                                                                                                                                                                                   1\n",
       "challenge crystallang see folder build faithfully salival hsalival nl                                                                                                                                                                                                                                                                                                                                                                                                                                                                                                                                                                                                                                                                                                                                                                                                                                                                                                                                                                                                                                                                                                                                                                                                                                                                                                                                                                                                                                                                                                                                                                                                                                                                                                                                                                                                                                                                                                                                                                                                                                                                                                                                                                                                                                                                                                                                                                                                                                                                                                                                                                                                                                                                                                                                                                                                                                                                                                                                                                                                                                                                                                                                                                                                                                                                                                                                                                                                                                                                                                                                                                                                                                                                                                                                                                                                                                                                                                                                                                                                                                                                                                                                                                                                                                                                                                                                                                                                                                                                                                                                                                                                                                                                                                                                                                                                                                                                                                                                                                                                                                                                                                                                                                                                                                                                                                                                                                                                                                                                                                                                                                                                                                                                                                                                                                                                                                                                                                                                                                                                                                                                                                                                                                                                                                                                                                                                                                                                                                                                                                                                                                                                                                                                                                                                                                                                                              1\n",
       "wonderful time year haskell along automated fetching testing running environment powered adventofcodeapi library interactive development environment runner bench marker viewer tester ha pulled dev implemented fork reflection check reflection commentary package haddock haddock individual link haddock io adventofcodeapi hackage haskell org package adventofcodeapi dev adventofcodedev reflection benchmark reflection reflection dr dg rendered dh benchmark db reflection dr dg rendered dh benchmark db reflection dr dg rendered dh benchmark db reflection dr dg rendered dh benchmark db reflection dr dg rendered dh benchmark db reflection dr dg rendered dh benchmark db reflection dr dg rendered dh benchmark db reflection dr dg rendered dh benchmark db reflection dr dg rendered dh benchmark db reflection dr dg rendered dh benchmark db reflection dr dg rendered dh benchmark db reflection dr dg rendered dh benchmark db reflection dr dg rendered dh benchmark db reflection dr dg rendered dh reflection dg rendered dh reflection dr dg rendered dh benchmark db reflection dg rendered dh reflection dg rendered dh reflection dg rendered dh reflection dr dg rendered dh benchmark db reflection dg rendered dh reflection dg rendered dh reflection dg rendered dh reflection dg rendered dh rendered link go haddock source render reflection documentation haddock source render hyperlinked identifier follow unrecognized identifier see defined library reflection reflection md type youre looking actual youll notice thattthis year im implementing term record type haskell data b mksol sparse string maybe parse input ssolve maybe b solve input b sshow b string print b submission b challenge expecting input type producing answer type b also pack function parse string function show b string submit answer help mentally separate parsing solving showing allowing cleaner easier time planning challenge run string input feeding string sparse ssolve sshow haskell run input retuning maybe runsolution challenge string maybe string runsolution mksol x sparse ssolve x pure sshow actual library runsolution return either debug stage error happened might also notice function dyno used like dyno limit implement parameter problem vary test data actual input example involved finding point total distance le test input found point total distance le system let write dyno limit instead hardcoding would replaced running test data parsed file btest btest testdata b txt interactive run interactive interactive module ha powered adventofcodeapi testing submitting within ghci dont recompile edit program automatically updated hit r ghci interactive io aocruninteractive html haskell ghci execsolution mkcs get answer challenge based ghci testsolution mkcs run test suite ghci viewprompt mkcs view prompt part ghci waitforprompt mkcs count prompt part ghci submitsolution mkcs submit loaded session key stored configuration file see next section executable come test example given problem install using stack bash git clone cd stack setup stack install executable includes testing benchmark suite well way view prompt within command line help challenge runner usage cconfig path command run challenge available available option cconfig path path configuration file default aocconf yaml hhelp show help text available command run run test benchmark challenge view view prompt given challenge submit test submit answer challenge test alias run test bench alias run bench countdown alias view countdown run b b supply input via stdin stdin run stdin ctrld b benchmarking implemented using criterion bench benchmarking time r r r mean std dev variance introduced outlier severely inflated b benchmarking time r r r mean std dev test suite run example problem given puzzle description output colorized ansi terminal test passed test b passed test work youre running project directory run actual input executable expects input found folder data xx txt directory running input expected data txt download missing input file requires session token provided aocconf yaml yaml session session token go session key also required download part prompt challenge lock current answer telling executable correct answer passing lock lock final puzzle encountered verified official answer later edit modify checked lockedin answer stored data xxpart txt target output part b expected data b txt also manually edit file view prompt use countdown count prompt released display immediately view b b part two amidst chaos notice exactly one claim doesnt overlap even single square inch fabric claim somehow draw attention maybe elf able make santa suit example claim claim intact claim made id claim doesnt overlap also submit answer submit submission automatically run test suite test fail asked confirm submission else abort submit command output result submission message website whether answer wa correct invalid ignored answer confirmed correct locked saved future testing case change networking feature powered adventofcodeapi dg challenge h dh io challenge html dr reflection mdday db reflection mddaybenchmarks dg challenge h dh io challenge html dr reflection mdday db reflection mddaybenchmarks dg challenge h dh io challenge html dr reflection mdday db reflection mddaybenchmarks dg challenge h dh io challenge html dr reflection mdday db reflection mddaybenchmarks dg challenge h dh io challenge html dr reflection mdday db reflection mddaybenchmarks dg challenge h dh io challenge html dr reflection mdday db reflection mddaybenchmarks dg challenge h dh io challenge html dr reflection mdday db reflection mddaybenchmarks dg challenge h dh io challenge html dr reflection mdday db reflection mddaybenchmarks dg challenge h dh io challenge html dr reflection mdday db reflection mddaybenchmarks dg challenge h dh io challenge html dr reflection mdday db reflection mddaybenchmarks dg challenge h dh io challenge html dr reflection mdday db reflection mddaybenchmarks dg challenge h dh io challenge html dr reflection mdday db reflection mddaybenchmarks dg challenge h dh io challenge html dr reflection mdday db reflection mddaybenchmarks dg challenge h dh io challenge html dr reflection mdday dg challenge h dh io challenge html dg challenge h dh io challenge html dr reflection mdday db reflection mddaybenchmarks dg challenge h dh io challenge html dg challenge h dh io challenge html dg challenge h dh io challenge html dg challenge h dh io challenge html dr reflection mdday db reflection mddaybenchmarks dg challenge h dh io challenge html dg challenge h dh io challenge html dg challenge h dh io challenge html dg challenge h dh io challenge html    1\n",
       "mate laszlo challenge using functional programming style scala external dependency challenge run puzzle pas year parameter e g sbt run tyranny rocket equation main scala lmat year scala chronal calibration main scala lmat year scala inverse captcha main scala lmat year scala time taxicab quite lisp main scala lmat year scala program alarm main scala lmat year scala inventory management system main scala lmat year scala corruption checksum main scala lmat year scala bathroom security wa told would math main scala lmat year scala crossed wire main scala lmat year scala matter slice main scala lmat year scala spiral memory main scala lmat year scala square three side perfectly spherical house vacuum main scala lmat year scala secure container main scala lmat year scala repose record main scala lmat year scala highentropy passphrases main scala lmat year scala security obscurity ideal stocking stuffer main scala lmat year scala alchemical reduction main scala lmat year scala maze twisty trampoline alike main scala lmat year scala nice game chess doesnt internelves main scala lmat year scala chronal coordinate main scala lmat year scala memory reallocation main scala lmat year scala signal noise probably fire hazard main scala lmat year scala sum part main scala lmat year scala recursive circus main scala lmat year scala internet protocol version assembly required main scala lmat year scala memory maneuver main scala lmat year scala heard like register main scala lmat year scala twofactor authentication matchstick main scala lmat year scala marble mania main scala lmat year scala stream processing main scala lmat year scala explosive cyberspace single night main scala lmat year scala star align main scala lmat year scala knot hash main scala lmat year scala balance bot elf look elf say main scala lmat year scala chronal charge main scala lmat year scala hex ed main scala lmat year scala radioisotope thermoelectric generator corporate policy main scala lmat year scala subterranean sustainability main scala lmat year scala digital plumber main scala lmat year scala leonardo monorail jsabacusframework io main scala lmat year scala mine cart madness main scala lmat year scala packet scanner main scala lmat year scala maze twisty little cubicle knight dinner table main scala lmat year scala chocolate chart main scala lmat year scala disk defragmentation main scala lmat year scala onetime pad reindeer olympics main scala lmat year scala beverage bandit main scala lmat year scala dueling generator main scala lmat year scala timing everything science hungry people main scala lmat year scala chronal classification main scala lmat year scala permutation promenade main scala lmat year scala dragon checksum aunt sue main scala lmat year scala reservoir research spinlock main scala lmat year scala two step forward thing much main scala lmat year scala settler north pole duet main scala lmat year scala like rogue like gif yard main scala lmat year scala go flow series tube main scala lmat year scala elephant named joseph medicine rudolph main scala lmat year scala regular map particle swarm main scala lmat year scala firewall rule infinite elf infinite house main scala lmat year scala chronal conversion fractal art main scala lmat year scala scrambled letter hash rpg simulator xx main scala lmat year scala mode maze sporifica virus main scala lmat year scala grid computing wizard simulator xx main scala lmat year scala experimental emergency teleportation coprocessor conflagration main scala lmat year scala safe cracking opening turing lock main scala lmat year scala immune system simulator xx main scala lmat year scala electromagnetic moat main scala lmat year scala air duct spelunking hang balance main scala lmat year scala fourdimensional adventure halting problem main scala lmat year scala clock signal let snow main scala lmat year scala                                                                                                                                                                                                                                                                                                                                                                                                                                                                                                                                                                                                                                                                                                                                                                                                                                                                                                                                                                                                                                                                                                                                                                                                                                                                                                                                                                                                                                                                                                                                                                                                                                                                                                                                                                                                                                                                                                                                                                                                                                                                                                                                                                                                                                                                                                                                                                                                                                                                                                                                                                                                                                                                                                                                                                                                                                             1\n",
       "written crystal build file crystal build release dayn cr run dayn optimal execution time                                                                                                                                                                                                                                                                                                                                                                                                                                                                                                                                                                                                                                                                                                                                                                                                                                                                                                                                                                                                                                                                                                                                                                                                                                                                                                                                                                                                                                                                                                                                                                                                                                                                                                                                                                                                                                                                                                                                                                                                                                                                                                                                                                                                                                                                                                                                                                                                                                                                                                                                                                                                                                                                                                                                                                                                                                                                                                                                                                                                                                                                                                                                                                                                                                                                                                                                                                                                                                                                                                                                                                                                                                                                                                                                                                                                                                                                                                                                                                                                                                                                                                                                                                                                                                                                                                                                                                                                                                                                                                                                                                                                                                                                                                                                                                                                                                                                                                                                                                                                                                                                                                                                                                                                                                                                                                                                                                                                                                                                                                                                                                                                                                                                                                                                                                                                                                                                                                                                                                                                                                                                                                                                                                                                                                                                                                                                                                                                                                                                                                                                                                                                                                                                                                                                                                                                           1\n",
       "img shield io license last commit img shield io lastcommit javascript                                                                                                                                                                                                                                                                                                                                                                                                                                                                                                                                                                                                                                                                                                                                                                                                                                                                                                                                                                                                                                                                                                                                                                                                                                                                                                                                                                                                                                                                                                                                                                                                                                                                                                                                                                                                                                                                                                                                                                                                                                                                                                                                                                                                                                                                                                                                                                                                                                                                                                                                                                                                                                                                                                                                                                                                                                                                                                                                                                                                                                                                                                                                                                                                                                                                                                                                                                                                                                                                                                                                                                                                                                                                                                                                                                                                                                                                                                                                                                                                                                                                                                                                                                                                                                                                                                                                                                                                                                                                                                                                                                                                                                                                                                                                                                                                                                                                                                                                                                                                                                                                                                                                                                                                                                                                                                                                                                                                                                                                                                                                                                                                                                                                                                                                                                                                                                                                                                                                                                                                                                                                                                                                                                                                                                                                                                                                                                                                                                                                                                                                                                                                                                                                                                                                                                                                                              1\n",
       "try focus making clean documented haskell puzzle well chatting irc december find discussion freenode freenode net haskell webchat webchat freenode net haskelladventofcode building recommend installing ghc ghcup curl getghcup haskell org ssf sh im using ghc year ghcup install ghcup set cabalinstall best way get thing built cabal update cabal build running take optional command line argument input file name read input stdin cabal run intcode interpreter rely common intcode interpreter intcode h common intcode h common library used container almost benefit access map set type package megaparsec problem feature simple textfile format input parser combinators make easy define simple parser needed consume input doctest checked example documentation make easier understand doe easy add unit test                                                                                                                                                                                                                                                                                                                                                                                                                                                                                                                                                                                                                                                                                                                                                                                                                                                                                                                                                                                                                                                                                                                                                                                                                                                                                                                                                                                                                                                                                                                                                                                                                                                                                                                                                                                                                                                                                                                                                                                                                                                                                                                                                                                                                                                                                                                                                                                                                                                                                                                                                                                                                                                                                                                                                                                                                                                                                                                                                                                                                                                                                                                                                                                                                                                                                                                                                                                                                                                                                                                                                                                                                                                                                                                                                                                                                                                                                                                                                                                                                                                                                                                                                                                                                                                                                                                                                                                                                                                                                                                                                                                                                                                                                                                                                                                                                                                                                                                                                                                                                                                                                                                                                                                                                                                                                                                                                                                                                                                                                                                                                                                                                                                                                                                                                                                                                                                                                                                                                                                                                                                                     1\n",
       "wrote unit test standardizing perl run batch perl makefile pl make test run individual unit test cd perl file                                                                                                                                                                                                                                                                                                                                                                                                                                                                                                                                                                                                                                                                                                                                                                                                                                                                                                                                                                                                                                                                                                                                                                                                                                                                                                                                                                                                                                                                                                                                                                                                                                                                                                                                                                                                                                                                                                                                                                                                                                                                                                                                                                                                                                                                                                                                                                                                                                                                                                                                                                                                                                                                                                                                                                                                                                                                                                                                                                                                                                                                                                                                                                                                                                                                                                                                                                                                                                                                                                                                                                                                                                                                                                                                                                                                                                                                                                                                                                                                                                                                                                                                                                                                                                                                                                                                                                                                                                                                                                                                                                                                                                                                                                                                                                                                                                                                                                                                                                                                                                                                                                                                                                                                                                                                                                                                                                                                                                                                                                                                                                                                                                                                                                                                                                                                                                                                                                                                                                                                                                                                                                                                                                                                                                                                                                                                                                                                                                                                                                                                                                                                                                                                                                                                                                                      1\n",
       "chart unofficial licenseandaffiliationdisclaimer small hackedup set chart private leaderboard get extension browserstorechrome png browserstorechrome png chrome google webstore detail ipbomkmbokofodhhjpipflmdplipblbe browserstorefirefox png browserstorefirefox png addons mozilla org enus firefox addon disclaimer wellarchitectured wellwritten neat nice fluffy industrystrength piece instead something fun wanted make stepping normal way coding warranty developing install dependency sh npm ci npm install serve test website dummy data sh npm run start run serve watch parallel open localhost building run build p build sh recreate build folder readytogo browser extension test extension loading browser full reference see chrome firefoxs full documentation basic firefox go aboutdebugging load temporary addon pick build manifest json file chrome go chrome extension load unpacked extension pick build folder test browsing private leaderboard see chart popping bottom license affiliation disclaimer project mit licensed explicit exception dummydata j file contains json format thought owner creator suppose using small snippet like fall fair use given one website suggests using json api integration albeit without spamming api note eric wastls project official way directly indirectly endorsed affiliated creator owner read learn project oh course please consider donating support example le look like example png example png                                                                                                                                                                                                                                                                                                                                                                                                                                                                                                                                                                                                                                                                                                                                                                                                                                                                                                                                                                                                                                                                                                                                                                                                                                                                                                                                                                                                                                                                                                                                                                                                                                                                                                                                                                                                                                                                                                                                                                                                                                                                                                                                                                                                                                                                                                                                                                                                                                                                                                                                                                                                                                                                                                                                                                                                                                                                                                                                                                                                                                                                                                                                                                                                                                                                                                                                                                                                                                                                                                                                                                                                                                                                                                                                                                                                                                                                                                                                                                                                                                                                                                                                                                                                                                                                                                                                                                                                                                                                                                                                                                                                                                                                                                                                                                                                                                                                                                                                                                                                                                                                                                                                                                                                                                                                                                                                                                                                                1\n",
       "im probably gonna problem im gonna pretend like im gonna workspace convenient kinda generate py year start end make file two year boilerplate generates run function run given year subproblem b type ha type encapsulates feel free use template maybe add test benchmark something checkout nosolutions branch workspace spoiler use right away                                                                                                                                                                                                                                                                                                                                                                                                                                                                                                                                                                                                                                                                                                                                                                                                                                                                                                                                                                                                                                                                                                                                                                                                                                                                                                                                                                                                                                                                                                                                                                                                                                                                                                                                                                                                                                                                                                                                                                                                                                                                                                                                                                                                                                                                                                                                                                                                                                                                                                                                                                                                                                                                                                                                                                                                                                                                                                                                                                                                                                                                                                                                                                                                                                                                                                                                                                                                                                                                                                                                                                                                                                                                                                                                                                                                                                                                                                                                                                                                                                                                                                                                                                                                                                                                                                                                                                                                                                                                                                                                                                                                                                                                                                                                                                                                                                                                                                                                                                                                                                                                                                                                                                                                                                                                                                                                                                                                                                                                                                                                                                                                                                                                                                                                                                                                                                                                                                                                                                                                                                                                                                                                                                                                                                                                                                                                                                                                                                                                                                                                                  1\n",
       "puzzle check running run go folder run go go run                                                                                                                                                                                                                                                                                                                                                                                                                                                                                                                                                                                                                                                                                                                                                                                                                                                                                                                                                                                                                                                                                                                                                                                                                                                                                                                                                                                                                                                                                                                                                                                                                                                                                                                                                                                                                                                                                                                                                                                                                                                                                                                                                                                                                                                                                                                                                                                                                                                                                                                                                                                                                                                                                                                                                                                                                                                                                                                                                                                                                                                                                                                                                                                                                                                                                                                                                                                                                                                                                                                                                                                                                                                                                                                                                                                                                                                                                                                                                                                                                                                                                                                                                                                                                                                                                                                                                                                                                                                                                                                                                                                                                                                                                                                                                                                                                                                                                                                                                                                                                                                                                                                                                                                                                                                                                                                                                                                                                                                                                                                                                                                                                                                                                                                                                                                                                                                                                                                                                                                                                                                                                                                                                                                                                                                                                                                                                                                                                                                                                                                                                                                                                                                                                                                                                                                                                                                   1\n",
       "sorted year language                                                                                                                                                                                                                                                                                                                                                                                                                                                                                                                                                                                                                                                                                                                                                                                                                                                                                                                                                                                                                                                                                                                                                                                                                                                                                                                                                                                                                                                                                                                                                                                                                                                                                                                                                                                                                                                                                                                                                                                                                                                                                                                                                                                                                                                                                                                                                                                                                                                                                                                                                                                                                                                                                                                                                                                                                                                                                                                                                                                                                                                                                                                                                                                                                                                                                                                                                                                                                                                                                                                                                                                                                                                                                                                                                                                                                                                                                                                                                                                                                                                                                                                                                                                                                                                                                                                                                                                                                                                                                                                                                                                                                                                                                                                                                                                                                                                                                                                                                                                                                                                                                                                                                                                                                                                                                                                                                                                                                                                                                                                                                                                                                                                                                                                                                                                                                                                                                                                                                                                                                                                                                                                                                                                                                                                                                                                                                                                                                                                                                                                                                                                                                                                                                                                                                                                                                                                                               1\n",
       "build status travisci svgbranchmaster travisci codacy badge api codacy project badge grade dbacabededcbea app codacy app reponameutmsourcegithub comutmmediumreferralutmcontentusername reponameutmcampaignbadgegradedashboard maintainability api codeclimate v badge dfdddfedc maintainability codeclimate maintainability test coverage api codeclimate v badge dfdddfedc testcoverage codeclimate testcoverage codecov img shield io codecov c svglabelnodecoverage codecov io gh coverage status img shield io coverall svglabelrustcoverage coverall io reponamebranchmaster snyk vulnerability img shield io snyk vulnerability svgstylepopout app snyk io org project bbfbcbffbdd greenkeeper badge badge greenkeeper io greenkeeper io last commit img shield io lastcommit style prettier img shield io badge codestyleprettierffb prettier prettier progress img shield io endpointurlhttps raw githubusercontent badge json progress img shield io endpointurlhttps raw githubusercontent badge json progress img shield io endpointurlhttps raw githubusercontent badge json progress img shield io endpointurlhttps raw githubusercontent badge json progress img shield io endpointurlhttps raw githubusercontent badge json leaderboards leaderboard private view join private leaderboard find invitation leaderboard md progress img shield io endpointurlhttps raw githubusercontent badge json part one part two typescript rust typescript rust typescript partone rust lib r typescript parttwo rust lib r typescript partone rust lib r typescript parttwo rust lib r typescript partone typescript parttwo typescript partone typescript parttwo typescript partone typescript parttwo typescript partone typescript parttwo typescript partone typescript parttwo typescript partone typescript parttwo typescript partone typescript parttwo typescript partone typescript parttwo typescript partone typescript parttwo progress img shield io endpointurlhttps raw githubusercontent badge json part one part two typescript rust typescript rust typescript partone rust lib r typescript parttwo rust lib r typescript partone typescript parttwo typescript partone typescript parttwo typescript partone typescript parttwo typescript collapse function typescript parttwo typescript partone typescript parttwo typescript partone typescript parttwo typescript model node class typescript model node class typescript partone typescript parttwo typescript task typescript task typescript partone typescript parttwo typescript partone typescript parttwo typescript model cart class typescript parttwo typescript partone typescript parttwo progress img shield io endpointurlhttps raw githubusercontent badge json part one part two typescript rust typescript rust typescript partone rust lib r typescript parttwo rust lib r progress img shield io endpointurlhttps raw githubusercontent badge json part one part two typescript rust typescript rust typescript partone typescript parttwo progress img shield io endpointurlhttps raw githubusercontent badge json part one part two typescript rust typescript rust typescript partone rust lib r typescript parttwo rust lib r typescript partone rust lib r typescript parttwo rust lib r typescript partone rust lib r typescript parttwo rust lib r typescript hashsearch function rust lib r typescript hashsearch function rust lib r typescript partone rust lib r typescript parttwo rust lib r measured k ghz benchmark calculated input parsing plan refactor bench without typescript install node j nodejs org en open v visualstudio install suggested extension prompted recommended install required package bash npm select current file launch option f run file youre focusing debug mode testing test every task run bash npm test coverage report bash npm run testcoverage installed recommended mocha extension run rust install rust www rustlang org tool install open v visualstudio install suggested extension prompted recommended install required crate bash cargo build select current rust cargo launch option f run cargo youre focusing debug mode set rust default nightly bash rustup default nightly running individual bash cargo run p testing run cargo youd like test bash cargo test workspace cargo youd like run test bash cargo test benchmarking run specific benchmark bash cargo bench p workspace cargo youd like run benchmark take bash cargo bench scaffolding bash cargo run p scaffold note time measured ik ghz mark favourite materialicontheme installed copy materialicontheme folder association materialicontheme file association user setting see custom icon right codeclimate codecov coverage reporter report node test coverage coverall reporter rust result node nyc generates lcov report tarpaulin generates cobertura xml type report either rust get native coverage reporter output lcov tarpaulin support lcov two report cant merged technology typescript typescript node nodejs org en javascript runtime npm www npmjs package manager node typescript www typescriptlang org typed superset javascript rxjs reactivex io reactive programming observable stream mocha mochajs org behaviour driven testing framework chai www chaijs assertion library istanbul istanbul j org coverage tool technology rust rust rust www rustlang org system programmin language criterion bheisler criterion r benchmarking tool clippy rustlang rustclippy linter rust recommendation visual studio visualstudio ide everything setting vscode fira tonsky firacode font ligature service travis travisci continuous integration codacy codacy quality monitoring climate codeclimate maintainability coverage report snyk snyk io vulnerability detection library io library io dependency watcher shield io shield io badge look cool                                                                                                                                                                                                                                                                                                                                                                                                                                                                                                                                                                                                                                                                                                                                                                                                                                                                                                                                                                                   1\n",
       "javascript blog blog adrienne io twitter twitter instagram www instagram build status workflow build badge action mit license img shield io badge licensemitblue opensource org license mit online event created eric wastl twitter ericwastl year starting dec st calendar small programming puzzle unlocked midnight est utc developer skill set encouraged solve programming language choose story santa ha become stranded edge solar system delivering present planet accurately calculate position space safely align warp drive return earth time save christmas need bring measurement fifty star collect star solving puzzle two puzzle made available calendar second puzzle unlocked complete first puzzle grant one star good luck elf quickly load spacecraft prepare launch progress part one part two tyranny rocket equation tree daytyrannyofrocketequation program alarm tree dayprogramalarm crossed wire tree daycrossedwires secure container tree daysecurecontainer crossed wire tree daysunnywithachanceofasteroids universal orbit map tree dayuniversalorbitmap amplification circuit tree dayamplificationcircuit space image format tree dayspaceimageformat running test contains set test run type npm test                                                                                                                                                                                                                                                                                                                                                                                                                                                                                                                                                                                                                                                                                                                                                                                                                                                                                                                                                                                                                                                                                                                                                                                                                                                                                                                                                                                                                                                                                                                                                                                                                                                                                                                                                                                                                                                                                                                                                                                                                                                                                                                                                                                                                                                                                                                                                                                                                                                                                                                                                                                                                                                                                                                                                                                                                                                                                                                                                                                                                                                                                                                                                                                                                                                                                                                                                                                                                                                                                                                                                                                                                                                                                                                                                                                                                                                                                                                                                                                                                                                                                                                                                                                                                                                                                                                                                                                                                                                                                                                                                                                                                                                                                                                                                                                                                                                                                                                                                                                                                                                                                                                                                                                                                                                                                                                                                                                                                                                                                                                                                                                                                                                          1\n",
       "challenge information annual coding challenge season dec                                                                                                                                                                                                                                                                                                                                                                                                                                                                                                                                                                                                                                                                                                                                                                                                                                                                                                                                                                                                                                                                                                                                                                                                                                                                                                                                                                                                                                                                                                                                                                                                                                                                                                                                                                                                                                                                                                                                                                                                                                                                                                                                                                                                                                                                                                                                                                                                                                                                                                                                                                                                                                                                                                                                                                                                                                                                                                                                                                                                                                                                                                                                                                                                                                                                                                                                                                                                                                                                                                                                                                                                                                                                                                                                                                                                                                                                                                                                                                                                                                                                                                                                                                                                                                                                                                                                                                                                                                                                                                                                                                                                                                                                                                                                                                                                                                                                                                                                                                                                                                                                                                                                                                                                                                                                                                                                                                                                                                                                                                                                                                                                                                                                                                                                                                                                                                                                                                                                                                                                                                                                                                                                                                                                                                                                                                                                                                                                                                                                                                                                                                                                                                                                                                                                                                                                                                           1\n",
       "lol forgot oops guess going                                                                                                                                                                                                                                                                                                                                                                                                                                                                                                                                                                                                                                                                                                                                                                                                                                                                                                                                                                                                                                                                                                                                                                                                                                                                                                                                                                                                                                                                                                                                                                                                                                                                                                                                                                                                                                                                                                                                                                                                                                                                                                                                                                                                                                                                                                                                                                                                                                                                                                                                                                                                                                                                                                                                                                                                                                                                                                                                                                                                                                                                                                                                                                                                                                                                                                                                                                                                                                                                                                                                                                                                                                                                                                                                                                                                                                                                                                                                                                                                                                                                                                                                                                                                                                                                                                                                                                                                                                                                                                                                                                                                                                                                                                                                                                                                                                                                                                                                                                                                                                                                                                                                                                                                                                                                                                                                                                                                                                                                                                                                                                                                                                                                                                                                                                                                                                                                                                                                                                                                                                                                                                                                                                                                                                                                                                                                                                                                                                                                                                                                                                                                                                                                                                                                                                                                                                                                        1\n",
       "kotlin series small programming puzzle variety skill level selfcontained appropriate expert want stay sharp beginner learning puzzle call upon different skill ha two part build theme repository contains work progress written kotlin twitter try solve via tdd                                                                                                                                                                                                                                                                                                                                                                                                                                                                                                                                                                                                                                                                                                                                                                                                                                                                                                                                                                                                                                                                                                                                                                                                                                                                                                                                                                                                                                                                                                                                                                                                                                                                                                                                                                                                                                                                                                                                                                                                                                                                                                                                                                                                                                                                                                                                                                                                                                                                                                                                                                                                                                                                                                                                                                                                                                                                                                                                                                                                                                                                                                                                                                                                                                                                                                                                                                                                                                                                                                                                                                                                                                                                                                                                                                                                                                                                                                                                                                                                                                                                                                                                                                                                                                                                                                                                                                                                                                                                                                                                                                                                                                                                                                                                                                                                                                                                                                                                                                                                                                                                                                                                                                                                                                                                                                                                                                                                                                                                                                                                                                                                                                                                                                                                                                                                                                                                                                                                                                                                                                                                                                                                                                                                                                                                                                                                                                                                                                                                                                                                                                                                                                  1\n",
       "                                                                                                                                                                                                                                                                                                                                                                                                                                                                                                                                                                                                                                                                                                                                                                                                                                                                                                                                                                                                                                                                                                                                                                                                                                                                                                                                                                                                                                                                                                                                                                                                                                                                                                                                                                                                                                                                                                                                                                                                                                                                                                                                                                                                                                                                                                                                                                                                                                                                                                                                                                                                                                                                                                                                                                                                                                                                                                                                                                                                                                                                                                                                                                                                                                                                                                                                                                                                                                                                                                                                                                                                                                                                                                                                                                                                                                                                                                                                                                                                                                                                                                                                                                                                                                                                                                                                                                                                                                                                                                                                                                                                                                                                                                                                                                                                                                                                                                                                                                                                                                                                                                                                                                                                                                                                                                                                                                                                                                                                                                                                                                                                                                                                                                                                                                                                                                                                                                                                                                                                                                                                                                                                                                                                                                                                                                                                                                                                                                                                                                                                                                                                                                                                                                                                                                                                                                                                                                  ..\n",
       "collection clojure                                                                                                                                                                                                                                                                                                                                                                                                                                                                                                                                                                                                                                                                                                                                                                                                                                                                                                                                                                                                                                                                                                                                                                                                                                                                                                                                                                                                                                                                                                                                                                                                                                                                                                                                                                                                                                                                                                                                                                                                                                                                                                                                                                                                                                                                                                                                                                                                                                                                                                                                                                                                                                                                                                                                                                                                                                                                                                                                                                                                                                                                                                                                                                                                                                                                                                                                                                                                                                                                                                                                                                                                                                                                                                                                                                                                                                                                                                                                                                                                                                                                                                                                                                                                                                                                                                                                                                                                                                                                                                                                                                                                                                                                                                                                                                                                                                                                                                                                                                                                                                                                                                                                                                                                                                                                                                                                                                                                                                                                                                                                                                                                                                                                                                                                                                                                                                                                                                                                                                                                                                                                                                                                                                                                                                                                                                                                                                                                                                                                                                                                                                                                                                                                                                                                                                                                                                                                                 1\n",
       "build status workflow build badge action completion status img shield io endpointurlhttps raw githubusercontent badge completion json dependency status img shield io david daviddm org license img shield io badge licensemitblue raw githubusercontent license weve detected temporal anomaly one santa elf temporal anomaly research detection instrument station tell sounded pretty worried called year interval past someone ha changing santa history good news change wont propagate time stream another device attache something wrist let fix change propagation delay configured send year past every wa best could short notice bad news detecting roughly fifty anomaly throughout time device indicate fixed anomaly star bad news one device youre best person job good lu tap button device suddenly feel like youre falling save christmas need get fifty star december th collect star solving puzzle two puzzle made available calendar second puzzle unlocked complete first puzzle grant one star good luck chronal calibration daychronalcalibration inventory management system dayinventorymanagementsystem matter slice daynomatterhowyousliceit repose record dayreposerecord alchemical reduction dayalchemicalreduction chronal coordinate daychronalcoordinates sum part daythesumofitsparts memory maneuver daymemorymaneuver marble mania daymarblemania star align daythestarsalign chronal charge daychronalcharge subterranean sustainability daysubterraneansustainability mine cart madness dayminecartmadness chocolate chart daychocolatecharts beverage bandit daybeveragebandits chronal classification daychronalclassification settler north pole daysettlersofthenorthpole running test contains set test run type npm test previous year completion status img shield io endpointurlhttps raw githubusercontent badge completion jsonlabel completion status img shield io endpointurlhttps raw githubusercontent badge completion jsonlabel completion status img shield io endpointurlhttps raw githubusercontent badge completion jsonlabel visit                                                                                                                                                                                                                                                                                                                                                                                                                                                                                                                                                                                                                                                                                                                                                                                                                                                                                                                                                                                                                                                                                                                                                                                                                                                                                                                                                                                                                                                                                                                                                                                                                                                                                                                                                                                                                                                                                                                                                                                                                                                                                                                                                                                                                                                                                                                                                                                                                                                                                                                                                                                                                                                                                                                                                                                                                                                                                                                                                                                                                                                                                                                                                                                                                                                                                                                                                                                                                                                                                                                                                                                                                                                                                                                                                                                                                                                                                                                                                                                                                                                                                                                                                                                                                                                                                                                                                                                                                                                                                                                                                                                                                                                                                                                                                                                                   1\n",
       "attempt kotlin kotlinlang org trying hard possible stay functional lazy project layout structure based aockotlinstarter aockotlinstarter project see run project see bogdanps awesome bogdanp awesomeadventofcode great collection starter repository multiple language running navigate toplevel directory command line run gradlew run run run gradlew run args integer run specific testing navigate toplevel directory command line run gradlew test run gradlew test test testclass testclass string name test class including package e g daytest                                                                                                                                                                                                                                                                                                                                                                                                                                                                                                                                                                                                                                                                                                                                                                                                                                                                                                                                                                                                                                                                                                                                                                                                                                                                                                                                                                                                                                                                                                                                                                                                                                                                                                                                                                                                                                                                                                                                                                                                                                                                                                                                                                                                                                                                                                                                                                                                                                                                                                                                                                                                                                                                                                                                                                                                                                                                                                                                                                                                                                                                                                                                                                                                                                                                                                                                                                                                                                                                                                                                                                                                                                                                                                                                                                                                                                                                                                                                                                                                                                                                                                                                                                                                                                                                                                                                                                                                                                                                                                                                                                                                                                                                                                                                                                                                                                                                                                                                                                                                                                                                                                                                                                                                                                                                                                                                                                                                                                                                                                                                                                                                                                                                                                                                                                                                                                                                                                                                                                                                                                                                                                                                                                                                                                                                                                                                            1\n",
       "python personal annual challenge                                                                                                                                                                                                                                                                                                                                                                                                                                                                                                                                                                                                                                                                                                                                                                                                                                                                                                                                                                                                                                                                                                                                                                                                                                                                                                                                                                                                                                                                                                                                                                                                                                                                                                                                                                                                                                                                                                                                                                                                                                                                                                                                                                                                                                                                                                                                                                                                                                                                                                                                                                                                                                                                                                                                                                                                                                                                                                                                                                                                                                                                                                                                                                                                                                                                                                                                                                                                                                                                                                                                                                                                                                                                                                                                                                                                                                                                                                                                                                                                                                                                                                                                                                                                                                                                                                                                                                                                                                                                                                                                                                                                                                                                                                                                                                                                                                                                                                                                                                                                                                                                                                                                                                                                                                                                                                                                                                                                                                                                                                                                                                                                                                                                                                                                                                                                                                                                                                                                                                                                                                                                                                                                                                                                                                                                                                                                                                                                                                                                                                                                                                                                                                                                                                                                                                                                                                                                   1\n",
       "cargo helper simple cli tool aim helper implement let u handle rest feature input downloading running automatic benchmarking using criterion japaric criterion r getting started install cargo hosted binary crate io boot terminal install program using cargo install installed previous year may date cause build error version mismatch use latest version aocrunner aocrunnerderive thats case update cargo install force setting cli need find session token order work thankfully finding token easy since stored browser cooky open devtools browser firefox storage tab cooky copy value field session cookie google chrome chromium application tab cooky copy value field session cookie simply run cargo credential token youre ready start coding note reason token ha changed dont forget change back cargo credential show currently stored user token setting project order work properly set project correctly get lost process take example repository template first must add dependency aocrunner aocrunnerderive cargo toml end lib r use macro aoclib year xxxx xxxx year puzzle solved implementing provide function tag accordingly function either solver generator two type function executed benchmarked seperately let closer look generator function generator allows provide custom type solver function sometimes parse input extract logical structure actually solve problem generator function tagged aocgenerator dayx example worth thousand word let take look year puzzle description know list dimension length l width w height h present present one line represented like l x w x h might want first parse input extract logical gift structs like pub struct gift l u w u h u reference implementation see instead chose settle custom type type gift u u u thus writing generator gift fairly simple aocgenerator pub fn inputgenerator input str vecgift input line map l let mut gift l trim split x map parse unwrap gift next unwrap gift next unwrap gift next unwrap collect see generator take str u type input output type want use solver function link doc doc r aocrunnerderive latest aocrunnerderive attr aocgenerator html solver function solver function typically algorithm take input type provided generator return type want use provided implement display trait solver function tagged part optionally multiple implementation part must use name tag correctly example part forloop following previous example implementing solver part one could done like part pub fn solvepart input gift u input iter map l w h let smallestside l w h l w w h h l sum notice taking gift generated previously using rust iterators solve problem efficiently keeping maintainable output particular solver u course implement display running using cargo said result get printed console along information execution time link doc doc r aocrunnerderive latest aocrunnerderive attr html downloading input manually cargo input download input store input year txt please note default taking today date argument course change using cargo input year running cargo run latest implemented downloading input beforehand show result short summary well perform example output chromebook running olivierolivierpc cargo finished dev unoptimized debuginfo target compiling aocautobuild v home olivier workspace rust target aocautobuild finished release optimized target running target release aocautobuild part generator runner part generator runner want run older puzzle specific part specify using cargo p part benchmarking benchmarking powered criterion japaric criterion r use cargo bench launch benchmark like would use cargo benchmark generated target aocautobench target criterion open benchmark automatically browser afterwards using cargo bench soon tm also able use free online platform compare result community happy                                                                                                                                                                                                                                                                                                                                                                                                                                                                                                                                                                                                                                                                                                                                                                                                                                                                                                                                                                                                                                                                                                                                                                                                                                                                                                                                                                                                                                                                                                                                                                                                                                                                                                                                                                                                                                                                                                                                                                                                                                                                                                                                                                                                                                                                                                                                                                                                                                                                                                                                                                                                                                                                                                                                                                                                                                                                                                                                                                                 1\n",
       "java starter project project get started solving challenge java architecture main method app execute given based input main resource number txt given class process input return result app print stdout assumption puzzle input consisting one line plain text puzzle two part requiring separate implementation using input puzzle single line text puzzle description provide least one example input output add puzzle shell already step add etc start writing test case puzzle post part create java implement add line static initialization block app java add nwe implementation put new create daytest java use sample input output write test initially fail implement part test pas test driven development run gradlew continuous check test run every time save example input pass get input save main resource txt run gradlew clean build install build install bin get output notice number passed start script argument check part add new test part daytest java using sample input output implement part test pas example input pass run gradlew clean build install build install bin get output notice second argument script part number default pas check                                                                                                                                                                                                                                                                                                                                                                                                                                                                                                                                                                                                                                                                                                                                                                                                                                                                                                                                                                                                                                                                                                                                                                                                                                                                                                                                                                                                                                                                                                                                                                                                                                                                                                                                                                                                                                                                                                                                                                                                                                                                                                                                                                                                                                                                                                                                                                                                                                                                                                                                                                                                                                                                                                                                                                                                                                                                                                                                                                                                                                                                                                                                                                                                                                                                                                                                                                                                                                                                                                                                                                                                                                                                                                                                                                                                                                                                                                                                                                                                                                                                                                                                                                                                                                                                                                                                                                                                                                                                                                                                                                                                                                                                                                                                                                                                                                                                                                                                                                                                                                                                                                                                                                                                                                                                                                                                                                                                                                                                                                                                                                                                                                                                                                                  1\n",
       "r try stick functional idiom base r prefer data frame data structure                                                                                                                                                                                                                                                                                                                                                                                                                                                                                                                                                                                                                                                                                                                                                                                                                                                                                                                                                                                                                                                                                                                                                                                                                                                                                                                                                                                                                                                                                                                                                                                                                                                                                                                                                                                                                                                                                                                                                                                                                                                                                                                                                                                                                                                                                                                                                                                                                                                                                                                                                                                                                                                                                                                                                                                                                                                                                                                                                                                                                                                                                                                                                                                                                                                                                                                                                                                                                                                                                                                                                                                                                                                                                                                                                                                                                                                                                                                                                                                                                                                                                                                                                                                                                                                                                                                                                                                                                                                                                                                                                                                                                                                                                                                                                                                                                                                                                                                                                                                                                                                                                                                                                                                                                                                                                                                                                                                                                                                                                                                                                                                                                                                                                                                                                                                                                                                                                                                                                                                                                                                                                                                                                                                                                                                                                                                                                                                                                                                                                                                                                                                                                                                                                                                                                                                                                               1\n",
       "private leaderboard tool simmonmt utils dumpleaderboard go google boulder leaderboard leaderboard private view catawiki leaderboard leaderboard private view globalfinal globalstats pngrawtrue                                                                                                                                                                                                                                                                                                                                                                                                                                                                                                                                                                                                                                                                                                                                                                                                                                                                                                                                                                                                                                                                                                                                                                                                                                                                                                                                                                                                                                                                                                                                                                                                                                                                                                                                                                                                                                                                                                                                                                                                                                                                                                                                                                                                                                                                                                                                                                                                                                                                                                                                                                                                                                                                                                                                                                                                                                                                                                                                                                                                                                                                                                                                                                                                                                                                                                                                                                                                                                                                                                                                                                                                                                                                                                                                                                                                                                                                                                                                                                                                                                                                                                                                                                                                                                                                                                                                                                                                                                                                                                                                                                                                                                                                                                                                                                                                                                                                                                                                                                                                                                                                                                                                                                                                                                                                                                                                                                                                                                                                                                                                                                                                                                                                                                                                                                                                                                                                                                                                                                                                                                                                                                                                                                                                                                                                                                                                                                                                                                                                                                                                                                                                                                                                                                    1\n",
       "challenge eric wastl topaz overall star collected star collected star collected star collected star collected star collected                                                                                                                                                                                                                                                                                                                                                                                                                                                                                                                                                                                                                                                                                                                                                                                                                                                                                                                                                                                                                                                                                                                                                                                                                                                                                                                                                                                                                                                                                                                                                                                                                                                                                                                                                                                                                                                                                                                                                                                                                                                                                                                                                                                                                                                                                                                                                                                                                                                                                                                                                                                                                                                                                                                                                                                                                                                                                                                                                                                                                                                                                                                                                                                                                                                                                                                                                                                                                                                                                                                                                                                                                                                                                                                                                                                                                                                                                                                                                                                                                                                                                                                                                                                                                                                                                                                                                                                                                                                                                                                                                                                                                                                                                                                                                                                                                                                                                                                                                                                                                                                                                                                                                                                                                                                                                                                                                                                                                                                                                                                                                                                                                                                                                                                                                                                                                                                                                                                                                                                                                                                                                                                                                                                                                                                                                                                                                                                                                                                                                                                                                                                                                                                                                                                                                                       1\n",
       "usage run specific get starter folder new newday link python www python org programming language awesome awesome bogdanp awesomeadventofcode collection awesome resource related yearly challenge awesome python bogdanp awesomeadventofcodepython contributor twitter                                                                                                                                                                                                                                                                                                                                                                                                                                                                                                                                                                                                                                                                                                                                                                                                                                                                                                                                                                                                                                                                                                                                                                                                                                                                                                                                                                                                                                                                                                                                                                                                                                                                                                                                                                                                                                                                                                                                                                                                                                                                                                                                                                                                                                                                                                                                                                                                                                                                                                                                                                                                                                                                                                                                                                                                                                                                                                                                                                                                                                                                                                                                                                                                                                                                                                                                                                                                                                                                                                                                                                                                                                                                                                                                                                                                                                                                                                                                                                                                                                                                                                                                                                                                                                                                                                                                                                                                                                                                                                                                                                                                                                                                                                                                                                                                                                                                                                                                                                                                                                                                                                                                                                                                                                                                                                                                                                                                                                                                                                                                                                                                                                                                                                                                                                                                                                                                                                                                                                                                                                                                                                                                                                                                                                                                                                                                                                                                                                                                                                                                                                                                                             1\n",
       "steph j www instagram steph j calendar small programming puzzle variety skill set skill level solved programming language like people use speed contest interview prep company training university coursework practice problem challenge christmas themed leetcode first question tyranny rocket equation santa ha become stranded edge solar system delivering present planet accurately calculate position space safely align warp drive return earth time save christmas need bring measurement fifty star elf quickly load spacecraft prepare launch first go go poll every elf go fuel counterupper havent determined amount fuel required yet fuel required launch given module based mass specifically find fuel required module take mass divide three round subtract example mass divide round get subtract get mass dividing rounding still yield fuel required also mass fuel required mass fuel required fuel counterupper need know total fuel requirement find individually calculate fuel needed mass module puzzle input add together fuel value sum fuel requirement module spacecraft see totally year im solving puzzle javascript run clone repo locally bash git clone git navigate puzzle folder bash cd puzzle run puzzle interested bash node daypart merry christmas                                                                                                                                                                                                                                                                                                                                                                                                                                                                                                                                                                                                                                                                                                                                                                                                                                                                                                                                                                                                                                                                                                                                                                                                                                                                                                                                                                                                                                                                                                                                                                                                                                                                                                                                                                                                                                                                                                                                                                                                                                                                                                                                                                                                                                                                                                                                                                                                                                                                                                                                                                                                                                                                                                                                                                                                                                                                                                                                                                                                                                                                                                                                                                                                                                                                                                                                                                                                                                                                                                                                                                                                                                                                                                                                                                                                                                                                                                                                                                                                                                                                                                                                                                                                                                                                                                                                                                                                                                                                                                                                                                                                                                                                                                                                                                                                                                                                                                                                                                                                                                                                                                                                                                                                                                                                                                                                                                                                                                                                                                                                                                                                      1\n",
       "unwrap everywhere edition                                                                                                                                                                                                                                                                                                                                                                                                                                                                                                                                                                                                                                                                                                                                                                                                                                                                                                                                                                                                                                                                                                                                                                                                                                                                                                                                                                                                                                                                                                                                                                                                                                                                                                                                                                                                                                                                                                                                                                                                                                                                                                                                                                                                                                                                                                                                                                                                                                                                                                                                                                                                                                                                                                                                                                                                                                                                                                                                                                                                                                                                                                                                                                                                                                                                                                                                                                                                                                                                                                                                                                                                                                                                                                                                                                                                                                                                                                                                                                                                                                                                                                                                                                                                                                                                                                                                                                                                                                                                                                                                                                                                                                                                                                                                                                                                                                                                                                                                                                                                                                                                                                                                                                                                                                                                                                                                                                                                                                                                                                                                                                                                                                                                                                                                                                                                                                                                                                                                                                                                                                                                                                                                                                                                                                                                                                                                                                                                                                                                                                                                                                                                                                                                                                                                                                                                                                                                          1\n",
       "puzzle c java python                                                                                                                                                                                                                                                                                                                                                                                                                                                                                                                                                                                                                                                                                                                                                                                                                                                                                                                                                                                                                                                                                                                                                                                                                                                                                                                                                                                                                                                                                                                                                                                                                                                                                                                                                                                                                                                                                                                                                                                                                                                                                                                                                                                                                                                                                                                                                                                                                                                                                                                                                                                                                                                                                                                                                                                                                                                                                                                                                                                                                                                                                                                                                                                                                                                                                                                                                                                                                                                                                                                                                                                                                                                                                                                                                                                                                                                                                                                                                                                                                                                                                                                                                                                                                                                                                                                                                                                                                                                                                                                                                                                                                                                                                                                                                                                                                                                                                                                                                                                                                                                                                                                                                                                                                                                                                                                                                                                                                                                                                                                                                                                                                                                                                                                                                                                                                                                                                                                                                                                                                                                                                                                                                                                                                                                                                                                                                                                                                                                                                                                                                                                                                                                                                                                                                                                                                                                                               1\n",
       "csharp problem check demo gif dependency project based net core work window linux x anglesharp used problem download running run project install net core clone repo get help dotnet run usage dotnet run argument supported argument year daylastall solve specified problem year solve whole year last solve last problem solve everything start working new problem login copy session cookie export console like export sessionaeaabefcaeaeabfbdacaabbebfdebada run app update year prepares folder given update input readme creates template update last current work december                                                                                                                                                                                                                                                                                                                                                                                                                                                                                                                                                                                                                                                                                                                                                                                                                                                                                                                                                                                                                                                                                                                                                                                                                                                                                                                                                                                                                                                                                                                                                                                                                                                                                                                                                                                                                                                                                                                                                                                                                                                                                                                                                                                                                                                                                                                                                                                                                                                                                                                                                                                                                                                                                                                                                                                                                                                                                                                                                                                                                                                                                                                                                                                                                                                                                                                                                                                                                                                                                                                                                                                                                                                                                                                                                                                                                                                                                                                                                                                                                                                                                                                                                                                                                                                                                                                                                                                                                                                                                                                                                                                                                                                                                                                                                                                                                                                                                                                                                                                                                                                                                                                                                                                                                                                                                                                                                                                                                                                                                                                                                                                                                                                                                                                                                                                                                                                                                                                                                                                                                                                                                                                                                                                                                                                                                                               1\n",
       "year decided contribute trying two language rust main language haskell try learn way find haskell adventofcodehask rust decided solve using async await io check work case functional way also decided document progress rust way think rust framework make simple created simple framework main r every entry point signature async fn input impl asyncstdstreamstreaminputimpl stdstrfromstr impl stdfmtdisplay input data would parsed linebyline output data would printed backlog md                                                                                                                                                                                                                                                                                                                                                                                                                                                                                                                                                                                                                                                                                                                                                                                                                                                                                                                                                                                                                                                                                                                                                                                                                                                                                                                                                                                                                                                                                                                                                                                                                                                                                                                                                                                                                                                                                                                                                                                                                                                                                                                                                                                                                                                                                                                                                                                                                                                                                                                                                                                                                                                                                                                                                                                                                                                                                                                                                                                                                                                                                                                                                                                                                                                                                                                                                                                                                                                                                                                                                                                                                                                                                                                                                                                                                                                                                                                                                                                                                                                                                                                                                                                                                                                                                                                                                                                                                                                                                                                                                                                                                                                                                                                                                                                                                                                                                                                                                                                                                                                                                                                                                                                                                                                                                                                                                                                                                                                                                                                                                                                                                                                                                                                                                                                                                                                                                                                                                                                                                                                                                                                                                                                                                                                                                                                                                                                                          1\n",
       "haskell instruction stack doc haskellstack org en stable readme installed continuing sh git clone gitgithub comusername git cd stack build stack exec e stack exec reflection wrote article based experience haskell haskell thought lesson learned using haskell consistently row medium adventofhaskellda license bsdclause                                                                                                                                                                                                                                                                                                                                                                                                                                                                                                                                                                                                                                                                                                                                                                                                                                                                                                                                                                                                                                                                                                                                                                                                                                                                                                                                                                                                                                                                                                                                                                                                                                                                                                                                                                                                                                                                                                                                                                                                                                                                                                                                                                                                                                                                                                                                                                                                                                                                                                                                                                                                                                                                                                                                                                                                                                                                                                                                                                                                                                                                                                                                                                                                                                                                                                                                                                                                                                                                                                                                                                                                                                                                                                                                                                                                                                                                                                                                                                                                                                                                                                                                                                                                                                                                                                                                                                                                                                                                                                                                                                                                                                                                                                                                                                                                                                                                                                                                                                                                                                                                                                                                                                                                                                                                                                                                                                                                                                                                                                                                                                                                                                                                                                                                                                                                                                                                                                                                                                                                                                                                                                                                                                                                                                                                                                                                                                                                                                                                                                                                                                      1\n",
       "collection many different programming language uninitiated series programming challenge new one released dec th challenge requires thinking different way solve reason provides interesting look programming language approach problem youll notice given situation idiomatic python way solving something different haskell lisp way thing guideline create pull request contribution feel free put name website comment top like wont merge problem released allow dust settle dont rush making pr first come first merged goal project see idiomatic way solve problem given language reason keep feel best encapsulates idiomatic language defer community case unclear please dont include problem input txt different person please put part part separate file even bit duplication make easier figure whats going easy read even people dont know programming language include comment explaining interesting programming language trick idiom youre using pull request please follow established pattern year languagename daynum part extension dont get competitive someone el may accepted instead keep working try elegant idiomatic possible remember fun                                                                                                                                                                                                                                                                                                                                                                                                                                                                                                                                                                                                                                                                                                                                                                                                                                                                                                                                                                                                                                                                                                                                                                                                                                                                                                                                                                                                                                                                                                                                                                                                                                                                                                                                                                                                                                                                                                                                                                                                                                                                                                                                                                                                                                                                                                                                                                                                                                                                                                                                                                                                                                                                                                                                                                                                                                                                                                                                                                                                                                                                                                                                                                                                                                                                                                                                                                                                                                                                                                                                                                                                                                                                                                                                                                                                                                                                                                                                                                                                                                                                                                                                                                                                                                                                                                                                                                                                                                                                                                                                                                                                                                                                                                                                                                                                                                                                                                                                                                                                                                                                                                                                                                                                                                                                                                                                                                                                                                                                                                                                                                                                                                                                                                                            1\n",
       "rusty written rust exercise learn language may contain many mistake let know advice question rust implementation add submitting pull request progress current year repository twitter profile edition anowell anowell baszalmstra baszalmstra birkenfeld birkenfeld burntsushi burntsushi butzsch butzsch dgel dgel dsilvers git gitano org uk personal dsilvers git tree dsilverstone twitter dsilverstone gobanos gobanos gperinazzo gperinazzo hedvigoscar hedvigoscar mrutter mrutter mrutter twitter mrutter jfro jfro jeromejtk twitter jeromejtk jms gitlab jms jsdw jsdw konradborowski gitlab konradborowski llblumire llblumire llblumire twitter llblumire pivovarit adventofcoders pivovarit adventofcoders pivovarit twitter pivovarit shssoichiro git onewebdev info soichiro theonewolf theonewolf theonewolf twitter theonewolf udoprog rustadventofcode udoprog rustadventofcode finished repository twitter profile edition birkenfeld birkenfeld birkenfeld birkenfeld birkenfeld birkenfeld dgel dgel dsilvers git gitano org uk personal dsilvers git tree dsilverstone twitter dsilverstone jsdw jsdw jugglerchris jugglerchris jugglerchris twitter jugglerchris jworthe jworthe jworthe twitter jworthe jworthe jworthe jworthe twitter jworthe mcgittyhub aock mcgittyhub aock snarf twitter snarf sciyoshi adventofrust sciyoshi adventofrust sciyoshi twitter sciyoshi thejpster rustadventofcode thejpster rustadventofcode therealjpster twitter therealjpster udoprog rustadventofcode udoprog rustadventofcode udoprog twitter udoprog zargony zargony zargony twitter zargony zargony zargony zargony twitter zargony zargony zargony zargony twitter zargony unfinished repository twitter profile edition adamchalmers adamchalmers adamchal twitter adamchal bolshchikov adventofcodesolutions bolshchikov adventofcodesolutions bolshchikov twitter bolshchikov cameronp cameronp cameronp twitter cameronp jasonpeacock jasonpeacock jasonpeacock twitter jasonpeacock joelverhagen joelverhagen joelverhagen twitter joelverhagen mgritter mgritter markgritter twitter markgritter rje rje rje twitter rje streakycobra streakycobra streakycobra twitter streakycobra ubsan ubsan ubsanitizer twitter ubsanitizer wezm wezm wezm twitter wezm xfix xfix                                                                                                                                                                                                                                                                                                                                                                                                                                                                                                                                                                                                                                                                                                                                                                                                                                                                                                                                                                                                                                                                                                                                                                                                                                                                                                                                                                                                                                                                                                                                                                                                                                                                                                                                                                                                                                                                                                                                                                                                                                                                                                                                                                                                                                                                                                                                                                                                                                                                                                                                                                                                                                                                                                                                                                                                                                                                                                                                                                                                                                                                                                                                                                                                                                                                                                                                                                                                                                                                                                                                                                                                                                                                                                                                                                                                                                                                                                                                                                                                                                                                                                                                                                                                                                                                                                                                                                                                                                                                                                                                                                                                    1\n",
       "try challenge merry christmas yall also resuce santa learn something                                                                                                                                                                                                                                                                                                                                                                                                                                                                                                                                                                                                                                                                                                                                                                                                                                                                                                                                                                                                                                                                                                                                                                                                                                                                                                                                                                                                                                                                                                                                                                                                                                                                                                                                                                                                                                                                                                                                                                                                                                                                                                                                                                                                                                                                                                                                                                                                                                                                                                                                                                                                                                                                                                                                                                                                                                                                                                                                                                                                                                                                                                                                                                                                                                                                                                                                                                                                                                                                                                                                                                                                                                                                                                                                                                                                                                                                                                                                                                                                                                                                                                                                                                                                                                                                                                                                                                                                                                                                                                                                                                                                                                                                                                                                                                                                                                                                                                                                                                                                                                                                                                                                                                                                                                                                                                                                                                                                                                                                                                                                                                                                                                                                                                                                                                                                                                                                                                                                                                                                                                                                                                                                                                                                                                                                                                                                                                                                                                                                                                                                                                                                                                                                                                                                                                                                                               1\n",
       "id like learn bit clojure rust time exercising problemsolving ability                                                                                                                                                                                                                                                                                                                                                                                                                                                                                                                                                                                                                                                                                                                                                                                                                                                                                                                                                                                                                                                                                                                                                                                                                                                                                                                                                                                                                                                                                                                                                                                                                                                                                                                                                                                                                                                                                                                                                                                                                                                                                                                                                                                                                                                                                                                                                                                                                                                                                                                                                                                                                                                                                                                                                                                                                                                                                                                                                                                                                                                                                                                                                                                                                                                                                                                                                                                                                                                                                                                                                                                                                                                                                                                                                                                                                                                                                                                                                                                                                                                                                                                                                                                                                                                                                                                                                                                                                                                                                                                                                                                                                                                                                                                                                                                                                                                                                                                                                                                                                                                                                                                                                                                                                                                                                                                                                                                                                                                                                                                                                                                                                                                                                                                                                                                                                                                                                                                                                                                                                                                                                                                                                                                                                                                                                                                                                                                                                                                                                                                                                                                                                                                                                                                                                                                                                              1\n",
       "program read input variable write output initially early exit achieved accessing variable exit run run j j input currently input txt example part two javascript split n map                                                                                                                                                                                                                                                                                                                                                                                                                                                                                                                                                                                                                                                                                                                                                                                                                                                                                                                                                                                                                                                                                                                                                                                                                                                                                                                                                                                                                                                                                                                                                                                                                                                                                                                                                                                                                                                                                                                                                                                                                                                                                                                                                                                                                                                                                                                                                                                                                                                                                                                                                                                                                                                                                                                                                                                                                                                                                                                                                                                                                                                                                                                                                                                                                                                                                                                                                                                                                                                                                                                                                                                                                                                                                                                                                                                                                                                                                                                                                                                                                                                                                                                                                                                                                                                                                                                                                                                                                                                                                                                                                                                                                                                                                                                                                                                                                                                                                                                                                                                                                                                                                                                                                                                                                                                                                                                                                                                                                                                                                                                                                                                                                                                                                                                                                                                                                                                                                                                                                                                                                                                                                                                                                                                                                                                                                                                                                                                                                                                                                                                                                                                                                                                                                                                       1\n",
       "solving different language every using standard library daylanguage inverse captcha dayinversecaptcha python corruption checksum daycorruptionchecksum javascript spiral memory dayspiralmemory haskell highentropy passphrases dayhighentropypassphrases go maze twisty trampoline alike dayamazeoftwistytrampolinescallalike rust memory reallocation daymemoryreallocation csharp recursive circus dayrecursivecircus kotlin heard like register dayiheardyoulikeregisters cplusplus stream processing daystreamprocessing pascal knot hash dayknothash idris hex ed dayhexed c digital plumber daydigitalplumber lua packet scanner daypacketscanners fsharp disk defragmentation daydiskdefragmentation typescript dueling generator dayduelinggenerators permutation promenade daypermutationpromenade scala spinlock dayspinlock nim duet dayduet java series tube dayaseriesoftubes ocaml particle swarm dayparticleswarm ruby fractal art dayfractalart pony sporifica virus daysporificavirus elixir coprocessor conflagration daycoprocessorconflagration dart electromagnetic moat dayelectromagneticmoat crystal halting problem daythehaltingproblem vala                                                                                                                                                                                                                                                                                                                                                                                                                                                                                                                                                                                                                                                                                                                                                                                                                                                                                                                                                                                                                                                                                                                                                                                                                                                                                                                                                                                                                                                                                                                                                                                                                                                                                                                                                                                                                                                                                                                                                                                                                                                                                                                                                                                                                                                                                                                                                                                                                                                                                                                                                                                                                                                                                                                                                                                                                                                                                                                                                                                                                                                                                                                                                                                                                                                                                                                                                                                                                                                                                                                                                                                                                                                                                                                                                                                                                                                                                                                                                                                                                                                                                                                                                                                                                                                                                                                                                                                                                                                                                                                                                                                                                                                                                                                                                                                                                                                                                                                                                                                                                                                                                                                                                                                                                                                                                                                                                                                                                                                                                                                                                                                                                                                                                                                            1\n",
       "overview task probably solved mostly python ill try play language completion completion language python julia python julia python julia python python emphasized language wa first summary language used python julia                                                                                                                                                                                                                                                                                                                                                                                                                                                                                                                                                                                                                                                                                                                                                                                                                                                                                                                                                                                                                                                                                                                                                                                                                                                                                                                                                                                                                                                                                                                                                                                                                                                                                                                                                                                                                                                                                                                                                                                                                                                                                                                                                                                                                                                                                                                                                                                                                                                                                                                                                                                                                                                                                                                                                                                                                                                                                                                                                                                                                                                                                                                                                                                                                                                                                                                                                                                                                                                                                                                                                                                                                                                                                                                                                                                                                                                                                                                                                                                                                                                                                                                                                                                                                                                                                                                                                                                                                                                                                                                                                                                                                                                                                                                                                                                                                                                                                                                                                                                                                                                                                                                                                                                                                                                                                                                                                                                                                                                                                                                                                                                                                                                                                                                                                                                                                                                                                                                                                                                                                                                                                                                                                                                                                                                                                                                                                                                                                                                                                                                                                                                                                                                                              1\n",
       "fun                                                                                                                                                                                                                                                                                                                                                                                                                                                                                                                                                                                                                                                                                                                                                                                                                                                                                                                                                                                                                                                                                                                                                                                                                                                                                                                                                                                                                                                                                                                                                                                                                                                                                                                                                                                                                                                                                                                                                                                                                                                                                                                                                                                                                                                                                                                                                                                                                                                                                                                                                                                                                                                                                                                                                                                                                                                                                                                                                                                                                                                                                                                                                                                                                                                                                                                                                                                                                                                                                                                                                                                                                                                                                                                                                                                                                                                                                                                                                                                                                                                                                                                                                                                                                                                                                                                                                                                                                                                                                                                                                                                                                                                                                                                                                                                                                                                                                                                                                                                                                                                                                                                                                                                                                                                                                                                                                                                                                                                                                                                                                                                                                                                                                                                                                                                                                                                                                                                                                                                                                                                                                                                                                                                                                                                                                                                                                                                                                                                                                                                                                                                                                                                                                                                                                                                                                                                                                                1\n",
       "adventtocode todo add description installation available hex hex pm doc publish package installed adding adventtocode list dependency mix ex elixir def deps adventtocode end documentation generated exdoc elixirlang exdoc published hexdocs hexdocs pm published doc found hexdocs pm adventtocode hexdocs pm adventtocode                                                                                                                                                                                                                                                                                                                                                                                                                                                                                                                                                                                                                                                                                                                                                                                                                                                                                                                                                                                                                                                                                                                                                                                                                                                                                                                                                                                                                                                                                                                                                                                                                                                                                                                                                                                                                                                                                                                                                                                                                                                                                                                                                                                                                                                                                                                                                                                                                                                                                                                                                                                                                                                                                                                                                                                                                                                                                                                                                                                                                                                                                                                                                                                                                                                                                                                                                                                                                                                                                                                                                                                                                                                                                                                                                                                                                                                                                                                                                                                                                                                                                                                                                                                                                                                                                                                                                                                                                                                                                                                                                                                                                                                                                                                                                                                                                                                                                                                                                                                                                                                                                                                                                                                                                                                                                                                                                                                                                                                                                                                                                                                                                                                                                                                                                                                                                                                                                                                                                                                                                                                                                                                                                                                                                                                                                                                                                                                                                                                                                                                                                                      1\n",
       "fun challenge see table content run run run bash gradle run specific e g bash gradle run args santa ha become stranded edge solar system delivering present planet accurately calculate position space safely align warp drive return earth time save christmas need bring measurement fifty star collect star solving puzzle two puzzle made available calendar second puzzle unlocked complete first puzzle grant one star good luck elf quickly load spacecraft prepare launch first go go poll every elf go fuel counterupper havent determined amount fuel required yet fuel required launch given module based mass specifically find fuel required module take mass divide three round subtract example mass divide round get subtract get mass dividing rounding still yield fuel required also mass fuel required mass fuel required fuel counterupper need know total fuel requirement find individually calculate fuel needed mass module puzzle input add together fuel value sum fuel requirement module spacecraft second go go poll elf charge rocket equation doublechecker stop launch sequence apparently forgot include additional fuel fuel added fuel requires fuel like module take mass divide three round subtract however fuel also requires fuel fuel requires fuel mass would require negative fuel instead treated requires zero fuel remaining mass instead handled wishing really hard ha mass outside scope calculation module mass calculate fuel add total treat fuel amount calculated input mass repeat process continuing fuel requirement zero negative example module mass requires fuel fuel requires fuel divided rounded would call negative fuel total fuel required still first module mass requires fuel fuel requires fuel requires fuel requires fuel requires fuel requires fuel total fuel required module mass fuel required module mass fuel sum fuel requirement module spacecraft also taking account mass added fuel calculate fuel requirement module separately add end way gravity assist around moon ship computer beep angrily program alarm radio elf already explaining handle situation dont worry thats perfectly norma ship computer burst flame notify elf computer magic smoke seems escaped computer ran intcode program like gravity assist program wa working surely enough spare part build new intcode computer intcode program list integer separated comma like run one start looking first integer called position find opcode either opcode indicates example mean program finished immediately halt encountering unknown opcode mean something went wrong opcode add together number read two position store result third position three integer immediately opcode tell three position first two indicate position read input value third indicates position output stored example intcode computer encounter read value position add value overwrite value position sum opcode work exactly like opcode except multiplies two input instead adding three integer opcode indicate input output value youre done processing opcode move next one stepping forward position example suppose following program purpose illustration program split multiple line first four integer position together represent first opcode addition position two input position output handle opcode first need get value input position position contains position contains add number together get store value output position output position position overwrites afterward program look like step forward position reach next opcode opcode work like previous multiplies instead adding input position position contain respectively multiplying produce stored position stepping forward position arrives opcode halting program initial final state small program becomes becomes becomes becomes working computer first step restore gravity assist program puzzle input program alarm state last computer caught fire running program replace position value replace position value value left position program halt good new computer seems working correctly keep nearby mission youll probably use real intcode computer support many feature new one well let know need however current priority complete gravity assist around moon mission succeed settle terminology part youve already built intcode program given list integer value used initial state computer memory run intcode program make sure start initializing memory program value position memory called address example first value memory address opcodes like mark beginning instruction value used immediately opcode called instruction parameter example instruction opcode parameter instruction contains opcode ha parameter address current instruction called instruction pointer start instruction finish instruction pointer increase number value instruction add instruction computer always opcode parameter add multiply instruction halt instruction would increase instruction pointer halt program instead terminology way ready proceed complete gravity assist need determine pair input produce output input still provided program replacing value address like program value placed address called noun value placed address called verb two input value inclusive program ha halted output available address also like time try pair input make sure first reset computer memory value program puzzle input word dont reuse memory previous attempt find input noun verb cause program produce output noun verb example noun verb answer would                                                                                                                                                                                                                                                                                                                                                                                                                                                                                                                                                                                                                                                                                                                                                                                                                                                                                                                                                                                                                                                                                                                                                                                                                                                                                    1\n",
       "haskell im building haskell using cabalinstall www haskell org cabal usersguide make sure youre using uptodate version tool get best vbuild support cabal vbuild project also built using stack doc haskellstack org en stable readme thats available stack setup necessary first time use resolver stack build language ill adding cplusplus rust problem well find information relevant subdirectory                                                                                                                                                                                                                                                                                                                                                                                                                                                                                                                                                                                                                                                                                                                                                                                                                                                                                                                                                                                                                                                                                                                                                                                                                                                                                                                                                                                                                                                                                                                                                                                                                                                                                                                                                                                                                                                                                                                                                                                                                                                                                                                                                                                                                                                                                                                                                                                                                                                                                                                                                                                                                                                                                                                                                                                                                                                                                                                                                                                                                                                                                                                                                                                                                                                                                                                                                                                                                                                                                                                                                                                                                                                                                                                                                                                                                                                                                                                                                                                                                                                                                                                                                                                                                                                                                                                                                                                                                                                                                                                                                                                                                                                                                                                                                                                                                                                                                                                                                                                                                                                                                                                                                                                                                                                                                                                                                                                                                                                                                                                                                                                                                                                                                                                                                                                                                                                                                                                                                                                                                                                                                                                                                                                                                                                                                                                                                                                                                                                                                             1\n",
       "save input challenge file p txt run corresponding program lein run run                                                                                                                                                                                                                                                                                                                                                                                                                                                                                                                                                                                                                                                                                                                                                                                                                                                                                                                                                                                                                                                                                                                                                                                                                                                                                                                                                                                                                                                                                                                                                                                                                                                                                                                                                                                                                                                                                                                                                                                                                                                                                                                                                                                                                                                                                                                                                                                                                                                                                                                                                                                                                                                                                                                                                                                                                                                                                                                                                                                                                                                                                                                                                                                                                                                                                                                                                                                                                                                                                                                                                                                                                                                                                                                                                                                                                                                                                                                                                                                                                                                                                                                                                                                                                                                                                                                                                                                                                                                                                                                                                                                                                                                                                                                                                                                                                                                                                                                                                                                                                                                                                                                                                                                                                                                                                                                                                                                                                                                                                                                                                                                                                                                                                                                                                                                                                                                                                                                                                                                                                                                                                                                                                                                                                                                                                                                                                                                                                                                                                                                                                                                                                                                                                                                                                                                                                             1\n",
       "edition previous participation problem main scala scala main scala scala main scala scala main scala scala main scala scala main scala scala main scala scala main scala scala main scala scala main scala scala main scala scala main scala scala main scala scala main scala scala main scala scala main scala scala main scala scala main scala scala main scala scala main scala scala main scala scala main scala scala main scala scala main scala scala main scala scala usage project run scala sbt use following template write scala package import object extends override def solutiona override def solutionb change current problem fill run start entering sbt shell sbt type following command output printed console stored corresponding file output alternatively since extends app singleton child run regular application license repository licensed mit license please refer license file                                                                                                                                                                                                                                                                                                                                                                                                                                                                                                                                                                                                                                                                                                                                                                                                                                                                                                                                                                                                                                                                                                                                                                                                                                                                                                                                                                                                                                                                                                                                                                                                                                                                                                                                                                                                                                                                                                                                                                                                                                                                                                                                                                                                                                                                                                                                                                                                                                                                                                                                                                                                                                                                                                                                                                                                                                                                                                                                                                                                                                                                                                                                                                                                                                                                                                                                                                                                                                                                                                                                                                                                                                                                                                                                                                                                                                                                                                                                                                                                                                                                                                                                                                                                                                                                                                                                                                                                                                                                                                                                                                                                                                                                                                                                                                                                                                                                                                                                                                                                                                                                                                                                                                                                                                                                                                                                                                                                                                                                                                                                                                                                                                                                                                                                                                                                                                                                                                                                                                                   1\n",
       "clojure im complete clojure noob ill keep long manage usage clone repository select project clj run lein run run license copyright fleur kelpin program accompanying material made available term eclipse public license available www eclipse org legal epl source may also made available following secondary license condition availability set forth eclipse public license v satisfied gnu general public license published free software foundation either version license option later version gnu classpath exception available www gnu org software classpath license html                                                                                                                                                                                                                                                                                                                                                                                                                                                                                                                                                                                                                                                                                                                                                                                                                                                                                                                                                                                                                                                                                                                                                                                                                                                                                                                                                                                                                                                                                                                                                                                                                                                                                                                                                                                                                                                                                                                                                                                                                                                                                                                                                                                                                                                                                                                                                                                                                                                                                                                                                                                                                                                                                                                                                                                                                                                                                                                                                                                                                                                                                                                                                                                                                                                                                                                                                                                                                                                                                                                                                                                                                                                                                                                                                                                                                                                                                                                                                                                                                                                                                                                                                                                                                                                                                                                                                                                                                                                                                                                                                                                                                                                                                                                                                                                                                                                                                                                                                                                                                                                                                                                                                                                                                                                                                                                                                                                                                                                                                                                                                                                                                                                                                                                                                                                                                                                                                                                                                                                                                                                                                                                                                                                                                                                                                                                1\n",
       "Name: prepped, Length: 274, dtype: int64"
      ]
     },
     "execution_count": 97,
     "metadata": {},
     "output_type": "execute_result"
    }
   ],
   "source": [
    "mask = df.prepped != ''\n",
    "df = df[mask]\n",
    "df.prepped.value_counts()"
   ]
  },
  {
   "cell_type": "code",
   "execution_count": 140,
   "metadata": {},
   "outputs": [],
   "source": [
    "#df.to_csv('datafiles/prepped_readme.csv')"
   ]
  },
  {
   "cell_type": "markdown",
   "metadata": {},
   "source": [
    "# Explore"
   ]
  },
  {
   "cell_type": "code",
   "execution_count": 98,
   "metadata": {},
   "outputs": [],
   "source": [
    "# isolate language and prepped columns by dropping other columns\n",
    "df = df.drop(columns={'author','language_all','readme','repo','normalized', 'stemmed', 'lemmatized','repo_full'})"
   ]
  },
  {
   "cell_type": "code",
   "execution_count": 160,
   "metadata": {},
   "outputs": [
    {
     "data": {
      "text/html": [
       "<div>\n",
       "<style scoped>\n",
       "    .dataframe tbody tr th:only-of-type {\n",
       "        vertical-align: middle;\n",
       "    }\n",
       "\n",
       "    .dataframe tbody tr th {\n",
       "        vertical-align: top;\n",
       "    }\n",
       "\n",
       "    .dataframe thead th {\n",
       "        text-align: right;\n",
       "    }\n",
       "</style>\n",
       "<table border=\"1\" class=\"dataframe\">\n",
       "  <thead>\n",
       "    <tr style=\"text-align: right;\">\n",
       "      <th></th>\n",
       "      <th>language</th>\n",
       "      <th>prepped</th>\n",
       "    </tr>\n",
       "  </thead>\n",
       "  <tbody>\n",
       "    <tr>\n",
       "      <th>0</th>\n",
       "      <td>Python</td>\n",
       "      <td>usernames run repl repl badge repl daynamesolu...</td>\n",
       "    </tr>\n",
       "    <tr>\n",
       "      <th>1</th>\n",
       "      <td>Haskell</td>\n",
       "      <td>im probably gonna problem im gonna pretend lik...</td>\n",
       "    </tr>\n",
       "    <tr>\n",
       "      <th>10</th>\n",
       "      <td>Other</td>\n",
       "      <td>build status travisci svgbranchmaster travisci...</td>\n",
       "    </tr>\n",
       "    <tr>\n",
       "      <th>100</th>\n",
       "      <td>Python</td>\n",
       "      <td>santa christmastree gift problem might write s...</td>\n",
       "    </tr>\n",
       "    <tr>\n",
       "      <th>101</th>\n",
       "      <td>Other</td>\n",
       "      <td>fifth installment creating package ive prepare...</td>\n",
       "    </tr>\n",
       "  </tbody>\n",
       "</table>\n",
       "</div>"
      ],
      "text/plain": [
       "    language                                            prepped\n",
       "0     Python  usernames run repl repl badge repl daynamesolu...\n",
       "1    Haskell  im probably gonna problem im gonna pretend lik...\n",
       "10     Other  build status travisci svgbranchmaster travisci...\n",
       "100   Python  santa christmastree gift problem might write s...\n",
       "101    Other  fifth installment creating package ive prepare..."
      ]
     },
     "execution_count": 160,
     "metadata": {},
     "output_type": "execute_result"
    }
   ],
   "source": [
    "df.head()"
   ]
  },
  {
   "cell_type": "markdown",
   "metadata": {},
   "source": [
    "### How many repos of each language exist?"
   ]
  },
  {
   "cell_type": "code",
   "execution_count": 100,
   "metadata": {},
   "outputs": [
    {
     "data": {
      "text/plain": [
       "Python              39\n",
       "JavaScript          35\n",
       "Haskell             25\n",
       "Rust                19\n",
       "Clojure             15\n",
       "Go                  14\n",
       "Java                13\n",
       "Kotlin              12\n",
       "Ruby                10\n",
       "C#                  10\n",
       "Elixir               9\n",
       "C++                  8\n",
       "Scala                8\n",
       "R                    7\n",
       "OCaml                5\n",
       "TypeScript           4\n",
       "Jupyter Notebook     4\n",
       "PHP                  3\n",
       "C                    3\n",
       "F#                   2\n",
       "Julia                2\n",
       "Swift                2\n",
       "Perl                 2\n",
       "HTML                 2\n",
       "Scheme               2\n",
       "Crystal              2\n",
       "Pony                 2\n",
       "Elm                  2\n",
       "Eiffel               1\n",
       "D                    1\n",
       "Smalltalk            1\n",
       "Coq                  1\n",
       "Nim                  1\n",
       "Haxe                 1\n",
       "Mathematica          1\n",
       "TSQL                 1\n",
       "PowerShell           1\n",
       "Shell                1\n",
       "Ada                  1\n",
       "Erlang               1\n",
       "Reason               1\n",
       "APL                  1\n",
       "Dart                 1\n",
       "Racket               1\n",
       "PureScript           1\n",
       "Name: language, dtype: int64"
      ]
     },
     "execution_count": 100,
     "metadata": {},
     "output_type": "execute_result"
    }
   ],
   "source": [
    "df.language.value_counts(normalize=False)"
   ]
  },
  {
   "cell_type": "markdown",
   "metadata": {},
   "source": [
    "### What percentage is this?"
   ]
  },
  {
   "cell_type": "code",
   "execution_count": 101,
   "metadata": {},
   "outputs": [
    {
     "data": {
      "text/plain": [
       "Python              0.140288\n",
       "JavaScript          0.125899\n",
       "Haskell             0.089928\n",
       "Rust                0.068345\n",
       "Clojure             0.053957\n",
       "Go                  0.050360\n",
       "Java                0.046763\n",
       "Kotlin              0.043165\n",
       "Ruby                0.035971\n",
       "C#                  0.035971\n",
       "Elixir              0.032374\n",
       "C++                 0.028777\n",
       "Scala               0.028777\n",
       "R                   0.025180\n",
       "OCaml               0.017986\n",
       "TypeScript          0.014388\n",
       "Jupyter Notebook    0.014388\n",
       "PHP                 0.010791\n",
       "C                   0.010791\n",
       "F#                  0.007194\n",
       "Julia               0.007194\n",
       "Swift               0.007194\n",
       "Perl                0.007194\n",
       "HTML                0.007194\n",
       "Scheme              0.007194\n",
       "Crystal             0.007194\n",
       "Pony                0.007194\n",
       "Elm                 0.007194\n",
       "Eiffel              0.003597\n",
       "D                   0.003597\n",
       "Smalltalk           0.003597\n",
       "Coq                 0.003597\n",
       "Nim                 0.003597\n",
       "Haxe                0.003597\n",
       "Mathematica         0.003597\n",
       "TSQL                0.003597\n",
       "PowerShell          0.003597\n",
       "Shell               0.003597\n",
       "Ada                 0.003597\n",
       "Erlang              0.003597\n",
       "Reason              0.003597\n",
       "APL                 0.003597\n",
       "Dart                0.003597\n",
       "Racket              0.003597\n",
       "PureScript          0.003597\n",
       "Name: language, dtype: float64"
      ]
     },
     "execution_count": 101,
     "metadata": {},
     "output_type": "execute_result"
    }
   ],
   "source": [
    "df.language.value_counts(normalize=True)"
   ]
  },
  {
   "cell_type": "markdown",
   "metadata": {},
   "source": [
    "### What are the most common words in READMEs?"
   ]
  },
  {
   "cell_type": "code",
   "execution_count": 102,
   "metadata": {},
   "outputs": [],
   "source": [
    "# get all text as a string\n",
    "all_text = \" \".join(df.prepped)\n",
    "# convert to a list of words\n",
    "all_words = all_text.split()"
   ]
  },
  {
   "cell_type": "code",
   "execution_count": 103,
   "metadata": {},
   "outputs": [
    {
     "data": {
      "text/plain": [
       "main              385\n",
       "run               378\n",
       "scala             327\n",
       "input             317\n",
       "part              292\n",
       "hpp               288\n",
       "problem           278\n",
       "py                248\n",
       "puzzle            232\n",
       "year              231\n",
       "test              210\n",
       "io                194\n",
       "r                 188\n",
       "cpp               180\n",
       "challenge         172\n",
       "nim               170\n",
       "reflection        164\n",
       "post              161\n",
       "heavycheckmark    159\n",
       "file              157\n",
       "include           157\n",
       "tree              149\n",
       "python            141\n",
       "md                135\n",
       "ginsberg          130\n",
       "using             125\n",
       "www               123\n",
       "rb                123\n",
       "f                 121\n",
       "x                 118\n",
       "dtype: int64"
      ]
     },
     "execution_count": 103,
     "metadata": {},
     "output_type": "execute_result"
    }
   ],
   "source": [
    "raw_count = pd.Series(all_words).value_counts()\n",
    "# top 30 words\n",
    "raw_count.head(30)"
   ]
  },
  {
   "cell_type": "code",
   "execution_count": 104,
   "metadata": {},
   "outputs": [
    {
     "data": {
      "text/plain": [
       "Text(0.5, 1.0, '25 Most Common Words')"
      ]
     },
     "execution_count": 104,
     "metadata": {},
     "output_type": "execute_result"
    },
    {
     "data": {
      "image/png": "[encoded data removed]",
      "text/plain": [
       "<Figure size 432x288 with 1 Axes>"
      ]
     },
     "metadata": {
      "needs_background": "light"
     },
     "output_type": "display_data"
    }
   ],
   "source": [
    "raw_count.sort_values(ascending=False)[0:25].plot.barh(width=.9)\n",
    "plt.title('25 Most Common Words')"
   ]
  },
  {
   "cell_type": "markdown",
   "metadata": {},
   "source": [
    "### How does this look for popular languages?"
   ]
  },
  {
   "cell_type": "markdown",
   "metadata": {},
   "source": [
    "#### Python"
   ]
  },
  {
   "cell_type": "code",
   "execution_count": 105,
   "metadata": {},
   "outputs": [],
   "source": [
    "python_text = \" \".join(df[df.language == \"Python\"].prepped)\n",
    "python_words = python_text.split()"
   ]
  },
  {
   "cell_type": "code",
   "execution_count": 106,
   "metadata": {},
   "outputs": [
    {
     "data": {
      "text/plain": [
       "py                163\n",
       "python             56\n",
       "part               47\n",
       "run                39\n",
       "hand               35\n",
       "model              33\n",
       "puzzle             33\n",
       "image              30\n",
       "input              29\n",
       "tensorflow         29\n",
       "training           28\n",
       "p                  28\n",
       "heavycheckmark     26\n",
       "repo               23\n",
       "searching          23\n",
       "dtype: int64"
      ]
     },
     "execution_count": 106,
     "metadata": {},
     "output_type": "execute_result"
    }
   ],
   "source": [
    "python_count = pd.Series(python_words).value_counts()\n",
    "python_count.head(15)"
   ]
  },
  {
   "cell_type": "code",
   "execution_count": 107,
   "metadata": {},
   "outputs": [
    {
     "data": {
      "text/plain": [
       "Text(0.5, 1.0, 'Python 10 Most Common Words')"
      ]
     },
     "execution_count": 107,
     "metadata": {},
     "output_type": "execute_result"
    },
    {
     "data": {
      "image/png": "[encoded data removed]",
      "text/plain": [
       "<Figure size 432x288 with 1 Axes>"
      ]
     },
     "metadata": {
      "needs_background": "light"
     },
     "output_type": "display_data"
    }
   ],
   "source": [
    "python_count.sort_values(ascending=False)[0:10].plot.barh(width=.9)\n",
    "plt.title('Python 10 Most Common Words')"
   ]
  },
  {
   "cell_type": "markdown",
   "metadata": {},
   "source": [
    "#### Haskell"
   ]
  },
  {
   "cell_type": "code",
   "execution_count": 108,
   "metadata": {},
   "outputs": [],
   "source": [
    "haskell_text = \" \".join(df[df.language == \"Haskell\"].prepped)\n",
    "haskell_words = haskell_text.split()"
   ]
  },
  {
   "cell_type": "code",
   "execution_count": 109,
   "metadata": {},
   "outputs": [
    {
     "data": {
      "text/plain": [
       "reflection         164\n",
       "db                  96\n",
       "dr                  91\n",
       "challenge           89\n",
       "h                   66\n",
       "dg                  64\n",
       "dh                  64\n",
       "benchmark           52\n",
       "dc                  50\n",
       "mdday               49\n",
       "mddaybenchmarks     48\n",
       "haskell             47\n",
       "b                   44\n",
       "test                43\n",
       "run                 38\n",
       "dtype: int64"
      ]
     },
     "execution_count": 109,
     "metadata": {},
     "output_type": "execute_result"
    }
   ],
   "source": [
    "haskell_count = pd.Series(haskell_words).value_counts()\n",
    "haskell_count.head(15)"
   ]
  },
  {
   "cell_type": "code",
   "execution_count": 110,
   "metadata": {},
   "outputs": [
    {
     "data": {
      "text/plain": [
       "Text(0.5, 1.0, 'Haskell 10 Most Common Words')"
      ]
     },
     "execution_count": 110,
     "metadata": {},
     "output_type": "execute_result"
    },
    {
     "data": {
      "image/png": "[encoded data removed]",
      "text/plain": [
       "<Figure size 432x288 with 1 Axes>"
      ]
     },
     "metadata": {
      "needs_background": "light"
     },
     "output_type": "display_data"
    }
   ],
   "source": [
    "haskell_count.sort_values(ascending=False)[0:10].plot.barh(width=.9)\n",
    "plt.title('Haskell 10 Most Common Words')"
   ]
  },
  {
   "cell_type": "markdown",
   "metadata": {},
   "source": [
    "#### JavaScript"
   ]
  },
  {
   "cell_type": "code",
   "execution_count": 111,
   "metadata": {},
   "outputs": [],
   "source": [
    "javascript_text = \" \".join(df[df.language == \"JavaScript\"].prepped)\n",
    "javascript_words = javascript_text.split()"
   ]
  },
  {
   "cell_type": "code",
   "execution_count": 112,
   "metadata": {},
   "outputs": [
    {
     "data": {
      "text/plain": [
       "run                64\n",
       "j                  59\n",
       "star               49\n",
       "puzzle             48\n",
       "npm                41\n",
       "part               40\n",
       "index              38\n",
       "test               36\n",
       "year               34\n",
       "input              33\n",
       "simulation         27\n",
       "post               26\n",
       "net                26\n",
       "node               25\n",
       "adventofcodeday    25\n",
       "dtype: int64"
      ]
     },
     "execution_count": 112,
     "metadata": {},
     "output_type": "execute_result"
    }
   ],
   "source": [
    "javascript_count = pd.Series(javascript_words).value_counts()\n",
    "javascript_count.head(15)"
   ]
  },
  {
   "cell_type": "code",
   "execution_count": 113,
   "metadata": {},
   "outputs": [
    {
     "data": {
      "text/plain": [
       "Text(0.5, 1.0, 'JavaScript 10 most common words')"
      ]
     },
     "execution_count": 113,
     "metadata": {},
     "output_type": "execute_result"
    },
    {
     "data": {
      "image/png": "[encoded data removed]",
      "text/plain": [
       "<Figure size 432x288 with 1 Axes>"
      ]
     },
     "metadata": {
      "needs_background": "light"
     },
     "output_type": "display_data"
    }
   ],
   "source": [
    "javascript_count.sort_values(ascending=False)[0:10].plot.barh(width=.9)\n",
    "plt.title('JavaScript 10 most common words')"
   ]
  },
  {
   "cell_type": "markdown",
   "metadata": {},
   "source": [
    "#### Rust"
   ]
  },
  {
   "cell_type": "code",
   "execution_count": 114,
   "metadata": {},
   "outputs": [],
   "source": [
    "rust_text = \" \".join(df[df.language == \"Rust\"].prepped)\n",
    "rust_words = rust_text.split()"
   ]
  },
  {
   "cell_type": "code",
   "execution_count": 115,
   "metadata": {},
   "outputs": [
    {
     "data": {
      "text/plain": [
       "r               105\n",
       "target           56\n",
       "reddit           50\n",
       "cargo            47\n",
       "input            44\n",
       "rust             39\n",
       "run              38\n",
       "twitter          30\n",
       "www              29\n",
       "b                29\n",
       "comment          28\n",
       "daysolutions     25\n",
       "main             24\n",
       "part             21\n",
       "x                20\n",
       "dtype: int64"
      ]
     },
     "execution_count": 115,
     "metadata": {},
     "output_type": "execute_result"
    }
   ],
   "source": [
    "rust_count = pd.Series(rust_words).value_counts()\n",
    "rust_count.head(15)"
   ]
  },
  {
   "cell_type": "code",
   "execution_count": 116,
   "metadata": {},
   "outputs": [
    {
     "data": {
      "text/plain": [
       "Text(0.5, 1.0, 'Rust 10 Most Common Words')"
      ]
     },
     "execution_count": 116,
     "metadata": {},
     "output_type": "execute_result"
    },
    {
     "data": {
      "image/png": "[encoded data removed]",
      "text/plain": [
       "<Figure size 432x288 with 1 Axes>"
      ]
     },
     "metadata": {
      "needs_background": "light"
     },
     "output_type": "display_data"
    }
   ],
   "source": [
    "rust_count.sort_values(ascending=False)[0:10].plot.barh(width=.9)\n",
    "plt.title('Rust 10 Most Common Words')"
   ]
  },
  {
   "cell_type": "markdown",
   "metadata": {},
   "source": [
    "#### Clojure"
   ]
  },
  {
   "cell_type": "code",
   "execution_count": 117,
   "metadata": {},
   "outputs": [],
   "source": [
    "clojure_text = \" \".join(df[df.language == \"Clojure\"].prepped)\n",
    "clojure_words = clojure_text.split()"
   ]
  },
  {
   "cell_type": "code",
   "execution_count": 118,
   "metadata": {},
   "outputs": [
    {
     "data": {
      "text/plain": [
       "clj         66\n",
       "clojure     41\n",
       "test        20\n",
       "run         18\n",
       "input       13\n",
       "script      13\n",
       "part        11\n",
       "one          9\n",
       "tree         8\n",
       "py           8\n",
       "python       7\n",
       "license      7\n",
       "circleci     7\n",
       "year         7\n",
       "problem      7\n",
       "dtype: int64"
      ]
     },
     "execution_count": 118,
     "metadata": {},
     "output_type": "execute_result"
    }
   ],
   "source": [
    "clojure_count = pd.Series(clojure_words).value_counts()\n",
    "clojure_count.head(15)"
   ]
  },
  {
   "cell_type": "code",
   "execution_count": 119,
   "metadata": {},
   "outputs": [
    {
     "data": {
      "text/plain": [
       "Text(0.5, 1.0, 'Clojure 10 most common words')"
      ]
     },
     "execution_count": 119,
     "metadata": {},
     "output_type": "execute_result"
    },
    {
     "data": {
      "image/png": "[encoded data removed]",
      "text/plain": [
       "<Figure size 432x288 with 1 Axes>"
      ]
     },
     "metadata": {
      "needs_background": "light"
     },
     "output_type": "display_data"
    }
   ],
   "source": [
    "clojure_count.sort_values(ascending=False)[0:10].plot.barh(width=.9)\n",
    "plt.title('Clojure 10 most common words')"
   ]
  },
  {
   "cell_type": "markdown",
   "metadata": {},
   "source": [
    "#### Java"
   ]
  },
  {
   "cell_type": "code",
   "execution_count": 120,
   "metadata": {},
   "outputs": [],
   "source": [
    "java_text = \" \".join(df[df.language == \"Java\"].prepped)\n",
    "java_words = java_text.split()"
   ]
  },
  {
   "cell_type": "code",
   "execution_count": 121,
   "metadata": {},
   "outputs": [
    {
     "data": {
      "text/plain": [
       "java         48\n",
       "problem      33\n",
       "tree         26\n",
       "statement    25\n",
       "run          23\n",
       "input        21\n",
       "main         17\n",
       "language     14\n",
       "sbaars       12\n",
       "shield       11\n",
       "io           11\n",
       "img          11\n",
       "part         10\n",
       "badge         9\n",
       "output        8\n",
       "dtype: int64"
      ]
     },
     "execution_count": 121,
     "metadata": {},
     "output_type": "execute_result"
    }
   ],
   "source": [
    "java_count = pd.Series(java_words).value_counts()\n",
    "java_count.head(15)"
   ]
  },
  {
   "cell_type": "code",
   "execution_count": 122,
   "metadata": {},
   "outputs": [
    {
     "data": {
      "text/plain": [
       "Text(0.5, 1.0, 'Java 10 most common words')"
      ]
     },
     "execution_count": 122,
     "metadata": {},
     "output_type": "execute_result"
    },
    {
     "data": {
      "image/png": "[encoded data removed]",
      "text/plain": [
       "<Figure size 432x288 with 1 Axes>"
      ]
     },
     "metadata": {
      "needs_background": "light"
     },
     "output_type": "display_data"
    }
   ],
   "source": [
    "java_count.sort_values(ascending=False)[0:10].plot.barh(width=.9)\n",
    "plt.title('Java 10 most common words')"
   ]
  },
  {
   "cell_type": "markdown",
   "metadata": {},
   "source": [
    "### Does the length of the README vary by programming language?"
   ]
  },
  {
   "cell_type": "code",
   "execution_count": null,
   "metadata": {},
   "outputs": [],
   "source": []
  },
  {
   "cell_type": "markdown",
   "metadata": {},
   "source": [
    "### Do different programming languages use a different number of unique words?"
   ]
  },
  {
   "cell_type": "code",
   "execution_count": null,
   "metadata": {},
   "outputs": [],
   "source": []
  },
  {
   "cell_type": "markdown",
   "metadata": {},
   "source": [
    "# Modeling"
   ]
  },
  {
   "cell_type": "markdown",
   "metadata": {},
   "source": [
    "Here we will look at the raw count, term frequency (tf), and inverse document frequency (idf). Then we will use that information to create models. We will train several different models and pick the best one. We will test the best model and evaluate the results. "
   ]
  },
  {
   "cell_type": "code",
   "execution_count": 123,
   "metadata": {},
   "outputs": [
    {
     "data": {
      "text/html": [
       "<div>\n",
       "<style scoped>\n",
       "    .dataframe tbody tr th:only-of-type {\n",
       "        vertical-align: middle;\n",
       "    }\n",
       "\n",
       "    .dataframe tbody tr th {\n",
       "        vertical-align: top;\n",
       "    }\n",
       "\n",
       "    .dataframe thead th {\n",
       "        text-align: right;\n",
       "    }\n",
       "</style>\n",
       "<table border=\"1\" class=\"dataframe\">\n",
       "  <thead>\n",
       "    <tr style=\"text-align: right;\">\n",
       "      <th></th>\n",
       "      <th>raw_count</th>\n",
       "      <th>term_frequency</th>\n",
       "    </tr>\n",
       "  </thead>\n",
       "  <tbody>\n",
       "    <tr>\n",
       "      <th>main</th>\n",
       "      <td>385</td>\n",
       "      <td>0.012584</td>\n",
       "    </tr>\n",
       "    <tr>\n",
       "      <th>run</th>\n",
       "      <td>378</td>\n",
       "      <td>0.012355</td>\n",
       "    </tr>\n",
       "    <tr>\n",
       "      <th>scala</th>\n",
       "      <td>327</td>\n",
       "      <td>0.010688</td>\n",
       "    </tr>\n",
       "    <tr>\n",
       "      <th>input</th>\n",
       "      <td>317</td>\n",
       "      <td>0.010361</td>\n",
       "    </tr>\n",
       "    <tr>\n",
       "      <th>part</th>\n",
       "      <td>292</td>\n",
       "      <td>0.009544</td>\n",
       "    </tr>\n",
       "  </tbody>\n",
       "</table>\n",
       "</div>"
      ],
      "text/plain": [
       "       raw_count  term_frequency\n",
       "main         385        0.012584\n",
       "run          378        0.012355\n",
       "scala        327        0.010688\n",
       "input        317        0.010361\n",
       "part         292        0.009544"
      ]
     },
     "execution_count": 123,
     "metadata": {},
     "output_type": "execute_result"
    }
   ],
   "source": [
    "# Create a data frame with raw count and tf\n",
    "tf_df = pd.DataFrame({'raw_count': raw_count})\n",
    "tf_df = tf_df.assign(term_frequency = lambda df: df.raw_count / df.raw_count.sum())\n",
    "tf_df.raw_count.max()\n",
    "tf_df.head()"
   ]
  },
  {
   "cell_type": "code",
   "execution_count": 124,
   "metadata": {},
   "outputs": [],
   "source": [
    "# Create a function that takes in a word and returns the idf of that word\n",
    "def idf(word):\n",
    "    n_occurrences = sum([1 for doc in df.prepped if word in doc])\n",
    "    n_docs = len(df.prepped)\n",
    "    idf = np.log(n_docs/n_occurrences)\n",
    "    return idf"
   ]
  },
  {
   "cell_type": "code",
   "execution_count": 125,
   "metadata": {},
   "outputs": [
    {
     "data": {
      "text/plain": [
       "4483"
      ]
     },
     "execution_count": 125,
     "metadata": {},
     "output_type": "execute_result"
    }
   ],
   "source": [
    "# Create a list of unique words\n",
    "unique_words = pd.Series(' '.join(df.prepped).split()).unique()\n",
    "len(unique_words)"
   ]
  },
  {
   "cell_type": "code",
   "execution_count": 126,
   "metadata": {},
   "outputs": [
    {
     "data": {
      "text/html": [
       "<div>\n",
       "<style scoped>\n",
       "    .dataframe tbody tr th:only-of-type {\n",
       "        vertical-align: middle;\n",
       "    }\n",
       "\n",
       "    .dataframe tbody tr th {\n",
       "        vertical-align: top;\n",
       "    }\n",
       "\n",
       "    .dataframe thead th {\n",
       "        text-align: right;\n",
       "    }\n",
       "</style>\n",
       "<table border=\"1\" class=\"dataframe\">\n",
       "  <thead>\n",
       "    <tr style=\"text-align: right;\">\n",
       "      <th></th>\n",
       "      <th>idf</th>\n",
       "    </tr>\n",
       "    <tr>\n",
       "      <th>word</th>\n",
       "      <th></th>\n",
       "    </tr>\n",
       "  </thead>\n",
       "  <tbody>\n",
       "    <tr>\n",
       "      <th>wip</th>\n",
       "      <td>5.627621</td>\n",
       "    </tr>\n",
       "    <tr>\n",
       "      <th>detectorutils</th>\n",
       "      <td>5.627621</td>\n",
       "    </tr>\n",
       "    <tr>\n",
       "      <th>commonly</th>\n",
       "      <td>5.627621</td>\n",
       "    </tr>\n",
       "    <tr>\n",
       "      <th>precision</th>\n",
       "      <td>5.627621</td>\n",
       "    </tr>\n",
       "    <tr>\n",
       "      <th>summarize</th>\n",
       "      <td>5.627621</td>\n",
       "    </tr>\n",
       "    <tr>\n",
       "      <th>precisionrecall</th>\n",
       "      <td>5.627621</td>\n",
       "    </tr>\n",
       "    <tr>\n",
       "      <th>curve</th>\n",
       "      <td>5.627621</td>\n",
       "    </tr>\n",
       "    <tr>\n",
       "      <th>accuracy</th>\n",
       "      <td>5.627621</td>\n",
       "    </tr>\n",
       "    <tr>\n",
       "      <th>frozeninferencegraph</th>\n",
       "      <td>5.627621</td>\n",
       "    </tr>\n",
       "    <tr>\n",
       "      <th>referenced</th>\n",
       "      <td>5.627621</td>\n",
       "    </tr>\n",
       "    <tr>\n",
       "      <th>handinferencegraph</th>\n",
       "      <td>5.627621</td>\n",
       "    </tr>\n",
       "    <tr>\n",
       "      <th>cloning</th>\n",
       "      <td>5.627621</td>\n",
       "    </tr>\n",
       "    <tr>\n",
       "      <th>loadinferencegraph</th>\n",
       "      <td>5.627621</td>\n",
       "    </tr>\n",
       "    <tr>\n",
       "      <th>meditationg</th>\n",
       "      <td>5.627621</td>\n",
       "    </tr>\n",
       "    <tr>\n",
       "      <th>detectiongraph</th>\n",
       "      <td>5.627621</td>\n",
       "    </tr>\n",
       "    <tr>\n",
       "      <th>asdefault</th>\n",
       "      <td>5.627621</td>\n",
       "    </tr>\n",
       "    <tr>\n",
       "      <th>odgraphdef</th>\n",
       "      <td>5.627621</td>\n",
       "    </tr>\n",
       "    <tr>\n",
       "      <th>graphdef</th>\n",
       "      <td>5.627621</td>\n",
       "    </tr>\n",
       "    <tr>\n",
       "      <th>gfile</th>\n",
       "      <td>5.627621</td>\n",
       "    </tr>\n",
       "    <tr>\n",
       "      <th>pathtockpt</th>\n",
       "      <td>5.627621</td>\n",
       "    </tr>\n",
       "    <tr>\n",
       "      <th>serializedgraph</th>\n",
       "      <td>5.627621</td>\n",
       "    </tr>\n",
       "    <tr>\n",
       "      <th>parsefromstring</th>\n",
       "      <td>5.627621</td>\n",
       "    </tr>\n",
       "    <tr>\n",
       "      <th>importgraphdef</th>\n",
       "      <td>5.627621</td>\n",
       "    </tr>\n",
       "    <tr>\n",
       "      <th>graphdetectiongraph</th>\n",
       "      <td>5.627621</td>\n",
       "    </tr>\n",
       "    <tr>\n",
       "      <th>performs</th>\n",
       "      <td>5.627621</td>\n",
       "    </tr>\n",
       "  </tbody>\n",
       "</table>\n",
       "</div>"
      ],
      "text/plain": [
       "                           idf\n",
       "word                          \n",
       "wip                   5.627621\n",
       "detectorutils         5.627621\n",
       "commonly              5.627621\n",
       "precision             5.627621\n",
       "summarize             5.627621\n",
       "precisionrecall       5.627621\n",
       "curve                 5.627621\n",
       "accuracy              5.627621\n",
       "frozeninferencegraph  5.627621\n",
       "referenced            5.627621\n",
       "handinferencegraph    5.627621\n",
       "cloning               5.627621\n",
       "loadinferencegraph    5.627621\n",
       "meditationg           5.627621\n",
       "detectiongraph        5.627621\n",
       "asdefault             5.627621\n",
       "odgraphdef            5.627621\n",
       "graphdef              5.627621\n",
       "gfile                 5.627621\n",
       "pathtockpt            5.627621\n",
       "serializedgraph       5.627621\n",
       "parsefromstring       5.627621\n",
       "importgraphdef        5.627621\n",
       "graphdetectiongraph   5.627621\n",
       "performs              5.627621"
      ]
     },
     "execution_count": 126,
     "metadata": {},
     "output_type": "execute_result"
    }
   ],
   "source": [
    "idf_df = pd.DataFrame(dict(word = unique_words))\n",
    "idf_df = idf_df.assign(idf = lambda df: df.word.apply(idf))\n",
    "idf_df = idf_df.set_index('word').sort_values(by='idf', ascending = False)\n",
    "idf_df.head(25)"
   ]
  },
  {
   "cell_type": "code",
   "execution_count": 127,
   "metadata": {},
   "outputs": [
    {
     "data": {
      "text/plain": [
       "Python              39\n",
       "JavaScript          35\n",
       "Haskell             25\n",
       "Rust                19\n",
       "Clojure             15\n",
       "Go                  14\n",
       "Java                13\n",
       "Kotlin              12\n",
       "Ruby                10\n",
       "C#                  10\n",
       "Elixir               9\n",
       "C++                  8\n",
       "Scala                8\n",
       "R                    7\n",
       "OCaml                5\n",
       "TypeScript           4\n",
       "Jupyter Notebook     4\n",
       "PHP                  3\n",
       "C                    3\n",
       "F#                   2\n",
       "Julia                2\n",
       "Swift                2\n",
       "Perl                 2\n",
       "HTML                 2\n",
       "Scheme               2\n",
       "Crystal              2\n",
       "Pony                 2\n",
       "Elm                  2\n",
       "Eiffel               1\n",
       "D                    1\n",
       "Smalltalk            1\n",
       "Coq                  1\n",
       "Nim                  1\n",
       "Haxe                 1\n",
       "Mathematica          1\n",
       "TSQL                 1\n",
       "PowerShell           1\n",
       "Shell                1\n",
       "Ada                  1\n",
       "Erlang               1\n",
       "Reason               1\n",
       "APL                  1\n",
       "Dart                 1\n",
       "Racket               1\n",
       "PureScript           1\n",
       "Name: language, dtype: int64"
      ]
     },
     "execution_count": 127,
     "metadata": {},
     "output_type": "execute_result"
    }
   ],
   "source": [
    "df.language.value_counts()"
   ]
  },
  {
   "cell_type": "markdown",
   "metadata": {},
   "source": [
    "#### It will not be realistic or benefitial to train and predict languages with a very small sample size. To accomodate for this, we create the label 'Other'. Other includes all languages that have less than 9 samples. This leaves us with the top 11 languages and the label Other for a total of 12 programming languages. "
   ]
  },
  {
   "cell_type": "code",
   "execution_count": 128,
   "metadata": {},
   "outputs": [],
   "source": [
    "df['language'] = df['language'].replace({'C++':'Other', 'Scala':'Other', 'OCaml':'Other','C':'Other', 'Elm':'Other', 'Pony':'Other', 'HTML':'Other', 'Perl':'Other','APL':'Other', 'Haxe':'Other', 'Racket':'Other', 'PureScript':'Other', 'Coq':'Other','F#':'Other', 'PHP':'Other', 'TSQL':'Other', 'Crystal':'Other', 'Nim':'Other', 'Shell':'Other', 'Eiffel':'Other', 'Mathematica':'Other', 'Swift':'Other', 'Reason':'Other', 'TypeScript':'Other', 'Jupyter Notebook':'Python', 'Scheme':'Other', 'Powershell':'Other', 'Julia':'Other', 'PowerShell':'Other', 'Ada':'Other', 'Erlang':'Other', 'Smalltalk':'Other', 'D':'Other', 'Dart':'Other', 'R':'Other'})"
   ]
  },
  {
   "cell_type": "code",
   "execution_count": 129,
   "metadata": {},
   "outputs": [
    {
     "data": {
      "text/plain": [
       "Other         73\n",
       "Python        43\n",
       "JavaScript    35\n",
       "Haskell       25\n",
       "Rust          19\n",
       "Clojure       15\n",
       "Go            14\n",
       "Java          13\n",
       "Kotlin        12\n",
       "C#            10\n",
       "Ruby          10\n",
       "Elixir         9\n",
       "Name: language, dtype: int64"
      ]
     },
     "execution_count": 129,
     "metadata": {},
     "output_type": "execute_result"
    }
   ],
   "source": [
    "df.language.value_counts()"
   ]
  },
  {
   "cell_type": "code",
   "execution_count": 130,
   "metadata": {},
   "outputs": [
    {
     "data": {
      "text/plain": [
       "278"
      ]
     },
     "execution_count": 130,
     "metadata": {},
     "output_type": "execute_result"
    }
   ],
   "source": [
    "sum(df.language.value_counts())"
   ]
  },
  {
   "cell_type": "markdown",
   "metadata": {},
   "source": [
    "## Split"
   ]
  },
  {
   "cell_type": "code",
   "execution_count": 141,
   "metadata": {},
   "outputs": [],
   "source": [
    "tfidf = TfidfVectorizer()\n",
    "X = tfidf.fit_transform(df.prepped)\n",
    "y = df.language\n",
    "\n",
    "# 80% train, 20% test\n",
    "X_train, X_test, y_train, y_test = train_test_split(X, y, stratify=y, test_size=.2)\n",
    "\n",
    "train = pd.DataFrame(dict(actual=y_train))\n",
    "test = pd.DataFrame(dict(actual=y_test))"
   ]
  },
  {
   "cell_type": "markdown",
   "metadata": {},
   "source": [
    "## Baseline: Predict Most Popular Language"
   ]
  },
  {
   "cell_type": "markdown",
   "metadata": {},
   "source": [
    "#### Baseline Accuracy: 26%"
   ]
  },
  {
   "cell_type": "markdown",
   "metadata": {},
   "source": [
    "Our data consists of 276 readme entries. Our most popular programming language is 'Other' with 73. If we were to guess Other for every language, we would be correct 26% of the time. Our final model must beat this baseline accuracy of 26%."
   ]
  },
  {
   "cell_type": "markdown",
   "metadata": {},
   "source": [
    "## Model 1: Logistic Regression"
   ]
  },
  {
   "cell_type": "code",
   "execution_count": 142,
   "metadata": {},
   "outputs": [],
   "source": [
    "lm = LogisticRegression().fit(X_train, y_train)\n",
    "train['logistic_regression_predicted'] = lm.predict(X_train)"
   ]
  },
  {
   "cell_type": "markdown",
   "metadata": {},
   "source": [
    "### Train Evaluation"
   ]
  },
  {
   "cell_type": "code",
   "execution_count": 147,
   "metadata": {},
   "outputs": [
    {
     "name": "stdout",
     "output_type": "stream",
     "text": [
      "Accuracy: 69.82%\n",
      "---\n",
      "Confusion Matrix\n",
      "actual                         C#  Clojure  Elixir  Go  Haskell  Java  \\\n",
      "logistic_regression_predicted                                           \n",
      "Clojure                         0        7       0   0        0     0   \n",
      "Go                              0        0       0   5        0     0   \n",
      "Haskell                         0        0       0   0       15     0   \n",
      "Java                            0        0       0   0        0     5   \n",
      "JavaScript                      0        1       0   0        1     0   \n",
      "Kotlin                          0        0       0   0        0     0   \n",
      "Other                           8        4       7   6        4     5   \n",
      "Python                          0        0       0   0        0     1   \n",
      "Ruby                            0        0       0   0        0     0   \n",
      "Rust                            0        0       0   0        0     0   \n",
      "\n",
      "actual                         JavaScript  Kotlin  Other  Python  Ruby  Rust  \n",
      "logistic_regression_predicted                                                 \n",
      "Clojure                                 0       0      0       0     0     0  \n",
      "Go                                      0       0      0       0     0     0  \n",
      "Haskell                                 0       0      0       0     0     0  \n",
      "Java                                    0       0      0       0     0     0  \n",
      "JavaScript                             21       1      0       0     0     0  \n",
      "Kotlin                                  0       3      0       0     0     0  \n",
      "Other                                   7       6     57       3     5     7  \n",
      "Python                                  0       0      1      31     0     0  \n",
      "Ruby                                    0       0      0       0     3     0  \n",
      "Rust                                    0       0      0       0     0     8  \n",
      "---\n",
      "              precision    recall  f1-score   support\n",
      "\n",
      "          C#       0.00      0.00      0.00         8\n",
      "     Clojure       1.00      0.58      0.74        12\n",
      "      Elixir       0.00      0.00      0.00         7\n",
      "          Go       1.00      0.45      0.62        11\n",
      "     Haskell       1.00      0.75      0.86        20\n",
      "        Java       1.00      0.45      0.62        11\n",
      "  JavaScript       0.88      0.75      0.81        28\n",
      "      Kotlin       1.00      0.30      0.46        10\n",
      "       Other       0.48      0.98      0.64        58\n",
      "      Python       0.94      0.91      0.93        34\n",
      "        Ruby       1.00      0.38      0.55         8\n",
      "        Rust       1.00      0.53      0.70        15\n",
      "\n",
      "    accuracy                           0.70       222\n",
      "   macro avg       0.77      0.51      0.58       222\n",
      "weighted avg       0.77      0.70      0.68       222\n",
      "\n"
     ]
    }
   ],
   "source": [
    "print('Accuracy: {:.2%}'.format(accuracy_score(train.actual, train.logistic_regression_predicted)))\n",
    "print('---')\n",
    "print('Confusion Matrix')\n",
    "print(pd.crosstab(train.logistic_regression_predicted, train.actual))\n",
    "print('---')\n",
    "print(classification_report(train.actual, train.logistic_regression_predicted))"
   ]
  },
  {
   "cell_type": "markdown",
   "metadata": {},
   "source": [
    "## Model 2: Decision Tree"
   ]
  },
  {
   "cell_type": "code",
   "execution_count": 148,
   "metadata": {},
   "outputs": [
    {
     "data": {
      "text/plain": [
       "DecisionTreeClassifier(class_weight=None, criterion='entropy', max_depth=9,\n",
       "                       max_features=None, max_leaf_nodes=None,\n",
       "                       min_impurity_decrease=0.0, min_impurity_split=None,\n",
       "                       min_samples_leaf=1, min_samples_split=2,\n",
       "                       min_weight_fraction_leaf=0.0, presort=False,\n",
       "                       random_state=123, splitter='best')"
      ]
     },
     "execution_count": 148,
     "metadata": {},
     "output_type": "execute_result"
    }
   ],
   "source": [
    "# Create\n",
    "tree = DecisionTreeClassifier(criterion='entropy', max_depth=9, random_state=123)\n",
    "# Fit\n",
    "tree.fit(X_train, y_train)"
   ]
  },
  {
   "cell_type": "code",
   "execution_count": 149,
   "metadata": {},
   "outputs": [],
   "source": [
    "# Predict\n",
    "train['decision_tree_predicted'] = tree.predict(X_train)"
   ]
  },
  {
   "cell_type": "markdown",
   "metadata": {},
   "source": [
    "### Train Evaluation"
   ]
  },
  {
   "cell_type": "code",
   "execution_count": 151,
   "metadata": {},
   "outputs": [
    {
     "name": "stdout",
     "output_type": "stream",
     "text": [
      "Accuracy: 72.07%\n",
      "---\n",
      "Confusion Matrix\n",
      "actual                   C#  Clojure  Elixir  Go  Haskell  Java  JavaScript  \\\n",
      "decision_tree_predicted                                                       \n",
      "C#                        3        0       0   0        0     0           0   \n",
      "Clojure                   0        9       0   0        0     0           0   \n",
      "Elixir                    0        0       7   0        0     0           0   \n",
      "Go                        0        0       0   9        0     0           6   \n",
      "Haskell                   0        0       0   0       11     0           0   \n",
      "Java                      0        0       0   0        0    11           0   \n",
      "JavaScript                0        0       0   0        0     0           8   \n",
      "Kotlin                    0        0       0   0        0     0           0   \n",
      "Other                     5        3       0   2        9     0          14   \n",
      "Python                    0        0       0   0        0     0           0   \n",
      "Ruby                      0        0       0   0        0     0           0   \n",
      "Rust                      0        0       0   0        0     0           0   \n",
      "\n",
      "actual                   Kotlin  Other  Python  Ruby  Rust  \n",
      "decision_tree_predicted                                     \n",
      "C#                            0      0       0     0     0  \n",
      "Clojure                       0      0       0     0     0  \n",
      "Elixir                        0      0       0     0     0  \n",
      "Go                            0      2       0     0     0  \n",
      "Haskell                       0      0       0     0     0  \n",
      "Java                          0      0       0     0     0  \n",
      "JavaScript                    0      0       0     0     0  \n",
      "Kotlin                        5      0       0     0     0  \n",
      "Other                         5     56      16     0     0  \n",
      "Python                        0      0      18     0     0  \n",
      "Ruby                          0      0       0     8     0  \n",
      "Rust                          0      0       0     0    15  \n",
      "---\n",
      "              precision    recall  f1-score   support\n",
      "\n",
      "          C#       1.00      0.38      0.55         8\n",
      "     Clojure       1.00      0.75      0.86        12\n",
      "      Elixir       1.00      1.00      1.00         7\n",
      "          Go       0.53      0.82      0.64        11\n",
      "     Haskell       1.00      0.55      0.71        20\n",
      "        Java       1.00      1.00      1.00        11\n",
      "  JavaScript       1.00      0.29      0.44        28\n",
      "      Kotlin       1.00      0.50      0.67        10\n",
      "       Other       0.51      0.97      0.67        58\n",
      "      Python       1.00      0.53      0.69        34\n",
      "        Ruby       1.00      1.00      1.00         8\n",
      "        Rust       1.00      1.00      1.00        15\n",
      "\n",
      "    accuracy                           0.72       222\n",
      "   macro avg       0.92      0.73      0.77       222\n",
      "weighted avg       0.85      0.72      0.71       222\n",
      "\n"
     ]
    }
   ],
   "source": [
    "print('Accuracy: {:.2%}'.format(accuracy_score(train.actual, train.decision_tree_predicted)))\n",
    "print('---')\n",
    "print('Confusion Matrix')\n",
    "print(pd.crosstab(train.decision_tree_predicted, train.actual))\n",
    "print('---')\n",
    "print(classification_report(train.actual, train.decision_tree_predicted))"
   ]
  },
  {
   "cell_type": "markdown",
   "metadata": {},
   "source": [
    "## Model 3: Random Forest"
   ]
  },
  {
   "cell_type": "code",
   "execution_count": 153,
   "metadata": {},
   "outputs": [
    {
     "data": {
      "text/plain": [
       "RandomForestClassifier(bootstrap=True, class_weight=None, criterion='gini',\n",
       "                       max_depth=9, max_features='auto', max_leaf_nodes=None,\n",
       "                       min_impurity_decrease=0.0, min_impurity_split=None,\n",
       "                       min_samples_leaf=3, min_samples_split=2,\n",
       "                       min_weight_fraction_leaf=0.0, n_estimators=10,\n",
       "                       n_jobs=None, oob_score=False, random_state=123,\n",
       "                       verbose=0, warm_start=False)"
      ]
     },
     "execution_count": 153,
     "metadata": {},
     "output_type": "execute_result"
    }
   ],
   "source": [
    "# Create\n",
    "rf = RandomForestClassifier(min_samples_leaf=3, max_depth=9, random_state=123)\n",
    "# Fit\n",
    "rf.fit(X_train, y_train)"
   ]
  },
  {
   "cell_type": "code",
   "execution_count": 154,
   "metadata": {},
   "outputs": [],
   "source": [
    "# Predict\n",
    "train['random_forest_predicted'] = rf.predict(X_train)"
   ]
  },
  {
   "cell_type": "markdown",
   "metadata": {},
   "source": [
    "### Train Evaluation"
   ]
  },
  {
   "cell_type": "code",
   "execution_count": 155,
   "metadata": {},
   "outputs": [
    {
     "name": "stdout",
     "output_type": "stream",
     "text": [
      "Accuracy: 55.86%\n",
      "---\n",
      "Confusion Matrix\n",
      "actual                   C#  Clojure  Elixir  Go  Haskell  Java  JavaScript  \\\n",
      "random_forest_predicted                                                       \n",
      "Clojure                   0        2       0   0        0     0           0   \n",
      "Elixir                    0        0       1   0        0     0           0   \n",
      "Go                        0        0       0   6        0     0           0   \n",
      "Haskell                   0        0       0   0        6     0           0   \n",
      "Java                      0        0       0   0        0     5           0   \n",
      "JavaScript                0        0       0   0        0     0          18   \n",
      "Kotlin                    0        0       0   0        1     1           0   \n",
      "Other                     5        9       5   5       13     4          10   \n",
      "Python                    3        1       1   0        0     1           0   \n",
      "Rust                      0        0       0   0        0     0           0   \n",
      "\n",
      "actual                   Kotlin  Other  Python  Ruby  Rust  \n",
      "random_forest_predicted                                     \n",
      "Clojure                       0      0       0     0     0  \n",
      "Elixir                        0      0       0     0     0  \n",
      "Go                            0      0       0     0     1  \n",
      "Haskell                       0      0       1     0     0  \n",
      "Java                          0      0       0     0     0  \n",
      "JavaScript                    1      1       0     0     0  \n",
      "Kotlin                        6      0       0     0     0  \n",
      "Other                         3     55      19     7     3  \n",
      "Python                        0      1      14     0     0  \n",
      "Rust                          0      1       0     1    11  \n",
      "---\n",
      "              precision    recall  f1-score   support\n",
      "\n",
      "          C#       0.00      0.00      0.00         8\n",
      "     Clojure       1.00      0.17      0.29        12\n",
      "      Elixir       1.00      0.14      0.25         7\n",
      "          Go       0.86      0.55      0.67        11\n",
      "     Haskell       0.86      0.30      0.44        20\n",
      "        Java       1.00      0.45      0.62        11\n",
      "  JavaScript       0.90      0.64      0.75        28\n",
      "      Kotlin       0.75      0.60      0.67        10\n",
      "       Other       0.40      0.95      0.56        58\n",
      "      Python       0.67      0.41      0.51        34\n",
      "        Ruby       0.00      0.00      0.00         8\n",
      "        Rust       0.85      0.73      0.79        15\n",
      "\n",
      "    accuracy                           0.56       222\n",
      "   macro avg       0.69      0.41      0.46       222\n",
      "weighted avg       0.67      0.56      0.53       222\n",
      "\n"
     ]
    }
   ],
   "source": [
    "print('Accuracy: {:.2%}'.format(accuracy_score(train.actual, train.random_forest_predicted)))\n",
    "print('---')\n",
    "print('Confusion Matrix')\n",
    "print(pd.crosstab(train.random_forest_predicted, train.actual))\n",
    "print('---')\n",
    "print(classification_report(train.actual, train.random_forest_predicted))"
   ]
  },
  {
   "cell_type": "markdown",
   "metadata": {},
   "source": [
    "## Model 4: K-Nearest Neighbors"
   ]
  },
  {
   "cell_type": "code",
   "execution_count": 156,
   "metadata": {},
   "outputs": [
    {
     "data": {
      "text/plain": [
       "KNeighborsClassifier(algorithm='auto', leaf_size=30, metric='minkowski',\n",
       "                     metric_params=None, n_jobs=None, n_neighbors=8, p=2,\n",
       "                     weights='uniform')"
      ]
     },
     "execution_count": 156,
     "metadata": {},
     "output_type": "execute_result"
    }
   ],
   "source": [
    "# Create\n",
    "knn=KNeighborsClassifier(n_neighbors=8,weights='uniform')\n",
    "# Fit\n",
    "knn.fit(X_train, y_train)"
   ]
  },
  {
   "cell_type": "code",
   "execution_count": 157,
   "metadata": {},
   "outputs": [],
   "source": [
    "# Predict\n",
    "train['knn_predicted'] = knn.predict(X_train)"
   ]
  },
  {
   "cell_type": "markdown",
   "metadata": {},
   "source": [
    "### Train Evaluation"
   ]
  },
  {
   "cell_type": "code",
   "execution_count": 158,
   "metadata": {},
   "outputs": [
    {
     "name": "stdout",
     "output_type": "stream",
     "text": [
      "Accuracy: 62.61%\n",
      "---\n",
      "Confusion Matrix\n",
      "actual         C#  Clojure  Elixir  Go  Haskell  Java  JavaScript  Kotlin  \\\n",
      "knn_predicted                                                               \n",
      "C#              1        0       0   0        0     0           0       0   \n",
      "Clojure         0       11       0   0        0     0           1       0   \n",
      "Elixir          0        0       4   0        0     0           0       0   \n",
      "Go              0        0       0   6        0     0           1       1   \n",
      "Haskell         1        1       0   1       14     0           0       0   \n",
      "Java            2        0       0   0        1     9           0       0   \n",
      "JavaScript      2        0       0   2        1     1          22       2   \n",
      "Kotlin          0        0       0   0        0     0           1       5   \n",
      "Other           1        0       0   1        0     0           2       2   \n",
      "Python          1        0       3   1        2     1           1       0   \n",
      "Ruby            0        0       0   0        2     0           0       0   \n",
      "Rust            0        0       0   0        0     0           0       0   \n",
      "\n",
      "actual         Other  Python  Ruby  Rust  \n",
      "knn_predicted                             \n",
      "C#                 1       0     1     0  \n",
      "Clojure            0       0     0     1  \n",
      "Elixir             0       2     0     0  \n",
      "Go                 3       0     0     1  \n",
      "Haskell            2       0     0     0  \n",
      "Java               5       0     1     0  \n",
      "JavaScript        10       3     1     1  \n",
      "Kotlin             0       0     0     0  \n",
      "Other             31       7     1     1  \n",
      "Python             4      22     0     0  \n",
      "Ruby               2       0     4     1  \n",
      "Rust               0       0     0    10  \n",
      "---\n",
      "              precision    recall  f1-score   support\n",
      "\n",
      "          C#       0.33      0.12      0.18         8\n",
      "     Clojure       0.85      0.92      0.88        12\n",
      "      Elixir       0.67      0.57      0.62         7\n",
      "          Go       0.50      0.55      0.52        11\n",
      "     Haskell       0.74      0.70      0.72        20\n",
      "        Java       0.50      0.82      0.62        11\n",
      "  JavaScript       0.49      0.79      0.60        28\n",
      "      Kotlin       0.83      0.50      0.62        10\n",
      "       Other       0.67      0.53      0.60        58\n",
      "      Python       0.63      0.65      0.64        34\n",
      "        Ruby       0.44      0.50      0.47         8\n",
      "        Rust       1.00      0.67      0.80        15\n",
      "\n",
      "    accuracy                           0.63       222\n",
      "   macro avg       0.64      0.61      0.61       222\n",
      "weighted avg       0.65      0.63      0.62       222\n",
      "\n"
     ]
    }
   ],
   "source": [
    "print('Accuracy: {:.2%}'.format(accuracy_score(train.actual, train.knn_predicted)))\n",
    "print('---')\n",
    "print('Confusion Matrix')\n",
    "print(pd.crosstab(train.knn_predicted, train.actual))\n",
    "print('---')\n",
    "print(classification_report(train.actual, train.knn_predicted))"
   ]
  },
  {
   "cell_type": "code",
   "execution_count": 159,
   "metadata": {},
   "outputs": [
    {
     "data": {
      "text/html": [
       "<div>\n",
       "<style scoped>\n",
       "    .dataframe tbody tr th:only-of-type {\n",
       "        vertical-align: middle;\n",
       "    }\n",
       "\n",
       "    .dataframe tbody tr th {\n",
       "        vertical-align: top;\n",
       "    }\n",
       "\n",
       "    .dataframe thead th {\n",
       "        text-align: right;\n",
       "    }\n",
       "</style>\n",
       "<table border=\"1\" class=\"dataframe\">\n",
       "  <thead>\n",
       "    <tr style=\"text-align: right;\">\n",
       "      <th></th>\n",
       "      <th>actual</th>\n",
       "      <th>logistic_regression_predicted</th>\n",
       "      <th>decision_tree_predicted</th>\n",
       "      <th>random_forest_predicted</th>\n",
       "      <th>knn_predicted</th>\n",
       "    </tr>\n",
       "  </thead>\n",
       "  <tbody>\n",
       "    <tr>\n",
       "      <th>157</th>\n",
       "      <td>Other</td>\n",
       "      <td>Other</td>\n",
       "      <td>Other</td>\n",
       "      <td>Other</td>\n",
       "      <td>Other</td>\n",
       "    </tr>\n",
       "    <tr>\n",
       "      <th>178</th>\n",
       "      <td>Ruby</td>\n",
       "      <td>Ruby</td>\n",
       "      <td>Ruby</td>\n",
       "      <td>Other</td>\n",
       "      <td>Ruby</td>\n",
       "    </tr>\n",
       "    <tr>\n",
       "      <th>131</th>\n",
       "      <td>JavaScript</td>\n",
       "      <td>JavaScript</td>\n",
       "      <td>JavaScript</td>\n",
       "      <td>Other</td>\n",
       "      <td>JavaScript</td>\n",
       "    </tr>\n",
       "    <tr>\n",
       "      <th>75</th>\n",
       "      <td>Kotlin</td>\n",
       "      <td>Other</td>\n",
       "      <td>Other</td>\n",
       "      <td>Other</td>\n",
       "      <td>Other</td>\n",
       "    </tr>\n",
       "    <tr>\n",
       "      <th>108</th>\n",
       "      <td>Python</td>\n",
       "      <td>Python</td>\n",
       "      <td>Python</td>\n",
       "      <td>Python</td>\n",
       "      <td>Python</td>\n",
       "    </tr>\n",
       "    <tr>\n",
       "      <th>235</th>\n",
       "      <td>Java</td>\n",
       "      <td>Java</td>\n",
       "      <td>Java</td>\n",
       "      <td>Other</td>\n",
       "      <td>Java</td>\n",
       "    </tr>\n",
       "    <tr>\n",
       "      <th>85</th>\n",
       "      <td>Other</td>\n",
       "      <td>Other</td>\n",
       "      <td>Other</td>\n",
       "      <td>Other</td>\n",
       "      <td>Python</td>\n",
       "    </tr>\n",
       "    <tr>\n",
       "      <th>214</th>\n",
       "      <td>Other</td>\n",
       "      <td>Other</td>\n",
       "      <td>Other</td>\n",
       "      <td>Other</td>\n",
       "      <td>Other</td>\n",
       "    </tr>\n",
       "    <tr>\n",
       "      <th>181</th>\n",
       "      <td>C#</td>\n",
       "      <td>Other</td>\n",
       "      <td>C#</td>\n",
       "      <td>Other</td>\n",
       "      <td>Java</td>\n",
       "    </tr>\n",
       "    <tr>\n",
       "      <th>194</th>\n",
       "      <td>Haskell</td>\n",
       "      <td>Haskell</td>\n",
       "      <td>Haskell</td>\n",
       "      <td>Other</td>\n",
       "      <td>Haskell</td>\n",
       "    </tr>\n",
       "    <tr>\n",
       "      <th>32</th>\n",
       "      <td>Clojure</td>\n",
       "      <td>Clojure</td>\n",
       "      <td>Clojure</td>\n",
       "      <td>Other</td>\n",
       "      <td>Clojure</td>\n",
       "    </tr>\n",
       "    <tr>\n",
       "      <th>269</th>\n",
       "      <td>Other</td>\n",
       "      <td>Other</td>\n",
       "      <td>Other</td>\n",
       "      <td>Other</td>\n",
       "      <td>Other</td>\n",
       "    </tr>\n",
       "    <tr>\n",
       "      <th>162</th>\n",
       "      <td>JavaScript</td>\n",
       "      <td>Other</td>\n",
       "      <td>Other</td>\n",
       "      <td>Other</td>\n",
       "      <td>JavaScript</td>\n",
       "    </tr>\n",
       "    <tr>\n",
       "      <th>3</th>\n",
       "      <td>JavaScript</td>\n",
       "      <td>JavaScript</td>\n",
       "      <td>JavaScript</td>\n",
       "      <td>JavaScript</td>\n",
       "      <td>JavaScript</td>\n",
       "    </tr>\n",
       "    <tr>\n",
       "      <th>98</th>\n",
       "      <td>Clojure</td>\n",
       "      <td>Other</td>\n",
       "      <td>Clojure</td>\n",
       "      <td>Clojure</td>\n",
       "      <td>Clojure</td>\n",
       "    </tr>\n",
       "    <tr>\n",
       "      <th>173</th>\n",
       "      <td>Python</td>\n",
       "      <td>Python</td>\n",
       "      <td>Other</td>\n",
       "      <td>Python</td>\n",
       "      <td>Other</td>\n",
       "    </tr>\n",
       "    <tr>\n",
       "      <th>284</th>\n",
       "      <td>Go</td>\n",
       "      <td>Other</td>\n",
       "      <td>Go</td>\n",
       "      <td>Go</td>\n",
       "      <td>Go</td>\n",
       "    </tr>\n",
       "    <tr>\n",
       "      <th>183</th>\n",
       "      <td>Python</td>\n",
       "      <td>Python</td>\n",
       "      <td>Python</td>\n",
       "      <td>Python</td>\n",
       "      <td>Python</td>\n",
       "    </tr>\n",
       "    <tr>\n",
       "      <th>154</th>\n",
       "      <td>Python</td>\n",
       "      <td>Python</td>\n",
       "      <td>Other</td>\n",
       "      <td>Other</td>\n",
       "      <td>Python</td>\n",
       "    </tr>\n",
       "    <tr>\n",
       "      <th>222</th>\n",
       "      <td>Other</td>\n",
       "      <td>Other</td>\n",
       "      <td>Other</td>\n",
       "      <td>Other</td>\n",
       "      <td>Other</td>\n",
       "    </tr>\n",
       "    <tr>\n",
       "      <th>243</th>\n",
       "      <td>Rust</td>\n",
       "      <td>Rust</td>\n",
       "      <td>Rust</td>\n",
       "      <td>Rust</td>\n",
       "      <td>Rust</td>\n",
       "    </tr>\n",
       "    <tr>\n",
       "      <th>143</th>\n",
       "      <td>Other</td>\n",
       "      <td>Other</td>\n",
       "      <td>Other</td>\n",
       "      <td>Other</td>\n",
       "      <td>Other</td>\n",
       "    </tr>\n",
       "    <tr>\n",
       "      <th>265</th>\n",
       "      <td>Elixir</td>\n",
       "      <td>Other</td>\n",
       "      <td>Elixir</td>\n",
       "      <td>Elixir</td>\n",
       "      <td>Elixir</td>\n",
       "    </tr>\n",
       "    <tr>\n",
       "      <th>213</th>\n",
       "      <td>Python</td>\n",
       "      <td>Python</td>\n",
       "      <td>Python</td>\n",
       "      <td>Other</td>\n",
       "      <td>Python</td>\n",
       "    </tr>\n",
       "    <tr>\n",
       "      <th>209</th>\n",
       "      <td>Rust</td>\n",
       "      <td>Rust</td>\n",
       "      <td>Rust</td>\n",
       "      <td>Go</td>\n",
       "      <td>Go</td>\n",
       "    </tr>\n",
       "    <tr>\n",
       "      <th>197</th>\n",
       "      <td>JavaScript</td>\n",
       "      <td>JavaScript</td>\n",
       "      <td>JavaScript</td>\n",
       "      <td>JavaScript</td>\n",
       "      <td>JavaScript</td>\n",
       "    </tr>\n",
       "    <tr>\n",
       "      <th>149</th>\n",
       "      <td>Python</td>\n",
       "      <td>Python</td>\n",
       "      <td>Other</td>\n",
       "      <td>Other</td>\n",
       "      <td>Other</td>\n",
       "    </tr>\n",
       "    <tr>\n",
       "      <th>146</th>\n",
       "      <td>Rust</td>\n",
       "      <td>Other</td>\n",
       "      <td>Rust</td>\n",
       "      <td>Other</td>\n",
       "      <td>Clojure</td>\n",
       "    </tr>\n",
       "    <tr>\n",
       "      <th>165</th>\n",
       "      <td>Ruby</td>\n",
       "      <td>Other</td>\n",
       "      <td>Ruby</td>\n",
       "      <td>Rust</td>\n",
       "      <td>Java</td>\n",
       "    </tr>\n",
       "    <tr>\n",
       "      <th>193</th>\n",
       "      <td>JavaScript</td>\n",
       "      <td>JavaScript</td>\n",
       "      <td>Other</td>\n",
       "      <td>JavaScript</td>\n",
       "      <td>JavaScript</td>\n",
       "    </tr>\n",
       "    <tr>\n",
       "      <th>...</th>\n",
       "      <td>...</td>\n",
       "      <td>...</td>\n",
       "      <td>...</td>\n",
       "      <td>...</td>\n",
       "      <td>...</td>\n",
       "    </tr>\n",
       "    <tr>\n",
       "      <th>126</th>\n",
       "      <td>Haskell</td>\n",
       "      <td>Haskell</td>\n",
       "      <td>Haskell</td>\n",
       "      <td>Other</td>\n",
       "      <td>Haskell</td>\n",
       "    </tr>\n",
       "    <tr>\n",
       "      <th>68</th>\n",
       "      <td>JavaScript</td>\n",
       "      <td>JavaScript</td>\n",
       "      <td>Other</td>\n",
       "      <td>JavaScript</td>\n",
       "      <td>JavaScript</td>\n",
       "    </tr>\n",
       "    <tr>\n",
       "      <th>261</th>\n",
       "      <td>C#</td>\n",
       "      <td>Other</td>\n",
       "      <td>Other</td>\n",
       "      <td>Other</td>\n",
       "      <td>JavaScript</td>\n",
       "    </tr>\n",
       "    <tr>\n",
       "      <th>290</th>\n",
       "      <td>Other</td>\n",
       "      <td>Other</td>\n",
       "      <td>Other</td>\n",
       "      <td>Other</td>\n",
       "      <td>Other</td>\n",
       "    </tr>\n",
       "    <tr>\n",
       "      <th>203</th>\n",
       "      <td>Other</td>\n",
       "      <td>Other</td>\n",
       "      <td>Other</td>\n",
       "      <td>Other</td>\n",
       "      <td>Other</td>\n",
       "    </tr>\n",
       "    <tr>\n",
       "      <th>172</th>\n",
       "      <td>Other</td>\n",
       "      <td>Python</td>\n",
       "      <td>Other</td>\n",
       "      <td>Python</td>\n",
       "      <td>Other</td>\n",
       "    </tr>\n",
       "    <tr>\n",
       "      <th>74</th>\n",
       "      <td>Go</td>\n",
       "      <td>Go</td>\n",
       "      <td>Go</td>\n",
       "      <td>Go</td>\n",
       "      <td>Go</td>\n",
       "    </tr>\n",
       "    <tr>\n",
       "      <th>16</th>\n",
       "      <td>JavaScript</td>\n",
       "      <td>JavaScript</td>\n",
       "      <td>Other</td>\n",
       "      <td>Other</td>\n",
       "      <td>JavaScript</td>\n",
       "    </tr>\n",
       "    <tr>\n",
       "      <th>274</th>\n",
       "      <td>Kotlin</td>\n",
       "      <td>Kotlin</td>\n",
       "      <td>Kotlin</td>\n",
       "      <td>Kotlin</td>\n",
       "      <td>Kotlin</td>\n",
       "    </tr>\n",
       "    <tr>\n",
       "      <th>191</th>\n",
       "      <td>Haskell</td>\n",
       "      <td>Other</td>\n",
       "      <td>Other</td>\n",
       "      <td>Other</td>\n",
       "      <td>Python</td>\n",
       "    </tr>\n",
       "    <tr>\n",
       "      <th>212</th>\n",
       "      <td>Elixir</td>\n",
       "      <td>Other</td>\n",
       "      <td>Elixir</td>\n",
       "      <td>Python</td>\n",
       "      <td>Elixir</td>\n",
       "    </tr>\n",
       "    <tr>\n",
       "      <th>169</th>\n",
       "      <td>C#</td>\n",
       "      <td>Other</td>\n",
       "      <td>Other</td>\n",
       "      <td>Python</td>\n",
       "      <td>Other</td>\n",
       "    </tr>\n",
       "    <tr>\n",
       "      <th>196</th>\n",
       "      <td>JavaScript</td>\n",
       "      <td>JavaScript</td>\n",
       "      <td>JavaScript</td>\n",
       "      <td>JavaScript</td>\n",
       "      <td>JavaScript</td>\n",
       "    </tr>\n",
       "    <tr>\n",
       "      <th>41</th>\n",
       "      <td>Haskell</td>\n",
       "      <td>JavaScript</td>\n",
       "      <td>Other</td>\n",
       "      <td>Other</td>\n",
       "      <td>JavaScript</td>\n",
       "    </tr>\n",
       "    <tr>\n",
       "      <th>198</th>\n",
       "      <td>JavaScript</td>\n",
       "      <td>JavaScript</td>\n",
       "      <td>Go</td>\n",
       "      <td>JavaScript</td>\n",
       "      <td>Kotlin</td>\n",
       "    </tr>\n",
       "    <tr>\n",
       "      <th>210</th>\n",
       "      <td>Clojure</td>\n",
       "      <td>Clojure</td>\n",
       "      <td>Clojure</td>\n",
       "      <td>Other</td>\n",
       "      <td>Clojure</td>\n",
       "    </tr>\n",
       "    <tr>\n",
       "      <th>148</th>\n",
       "      <td>JavaScript</td>\n",
       "      <td>JavaScript</td>\n",
       "      <td>Go</td>\n",
       "      <td>JavaScript</td>\n",
       "      <td>JavaScript</td>\n",
       "    </tr>\n",
       "    <tr>\n",
       "      <th>200</th>\n",
       "      <td>Clojure</td>\n",
       "      <td>Clojure</td>\n",
       "      <td>Clojure</td>\n",
       "      <td>Other</td>\n",
       "      <td>Clojure</td>\n",
       "    </tr>\n",
       "    <tr>\n",
       "      <th>158</th>\n",
       "      <td>Python</td>\n",
       "      <td>Python</td>\n",
       "      <td>Python</td>\n",
       "      <td>Other</td>\n",
       "      <td>Python</td>\n",
       "    </tr>\n",
       "    <tr>\n",
       "      <th>8</th>\n",
       "      <td>Python</td>\n",
       "      <td>Python</td>\n",
       "      <td>Other</td>\n",
       "      <td>Other</td>\n",
       "      <td>Elixir</td>\n",
       "    </tr>\n",
       "    <tr>\n",
       "      <th>80</th>\n",
       "      <td>Other</td>\n",
       "      <td>Other</td>\n",
       "      <td>Other</td>\n",
       "      <td>Other</td>\n",
       "      <td>Python</td>\n",
       "    </tr>\n",
       "    <tr>\n",
       "      <th>216</th>\n",
       "      <td>Elixir</td>\n",
       "      <td>Other</td>\n",
       "      <td>Elixir</td>\n",
       "      <td>Other</td>\n",
       "      <td>Python</td>\n",
       "    </tr>\n",
       "    <tr>\n",
       "      <th>33</th>\n",
       "      <td>Clojure</td>\n",
       "      <td>Other</td>\n",
       "      <td>Other</td>\n",
       "      <td>Other</td>\n",
       "      <td>Haskell</td>\n",
       "    </tr>\n",
       "    <tr>\n",
       "      <th>10</th>\n",
       "      <td>Other</td>\n",
       "      <td>Other</td>\n",
       "      <td>Other</td>\n",
       "      <td>Rust</td>\n",
       "      <td>Java</td>\n",
       "    </tr>\n",
       "    <tr>\n",
       "      <th>35</th>\n",
       "      <td>Rust</td>\n",
       "      <td>Rust</td>\n",
       "      <td>Rust</td>\n",
       "      <td>Rust</td>\n",
       "      <td>Rust</td>\n",
       "    </tr>\n",
       "    <tr>\n",
       "      <th>247</th>\n",
       "      <td>Other</td>\n",
       "      <td>Other</td>\n",
       "      <td>Other</td>\n",
       "      <td>Other</td>\n",
       "      <td>Other</td>\n",
       "    </tr>\n",
       "    <tr>\n",
       "      <th>84</th>\n",
       "      <td>C#</td>\n",
       "      <td>Other</td>\n",
       "      <td>C#</td>\n",
       "      <td>Other</td>\n",
       "      <td>Java</td>\n",
       "    </tr>\n",
       "    <tr>\n",
       "      <th>103</th>\n",
       "      <td>Elixir</td>\n",
       "      <td>Other</td>\n",
       "      <td>Elixir</td>\n",
       "      <td>Other</td>\n",
       "      <td>Elixir</td>\n",
       "    </tr>\n",
       "    <tr>\n",
       "      <th>129</th>\n",
       "      <td>Python</td>\n",
       "      <td>Python</td>\n",
       "      <td>Other</td>\n",
       "      <td>Python</td>\n",
       "      <td>Other</td>\n",
       "    </tr>\n",
       "    <tr>\n",
       "      <th>40</th>\n",
       "      <td>Rust</td>\n",
       "      <td>Rust</td>\n",
       "      <td>Rust</td>\n",
       "      <td>Rust</td>\n",
       "      <td>Rust</td>\n",
       "    </tr>\n",
       "  </tbody>\n",
       "</table>\n",
       "<p>222 rows × 5 columns</p>\n",
       "</div>"
      ],
      "text/plain": [
       "         actual logistic_regression_predicted decision_tree_predicted  \\\n",
       "157       Other                         Other                   Other   \n",
       "178        Ruby                          Ruby                    Ruby   \n",
       "131  JavaScript                    JavaScript              JavaScript   \n",
       "75       Kotlin                         Other                   Other   \n",
       "108      Python                        Python                  Python   \n",
       "235        Java                          Java                    Java   \n",
       "85        Other                         Other                   Other   \n",
       "214       Other                         Other                   Other   \n",
       "181          C#                         Other                      C#   \n",
       "194     Haskell                       Haskell                 Haskell   \n",
       "32      Clojure                       Clojure                 Clojure   \n",
       "269       Other                         Other                   Other   \n",
       "162  JavaScript                         Other                   Other   \n",
       "3    JavaScript                    JavaScript              JavaScript   \n",
       "98      Clojure                         Other                 Clojure   \n",
       "173      Python                        Python                   Other   \n",
       "284          Go                         Other                      Go   \n",
       "183      Python                        Python                  Python   \n",
       "154      Python                        Python                   Other   \n",
       "222       Other                         Other                   Other   \n",
       "243        Rust                          Rust                    Rust   \n",
       "143       Other                         Other                   Other   \n",
       "265      Elixir                         Other                  Elixir   \n",
       "213      Python                        Python                  Python   \n",
       "209        Rust                          Rust                    Rust   \n",
       "197  JavaScript                    JavaScript              JavaScript   \n",
       "149      Python                        Python                   Other   \n",
       "146        Rust                         Other                    Rust   \n",
       "165        Ruby                         Other                    Ruby   \n",
       "193  JavaScript                    JavaScript                   Other   \n",
       "..          ...                           ...                     ...   \n",
       "126     Haskell                       Haskell                 Haskell   \n",
       "68   JavaScript                    JavaScript                   Other   \n",
       "261          C#                         Other                   Other   \n",
       "290       Other                         Other                   Other   \n",
       "203       Other                         Other                   Other   \n",
       "172       Other                        Python                   Other   \n",
       "74           Go                            Go                      Go   \n",
       "16   JavaScript                    JavaScript                   Other   \n",
       "274      Kotlin                        Kotlin                  Kotlin   \n",
       "191     Haskell                         Other                   Other   \n",
       "212      Elixir                         Other                  Elixir   \n",
       "169          C#                         Other                   Other   \n",
       "196  JavaScript                    JavaScript              JavaScript   \n",
       "41      Haskell                    JavaScript                   Other   \n",
       "198  JavaScript                    JavaScript                      Go   \n",
       "210     Clojure                       Clojure                 Clojure   \n",
       "148  JavaScript                    JavaScript                      Go   \n",
       "200     Clojure                       Clojure                 Clojure   \n",
       "158      Python                        Python                  Python   \n",
       "8        Python                        Python                   Other   \n",
       "80        Other                         Other                   Other   \n",
       "216      Elixir                         Other                  Elixir   \n",
       "33      Clojure                         Other                   Other   \n",
       "10        Other                         Other                   Other   \n",
       "35         Rust                          Rust                    Rust   \n",
       "247       Other                         Other                   Other   \n",
       "84           C#                         Other                      C#   \n",
       "103      Elixir                         Other                  Elixir   \n",
       "129      Python                        Python                   Other   \n",
       "40         Rust                          Rust                    Rust   \n",
       "\n",
       "    random_forest_predicted knn_predicted  \n",
       "157                   Other         Other  \n",
       "178                   Other          Ruby  \n",
       "131                   Other    JavaScript  \n",
       "75                    Other         Other  \n",
       "108                  Python        Python  \n",
       "235                   Other          Java  \n",
       "85                    Other        Python  \n",
       "214                   Other         Other  \n",
       "181                   Other          Java  \n",
       "194                   Other       Haskell  \n",
       "32                    Other       Clojure  \n",
       "269                   Other         Other  \n",
       "162                   Other    JavaScript  \n",
       "3                JavaScript    JavaScript  \n",
       "98                  Clojure       Clojure  \n",
       "173                  Python         Other  \n",
       "284                      Go            Go  \n",
       "183                  Python        Python  \n",
       "154                   Other        Python  \n",
       "222                   Other         Other  \n",
       "243                    Rust          Rust  \n",
       "143                   Other         Other  \n",
       "265                  Elixir        Elixir  \n",
       "213                   Other        Python  \n",
       "209                      Go            Go  \n",
       "197              JavaScript    JavaScript  \n",
       "149                   Other         Other  \n",
       "146                   Other       Clojure  \n",
       "165                    Rust          Java  \n",
       "193              JavaScript    JavaScript  \n",
       "..                      ...           ...  \n",
       "126                   Other       Haskell  \n",
       "68               JavaScript    JavaScript  \n",
       "261                   Other    JavaScript  \n",
       "290                   Other         Other  \n",
       "203                   Other         Other  \n",
       "172                  Python         Other  \n",
       "74                       Go            Go  \n",
       "16                    Other    JavaScript  \n",
       "274                  Kotlin        Kotlin  \n",
       "191                   Other        Python  \n",
       "212                  Python        Elixir  \n",
       "169                  Python         Other  \n",
       "196              JavaScript    JavaScript  \n",
       "41                    Other    JavaScript  \n",
       "198              JavaScript        Kotlin  \n",
       "210                   Other       Clojure  \n",
       "148              JavaScript    JavaScript  \n",
       "200                   Other       Clojure  \n",
       "158                   Other        Python  \n",
       "8                     Other        Elixir  \n",
       "80                    Other        Python  \n",
       "216                   Other        Python  \n",
       "33                    Other       Haskell  \n",
       "10                     Rust          Java  \n",
       "35                     Rust          Rust  \n",
       "247                   Other         Other  \n",
       "84                    Other          Java  \n",
       "103                   Other        Elixir  \n",
       "129                  Python         Other  \n",
       "40                     Rust          Rust  \n",
       "\n",
       "[222 rows x 5 columns]"
      ]
     },
     "execution_count": 159,
     "metadata": {},
     "output_type": "execute_result"
    }
   ],
   "source": [
    "train"
   ]
  },
  {
   "cell_type": "code",
   "execution_count": 162,
   "metadata": {},
   "outputs": [],
   "source": [
    "df.join(train, how= 'inner').to_csv('datafiles/prepped_train_results.csv')"
   ]
  },
  {
   "cell_type": "markdown",
   "metadata": {},
   "source": [
    "## Testing our Best Model"
   ]
  },
  {
   "cell_type": "markdown",
   "metadata": {},
   "source": [
    "Our best perfoming model is the decision tree. Let's run our model on the test data to see how it does. \n"
   ]
  },
  {
   "cell_type": "code",
   "execution_count": 65,
   "metadata": {},
   "outputs": [
    {
     "data": {
      "text/plain": [
       "DecisionTreeClassifier(class_weight=None, criterion='entropy', max_depth=9,\n",
       "                       max_features=None, max_leaf_nodes=None,\n",
       "                       min_impurity_decrease=0.0, min_impurity_split=None,\n",
       "                       min_samples_leaf=1, min_samples_split=2,\n",
       "                       min_weight_fraction_leaf=0.0, presort=False,\n",
       "                       random_state=123, splitter='best')"
      ]
     },
     "execution_count": 65,
     "metadata": {},
     "output_type": "execute_result"
    }
   ],
   "source": [
    "# Create\n",
    "tree = DecisionTreeClassifier(criterion='entropy', max_depth=9, random_state=123)\n",
    "# Fit\n",
    "tree.fit(X_train, y_train)"
   ]
  },
  {
   "cell_type": "code",
   "execution_count": 66,
   "metadata": {},
   "outputs": [],
   "source": [
    "train = pd.DataFrame(dict(actual=y_train))\n",
    "test = pd.DataFrame(dict(actual=y_test))\n",
    "# Predict\n",
    "train['predicted'] = tree.predict(X_train)\n",
    "test['predicted'] = tree.predict(X_test)"
   ]
  },
  {
   "cell_type": "code",
   "execution_count": 67,
   "metadata": {},
   "outputs": [
    {
     "name": "stdout",
     "output_type": "stream",
     "text": [
      "Accuracy: 53.57%\n",
      "---\n",
      "Confusion Matrix\n",
      "actual      C#  Clojure  Elixir  Go  Haskell  Java  JavaScript  Kotlin  Other  \\\n",
      "predicted                                                                       \n",
      "Clojure      0        3       0   0        0     0           0       0      0   \n",
      "Elixir       0        0       2   0        0     0           0       0      0   \n",
      "Go           0        0       0   1        0     0           1       0      0   \n",
      "Haskell      0        0       0   0        1     0           0       0      0   \n",
      "JavaScript   0        0       0   0        0     0           4       0      4   \n",
      "Kotlin       0        0       0   0        0     0           0       1      0   \n",
      "Other        2        0       0   2        3     2           2       1     10   \n",
      "Python       0        0       0   0        0     0           0       0      1   \n",
      "Ruby         0        0       0   0        0     0           0       0      0   \n",
      "Rust         0        0       0   0        1     0           0       0      0   \n",
      "\n",
      "actual      Python  Ruby  Rust  \n",
      "predicted                       \n",
      "Clojure          0     0     0  \n",
      "Elixir           0     0     0  \n",
      "Go               0     0     0  \n",
      "Haskell          0     0     2  \n",
      "JavaScript       0     0     0  \n",
      "Kotlin           0     0     0  \n",
      "Other            4     1     0  \n",
      "Python           5     0     0  \n",
      "Ruby             0     1     0  \n",
      "Rust             0     0     2  \n",
      "---\n",
      "              precision    recall  f1-score   support\n",
      "\n",
      "          C#       0.00      0.00      0.00         2\n",
      "     Clojure       1.00      1.00      1.00         3\n",
      "      Elixir       1.00      1.00      1.00         2\n",
      "          Go       0.50      0.33      0.40         3\n",
      "     Haskell       0.33      0.20      0.25         5\n",
      "        Java       0.00      0.00      0.00         2\n",
      "  JavaScript       0.50      0.57      0.53         7\n",
      "      Kotlin       1.00      0.50      0.67         2\n",
      "       Other       0.37      0.67      0.48        15\n",
      "      Python       0.83      0.56      0.67         9\n",
      "        Ruby       1.00      0.50      0.67         2\n",
      "        Rust       0.67      0.50      0.57         4\n",
      "\n",
      "    accuracy                           0.54        56\n",
      "   macro avg       0.60      0.49      0.52        56\n",
      "weighted avg       0.56      0.54      0.52        56\n",
      "\n"
     ]
    }
   ],
   "source": [
    "print('Accuracy: {:.2%}'.format(accuracy_score(test.actual, test.predicted)))\n",
    "print('---')\n",
    "print('Confusion Matrix')\n",
    "print(pd.crosstab(test.predicted, test.actual))\n",
    "print('---')\n",
    "print(classification_report(test.actual, test.predicted))"
   ]
  },
  {
   "cell_type": "markdown",
   "metadata": {},
   "source": [
    "#### Conclusion: Our best model is the decision tree. When given unseen test data, our model returns an accuracy of roughly 50%. This is significant, given our model is making its predictions from 12 options. It also vastly outperforms our baseline model, which had an accuracy of 26%."
   ]
  },
  {
   "cell_type": "markdown",
   "metadata": {},
   "source": [
    "### Build a function that will take in the text of a README file, and tries to predict the programming language."
   ]
  },
  {
   "cell_type": "code",
   "execution_count": null,
   "metadata": {},
   "outputs": [],
   "source": []
  }
 ],
 "metadata": {
  "kernelspec": {
   "display_name": "Python 3",
   "language": "python",
   "name": "python3"
  },
  "language_info": {
   "codemirror_mode": {
    "name": "ipython",
    "version": 3
   },
   "file_extension": ".py",
   "mimetype": "text/x-python",
   "name": "python",
   "nbconvert_exporter": "python",
   "pygments_lexer": "ipython3",
   "version": "3.7.3"
  }
 },
 "nbformat": 4,
 "nbformat_minor": 2
}
