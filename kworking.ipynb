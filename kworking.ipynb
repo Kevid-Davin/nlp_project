{
 "cells": [
  {
   "cell_type": "code",
   "execution_count": 1,
   "metadata": {},
   "outputs": [],
   "source": [
    "###############################################################################\n",
    "### pthon imports                                                           ###\n",
    "###############################################################################\n",
    "\n",
    "from os import path\n",
    "from requests import get\n",
    "from bs4 import BeautifulSoup\n",
    "import os\n",
    "import pandas as pd\n",
    "import re"
   ]
  },
  {
   "cell_type": "code",
   "execution_count": 2,
   "metadata": {},
   "outputs": [],
   "source": [
    "def find_file(\n",
    "    file_name='path/file.txt',\n",
    "    cache=False,\n",
    "    cache_age=None\n",
    "    ):\n",
    "\n",
    "    if cache==False:\n",
    "        return None\n",
    "    \n",
    "    return path.exists(file_name)"
   ]
  },
  {
   "cell_type": "code",
   "execution_count": 14,
   "metadata": {},
   "outputs": [],
   "source": [
    "def get_soup(\n",
    "    url='https://github.com/search?o=desc&p=1&q=advent+of+code&s=stars&type=Repositories',\n",
    "    headers={'User-Agent': 'Nothing suspicious'},\n",
    "    file_name='soupfiles/gitsearch.txt',\n",
    "    cache=False,\n",
    "    cache_age=None,\n",
    "    soup_slurper='*'\n",
    "):\n",
    "    # if we already have the data, read it locally\n",
    "    file_found = find_file(file_name=file_name, cache=cache, cache_age=cache_age)\n",
    "    if file_found:\n",
    "        with open(file_name) as f:\n",
    "            return BeautifulSoup(f.read())\n",
    "\n",
    "    # otherwise go fetch the data\n",
    "    response = get(url, headers=headers)\n",
    "    soup = BeautifulSoup(response.text)\n",
    "    slurps = soup.select(soup_slurper)\n",
    "\n",
    "    # save it for next time\n",
    "    with open(file_name, 'w') as f:\n",
    "        f.write(str(slurps[0]))\n",
    "        if len(slurps)>1:\n",
    "            for slurp in slurps[1:]:\n",
    "                f.write('\\n' + str(slurp))\n",
    "        \n",
    "    with open(file_name) as f:    \n",
    "        soup = BeautifulSoup(f.read())\n",
    "#     pd.to_csv(slurps, header=None, index=False)\n",
    "\n",
    "    return soup"
   ]
  },
  {
   "cell_type": "code",
   "execution_count": 43,
   "metadata": {},
   "outputs": [],
   "source": [
    "soup = get_soup(url='https://github.com/search?o=desc&p=2&q=advent+of+code&s=stars&type=Repositories', soup_slurper='.repo-list-item a')"
   ]
  },
  {
   "cell_type": "code",
   "execution_count": 44,
   "metadata": {},
   "outputs": [
    {
     "name": "stdout",
     "output_type": "stream",
     "text": [
      "<html><body><a class=\"v-align-middle\" data-hydro-click='{\"event_type\":\"search_result.click\",\"payload\":{\"page_number\":2,\"per_page\":10,\"query\":\"advent of code\",\"result_position\":1,\"click_id\":76759168,\"result\":{\"id\":76759168,\"global_relay_id\":\"MDEwOlJlcG9zaXRvcnk3Njc1OTE2OA==\",\"model_name\":\"Repository\",\"url\":\"https://github.com/mfikes/advent-of-code\"},\"client_id\":null,\"originating_request_id\":\"EE85:591E:349F2F9:5DA4BC7:5DEFCCD0\",\"originating_url\":\"https://github.com/search?o=desc&amp;p=2&amp;q=advent+of+code&amp;s=stars&amp;type=Repositories\",\"referrer\":null,\"user_id\":null}}' data-hydro-click-hmac=\"43ae6e5f3f0c75e2afd0e9f99a1119790d44e6fa17204c6fdf86afc3ec180f93\" href=\"/mfikes/advent-of-code\">mfikes/<em>advent</em>-<em>of</em>-<em>code</em></a>\n",
      "<a class=\"muted-link\" href=\"/mfikes/advent-of-code/stargazers\">\n",
      "<svg aria-label=\"star\" class=\"octicon octicon-star\" height=\"16\" role=\"img\" version=\"1.1\" viewbox=\"0 0 14 16\" width=\"14\"><path d=\"M14 6l-4.9-.64L7 1 4.9 5.36 0 6l3.6 3.26L2.67 14 7 11.67 11.33 14l-.93-4.74L14 6z\" fill-rule=\"evenodd\"></path></svg>\n",
      "          56\n",
      "        </a>\n",
      "<a class=\"v-align-middle\" data-hydro-click='{\"event_type\":\"search_result.click\",\"payload\":{\"page_number\":2,\"per_page\":10,\"query\":\"advent of code\",\"result_position\":2,\"click_id\":112667367,\"result\":{\"id\":112667367,\"global_relay_id\":\"MDEwOlJlcG9zaXRvcnkxMTI2NjczNjc=\",\"model_name\":\"Repository\",\"url\":\"https://github.com/dlew/aoc-2017\"},\"client_id\":null,\"originating_request_id\":\"EE85:591E:349F2F9:5DA4BC7:5DEFCCD0\",\"originating_url\":\"https://github.com/search?o=desc&amp;p=2&amp;q=advent+of+code&amp;s=stars&amp;type=Repositories\",\"referrer\":null,\"user_id\":null}}' data-hydro-click-hmac=\"3d4b8b1481a0ce78e9bdf8ada24dc57c31d7ae77a8f97981c6f9f7211e19758e\" href=\"/dlew/aoc-2017\">dlew/aoc-2017</a>\n",
      "<a class=\"muted-link\" href=\"/dlew/aoc-2017/stargazers\">\n",
      "<svg aria-label=\"star\" class=\"octicon octicon-star\" height=\"16\" role=\"img\" version=\"1.1\" viewbox=\"0 0 14 16\" width=\"14\"><path d=\"M14 6l-4.9-.64L7 1 4.9 5.36 0 6l3.6 3.26L2.67 14 7 11.67 11.33 14l-.93-4.74L14 6z\" fill-rule=\"evenodd\"></path></svg>\n",
      "          53\n",
      "        </a>\n",
      "<a class=\"v-align-middle\" data-hydro-click='{\"event_type\":\"search_result.click\",\"payload\":{\"page_number\":2,\"per_page\":10,\"query\":\"advent of code\",\"result_position\":3,\"click_id\":112700175,\"result\":{\"id\":112700175,\"global_relay_id\":\"MDEwOlJlcG9zaXRvcnkxMTI3MDAxNzU=\",\"model_name\":\"Repository\",\"url\":\"https://github.com/mstksg/advent-of-code-2017\"},\"client_id\":null,\"originating_request_id\":\"EE85:591E:349F2F9:5DA4BC7:5DEFCCD0\",\"originating_url\":\"https://github.com/search?o=desc&amp;p=2&amp;q=advent+of+code&amp;s=stars&amp;type=Repositories\",\"referrer\":null,\"user_id\":null}}' data-hydro-click-hmac=\"3c90698a086287ad8b15fe02c50227c8c19aaf1eefc6d94b3e3ed68cbe035ef8\" href=\"/mstksg/advent-of-code-2017\">mstksg/<em>advent</em>-<em>of</em>-<em>code</em>-2017</a>\n",
      "<a class=\"topic-tag topic-tag-link f6 my-1\" data-ga-click=\"Topic, search results\" data-octo-click=\"topic_click\" data-octo-dimensions=\"topic:advent-of-code,repository_id:112700175,repository_nwo:mstksg/&lt;em&gt;advent&lt;/em&gt;-&lt;em&gt;of&lt;/em&gt;-&lt;em&gt;code&lt;/em&gt;-2017,repository_public:true,repository_is_fork:false\" href=\"/topics/advent-of-code\" title=\"Topic: advent-of-code\">\n",
      "  advent-of-code\n",
      "</a>\n",
      "<a class=\"topic-tag topic-tag-link f6 my-1\" data-ga-click=\"Topic, search results\" data-octo-click=\"topic_click\" data-octo-dimensions=\"topic:advent-of-code-2017,repository_id:112700175,repository_nwo:mstksg/&lt;em&gt;advent&lt;/em&gt;-&lt;em&gt;of&lt;/em&gt;-&lt;em&gt;code&lt;/em&gt;-2017,repository_public:true,repository_is_fork:false\" href=\"/topics/advent-of-code-2017\" title=\"Topic: advent-of-code-2017\">\n",
      "  advent-of-code-2017\n",
      "</a>\n",
      "<a class=\"muted-link\" href=\"/mstksg/advent-of-code-2017/stargazers\">\n",
      "<svg aria-label=\"star\" class=\"octicon octicon-star\" height=\"16\" role=\"img\" version=\"1.1\" viewbox=\"0 0 14 16\" width=\"14\"><path d=\"M14 6l-4.9-.64L7 1 4.9 5.36 0 6l3.6 3.26L2.67 14 7 11.67 11.33 14l-.93-4.74L14 6z\" fill-rule=\"evenodd\"></path></svg>\n",
      "          51\n",
      "        </a>\n",
      "<a class=\"v-align-middle\" data-hydro-click='{\"event_type\":\"search_result.click\",\"payload\":{\"page_number\":2,\"per_page\":10,\"query\":\"advent of code\",\"result_position\":4,\"click_id\":106239657,\"result\":{\"id\":106239657,\"global_relay_id\":\"MDEwOlJlcG9zaXRvcnkxMDYyMzk2NTc=\",\"model_name\":\"Repository\",\"url\":\"https://github.com/kodsnack/advent_of_code_2017\"},\"client_id\":null,\"originating_request_id\":\"EE85:591E:349F2F9:5DA4BC7:5DEFCCD0\",\"originating_url\":\"https://github.com/search?o=desc&amp;p=2&amp;q=advent+of+code&amp;s=stars&amp;type=Repositories\",\"referrer\":null,\"user_id\":null}}' data-hydro-click-hmac=\"5b4cf954cc67365902c224e46d8b967a72f78ad2a30751d9e6438cd35c69f975\" href=\"/kodsnack/advent_of_code_2017\">kodsnack/<em>advent</em>_<em>of</em>_<em>code</em>_2017</a>\n",
      "<a class=\"muted-link\" href=\"/kodsnack/advent_of_code_2017/stargazers\">\n",
      "<svg aria-label=\"star\" class=\"octicon octicon-star\" height=\"16\" role=\"img\" version=\"1.1\" viewbox=\"0 0 14 16\" width=\"14\"><path d=\"M14 6l-4.9-.64L7 1 4.9 5.36 0 6l3.6 3.26L2.67 14 7 11.67 11.33 14l-.93-4.74L14 6z\" fill-rule=\"evenodd\"></path></svg>\n",
      "          48\n",
      "        </a>\n",
      "<a class=\"v-align-middle\" data-hydro-click='{\"event_type\":\"search_result.click\",\"payload\":{\"page_number\":2,\"per_page\":10,\"query\":\"advent of code\",\"result_position\":5,\"click_id\":163079658,\"result\":{\"id\":163079658,\"global_relay_id\":\"MDEwOlJlcG9zaXRvcnkxNjMwNzk2NTg=\",\"model_name\":\"Repository\",\"url\":\"https://github.com/Diggsey/aoc2018\"},\"client_id\":null,\"originating_request_id\":\"EE85:591E:349F2F9:5DA4BC7:5DEFCCD0\",\"originating_url\":\"https://github.com/search?o=desc&amp;p=2&amp;q=advent+of+code&amp;s=stars&amp;type=Repositories\",\"referrer\":null,\"user_id\":null}}' data-hydro-click-hmac=\"1646e1dda09fa397f6f0a228fc828b2e27e217f74def9003738b25fc1ef8f2c9\" href=\"/Diggsey/aoc2018\">Diggsey/aoc2018</a>\n",
      "<a class=\"muted-link\" href=\"/Diggsey/aoc2018/stargazers\">\n",
      "<svg aria-label=\"star\" class=\"octicon octicon-star\" height=\"16\" role=\"img\" version=\"1.1\" viewbox=\"0 0 14 16\" width=\"14\"><path d=\"M14 6l-4.9-.64L7 1 4.9 5.36 0 6l3.6 3.26L2.67 14 7 11.67 11.33 14l-.93-4.74L14 6z\" fill-rule=\"evenodd\"></path></svg>\n",
      "          46\n",
      "        </a>\n",
      "<a class=\"v-align-middle\" data-hydro-click='{\"event_type\":\"search_result.click\",\"payload\":{\"page_number\":2,\"per_page\":10,\"query\":\"advent of code\",\"result_position\":6,\"click_id\":159585229,\"result\":{\"id\":159585229,\"global_relay_id\":\"MDEwOlJlcG9zaXRvcnkxNTk1ODUyMjk=\",\"model_name\":\"Repository\",\"url\":\"https://github.com/mhanberg/advent-of-code-elixir-starter\"},\"client_id\":null,\"originating_request_id\":\"EE85:591E:349F2F9:5DA4BC7:5DEFCCD0\",\"originating_url\":\"https://github.com/search?o=desc&amp;p=2&amp;q=advent+of+code&amp;s=stars&amp;type=Repositories\",\"referrer\":null,\"user_id\":null}}' data-hydro-click-hmac=\"196cafc503d797c93ef2592fc9fe5e780fd2f4cc8834a173a109eb5fe76da451\" href=\"/mhanberg/advent-of-code-elixir-starter\">mhanberg/<em>advent</em>-<em>of</em>-<em>code</em>-elixir-starter</a>\n",
      "<a class=\"topic-tag topic-tag-link f6 my-1\" data-ga-click=\"Topic, search results\" data-octo-click=\"topic_click\" data-octo-dimensions=\"topic:elixir,repository_id:159585229,repository_nwo:mhanberg/&lt;em&gt;advent&lt;/em&gt;-&lt;em&gt;of&lt;/em&gt;-&lt;em&gt;code&lt;/em&gt;-elixir-starter,repository_public:true,repository_is_fork:false\" href=\"/topics/elixir\" title=\"Topic: elixir\">\n",
      "  elixir\n",
      "</a>\n",
      "<a class=\"topic-tag topic-tag-link f6 my-1\" data-ga-click=\"Topic, search results\" data-octo-click=\"topic_click\" data-octo-dimensions=\"topic:advent-of-code,repository_id:159585229,repository_nwo:mhanberg/&lt;em&gt;advent&lt;/em&gt;-&lt;em&gt;of&lt;/em&gt;-&lt;em&gt;code&lt;/em&gt;-elixir-starter,repository_public:true,repository_is_fork:false\" href=\"/topics/advent-of-code\" title=\"Topic: advent-of-code\">\n",
      "  advent-of-code\n",
      "</a>\n",
      "<a class=\"topic-tag topic-tag-link f6 my-1\" data-ga-click=\"Topic, search results\" data-octo-click=\"topic_click\" data-octo-dimensions=\"topic:adventofcode,repository_id:159585229,repository_nwo:mhanberg/&lt;em&gt;advent&lt;/em&gt;-&lt;em&gt;of&lt;/em&gt;-&lt;em&gt;code&lt;/em&gt;-elixir-starter,repository_public:true,repository_is_fork:false\" href=\"/topics/adventofcode\" title=\"Topic: adventofcode\">\n",
      "  adventofcode\n",
      "</a>\n",
      "<a class=\"muted-link\" href=\"/mhanberg/advent-of-code-elixir-starter/stargazers\">\n",
      "<svg aria-label=\"star\" class=\"octicon octicon-star\" height=\"16\" role=\"img\" version=\"1.1\" viewbox=\"0 0 14 16\" width=\"14\"><path d=\"M14 6l-4.9-.64L7 1 4.9 5.36 0 6l3.6 3.26L2.67 14 7 11.67 11.33 14l-.93-4.74L14 6z\" fill-rule=\"evenodd\"></path></svg>\n",
      "          44\n",
      "        </a>\n",
      "<a class=\"v-align-middle\" data-hydro-click='{\"event_type\":\"search_result.click\",\"payload\":{\"page_number\":2,\"per_page\":10,\"query\":\"advent of code\",\"result_position\":7,\"click_id\":219867330,\"result\":{\"id\":219867330,\"global_relay_id\":\"MDEwOlJlcG9zaXRvcnkyMTk4NjczMzA=\",\"model_name\":\"Repository\",\"url\":\"https://github.com/mstksg/advent-of-code-2019\"},\"client_id\":null,\"originating_request_id\":\"EE85:591E:349F2F9:5DA4BC7:5DEFCCD0\",\"originating_url\":\"https://github.com/search?o=desc&amp;p=2&amp;q=advent+of+code&amp;s=stars&amp;type=Repositories\",\"referrer\":null,\"user_id\":null}}' data-hydro-click-hmac=\"4da0e6c0017ff4e29ecdec1b97ec7f8b9d406ed1bc4361769ecfcc3576bf2f23\" href=\"/mstksg/advent-of-code-2019\">mstksg/<em>advent</em>-<em>of</em>-<em>code</em>-2019</a>\n",
      "<a class=\"topic-tag topic-tag-link f6 my-1\" data-ga-click=\"Topic, search results\" data-octo-click=\"topic_click\" data-octo-dimensions=\"topic:advent-of-code,repository_id:219867330,repository_nwo:mstksg/&lt;em&gt;advent&lt;/em&gt;-&lt;em&gt;of&lt;/em&gt;-&lt;em&gt;code&lt;/em&gt;-2019,repository_public:true,repository_is_fork:false\" href=\"/topics/advent-of-code\" title=\"Topic: advent-of-code\">\n",
      "  advent-of-code\n",
      "</a>\n",
      "<a class=\"topic-tag topic-tag-link f6 my-1\" data-ga-click=\"Topic, search results\" data-octo-click=\"topic_click\" data-octo-dimensions=\"topic:advent-of-code-2019,repository_id:219867330,repository_nwo:mstksg/&lt;em&gt;advent&lt;/em&gt;-&lt;em&gt;of&lt;/em&gt;-&lt;em&gt;code&lt;/em&gt;-2019,repository_public:true,repository_is_fork:false\" href=\"/topics/advent-of-code-2019\" title=\"Topic: advent-of-code-2019\">\n",
      "  advent-of-code-2019\n",
      "</a>\n",
      "<a class=\"muted-link\" href=\"/mstksg/advent-of-code-2019/stargazers\">\n",
      "<svg aria-label=\"star\" class=\"octicon octicon-star\" height=\"16\" role=\"img\" version=\"1.1\" viewbox=\"0 0 14 16\" width=\"14\"><path d=\"M14 6l-4.9-.64L7 1 4.9 5.36 0 6l3.6 3.26L2.67 14 7 11.67 11.33 14l-.93-4.74L14 6z\" fill-rule=\"evenodd\"></path></svg>\n",
      "          44\n",
      "        </a>\n",
      "<a class=\"v-align-middle\" data-hydro-click='{\"event_type\":\"search_result.click\",\"payload\":{\"page_number\":2,\"per_page\":10,\"query\":\"advent of code\",\"result_position\":8,\"click_id\":158674335,\"result\":{\"id\":158674335,\"global_relay_id\":\"MDEwOlJlcG9zaXRvcnkxNTg2NzQzMzU=\",\"model_name\":\"Repository\",\"url\":\"https://github.com/borkdude/advent-of-cljc\"},\"client_id\":null,\"originating_request_id\":\"EE85:591E:349F2F9:5DA4BC7:5DEFCCD0\",\"originating_url\":\"https://github.com/search?o=desc&amp;p=2&amp;q=advent+of+code&amp;s=stars&amp;type=Repositories\",\"referrer\":null,\"user_id\":null}}' data-hydro-click-hmac=\"24912cbde73ab7429414b2da8ebcf55609ae58dd499e78db355b530b968ca2ee\" href=\"/borkdude/advent-of-cljc\">borkdude/<em>advent</em>-<em>of</em>-cljc</a>\n",
      "<a class=\"topic-tag topic-tag-link f6 my-1\" data-ga-click=\"Topic, search results\" data-octo-click=\"topic_click\" data-octo-dimensions=\"topic:clojure,repository_id:158674335,repository_nwo:borkdude/&lt;em&gt;advent&lt;/em&gt;-&lt;em&gt;of&lt;/em&gt;-cljc,repository_public:true,repository_is_fork:false\" href=\"/topics/clojure\" title=\"Topic: clojure\">\n",
      "  clojure\n",
      "</a>\n",
      "<a class=\"topic-tag topic-tag-link f6 my-1\" data-ga-click=\"Topic, search results\" data-octo-click=\"topic_click\" data-octo-dimensions=\"topic:cljc,repository_id:158674335,repository_nwo:borkdude/&lt;em&gt;advent&lt;/em&gt;-&lt;em&gt;of&lt;/em&gt;-cljc,repository_public:true,repository_is_fork:false\" href=\"/topics/cljc\" title=\"Topic: cljc\">\n",
      "  cljc\n",
      "</a>\n",
      "<a class=\"topic-tag topic-tag-link f6 my-1\" data-ga-click=\"Topic, search results\" data-octo-click=\"topic_click\" data-octo-dimensions=\"topic:clojurescript,repository_id:158674335,repository_nwo:borkdude/&lt;em&gt;advent&lt;/em&gt;-&lt;em&gt;of&lt;/em&gt;-cljc,repository_public:true,repository_is_fork:false\" href=\"/topics/clojurescript\" title=\"Topic: clojurescript\">\n",
      "  clojurescript\n",
      "</a>\n",
      "<a class=\"topic-tag topic-tag-link f6 my-1\" data-ga-click=\"Topic, search results\" data-octo-click=\"topic_click\" data-octo-dimensions=\"topic:advent-of-code,repository_id:158674335,repository_nwo:borkdude/&lt;em&gt;advent&lt;/em&gt;-&lt;em&gt;of&lt;/em&gt;-cljc,repository_public:true,repository_is_fork:false\" href=\"/topics/advent-of-code\" title=\"Topic: advent-of-code\">\n",
      "  advent-of-code\n",
      "</a>\n",
      "<a class=\"topic-tag topic-tag-link f6 my-1\" data-ga-click=\"Topic, search results\" data-octo-click=\"topic_click\" data-octo-dimensions=\"topic:clojure-spec,repository_id:158674335,repository_nwo:borkdude/&lt;em&gt;advent&lt;/em&gt;-&lt;em&gt;of&lt;/em&gt;-cljc,repository_public:true,repository_is_fork:false\" href=\"/topics/clojure-spec\" title=\"Topic: clojure-spec\">\n",
      "  clojure-spec\n",
      "</a>\n",
      "<a class=\"muted-link\" href=\"/borkdude/advent-of-cljc/stargazers\">\n",
      "<svg aria-label=\"star\" class=\"octicon octicon-star\" height=\"16\" role=\"img\" version=\"1.1\" viewbox=\"0 0 14 16\" width=\"14\"><path d=\"M14 6l-4.9-.64L7 1 4.9 5.36 0 6l3.6 3.26L2.67 14 7 11.67 11.33 14l-.93-4.74L14 6z\" fill-rule=\"evenodd\"></path></svg>\n",
      "          43\n",
      "        </a>\n",
      "<a class=\"v-align-middle\" data-hydro-click='{\"event_type\":\"search_result.click\",\"payload\":{\"page_number\":2,\"per_page\":10,\"query\":\"advent of code\",\"result_position\":9,\"click_id\":113982446,\"result\":{\"id\":113982446,\"global_relay_id\":\"MDEwOlJlcG9zaXRvcnkxMTM5ODI0NDY=\",\"model_name\":\"Repository\",\"url\":\"https://github.com/BartoszMilewski/AofC2017\"},\"client_id\":null,\"originating_request_id\":\"EE85:591E:349F2F9:5DA4BC7:5DEFCCD0\",\"originating_url\":\"https://github.com/search?o=desc&amp;p=2&amp;q=advent+of+code&amp;s=stars&amp;type=Repositories\",\"referrer\":null,\"user_id\":null}}' data-hydro-click-hmac=\"da0262de9da3e7c4c037d0fac3ad501020bb0a8128e16b8bb891680bf5379fcf\" href=\"/BartoszMilewski/AofC2017\">BartoszMilewski/AofC2017</a>\n",
      "<a class=\"muted-link\" href=\"/BartoszMilewski/AofC2017/stargazers\">\n",
      "<svg aria-label=\"star\" class=\"octicon octicon-star\" height=\"16\" role=\"img\" version=\"1.1\" viewbox=\"0 0 14 16\" width=\"14\"><path d=\"M14 6l-4.9-.64L7 1 4.9 5.36 0 6l3.6 3.26L2.67 14 7 11.67 11.33 14l-.93-4.74L14 6z\" fill-rule=\"evenodd\"></path></svg>\n",
      "          41\n",
      "        </a>\n",
      "<a class=\"v-align-middle\" data-hydro-click='{\"event_type\":\"search_result.click\",\"payload\":{\"page_number\":2,\"per_page\":10,\"query\":\"advent of code\",\"result_position\":10,\"click_id\":225060905,\"result\":{\"id\":225060905,\"global_relay_id\":\"MDEwOlJlcG9zaXRvcnkyMjUwNjA5MDU=\",\"model_name\":\"Repository\",\"url\":\"https://github.com/zero-to-mastery/coding_challenge-24\"},\"client_id\":null,\"originating_request_id\":\"EE85:591E:349F2F9:5DA4BC7:5DEFCCD0\",\"originating_url\":\"https://github.com/search?o=desc&amp;p=2&amp;q=advent+of+code&amp;s=stars&amp;type=Repositories\",\"referrer\":null,\"user_id\":null}}' data-hydro-click-hmac=\"6f51bb91229139942864bd2b752555160be30691070258c08713aec2fae06614\" href=\"/zero-to-mastery/coding_challenge-24\">zero-to-mastery/coding_challenge-24</a>\n",
      "<a class=\"muted-link\" href=\"/zero-to-mastery/coding_challenge-24/stargazers\">\n",
      "<svg aria-label=\"star\" class=\"octicon octicon-star\" height=\"16\" role=\"img\" version=\"1.1\" viewbox=\"0 0 14 16\" width=\"14\"><path d=\"M14 6l-4.9-.64L7 1 4.9 5.36 0 6l3.6 3.26L2.67 14 7 11.67 11.33 14l-.93-4.74L14 6z\" fill-rule=\"evenodd\"></path></svg>\n",
      "          40\n",
      "        </a></body></html>\n"
     ]
    }
   ],
   "source": [
    "print(soup)"
   ]
  },
  {
   "cell_type": "code",
   "execution_count": 45,
   "metadata": {},
   "outputs": [
    {
     "data": {
      "text/plain": [
       "['https://github.com/mfikes/advent-of-code',\n",
       " 'https://github.com/dlew/aoc-2017',\n",
       " 'https://github.com/mstksg/advent-of-code-2017',\n",
       " 'https://github.com/kodsnack/advent_of_code_2017',\n",
       " 'https://github.com/Diggsey/aoc2018',\n",
       " 'https://github.com/mhanberg/advent-of-code-elixir-starter',\n",
       " 'https://github.com/mstksg/advent-of-code-2019',\n",
       " 'https://github.com/borkdude/advent-of-cljc',\n",
       " 'https://github.com/BartoszMilewski/AofC2017',\n",
       " 'https://github.com/zero-to-mastery/coding_challenge-24']"
      ]
     },
     "execution_count": 45,
     "metadata": {},
     "output_type": "execute_result"
    }
   ],
   "source": [
    "re_url = re.compile(r'\"url\"\\:\"(.+?)\"')\n",
    "urllist = re_url.findall(str(soup))\n",
    "\n",
    "urllist"
   ]
  },
  {
   "cell_type": "code",
   "execution_count": null,
   "metadata": {},
   "outputs": [],
   "source": []
  }
 ],
 "metadata": {
  "kernelspec": {
   "display_name": "Python 3",
   "language": "python",
   "name": "python3"
  },
  "language_info": {
   "codemirror_mode": {
    "name": "ipython",
    "version": 3
   },
   "file_extension": ".py",
   "mimetype": "text/x-python",
   "name": "python",
   "nbconvert_exporter": "python",
   "pygments_lexer": "ipython3",
   "version": "3.7.3"
  }
 },
 "nbformat": 4,
 "nbformat_minor": 2
}
