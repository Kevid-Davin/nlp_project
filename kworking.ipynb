{
 "cells": [
  {
   "cell_type": "code",
   "execution_count": 1,
   "metadata": {},
   "outputs": [],
   "source": [
    "###############################################################################\n",
    "### pthon imports                                                           ###\n",
    "###############################################################################\n",
    "\n",
    "from os import path\n",
    "from requests import get\n",
    "from bs4 import BeautifulSoup\n",
    "import os\n",
    "import pandas as pd\n",
    "import re"
   ]
  },
  {
   "cell_type": "code",
   "execution_count": 2,
   "metadata": {},
   "outputs": [],
   "source": [
    "###############################################################################\n",
    "### local imports                                                           ###\n",
    "###############################################################################\n",
    "\n",
    "import zachquire as zaq"
   ]
  },
  {
   "cell_type": "code",
   "execution_count": 3,
   "metadata": {},
   "outputs": [],
   "source": [
    "def find_file(\n",
    "    file_name='path/file.txt',\n",
    "    cache=False,\n",
    "    cache_age=None\n",
    "    ):\n",
    "\n",
    "    if cache==False:\n",
    "        return None\n",
    "    \n",
    "    return path.exists(file_name)"
   ]
  },
  {
   "cell_type": "code",
   "execution_count": 4,
   "metadata": {},
   "outputs": [],
   "source": [
    "def get_soup(\n",
    "    url='https://github.com/search?o=desc&p=1&q=advent+of+code&s=stars&type=Repositories',\n",
    "    headers={'User-Agent': 'Nothing suspicious'},\n",
    "    file_name='soupfiles/gitsearch.txt',\n",
    "    cache=False,\n",
    "    cache_age=None,\n",
    "    soup_slurper='*'\n",
    "):\n",
    "    # if we already have the data, read it locally\n",
    "    file_found = find_file(file_name=file_name, cache=cache, cache_age=cache_age)\n",
    "    if file_found:\n",
    "        with open(file_name) as f:\n",
    "            return BeautifulSoup(f.read())\n",
    "\n",
    "    # otherwise go fetch the data\n",
    "    response = get(url, headers=headers)\n",
    "    soup = BeautifulSoup(response.text)\n",
    "    print(soup)\n",
    "    slurps = soup.select(soup_slurper)\n",
    "    print(len(slurps))\n",
    "    print(str(slurps[0]))\n",
    "\n",
    "    # save it for next time\n",
    "    with open(file_name, 'w') as f:\n",
    "        f.write(str(slurps[0]))\n",
    "        if len(slurps)>1:\n",
    "            for slurp in slurps[1:]:\n",
    "                print(str(slurp))\n",
    "                f.write('\\n' + str(slurp))\n",
    "        \n",
    "    with open(file_name) as f:    \n",
    "        soup = BeautifulSoup(f.read())\n",
    "#     pd.to_csv(slurps, header=None, index=False)\n",
    "\n",
    "    return soup"
   ]
  },
  {
   "cell_type": "code",
   "execution_count": 5,
   "metadata": {},
   "outputs": [],
   "source": [
    "soup = get_soup(\n",
    "    url='https://github.com/search?o=desc&p=2&q=advent+of+code&s=stars&type=Repositories',\n",
    "    cache=True,\n",
    "    soup_slurper='.repo-list-item a',\n",
    "    file_name='soupfiles/gitsearch.txt'\n",
    ")"
   ]
  },
  {
   "cell_type": "code",
   "execution_count": 6,
   "metadata": {},
   "outputs": [],
   "source": [
    "# print(soup)"
   ]
  },
  {
   "cell_type": "code",
   "execution_count": 7,
   "metadata": {},
   "outputs": [
    {
     "data": {
      "text/plain": [
       "['https://github.com/mfikes/advent-of-code',\n",
       " 'https://github.com/dlew/aoc-2017',\n",
       " 'https://github.com/mstksg/advent-of-code-2017',\n",
       " 'https://github.com/kodsnack/advent_of_code_2017',\n",
       " 'https://github.com/Diggsey/aoc2018',\n",
       " 'https://github.com/mstksg/advent-of-code-2019',\n",
       " 'https://github.com/mhanberg/advent-of-code-elixir-starter',\n",
       " 'https://github.com/borkdude/advent-of-cljc',\n",
       " 'https://github.com/BartoszMilewski/AofC2017',\n",
       " 'https://github.com/zero-to-mastery/coding_challenge-24']"
      ]
     },
     "execution_count": 7,
     "metadata": {},
     "output_type": "execute_result"
    }
   ],
   "source": [
    "re_url = re.compile(r'\"url\"\\:\"(.+?)\"')\n",
    "urllist = re_url.findall(str(soup))\n",
    "\n",
    "urllist"
   ]
  },
  {
   "cell_type": "code",
   "execution_count": 8,
   "metadata": {},
   "outputs": [],
   "source": [
    "# souprepo = get_soup(\n",
    "#     url = 'https://github.com/mfikes/advent-of-code',\n",
    "#     file_name = 'soupfiles/mfikes_advent-of-code.html',\n",
    "#     soup_slurper='html',\n",
    "#     cache = False\n",
    "# )\n"
   ]
  },
  {
   "cell_type": "code",
   "execution_count": 9,
   "metadata": {},
   "outputs": [],
   "source": [
    "# souprepo = get_soup(\n",
    "#     url = 'https://github.com/Diggsey/aoc2018',\n",
    "#     file_name = 'soupfiles/diggsey_aoc2018.html',\n",
    "#     soup_slurper='html',\n",
    "#     cache = False\n",
    "# )"
   ]
  },
  {
   "cell_type": "code",
   "execution_count": 10,
   "metadata": {},
   "outputs": [],
   "source": [
    "# souprepo = get_soup(\n",
    "#     url = 'https://github.com/mhanberg/advent-of-code-elixir-starter',\n",
    "#     file_name = 'soupfiles/mhanberg_advent-of-code-elixir-starter.html',\n",
    "#     soup_slurper='html',\n",
    "#     cache = False\n",
    "# )"
   ]
  },
  {
   "cell_type": "code",
   "execution_count": 11,
   "metadata": {},
   "outputs": [],
   "source": [
    "# Library imports for sending request, parsing HTML, and pandas\n",
    "from requests import get\n",
    "from bs4 import BeautifulSoup\n",
    "import pandas as pd\n",
    "# Example list of URLs from GitHub\n",
    "urls = [\n",
    "    \"https://github.com/mfikes/advent-of-code\",\n",
    "    \"https://github.com/ryanorsinger/intro-to-machine-learning-workshop\",\n",
    "    'https://github.com/Diggsey/aoc2018',\n",
    "    \"https://github.com/kjeliasen/AdventOfCode\",\n",
    "    'https://github.com/mhanberg/advent-of-code-elixir-starter'\n",
    "]\n",
    "output = []\n",
    "for url in urls:\n",
    "    request = get(url)\n",
    "    soup = BeautifulSoup(request.text)\n",
    "    title = url.split(\"/\")[-1]\n",
    "    language_info = soup.select_one(\".repository-lang-stats-numbers\")\n",
    "    languages = [language.get_text() for language in language_info.select(\".lang\")]\n",
    "    percentages = [percentage.get_text() for percentage in language_info.select(\".percent\")]\n",
    "    readme = soup.select_one(\"#readme article\")\n",
    "    repo_data = {}\n",
    "    repo_data[\"title\"] = title\n",
    "    repo_data[\"readme\"] = readme\n",
    "    repo_data[\"languages\"] = languages\n",
    "    repo_data[\"language_percentages\"] = percentages\n",
    "    output.append(repo_data)\n",
    "df = pd.DataFrame(output)\n",
    "df.to_csv(\"soupfiles/all_repo_data.csv\")"
   ]
  },
  {
   "cell_type": "code",
   "execution_count": 12,
   "metadata": {},
   "outputs": [
    {
     "data": {
      "text/html": [
       "<div>\n",
       "<style scoped>\n",
       "    .dataframe tbody tr th:only-of-type {\n",
       "        vertical-align: middle;\n",
       "    }\n",
       "\n",
       "    .dataframe tbody tr th {\n",
       "        vertical-align: top;\n",
       "    }\n",
       "\n",
       "    .dataframe thead th {\n",
       "        text-align: right;\n",
       "    }\n",
       "</style>\n",
       "<table border=\"1\" class=\"dataframe\">\n",
       "  <thead>\n",
       "    <tr style=\"text-align: right;\">\n",
       "      <th></th>\n",
       "      <th>language_percentages</th>\n",
       "      <th>languages</th>\n",
       "      <th>readme</th>\n",
       "      <th>title</th>\n",
       "    </tr>\n",
       "  </thead>\n",
       "  <tbody>\n",
       "    <tr>\n",
       "      <th>0</th>\n",
       "      <td>[100.0%]</td>\n",
       "      <td>[Clojure]</td>\n",
       "      <td>&lt;article class=\"markdown-body entry-content p-...</td>\n",
       "      <td>advent-of-code</td>\n",
       "    </tr>\n",
       "    <tr>\n",
       "      <th>1</th>\n",
       "      <td>[100.0%]</td>\n",
       "      <td>[Jupyter Notebook]</td>\n",
       "      <td>&lt;article class=\"markdown-body entry-content p-...</td>\n",
       "      <td>intro-to-machine-learning-workshop</td>\n",
       "    </tr>\n",
       "    <tr>\n",
       "      <th>2</th>\n",
       "      <td>[100.0%]</td>\n",
       "      <td>[Rust]</td>\n",
       "      <td>None</td>\n",
       "      <td>aoc2018</td>\n",
       "    </tr>\n",
       "    <tr>\n",
       "      <th>3</th>\n",
       "      <td>[96.0%, 4.0%]</td>\n",
       "      <td>[Jupyter Notebook, Python]</td>\n",
       "      <td>&lt;article class=\"markdown-body entry-content p-...</td>\n",
       "      <td>AdventOfCode</td>\n",
       "    </tr>\n",
       "    <tr>\n",
       "      <th>4</th>\n",
       "      <td>[100.0%]</td>\n",
       "      <td>[Elixir]</td>\n",
       "      <td>&lt;article class=\"markdown-body entry-content p-...</td>\n",
       "      <td>advent-of-code-elixir-starter</td>\n",
       "    </tr>\n",
       "  </tbody>\n",
       "</table>\n",
       "</div>"
      ],
      "text/plain": [
       "  language_percentages                   languages  \\\n",
       "0             [100.0%]                   [Clojure]   \n",
       "1             [100.0%]          [Jupyter Notebook]   \n",
       "2             [100.0%]                      [Rust]   \n",
       "3        [96.0%, 4.0%]  [Jupyter Notebook, Python]   \n",
       "4             [100.0%]                    [Elixir]   \n",
       "\n",
       "                                              readme  \\\n",
       "0  <article class=\"markdown-body entry-content p-...   \n",
       "1  <article class=\"markdown-body entry-content p-...   \n",
       "2                                               None   \n",
       "3  <article class=\"markdown-body entry-content p-...   \n",
       "4  <article class=\"markdown-body entry-content p-...   \n",
       "\n",
       "                                title  \n",
       "0                      advent-of-code  \n",
       "1  intro-to-machine-learning-workshop  \n",
       "2                             aoc2018  \n",
       "3                        AdventOfCode  \n",
       "4       advent-of-code-elixir-starter  "
      ]
     },
     "execution_count": 12,
     "metadata": {},
     "output_type": "execute_result"
    }
   ],
   "source": [
    "df"
   ]
  },
  {
   "cell_type": "code",
   "execution_count": 13,
   "metadata": {},
   "outputs": [
    {
     "data": {
      "text/plain": [
       "['mfikes/advent-of-code',\n",
       " 'dlew/aoc-2017',\n",
       " 'mstksg/advent-of-code-2017',\n",
       " 'kodsnack/advent_of_code_2017',\n",
       " 'Diggsey/aoc2018',\n",
       " 'mstksg/advent-of-code-2019',\n",
       " 'mhanberg/advent-of-code-elixir-starter',\n",
       " 'borkdude/advent-of-cljc',\n",
       " 'BartoszMilewski/AofC2017',\n",
       " 'zero-to-mastery/coding_challenge-24']"
      ]
     },
     "execution_count": 13,
     "metadata": {},
     "output_type": "execute_result"
    }
   ],
   "source": [
    "re_repo = re.compile(r'https\\://github.com/(.+?)$')\n",
    "repolist = [re_repo.findall(url)[0] for url in urllist]\n",
    "repolist"
   ]
  },
  {
   "cell_type": "code",
   "execution_count": 14,
   "metadata": {},
   "outputs": [
    {
     "name": "stdout",
     "output_type": "stream",
     "text": [
      "mfikes/advent-of-code\n",
      "https://raw.githubusercontent.com/mfikes/advent-of-code/master/README.md <class 'str'>\n",
      "dlew/aoc-2017\n",
      "https://raw.githubusercontent.com/dlew/aoc-2017/master/README.md <class 'str'>\n",
      "mstksg/advent-of-code-2017\n",
      "https://raw.githubusercontent.com/mstksg/advent-of-code-2017/master/README.md <class 'str'>\n",
      "kodsnack/advent_of_code_2017\n",
      "https://raw.githubusercontent.com/kodsnack/advent_of_code_2017/master/README.md <class 'str'>\n",
      "Diggsey/aoc2018\n",
      "None <class 'NoneType'>\n",
      "mstksg/advent-of-code-2019\n",
      "https://raw.githubusercontent.com/mstksg/advent-of-code-2019/master/README.md <class 'str'>\n",
      "mhanberg/advent-of-code-elixir-starter\n",
      "https://raw.githubusercontent.com/mhanberg/advent-of-code-elixir-starter/master/README.md <class 'str'>\n",
      "borkdude/advent-of-cljc\n",
      "https://raw.githubusercontent.com/borkdude/advent-of-cljc/master/README.md <class 'str'>\n",
      "BartoszMilewski/AofC2017\n",
      "https://raw.githubusercontent.com/BartoszMilewski/AofC2017/master/README.md <class 'str'>\n",
      "zero-to-mastery/coding_challenge-24\n",
      "https://raw.githubusercontent.com/zero-to-mastery/coding_challenge-24/master/README.md <class 'str'>\n"
     ]
    }
   ],
   "source": [
    "filepath = \"datafiles/data.json\"\n",
    "zaq.scrape_github_data(repos=repolist, filepath=filepath)\n",
    "git_json = pd.read_json(filepath)"
   ]
  },
  {
   "cell_type": "code",
   "execution_count": 15,
   "metadata": {},
   "outputs": [
    {
     "data": {
      "text/html": [
       "<div>\n",
       "<style scoped>\n",
       "    .dataframe tbody tr th:only-of-type {\n",
       "        vertical-align: middle;\n",
       "    }\n",
       "\n",
       "    .dataframe tbody tr th {\n",
       "        vertical-align: top;\n",
       "    }\n",
       "\n",
       "    .dataframe thead th {\n",
       "        text-align: right;\n",
       "    }\n",
       "</style>\n",
       "<table border=\"1\" class=\"dataframe\">\n",
       "  <thead>\n",
       "    <tr style=\"text-align: right;\">\n",
       "      <th></th>\n",
       "      <th>language</th>\n",
       "      <th>readme_contents</th>\n",
       "      <th>repo</th>\n",
       "    </tr>\n",
       "  </thead>\n",
       "  <tbody>\n",
       "    <tr>\n",
       "      <th>0</th>\n",
       "      <td>Clojure</td>\n",
       "      <td># Advent of Code\\n\\n[Advent of Code](http://ad...</td>\n",
       "      <td>mfikes/advent-of-code</td>\n",
       "    </tr>\n",
       "    <tr>\n",
       "      <th>1</th>\n",
       "      <td>Kotlin</td>\n",
       "      <td># Advent of Code 2017\\n\\nHere's a blank templa...</td>\n",
       "      <td>dlew/aoc-2017</td>\n",
       "    </tr>\n",
       "    <tr>\n",
       "      <th>2</th>\n",
       "      <td>Haskell</td>\n",
       "      <td>Advent of Code 2017\\n===================\\n\\n*[...</td>\n",
       "      <td>mstksg/advent-of-code-2017</td>\n",
       "    </tr>\n",
       "    <tr>\n",
       "      <th>3</th>\n",
       "      <td>Python</td>\n",
       "      <td># Advent of code 2017 #\\nBidra med dina lösnin...</td>\n",
       "      <td>kodsnack/advent_of_code_2017</td>\n",
       "    </tr>\n",
       "    <tr>\n",
       "      <th>4</th>\n",
       "      <td>Rust</td>\n",
       "      <td>None</td>\n",
       "      <td>Diggsey/aoc2018</td>\n",
       "    </tr>\n",
       "    <tr>\n",
       "      <th>5</th>\n",
       "      <td>Haskell</td>\n",
       "      <td>Advent of Code 2019\\n=====================\\n\\n...</td>\n",
       "      <td>mstksg/advent-of-code-2019</td>\n",
       "    </tr>\n",
       "    <tr>\n",
       "      <th>6</th>\n",
       "      <td>Elixir</td>\n",
       "      <td># Advent of Code Elixir Starter\\n\\nA batteries...</td>\n",
       "      <td>mhanberg/advent-of-code-elixir-starter</td>\n",
       "    </tr>\n",
       "    <tr>\n",
       "      <th>7</th>\n",
       "      <td>Clojure</td>\n",
       "      <td># Advent of CLJC\\n[![CircleCI](https://circlec...</td>\n",
       "      <td>borkdude/advent-of-cljc</td>\n",
       "    </tr>\n",
       "    <tr>\n",
       "      <th>8</th>\n",
       "      <td>Haskell</td>\n",
       "      <td># AofC2017\\nAdvent of Code 2017\\n</td>\n",
       "      <td>BartoszMilewski/AofC2017</td>\n",
       "    </tr>\n",
       "    <tr>\n",
       "      <th>9</th>\n",
       "      <td>None</td>\n",
       "      <td># Advent of Code 2019 (coding_challenge-24)\\n\\...</td>\n",
       "      <td>zero-to-mastery/coding_challenge-24</td>\n",
       "    </tr>\n",
       "  </tbody>\n",
       "</table>\n",
       "</div>"
      ],
      "text/plain": [
       "  language                                    readme_contents  \\\n",
       "0  Clojure  # Advent of Code\\n\\n[Advent of Code](http://ad...   \n",
       "1   Kotlin  # Advent of Code 2017\\n\\nHere's a blank templa...   \n",
       "2  Haskell  Advent of Code 2017\\n===================\\n\\n*[...   \n",
       "3   Python  # Advent of code 2017 #\\nBidra med dina lösnin...   \n",
       "4     Rust                                               None   \n",
       "5  Haskell  Advent of Code 2019\\n=====================\\n\\n...   \n",
       "6   Elixir  # Advent of Code Elixir Starter\\n\\nA batteries...   \n",
       "7  Clojure  # Advent of CLJC\\n[![CircleCI](https://circlec...   \n",
       "8  Haskell                  # AofC2017\\nAdvent of Code 2017\\n   \n",
       "9     None  # Advent of Code 2019 (coding_challenge-24)\\n\\...   \n",
       "\n",
       "                                     repo  \n",
       "0                   mfikes/advent-of-code  \n",
       "1                           dlew/aoc-2017  \n",
       "2              mstksg/advent-of-code-2017  \n",
       "3            kodsnack/advent_of_code_2017  \n",
       "4                         Diggsey/aoc2018  \n",
       "5              mstksg/advent-of-code-2019  \n",
       "6  mhanberg/advent-of-code-elixir-starter  \n",
       "7                 borkdude/advent-of-cljc  \n",
       "8                BartoszMilewski/AofC2017  \n",
       "9     zero-to-mastery/coding_challenge-24  "
      ]
     },
     "execution_count": 15,
     "metadata": {},
     "output_type": "execute_result"
    }
   ],
   "source": [
    "git_json"
   ]
  },
  {
   "cell_type": "code",
   "execution_count": null,
   "metadata": {},
   "outputs": [],
   "source": []
  }
 ],
 "metadata": {
  "kernelspec": {
   "display_name": "Python 3",
   "language": "python",
   "name": "python3"
  },
  "language_info": {
   "codemirror_mode": {
    "name": "ipython",
    "version": 3
   },
   "file_extension": ".py",
   "mimetype": "text/x-python",
   "name": "python",
   "nbconvert_exporter": "python",
   "pygments_lexer": "ipython3",
   "version": "3.7.3"
  }
 },
 "nbformat": 4,
 "nbformat_minor": 2
}
